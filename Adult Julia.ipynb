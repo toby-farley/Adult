{
 "cells": [
  {
   "cell_type": "code",
   "execution_count": 102,
   "id": "234be9db-5da7-4f98-9fb1-efda3675ad7f",
   "metadata": {},
   "outputs": [],
   "source": [
    "using CSV\n",
    "using DataFrames\n",
    "using RollingFunctions\n",
    "using StatsBase\n",
    "using ShiftedArrays"
   ]
  },
  {
   "cell_type": "code",
   "execution_count": 116,
   "id": "144fa255-85d2-4464-945f-ad3d5be2c973",
   "metadata": {},
   "outputs": [
    {
     "data": {
      "text/html": [
       "<div><div style = \"float: left;\"><span>48842×15 DataFrame</span></div><div style = \"float: right;\"><span style = \"font-style: italic;\">48817 rows omitted</span></div><div style = \"clear: both;\"></div></div><div class = \"data-frame\" style = \"overflow-x: scroll;\"><table class = \"data-frame\" style = \"margin-bottom: 6px;\"><thead><tr class = \"header\"><th class = \"rowNumber\" style = \"font-weight: bold; text-align: right;\">Row</th><th style = \"text-align: left;\">age</th><th style = \"text-align: left;\">workclass</th><th style = \"text-align: left;\">fnlwgt</th><th style = \"text-align: left;\">education</th><th style = \"text-align: left;\">education_num</th><th style = \"text-align: left;\">marital_status</th><th style = \"text-align: left;\">occupation</th><th style = \"text-align: left;\">relationship</th><th style = \"text-align: left;\">race</th><th style = \"text-align: left;\">sex</th><th style = \"text-align: left;\">capital_gain</th><th style = \"text-align: left;\">capital_loss</th><th style = \"text-align: left;\">hours_per_week</th><th style = \"text-align: left;\">native_country</th><th style = \"text-align: left;\">class</th></tr><tr class = \"subheader headerLastRow\"><th class = \"rowNumber\" style = \"font-weight: bold; text-align: right;\"></th><th title = \"Int64\" style = \"text-align: left;\">Int64</th><th title = \"Union{Missing, String31}\" style = \"text-align: left;\">String31?</th><th title = \"Int64\" style = \"text-align: left;\">Int64</th><th title = \"String15\" style = \"text-align: left;\">String15</th><th title = \"Int64\" style = \"text-align: left;\">Int64</th><th title = \"String31\" style = \"text-align: left;\">String31</th><th title = \"Union{Missing, String31}\" style = \"text-align: left;\">String31?</th><th title = \"String15\" style = \"text-align: left;\">String15</th><th title = \"String31\" style = \"text-align: left;\">String31</th><th title = \"String7\" style = \"text-align: left;\">String7</th><th title = \"Int64\" style = \"text-align: left;\">Int64</th><th title = \"Int64\" style = \"text-align: left;\">Int64</th><th title = \"Int64\" style = \"text-align: left;\">Int64</th><th title = \"Union{Missing, String31}\" style = \"text-align: left;\">String31?</th><th title = \"String7\" style = \"text-align: left;\">String7</th></tr></thead><tbody><tr><td class = \"rowNumber\" style = \"font-weight: bold; text-align: right;\">1</td><td style = \"text-align: right;\">25</td><td style = \"text-align: left;\">Private</td><td style = \"text-align: right;\">226802</td><td style = \"text-align: left;\">11th</td><td style = \"text-align: right;\">7</td><td style = \"text-align: left;\">Never-married</td><td style = \"text-align: left;\">Machine-op-inspct</td><td style = \"text-align: left;\">Own-child</td><td style = \"text-align: left;\">Black</td><td style = \"text-align: left;\">Male</td><td style = \"text-align: right;\">0</td><td style = \"text-align: right;\">0</td><td style = \"text-align: right;\">40</td><td style = \"text-align: left;\">United-States</td><td style = \"text-align: left;\">&lt;=50K</td></tr><tr><td class = \"rowNumber\" style = \"font-weight: bold; text-align: right;\">2</td><td style = \"text-align: right;\">38</td><td style = \"text-align: left;\">Private</td><td style = \"text-align: right;\">89814</td><td style = \"text-align: left;\">HS-grad</td><td style = \"text-align: right;\">9</td><td style = \"text-align: left;\">Married-civ-spouse</td><td style = \"text-align: left;\">Farming-fishing</td><td style = \"text-align: left;\">Husband</td><td style = \"text-align: left;\">White</td><td style = \"text-align: left;\">Male</td><td style = \"text-align: right;\">0</td><td style = \"text-align: right;\">0</td><td style = \"text-align: right;\">50</td><td style = \"text-align: left;\">United-States</td><td style = \"text-align: left;\">&lt;=50K</td></tr><tr><td class = \"rowNumber\" style = \"font-weight: bold; text-align: right;\">3</td><td style = \"text-align: right;\">28</td><td style = \"text-align: left;\">Local-gov</td><td style = \"text-align: right;\">336951</td><td style = \"text-align: left;\">Assoc-acdm</td><td style = \"text-align: right;\">12</td><td style = \"text-align: left;\">Married-civ-spouse</td><td style = \"text-align: left;\">Protective-serv</td><td style = \"text-align: left;\">Husband</td><td style = \"text-align: left;\">White</td><td style = \"text-align: left;\">Male</td><td style = \"text-align: right;\">0</td><td style = \"text-align: right;\">0</td><td style = \"text-align: right;\">40</td><td style = \"text-align: left;\">United-States</td><td style = \"text-align: left;\">&gt;50K</td></tr><tr><td class = \"rowNumber\" style = \"font-weight: bold; text-align: right;\">4</td><td style = \"text-align: right;\">44</td><td style = \"text-align: left;\">Private</td><td style = \"text-align: right;\">160323</td><td style = \"text-align: left;\">Some-college</td><td style = \"text-align: right;\">10</td><td style = \"text-align: left;\">Married-civ-spouse</td><td style = \"text-align: left;\">Machine-op-inspct</td><td style = \"text-align: left;\">Husband</td><td style = \"text-align: left;\">Black</td><td style = \"text-align: left;\">Male</td><td style = \"text-align: right;\">7688</td><td style = \"text-align: right;\">0</td><td style = \"text-align: right;\">40</td><td style = \"text-align: left;\">United-States</td><td style = \"text-align: left;\">&gt;50K</td></tr><tr><td class = \"rowNumber\" style = \"font-weight: bold; text-align: right;\">5</td><td style = \"text-align: right;\">18</td><td style = \"font-style: italic; text-align: left;\">missing</td><td style = \"text-align: right;\">103497</td><td style = \"text-align: left;\">Some-college</td><td style = \"text-align: right;\">10</td><td style = \"text-align: left;\">Never-married</td><td style = \"font-style: italic; text-align: left;\">missing</td><td style = \"text-align: left;\">Own-child</td><td style = \"text-align: left;\">White</td><td style = \"text-align: left;\">Female</td><td style = \"text-align: right;\">0</td><td style = \"text-align: right;\">0</td><td style = \"text-align: right;\">30</td><td style = \"text-align: left;\">United-States</td><td style = \"text-align: left;\">&lt;=50K</td></tr><tr><td class = \"rowNumber\" style = \"font-weight: bold; text-align: right;\">6</td><td style = \"text-align: right;\">34</td><td style = \"text-align: left;\">Private</td><td style = \"text-align: right;\">198693</td><td style = \"text-align: left;\">10th</td><td style = \"text-align: right;\">6</td><td style = \"text-align: left;\">Never-married</td><td style = \"text-align: left;\">Other-service</td><td style = \"text-align: left;\">Not-in-family</td><td style = \"text-align: left;\">White</td><td style = \"text-align: left;\">Male</td><td style = \"text-align: right;\">0</td><td style = \"text-align: right;\">0</td><td style = \"text-align: right;\">30</td><td style = \"text-align: left;\">United-States</td><td style = \"text-align: left;\">&lt;=50K</td></tr><tr><td class = \"rowNumber\" style = \"font-weight: bold; text-align: right;\">7</td><td style = \"text-align: right;\">29</td><td style = \"font-style: italic; text-align: left;\">missing</td><td style = \"text-align: right;\">227026</td><td style = \"text-align: left;\">HS-grad</td><td style = \"text-align: right;\">9</td><td style = \"text-align: left;\">Never-married</td><td style = \"font-style: italic; text-align: left;\">missing</td><td style = \"text-align: left;\">Unmarried</td><td style = \"text-align: left;\">Black</td><td style = \"text-align: left;\">Male</td><td style = \"text-align: right;\">0</td><td style = \"text-align: right;\">0</td><td style = \"text-align: right;\">40</td><td style = \"text-align: left;\">United-States</td><td style = \"text-align: left;\">&lt;=50K</td></tr><tr><td class = \"rowNumber\" style = \"font-weight: bold; text-align: right;\">8</td><td style = \"text-align: right;\">63</td><td style = \"text-align: left;\">Self-emp-not-inc</td><td style = \"text-align: right;\">104626</td><td style = \"text-align: left;\">Prof-school</td><td style = \"text-align: right;\">15</td><td style = \"text-align: left;\">Married-civ-spouse</td><td style = \"text-align: left;\">Prof-specialty</td><td style = \"text-align: left;\">Husband</td><td style = \"text-align: left;\">White</td><td style = \"text-align: left;\">Male</td><td style = \"text-align: right;\">3103</td><td style = \"text-align: right;\">0</td><td style = \"text-align: right;\">32</td><td style = \"text-align: left;\">United-States</td><td style = \"text-align: left;\">&gt;50K</td></tr><tr><td class = \"rowNumber\" style = \"font-weight: bold; text-align: right;\">9</td><td style = \"text-align: right;\">24</td><td style = \"text-align: left;\">Private</td><td style = \"text-align: right;\">369667</td><td style = \"text-align: left;\">Some-college</td><td style = \"text-align: right;\">10</td><td style = \"text-align: left;\">Never-married</td><td style = \"text-align: left;\">Other-service</td><td style = \"text-align: left;\">Unmarried</td><td style = \"text-align: left;\">White</td><td style = \"text-align: left;\">Female</td><td style = \"text-align: right;\">0</td><td style = \"text-align: right;\">0</td><td style = \"text-align: right;\">40</td><td style = \"text-align: left;\">United-States</td><td style = \"text-align: left;\">&lt;=50K</td></tr><tr><td class = \"rowNumber\" style = \"font-weight: bold; text-align: right;\">10</td><td style = \"text-align: right;\">55</td><td style = \"text-align: left;\">Private</td><td style = \"text-align: right;\">104996</td><td style = \"text-align: left;\">7th-8th</td><td style = \"text-align: right;\">4</td><td style = \"text-align: left;\">Married-civ-spouse</td><td style = \"text-align: left;\">Craft-repair</td><td style = \"text-align: left;\">Husband</td><td style = \"text-align: left;\">White</td><td style = \"text-align: left;\">Male</td><td style = \"text-align: right;\">0</td><td style = \"text-align: right;\">0</td><td style = \"text-align: right;\">10</td><td style = \"text-align: left;\">United-States</td><td style = \"text-align: left;\">&lt;=50K</td></tr><tr><td class = \"rowNumber\" style = \"font-weight: bold; text-align: right;\">11</td><td style = \"text-align: right;\">65</td><td style = \"text-align: left;\">Private</td><td style = \"text-align: right;\">184454</td><td style = \"text-align: left;\">HS-grad</td><td style = \"text-align: right;\">9</td><td style = \"text-align: left;\">Married-civ-spouse</td><td style = \"text-align: left;\">Machine-op-inspct</td><td style = \"text-align: left;\">Husband</td><td style = \"text-align: left;\">White</td><td style = \"text-align: left;\">Male</td><td style = \"text-align: right;\">6418</td><td style = \"text-align: right;\">0</td><td style = \"text-align: right;\">40</td><td style = \"text-align: left;\">United-States</td><td style = \"text-align: left;\">&gt;50K</td></tr><tr><td class = \"rowNumber\" style = \"font-weight: bold; text-align: right;\">12</td><td style = \"text-align: right;\">36</td><td style = \"text-align: left;\">Federal-gov</td><td style = \"text-align: right;\">212465</td><td style = \"text-align: left;\">Bachelors</td><td style = \"text-align: right;\">13</td><td style = \"text-align: left;\">Married-civ-spouse</td><td style = \"text-align: left;\">Adm-clerical</td><td style = \"text-align: left;\">Husband</td><td style = \"text-align: left;\">White</td><td style = \"text-align: left;\">Male</td><td style = \"text-align: right;\">0</td><td style = \"text-align: right;\">0</td><td style = \"text-align: right;\">40</td><td style = \"text-align: left;\">United-States</td><td style = \"text-align: left;\">&lt;=50K</td></tr><tr><td class = \"rowNumber\" style = \"font-weight: bold; text-align: right;\">13</td><td style = \"text-align: right;\">26</td><td style = \"text-align: left;\">Private</td><td style = \"text-align: right;\">82091</td><td style = \"text-align: left;\">HS-grad</td><td style = \"text-align: right;\">9</td><td style = \"text-align: left;\">Never-married</td><td style = \"text-align: left;\">Adm-clerical</td><td style = \"text-align: left;\">Not-in-family</td><td style = \"text-align: left;\">White</td><td style = \"text-align: left;\">Female</td><td style = \"text-align: right;\">0</td><td style = \"text-align: right;\">0</td><td style = \"text-align: right;\">39</td><td style = \"text-align: left;\">United-States</td><td style = \"text-align: left;\">&lt;=50K</td></tr><tr><td style = \"text-align: right;\">&vellip;</td><td style = \"text-align: right;\">&vellip;</td><td style = \"text-align: right;\">&vellip;</td><td style = \"text-align: right;\">&vellip;</td><td style = \"text-align: right;\">&vellip;</td><td style = \"text-align: right;\">&vellip;</td><td style = \"text-align: right;\">&vellip;</td><td style = \"text-align: right;\">&vellip;</td><td style = \"text-align: right;\">&vellip;</td><td style = \"text-align: right;\">&vellip;</td><td style = \"text-align: right;\">&vellip;</td><td style = \"text-align: right;\">&vellip;</td><td style = \"text-align: right;\">&vellip;</td><td style = \"text-align: right;\">&vellip;</td><td style = \"text-align: right;\">&vellip;</td><td style = \"text-align: right;\">&vellip;</td></tr><tr><td class = \"rowNumber\" style = \"font-weight: bold; text-align: right;\">48831</td><td style = \"text-align: right;\">43</td><td style = \"text-align: left;\">State-gov</td><td style = \"text-align: right;\">255835</td><td style = \"text-align: left;\">Some-college</td><td style = \"text-align: right;\">10</td><td style = \"text-align: left;\">Divorced</td><td style = \"text-align: left;\">Adm-clerical</td><td style = \"text-align: left;\">Other-relative</td><td style = \"text-align: left;\">White</td><td style = \"text-align: left;\">Female</td><td style = \"text-align: right;\">0</td><td style = \"text-align: right;\">0</td><td style = \"text-align: right;\">40</td><td style = \"text-align: left;\">United-States</td><td style = \"text-align: left;\">&lt;=50K</td></tr><tr><td class = \"rowNumber\" style = \"font-weight: bold; text-align: right;\">48832</td><td style = \"text-align: right;\">43</td><td style = \"text-align: left;\">Self-emp-not-inc</td><td style = \"text-align: right;\">27242</td><td style = \"text-align: left;\">Some-college</td><td style = \"text-align: right;\">10</td><td style = \"text-align: left;\">Married-civ-spouse</td><td style = \"text-align: left;\">Craft-repair</td><td style = \"text-align: left;\">Husband</td><td style = \"text-align: left;\">White</td><td style = \"text-align: left;\">Male</td><td style = \"text-align: right;\">0</td><td style = \"text-align: right;\">0</td><td style = \"text-align: right;\">50</td><td style = \"text-align: left;\">United-States</td><td style = \"text-align: left;\">&lt;=50K</td></tr><tr><td class = \"rowNumber\" style = \"font-weight: bold; text-align: right;\">48833</td><td style = \"text-align: right;\">32</td><td style = \"text-align: left;\">Private</td><td style = \"text-align: right;\">34066</td><td style = \"text-align: left;\">10th</td><td style = \"text-align: right;\">6</td><td style = \"text-align: left;\">Married-civ-spouse</td><td style = \"text-align: left;\">Handlers-cleaners</td><td style = \"text-align: left;\">Husband</td><td style = \"text-align: left;\">Amer-Indian-Eskimo</td><td style = \"text-align: left;\">Male</td><td style = \"text-align: right;\">0</td><td style = \"text-align: right;\">0</td><td style = \"text-align: right;\">40</td><td style = \"text-align: left;\">United-States</td><td style = \"text-align: left;\">&lt;=50K</td></tr><tr><td class = \"rowNumber\" style = \"font-weight: bold; text-align: right;\">48834</td><td style = \"text-align: right;\">43</td><td style = \"text-align: left;\">Private</td><td style = \"text-align: right;\">84661</td><td style = \"text-align: left;\">Assoc-voc</td><td style = \"text-align: right;\">11</td><td style = \"text-align: left;\">Married-civ-spouse</td><td style = \"text-align: left;\">Sales</td><td style = \"text-align: left;\">Husband</td><td style = \"text-align: left;\">White</td><td style = \"text-align: left;\">Male</td><td style = \"text-align: right;\">0</td><td style = \"text-align: right;\">0</td><td style = \"text-align: right;\">45</td><td style = \"text-align: left;\">United-States</td><td style = \"text-align: left;\">&lt;=50K</td></tr><tr><td class = \"rowNumber\" style = \"font-weight: bold; text-align: right;\">48835</td><td style = \"text-align: right;\">32</td><td style = \"text-align: left;\">Private</td><td style = \"text-align: right;\">116138</td><td style = \"text-align: left;\">Masters</td><td style = \"text-align: right;\">14</td><td style = \"text-align: left;\">Never-married</td><td style = \"text-align: left;\">Tech-support</td><td style = \"text-align: left;\">Not-in-family</td><td style = \"text-align: left;\">Asian-Pac-Islander</td><td style = \"text-align: left;\">Male</td><td style = \"text-align: right;\">0</td><td style = \"text-align: right;\">0</td><td style = \"text-align: right;\">11</td><td style = \"text-align: left;\">Taiwan</td><td style = \"text-align: left;\">&lt;=50K</td></tr><tr><td class = \"rowNumber\" style = \"font-weight: bold; text-align: right;\">48836</td><td style = \"text-align: right;\">53</td><td style = \"text-align: left;\">Private</td><td style = \"text-align: right;\">321865</td><td style = \"text-align: left;\">Masters</td><td style = \"text-align: right;\">14</td><td style = \"text-align: left;\">Married-civ-spouse</td><td style = \"text-align: left;\">Exec-managerial</td><td style = \"text-align: left;\">Husband</td><td style = \"text-align: left;\">White</td><td style = \"text-align: left;\">Male</td><td style = \"text-align: right;\">0</td><td style = \"text-align: right;\">0</td><td style = \"text-align: right;\">40</td><td style = \"text-align: left;\">United-States</td><td style = \"text-align: left;\">&gt;50K</td></tr><tr><td class = \"rowNumber\" style = \"font-weight: bold; text-align: right;\">48837</td><td style = \"text-align: right;\">22</td><td style = \"text-align: left;\">Private</td><td style = \"text-align: right;\">310152</td><td style = \"text-align: left;\">Some-college</td><td style = \"text-align: right;\">10</td><td style = \"text-align: left;\">Never-married</td><td style = \"text-align: left;\">Protective-serv</td><td style = \"text-align: left;\">Not-in-family</td><td style = \"text-align: left;\">White</td><td style = \"text-align: left;\">Male</td><td style = \"text-align: right;\">0</td><td style = \"text-align: right;\">0</td><td style = \"text-align: right;\">40</td><td style = \"text-align: left;\">United-States</td><td style = \"text-align: left;\">&lt;=50K</td></tr><tr><td class = \"rowNumber\" style = \"font-weight: bold; text-align: right;\">48838</td><td style = \"text-align: right;\">27</td><td style = \"text-align: left;\">Private</td><td style = \"text-align: right;\">257302</td><td style = \"text-align: left;\">Assoc-acdm</td><td style = \"text-align: right;\">12</td><td style = \"text-align: left;\">Married-civ-spouse</td><td style = \"text-align: left;\">Tech-support</td><td style = \"text-align: left;\">Wife</td><td style = \"text-align: left;\">White</td><td style = \"text-align: left;\">Female</td><td style = \"text-align: right;\">0</td><td style = \"text-align: right;\">0</td><td style = \"text-align: right;\">38</td><td style = \"text-align: left;\">United-States</td><td style = \"text-align: left;\">&lt;=50K</td></tr><tr><td class = \"rowNumber\" style = \"font-weight: bold; text-align: right;\">48839</td><td style = \"text-align: right;\">40</td><td style = \"text-align: left;\">Private</td><td style = \"text-align: right;\">154374</td><td style = \"text-align: left;\">HS-grad</td><td style = \"text-align: right;\">9</td><td style = \"text-align: left;\">Married-civ-spouse</td><td style = \"text-align: left;\">Machine-op-inspct</td><td style = \"text-align: left;\">Husband</td><td style = \"text-align: left;\">White</td><td style = \"text-align: left;\">Male</td><td style = \"text-align: right;\">0</td><td style = \"text-align: right;\">0</td><td style = \"text-align: right;\">40</td><td style = \"text-align: left;\">United-States</td><td style = \"text-align: left;\">&gt;50K</td></tr><tr><td class = \"rowNumber\" style = \"font-weight: bold; text-align: right;\">48840</td><td style = \"text-align: right;\">58</td><td style = \"text-align: left;\">Private</td><td style = \"text-align: right;\">151910</td><td style = \"text-align: left;\">HS-grad</td><td style = \"text-align: right;\">9</td><td style = \"text-align: left;\">Widowed</td><td style = \"text-align: left;\">Adm-clerical</td><td style = \"text-align: left;\">Unmarried</td><td style = \"text-align: left;\">White</td><td style = \"text-align: left;\">Female</td><td style = \"text-align: right;\">0</td><td style = \"text-align: right;\">0</td><td style = \"text-align: right;\">40</td><td style = \"text-align: left;\">United-States</td><td style = \"text-align: left;\">&lt;=50K</td></tr><tr><td class = \"rowNumber\" style = \"font-weight: bold; text-align: right;\">48841</td><td style = \"text-align: right;\">22</td><td style = \"text-align: left;\">Private</td><td style = \"text-align: right;\">201490</td><td style = \"text-align: left;\">HS-grad</td><td style = \"text-align: right;\">9</td><td style = \"text-align: left;\">Never-married</td><td style = \"text-align: left;\">Adm-clerical</td><td style = \"text-align: left;\">Own-child</td><td style = \"text-align: left;\">White</td><td style = \"text-align: left;\">Male</td><td style = \"text-align: right;\">0</td><td style = \"text-align: right;\">0</td><td style = \"text-align: right;\">20</td><td style = \"text-align: left;\">United-States</td><td style = \"text-align: left;\">&lt;=50K</td></tr><tr><td class = \"rowNumber\" style = \"font-weight: bold; text-align: right;\">48842</td><td style = \"text-align: right;\">52</td><td style = \"text-align: left;\">Self-emp-inc</td><td style = \"text-align: right;\">287927</td><td style = \"text-align: left;\">HS-grad</td><td style = \"text-align: right;\">9</td><td style = \"text-align: left;\">Married-civ-spouse</td><td style = \"text-align: left;\">Exec-managerial</td><td style = \"text-align: left;\">Wife</td><td style = \"text-align: left;\">White</td><td style = \"text-align: left;\">Female</td><td style = \"text-align: right;\">15024</td><td style = \"text-align: right;\">0</td><td style = \"text-align: right;\">40</td><td style = \"text-align: left;\">United-States</td><td style = \"text-align: left;\">&gt;50K</td></tr></tbody></table></div>"
      ],
      "text/latex": [
       "\\begin{tabular}{r|ccccccc}\n",
       "\t& age & workclass & fnlwgt & education & education\\_num & marital\\_status & \\\\\n",
       "\t\\hline\n",
       "\t& Int64 & String31? & Int64 & String15 & Int64 & String31 & \\\\\n",
       "\t\\hline\n",
       "\t1 & 25 & Private & 226802 & 11th & 7 & Never-married & $\\dots$ \\\\\n",
       "\t2 & 38 & Private & 89814 & HS-grad & 9 & Married-civ-spouse & $\\dots$ \\\\\n",
       "\t3 & 28 & Local-gov & 336951 & Assoc-acdm & 12 & Married-civ-spouse & $\\dots$ \\\\\n",
       "\t4 & 44 & Private & 160323 & Some-college & 10 & Married-civ-spouse & $\\dots$ \\\\\n",
       "\t5 & 18 & \\emph{missing} & 103497 & Some-college & 10 & Never-married & $\\dots$ \\\\\n",
       "\t6 & 34 & Private & 198693 & 10th & 6 & Never-married & $\\dots$ \\\\\n",
       "\t7 & 29 & \\emph{missing} & 227026 & HS-grad & 9 & Never-married & $\\dots$ \\\\\n",
       "\t8 & 63 & Self-emp-not-inc & 104626 & Prof-school & 15 & Married-civ-spouse & $\\dots$ \\\\\n",
       "\t9 & 24 & Private & 369667 & Some-college & 10 & Never-married & $\\dots$ \\\\\n",
       "\t10 & 55 & Private & 104996 & 7th-8th & 4 & Married-civ-spouse & $\\dots$ \\\\\n",
       "\t11 & 65 & Private & 184454 & HS-grad & 9 & Married-civ-spouse & $\\dots$ \\\\\n",
       "\t12 & 36 & Federal-gov & 212465 & Bachelors & 13 & Married-civ-spouse & $\\dots$ \\\\\n",
       "\t13 & 26 & Private & 82091 & HS-grad & 9 & Never-married & $\\dots$ \\\\\n",
       "\t14 & 58 & \\emph{missing} & 299831 & HS-grad & 9 & Married-civ-spouse & $\\dots$ \\\\\n",
       "\t15 & 48 & Private & 279724 & HS-grad & 9 & Married-civ-spouse & $\\dots$ \\\\\n",
       "\t16 & 43 & Private & 346189 & Masters & 14 & Married-civ-spouse & $\\dots$ \\\\\n",
       "\t17 & 20 & State-gov & 444554 & Some-college & 10 & Never-married & $\\dots$ \\\\\n",
       "\t18 & 43 & Private & 128354 & HS-grad & 9 & Married-civ-spouse & $\\dots$ \\\\\n",
       "\t19 & 37 & Private & 60548 & HS-grad & 9 & Widowed & $\\dots$ \\\\\n",
       "\t20 & 40 & Private & 85019 & Doctorate & 16 & Married-civ-spouse & $\\dots$ \\\\\n",
       "\t21 & 34 & Private & 107914 & Bachelors & 13 & Married-civ-spouse & $\\dots$ \\\\\n",
       "\t22 & 34 & Private & 238588 & Some-college & 10 & Never-married & $\\dots$ \\\\\n",
       "\t23 & 72 & \\emph{missing} & 132015 & 7th-8th & 4 & Divorced & $\\dots$ \\\\\n",
       "\t24 & 25 & Private & 220931 & Bachelors & 13 & Never-married & $\\dots$ \\\\\n",
       "\t25 & 25 & Private & 205947 & Bachelors & 13 & Married-civ-spouse & $\\dots$ \\\\\n",
       "\t26 & 45 & Self-emp-not-inc & 432824 & HS-grad & 9 & Married-civ-spouse & $\\dots$ \\\\\n",
       "\t27 & 22 & Private & 236427 & HS-grad & 9 & Never-married & $\\dots$ \\\\\n",
       "\t28 & 23 & Private & 134446 & HS-grad & 9 & Separated & $\\dots$ \\\\\n",
       "\t29 & 54 & Private & 99516 & HS-grad & 9 & Married-civ-spouse & $\\dots$ \\\\\n",
       "\t30 & 32 & Self-emp-not-inc & 109282 & Some-college & 10 & Never-married & $\\dots$ \\\\\n",
       "\t$\\dots$ & $\\dots$ & $\\dots$ & $\\dots$ & $\\dots$ & $\\dots$ & $\\dots$ &  \\\\\n",
       "\\end{tabular}\n"
      ],
      "text/plain": [
       "\u001b[1m48842×15 DataFrame\u001b[0m\n",
       "\u001b[1m   Row \u001b[0m│\u001b[1m age   \u001b[0m\u001b[1m workclass        \u001b[0m\u001b[1m fnlwgt \u001b[0m\u001b[1m education    \u001b[0m\u001b[1m education_num \u001b[0m\u001b[1m marital\u001b[0m ⋯\n",
       "       │\u001b[90m Int64 \u001b[0m\u001b[90m String31?        \u001b[0m\u001b[90m Int64  \u001b[0m\u001b[90m String15     \u001b[0m\u001b[90m Int64         \u001b[0m\u001b[90m String3\u001b[0m ⋯\n",
       "───────┼────────────────────────────────────────────────────────────────────────\n",
       "     1 │    25  Private           226802  11th                      7  Never-m ⋯\n",
       "     2 │    38  Private            89814  HS-grad                   9  Married\n",
       "     3 │    28  Local-gov         336951  Assoc-acdm               12  Married\n",
       "     4 │    44  Private           160323  Some-college             10  Married\n",
       "     5 │    18 \u001b[90m missing          \u001b[0m 103497  Some-college             10  Never-m ⋯\n",
       "     6 │    34  Private           198693  10th                      6  Never-m\n",
       "     7 │    29 \u001b[90m missing          \u001b[0m 227026  HS-grad                   9  Never-m\n",
       "     8 │    63  Self-emp-not-inc  104626  Prof-school              15  Married\n",
       "     9 │    24  Private           369667  Some-college             10  Never-m ⋯\n",
       "    10 │    55  Private           104996  7th-8th                   4  Married\n",
       "    11 │    65  Private           184454  HS-grad                   9  Married\n",
       "   ⋮   │   ⋮           ⋮            ⋮          ⋮              ⋮                ⋱\n",
       " 48833 │    32  Private            34066  10th                      6  Married\n",
       " 48834 │    43  Private            84661  Assoc-voc                11  Married ⋯\n",
       " 48835 │    32  Private           116138  Masters                  14  Never-m\n",
       " 48836 │    53  Private           321865  Masters                  14  Married\n",
       " 48837 │    22  Private           310152  Some-college             10  Never-m\n",
       " 48838 │    27  Private           257302  Assoc-acdm               12  Married ⋯\n",
       " 48839 │    40  Private           154374  HS-grad                   9  Married\n",
       " 48840 │    58  Private           151910  HS-grad                   9  Widowed\n",
       " 48841 │    22  Private           201490  HS-grad                   9  Never-m\n",
       " 48842 │    52  Self-emp-inc      287927  HS-grad                   9  Married ⋯\n",
       "\u001b[36m                                               10 columns and 48821 rows omitted\u001b[0m"
      ]
     },
     "execution_count": 116,
     "metadata": {},
     "output_type": "execute_result"
    }
   ],
   "source": [
    "df = DataFrame(CSV.File(\"Adult.csv\", missingstring=\"?\"))"
   ]
  },
  {
   "cell_type": "code",
   "execution_count": null,
   "id": "db0f26f5-1445-45ad-840c-74f17182b3b9",
   "metadata": {},
   "outputs": [],
   "source": []
  },
  {
   "cell_type": "code",
   "execution_count": 33,
   "id": "0e5b2234-2c54-49ca-9fe3-61285c7357a3",
   "metadata": {},
   "outputs": [
    {
     "data": {
      "text/html": [
       "<div><div style = \"float: left;\"><span>15×2 DataFrame</span></div><div style = \"clear: both;\"></div></div><div class = \"data-frame\" style = \"overflow-x: scroll;\"><table class = \"data-frame\" style = \"margin-bottom: 6px;\"><thead><tr class = \"header\"><th class = \"rowNumber\" style = \"font-weight: bold; text-align: right;\">Row</th><th style = \"text-align: left;\">variable</th><th style = \"text-align: left;\">sum</th></tr><tr class = \"subheader headerLastRow\"><th class = \"rowNumber\" style = \"font-weight: bold; text-align: right;\"></th><th title = \"Symbol\" style = \"text-align: left;\">Symbol</th><th title = \"Union{Nothing, Int64}\" style = \"text-align: left;\">Union…</th></tr></thead><tbody><tr><td class = \"rowNumber\" style = \"font-weight: bold; text-align: right;\">1</td><td style = \"text-align: left;\">Age</td><td style = \"text-align: left;\">1887430</td></tr><tr><td class = \"rowNumber\" style = \"font-weight: bold; text-align: right;\">2</td><td style = \"text-align: left;\">Type_Employer</td><td style = \"font-style: italic; text-align: left;\"></td></tr><tr><td class = \"rowNumber\" style = \"font-weight: bold; text-align: right;\">3</td><td style = \"text-align: left;\">fnlwgt</td><td style = \"text-align: left;\">9263575662</td></tr><tr><td class = \"rowNumber\" style = \"font-weight: bold; text-align: right;\">4</td><td style = \"text-align: left;\">Education</td><td style = \"font-style: italic; text-align: left;\"></td></tr><tr><td class = \"rowNumber\" style = \"font-weight: bold; text-align: right;\">5</td><td style = \"text-align: left;\">Education_num</td><td style = \"text-align: left;\">492234</td></tr><tr><td class = \"rowNumber\" style = \"font-weight: bold; text-align: right;\">6</td><td style = \"text-align: left;\">Marital</td><td style = \"font-style: italic; text-align: left;\"></td></tr><tr><td class = \"rowNumber\" style = \"font-weight: bold; text-align: right;\">7</td><td style = \"text-align: left;\">occupation</td><td style = \"font-style: italic; text-align: left;\"></td></tr><tr><td class = \"rowNumber\" style = \"font-weight: bold; text-align: right;\">8</td><td style = \"text-align: left;\">Relationship</td><td style = \"font-style: italic; text-align: left;\"></td></tr><tr><td class = \"rowNumber\" style = \"font-weight: bold; text-align: right;\">9</td><td style = \"text-align: left;\">Race</td><td style = \"font-style: italic; text-align: left;\"></td></tr><tr><td class = \"rowNumber\" style = \"font-weight: bold; text-align: right;\">10</td><td style = \"text-align: left;\">sex</td><td style = \"font-style: italic; text-align: left;\"></td></tr><tr><td class = \"rowNumber\" style = \"font-weight: bold; text-align: right;\">11</td><td style = \"text-align: left;\">Capital_gain</td><td style = \"text-align: left;\">52703821</td></tr><tr><td class = \"rowNumber\" style = \"font-weight: bold; text-align: right;\">12</td><td style = \"text-align: left;\">Capital_loss</td><td style = \"text-align: left;\">4273788</td></tr><tr><td class = \"rowNumber\" style = \"font-weight: bold; text-align: right;\">13</td><td style = \"text-align: left;\">Hour_per_week</td><td style = \"text-align: left;\">1974310</td></tr><tr><td class = \"rowNumber\" style = \"font-weight: bold; text-align: right;\">14</td><td style = \"text-align: left;\">Country</td><td style = \"font-style: italic; text-align: left;\"></td></tr><tr><td class = \"rowNumber\" style = \"font-weight: bold; text-align: right;\">15</td><td style = \"text-align: left;\">Income</td><td style = \"font-style: italic; text-align: left;\"></td></tr></tbody></table></div>"
      ],
      "text/latex": [
       "\\begin{tabular}{r|cc}\n",
       "\t& variable & sum\\\\\n",
       "\t\\hline\n",
       "\t& Symbol & Union…\\\\\n",
       "\t\\hline\n",
       "\t1 & Age & 1887430 \\\\\n",
       "\t2 & Type\\_Employer &  \\\\\n",
       "\t3 & fnlwgt & 9263575662 \\\\\n",
       "\t4 & Education &  \\\\\n",
       "\t5 & Education\\_num & 492234 \\\\\n",
       "\t6 & Marital &  \\\\\n",
       "\t7 & occupation &  \\\\\n",
       "\t8 & Relationship &  \\\\\n",
       "\t9 & Race &  \\\\\n",
       "\t10 & sex &  \\\\\n",
       "\t11 & Capital\\_gain & 52703821 \\\\\n",
       "\t12 & Capital\\_loss & 4273788 \\\\\n",
       "\t13 & Hour\\_per\\_week & 1974310 \\\\\n",
       "\t14 & Country &  \\\\\n",
       "\t15 & Income &  \\\\\n",
       "\\end{tabular}\n"
      ],
      "text/plain": [
       "\u001b[1m15×2 DataFrame\u001b[0m\n",
       "\u001b[1m Row \u001b[0m│\u001b[1m variable      \u001b[0m\u001b[1m sum        \u001b[0m\n",
       "     │\u001b[90m Symbol        \u001b[0m\u001b[90m Union…     \u001b[0m\n",
       "─────┼───────────────────────────\n",
       "   1 │ Age            1887430\n",
       "   2 │ Type_Employer \u001b[90m            \u001b[0m\n",
       "   3 │ fnlwgt         9263575662\n",
       "   4 │ Education     \u001b[90m            \u001b[0m\n",
       "   5 │ Education_num  492234\n",
       "   6 │ Marital       \u001b[90m            \u001b[0m\n",
       "   7 │ occupation    \u001b[90m            \u001b[0m\n",
       "   8 │ Relationship  \u001b[90m            \u001b[0m\n",
       "   9 │ Race          \u001b[90m            \u001b[0m\n",
       "  10 │ sex           \u001b[90m            \u001b[0m\n",
       "  11 │ Capital_gain   52703821\n",
       "  12 │ Capital_loss   4273788\n",
       "  13 │ Hour_per_week  1974310\n",
       "  14 │ Country       \u001b[90m            \u001b[0m\n",
       "  15 │ Income        \u001b[90m            \u001b[0m"
      ]
     },
     "execution_count": 33,
     "metadata": {},
     "output_type": "execute_result"
    }
   ],
   "source": [
    "describe(df)\n",
    "totals = describe(df, sum => :sum)"
   ]
  },
  {
   "cell_type": "code",
   "execution_count": 27,
   "id": "9685a817-01f0-47f2-be41-8383253a35ab",
   "metadata": {},
   "outputs": [
    {
     "data": {
      "text/plain": [
       "9263575662"
      ]
     },
     "execution_count": 27,
     "metadata": {},
     "output_type": "execute_result"
    }
   ],
   "source": [
    "fnlwgt = totals[3, 2]"
   ]
  },
  {
   "cell_type": "code",
   "execution_count": 28,
   "id": "cbbcbad0-6b96-4377-aab0-054f91d298f4",
   "metadata": {},
   "outputs": [
    {
     "data": {
      "text/plain": [
       "0.02814658275740869"
      ]
     },
     "execution_count": 28,
     "metadata": {},
     "output_type": "execute_result"
    }
   ],
   "source": [
    "factor = 260_737_999.0/fnlwgt"
   ]
  },
  {
   "cell_type": "code",
   "execution_count": 30,
   "id": "c817c1d2-ca8b-4192-8722-8d300b2bbb4a",
   "metadata": {},
   "outputs": [
    {
     "data": {
      "text/html": [
       "<div><div style = \"float: left;\"><span>15×7 DataFrame</span></div><div style = \"clear: both;\"></div></div><div class = \"data-frame\" style = \"overflow-x: scroll;\"><table class = \"data-frame\" style = \"margin-bottom: 6px;\"><thead><tr class = \"header\"><th class = \"rowNumber\" style = \"font-weight: bold; text-align: right;\">Row</th><th style = \"text-align: left;\">variable</th><th style = \"text-align: left;\">mean</th><th style = \"text-align: left;\">min</th><th style = \"text-align: left;\">median</th><th style = \"text-align: left;\">max</th><th style = \"text-align: left;\">nmissing</th><th style = \"text-align: left;\">eltype</th></tr><tr class = \"subheader headerLastRow\"><th class = \"rowNumber\" style = \"font-weight: bold; text-align: right;\"></th><th title = \"Symbol\" style = \"text-align: left;\">Symbol</th><th title = \"Union{Nothing, Float64}\" style = \"text-align: left;\">Union…</th><th title = \"Any\" style = \"text-align: left;\">Any</th><th title = \"Union{Nothing, Float64}\" style = \"text-align: left;\">Union…</th><th title = \"Any\" style = \"text-align: left;\">Any</th><th title = \"Int64\" style = \"text-align: left;\">Int64</th><th title = \"DataType\" style = \"text-align: left;\">DataType</th></tr></thead><tbody><tr><td class = \"rowNumber\" style = \"font-weight: bold; text-align: right;\">1</td><td style = \"text-align: left;\">age</td><td style = \"text-align: left;\">38.6436</td><td style = \"text-align: left;\">17</td><td style = \"text-align: left;\">37.0</td><td style = \"text-align: left;\">90</td><td style = \"text-align: right;\">0</td><td style = \"text-align: left;\">Int64</td></tr><tr><td class = \"rowNumber\" style = \"font-weight: bold; text-align: right;\">2</td><td style = \"text-align: left;\">workclass</td><td style = \"font-style: italic; text-align: left;\"></td><td style = \"text-align: left;\">?</td><td style = \"font-style: italic; text-align: left;\"></td><td style = \"text-align: left;\">Without-pay</td><td style = \"text-align: right;\">0</td><td style = \"text-align: left;\">String31</td></tr><tr><td class = \"rowNumber\" style = \"font-weight: bold; text-align: right;\">3</td><td style = \"text-align: left;\">fnlwgt</td><td style = \"text-align: left;\">1.89664e5</td><td style = \"text-align: left;\">12285</td><td style = \"text-align: left;\">1.78144e5</td><td style = \"text-align: left;\">1490400</td><td style = \"text-align: right;\">0</td><td style = \"text-align: left;\">Int64</td></tr><tr><td class = \"rowNumber\" style = \"font-weight: bold; text-align: right;\">4</td><td style = \"text-align: left;\">education</td><td style = \"font-style: italic; text-align: left;\"></td><td style = \"text-align: left;\">10th</td><td style = \"font-style: italic; text-align: left;\"></td><td style = \"text-align: left;\">Some-college</td><td style = \"text-align: right;\">0</td><td style = \"text-align: left;\">String15</td></tr><tr><td class = \"rowNumber\" style = \"font-weight: bold; text-align: right;\">5</td><td style = \"text-align: left;\">education_num</td><td style = \"text-align: left;\">10.0781</td><td style = \"text-align: left;\">1</td><td style = \"text-align: left;\">10.0</td><td style = \"text-align: left;\">16</td><td style = \"text-align: right;\">0</td><td style = \"text-align: left;\">Int64</td></tr><tr><td class = \"rowNumber\" style = \"font-weight: bold; text-align: right;\">6</td><td style = \"text-align: left;\">marital_status</td><td style = \"font-style: italic; text-align: left;\"></td><td style = \"text-align: left;\">Divorced</td><td style = \"font-style: italic; text-align: left;\"></td><td style = \"text-align: left;\">Widowed</td><td style = \"text-align: right;\">0</td><td style = \"text-align: left;\">String31</td></tr><tr><td class = \"rowNumber\" style = \"font-weight: bold; text-align: right;\">7</td><td style = \"text-align: left;\">occupation</td><td style = \"font-style: italic; text-align: left;\"></td><td style = \"text-align: left;\">?</td><td style = \"font-style: italic; text-align: left;\"></td><td style = \"text-align: left;\">Transport-moving</td><td style = \"text-align: right;\">0</td><td style = \"text-align: left;\">String31</td></tr><tr><td class = \"rowNumber\" style = \"font-weight: bold; text-align: right;\">8</td><td style = \"text-align: left;\">relationship</td><td style = \"font-style: italic; text-align: left;\"></td><td style = \"text-align: left;\">Husband</td><td style = \"font-style: italic; text-align: left;\"></td><td style = \"text-align: left;\">Wife</td><td style = \"text-align: right;\">0</td><td style = \"text-align: left;\">String15</td></tr><tr><td class = \"rowNumber\" style = \"font-weight: bold; text-align: right;\">9</td><td style = \"text-align: left;\">race</td><td style = \"font-style: italic; text-align: left;\"></td><td style = \"text-align: left;\">Amer-Indian-Eskimo</td><td style = \"font-style: italic; text-align: left;\"></td><td style = \"text-align: left;\">White</td><td style = \"text-align: right;\">0</td><td style = \"text-align: left;\">String31</td></tr><tr><td class = \"rowNumber\" style = \"font-weight: bold; text-align: right;\">10</td><td style = \"text-align: left;\">sex</td><td style = \"font-style: italic; text-align: left;\"></td><td style = \"text-align: left;\">Female</td><td style = \"font-style: italic; text-align: left;\"></td><td style = \"text-align: left;\">Male</td><td style = \"text-align: right;\">0</td><td style = \"text-align: left;\">String7</td></tr><tr><td class = \"rowNumber\" style = \"font-weight: bold; text-align: right;\">11</td><td style = \"text-align: left;\">capital_gain</td><td style = \"text-align: left;\">1079.07</td><td style = \"text-align: left;\">0</td><td style = \"text-align: left;\">0.0</td><td style = \"text-align: left;\">99999</td><td style = \"text-align: right;\">0</td><td style = \"text-align: left;\">Int64</td></tr><tr><td class = \"rowNumber\" style = \"font-weight: bold; text-align: right;\">12</td><td style = \"text-align: left;\">capital_loss</td><td style = \"text-align: left;\">87.5023</td><td style = \"text-align: left;\">0</td><td style = \"text-align: left;\">0.0</td><td style = \"text-align: left;\">4356</td><td style = \"text-align: right;\">0</td><td style = \"text-align: left;\">Int64</td></tr><tr><td class = \"rowNumber\" style = \"font-weight: bold; text-align: right;\">13</td><td style = \"text-align: left;\">hours_per_week</td><td style = \"text-align: left;\">40.4224</td><td style = \"text-align: left;\">1</td><td style = \"text-align: left;\">40.0</td><td style = \"text-align: left;\">99</td><td style = \"text-align: right;\">0</td><td style = \"text-align: left;\">Int64</td></tr><tr><td class = \"rowNumber\" style = \"font-weight: bold; text-align: right;\">14</td><td style = \"text-align: left;\">native_country</td><td style = \"font-style: italic; text-align: left;\"></td><td style = \"text-align: left;\">?</td><td style = \"font-style: italic; text-align: left;\"></td><td style = \"text-align: left;\">Yugoslavia</td><td style = \"text-align: right;\">0</td><td style = \"text-align: left;\">String31</td></tr><tr><td class = \"rowNumber\" style = \"font-weight: bold; text-align: right;\">15</td><td style = \"text-align: left;\">class</td><td style = \"font-style: italic; text-align: left;\"></td><td style = \"text-align: left;\">&lt;=50K</td><td style = \"font-style: italic; text-align: left;\"></td><td style = \"text-align: left;\">&gt;50K</td><td style = \"text-align: right;\">0</td><td style = \"text-align: left;\">String7</td></tr></tbody></table></div>"
      ],
      "text/latex": [
       "\\begin{tabular}{r|ccccccc}\n",
       "\t& variable & mean & min & median & max & nmissing & \\\\\n",
       "\t\\hline\n",
       "\t& Symbol & Union… & Any & Union… & Any & Int64 & \\\\\n",
       "\t\\hline\n",
       "\t1 & age & 38.6436 & 17 & 37.0 & 90 & 0 & $\\dots$ \\\\\n",
       "\t2 & workclass &  & ? &  & Without-pay & 0 & $\\dots$ \\\\\n",
       "\t3 & fnlwgt & 1.89664e5 & 12285 & 1.78144e5 & 1490400 & 0 & $\\dots$ \\\\\n",
       "\t4 & education &  & 10th &  & Some-college & 0 & $\\dots$ \\\\\n",
       "\t5 & education\\_num & 10.0781 & 1 & 10.0 & 16 & 0 & $\\dots$ \\\\\n",
       "\t6 & marital\\_status &  & Divorced &  & Widowed & 0 & $\\dots$ \\\\\n",
       "\t7 & occupation &  & ? &  & Transport-moving & 0 & $\\dots$ \\\\\n",
       "\t8 & relationship &  & Husband &  & Wife & 0 & $\\dots$ \\\\\n",
       "\t9 & race &  & Amer-Indian-Eskimo &  & White & 0 & $\\dots$ \\\\\n",
       "\t10 & sex &  & Female &  & Male & 0 & $\\dots$ \\\\\n",
       "\t11 & capital\\_gain & 1079.07 & 0 & 0.0 & 99999 & 0 & $\\dots$ \\\\\n",
       "\t12 & capital\\_loss & 87.5023 & 0 & 0.0 & 4356 & 0 & $\\dots$ \\\\\n",
       "\t13 & hours\\_per\\_week & 40.4224 & 1 & 40.0 & 99 & 0 & $\\dots$ \\\\\n",
       "\t14 & native\\_country &  & ? &  & Yugoslavia & 0 & $\\dots$ \\\\\n",
       "\t15 & class &  & <=50K &  & >50K & 0 & $\\dots$ \\\\\n",
       "\\end{tabular}\n"
      ],
      "text/plain": [
       "\u001b[1m15×7 DataFrame\u001b[0m\n",
       "\u001b[1m Row \u001b[0m│\u001b[1m variable       \u001b[0m\u001b[1m mean      \u001b[0m\u001b[1m min                \u001b[0m\u001b[1m median    \u001b[0m\u001b[1m max          \u001b[0m ⋯\n",
       "     │\u001b[90m Symbol         \u001b[0m\u001b[90m Union…    \u001b[0m\u001b[90m Any                \u001b[0m\u001b[90m Union…    \u001b[0m\u001b[90m Any          \u001b[0m ⋯\n",
       "─────┼──────────────────────────────────────────────────────────────────────────\n",
       "   1 │ age             38.6436    17                  37.0       90            ⋯\n",
       "   2 │ workclass      \u001b[90m           \u001b[0m ?                  \u001b[90m           \u001b[0m Without-pay\n",
       "   3 │ fnlwgt          1.89664e5  12285               1.78144e5  1490400\n",
       "   4 │ education      \u001b[90m           \u001b[0m 10th               \u001b[90m           \u001b[0m Some-college\n",
       "   5 │ education_num   10.0781    1                   10.0       16            ⋯\n",
       "   6 │ marital_status \u001b[90m           \u001b[0m Divorced           \u001b[90m           \u001b[0m Widowed\n",
       "   7 │ occupation     \u001b[90m           \u001b[0m ?                  \u001b[90m           \u001b[0m Transport-mov\n",
       "   8 │ relationship   \u001b[90m           \u001b[0m Husband            \u001b[90m           \u001b[0m Wife\n",
       "   9 │ race           \u001b[90m           \u001b[0m Amer-Indian-Eskimo \u001b[90m           \u001b[0m White         ⋯\n",
       "  10 │ sex            \u001b[90m           \u001b[0m Female             \u001b[90m           \u001b[0m Male\n",
       "  11 │ capital_gain    1079.07    0                   0.0        99999\n",
       "  12 │ capital_loss    87.5023    0                   0.0        4356\n",
       "  13 │ hours_per_week  40.4224    1                   40.0       99            ⋯\n",
       "  14 │ native_country \u001b[90m           \u001b[0m ?                  \u001b[90m           \u001b[0m Yugoslavia\n",
       "  15 │ class          \u001b[90m           \u001b[0m <=50K              \u001b[90m           \u001b[0m >50K\n",
       "\u001b[36m                                                               3 columns omitted\u001b[0m"
      ]
     },
     "execution_count": 30,
     "metadata": {},
     "output_type": "execute_result"
    }
   ],
   "source": [
    "describe(df)"
   ]
  },
  {
   "cell_type": "code",
   "execution_count": 31,
   "id": "36c3b247-a037-4ac3-8863-6e398ad91519",
   "metadata": {},
   "outputs": [
    {
     "data": {
      "text/plain": [
       "345.7807691747658"
      ]
     },
     "execution_count": 31,
     "metadata": {},
     "output_type": "execute_result"
    }
   ],
   "source": [
    "12285 * factor"
   ]
  },
  {
   "cell_type": "code",
   "execution_count": 35,
   "id": "1e36ad6f-990e-43af-b31b-9ae47d9fe177",
   "metadata": {},
   "outputs": [
    {
     "data": {
      "text/html": [
       "<div><div style = \"float: left;\"><span>5×15 DataFrame</span></div><div style = \"clear: both;\"></div></div><div class = \"data-frame\" style = \"overflow-x: scroll;\"><table class = \"data-frame\" style = \"margin-bottom: 6px;\"><thead><tr class = \"header\"><th class = \"rowNumber\" style = \"font-weight: bold; text-align: right;\">Row</th><th style = \"text-align: left;\">age</th><th style = \"text-align: left;\">workclass</th><th style = \"text-align: left;\">fnlwgt</th><th style = \"text-align: left;\">education</th><th style = \"text-align: left;\">education_num</th><th style = \"text-align: left;\">marital_status</th><th style = \"text-align: left;\">occupation</th><th style = \"text-align: left;\">relationship</th><th style = \"text-align: left;\">race</th><th style = \"text-align: left;\">sex</th><th style = \"text-align: left;\">capital_gain</th><th style = \"text-align: left;\">capital_loss</th><th style = \"text-align: left;\">hours_per_week</th><th style = \"text-align: left;\">native_country</th><th style = \"text-align: left;\">class</th></tr><tr class = \"subheader headerLastRow\"><th class = \"rowNumber\" style = \"font-weight: bold; text-align: right;\"></th><th title = \"Int64\" style = \"text-align: left;\">Int64</th><th title = \"String31\" style = \"text-align: left;\">String31</th><th title = \"Int64\" style = \"text-align: left;\">Int64</th><th title = \"String15\" style = \"text-align: left;\">String15</th><th title = \"Int64\" style = \"text-align: left;\">Int64</th><th title = \"String31\" style = \"text-align: left;\">String31</th><th title = \"String31\" style = \"text-align: left;\">String31</th><th title = \"String15\" style = \"text-align: left;\">String15</th><th title = \"String31\" style = \"text-align: left;\">String31</th><th title = \"String7\" style = \"text-align: left;\">String7</th><th title = \"Int64\" style = \"text-align: left;\">Int64</th><th title = \"Int64\" style = \"text-align: left;\">Int64</th><th title = \"Int64\" style = \"text-align: left;\">Int64</th><th title = \"String31\" style = \"text-align: left;\">String31</th><th title = \"String7\" style = \"text-align: left;\">String7</th></tr></thead><tbody><tr><td class = \"rowNumber\" style = \"font-weight: bold; text-align: right;\">1</td><td style = \"text-align: right;\">25</td><td style = \"text-align: left;\">Private</td><td style = \"text-align: right;\">226802</td><td style = \"text-align: left;\">11th</td><td style = \"text-align: right;\">7</td><td style = \"text-align: left;\">Never-married</td><td style = \"text-align: left;\">Machine-op-inspct</td><td style = \"text-align: left;\">Own-child</td><td style = \"text-align: left;\">Black</td><td style = \"text-align: left;\">Male</td><td style = \"text-align: right;\">0</td><td style = \"text-align: right;\">0</td><td style = \"text-align: right;\">40</td><td style = \"text-align: left;\">United-States</td><td style = \"text-align: left;\">&lt;=50K</td></tr><tr><td class = \"rowNumber\" style = \"font-weight: bold; text-align: right;\">2</td><td style = \"text-align: right;\">38</td><td style = \"text-align: left;\">Private</td><td style = \"text-align: right;\">89814</td><td style = \"text-align: left;\">HS-grad</td><td style = \"text-align: right;\">9</td><td style = \"text-align: left;\">Married-civ-spouse</td><td style = \"text-align: left;\">Farming-fishing</td><td style = \"text-align: left;\">Husband</td><td style = \"text-align: left;\">White</td><td style = \"text-align: left;\">Male</td><td style = \"text-align: right;\">0</td><td style = \"text-align: right;\">0</td><td style = \"text-align: right;\">50</td><td style = \"text-align: left;\">United-States</td><td style = \"text-align: left;\">&lt;=50K</td></tr><tr><td class = \"rowNumber\" style = \"font-weight: bold; text-align: right;\">3</td><td style = \"text-align: right;\">28</td><td style = \"text-align: left;\">Local-gov</td><td style = \"text-align: right;\">336951</td><td style = \"text-align: left;\">Assoc-acdm</td><td style = \"text-align: right;\">12</td><td style = \"text-align: left;\">Married-civ-spouse</td><td style = \"text-align: left;\">Protective-serv</td><td style = \"text-align: left;\">Husband</td><td style = \"text-align: left;\">White</td><td style = \"text-align: left;\">Male</td><td style = \"text-align: right;\">0</td><td style = \"text-align: right;\">0</td><td style = \"text-align: right;\">40</td><td style = \"text-align: left;\">United-States</td><td style = \"text-align: left;\">&gt;50K</td></tr><tr><td class = \"rowNumber\" style = \"font-weight: bold; text-align: right;\">4</td><td style = \"text-align: right;\">44</td><td style = \"text-align: left;\">Private</td><td style = \"text-align: right;\">160323</td><td style = \"text-align: left;\">Some-college</td><td style = \"text-align: right;\">10</td><td style = \"text-align: left;\">Married-civ-spouse</td><td style = \"text-align: left;\">Machine-op-inspct</td><td style = \"text-align: left;\">Husband</td><td style = \"text-align: left;\">Black</td><td style = \"text-align: left;\">Male</td><td style = \"text-align: right;\">7688</td><td style = \"text-align: right;\">0</td><td style = \"text-align: right;\">40</td><td style = \"text-align: left;\">United-States</td><td style = \"text-align: left;\">&gt;50K</td></tr><tr><td class = \"rowNumber\" style = \"font-weight: bold; text-align: right;\">5</td><td style = \"text-align: right;\">18</td><td style = \"text-align: left;\">?</td><td style = \"text-align: right;\">103497</td><td style = \"text-align: left;\">Some-college</td><td style = \"text-align: right;\">10</td><td style = \"text-align: left;\">Never-married</td><td style = \"text-align: left;\">?</td><td style = \"text-align: left;\">Own-child</td><td style = \"text-align: left;\">White</td><td style = \"text-align: left;\">Female</td><td style = \"text-align: right;\">0</td><td style = \"text-align: right;\">0</td><td style = \"text-align: right;\">30</td><td style = \"text-align: left;\">United-States</td><td style = \"text-align: left;\">&lt;=50K</td></tr></tbody></table></div>"
      ],
      "text/latex": [
       "\\begin{tabular}{r|cccccccc}\n",
       "\t& age & workclass & fnlwgt & education & education\\_num & marital\\_status & occupation & \\\\\n",
       "\t\\hline\n",
       "\t& Int64 & String31 & Int64 & String15 & Int64 & String31 & String31 & \\\\\n",
       "\t\\hline\n",
       "\t1 & 25 & Private & 226802 & 11th & 7 & Never-married & Machine-op-inspct & $\\dots$ \\\\\n",
       "\t2 & 38 & Private & 89814 & HS-grad & 9 & Married-civ-spouse & Farming-fishing & $\\dots$ \\\\\n",
       "\t3 & 28 & Local-gov & 336951 & Assoc-acdm & 12 & Married-civ-spouse & Protective-serv & $\\dots$ \\\\\n",
       "\t4 & 44 & Private & 160323 & Some-college & 10 & Married-civ-spouse & Machine-op-inspct & $\\dots$ \\\\\n",
       "\t5 & 18 & ? & 103497 & Some-college & 10 & Never-married & ? & $\\dots$ \\\\\n",
       "\\end{tabular}\n"
      ],
      "text/plain": [
       "\u001b[1m5×15 DataFrame\u001b[0m\n",
       "\u001b[1m Row \u001b[0m│\u001b[1m age   \u001b[0m\u001b[1m workclass \u001b[0m\u001b[1m fnlwgt \u001b[0m\u001b[1m education    \u001b[0m\u001b[1m education_num \u001b[0m\u001b[1m marital_status  \u001b[0m ⋯\n",
       "     │\u001b[90m Int64 \u001b[0m\u001b[90m String31  \u001b[0m\u001b[90m Int64  \u001b[0m\u001b[90m String15     \u001b[0m\u001b[90m Int64         \u001b[0m\u001b[90m String31        \u001b[0m ⋯\n",
       "─────┼──────────────────────────────────────────────────────────────────────────\n",
       "   1 │    25  Private    226802  11th                      7  Never-married    ⋯\n",
       "   2 │    38  Private     89814  HS-grad                   9  Married-civ-spou\n",
       "   3 │    28  Local-gov  336951  Assoc-acdm               12  Married-civ-spou\n",
       "   4 │    44  Private    160323  Some-college             10  Married-civ-spou\n",
       "   5 │    18  ?          103497  Some-college             10  Never-married    ⋯\n",
       "\u001b[36m                                                              10 columns omitted\u001b[0m"
      ]
     },
     "execution_count": 35,
     "metadata": {},
     "output_type": "execute_result"
    }
   ],
   "source": [
    "first(df,5)"
   ]
  },
  {
   "cell_type": "code",
   "execution_count": 36,
   "id": "ea0ca395-e89e-426f-ba76-27fb0a28cc7c",
   "metadata": {},
   "outputs": [
    {
     "data": {
      "text/html": [
       "<div><div style = \"float: left;\"><span>5×15 DataFrame</span></div><div style = \"clear: both;\"></div></div><div class = \"data-frame\" style = \"overflow-x: scroll;\"><table class = \"data-frame\" style = \"margin-bottom: 6px;\"><thead><tr class = \"header\"><th class = \"rowNumber\" style = \"font-weight: bold; text-align: right;\">Row</th><th style = \"text-align: left;\">age</th><th style = \"text-align: left;\">workclass</th><th style = \"text-align: left;\">fnlwgt</th><th style = \"text-align: left;\">education</th><th style = \"text-align: left;\">education_num</th><th style = \"text-align: left;\">marital_status</th><th style = \"text-align: left;\">occupation</th><th style = \"text-align: left;\">relationship</th><th style = \"text-align: left;\">race</th><th style = \"text-align: left;\">sex</th><th style = \"text-align: left;\">capital_gain</th><th style = \"text-align: left;\">capital_loss</th><th style = \"text-align: left;\">hours_per_week</th><th style = \"text-align: left;\">native_country</th><th style = \"text-align: left;\">class</th></tr><tr class = \"subheader headerLastRow\"><th class = \"rowNumber\" style = \"font-weight: bold; text-align: right;\"></th><th title = \"Int64\" style = \"text-align: left;\">Int64</th><th title = \"String31\" style = \"text-align: left;\">String31</th><th title = \"Int64\" style = \"text-align: left;\">Int64</th><th title = \"String15\" style = \"text-align: left;\">String15</th><th title = \"Int64\" style = \"text-align: left;\">Int64</th><th title = \"String31\" style = \"text-align: left;\">String31</th><th title = \"String31\" style = \"text-align: left;\">String31</th><th title = \"String15\" style = \"text-align: left;\">String15</th><th title = \"String31\" style = \"text-align: left;\">String31</th><th title = \"String7\" style = \"text-align: left;\">String7</th><th title = \"Int64\" style = \"text-align: left;\">Int64</th><th title = \"Int64\" style = \"text-align: left;\">Int64</th><th title = \"Int64\" style = \"text-align: left;\">Int64</th><th title = \"String31\" style = \"text-align: left;\">String31</th><th title = \"String7\" style = \"text-align: left;\">String7</th></tr></thead><tbody><tr><td class = \"rowNumber\" style = \"font-weight: bold; text-align: right;\">1</td><td style = \"text-align: right;\">27</td><td style = \"text-align: left;\">Private</td><td style = \"text-align: right;\">257302</td><td style = \"text-align: left;\">Assoc-acdm</td><td style = \"text-align: right;\">12</td><td style = \"text-align: left;\">Married-civ-spouse</td><td style = \"text-align: left;\">Tech-support</td><td style = \"text-align: left;\">Wife</td><td style = \"text-align: left;\">White</td><td style = \"text-align: left;\">Female</td><td style = \"text-align: right;\">0</td><td style = \"text-align: right;\">0</td><td style = \"text-align: right;\">38</td><td style = \"text-align: left;\">United-States</td><td style = \"text-align: left;\">&lt;=50K</td></tr><tr><td class = \"rowNumber\" style = \"font-weight: bold; text-align: right;\">2</td><td style = \"text-align: right;\">40</td><td style = \"text-align: left;\">Private</td><td style = \"text-align: right;\">154374</td><td style = \"text-align: left;\">HS-grad</td><td style = \"text-align: right;\">9</td><td style = \"text-align: left;\">Married-civ-spouse</td><td style = \"text-align: left;\">Machine-op-inspct</td><td style = \"text-align: left;\">Husband</td><td style = \"text-align: left;\">White</td><td style = \"text-align: left;\">Male</td><td style = \"text-align: right;\">0</td><td style = \"text-align: right;\">0</td><td style = \"text-align: right;\">40</td><td style = \"text-align: left;\">United-States</td><td style = \"text-align: left;\">&gt;50K</td></tr><tr><td class = \"rowNumber\" style = \"font-weight: bold; text-align: right;\">3</td><td style = \"text-align: right;\">58</td><td style = \"text-align: left;\">Private</td><td style = \"text-align: right;\">151910</td><td style = \"text-align: left;\">HS-grad</td><td style = \"text-align: right;\">9</td><td style = \"text-align: left;\">Widowed</td><td style = \"text-align: left;\">Adm-clerical</td><td style = \"text-align: left;\">Unmarried</td><td style = \"text-align: left;\">White</td><td style = \"text-align: left;\">Female</td><td style = \"text-align: right;\">0</td><td style = \"text-align: right;\">0</td><td style = \"text-align: right;\">40</td><td style = \"text-align: left;\">United-States</td><td style = \"text-align: left;\">&lt;=50K</td></tr><tr><td class = \"rowNumber\" style = \"font-weight: bold; text-align: right;\">4</td><td style = \"text-align: right;\">22</td><td style = \"text-align: left;\">Private</td><td style = \"text-align: right;\">201490</td><td style = \"text-align: left;\">HS-grad</td><td style = \"text-align: right;\">9</td><td style = \"text-align: left;\">Never-married</td><td style = \"text-align: left;\">Adm-clerical</td><td style = \"text-align: left;\">Own-child</td><td style = \"text-align: left;\">White</td><td style = \"text-align: left;\">Male</td><td style = \"text-align: right;\">0</td><td style = \"text-align: right;\">0</td><td style = \"text-align: right;\">20</td><td style = \"text-align: left;\">United-States</td><td style = \"text-align: left;\">&lt;=50K</td></tr><tr><td class = \"rowNumber\" style = \"font-weight: bold; text-align: right;\">5</td><td style = \"text-align: right;\">52</td><td style = \"text-align: left;\">Self-emp-inc</td><td style = \"text-align: right;\">287927</td><td style = \"text-align: left;\">HS-grad</td><td style = \"text-align: right;\">9</td><td style = \"text-align: left;\">Married-civ-spouse</td><td style = \"text-align: left;\">Exec-managerial</td><td style = \"text-align: left;\">Wife</td><td style = \"text-align: left;\">White</td><td style = \"text-align: left;\">Female</td><td style = \"text-align: right;\">15024</td><td style = \"text-align: right;\">0</td><td style = \"text-align: right;\">40</td><td style = \"text-align: left;\">United-States</td><td style = \"text-align: left;\">&gt;50K</td></tr></tbody></table></div>"
      ],
      "text/latex": [
       "\\begin{tabular}{r|cccccccc}\n",
       "\t& age & workclass & fnlwgt & education & education\\_num & marital\\_status & occupation & \\\\\n",
       "\t\\hline\n",
       "\t& Int64 & String31 & Int64 & String15 & Int64 & String31 & String31 & \\\\\n",
       "\t\\hline\n",
       "\t1 & 27 & Private & 257302 & Assoc-acdm & 12 & Married-civ-spouse & Tech-support & $\\dots$ \\\\\n",
       "\t2 & 40 & Private & 154374 & HS-grad & 9 & Married-civ-spouse & Machine-op-inspct & $\\dots$ \\\\\n",
       "\t3 & 58 & Private & 151910 & HS-grad & 9 & Widowed & Adm-clerical & $\\dots$ \\\\\n",
       "\t4 & 22 & Private & 201490 & HS-grad & 9 & Never-married & Adm-clerical & $\\dots$ \\\\\n",
       "\t5 & 52 & Self-emp-inc & 287927 & HS-grad & 9 & Married-civ-spouse & Exec-managerial & $\\dots$ \\\\\n",
       "\\end{tabular}\n"
      ],
      "text/plain": [
       "\u001b[1m5×15 DataFrame\u001b[0m\n",
       "\u001b[1m Row \u001b[0m│\u001b[1m age   \u001b[0m\u001b[1m workclass    \u001b[0m\u001b[1m fnlwgt \u001b[0m\u001b[1m education  \u001b[0m\u001b[1m education_num \u001b[0m\u001b[1m marital_status \u001b[0m ⋯\n",
       "     │\u001b[90m Int64 \u001b[0m\u001b[90m String31     \u001b[0m\u001b[90m Int64  \u001b[0m\u001b[90m String15   \u001b[0m\u001b[90m Int64         \u001b[0m\u001b[90m String31       \u001b[0m ⋯\n",
       "─────┼──────────────────────────────────────────────────────────────────────────\n",
       "   1 │    27  Private       257302  Assoc-acdm             12  Married-civ-spo ⋯\n",
       "   2 │    40  Private       154374  HS-grad                 9  Married-civ-spo\n",
       "   3 │    58  Private       151910  HS-grad                 9  Widowed\n",
       "   4 │    22  Private       201490  HS-grad                 9  Never-married\n",
       "   5 │    52  Self-emp-inc  287927  HS-grad                 9  Married-civ-spo ⋯\n",
       "\u001b[36m                                                              10 columns omitted\u001b[0m"
      ]
     },
     "execution_count": 36,
     "metadata": {},
     "output_type": "execute_result"
    }
   ],
   "source": [
    "last(df,5)"
   ]
  },
  {
   "cell_type": "code",
   "execution_count": 37,
   "id": "21406230-5b13-4c32-a87d-2b5716dd1af1",
   "metadata": {},
   "outputs": [
    {
     "data": {
      "text/html": [
       "<div><div style = \"float: left;\"><span>48790×15 DataFrame</span></div><div style = \"float: right;\"><span style = \"font-style: italic;\">48765 rows omitted</span></div><div style = \"clear: both;\"></div></div><div class = \"data-frame\" style = \"overflow-x: scroll;\"><table class = \"data-frame\" style = \"margin-bottom: 6px;\"><thead><tr class = \"header\"><th class = \"rowNumber\" style = \"font-weight: bold; text-align: right;\">Row</th><th style = \"text-align: left;\">age</th><th style = \"text-align: left;\">workclass</th><th style = \"text-align: left;\">fnlwgt</th><th style = \"text-align: left;\">education</th><th style = \"text-align: left;\">education_num</th><th style = \"text-align: left;\">marital_status</th><th style = \"text-align: left;\">occupation</th><th style = \"text-align: left;\">relationship</th><th style = \"text-align: left;\">race</th><th style = \"text-align: left;\">sex</th><th style = \"text-align: left;\">capital_gain</th><th style = \"text-align: left;\">capital_loss</th><th style = \"text-align: left;\">hours_per_week</th><th style = \"text-align: left;\">native_country</th><th style = \"text-align: left;\">class</th></tr><tr class = \"subheader headerLastRow\"><th class = \"rowNumber\" style = \"font-weight: bold; text-align: right;\"></th><th title = \"Int64\" style = \"text-align: left;\">Int64</th><th title = \"String31\" style = \"text-align: left;\">String31</th><th title = \"Int64\" style = \"text-align: left;\">Int64</th><th title = \"String15\" style = \"text-align: left;\">String15</th><th title = \"Int64\" style = \"text-align: left;\">Int64</th><th title = \"String31\" style = \"text-align: left;\">String31</th><th title = \"String31\" style = \"text-align: left;\">String31</th><th title = \"String15\" style = \"text-align: left;\">String15</th><th title = \"String31\" style = \"text-align: left;\">String31</th><th title = \"String7\" style = \"text-align: left;\">String7</th><th title = \"Int64\" style = \"text-align: left;\">Int64</th><th title = \"Int64\" style = \"text-align: left;\">Int64</th><th title = \"Int64\" style = \"text-align: left;\">Int64</th><th title = \"String31\" style = \"text-align: left;\">String31</th><th title = \"String7\" style = \"text-align: left;\">String7</th></tr></thead><tbody><tr><td class = \"rowNumber\" style = \"font-weight: bold; text-align: right;\">1</td><td style = \"text-align: right;\">25</td><td style = \"text-align: left;\">Private</td><td style = \"text-align: right;\">226802</td><td style = \"text-align: left;\">11th</td><td style = \"text-align: right;\">7</td><td style = \"text-align: left;\">Never-married</td><td style = \"text-align: left;\">Machine-op-inspct</td><td style = \"text-align: left;\">Own-child</td><td style = \"text-align: left;\">Black</td><td style = \"text-align: left;\">Male</td><td style = \"text-align: right;\">0</td><td style = \"text-align: right;\">0</td><td style = \"text-align: right;\">40</td><td style = \"text-align: left;\">United-States</td><td style = \"text-align: left;\">&lt;=50K</td></tr><tr><td class = \"rowNumber\" style = \"font-weight: bold; text-align: right;\">2</td><td style = \"text-align: right;\">38</td><td style = \"text-align: left;\">Private</td><td style = \"text-align: right;\">89814</td><td style = \"text-align: left;\">HS-grad</td><td style = \"text-align: right;\">9</td><td style = \"text-align: left;\">Married-civ-spouse</td><td style = \"text-align: left;\">Farming-fishing</td><td style = \"text-align: left;\">Husband</td><td style = \"text-align: left;\">White</td><td style = \"text-align: left;\">Male</td><td style = \"text-align: right;\">0</td><td style = \"text-align: right;\">0</td><td style = \"text-align: right;\">50</td><td style = \"text-align: left;\">United-States</td><td style = \"text-align: left;\">&lt;=50K</td></tr><tr><td class = \"rowNumber\" style = \"font-weight: bold; text-align: right;\">3</td><td style = \"text-align: right;\">28</td><td style = \"text-align: left;\">Local-gov</td><td style = \"text-align: right;\">336951</td><td style = \"text-align: left;\">Assoc-acdm</td><td style = \"text-align: right;\">12</td><td style = \"text-align: left;\">Married-civ-spouse</td><td style = \"text-align: left;\">Protective-serv</td><td style = \"text-align: left;\">Husband</td><td style = \"text-align: left;\">White</td><td style = \"text-align: left;\">Male</td><td style = \"text-align: right;\">0</td><td style = \"text-align: right;\">0</td><td style = \"text-align: right;\">40</td><td style = \"text-align: left;\">United-States</td><td style = \"text-align: left;\">&gt;50K</td></tr><tr><td class = \"rowNumber\" style = \"font-weight: bold; text-align: right;\">4</td><td style = \"text-align: right;\">44</td><td style = \"text-align: left;\">Private</td><td style = \"text-align: right;\">160323</td><td style = \"text-align: left;\">Some-college</td><td style = \"text-align: right;\">10</td><td style = \"text-align: left;\">Married-civ-spouse</td><td style = \"text-align: left;\">Machine-op-inspct</td><td style = \"text-align: left;\">Husband</td><td style = \"text-align: left;\">Black</td><td style = \"text-align: left;\">Male</td><td style = \"text-align: right;\">7688</td><td style = \"text-align: right;\">0</td><td style = \"text-align: right;\">40</td><td style = \"text-align: left;\">United-States</td><td style = \"text-align: left;\">&gt;50K</td></tr><tr><td class = \"rowNumber\" style = \"font-weight: bold; text-align: right;\">5</td><td style = \"text-align: right;\">18</td><td style = \"text-align: left;\">?</td><td style = \"text-align: right;\">103497</td><td style = \"text-align: left;\">Some-college</td><td style = \"text-align: right;\">10</td><td style = \"text-align: left;\">Never-married</td><td style = \"text-align: left;\">?</td><td style = \"text-align: left;\">Own-child</td><td style = \"text-align: left;\">White</td><td style = \"text-align: left;\">Female</td><td style = \"text-align: right;\">0</td><td style = \"text-align: right;\">0</td><td style = \"text-align: right;\">30</td><td style = \"text-align: left;\">United-States</td><td style = \"text-align: left;\">&lt;=50K</td></tr><tr><td class = \"rowNumber\" style = \"font-weight: bold; text-align: right;\">6</td><td style = \"text-align: right;\">34</td><td style = \"text-align: left;\">Private</td><td style = \"text-align: right;\">198693</td><td style = \"text-align: left;\">10th</td><td style = \"text-align: right;\">6</td><td style = \"text-align: left;\">Never-married</td><td style = \"text-align: left;\">Other-service</td><td style = \"text-align: left;\">Not-in-family</td><td style = \"text-align: left;\">White</td><td style = \"text-align: left;\">Male</td><td style = \"text-align: right;\">0</td><td style = \"text-align: right;\">0</td><td style = \"text-align: right;\">30</td><td style = \"text-align: left;\">United-States</td><td style = \"text-align: left;\">&lt;=50K</td></tr><tr><td class = \"rowNumber\" style = \"font-weight: bold; text-align: right;\">7</td><td style = \"text-align: right;\">29</td><td style = \"text-align: left;\">?</td><td style = \"text-align: right;\">227026</td><td style = \"text-align: left;\">HS-grad</td><td style = \"text-align: right;\">9</td><td style = \"text-align: left;\">Never-married</td><td style = \"text-align: left;\">?</td><td style = \"text-align: left;\">Unmarried</td><td style = \"text-align: left;\">Black</td><td style = \"text-align: left;\">Male</td><td style = \"text-align: right;\">0</td><td style = \"text-align: right;\">0</td><td style = \"text-align: right;\">40</td><td style = \"text-align: left;\">United-States</td><td style = \"text-align: left;\">&lt;=50K</td></tr><tr><td class = \"rowNumber\" style = \"font-weight: bold; text-align: right;\">8</td><td style = \"text-align: right;\">63</td><td style = \"text-align: left;\">Self-emp-not-inc</td><td style = \"text-align: right;\">104626</td><td style = \"text-align: left;\">Prof-school</td><td style = \"text-align: right;\">15</td><td style = \"text-align: left;\">Married-civ-spouse</td><td style = \"text-align: left;\">Prof-specialty</td><td style = \"text-align: left;\">Husband</td><td style = \"text-align: left;\">White</td><td style = \"text-align: left;\">Male</td><td style = \"text-align: right;\">3103</td><td style = \"text-align: right;\">0</td><td style = \"text-align: right;\">32</td><td style = \"text-align: left;\">United-States</td><td style = \"text-align: left;\">&gt;50K</td></tr><tr><td class = \"rowNumber\" style = \"font-weight: bold; text-align: right;\">9</td><td style = \"text-align: right;\">24</td><td style = \"text-align: left;\">Private</td><td style = \"text-align: right;\">369667</td><td style = \"text-align: left;\">Some-college</td><td style = \"text-align: right;\">10</td><td style = \"text-align: left;\">Never-married</td><td style = \"text-align: left;\">Other-service</td><td style = \"text-align: left;\">Unmarried</td><td style = \"text-align: left;\">White</td><td style = \"text-align: left;\">Female</td><td style = \"text-align: right;\">0</td><td style = \"text-align: right;\">0</td><td style = \"text-align: right;\">40</td><td style = \"text-align: left;\">United-States</td><td style = \"text-align: left;\">&lt;=50K</td></tr><tr><td class = \"rowNumber\" style = \"font-weight: bold; text-align: right;\">10</td><td style = \"text-align: right;\">55</td><td style = \"text-align: left;\">Private</td><td style = \"text-align: right;\">104996</td><td style = \"text-align: left;\">7th-8th</td><td style = \"text-align: right;\">4</td><td style = \"text-align: left;\">Married-civ-spouse</td><td style = \"text-align: left;\">Craft-repair</td><td style = \"text-align: left;\">Husband</td><td style = \"text-align: left;\">White</td><td style = \"text-align: left;\">Male</td><td style = \"text-align: right;\">0</td><td style = \"text-align: right;\">0</td><td style = \"text-align: right;\">10</td><td style = \"text-align: left;\">United-States</td><td style = \"text-align: left;\">&lt;=50K</td></tr><tr><td class = \"rowNumber\" style = \"font-weight: bold; text-align: right;\">11</td><td style = \"text-align: right;\">65</td><td style = \"text-align: left;\">Private</td><td style = \"text-align: right;\">184454</td><td style = \"text-align: left;\">HS-grad</td><td style = \"text-align: right;\">9</td><td style = \"text-align: left;\">Married-civ-spouse</td><td style = \"text-align: left;\">Machine-op-inspct</td><td style = \"text-align: left;\">Husband</td><td style = \"text-align: left;\">White</td><td style = \"text-align: left;\">Male</td><td style = \"text-align: right;\">6418</td><td style = \"text-align: right;\">0</td><td style = \"text-align: right;\">40</td><td style = \"text-align: left;\">United-States</td><td style = \"text-align: left;\">&gt;50K</td></tr><tr><td class = \"rowNumber\" style = \"font-weight: bold; text-align: right;\">12</td><td style = \"text-align: right;\">36</td><td style = \"text-align: left;\">Federal-gov</td><td style = \"text-align: right;\">212465</td><td style = \"text-align: left;\">Bachelors</td><td style = \"text-align: right;\">13</td><td style = \"text-align: left;\">Married-civ-spouse</td><td style = \"text-align: left;\">Adm-clerical</td><td style = \"text-align: left;\">Husband</td><td style = \"text-align: left;\">White</td><td style = \"text-align: left;\">Male</td><td style = \"text-align: right;\">0</td><td style = \"text-align: right;\">0</td><td style = \"text-align: right;\">40</td><td style = \"text-align: left;\">United-States</td><td style = \"text-align: left;\">&lt;=50K</td></tr><tr><td class = \"rowNumber\" style = \"font-weight: bold; text-align: right;\">13</td><td style = \"text-align: right;\">26</td><td style = \"text-align: left;\">Private</td><td style = \"text-align: right;\">82091</td><td style = \"text-align: left;\">HS-grad</td><td style = \"text-align: right;\">9</td><td style = \"text-align: left;\">Never-married</td><td style = \"text-align: left;\">Adm-clerical</td><td style = \"text-align: left;\">Not-in-family</td><td style = \"text-align: left;\">White</td><td style = \"text-align: left;\">Female</td><td style = \"text-align: right;\">0</td><td style = \"text-align: right;\">0</td><td style = \"text-align: right;\">39</td><td style = \"text-align: left;\">United-States</td><td style = \"text-align: left;\">&lt;=50K</td></tr><tr><td style = \"text-align: right;\">&vellip;</td><td style = \"text-align: right;\">&vellip;</td><td style = \"text-align: right;\">&vellip;</td><td style = \"text-align: right;\">&vellip;</td><td style = \"text-align: right;\">&vellip;</td><td style = \"text-align: right;\">&vellip;</td><td style = \"text-align: right;\">&vellip;</td><td style = \"text-align: right;\">&vellip;</td><td style = \"text-align: right;\">&vellip;</td><td style = \"text-align: right;\">&vellip;</td><td style = \"text-align: right;\">&vellip;</td><td style = \"text-align: right;\">&vellip;</td><td style = \"text-align: right;\">&vellip;</td><td style = \"text-align: right;\">&vellip;</td><td style = \"text-align: right;\">&vellip;</td><td style = \"text-align: right;\">&vellip;</td></tr><tr><td class = \"rowNumber\" style = \"font-weight: bold; text-align: right;\">48779</td><td style = \"text-align: right;\">43</td><td style = \"text-align: left;\">State-gov</td><td style = \"text-align: right;\">255835</td><td style = \"text-align: left;\">Some-college</td><td style = \"text-align: right;\">10</td><td style = \"text-align: left;\">Divorced</td><td style = \"text-align: left;\">Adm-clerical</td><td style = \"text-align: left;\">Other-relative</td><td style = \"text-align: left;\">White</td><td style = \"text-align: left;\">Female</td><td style = \"text-align: right;\">0</td><td style = \"text-align: right;\">0</td><td style = \"text-align: right;\">40</td><td style = \"text-align: left;\">United-States</td><td style = \"text-align: left;\">&lt;=50K</td></tr><tr><td class = \"rowNumber\" style = \"font-weight: bold; text-align: right;\">48780</td><td style = \"text-align: right;\">43</td><td style = \"text-align: left;\">Self-emp-not-inc</td><td style = \"text-align: right;\">27242</td><td style = \"text-align: left;\">Some-college</td><td style = \"text-align: right;\">10</td><td style = \"text-align: left;\">Married-civ-spouse</td><td style = \"text-align: left;\">Craft-repair</td><td style = \"text-align: left;\">Husband</td><td style = \"text-align: left;\">White</td><td style = \"text-align: left;\">Male</td><td style = \"text-align: right;\">0</td><td style = \"text-align: right;\">0</td><td style = \"text-align: right;\">50</td><td style = \"text-align: left;\">United-States</td><td style = \"text-align: left;\">&lt;=50K</td></tr><tr><td class = \"rowNumber\" style = \"font-weight: bold; text-align: right;\">48781</td><td style = \"text-align: right;\">32</td><td style = \"text-align: left;\">Private</td><td style = \"text-align: right;\">34066</td><td style = \"text-align: left;\">10th</td><td style = \"text-align: right;\">6</td><td style = \"text-align: left;\">Married-civ-spouse</td><td style = \"text-align: left;\">Handlers-cleaners</td><td style = \"text-align: left;\">Husband</td><td style = \"text-align: left;\">Amer-Indian-Eskimo</td><td style = \"text-align: left;\">Male</td><td style = \"text-align: right;\">0</td><td style = \"text-align: right;\">0</td><td style = \"text-align: right;\">40</td><td style = \"text-align: left;\">United-States</td><td style = \"text-align: left;\">&lt;=50K</td></tr><tr><td class = \"rowNumber\" style = \"font-weight: bold; text-align: right;\">48782</td><td style = \"text-align: right;\">43</td><td style = \"text-align: left;\">Private</td><td style = \"text-align: right;\">84661</td><td style = \"text-align: left;\">Assoc-voc</td><td style = \"text-align: right;\">11</td><td style = \"text-align: left;\">Married-civ-spouse</td><td style = \"text-align: left;\">Sales</td><td style = \"text-align: left;\">Husband</td><td style = \"text-align: left;\">White</td><td style = \"text-align: left;\">Male</td><td style = \"text-align: right;\">0</td><td style = \"text-align: right;\">0</td><td style = \"text-align: right;\">45</td><td style = \"text-align: left;\">United-States</td><td style = \"text-align: left;\">&lt;=50K</td></tr><tr><td class = \"rowNumber\" style = \"font-weight: bold; text-align: right;\">48783</td><td style = \"text-align: right;\">32</td><td style = \"text-align: left;\">Private</td><td style = \"text-align: right;\">116138</td><td style = \"text-align: left;\">Masters</td><td style = \"text-align: right;\">14</td><td style = \"text-align: left;\">Never-married</td><td style = \"text-align: left;\">Tech-support</td><td style = \"text-align: left;\">Not-in-family</td><td style = \"text-align: left;\">Asian-Pac-Islander</td><td style = \"text-align: left;\">Male</td><td style = \"text-align: right;\">0</td><td style = \"text-align: right;\">0</td><td style = \"text-align: right;\">11</td><td style = \"text-align: left;\">Taiwan</td><td style = \"text-align: left;\">&lt;=50K</td></tr><tr><td class = \"rowNumber\" style = \"font-weight: bold; text-align: right;\">48784</td><td style = \"text-align: right;\">53</td><td style = \"text-align: left;\">Private</td><td style = \"text-align: right;\">321865</td><td style = \"text-align: left;\">Masters</td><td style = \"text-align: right;\">14</td><td style = \"text-align: left;\">Married-civ-spouse</td><td style = \"text-align: left;\">Exec-managerial</td><td style = \"text-align: left;\">Husband</td><td style = \"text-align: left;\">White</td><td style = \"text-align: left;\">Male</td><td style = \"text-align: right;\">0</td><td style = \"text-align: right;\">0</td><td style = \"text-align: right;\">40</td><td style = \"text-align: left;\">United-States</td><td style = \"text-align: left;\">&gt;50K</td></tr><tr><td class = \"rowNumber\" style = \"font-weight: bold; text-align: right;\">48785</td><td style = \"text-align: right;\">22</td><td style = \"text-align: left;\">Private</td><td style = \"text-align: right;\">310152</td><td style = \"text-align: left;\">Some-college</td><td style = \"text-align: right;\">10</td><td style = \"text-align: left;\">Never-married</td><td style = \"text-align: left;\">Protective-serv</td><td style = \"text-align: left;\">Not-in-family</td><td style = \"text-align: left;\">White</td><td style = \"text-align: left;\">Male</td><td style = \"text-align: right;\">0</td><td style = \"text-align: right;\">0</td><td style = \"text-align: right;\">40</td><td style = \"text-align: left;\">United-States</td><td style = \"text-align: left;\">&lt;=50K</td></tr><tr><td class = \"rowNumber\" style = \"font-weight: bold; text-align: right;\">48786</td><td style = \"text-align: right;\">27</td><td style = \"text-align: left;\">Private</td><td style = \"text-align: right;\">257302</td><td style = \"text-align: left;\">Assoc-acdm</td><td style = \"text-align: right;\">12</td><td style = \"text-align: left;\">Married-civ-spouse</td><td style = \"text-align: left;\">Tech-support</td><td style = \"text-align: left;\">Wife</td><td style = \"text-align: left;\">White</td><td style = \"text-align: left;\">Female</td><td style = \"text-align: right;\">0</td><td style = \"text-align: right;\">0</td><td style = \"text-align: right;\">38</td><td style = \"text-align: left;\">United-States</td><td style = \"text-align: left;\">&lt;=50K</td></tr><tr><td class = \"rowNumber\" style = \"font-weight: bold; text-align: right;\">48787</td><td style = \"text-align: right;\">40</td><td style = \"text-align: left;\">Private</td><td style = \"text-align: right;\">154374</td><td style = \"text-align: left;\">HS-grad</td><td style = \"text-align: right;\">9</td><td style = \"text-align: left;\">Married-civ-spouse</td><td style = \"text-align: left;\">Machine-op-inspct</td><td style = \"text-align: left;\">Husband</td><td style = \"text-align: left;\">White</td><td style = \"text-align: left;\">Male</td><td style = \"text-align: right;\">0</td><td style = \"text-align: right;\">0</td><td style = \"text-align: right;\">40</td><td style = \"text-align: left;\">United-States</td><td style = \"text-align: left;\">&gt;50K</td></tr><tr><td class = \"rowNumber\" style = \"font-weight: bold; text-align: right;\">48788</td><td style = \"text-align: right;\">58</td><td style = \"text-align: left;\">Private</td><td style = \"text-align: right;\">151910</td><td style = \"text-align: left;\">HS-grad</td><td style = \"text-align: right;\">9</td><td style = \"text-align: left;\">Widowed</td><td style = \"text-align: left;\">Adm-clerical</td><td style = \"text-align: left;\">Unmarried</td><td style = \"text-align: left;\">White</td><td style = \"text-align: left;\">Female</td><td style = \"text-align: right;\">0</td><td style = \"text-align: right;\">0</td><td style = \"text-align: right;\">40</td><td style = \"text-align: left;\">United-States</td><td style = \"text-align: left;\">&lt;=50K</td></tr><tr><td class = \"rowNumber\" style = \"font-weight: bold; text-align: right;\">48789</td><td style = \"text-align: right;\">22</td><td style = \"text-align: left;\">Private</td><td style = \"text-align: right;\">201490</td><td style = \"text-align: left;\">HS-grad</td><td style = \"text-align: right;\">9</td><td style = \"text-align: left;\">Never-married</td><td style = \"text-align: left;\">Adm-clerical</td><td style = \"text-align: left;\">Own-child</td><td style = \"text-align: left;\">White</td><td style = \"text-align: left;\">Male</td><td style = \"text-align: right;\">0</td><td style = \"text-align: right;\">0</td><td style = \"text-align: right;\">20</td><td style = \"text-align: left;\">United-States</td><td style = \"text-align: left;\">&lt;=50K</td></tr><tr><td class = \"rowNumber\" style = \"font-weight: bold; text-align: right;\">48790</td><td style = \"text-align: right;\">52</td><td style = \"text-align: left;\">Self-emp-inc</td><td style = \"text-align: right;\">287927</td><td style = \"text-align: left;\">HS-grad</td><td style = \"text-align: right;\">9</td><td style = \"text-align: left;\">Married-civ-spouse</td><td style = \"text-align: left;\">Exec-managerial</td><td style = \"text-align: left;\">Wife</td><td style = \"text-align: left;\">White</td><td style = \"text-align: left;\">Female</td><td style = \"text-align: right;\">15024</td><td style = \"text-align: right;\">0</td><td style = \"text-align: right;\">40</td><td style = \"text-align: left;\">United-States</td><td style = \"text-align: left;\">&gt;50K</td></tr></tbody></table></div>"
      ],
      "text/latex": [
       "\\begin{tabular}{r|ccccccc}\n",
       "\t& age & workclass & fnlwgt & education & education\\_num & marital\\_status & \\\\\n",
       "\t\\hline\n",
       "\t& Int64 & String31 & Int64 & String15 & Int64 & String31 & \\\\\n",
       "\t\\hline\n",
       "\t1 & 25 & Private & 226802 & 11th & 7 & Never-married & $\\dots$ \\\\\n",
       "\t2 & 38 & Private & 89814 & HS-grad & 9 & Married-civ-spouse & $\\dots$ \\\\\n",
       "\t3 & 28 & Local-gov & 336951 & Assoc-acdm & 12 & Married-civ-spouse & $\\dots$ \\\\\n",
       "\t4 & 44 & Private & 160323 & Some-college & 10 & Married-civ-spouse & $\\dots$ \\\\\n",
       "\t5 & 18 & ? & 103497 & Some-college & 10 & Never-married & $\\dots$ \\\\\n",
       "\t6 & 34 & Private & 198693 & 10th & 6 & Never-married & $\\dots$ \\\\\n",
       "\t7 & 29 & ? & 227026 & HS-grad & 9 & Never-married & $\\dots$ \\\\\n",
       "\t8 & 63 & Self-emp-not-inc & 104626 & Prof-school & 15 & Married-civ-spouse & $\\dots$ \\\\\n",
       "\t9 & 24 & Private & 369667 & Some-college & 10 & Never-married & $\\dots$ \\\\\n",
       "\t10 & 55 & Private & 104996 & 7th-8th & 4 & Married-civ-spouse & $\\dots$ \\\\\n",
       "\t11 & 65 & Private & 184454 & HS-grad & 9 & Married-civ-spouse & $\\dots$ \\\\\n",
       "\t12 & 36 & Federal-gov & 212465 & Bachelors & 13 & Married-civ-spouse & $\\dots$ \\\\\n",
       "\t13 & 26 & Private & 82091 & HS-grad & 9 & Never-married & $\\dots$ \\\\\n",
       "\t14 & 58 & ? & 299831 & HS-grad & 9 & Married-civ-spouse & $\\dots$ \\\\\n",
       "\t15 & 48 & Private & 279724 & HS-grad & 9 & Married-civ-spouse & $\\dots$ \\\\\n",
       "\t16 & 43 & Private & 346189 & Masters & 14 & Married-civ-spouse & $\\dots$ \\\\\n",
       "\t17 & 20 & State-gov & 444554 & Some-college & 10 & Never-married & $\\dots$ \\\\\n",
       "\t18 & 43 & Private & 128354 & HS-grad & 9 & Married-civ-spouse & $\\dots$ \\\\\n",
       "\t19 & 37 & Private & 60548 & HS-grad & 9 & Widowed & $\\dots$ \\\\\n",
       "\t20 & 40 & Private & 85019 & Doctorate & 16 & Married-civ-spouse & $\\dots$ \\\\\n",
       "\t21 & 34 & Private & 107914 & Bachelors & 13 & Married-civ-spouse & $\\dots$ \\\\\n",
       "\t22 & 34 & Private & 238588 & Some-college & 10 & Never-married & $\\dots$ \\\\\n",
       "\t23 & 72 & ? & 132015 & 7th-8th & 4 & Divorced & $\\dots$ \\\\\n",
       "\t24 & 25 & Private & 220931 & Bachelors & 13 & Never-married & $\\dots$ \\\\\n",
       "\t25 & 25 & Private & 205947 & Bachelors & 13 & Married-civ-spouse & $\\dots$ \\\\\n",
       "\t26 & 45 & Self-emp-not-inc & 432824 & HS-grad & 9 & Married-civ-spouse & $\\dots$ \\\\\n",
       "\t27 & 22 & Private & 236427 & HS-grad & 9 & Never-married & $\\dots$ \\\\\n",
       "\t28 & 23 & Private & 134446 & HS-grad & 9 & Separated & $\\dots$ \\\\\n",
       "\t29 & 54 & Private & 99516 & HS-grad & 9 & Married-civ-spouse & $\\dots$ \\\\\n",
       "\t30 & 32 & Self-emp-not-inc & 109282 & Some-college & 10 & Never-married & $\\dots$ \\\\\n",
       "\t$\\dots$ & $\\dots$ & $\\dots$ & $\\dots$ & $\\dots$ & $\\dots$ & $\\dots$ &  \\\\\n",
       "\\end{tabular}\n"
      ],
      "text/plain": [
       "\u001b[1m48790×15 DataFrame\u001b[0m\n",
       "\u001b[1m   Row \u001b[0m│\u001b[1m age   \u001b[0m\u001b[1m workclass        \u001b[0m\u001b[1m fnlwgt \u001b[0m\u001b[1m education    \u001b[0m\u001b[1m education_num \u001b[0m\u001b[1m marital\u001b[0m ⋯\n",
       "       │\u001b[90m Int64 \u001b[0m\u001b[90m String31         \u001b[0m\u001b[90m Int64  \u001b[0m\u001b[90m String15     \u001b[0m\u001b[90m Int64         \u001b[0m\u001b[90m String3\u001b[0m ⋯\n",
       "───────┼────────────────────────────────────────────────────────────────────────\n",
       "     1 │    25  Private           226802  11th                      7  Never-m ⋯\n",
       "     2 │    38  Private            89814  HS-grad                   9  Married\n",
       "     3 │    28  Local-gov         336951  Assoc-acdm               12  Married\n",
       "     4 │    44  Private           160323  Some-college             10  Married\n",
       "     5 │    18  ?                 103497  Some-college             10  Never-m ⋯\n",
       "     6 │    34  Private           198693  10th                      6  Never-m\n",
       "     7 │    29  ?                 227026  HS-grad                   9  Never-m\n",
       "     8 │    63  Self-emp-not-inc  104626  Prof-school              15  Married\n",
       "     9 │    24  Private           369667  Some-college             10  Never-m ⋯\n",
       "    10 │    55  Private           104996  7th-8th                   4  Married\n",
       "    11 │    65  Private           184454  HS-grad                   9  Married\n",
       "   ⋮   │   ⋮           ⋮            ⋮          ⋮              ⋮                ⋱\n",
       " 48781 │    32  Private            34066  10th                      6  Married\n",
       " 48782 │    43  Private            84661  Assoc-voc                11  Married ⋯\n",
       " 48783 │    32  Private           116138  Masters                  14  Never-m\n",
       " 48784 │    53  Private           321865  Masters                  14  Married\n",
       " 48785 │    22  Private           310152  Some-college             10  Never-m\n",
       " 48786 │    27  Private           257302  Assoc-acdm               12  Married ⋯\n",
       " 48787 │    40  Private           154374  HS-grad                   9  Married\n",
       " 48788 │    58  Private           151910  HS-grad                   9  Widowed\n",
       " 48789 │    22  Private           201490  HS-grad                   9  Never-m\n",
       " 48790 │    52  Self-emp-inc      287927  HS-grad                   9  Married ⋯\n",
       "\u001b[36m                                               10 columns and 48769 rows omitted\u001b[0m"
      ]
     },
     "execution_count": 37,
     "metadata": {},
     "output_type": "execute_result"
    }
   ],
   "source": [
    "unique(df)"
   ]
  },
  {
   "cell_type": "code",
   "execution_count": 41,
   "id": "00489ee2-f1a4-4e28-9c2b-4948d025fc3e",
   "metadata": {},
   "outputs": [
    {
     "data": {
      "text/html": [
       "<div><div style = \"float: left;\"><span>1206×15 DataFrame</span></div><div style = \"float: right;\"><span style = \"font-style: italic;\">1181 rows omitted</span></div><div style = \"clear: both;\"></div></div><div class = \"data-frame\" style = \"overflow-x: scroll;\"><table class = \"data-frame\" style = \"margin-bottom: 6px;\"><thead><tr class = \"header\"><th class = \"rowNumber\" style = \"font-weight: bold; text-align: right;\">Row</th><th style = \"text-align: left;\">age</th><th style = \"text-align: left;\">workclass</th><th style = \"text-align: left;\">fnlwgt</th><th style = \"text-align: left;\">education</th><th style = \"text-align: left;\">education_num</th><th style = \"text-align: left;\">marital_status</th><th style = \"text-align: left;\">occupation</th><th style = \"text-align: left;\">relationship</th><th style = \"text-align: left;\">race</th><th style = \"text-align: left;\">sex</th><th style = \"text-align: left;\">capital_gain</th><th style = \"text-align: left;\">capital_loss</th><th style = \"text-align: left;\">hours_per_week</th><th style = \"text-align: left;\">native_country</th><th style = \"text-align: left;\">class</th></tr><tr class = \"subheader headerLastRow\"><th class = \"rowNumber\" style = \"font-weight: bold; text-align: right;\"></th><th title = \"Int64\" style = \"text-align: left;\">Int64</th><th title = \"String31\" style = \"text-align: left;\">String31</th><th title = \"Int64\" style = \"text-align: left;\">Int64</th><th title = \"String15\" style = \"text-align: left;\">String15</th><th title = \"Int64\" style = \"text-align: left;\">Int64</th><th title = \"String31\" style = \"text-align: left;\">String31</th><th title = \"String31\" style = \"text-align: left;\">String31</th><th title = \"String15\" style = \"text-align: left;\">String15</th><th title = \"String31\" style = \"text-align: left;\">String31</th><th title = \"String7\" style = \"text-align: left;\">String7</th><th title = \"Int64\" style = \"text-align: left;\">Int64</th><th title = \"Int64\" style = \"text-align: left;\">Int64</th><th title = \"Int64\" style = \"text-align: left;\">Int64</th><th title = \"String31\" style = \"text-align: left;\">String31</th><th title = \"String7\" style = \"text-align: left;\">String7</th></tr></thead><tbody><tr><td class = \"rowNumber\" style = \"font-weight: bold; text-align: right;\">1</td><td style = \"text-align: right;\">24</td><td style = \"text-align: left;\">Private</td><td style = \"text-align: right;\">369667</td><td style = \"text-align: left;\">Some-college</td><td style = \"text-align: right;\">10</td><td style = \"text-align: left;\">Never-married</td><td style = \"text-align: left;\">Other-service</td><td style = \"text-align: left;\">Unmarried</td><td style = \"text-align: left;\">White</td><td style = \"text-align: left;\">Female</td><td style = \"text-align: right;\">0</td><td style = \"text-align: right;\">0</td><td style = \"text-align: right;\">40</td><td style = \"text-align: left;\">United-States</td><td style = \"text-align: left;\">&lt;=50K</td></tr><tr><td class = \"rowNumber\" style = \"font-weight: bold; text-align: right;\">2</td><td style = \"text-align: right;\">24</td><td style = \"text-align: left;\">Self-emp-not-inc</td><td style = \"text-align: right;\">188274</td><td style = \"text-align: left;\">Bachelors</td><td style = \"text-align: right;\">13</td><td style = \"text-align: left;\">Never-married</td><td style = \"text-align: left;\">Sales</td><td style = \"text-align: left;\">Not-in-family</td><td style = \"text-align: left;\">White</td><td style = \"text-align: left;\">Male</td><td style = \"text-align: right;\">0</td><td style = \"text-align: right;\">0</td><td style = \"text-align: right;\">50</td><td style = \"text-align: left;\">United-States</td><td style = \"text-align: left;\">&lt;=50K</td></tr><tr><td class = \"rowNumber\" style = \"font-weight: bold; text-align: right;\">3</td><td style = \"text-align: right;\">24</td><td style = \"text-align: left;\">Private</td><td style = \"text-align: right;\">83141</td><td style = \"text-align: left;\">Some-college</td><td style = \"text-align: right;\">10</td><td style = \"text-align: left;\">Separated</td><td style = \"text-align: left;\">Other-service</td><td style = \"text-align: left;\">Not-in-family</td><td style = \"text-align: left;\">White</td><td style = \"text-align: left;\">Male</td><td style = \"text-align: right;\">0</td><td style = \"text-align: right;\">1876</td><td style = \"text-align: right;\">40</td><td style = \"text-align: left;\">United-States</td><td style = \"text-align: left;\">&lt;=50K</td></tr><tr><td class = \"rowNumber\" style = \"font-weight: bold; text-align: right;\">4</td><td style = \"text-align: right;\">24</td><td style = \"text-align: left;\">Federal-gov</td><td style = \"text-align: right;\">228724</td><td style = \"text-align: left;\">Some-college</td><td style = \"text-align: right;\">10</td><td style = \"text-align: left;\">Never-married</td><td style = \"text-align: left;\">Armed-Forces</td><td style = \"text-align: left;\">Not-in-family</td><td style = \"text-align: left;\">White</td><td style = \"text-align: left;\">Male</td><td style = \"text-align: right;\">0</td><td style = \"text-align: right;\">0</td><td style = \"text-align: right;\">40</td><td style = \"text-align: left;\">United-States</td><td style = \"text-align: left;\">&lt;=50K</td></tr><tr><td class = \"rowNumber\" style = \"font-weight: bold; text-align: right;\">5</td><td style = \"text-align: right;\">24</td><td style = \"text-align: left;\">Private</td><td style = \"text-align: right;\">247846</td><td style = \"text-align: left;\">HS-grad</td><td style = \"text-align: right;\">9</td><td style = \"text-align: left;\">Never-married</td><td style = \"text-align: left;\">Craft-repair</td><td style = \"text-align: left;\">Unmarried</td><td style = \"text-align: left;\">Black</td><td style = \"text-align: left;\">Female</td><td style = \"text-align: right;\">0</td><td style = \"text-align: right;\">0</td><td style = \"text-align: right;\">40</td><td style = \"text-align: left;\">United-States</td><td style = \"text-align: left;\">&lt;=50K</td></tr><tr><td class = \"rowNumber\" style = \"font-weight: bold; text-align: right;\">6</td><td style = \"text-align: right;\">24</td><td style = \"text-align: left;\">Private</td><td style = \"text-align: right;\">325596</td><td style = \"text-align: left;\">Assoc-voc</td><td style = \"text-align: right;\">11</td><td style = \"text-align: left;\">Married-civ-spouse</td><td style = \"text-align: left;\">Machine-op-inspct</td><td style = \"text-align: left;\">Husband</td><td style = \"text-align: left;\">White</td><td style = \"text-align: left;\">Male</td><td style = \"text-align: right;\">0</td><td style = \"text-align: right;\">0</td><td style = \"text-align: right;\">45</td><td style = \"text-align: left;\">United-States</td><td style = \"text-align: left;\">&lt;=50K</td></tr><tr><td class = \"rowNumber\" style = \"font-weight: bold; text-align: right;\">7</td><td style = \"text-align: right;\">24</td><td style = \"text-align: left;\">Private</td><td style = \"text-align: right;\">313956</td><td style = \"text-align: left;\">Bachelors</td><td style = \"text-align: right;\">13</td><td style = \"text-align: left;\">Married-civ-spouse</td><td style = \"text-align: left;\">Prof-specialty</td><td style = \"text-align: left;\">Husband</td><td style = \"text-align: left;\">White</td><td style = \"text-align: left;\">Male</td><td style = \"text-align: right;\">0</td><td style = \"text-align: right;\">0</td><td style = \"text-align: right;\">40</td><td style = \"text-align: left;\">United-States</td><td style = \"text-align: left;\">&gt;50K</td></tr><tr><td class = \"rowNumber\" style = \"font-weight: bold; text-align: right;\">8</td><td style = \"text-align: right;\">24</td><td style = \"text-align: left;\">Private</td><td style = \"text-align: right;\">224238</td><td style = \"text-align: left;\">Bachelors</td><td style = \"text-align: right;\">13</td><td style = \"text-align: left;\">Never-married</td><td style = \"text-align: left;\">Adm-clerical</td><td style = \"text-align: left;\">Own-child</td><td style = \"text-align: left;\">White</td><td style = \"text-align: left;\">Male</td><td style = \"text-align: right;\">0</td><td style = \"text-align: right;\">0</td><td style = \"text-align: right;\">40</td><td style = \"text-align: left;\">United-States</td><td style = \"text-align: left;\">&lt;=50K</td></tr><tr><td class = \"rowNumber\" style = \"font-weight: bold; text-align: right;\">9</td><td style = \"text-align: right;\">24</td><td style = \"text-align: left;\">Private</td><td style = \"text-align: right;\">279175</td><td style = \"text-align: left;\">HS-grad</td><td style = \"text-align: right;\">9</td><td style = \"text-align: left;\">Married-civ-spouse</td><td style = \"text-align: left;\">Craft-repair</td><td style = \"text-align: left;\">Husband</td><td style = \"text-align: left;\">White</td><td style = \"text-align: left;\">Male</td><td style = \"text-align: right;\">0</td><td style = \"text-align: right;\">0</td><td style = \"text-align: right;\">40</td><td style = \"text-align: left;\">United-States</td><td style = \"text-align: left;\">&lt;=50K</td></tr><tr><td class = \"rowNumber\" style = \"font-weight: bold; text-align: right;\">10</td><td style = \"text-align: right;\">24</td><td style = \"text-align: left;\">Private</td><td style = \"text-align: right;\">154835</td><td style = \"text-align: left;\">HS-grad</td><td style = \"text-align: right;\">9</td><td style = \"text-align: left;\">Never-married</td><td style = \"text-align: left;\">Exec-managerial</td><td style = \"text-align: left;\">Own-child</td><td style = \"text-align: left;\">Asian-Pac-Islander</td><td style = \"text-align: left;\">Female</td><td style = \"text-align: right;\">0</td><td style = \"text-align: right;\">0</td><td style = \"text-align: right;\">40</td><td style = \"text-align: left;\">South</td><td style = \"text-align: left;\">&lt;=50K</td></tr><tr><td class = \"rowNumber\" style = \"font-weight: bold; text-align: right;\">11</td><td style = \"text-align: right;\">24</td><td style = \"text-align: left;\">Private</td><td style = \"text-align: right;\">183772</td><td style = \"text-align: left;\">HS-grad</td><td style = \"text-align: right;\">9</td><td style = \"text-align: left;\">Never-married</td><td style = \"text-align: left;\">Craft-repair</td><td style = \"text-align: left;\">Unmarried</td><td style = \"text-align: left;\">White</td><td style = \"text-align: left;\">Female</td><td style = \"text-align: right;\">0</td><td style = \"text-align: right;\">0</td><td style = \"text-align: right;\">40</td><td style = \"text-align: left;\">United-States</td><td style = \"text-align: left;\">&lt;=50K</td></tr><tr><td class = \"rowNumber\" style = \"font-weight: bold; text-align: right;\">12</td><td style = \"text-align: right;\">24</td><td style = \"text-align: left;\">Private</td><td style = \"text-align: right;\">302195</td><td style = \"text-align: left;\">Bachelors</td><td style = \"text-align: right;\">13</td><td style = \"text-align: left;\">Never-married</td><td style = \"text-align: left;\">Sales</td><td style = \"text-align: left;\">Not-in-family</td><td style = \"text-align: left;\">White</td><td style = \"text-align: left;\">Male</td><td style = \"text-align: right;\">0</td><td style = \"text-align: right;\">0</td><td style = \"text-align: right;\">45</td><td style = \"text-align: left;\">United-States</td><td style = \"text-align: left;\">&lt;=50K</td></tr><tr><td class = \"rowNumber\" style = \"font-weight: bold; text-align: right;\">13</td><td style = \"text-align: right;\">24</td><td style = \"text-align: left;\">Private</td><td style = \"text-align: right;\">102258</td><td style = \"text-align: left;\">Bachelors</td><td style = \"text-align: right;\">13</td><td style = \"text-align: left;\">Married-civ-spouse</td><td style = \"text-align: left;\">Sales</td><td style = \"text-align: left;\">Husband</td><td style = \"text-align: left;\">White</td><td style = \"text-align: left;\">Male</td><td style = \"text-align: right;\">0</td><td style = \"text-align: right;\">0</td><td style = \"text-align: right;\">40</td><td style = \"text-align: left;\">United-States</td><td style = \"text-align: left;\">&lt;=50K</td></tr><tr><td style = \"text-align: right;\">&vellip;</td><td style = \"text-align: right;\">&vellip;</td><td style = \"text-align: right;\">&vellip;</td><td style = \"text-align: right;\">&vellip;</td><td style = \"text-align: right;\">&vellip;</td><td style = \"text-align: right;\">&vellip;</td><td style = \"text-align: right;\">&vellip;</td><td style = \"text-align: right;\">&vellip;</td><td style = \"text-align: right;\">&vellip;</td><td style = \"text-align: right;\">&vellip;</td><td style = \"text-align: right;\">&vellip;</td><td style = \"text-align: right;\">&vellip;</td><td style = \"text-align: right;\">&vellip;</td><td style = \"text-align: right;\">&vellip;</td><td style = \"text-align: right;\">&vellip;</td><td style = \"text-align: right;\">&vellip;</td></tr><tr><td class = \"rowNumber\" style = \"font-weight: bold; text-align: right;\">1195</td><td style = \"text-align: right;\">24</td><td style = \"text-align: left;\">Federal-gov</td><td style = \"text-align: right;\">312017</td><td style = \"text-align: left;\">Some-college</td><td style = \"text-align: right;\">10</td><td style = \"text-align: left;\">Never-married</td><td style = \"text-align: left;\">Exec-managerial</td><td style = \"text-align: left;\">Own-child</td><td style = \"text-align: left;\">White</td><td style = \"text-align: left;\">Male</td><td style = \"text-align: right;\">0</td><td style = \"text-align: right;\">0</td><td style = \"text-align: right;\">40</td><td style = \"text-align: left;\">United-States</td><td style = \"text-align: left;\">&lt;=50K</td></tr><tr><td class = \"rowNumber\" style = \"font-weight: bold; text-align: right;\">1196</td><td style = \"text-align: right;\">24</td><td style = \"text-align: left;\">Private</td><td style = \"text-align: right;\">456367</td><td style = \"text-align: left;\">HS-grad</td><td style = \"text-align: right;\">9</td><td style = \"text-align: left;\">Married-civ-spouse</td><td style = \"text-align: left;\">Craft-repair</td><td style = \"text-align: left;\">Husband</td><td style = \"text-align: left;\">White</td><td style = \"text-align: left;\">Male</td><td style = \"text-align: right;\">0</td><td style = \"text-align: right;\">0</td><td style = \"text-align: right;\">40</td><td style = \"text-align: left;\">United-States</td><td style = \"text-align: left;\">&lt;=50K</td></tr><tr><td class = \"rowNumber\" style = \"font-weight: bold; text-align: right;\">1197</td><td style = \"text-align: right;\">24</td><td style = \"text-align: left;\">Private</td><td style = \"text-align: right;\">128477</td><td style = \"text-align: left;\">Masters</td><td style = \"text-align: right;\">14</td><td style = \"text-align: left;\">Never-married</td><td style = \"text-align: left;\">Prof-specialty</td><td style = \"text-align: left;\">Not-in-family</td><td style = \"text-align: left;\">White</td><td style = \"text-align: left;\">Female</td><td style = \"text-align: right;\">0</td><td style = \"text-align: right;\">0</td><td style = \"text-align: right;\">40</td><td style = \"text-align: left;\">United-States</td><td style = \"text-align: left;\">&lt;=50K</td></tr><tr><td class = \"rowNumber\" style = \"font-weight: bold; text-align: right;\">1198</td><td style = \"text-align: right;\">24</td><td style = \"text-align: left;\">Private</td><td style = \"text-align: right;\">206008</td><td style = \"text-align: left;\">Assoc-acdm</td><td style = \"text-align: right;\">12</td><td style = \"text-align: left;\">Never-married</td><td style = \"text-align: left;\">Prof-specialty</td><td style = \"text-align: left;\">Own-child</td><td style = \"text-align: left;\">Black</td><td style = \"text-align: left;\">Male</td><td style = \"text-align: right;\">0</td><td style = \"text-align: right;\">0</td><td style = \"text-align: right;\">20</td><td style = \"text-align: left;\">United-States</td><td style = \"text-align: left;\">&lt;=50K</td></tr><tr><td class = \"rowNumber\" style = \"font-weight: bold; text-align: right;\">1199</td><td style = \"text-align: right;\">24</td><td style = \"text-align: left;\">Private</td><td style = \"text-align: right;\">34568</td><td style = \"text-align: left;\">Assoc-voc</td><td style = \"text-align: right;\">11</td><td style = \"text-align: left;\">Never-married</td><td style = \"text-align: left;\">Transport-moving</td><td style = \"text-align: left;\">Not-in-family</td><td style = \"text-align: left;\">White</td><td style = \"text-align: left;\">Male</td><td style = \"text-align: right;\">0</td><td style = \"text-align: right;\">0</td><td style = \"text-align: right;\">40</td><td style = \"text-align: left;\">United-States</td><td style = \"text-align: left;\">&lt;=50K</td></tr><tr><td class = \"rowNumber\" style = \"font-weight: bold; text-align: right;\">1200</td><td style = \"text-align: right;\">24</td><td style = \"text-align: left;\">Private</td><td style = \"text-align: right;\">427686</td><td style = \"text-align: left;\">1st-4th</td><td style = \"text-align: right;\">2</td><td style = \"text-align: left;\">Married-civ-spouse</td><td style = \"text-align: left;\">Handlers-cleaners</td><td style = \"text-align: left;\">Other-relative</td><td style = \"text-align: left;\">White</td><td style = \"text-align: left;\">Male</td><td style = \"text-align: right;\">0</td><td style = \"text-align: right;\">0</td><td style = \"text-align: right;\">40</td><td style = \"text-align: left;\">Mexico</td><td style = \"text-align: left;\">&lt;=50K</td></tr><tr><td class = \"rowNumber\" style = \"font-weight: bold; text-align: right;\">1201</td><td style = \"text-align: right;\">24</td><td style = \"text-align: left;\">Private</td><td style = \"text-align: right;\">118657</td><td style = \"text-align: left;\">12th</td><td style = \"text-align: right;\">8</td><td style = \"text-align: left;\">Married-civ-spouse</td><td style = \"text-align: left;\">Machine-op-inspct</td><td style = \"text-align: left;\">Husband</td><td style = \"text-align: left;\">White</td><td style = \"text-align: left;\">Male</td><td style = \"text-align: right;\">0</td><td style = \"text-align: right;\">0</td><td style = \"text-align: right;\">40</td><td style = \"text-align: left;\">United-States</td><td style = \"text-align: left;\">&lt;=50K</td></tr><tr><td class = \"rowNumber\" style = \"font-weight: bold; text-align: right;\">1202</td><td style = \"text-align: right;\">24</td><td style = \"text-align: left;\">Private</td><td style = \"text-align: right;\">176580</td><td style = \"text-align: left;\">5th-6th</td><td style = \"text-align: right;\">3</td><td style = \"text-align: left;\">Married-spouse-absent</td><td style = \"text-align: left;\">Farming-fishing</td><td style = \"text-align: left;\">Not-in-family</td><td style = \"text-align: left;\">White</td><td style = \"text-align: left;\">Male</td><td style = \"text-align: right;\">0</td><td style = \"text-align: right;\">0</td><td style = \"text-align: right;\">40</td><td style = \"text-align: left;\">Mexico</td><td style = \"text-align: left;\">&lt;=50K</td></tr><tr><td class = \"rowNumber\" style = \"font-weight: bold; text-align: right;\">1203</td><td style = \"text-align: right;\">24</td><td style = \"text-align: left;\">Private</td><td style = \"text-align: right;\">222005</td><td style = \"text-align: left;\">HS-grad</td><td style = \"text-align: right;\">9</td><td style = \"text-align: left;\">Never-married</td><td style = \"text-align: left;\">Other-service</td><td style = \"text-align: left;\">Other-relative</td><td style = \"text-align: left;\">White</td><td style = \"text-align: left;\">Male</td><td style = \"text-align: right;\">0</td><td style = \"text-align: right;\">0</td><td style = \"text-align: right;\">30</td><td style = \"text-align: left;\">United-States</td><td style = \"text-align: left;\">&lt;=50K</td></tr><tr><td class = \"rowNumber\" style = \"font-weight: bold; text-align: right;\">1204</td><td style = \"text-align: right;\">24</td><td style = \"text-align: left;\">Private</td><td style = \"text-align: right;\">284317</td><td style = \"text-align: left;\">Bachelors</td><td style = \"text-align: right;\">13</td><td style = \"text-align: left;\">Never-married</td><td style = \"text-align: left;\">Machine-op-inspct</td><td style = \"text-align: left;\">Not-in-family</td><td style = \"text-align: left;\">White</td><td style = \"text-align: left;\">Female</td><td style = \"text-align: right;\">0</td><td style = \"text-align: right;\">0</td><td style = \"text-align: right;\">32</td><td style = \"text-align: left;\">United-States</td><td style = \"text-align: left;\">&lt;=50K</td></tr><tr><td class = \"rowNumber\" style = \"font-weight: bold; text-align: right;\">1205</td><td style = \"text-align: right;\">24</td><td style = \"text-align: left;\">Private</td><td style = \"text-align: right;\">216984</td><td style = \"text-align: left;\">Some-college</td><td style = \"text-align: right;\">10</td><td style = \"text-align: left;\">Married-civ-spouse</td><td style = \"text-align: left;\">Other-service</td><td style = \"text-align: left;\">Own-child</td><td style = \"text-align: left;\">Asian-Pac-Islander</td><td style = \"text-align: left;\">Female</td><td style = \"text-align: right;\">0</td><td style = \"text-align: right;\">0</td><td style = \"text-align: right;\">35</td><td style = \"text-align: left;\">United-States</td><td style = \"text-align: left;\">&lt;=50K</td></tr><tr><td class = \"rowNumber\" style = \"font-weight: bold; text-align: right;\">1206</td><td style = \"text-align: right;\">24</td><td style = \"text-align: left;\">Private</td><td style = \"text-align: right;\">381895</td><td style = \"text-align: left;\">11th</td><td style = \"text-align: right;\">7</td><td style = \"text-align: left;\">Divorced</td><td style = \"text-align: left;\">Machine-op-inspct</td><td style = \"text-align: left;\">Unmarried</td><td style = \"text-align: left;\">White</td><td style = \"text-align: left;\">Female</td><td style = \"text-align: right;\">0</td><td style = \"text-align: right;\">0</td><td style = \"text-align: right;\">40</td><td style = \"text-align: left;\">United-States</td><td style = \"text-align: left;\">&lt;=50K</td></tr></tbody></table></div>"
      ],
      "text/latex": [
       "\\begin{tabular}{r|ccccccc}\n",
       "\t& age & workclass & fnlwgt & education & education\\_num & marital\\_status & \\\\\n",
       "\t\\hline\n",
       "\t& Int64 & String31 & Int64 & String15 & Int64 & String31 & \\\\\n",
       "\t\\hline\n",
       "\t1 & 24 & Private & 369667 & Some-college & 10 & Never-married & $\\dots$ \\\\\n",
       "\t2 & 24 & Self-emp-not-inc & 188274 & Bachelors & 13 & Never-married & $\\dots$ \\\\\n",
       "\t3 & 24 & Private & 83141 & Some-college & 10 & Separated & $\\dots$ \\\\\n",
       "\t4 & 24 & Federal-gov & 228724 & Some-college & 10 & Never-married & $\\dots$ \\\\\n",
       "\t5 & 24 & Private & 247846 & HS-grad & 9 & Never-married & $\\dots$ \\\\\n",
       "\t6 & 24 & Private & 325596 & Assoc-voc & 11 & Married-civ-spouse & $\\dots$ \\\\\n",
       "\t7 & 24 & Private & 313956 & Bachelors & 13 & Married-civ-spouse & $\\dots$ \\\\\n",
       "\t8 & 24 & Private & 224238 & Bachelors & 13 & Never-married & $\\dots$ \\\\\n",
       "\t9 & 24 & Private & 279175 & HS-grad & 9 & Married-civ-spouse & $\\dots$ \\\\\n",
       "\t10 & 24 & Private & 154835 & HS-grad & 9 & Never-married & $\\dots$ \\\\\n",
       "\t11 & 24 & Private & 183772 & HS-grad & 9 & Never-married & $\\dots$ \\\\\n",
       "\t12 & 24 & Private & 302195 & Bachelors & 13 & Never-married & $\\dots$ \\\\\n",
       "\t13 & 24 & Private & 102258 & Bachelors & 13 & Married-civ-spouse & $\\dots$ \\\\\n",
       "\t14 & 24 & State-gov & 322658 & Bachelors & 13 & Never-married & $\\dots$ \\\\\n",
       "\t15 & 24 & Private & 208503 & Some-college & 10 & Never-married & $\\dots$ \\\\\n",
       "\t16 & 24 & Private & 124751 & HS-grad & 9 & Never-married & $\\dots$ \\\\\n",
       "\t17 & 24 & Private & 194630 & Bachelors & 13 & Never-married & $\\dots$ \\\\\n",
       "\t18 & 24 & Local-gov & 238384 & Bachelors & 13 & Never-married & $\\dots$ \\\\\n",
       "\t19 & 24 & Private & 206827 & Some-college & 10 & Never-married & $\\dots$ \\\\\n",
       "\t20 & 24 & Private & 403107 & 5th-6th & 3 & Never-married & $\\dots$ \\\\\n",
       "\t21 & 24 & Private & 131220 & HS-grad & 9 & Never-married & $\\dots$ \\\\\n",
       "\t22 & 24 & Private & 321435 & Bachelors & 13 & Married-civ-spouse & $\\dots$ \\\\\n",
       "\t23 & 24 & Private & 314819 & Some-college & 10 & Never-married & $\\dots$ \\\\\n",
       "\t24 & 24 & Private & 83774 & HS-grad & 9 & Married-civ-spouse & $\\dots$ \\\\\n",
       "\t25 & 24 & Private & 236696 & Bachelors & 13 & Never-married & $\\dots$ \\\\\n",
       "\t26 & 24 & Private & 311311 & Bachelors & 13 & Never-married & $\\dots$ \\\\\n",
       "\t27 & 24 & Private & 109456 & Bachelors & 13 & Never-married & $\\dots$ \\\\\n",
       "\t28 & 24 & Private & 164574 & HS-grad & 9 & Married-civ-spouse & $\\dots$ \\\\\n",
       "\t29 & 24 & Private & 194630 & Bachelors & 13 & Never-married & $\\dots$ \\\\\n",
       "\t30 & 24 & Private & 208946 & Assoc-voc & 11 & Never-married & $\\dots$ \\\\\n",
       "\t$\\dots$ & $\\dots$ & $\\dots$ & $\\dots$ & $\\dots$ & $\\dots$ & $\\dots$ &  \\\\\n",
       "\\end{tabular}\n"
      ],
      "text/plain": [
       "\u001b[1m1206×15 DataFrame\u001b[0m\n",
       "\u001b[1m  Row \u001b[0m│\u001b[1m age   \u001b[0m\u001b[1m workclass        \u001b[0m\u001b[1m fnlwgt \u001b[0m\u001b[1m education    \u001b[0m\u001b[1m education_num \u001b[0m\u001b[1m marital_\u001b[0m ⋯\n",
       "      │\u001b[90m Int64 \u001b[0m\u001b[90m String31         \u001b[0m\u001b[90m Int64  \u001b[0m\u001b[90m String15     \u001b[0m\u001b[90m Int64         \u001b[0m\u001b[90m String31\u001b[0m ⋯\n",
       "──────┼─────────────────────────────────────────────────────────────────────────\n",
       "    1 │    24  Private           369667  Some-college             10  Never-ma ⋯\n",
       "    2 │    24  Self-emp-not-inc  188274  Bachelors                13  Never-ma\n",
       "    3 │    24  Private            83141  Some-college             10  Separate\n",
       "    4 │    24  Federal-gov       228724  Some-college             10  Never-ma\n",
       "    5 │    24  Private           247846  HS-grad                   9  Never-ma ⋯\n",
       "    6 │    24  Private           325596  Assoc-voc                11  Married-\n",
       "    7 │    24  Private           313956  Bachelors                13  Married-\n",
       "    8 │    24  Private           224238  Bachelors                13  Never-ma\n",
       "    9 │    24  Private           279175  HS-grad                   9  Married- ⋯\n",
       "   10 │    24  Private           154835  HS-grad                   9  Never-ma\n",
       "   11 │    24  Private           183772  HS-grad                   9  Never-ma\n",
       "  ⋮   │   ⋮           ⋮            ⋮          ⋮              ⋮                 ⋱\n",
       " 1197 │    24  Private           128477  Masters                  14  Never-ma\n",
       " 1198 │    24  Private           206008  Assoc-acdm               12  Never-ma ⋯\n",
       " 1199 │    24  Private            34568  Assoc-voc                11  Never-ma\n",
       " 1200 │    24  Private           427686  1st-4th                   2  Married-\n",
       " 1201 │    24  Private           118657  12th                      8  Married-\n",
       " 1202 │    24  Private           176580  5th-6th                   3  Married- ⋯\n",
       " 1203 │    24  Private           222005  HS-grad                   9  Never-ma\n",
       " 1204 │    24  Private           284317  Bachelors                13  Never-ma\n",
       " 1205 │    24  Private           216984  Some-college             10  Married-\n",
       " 1206 │    24  Private           381895  11th                      7  Divorced ⋯\n",
       "\u001b[36m                                                10 columns and 1185 rows omitted\u001b[0m"
      ]
     },
     "execution_count": 41,
     "metadata": {},
     "output_type": "execute_result"
    }
   ],
   "source": [
    "filter(:age => ==(24), df)"
   ]
  },
  {
   "cell_type": "code",
   "execution_count": 45,
   "id": "c5951717-88bf-427d-a77f-fb742673f5c7",
   "metadata": {},
   "outputs": [
    {
     "data": {
      "text/html": [
       "<div><div style = \"float: left;\"><span>8025×15 DataFrame</span></div><div style = \"float: right;\"><span style = \"font-style: italic;\">8000 rows omitted</span></div><div style = \"clear: both;\"></div></div><div class = \"data-frame\" style = \"overflow-x: scroll;\"><table class = \"data-frame\" style = \"margin-bottom: 6px;\"><thead><tr class = \"header\"><th class = \"rowNumber\" style = \"font-weight: bold; text-align: right;\">Row</th><th style = \"text-align: left;\">age</th><th style = \"text-align: left;\">workclass</th><th style = \"text-align: left;\">fnlwgt</th><th style = \"text-align: left;\">education</th><th style = \"text-align: left;\">education_num</th><th style = \"text-align: left;\">marital_status</th><th style = \"text-align: left;\">occupation</th><th style = \"text-align: left;\">relationship</th><th style = \"text-align: left;\">race</th><th style = \"text-align: left;\">sex</th><th style = \"text-align: left;\">capital_gain</th><th style = \"text-align: left;\">capital_loss</th><th style = \"text-align: left;\">hours_per_week</th><th style = \"text-align: left;\">native_country</th><th style = \"text-align: left;\">class</th></tr><tr class = \"subheader headerLastRow\"><th class = \"rowNumber\" style = \"font-weight: bold; text-align: right;\"></th><th title = \"Int64\" style = \"text-align: left;\">Int64</th><th title = \"String31\" style = \"text-align: left;\">String31</th><th title = \"Int64\" style = \"text-align: left;\">Int64</th><th title = \"String15\" style = \"text-align: left;\">String15</th><th title = \"Int64\" style = \"text-align: left;\">Int64</th><th title = \"String31\" style = \"text-align: left;\">String31</th><th title = \"String31\" style = \"text-align: left;\">String31</th><th title = \"String15\" style = \"text-align: left;\">String15</th><th title = \"String31\" style = \"text-align: left;\">String31</th><th title = \"String7\" style = \"text-align: left;\">String7</th><th title = \"Int64\" style = \"text-align: left;\">Int64</th><th title = \"Int64\" style = \"text-align: left;\">Int64</th><th title = \"Int64\" style = \"text-align: left;\">Int64</th><th title = \"String31\" style = \"text-align: left;\">String31</th><th title = \"String7\" style = \"text-align: left;\">String7</th></tr></thead><tbody><tr><td class = \"rowNumber\" style = \"font-weight: bold; text-align: right;\">1</td><td style = \"text-align: right;\">36</td><td style = \"text-align: left;\">Federal-gov</td><td style = \"text-align: right;\">212465</td><td style = \"text-align: left;\">Bachelors</td><td style = \"text-align: right;\">13</td><td style = \"text-align: left;\">Married-civ-spouse</td><td style = \"text-align: left;\">Adm-clerical</td><td style = \"text-align: left;\">Husband</td><td style = \"text-align: left;\">White</td><td style = \"text-align: left;\">Male</td><td style = \"text-align: right;\">0</td><td style = \"text-align: right;\">0</td><td style = \"text-align: right;\">40</td><td style = \"text-align: left;\">United-States</td><td style = \"text-align: left;\">&lt;=50K</td></tr><tr><td class = \"rowNumber\" style = \"font-weight: bold; text-align: right;\">2</td><td style = \"text-align: right;\">34</td><td style = \"text-align: left;\">Private</td><td style = \"text-align: right;\">107914</td><td style = \"text-align: left;\">Bachelors</td><td style = \"text-align: right;\">13</td><td style = \"text-align: left;\">Married-civ-spouse</td><td style = \"text-align: left;\">Tech-support</td><td style = \"text-align: left;\">Husband</td><td style = \"text-align: left;\">White</td><td style = \"text-align: left;\">Male</td><td style = \"text-align: right;\">0</td><td style = \"text-align: right;\">0</td><td style = \"text-align: right;\">47</td><td style = \"text-align: left;\">United-States</td><td style = \"text-align: left;\">&gt;50K</td></tr><tr><td class = \"rowNumber\" style = \"font-weight: bold; text-align: right;\">3</td><td style = \"text-align: right;\">25</td><td style = \"text-align: left;\">Private</td><td style = \"text-align: right;\">220931</td><td style = \"text-align: left;\">Bachelors</td><td style = \"text-align: right;\">13</td><td style = \"text-align: left;\">Never-married</td><td style = \"text-align: left;\">Prof-specialty</td><td style = \"text-align: left;\">Not-in-family</td><td style = \"text-align: left;\">White</td><td style = \"text-align: left;\">Male</td><td style = \"text-align: right;\">0</td><td style = \"text-align: right;\">0</td><td style = \"text-align: right;\">43</td><td style = \"text-align: left;\">Peru</td><td style = \"text-align: left;\">&lt;=50K</td></tr><tr><td class = \"rowNumber\" style = \"font-weight: bold; text-align: right;\">4</td><td style = \"text-align: right;\">25</td><td style = \"text-align: left;\">Private</td><td style = \"text-align: right;\">205947</td><td style = \"text-align: left;\">Bachelors</td><td style = \"text-align: right;\">13</td><td style = \"text-align: left;\">Married-civ-spouse</td><td style = \"text-align: left;\">Prof-specialty</td><td style = \"text-align: left;\">Husband</td><td style = \"text-align: left;\">White</td><td style = \"text-align: left;\">Male</td><td style = \"text-align: right;\">0</td><td style = \"text-align: right;\">0</td><td style = \"text-align: right;\">40</td><td style = \"text-align: left;\">United-States</td><td style = \"text-align: left;\">&lt;=50K</td></tr><tr><td class = \"rowNumber\" style = \"font-weight: bold; text-align: right;\">5</td><td style = \"text-align: right;\">24</td><td style = \"text-align: left;\">Self-emp-not-inc</td><td style = \"text-align: right;\">188274</td><td style = \"text-align: left;\">Bachelors</td><td style = \"text-align: right;\">13</td><td style = \"text-align: left;\">Never-married</td><td style = \"text-align: left;\">Sales</td><td style = \"text-align: left;\">Not-in-family</td><td style = \"text-align: left;\">White</td><td style = \"text-align: left;\">Male</td><td style = \"text-align: right;\">0</td><td style = \"text-align: right;\">0</td><td style = \"text-align: right;\">50</td><td style = \"text-align: left;\">United-States</td><td style = \"text-align: left;\">&lt;=50K</td></tr><tr><td class = \"rowNumber\" style = \"font-weight: bold; text-align: right;\">6</td><td style = \"text-align: right;\">36</td><td style = \"text-align: left;\">Local-gov</td><td style = \"text-align: right;\">403681</td><td style = \"text-align: left;\">Bachelors</td><td style = \"text-align: right;\">13</td><td style = \"text-align: left;\">Married-civ-spouse</td><td style = \"text-align: left;\">Prof-specialty</td><td style = \"text-align: left;\">Husband</td><td style = \"text-align: left;\">White</td><td style = \"text-align: left;\">Male</td><td style = \"text-align: right;\">0</td><td style = \"text-align: right;\">0</td><td style = \"text-align: right;\">40</td><td style = \"text-align: left;\">United-States</td><td style = \"text-align: left;\">&gt;50K</td></tr><tr><td class = \"rowNumber\" style = \"font-weight: bold; text-align: right;\">7</td><td style = \"text-align: right;\">34</td><td style = \"text-align: left;\">Local-gov</td><td style = \"text-align: right;\">382078</td><td style = \"text-align: left;\">Bachelors</td><td style = \"text-align: right;\">13</td><td style = \"text-align: left;\">Married-civ-spouse</td><td style = \"text-align: left;\">Exec-managerial</td><td style = \"text-align: left;\">Husband</td><td style = \"text-align: left;\">White</td><td style = \"text-align: left;\">Male</td><td style = \"text-align: right;\">3103</td><td style = \"text-align: right;\">0</td><td style = \"text-align: right;\">50</td><td style = \"text-align: left;\">United-States</td><td style = \"text-align: left;\">&gt;50K</td></tr><tr><td class = \"rowNumber\" style = \"font-weight: bold; text-align: right;\">8</td><td style = \"text-align: right;\">30</td><td style = \"text-align: left;\">Private</td><td style = \"text-align: right;\">101135</td><td style = \"text-align: left;\">Bachelors</td><td style = \"text-align: right;\">13</td><td style = \"text-align: left;\">Never-married</td><td style = \"text-align: left;\">Exec-managerial</td><td style = \"text-align: left;\">Not-in-family</td><td style = \"text-align: left;\">White</td><td style = \"text-align: left;\">Female</td><td style = \"text-align: right;\">0</td><td style = \"text-align: right;\">0</td><td style = \"text-align: right;\">50</td><td style = \"text-align: left;\">United-States</td><td style = \"text-align: left;\">&lt;=50K</td></tr><tr><td class = \"rowNumber\" style = \"font-weight: bold; text-align: right;\">9</td><td style = \"text-align: right;\">41</td><td style = \"text-align: left;\">Private</td><td style = \"text-align: right;\">109912</td><td style = \"text-align: left;\">Bachelors</td><td style = \"text-align: right;\">13</td><td style = \"text-align: left;\">Never-married</td><td style = \"text-align: left;\">Other-service</td><td style = \"text-align: left;\">Not-in-family</td><td style = \"text-align: left;\">White</td><td style = \"text-align: left;\">Female</td><td style = \"text-align: right;\">0</td><td style = \"text-align: right;\">0</td><td style = \"text-align: right;\">40</td><td style = \"text-align: left;\">?</td><td style = \"text-align: left;\">&lt;=50K</td></tr><tr><td class = \"rowNumber\" style = \"font-weight: bold; text-align: right;\">10</td><td style = \"text-align: right;\">23</td><td style = \"text-align: left;\">Private</td><td style = \"text-align: right;\">213734</td><td style = \"text-align: left;\">Bachelors</td><td style = \"text-align: right;\">13</td><td style = \"text-align: left;\">Never-married</td><td style = \"text-align: left;\">Exec-managerial</td><td style = \"text-align: left;\">Not-in-family</td><td style = \"text-align: left;\">White</td><td style = \"text-align: left;\">Male</td><td style = \"text-align: right;\">0</td><td style = \"text-align: right;\">0</td><td style = \"text-align: right;\">40</td><td style = \"text-align: left;\">United-States</td><td style = \"text-align: left;\">&lt;=50K</td></tr><tr><td class = \"rowNumber\" style = \"font-weight: bold; text-align: right;\">11</td><td style = \"text-align: right;\">59</td><td style = \"text-align: left;\">Private</td><td style = \"text-align: right;\">292946</td><td style = \"text-align: left;\">Bachelors</td><td style = \"text-align: right;\">13</td><td style = \"text-align: left;\">Never-married</td><td style = \"text-align: left;\">Exec-managerial</td><td style = \"text-align: left;\">Not-in-family</td><td style = \"text-align: left;\">White</td><td style = \"text-align: left;\">Female</td><td style = \"text-align: right;\">0</td><td style = \"text-align: right;\">0</td><td style = \"text-align: right;\">25</td><td style = \"text-align: left;\">United-States</td><td style = \"text-align: left;\">&lt;=50K</td></tr><tr><td class = \"rowNumber\" style = \"font-weight: bold; text-align: right;\">12</td><td style = \"text-align: right;\">59</td><td style = \"text-align: left;\">Federal-gov</td><td style = \"text-align: right;\">98984</td><td style = \"text-align: left;\">Bachelors</td><td style = \"text-align: right;\">13</td><td style = \"text-align: left;\">Divorced</td><td style = \"text-align: left;\">Adm-clerical</td><td style = \"text-align: left;\">Not-in-family</td><td style = \"text-align: left;\">White</td><td style = \"text-align: left;\">Male</td><td style = \"text-align: right;\">0</td><td style = \"text-align: right;\">0</td><td style = \"text-align: right;\">40</td><td style = \"text-align: left;\">United-States</td><td style = \"text-align: left;\">&lt;=50K</td></tr><tr><td class = \"rowNumber\" style = \"font-weight: bold; text-align: right;\">13</td><td style = \"text-align: right;\">25</td><td style = \"text-align: left;\">Private</td><td style = \"text-align: right;\">235218</td><td style = \"text-align: left;\">Bachelors</td><td style = \"text-align: right;\">13</td><td style = \"text-align: left;\">Never-married</td><td style = \"text-align: left;\">Exec-managerial</td><td style = \"text-align: left;\">Own-child</td><td style = \"text-align: left;\">White</td><td style = \"text-align: left;\">Female</td><td style = \"text-align: right;\">0</td><td style = \"text-align: right;\">0</td><td style = \"text-align: right;\">40</td><td style = \"text-align: left;\">United-States</td><td style = \"text-align: left;\">&lt;=50K</td></tr><tr><td style = \"text-align: right;\">&vellip;</td><td style = \"text-align: right;\">&vellip;</td><td style = \"text-align: right;\">&vellip;</td><td style = \"text-align: right;\">&vellip;</td><td style = \"text-align: right;\">&vellip;</td><td style = \"text-align: right;\">&vellip;</td><td style = \"text-align: right;\">&vellip;</td><td style = \"text-align: right;\">&vellip;</td><td style = \"text-align: right;\">&vellip;</td><td style = \"text-align: right;\">&vellip;</td><td style = \"text-align: right;\">&vellip;</td><td style = \"text-align: right;\">&vellip;</td><td style = \"text-align: right;\">&vellip;</td><td style = \"text-align: right;\">&vellip;</td><td style = \"text-align: right;\">&vellip;</td><td style = \"text-align: right;\">&vellip;</td></tr><tr><td class = \"rowNumber\" style = \"font-weight: bold; text-align: right;\">8014</td><td style = \"text-align: right;\">36</td><td style = \"text-align: left;\">Private</td><td style = \"text-align: right;\">237943</td><td style = \"text-align: left;\">Bachelors</td><td style = \"text-align: right;\">13</td><td style = \"text-align: left;\">Married-civ-spouse</td><td style = \"text-align: left;\">Prof-specialty</td><td style = \"text-align: left;\">Husband</td><td style = \"text-align: left;\">White</td><td style = \"text-align: left;\">Male</td><td style = \"text-align: right;\">0</td><td style = \"text-align: right;\">1977</td><td style = \"text-align: right;\">45</td><td style = \"text-align: left;\">United-States</td><td style = \"text-align: left;\">&gt;50K</td></tr><tr><td class = \"rowNumber\" style = \"font-weight: bold; text-align: right;\">8015</td><td style = \"text-align: right;\">85</td><td style = \"text-align: left;\">Private</td><td style = \"text-align: right;\">98611</td><td style = \"text-align: left;\">Bachelors</td><td style = \"text-align: right;\">13</td><td style = \"text-align: left;\">Married-civ-spouse</td><td style = \"text-align: left;\">Exec-managerial</td><td style = \"text-align: left;\">Husband</td><td style = \"text-align: left;\">White</td><td style = \"text-align: left;\">Male</td><td style = \"text-align: right;\">0</td><td style = \"text-align: right;\">0</td><td style = \"text-align: right;\">3</td><td style = \"text-align: left;\">Poland</td><td style = \"text-align: left;\">&lt;=50K</td></tr><tr><td class = \"rowNumber\" style = \"font-weight: bold; text-align: right;\">8016</td><td style = \"text-align: right;\">24</td><td style = \"text-align: left;\">Private</td><td style = \"text-align: right;\">284317</td><td style = \"text-align: left;\">Bachelors</td><td style = \"text-align: right;\">13</td><td style = \"text-align: left;\">Never-married</td><td style = \"text-align: left;\">Machine-op-inspct</td><td style = \"text-align: left;\">Not-in-family</td><td style = \"text-align: left;\">White</td><td style = \"text-align: left;\">Female</td><td style = \"text-align: right;\">0</td><td style = \"text-align: right;\">0</td><td style = \"text-align: right;\">32</td><td style = \"text-align: left;\">United-States</td><td style = \"text-align: left;\">&lt;=50K</td></tr><tr><td class = \"rowNumber\" style = \"font-weight: bold; text-align: right;\">8017</td><td style = \"text-align: right;\">45</td><td style = \"text-align: left;\">Self-emp-inc</td><td style = \"text-align: right;\">173664</td><td style = \"text-align: left;\">Bachelors</td><td style = \"text-align: right;\">13</td><td style = \"text-align: left;\">Married-civ-spouse</td><td style = \"text-align: left;\">Exec-managerial</td><td style = \"text-align: left;\">Husband</td><td style = \"text-align: left;\">White</td><td style = \"text-align: left;\">Male</td><td style = \"text-align: right;\">0</td><td style = \"text-align: right;\">0</td><td style = \"text-align: right;\">45</td><td style = \"text-align: left;\">United-States</td><td style = \"text-align: left;\">&gt;50K</td></tr><tr><td class = \"rowNumber\" style = \"font-weight: bold; text-align: right;\">8018</td><td style = \"text-align: right;\">35</td><td style = \"text-align: left;\">Local-gov</td><td style = \"text-align: right;\">79649</td><td style = \"text-align: left;\">Bachelors</td><td style = \"text-align: right;\">13</td><td style = \"text-align: left;\">Married-civ-spouse</td><td style = \"text-align: left;\">Prof-specialty</td><td style = \"text-align: left;\">Husband</td><td style = \"text-align: left;\">White</td><td style = \"text-align: left;\">Male</td><td style = \"text-align: right;\">0</td><td style = \"text-align: right;\">0</td><td style = \"text-align: right;\">50</td><td style = \"text-align: left;\">United-States</td><td style = \"text-align: left;\">&lt;=50K</td></tr><tr><td class = \"rowNumber\" style = \"font-weight: bold; text-align: right;\">8019</td><td style = \"text-align: right;\">50</td><td style = \"text-align: left;\">Private</td><td style = \"text-align: right;\">302372</td><td style = \"text-align: left;\">Bachelors</td><td style = \"text-align: right;\">13</td><td style = \"text-align: left;\">Married-civ-spouse</td><td style = \"text-align: left;\">Prof-specialty</td><td style = \"text-align: left;\">Husband</td><td style = \"text-align: left;\">White</td><td style = \"text-align: left;\">Male</td><td style = \"text-align: right;\">0</td><td style = \"text-align: right;\">0</td><td style = \"text-align: right;\">40</td><td style = \"text-align: left;\">United-States</td><td style = \"text-align: left;\">&lt;=50K</td></tr><tr><td class = \"rowNumber\" style = \"font-weight: bold; text-align: right;\">8020</td><td style = \"text-align: right;\">25</td><td style = \"text-align: left;\">Local-gov</td><td style = \"text-align: right;\">514716</td><td style = \"text-align: left;\">Bachelors</td><td style = \"text-align: right;\">13</td><td style = \"text-align: left;\">Never-married</td><td style = \"text-align: left;\">Adm-clerical</td><td style = \"text-align: left;\">Own-child</td><td style = \"text-align: left;\">Black</td><td style = \"text-align: left;\">Female</td><td style = \"text-align: right;\">0</td><td style = \"text-align: right;\">0</td><td style = \"text-align: right;\">40</td><td style = \"text-align: left;\">United-States</td><td style = \"text-align: left;\">&lt;=50K</td></tr><tr><td class = \"rowNumber\" style = \"font-weight: bold; text-align: right;\">8021</td><td style = \"text-align: right;\">35</td><td style = \"text-align: left;\">?</td><td style = \"text-align: right;\">320084</td><td style = \"text-align: left;\">Bachelors</td><td style = \"text-align: right;\">13</td><td style = \"text-align: left;\">Married-civ-spouse</td><td style = \"text-align: left;\">?</td><td style = \"text-align: left;\">Wife</td><td style = \"text-align: left;\">White</td><td style = \"text-align: left;\">Female</td><td style = \"text-align: right;\">0</td><td style = \"text-align: right;\">0</td><td style = \"text-align: right;\">55</td><td style = \"text-align: left;\">United-States</td><td style = \"text-align: left;\">&gt;50K</td></tr><tr><td class = \"rowNumber\" style = \"font-weight: bold; text-align: right;\">8022</td><td style = \"text-align: right;\">30</td><td style = \"text-align: left;\">?</td><td style = \"text-align: right;\">33811</td><td style = \"text-align: left;\">Bachelors</td><td style = \"text-align: right;\">13</td><td style = \"text-align: left;\">Never-married</td><td style = \"text-align: left;\">?</td><td style = \"text-align: left;\">Not-in-family</td><td style = \"text-align: left;\">Asian-Pac-Islander</td><td style = \"text-align: left;\">Female</td><td style = \"text-align: right;\">0</td><td style = \"text-align: right;\">0</td><td style = \"text-align: right;\">99</td><td style = \"text-align: left;\">United-States</td><td style = \"text-align: left;\">&lt;=50K</td></tr><tr><td class = \"rowNumber\" style = \"font-weight: bold; text-align: right;\">8023</td><td style = \"text-align: right;\">54</td><td style = \"text-align: left;\">Private</td><td style = \"text-align: right;\">337992</td><td style = \"text-align: left;\">Bachelors</td><td style = \"text-align: right;\">13</td><td style = \"text-align: left;\">Married-civ-spouse</td><td style = \"text-align: left;\">Exec-managerial</td><td style = \"text-align: left;\">Husband</td><td style = \"text-align: left;\">Asian-Pac-Islander</td><td style = \"text-align: left;\">Male</td><td style = \"text-align: right;\">0</td><td style = \"text-align: right;\">0</td><td style = \"text-align: right;\">50</td><td style = \"text-align: left;\">Japan</td><td style = \"text-align: left;\">&gt;50K</td></tr><tr><td class = \"rowNumber\" style = \"font-weight: bold; text-align: right;\">8024</td><td style = \"text-align: right;\">34</td><td style = \"text-align: left;\">Private</td><td style = \"text-align: right;\">160216</td><td style = \"text-align: left;\">Bachelors</td><td style = \"text-align: right;\">13</td><td style = \"text-align: left;\">Never-married</td><td style = \"text-align: left;\">Exec-managerial</td><td style = \"text-align: left;\">Not-in-family</td><td style = \"text-align: left;\">White</td><td style = \"text-align: left;\">Female</td><td style = \"text-align: right;\">0</td><td style = \"text-align: right;\">0</td><td style = \"text-align: right;\">55</td><td style = \"text-align: left;\">United-States</td><td style = \"text-align: left;\">&gt;50K</td></tr><tr><td class = \"rowNumber\" style = \"font-weight: bold; text-align: right;\">8025</td><td style = \"text-align: right;\">38</td><td style = \"text-align: left;\">Private</td><td style = \"text-align: right;\">139180</td><td style = \"text-align: left;\">Bachelors</td><td style = \"text-align: right;\">13</td><td style = \"text-align: left;\">Divorced</td><td style = \"text-align: left;\">Prof-specialty</td><td style = \"text-align: left;\">Unmarried</td><td style = \"text-align: left;\">Black</td><td style = \"text-align: left;\">Female</td><td style = \"text-align: right;\">15020</td><td style = \"text-align: right;\">0</td><td style = \"text-align: right;\">45</td><td style = \"text-align: left;\">United-States</td><td style = \"text-align: left;\">&gt;50K</td></tr></tbody></table></div>"
      ],
      "text/latex": [
       "\\begin{tabular}{r|ccccccc}\n",
       "\t& age & workclass & fnlwgt & education & education\\_num & marital\\_status & \\\\\n",
       "\t\\hline\n",
       "\t& Int64 & String31 & Int64 & String15 & Int64 & String31 & \\\\\n",
       "\t\\hline\n",
       "\t1 & 36 & Federal-gov & 212465 & Bachelors & 13 & Married-civ-spouse & $\\dots$ \\\\\n",
       "\t2 & 34 & Private & 107914 & Bachelors & 13 & Married-civ-spouse & $\\dots$ \\\\\n",
       "\t3 & 25 & Private & 220931 & Bachelors & 13 & Never-married & $\\dots$ \\\\\n",
       "\t4 & 25 & Private & 205947 & Bachelors & 13 & Married-civ-spouse & $\\dots$ \\\\\n",
       "\t5 & 24 & Self-emp-not-inc & 188274 & Bachelors & 13 & Never-married & $\\dots$ \\\\\n",
       "\t6 & 36 & Local-gov & 403681 & Bachelors & 13 & Married-civ-spouse & $\\dots$ \\\\\n",
       "\t7 & 34 & Local-gov & 382078 & Bachelors & 13 & Married-civ-spouse & $\\dots$ \\\\\n",
       "\t8 & 30 & Private & 101135 & Bachelors & 13 & Never-married & $\\dots$ \\\\\n",
       "\t9 & 41 & Private & 109912 & Bachelors & 13 & Never-married & $\\dots$ \\\\\n",
       "\t10 & 23 & Private & 213734 & Bachelors & 13 & Never-married & $\\dots$ \\\\\n",
       "\t11 & 59 & Private & 292946 & Bachelors & 13 & Never-married & $\\dots$ \\\\\n",
       "\t12 & 59 & Federal-gov & 98984 & Bachelors & 13 & Divorced & $\\dots$ \\\\\n",
       "\t13 & 25 & Private & 235218 & Bachelors & 13 & Never-married & $\\dots$ \\\\\n",
       "\t14 & 43 & Private & 179866 & Bachelors & 13 & Divorced & $\\dots$ \\\\\n",
       "\t15 & 31 & Local-gov & 198770 & Bachelors & 13 & Divorced & $\\dots$ \\\\\n",
       "\t16 & 55 & Private & 124771 & Bachelors & 13 & Married-civ-spouse & $\\dots$ \\\\\n",
       "\t17 & 40 & State-gov & 67874 & Bachelors & 13 & Married-civ-spouse & $\\dots$ \\\\\n",
       "\t18 & 22 & Private & 537222 & Bachelors & 13 & Never-married & $\\dots$ \\\\\n",
       "\t19 & 38 & Self-emp-inc & 93225 & Bachelors & 13 & Divorced & $\\dots$ \\\\\n",
       "\t20 & 29 & Private & 142249 & Bachelors & 13 & Never-married & $\\dots$ \\\\\n",
       "\t21 & 26 & Private & 239877 & Bachelors & 13 & Never-married & $\\dots$ \\\\\n",
       "\t22 & 37 & Private & 203079 & Bachelors & 13 & Widowed & $\\dots$ \\\\\n",
       "\t23 & 34 & State-gov & 513100 & Bachelors & 13 & Married-spouse-absent & $\\dots$ \\\\\n",
       "\t24 & 33 & Private & 196385 & Bachelors & 13 & Married-civ-spouse & $\\dots$ \\\\\n",
       "\t25 & 39 & Private & 163205 & Bachelors & 13 & Separated & $\\dots$ \\\\\n",
       "\t26 & 28 & Self-emp-inc & 142443 & Bachelors & 13 & Married-civ-spouse & $\\dots$ \\\\\n",
       "\t27 & 57 & Private & 26716 & Bachelors & 13 & Divorced & $\\dots$ \\\\\n",
       "\t28 & 45 & Local-gov & 185588 & Bachelors & 13 & Divorced & $\\dots$ \\\\\n",
       "\t29 & 34 & Self-emp-inc & 34848 & Bachelors & 13 & Married-civ-spouse & $\\dots$ \\\\\n",
       "\t30 & 34 & Private & 357145 & Bachelors & 13 & Married-civ-spouse & $\\dots$ \\\\\n",
       "\t$\\dots$ & $\\dots$ & $\\dots$ & $\\dots$ & $\\dots$ & $\\dots$ & $\\dots$ &  \\\\\n",
       "\\end{tabular}\n"
      ],
      "text/plain": [
       "\u001b[1m8025×15 DataFrame\u001b[0m\n",
       "\u001b[1m  Row \u001b[0m│\u001b[1m age   \u001b[0m\u001b[1m workclass        \u001b[0m\u001b[1m fnlwgt \u001b[0m\u001b[1m education \u001b[0m\u001b[1m education_num \u001b[0m\u001b[1m marital_sta\u001b[0m ⋯\n",
       "      │\u001b[90m Int64 \u001b[0m\u001b[90m String31         \u001b[0m\u001b[90m Int64  \u001b[0m\u001b[90m String15  \u001b[0m\u001b[90m Int64         \u001b[0m\u001b[90m String31   \u001b[0m ⋯\n",
       "──────┼─────────────────────────────────────────────────────────────────────────\n",
       "    1 │    36  Federal-gov       212465  Bachelors             13  Married-civ ⋯\n",
       "    2 │    34  Private           107914  Bachelors             13  Married-civ\n",
       "    3 │    25  Private           220931  Bachelors             13  Never-marri\n",
       "    4 │    25  Private           205947  Bachelors             13  Married-civ\n",
       "    5 │    24  Self-emp-not-inc  188274  Bachelors             13  Never-marri ⋯\n",
       "    6 │    36  Local-gov         403681  Bachelors             13  Married-civ\n",
       "    7 │    34  Local-gov         382078  Bachelors             13  Married-civ\n",
       "    8 │    30  Private           101135  Bachelors             13  Never-marri\n",
       "    9 │    41  Private           109912  Bachelors             13  Never-marri ⋯\n",
       "   10 │    23  Private           213734  Bachelors             13  Never-marri\n",
       "   11 │    59  Private           292946  Bachelors             13  Never-marri\n",
       "  ⋮   │   ⋮           ⋮            ⋮         ⋮            ⋮                ⋮   ⋱\n",
       " 8016 │    24  Private           284317  Bachelors             13  Never-marri\n",
       " 8017 │    45  Self-emp-inc      173664  Bachelors             13  Married-civ ⋯\n",
       " 8018 │    35  Local-gov          79649  Bachelors             13  Married-civ\n",
       " 8019 │    50  Private           302372  Bachelors             13  Married-civ\n",
       " 8020 │    25  Local-gov         514716  Bachelors             13  Never-marri\n",
       " 8021 │    35  ?                 320084  Bachelors             13  Married-civ ⋯\n",
       " 8022 │    30  ?                  33811  Bachelors             13  Never-marri\n",
       " 8023 │    54  Private           337992  Bachelors             13  Married-civ\n",
       " 8024 │    34  Private           160216  Bachelors             13  Never-marri\n",
       " 8025 │    38  Private           139180  Bachelors             13  Divorced    ⋯\n",
       "\u001b[36m                                                10 columns and 8004 rows omitted\u001b[0m"
      ]
     },
     "execution_count": 45,
     "metadata": {},
     "output_type": "execute_result"
    }
   ],
   "source": [
    "subset(df, :education => x -> x .==\"Bachelors\")"
   ]
  },
  {
   "cell_type": "code",
   "execution_count": 46,
   "id": "796269f4-eaf6-474f-b84e-7add696a6929",
   "metadata": {},
   "outputs": [
    {
     "data": {
      "text/html": [
       "<div><div style = \"float: left;\"><span>5×15 DataFrame</span></div><div style = \"clear: both;\"></div></div><div class = \"data-frame\" style = \"overflow-x: scroll;\"><table class = \"data-frame\" style = \"margin-bottom: 6px;\"><thead><tr class = \"header\"><th class = \"rowNumber\" style = \"font-weight: bold; text-align: right;\">Row</th><th style = \"text-align: left;\">age</th><th style = \"text-align: left;\">workclass</th><th style = \"text-align: left;\">fnlwgt</th><th style = \"text-align: left;\">education</th><th style = \"text-align: left;\">education_num</th><th style = \"text-align: left;\">marital_status</th><th style = \"text-align: left;\">occupation</th><th style = \"text-align: left;\">relationship</th><th style = \"text-align: left;\">race</th><th style = \"text-align: left;\">sex</th><th style = \"text-align: left;\">capital_gain</th><th style = \"text-align: left;\">capital_loss</th><th style = \"text-align: left;\">hours_per_week</th><th style = \"text-align: left;\">native_country</th><th style = \"text-align: left;\">class</th></tr><tr class = \"subheader headerLastRow\"><th class = \"rowNumber\" style = \"font-weight: bold; text-align: right;\"></th><th title = \"Int64\" style = \"text-align: left;\">Int64</th><th title = \"String31\" style = \"text-align: left;\">String31</th><th title = \"Int64\" style = \"text-align: left;\">Int64</th><th title = \"String15\" style = \"text-align: left;\">String15</th><th title = \"Int64\" style = \"text-align: left;\">Int64</th><th title = \"String31\" style = \"text-align: left;\">String31</th><th title = \"String31\" style = \"text-align: left;\">String31</th><th title = \"String15\" style = \"text-align: left;\">String15</th><th title = \"String31\" style = \"text-align: left;\">String31</th><th title = \"String7\" style = \"text-align: left;\">String7</th><th title = \"Int64\" style = \"text-align: left;\">Int64</th><th title = \"Int64\" style = \"text-align: left;\">Int64</th><th title = \"Int64\" style = \"text-align: left;\">Int64</th><th title = \"String31\" style = \"text-align: left;\">String31</th><th title = \"String7\" style = \"text-align: left;\">String7</th></tr></thead><tbody><tr><td class = \"rowNumber\" style = \"font-weight: bold; text-align: right;\">1</td><td style = \"text-align: right;\">34</td><td style = \"text-align: left;\">Private</td><td style = \"text-align: right;\">198693</td><td style = \"text-align: left;\">10th</td><td style = \"text-align: right;\">6</td><td style = \"text-align: left;\">Never-married</td><td style = \"text-align: left;\">Other-service</td><td style = \"text-align: left;\">Not-in-family</td><td style = \"text-align: left;\">White</td><td style = \"text-align: left;\">Male</td><td style = \"text-align: right;\">0</td><td style = \"text-align: right;\">0</td><td style = \"text-align: right;\">30</td><td style = \"text-align: left;\">United-States</td><td style = \"text-align: left;\">&lt;=50K</td></tr><tr><td class = \"rowNumber\" style = \"font-weight: bold; text-align: right;\">2</td><td style = \"text-align: right;\">29</td><td style = \"text-align: left;\">?</td><td style = \"text-align: right;\">227026</td><td style = \"text-align: left;\">HS-grad</td><td style = \"text-align: right;\">9</td><td style = \"text-align: left;\">Never-married</td><td style = \"text-align: left;\">?</td><td style = \"text-align: left;\">Unmarried</td><td style = \"text-align: left;\">Black</td><td style = \"text-align: left;\">Male</td><td style = \"text-align: right;\">0</td><td style = \"text-align: right;\">0</td><td style = \"text-align: right;\">40</td><td style = \"text-align: left;\">United-States</td><td style = \"text-align: left;\">&lt;=50K</td></tr><tr><td class = \"rowNumber\" style = \"font-weight: bold; text-align: right;\">3</td><td style = \"text-align: right;\">63</td><td style = \"text-align: left;\">Self-emp-not-inc</td><td style = \"text-align: right;\">104626</td><td style = \"text-align: left;\">Prof-school</td><td style = \"text-align: right;\">15</td><td style = \"text-align: left;\">Married-civ-spouse</td><td style = \"text-align: left;\">Prof-specialty</td><td style = \"text-align: left;\">Husband</td><td style = \"text-align: left;\">White</td><td style = \"text-align: left;\">Male</td><td style = \"text-align: right;\">3103</td><td style = \"text-align: right;\">0</td><td style = \"text-align: right;\">32</td><td style = \"text-align: left;\">United-States</td><td style = \"text-align: left;\">&gt;50K</td></tr><tr><td class = \"rowNumber\" style = \"font-weight: bold; text-align: right;\">4</td><td style = \"text-align: right;\">24</td><td style = \"text-align: left;\">Private</td><td style = \"text-align: right;\">369667</td><td style = \"text-align: left;\">Some-college</td><td style = \"text-align: right;\">10</td><td style = \"text-align: left;\">Never-married</td><td style = \"text-align: left;\">Other-service</td><td style = \"text-align: left;\">Unmarried</td><td style = \"text-align: left;\">White</td><td style = \"text-align: left;\">Female</td><td style = \"text-align: right;\">0</td><td style = \"text-align: right;\">0</td><td style = \"text-align: right;\">40</td><td style = \"text-align: left;\">United-States</td><td style = \"text-align: left;\">&lt;=50K</td></tr><tr><td class = \"rowNumber\" style = \"font-weight: bold; text-align: right;\">5</td><td style = \"text-align: right;\">55</td><td style = \"text-align: left;\">Private</td><td style = \"text-align: right;\">104996</td><td style = \"text-align: left;\">7th-8th</td><td style = \"text-align: right;\">4</td><td style = \"text-align: left;\">Married-civ-spouse</td><td style = \"text-align: left;\">Craft-repair</td><td style = \"text-align: left;\">Husband</td><td style = \"text-align: left;\">White</td><td style = \"text-align: left;\">Male</td><td style = \"text-align: right;\">0</td><td style = \"text-align: right;\">0</td><td style = \"text-align: right;\">10</td><td style = \"text-align: left;\">United-States</td><td style = \"text-align: left;\">&lt;=50K</td></tr></tbody></table></div>"
      ],
      "text/latex": [
       "\\begin{tabular}{r|ccccccc}\n",
       "\t& age & workclass & fnlwgt & education & education\\_num & marital\\_status & \\\\\n",
       "\t\\hline\n",
       "\t& Int64 & String31 & Int64 & String15 & Int64 & String31 & \\\\\n",
       "\t\\hline\n",
       "\t1 & 34 & Private & 198693 & 10th & 6 & Never-married & $\\dots$ \\\\\n",
       "\t2 & 29 & ? & 227026 & HS-grad & 9 & Never-married & $\\dots$ \\\\\n",
       "\t3 & 63 & Self-emp-not-inc & 104626 & Prof-school & 15 & Married-civ-spouse & $\\dots$ \\\\\n",
       "\t4 & 24 & Private & 369667 & Some-college & 10 & Never-married & $\\dots$ \\\\\n",
       "\t5 & 55 & Private & 104996 & 7th-8th & 4 & Married-civ-spouse & $\\dots$ \\\\\n",
       "\\end{tabular}\n"
      ],
      "text/plain": [
       "\u001b[1m5×15 DataFrame\u001b[0m\n",
       "\u001b[1m Row \u001b[0m│\u001b[1m age   \u001b[0m\u001b[1m workclass        \u001b[0m\u001b[1m fnlwgt \u001b[0m\u001b[1m education    \u001b[0m\u001b[1m education_num \u001b[0m\u001b[1m marital_s\u001b[0m ⋯\n",
       "     │\u001b[90m Int64 \u001b[0m\u001b[90m String31         \u001b[0m\u001b[90m Int64  \u001b[0m\u001b[90m String15     \u001b[0m\u001b[90m Int64         \u001b[0m\u001b[90m String31 \u001b[0m ⋯\n",
       "─────┼──────────────────────────────────────────────────────────────────────────\n",
       "   1 │    34  Private           198693  10th                      6  Never-mar ⋯\n",
       "   2 │    29  ?                 227026  HS-grad                   9  Never-mar\n",
       "   3 │    63  Self-emp-not-inc  104626  Prof-school              15  Married-c\n",
       "   4 │    24  Private           369667  Some-college             10  Never-mar\n",
       "   5 │    55  Private           104996  7th-8th                   4  Married-c ⋯\n",
       "\u001b[36m                                                              10 columns omitted\u001b[0m"
      ]
     },
     "execution_count": 46,
     "metadata": {},
     "output_type": "execute_result"
    }
   ],
   "source": [
    "df[6:10, :]"
   ]
  },
  {
   "cell_type": "code",
   "execution_count": 50,
   "id": "7d1fb414-1ac7-4212-85d4-1b7e3691addd",
   "metadata": {},
   "outputs": [
    {
     "data": {
      "text/html": [
       "<div><div style = \"float: left;\"><span>16117×15 DataFrame</span></div><div style = \"float: right;\"><span style = \"font-style: italic;\">16092 rows omitted</span></div><div style = \"clear: both;\"></div></div><div class = \"data-frame\" style = \"overflow-x: scroll;\"><table class = \"data-frame\" style = \"margin-bottom: 6px;\"><thead><tr class = \"header\"><th class = \"rowNumber\" style = \"font-weight: bold; text-align: right;\">Row</th><th style = \"text-align: left;\">age</th><th style = \"text-align: left;\">workclass</th><th style = \"text-align: left;\">fnlwgt</th><th style = \"text-align: left;\">education</th><th style = \"text-align: left;\">education_num</th><th style = \"text-align: left;\">marital_status</th><th style = \"text-align: left;\">occupation</th><th style = \"text-align: left;\">relationship</th><th style = \"text-align: left;\">race</th><th style = \"text-align: left;\">sex</th><th style = \"text-align: left;\">capital_gain</th><th style = \"text-align: left;\">capital_loss</th><th style = \"text-align: left;\">hours_per_week</th><th style = \"text-align: left;\">native_country</th><th style = \"text-align: left;\">class</th></tr><tr class = \"subheader headerLastRow\"><th class = \"rowNumber\" style = \"font-weight: bold; text-align: right;\"></th><th title = \"Int64\" style = \"text-align: left;\">Int64</th><th title = \"String31\" style = \"text-align: left;\">String31</th><th title = \"Int64\" style = \"text-align: left;\">Int64</th><th title = \"String15\" style = \"text-align: left;\">String15</th><th title = \"Int64\" style = \"text-align: left;\">Int64</th><th title = \"String31\" style = \"text-align: left;\">String31</th><th title = \"String31\" style = \"text-align: left;\">String31</th><th title = \"String15\" style = \"text-align: left;\">String15</th><th title = \"String31\" style = \"text-align: left;\">String31</th><th title = \"String7\" style = \"text-align: left;\">String7</th><th title = \"Int64\" style = \"text-align: left;\">Int64</th><th title = \"Int64\" style = \"text-align: left;\">Int64</th><th title = \"Int64\" style = \"text-align: left;\">Int64</th><th title = \"String31\" style = \"text-align: left;\">String31</th><th title = \"String7\" style = \"text-align: left;\">String7</th></tr></thead><tbody><tr><td class = \"rowNumber\" style = \"font-weight: bold; text-align: right;\">1</td><td style = \"text-align: right;\">25</td><td style = \"text-align: left;\">Private</td><td style = \"text-align: right;\">226802</td><td style = \"text-align: left;\">11th</td><td style = \"text-align: right;\">7</td><td style = \"text-align: left;\">Never-married</td><td style = \"text-align: left;\">Machine-op-inspct</td><td style = \"text-align: left;\">Own-child</td><td style = \"text-align: left;\">Black</td><td style = \"text-align: left;\">Male</td><td style = \"text-align: right;\">0</td><td style = \"text-align: right;\">0</td><td style = \"text-align: right;\">40</td><td style = \"text-align: left;\">United-States</td><td style = \"text-align: left;\">&lt;=50K</td></tr><tr><td class = \"rowNumber\" style = \"font-weight: bold; text-align: right;\">2</td><td style = \"text-align: right;\">18</td><td style = \"text-align: left;\">?</td><td style = \"text-align: right;\">103497</td><td style = \"text-align: left;\">Some-college</td><td style = \"text-align: right;\">10</td><td style = \"text-align: left;\">Never-married</td><td style = \"text-align: left;\">?</td><td style = \"text-align: left;\">Own-child</td><td style = \"text-align: left;\">White</td><td style = \"text-align: left;\">Female</td><td style = \"text-align: right;\">0</td><td style = \"text-align: right;\">0</td><td style = \"text-align: right;\">30</td><td style = \"text-align: left;\">United-States</td><td style = \"text-align: left;\">&lt;=50K</td></tr><tr><td class = \"rowNumber\" style = \"font-weight: bold; text-align: right;\">3</td><td style = \"text-align: right;\">34</td><td style = \"text-align: left;\">Private</td><td style = \"text-align: right;\">198693</td><td style = \"text-align: left;\">10th</td><td style = \"text-align: right;\">6</td><td style = \"text-align: left;\">Never-married</td><td style = \"text-align: left;\">Other-service</td><td style = \"text-align: left;\">Not-in-family</td><td style = \"text-align: left;\">White</td><td style = \"text-align: left;\">Male</td><td style = \"text-align: right;\">0</td><td style = \"text-align: right;\">0</td><td style = \"text-align: right;\">30</td><td style = \"text-align: left;\">United-States</td><td style = \"text-align: left;\">&lt;=50K</td></tr><tr><td class = \"rowNumber\" style = \"font-weight: bold; text-align: right;\">4</td><td style = \"text-align: right;\">29</td><td style = \"text-align: left;\">?</td><td style = \"text-align: right;\">227026</td><td style = \"text-align: left;\">HS-grad</td><td style = \"text-align: right;\">9</td><td style = \"text-align: left;\">Never-married</td><td style = \"text-align: left;\">?</td><td style = \"text-align: left;\">Unmarried</td><td style = \"text-align: left;\">Black</td><td style = \"text-align: left;\">Male</td><td style = \"text-align: right;\">0</td><td style = \"text-align: right;\">0</td><td style = \"text-align: right;\">40</td><td style = \"text-align: left;\">United-States</td><td style = \"text-align: left;\">&lt;=50K</td></tr><tr><td class = \"rowNumber\" style = \"font-weight: bold; text-align: right;\">5</td><td style = \"text-align: right;\">24</td><td style = \"text-align: left;\">Private</td><td style = \"text-align: right;\">369667</td><td style = \"text-align: left;\">Some-college</td><td style = \"text-align: right;\">10</td><td style = \"text-align: left;\">Never-married</td><td style = \"text-align: left;\">Other-service</td><td style = \"text-align: left;\">Unmarried</td><td style = \"text-align: left;\">White</td><td style = \"text-align: left;\">Female</td><td style = \"text-align: right;\">0</td><td style = \"text-align: right;\">0</td><td style = \"text-align: right;\">40</td><td style = \"text-align: left;\">United-States</td><td style = \"text-align: left;\">&lt;=50K</td></tr><tr><td class = \"rowNumber\" style = \"font-weight: bold; text-align: right;\">6</td><td style = \"text-align: right;\">26</td><td style = \"text-align: left;\">Private</td><td style = \"text-align: right;\">82091</td><td style = \"text-align: left;\">HS-grad</td><td style = \"text-align: right;\">9</td><td style = \"text-align: left;\">Never-married</td><td style = \"text-align: left;\">Adm-clerical</td><td style = \"text-align: left;\">Not-in-family</td><td style = \"text-align: left;\">White</td><td style = \"text-align: left;\">Female</td><td style = \"text-align: right;\">0</td><td style = \"text-align: right;\">0</td><td style = \"text-align: right;\">39</td><td style = \"text-align: left;\">United-States</td><td style = \"text-align: left;\">&lt;=50K</td></tr><tr><td class = \"rowNumber\" style = \"font-weight: bold; text-align: right;\">7</td><td style = \"text-align: right;\">20</td><td style = \"text-align: left;\">State-gov</td><td style = \"text-align: right;\">444554</td><td style = \"text-align: left;\">Some-college</td><td style = \"text-align: right;\">10</td><td style = \"text-align: left;\">Never-married</td><td style = \"text-align: left;\">Other-service</td><td style = \"text-align: left;\">Own-child</td><td style = \"text-align: left;\">White</td><td style = \"text-align: left;\">Male</td><td style = \"text-align: right;\">0</td><td style = \"text-align: right;\">0</td><td style = \"text-align: right;\">25</td><td style = \"text-align: left;\">United-States</td><td style = \"text-align: left;\">&lt;=50K</td></tr><tr><td class = \"rowNumber\" style = \"font-weight: bold; text-align: right;\">8</td><td style = \"text-align: right;\">34</td><td style = \"text-align: left;\">Private</td><td style = \"text-align: right;\">238588</td><td style = \"text-align: left;\">Some-college</td><td style = \"text-align: right;\">10</td><td style = \"text-align: left;\">Never-married</td><td style = \"text-align: left;\">Other-service</td><td style = \"text-align: left;\">Own-child</td><td style = \"text-align: left;\">Black</td><td style = \"text-align: left;\">Female</td><td style = \"text-align: right;\">0</td><td style = \"text-align: right;\">0</td><td style = \"text-align: right;\">35</td><td style = \"text-align: left;\">United-States</td><td style = \"text-align: left;\">&lt;=50K</td></tr><tr><td class = \"rowNumber\" style = \"font-weight: bold; text-align: right;\">9</td><td style = \"text-align: right;\">25</td><td style = \"text-align: left;\">Private</td><td style = \"text-align: right;\">220931</td><td style = \"text-align: left;\">Bachelors</td><td style = \"text-align: right;\">13</td><td style = \"text-align: left;\">Never-married</td><td style = \"text-align: left;\">Prof-specialty</td><td style = \"text-align: left;\">Not-in-family</td><td style = \"text-align: left;\">White</td><td style = \"text-align: left;\">Male</td><td style = \"text-align: right;\">0</td><td style = \"text-align: right;\">0</td><td style = \"text-align: right;\">43</td><td style = \"text-align: left;\">Peru</td><td style = \"text-align: left;\">&lt;=50K</td></tr><tr><td class = \"rowNumber\" style = \"font-weight: bold; text-align: right;\">10</td><td style = \"text-align: right;\">22</td><td style = \"text-align: left;\">Private</td><td style = \"text-align: right;\">236427</td><td style = \"text-align: left;\">HS-grad</td><td style = \"text-align: right;\">9</td><td style = \"text-align: left;\">Never-married</td><td style = \"text-align: left;\">Adm-clerical</td><td style = \"text-align: left;\">Own-child</td><td style = \"text-align: left;\">White</td><td style = \"text-align: left;\">Male</td><td style = \"text-align: right;\">0</td><td style = \"text-align: right;\">0</td><td style = \"text-align: right;\">20</td><td style = \"text-align: left;\">United-States</td><td style = \"text-align: left;\">&lt;=50K</td></tr><tr><td class = \"rowNumber\" style = \"font-weight: bold; text-align: right;\">11</td><td style = \"text-align: right;\">32</td><td style = \"text-align: left;\">Self-emp-not-inc</td><td style = \"text-align: right;\">109282</td><td style = \"text-align: left;\">Some-college</td><td style = \"text-align: right;\">10</td><td style = \"text-align: left;\">Never-married</td><td style = \"text-align: left;\">Prof-specialty</td><td style = \"text-align: left;\">Not-in-family</td><td style = \"text-align: left;\">White</td><td style = \"text-align: left;\">Male</td><td style = \"text-align: right;\">0</td><td style = \"text-align: right;\">0</td><td style = \"text-align: right;\">60</td><td style = \"text-align: left;\">United-States</td><td style = \"text-align: left;\">&lt;=50K</td></tr><tr><td class = \"rowNumber\" style = \"font-weight: bold; text-align: right;\">12</td><td style = \"text-align: right;\">24</td><td style = \"text-align: left;\">Self-emp-not-inc</td><td style = \"text-align: right;\">188274</td><td style = \"text-align: left;\">Bachelors</td><td style = \"text-align: right;\">13</td><td style = \"text-align: left;\">Never-married</td><td style = \"text-align: left;\">Sales</td><td style = \"text-align: left;\">Not-in-family</td><td style = \"text-align: left;\">White</td><td style = \"text-align: left;\">Male</td><td style = \"text-align: right;\">0</td><td style = \"text-align: right;\">0</td><td style = \"text-align: right;\">50</td><td style = \"text-align: left;\">United-States</td><td style = \"text-align: left;\">&lt;=50K</td></tr><tr><td class = \"rowNumber\" style = \"font-weight: bold; text-align: right;\">13</td><td style = \"text-align: right;\">22</td><td style = \"text-align: left;\">Private</td><td style = \"text-align: right;\">248446</td><td style = \"text-align: left;\">5th-6th</td><td style = \"text-align: right;\">3</td><td style = \"text-align: left;\">Never-married</td><td style = \"text-align: left;\">Priv-house-serv</td><td style = \"text-align: left;\">Not-in-family</td><td style = \"text-align: left;\">White</td><td style = \"text-align: left;\">Male</td><td style = \"text-align: right;\">0</td><td style = \"text-align: right;\">0</td><td style = \"text-align: right;\">50</td><td style = \"text-align: left;\">Guatemala</td><td style = \"text-align: left;\">&lt;=50K</td></tr><tr><td style = \"text-align: right;\">&vellip;</td><td style = \"text-align: right;\">&vellip;</td><td style = \"text-align: right;\">&vellip;</td><td style = \"text-align: right;\">&vellip;</td><td style = \"text-align: right;\">&vellip;</td><td style = \"text-align: right;\">&vellip;</td><td style = \"text-align: right;\">&vellip;</td><td style = \"text-align: right;\">&vellip;</td><td style = \"text-align: right;\">&vellip;</td><td style = \"text-align: right;\">&vellip;</td><td style = \"text-align: right;\">&vellip;</td><td style = \"text-align: right;\">&vellip;</td><td style = \"text-align: right;\">&vellip;</td><td style = \"text-align: right;\">&vellip;</td><td style = \"text-align: right;\">&vellip;</td><td style = \"text-align: right;\">&vellip;</td></tr><tr><td class = \"rowNumber\" style = \"font-weight: bold; text-align: right;\">16106</td><td style = \"text-align: right;\">20</td><td style = \"text-align: left;\">Private</td><td style = \"text-align: right;\">270436</td><td style = \"text-align: left;\">HS-grad</td><td style = \"text-align: right;\">9</td><td style = \"text-align: left;\">Never-married</td><td style = \"text-align: left;\">Machine-op-inspct</td><td style = \"text-align: left;\">Own-child</td><td style = \"text-align: left;\">White</td><td style = \"text-align: left;\">Male</td><td style = \"text-align: right;\">0</td><td style = \"text-align: right;\">0</td><td style = \"text-align: right;\">40</td><td style = \"text-align: left;\">United-States</td><td style = \"text-align: left;\">&lt;=50K</td></tr><tr><td class = \"rowNumber\" style = \"font-weight: bold; text-align: right;\">16107</td><td style = \"text-align: right;\">27</td><td style = \"text-align: left;\">Private</td><td style = \"text-align: right;\">177398</td><td style = \"text-align: left;\">HS-grad</td><td style = \"text-align: right;\">9</td><td style = \"text-align: left;\">Never-married</td><td style = \"text-align: left;\">Other-service</td><td style = \"text-align: left;\">Unmarried</td><td style = \"text-align: left;\">White</td><td style = \"text-align: left;\">Female</td><td style = \"text-align: right;\">0</td><td style = \"text-align: right;\">0</td><td style = \"text-align: right;\">64</td><td style = \"text-align: left;\">United-States</td><td style = \"text-align: left;\">&lt;=50K</td></tr><tr><td class = \"rowNumber\" style = \"font-weight: bold; text-align: right;\">16108</td><td style = \"text-align: right;\">26</td><td style = \"text-align: left;\">Private</td><td style = \"text-align: right;\">191648</td><td style = \"text-align: left;\">Assoc-acdm</td><td style = \"text-align: right;\">12</td><td style = \"text-align: left;\">Never-married</td><td style = \"text-align: left;\">Machine-op-inspct</td><td style = \"text-align: left;\">Other-relative</td><td style = \"text-align: left;\">White</td><td style = \"text-align: left;\">Female</td><td style = \"text-align: right;\">0</td><td style = \"text-align: right;\">0</td><td style = \"text-align: right;\">15</td><td style = \"text-align: left;\">United-States</td><td style = \"text-align: left;\">&lt;=50K</td></tr><tr><td class = \"rowNumber\" style = \"font-weight: bold; text-align: right;\">16109</td><td style = \"text-align: right;\">22</td><td style = \"text-align: left;\">Private</td><td style = \"text-align: right;\">203715</td><td style = \"text-align: left;\">Some-college</td><td style = \"text-align: right;\">10</td><td style = \"text-align: left;\">Never-married</td><td style = \"text-align: left;\">Adm-clerical</td><td style = \"text-align: left;\">Own-child</td><td style = \"text-align: left;\">White</td><td style = \"text-align: left;\">Male</td><td style = \"text-align: right;\">0</td><td style = \"text-align: right;\">0</td><td style = \"text-align: right;\">40</td><td style = \"text-align: left;\">United-States</td><td style = \"text-align: left;\">&lt;=50K</td></tr><tr><td class = \"rowNumber\" style = \"font-weight: bold; text-align: right;\">16110</td><td style = \"text-align: right;\">30</td><td style = \"text-align: left;\">?</td><td style = \"text-align: right;\">33811</td><td style = \"text-align: left;\">Bachelors</td><td style = \"text-align: right;\">13</td><td style = \"text-align: left;\">Never-married</td><td style = \"text-align: left;\">?</td><td style = \"text-align: left;\">Not-in-family</td><td style = \"text-align: left;\">Asian-Pac-Islander</td><td style = \"text-align: left;\">Female</td><td style = \"text-align: right;\">0</td><td style = \"text-align: right;\">0</td><td style = \"text-align: right;\">99</td><td style = \"text-align: left;\">United-States</td><td style = \"text-align: left;\">&lt;=50K</td></tr><tr><td class = \"rowNumber\" style = \"font-weight: bold; text-align: right;\">16111</td><td style = \"text-align: right;\">22</td><td style = \"text-align: left;\">Private</td><td style = \"text-align: right;\">325033</td><td style = \"text-align: left;\">12th</td><td style = \"text-align: right;\">8</td><td style = \"text-align: left;\">Never-married</td><td style = \"text-align: left;\">Protective-serv</td><td style = \"text-align: left;\">Own-child</td><td style = \"text-align: left;\">Black</td><td style = \"text-align: left;\">Male</td><td style = \"text-align: right;\">0</td><td style = \"text-align: right;\">0</td><td style = \"text-align: right;\">35</td><td style = \"text-align: left;\">United-States</td><td style = \"text-align: left;\">&lt;=50K</td></tr><tr><td class = \"rowNumber\" style = \"font-weight: bold; text-align: right;\">16112</td><td style = \"text-align: right;\">34</td><td style = \"text-align: left;\">Private</td><td style = \"text-align: right;\">160216</td><td style = \"text-align: left;\">Bachelors</td><td style = \"text-align: right;\">13</td><td style = \"text-align: left;\">Never-married</td><td style = \"text-align: left;\">Exec-managerial</td><td style = \"text-align: left;\">Not-in-family</td><td style = \"text-align: left;\">White</td><td style = \"text-align: left;\">Female</td><td style = \"text-align: right;\">0</td><td style = \"text-align: right;\">0</td><td style = \"text-align: right;\">55</td><td style = \"text-align: left;\">United-States</td><td style = \"text-align: left;\">&gt;50K</td></tr><tr><td class = \"rowNumber\" style = \"font-weight: bold; text-align: right;\">16113</td><td style = \"text-align: right;\">30</td><td style = \"text-align: left;\">Private</td><td style = \"text-align: right;\">345898</td><td style = \"text-align: left;\">HS-grad</td><td style = \"text-align: right;\">9</td><td style = \"text-align: left;\">Never-married</td><td style = \"text-align: left;\">Craft-repair</td><td style = \"text-align: left;\">Not-in-family</td><td style = \"text-align: left;\">Black</td><td style = \"text-align: left;\">Male</td><td style = \"text-align: right;\">0</td><td style = \"text-align: right;\">0</td><td style = \"text-align: right;\">46</td><td style = \"text-align: left;\">United-States</td><td style = \"text-align: left;\">&lt;=50K</td></tr><tr><td class = \"rowNumber\" style = \"font-weight: bold; text-align: right;\">16114</td><td style = \"text-align: right;\">65</td><td style = \"text-align: left;\">Self-emp-not-inc</td><td style = \"text-align: right;\">99359</td><td style = \"text-align: left;\">Prof-school</td><td style = \"text-align: right;\">15</td><td style = \"text-align: left;\">Never-married</td><td style = \"text-align: left;\">Prof-specialty</td><td style = \"text-align: left;\">Not-in-family</td><td style = \"text-align: left;\">White</td><td style = \"text-align: left;\">Male</td><td style = \"text-align: right;\">1086</td><td style = \"text-align: right;\">0</td><td style = \"text-align: right;\">60</td><td style = \"text-align: left;\">United-States</td><td style = \"text-align: left;\">&lt;=50K</td></tr><tr><td class = \"rowNumber\" style = \"font-weight: bold; text-align: right;\">16115</td><td style = \"text-align: right;\">32</td><td style = \"text-align: left;\">Private</td><td style = \"text-align: right;\">116138</td><td style = \"text-align: left;\">Masters</td><td style = \"text-align: right;\">14</td><td style = \"text-align: left;\">Never-married</td><td style = \"text-align: left;\">Tech-support</td><td style = \"text-align: left;\">Not-in-family</td><td style = \"text-align: left;\">Asian-Pac-Islander</td><td style = \"text-align: left;\">Male</td><td style = \"text-align: right;\">0</td><td style = \"text-align: right;\">0</td><td style = \"text-align: right;\">11</td><td style = \"text-align: left;\">Taiwan</td><td style = \"text-align: left;\">&lt;=50K</td></tr><tr><td class = \"rowNumber\" style = \"font-weight: bold; text-align: right;\">16116</td><td style = \"text-align: right;\">22</td><td style = \"text-align: left;\">Private</td><td style = \"text-align: right;\">310152</td><td style = \"text-align: left;\">Some-college</td><td style = \"text-align: right;\">10</td><td style = \"text-align: left;\">Never-married</td><td style = \"text-align: left;\">Protective-serv</td><td style = \"text-align: left;\">Not-in-family</td><td style = \"text-align: left;\">White</td><td style = \"text-align: left;\">Male</td><td style = \"text-align: right;\">0</td><td style = \"text-align: right;\">0</td><td style = \"text-align: right;\">40</td><td style = \"text-align: left;\">United-States</td><td style = \"text-align: left;\">&lt;=50K</td></tr><tr><td class = \"rowNumber\" style = \"font-weight: bold; text-align: right;\">16117</td><td style = \"text-align: right;\">22</td><td style = \"text-align: left;\">Private</td><td style = \"text-align: right;\">201490</td><td style = \"text-align: left;\">HS-grad</td><td style = \"text-align: right;\">9</td><td style = \"text-align: left;\">Never-married</td><td style = \"text-align: left;\">Adm-clerical</td><td style = \"text-align: left;\">Own-child</td><td style = \"text-align: left;\">White</td><td style = \"text-align: left;\">Male</td><td style = \"text-align: right;\">0</td><td style = \"text-align: right;\">0</td><td style = \"text-align: right;\">20</td><td style = \"text-align: left;\">United-States</td><td style = \"text-align: left;\">&lt;=50K</td></tr></tbody></table></div>"
      ],
      "text/latex": [
       "\\begin{tabular}{r|cccccccc}\n",
       "\t& age & workclass & fnlwgt & education & education\\_num & marital\\_status & occupation & \\\\\n",
       "\t\\hline\n",
       "\t& Int64 & String31 & Int64 & String15 & Int64 & String31 & String31 & \\\\\n",
       "\t\\hline\n",
       "\t1 & 25 & Private & 226802 & 11th & 7 & Never-married & Machine-op-inspct & $\\dots$ \\\\\n",
       "\t2 & 18 & ? & 103497 & Some-college & 10 & Never-married & ? & $\\dots$ \\\\\n",
       "\t3 & 34 & Private & 198693 & 10th & 6 & Never-married & Other-service & $\\dots$ \\\\\n",
       "\t4 & 29 & ? & 227026 & HS-grad & 9 & Never-married & ? & $\\dots$ \\\\\n",
       "\t5 & 24 & Private & 369667 & Some-college & 10 & Never-married & Other-service & $\\dots$ \\\\\n",
       "\t6 & 26 & Private & 82091 & HS-grad & 9 & Never-married & Adm-clerical & $\\dots$ \\\\\n",
       "\t7 & 20 & State-gov & 444554 & Some-college & 10 & Never-married & Other-service & $\\dots$ \\\\\n",
       "\t8 & 34 & Private & 238588 & Some-college & 10 & Never-married & Other-service & $\\dots$ \\\\\n",
       "\t9 & 25 & Private & 220931 & Bachelors & 13 & Never-married & Prof-specialty & $\\dots$ \\\\\n",
       "\t10 & 22 & Private & 236427 & HS-grad & 9 & Never-married & Adm-clerical & $\\dots$ \\\\\n",
       "\t11 & 32 & Self-emp-not-inc & 109282 & Some-college & 10 & Never-married & Prof-specialty & $\\dots$ \\\\\n",
       "\t12 & 24 & Self-emp-not-inc & 188274 & Bachelors & 13 & Never-married & Sales & $\\dots$ \\\\\n",
       "\t13 & 22 & Private & 248446 & 5th-6th & 3 & Never-married & Priv-house-serv & $\\dots$ \\\\\n",
       "\t14 & 17 & Private & 269430 & 10th & 6 & Never-married & Machine-op-inspct & $\\dots$ \\\\\n",
       "\t15 & 20 & Private & 257509 & HS-grad & 9 & Never-married & Craft-repair & $\\dots$ \\\\\n",
       "\t16 & 20 & State-gov & 138371 & Some-college & 10 & Never-married & Farming-fishing & $\\dots$ \\\\\n",
       "\t17 & 18 & Private & 54440 & Some-college & 10 & Never-married & Other-service & $\\dots$ \\\\\n",
       "\t18 & 21 & Private & 214399 & Some-college & 10 & Never-married & Other-service & $\\dots$ \\\\\n",
       "\t19 & 22 & Private & 54164 & HS-grad & 9 & Never-married & Other-service & $\\dots$ \\\\\n",
       "\t20 & 21 & Private & 110677 & Some-college & 10 & Never-married & Adm-clerical & $\\dots$ \\\\\n",
       "\t21 & 30 & Private & 101135 & Bachelors & 13 & Never-married & Exec-managerial & $\\dots$ \\\\\n",
       "\t22 & 26 & Private & 31208 & Masters & 14 & Never-married & Exec-managerial & $\\dots$ \\\\\n",
       "\t23 & 33 & Private & 281384 & HS-grad & 9 & Never-married & Machine-op-inspct & $\\dots$ \\\\\n",
       "\t24 & 41 & Private & 109912 & Bachelors & 13 & Never-married & Other-service & $\\dots$ \\\\\n",
       "\t25 & 19 & Private & 105460 & Some-college & 10 & Never-married & Other-service & $\\dots$ \\\\\n",
       "\t26 & 17 & ? & 165361 & 10th & 6 & Never-married & ? & $\\dots$ \\\\\n",
       "\t27 & 20 & Private & 72055 & Some-college & 10 & Never-married & Adm-clerical & $\\dots$ \\\\\n",
       "\t28 & 23 & Private & 213734 & Bachelors & 13 & Never-married & Exec-managerial & $\\dots$ \\\\\n",
       "\t29 & 20 & Federal-gov & 244689 & 11th & 7 & Never-married & Other-service & $\\dots$ \\\\\n",
       "\t30 & 24 & Federal-gov & 228724 & Some-college & 10 & Never-married & Armed-Forces & $\\dots$ \\\\\n",
       "\t$\\dots$ & $\\dots$ & $\\dots$ & $\\dots$ & $\\dots$ & $\\dots$ & $\\dots$ & $\\dots$ &  \\\\\n",
       "\\end{tabular}\n"
      ],
      "text/plain": [
       "\u001b[1m16117×15 DataFrame\u001b[0m\n",
       "\u001b[1m   Row \u001b[0m│\u001b[1m age   \u001b[0m\u001b[1m workclass        \u001b[0m\u001b[1m fnlwgt \u001b[0m\u001b[1m education    \u001b[0m\u001b[1m education_num \u001b[0m\u001b[1m marital\u001b[0m ⋯\n",
       "       │\u001b[90m Int64 \u001b[0m\u001b[90m String31         \u001b[0m\u001b[90m Int64  \u001b[0m\u001b[90m String15     \u001b[0m\u001b[90m Int64         \u001b[0m\u001b[90m String3\u001b[0m ⋯\n",
       "───────┼────────────────────────────────────────────────────────────────────────\n",
       "     1 │    25  Private           226802  11th                      7  Never-m ⋯\n",
       "     2 │    18  ?                 103497  Some-college             10  Never-m\n",
       "     3 │    34  Private           198693  10th                      6  Never-m\n",
       "     4 │    29  ?                 227026  HS-grad                   9  Never-m\n",
       "     5 │    24  Private           369667  Some-college             10  Never-m ⋯\n",
       "     6 │    26  Private            82091  HS-grad                   9  Never-m\n",
       "     7 │    20  State-gov         444554  Some-college             10  Never-m\n",
       "     8 │    34  Private           238588  Some-college             10  Never-m\n",
       "     9 │    25  Private           220931  Bachelors                13  Never-m ⋯\n",
       "    10 │    22  Private           236427  HS-grad                   9  Never-m\n",
       "    11 │    32  Self-emp-not-inc  109282  Some-college             10  Never-m\n",
       "   ⋮   │   ⋮           ⋮            ⋮          ⋮              ⋮              ⋮ ⋱\n",
       " 16108 │    26  Private           191648  Assoc-acdm               12  Never-m\n",
       " 16109 │    22  Private           203715  Some-college             10  Never-m ⋯\n",
       " 16110 │    30  ?                  33811  Bachelors                13  Never-m\n",
       " 16111 │    22  Private           325033  12th                      8  Never-m\n",
       " 16112 │    34  Private           160216  Bachelors                13  Never-m\n",
       " 16113 │    30  Private           345898  HS-grad                   9  Never-m ⋯\n",
       " 16114 │    65  Self-emp-not-inc   99359  Prof-school              15  Never-m\n",
       " 16115 │    32  Private           116138  Masters                  14  Never-m\n",
       " 16116 │    22  Private           310152  Some-college             10  Never-m\n",
       " 16117 │    22  Private           201490  HS-grad                   9  Never-m ⋯\n",
       "\u001b[36m                                               10 columns and 16096 rows omitted\u001b[0m"
      ]
     },
     "execution_count": 50,
     "metadata": {},
     "output_type": "execute_result"
    }
   ],
   "source": [
    "df[df.marital_status .== \"Never-married\", :]"
   ]
  },
  {
   "cell_type": "code",
   "execution_count": 53,
   "id": "b1ea0bf9-024b-4c20-a7cb-10b5e3c52b5b",
   "metadata": {},
   "outputs": [
    {
     "data": {
      "text/html": [
       "<div><div style = \"float: left;\"><span>DataFrameRow (15 columns)</span></div><div style = \"clear: both;\"></div></div><div class = \"data-frame\" style = \"overflow-x: scroll;\"><table class = \"data-frame\" style = \"margin-bottom: 6px;\"><thead><tr class = \"header\"><th class = \"rowLabel\" style = \"font-weight: bold; text-align: right;\">Row</th><th style = \"text-align: left;\">age</th><th style = \"text-align: left;\">workclass</th><th style = \"text-align: left;\">fnlwgt</th><th style = \"text-align: left;\">education</th><th style = \"text-align: left;\">education_num</th><th style = \"text-align: left;\">marital_status</th><th style = \"text-align: left;\">occupation</th><th style = \"text-align: left;\">relationship</th><th style = \"text-align: left;\">race</th><th style = \"text-align: left;\">sex</th><th style = \"text-align: left;\">capital_gain</th><th style = \"text-align: left;\">capital_loss</th><th style = \"text-align: left;\">hours_per_week</th><th style = \"text-align: left;\">native_country</th><th style = \"text-align: left;\">class</th></tr><tr class = \"subheader headerLastRow\"><th class = \"rowLabel\" style = \"font-weight: bold; text-align: right;\"></th><th title = \"Int64\" style = \"text-align: left;\">Int64</th><th title = \"String31\" style = \"text-align: left;\">String31</th><th title = \"Int64\" style = \"text-align: left;\">Int64</th><th title = \"String15\" style = \"text-align: left;\">String15</th><th title = \"Int64\" style = \"text-align: left;\">Int64</th><th title = \"String31\" style = \"text-align: left;\">String31</th><th title = \"String31\" style = \"text-align: left;\">String31</th><th title = \"String15\" style = \"text-align: left;\">String15</th><th title = \"String31\" style = \"text-align: left;\">String31</th><th title = \"String7\" style = \"text-align: left;\">String7</th><th title = \"Int64\" style = \"text-align: left;\">Int64</th><th title = \"Int64\" style = \"text-align: left;\">Int64</th><th title = \"Int64\" style = \"text-align: left;\">Int64</th><th title = \"String31\" style = \"text-align: left;\">String31</th><th title = \"String7\" style = \"text-align: left;\">String7</th></tr></thead><tbody><tr><td class = \"rowLabel\" style = \"font-weight: bold; text-align: right;\">61</td><td style = \"text-align: right;\">30</td><td style = \"text-align: left;\">Private</td><td style = \"text-align: right;\">101135</td><td style = \"text-align: left;\">Bachelors</td><td style = \"text-align: right;\">13</td><td style = \"text-align: left;\">Never-married</td><td style = \"text-align: left;\">Exec-managerial</td><td style = \"text-align: left;\">Not-in-family</td><td style = \"text-align: left;\">White</td><td style = \"text-align: left;\">Female</td><td style = \"text-align: right;\">0</td><td style = \"text-align: right;\">0</td><td style = \"text-align: right;\">50</td><td style = \"text-align: left;\">United-States</td><td style = \"text-align: left;\">&lt;=50K</td></tr></tbody></table></div>"
      ],
      "text/latex": [
       "\\begin{tabular}{r|cccccccc}\n",
       "\t& age & workclass & fnlwgt & education & education\\_num & marital\\_status & occupation & \\\\\n",
       "\t\\hline\n",
       "\t& Int64 & String31 & Int64 & String15 & Int64 & String31 & String31 & \\\\\n",
       "\t\\hline\n",
       "\t61 & 30 & Private & 101135 & Bachelors & 13 & Never-married & Exec-managerial & $\\dots$ \\\\\n",
       "\\end{tabular}\n"
      ],
      "text/plain": [
       "\u001b[1mDataFrameRow\u001b[0m\n",
       "\u001b[1m Row \u001b[0m│\u001b[1m age   \u001b[0m\u001b[1m workclass \u001b[0m\u001b[1m fnlwgt \u001b[0m\u001b[1m education \u001b[0m\u001b[1m education_num \u001b[0m\u001b[1m marital_status \u001b[0m\u001b[1m occ\u001b[0m ⋯\n",
       "     │\u001b[90m Int64 \u001b[0m\u001b[90m String31  \u001b[0m\u001b[90m Int64  \u001b[0m\u001b[90m String15  \u001b[0m\u001b[90m Int64         \u001b[0m\u001b[90m String31       \u001b[0m\u001b[90m Str\u001b[0m ⋯\n",
       "─────┼──────────────────────────────────────────────────────────────────────────\n",
       "  61 │    30  Private    101135  Bachelors             13  Never-married   Exe ⋯\n",
       "\u001b[36m                                                               9 columns omitted\u001b[0m"
      ]
     },
     "execution_count": 53,
     "metadata": {},
     "output_type": "execute_result"
    }
   ],
   "source": [
    "df[findfirst(==(30), df.age), :]"
   ]
  },
  {
   "cell_type": "code",
   "execution_count": 57,
   "id": "8c24b82b-a634-4734-9ea2-533add2fb33a",
   "metadata": {},
   "outputs": [
    {
     "data": {
      "text/html": [
       "<div><div style = \"float: left;\"><span>1278×15 DataFrame</span></div><div style = \"float: right;\"><span style = \"font-style: italic;\">1253 rows omitted</span></div><div style = \"clear: both;\"></div></div><div class = \"data-frame\" style = \"overflow-x: scroll;\"><table class = \"data-frame\" style = \"margin-bottom: 6px;\"><thead><tr class = \"header\"><th class = \"rowNumber\" style = \"font-weight: bold; text-align: right;\">Row</th><th style = \"text-align: left;\">age</th><th style = \"text-align: left;\">workclass</th><th style = \"text-align: left;\">fnlwgt</th><th style = \"text-align: left;\">education</th><th style = \"text-align: left;\">education_num</th><th style = \"text-align: left;\">marital_status</th><th style = \"text-align: left;\">occupation</th><th style = \"text-align: left;\">relationship</th><th style = \"text-align: left;\">race</th><th style = \"text-align: left;\">sex</th><th style = \"text-align: left;\">capital_gain</th><th style = \"text-align: left;\">capital_loss</th><th style = \"text-align: left;\">hours_per_week</th><th style = \"text-align: left;\">native_country</th><th style = \"text-align: left;\">class</th></tr><tr class = \"subheader headerLastRow\"><th class = \"rowNumber\" style = \"font-weight: bold; text-align: right;\"></th><th title = \"Int64\" style = \"text-align: left;\">Int64</th><th title = \"String31\" style = \"text-align: left;\">String31</th><th title = \"Int64\" style = \"text-align: left;\">Int64</th><th title = \"String15\" style = \"text-align: left;\">String15</th><th title = \"Int64\" style = \"text-align: left;\">Int64</th><th title = \"String31\" style = \"text-align: left;\">String31</th><th title = \"String31\" style = \"text-align: left;\">String31</th><th title = \"String15\" style = \"text-align: left;\">String15</th><th title = \"String31\" style = \"text-align: left;\">String31</th><th title = \"String7\" style = \"text-align: left;\">String7</th><th title = \"Int64\" style = \"text-align: left;\">Int64</th><th title = \"Int64\" style = \"text-align: left;\">Int64</th><th title = \"Int64\" style = \"text-align: left;\">Int64</th><th title = \"String31\" style = \"text-align: left;\">String31</th><th title = \"String7\" style = \"text-align: left;\">String7</th></tr></thead><tbody><tr><td class = \"rowNumber\" style = \"font-weight: bold; text-align: right;\">1</td><td style = \"text-align: right;\">30</td><td style = \"text-align: left;\">Private</td><td style = \"text-align: right;\">101135</td><td style = \"text-align: left;\">Bachelors</td><td style = \"text-align: right;\">13</td><td style = \"text-align: left;\">Never-married</td><td style = \"text-align: left;\">Exec-managerial</td><td style = \"text-align: left;\">Not-in-family</td><td style = \"text-align: left;\">White</td><td style = \"text-align: left;\">Female</td><td style = \"text-align: right;\">0</td><td style = \"text-align: right;\">0</td><td style = \"text-align: right;\">50</td><td style = \"text-align: left;\">United-States</td><td style = \"text-align: left;\">&lt;=50K</td></tr><tr><td class = \"rowNumber\" style = \"font-weight: bold; text-align: right;\">2</td><td style = \"text-align: right;\">30</td><td style = \"text-align: left;\">Private</td><td style = \"text-align: right;\">229636</td><td style = \"text-align: left;\">HS-grad</td><td style = \"text-align: right;\">9</td><td style = \"text-align: left;\">Married-civ-spouse</td><td style = \"text-align: left;\">Machine-op-inspct</td><td style = \"text-align: left;\">Husband</td><td style = \"text-align: left;\">White</td><td style = \"text-align: left;\">Male</td><td style = \"text-align: right;\">0</td><td style = \"text-align: right;\">0</td><td style = \"text-align: right;\">40</td><td style = \"text-align: left;\">Mexico</td><td style = \"text-align: left;\">&lt;=50K</td></tr><tr><td class = \"rowNumber\" style = \"font-weight: bold; text-align: right;\">3</td><td style = \"text-align: right;\">30</td><td style = \"text-align: left;\">Private</td><td style = \"text-align: right;\">142921</td><td style = \"text-align: left;\">Assoc-acdm</td><td style = \"text-align: right;\">12</td><td style = \"text-align: left;\">Never-married</td><td style = \"text-align: left;\">Prof-specialty</td><td style = \"text-align: left;\">Not-in-family</td><td style = \"text-align: left;\">White</td><td style = \"text-align: left;\">Female</td><td style = \"text-align: right;\">0</td><td style = \"text-align: right;\">0</td><td style = \"text-align: right;\">40</td><td style = \"text-align: left;\">United-States</td><td style = \"text-align: left;\">&lt;=50K</td></tr><tr><td class = \"rowNumber\" style = \"font-weight: bold; text-align: right;\">4</td><td style = \"text-align: right;\">30</td><td style = \"text-align: left;\">State-gov</td><td style = \"text-align: right;\">260782</td><td style = \"text-align: left;\">HS-grad</td><td style = \"text-align: right;\">9</td><td style = \"text-align: left;\">Never-married</td><td style = \"text-align: left;\">Other-service</td><td style = \"text-align: left;\">Not-in-family</td><td style = \"text-align: left;\">White</td><td style = \"text-align: left;\">Male</td><td style = \"text-align: right;\">0</td><td style = \"text-align: right;\">0</td><td style = \"text-align: right;\">40</td><td style = \"text-align: left;\">United-States</td><td style = \"text-align: left;\">&lt;=50K</td></tr><tr><td class = \"rowNumber\" style = \"font-weight: bold; text-align: right;\">5</td><td style = \"text-align: right;\">30</td><td style = \"text-align: left;\">Private</td><td style = \"text-align: right;\">296462</td><td style = \"text-align: left;\">HS-grad</td><td style = \"text-align: right;\">9</td><td style = \"text-align: left;\">Never-married</td><td style = \"text-align: left;\">Exec-managerial</td><td style = \"text-align: left;\">Not-in-family</td><td style = \"text-align: left;\">Black</td><td style = \"text-align: left;\">Male</td><td style = \"text-align: right;\">0</td><td style = \"text-align: right;\">0</td><td style = \"text-align: right;\">40</td><td style = \"text-align: left;\">United-States</td><td style = \"text-align: left;\">&lt;=50K</td></tr><tr><td class = \"rowNumber\" style = \"font-weight: bold; text-align: right;\">6</td><td style = \"text-align: right;\">30</td><td style = \"text-align: left;\">Private</td><td style = \"text-align: right;\">236543</td><td style = \"text-align: left;\">9th</td><td style = \"text-align: right;\">5</td><td style = \"text-align: left;\">Married-civ-spouse</td><td style = \"text-align: left;\">Other-service</td><td style = \"text-align: left;\">Husband</td><td style = \"text-align: left;\">White</td><td style = \"text-align: left;\">Male</td><td style = \"text-align: right;\">0</td><td style = \"text-align: right;\">0</td><td style = \"text-align: right;\">32</td><td style = \"text-align: left;\">El-Salvador</td><td style = \"text-align: left;\">&gt;50K</td></tr><tr><td class = \"rowNumber\" style = \"font-weight: bold; text-align: right;\">7</td><td style = \"text-align: right;\">30</td><td style = \"text-align: left;\">Private</td><td style = \"text-align: right;\">238186</td><td style = \"text-align: left;\">HS-grad</td><td style = \"text-align: right;\">9</td><td style = \"text-align: left;\">Married-civ-spouse</td><td style = \"text-align: left;\">Machine-op-inspct</td><td style = \"text-align: left;\">Other-relative</td><td style = \"text-align: left;\">White</td><td style = \"text-align: left;\">Male</td><td style = \"text-align: right;\">0</td><td style = \"text-align: right;\">2057</td><td style = \"text-align: right;\">48</td><td style = \"text-align: left;\">United-States</td><td style = \"text-align: left;\">&lt;=50K</td></tr><tr><td class = \"rowNumber\" style = \"font-weight: bold; text-align: right;\">8</td><td style = \"text-align: right;\">30</td><td style = \"text-align: left;\">Private</td><td style = \"text-align: right;\">169269</td><td style = \"text-align: left;\">11th</td><td style = \"text-align: right;\">7</td><td style = \"text-align: left;\">Never-married</td><td style = \"text-align: left;\">Handlers-cleaners</td><td style = \"text-align: left;\">Other-relative</td><td style = \"text-align: left;\">White</td><td style = \"text-align: left;\">Male</td><td style = \"text-align: right;\">0</td><td style = \"text-align: right;\">1721</td><td style = \"text-align: right;\">38</td><td style = \"text-align: left;\">Puerto-Rico</td><td style = \"text-align: left;\">&lt;=50K</td></tr><tr><td class = \"rowNumber\" style = \"font-weight: bold; text-align: right;\">9</td><td style = \"text-align: right;\">30</td><td style = \"text-align: left;\">Private</td><td style = \"text-align: right;\">446894</td><td style = \"text-align: left;\">HS-grad</td><td style = \"text-align: right;\">9</td><td style = \"text-align: left;\">Married-civ-spouse</td><td style = \"text-align: left;\">Handlers-cleaners</td><td style = \"text-align: left;\">Husband</td><td style = \"text-align: left;\">White</td><td style = \"text-align: left;\">Male</td><td style = \"text-align: right;\">0</td><td style = \"text-align: right;\">0</td><td style = \"text-align: right;\">30</td><td style = \"text-align: left;\">United-States</td><td style = \"text-align: left;\">&lt;=50K</td></tr><tr><td class = \"rowNumber\" style = \"font-weight: bold; text-align: right;\">10</td><td style = \"text-align: right;\">30</td><td style = \"text-align: left;\">Local-gov</td><td style = \"text-align: right;\">176992</td><td style = \"text-align: left;\">HS-grad</td><td style = \"text-align: right;\">9</td><td style = \"text-align: left;\">Married-civ-spouse</td><td style = \"text-align: left;\">Transport-moving</td><td style = \"text-align: left;\">Husband</td><td style = \"text-align: left;\">White</td><td style = \"text-align: left;\">Male</td><td style = \"text-align: right;\">0</td><td style = \"text-align: right;\">0</td><td style = \"text-align: right;\">50</td><td style = \"text-align: left;\">United-States</td><td style = \"text-align: left;\">&gt;50K</td></tr><tr><td class = \"rowNumber\" style = \"font-weight: bold; text-align: right;\">11</td><td style = \"text-align: right;\">30</td><td style = \"text-align: left;\">Private</td><td style = \"text-align: right;\">113453</td><td style = \"text-align: left;\">Masters</td><td style = \"text-align: right;\">14</td><td style = \"text-align: left;\">Married-civ-spouse</td><td style = \"text-align: left;\">Prof-specialty</td><td style = \"text-align: left;\">Wife</td><td style = \"text-align: left;\">White</td><td style = \"text-align: left;\">Female</td><td style = \"text-align: right;\">0</td><td style = \"text-align: right;\">0</td><td style = \"text-align: right;\">30</td><td style = \"text-align: left;\">United-States</td><td style = \"text-align: left;\">&lt;=50K</td></tr><tr><td class = \"rowNumber\" style = \"font-weight: bold; text-align: right;\">12</td><td style = \"text-align: right;\">30</td><td style = \"text-align: left;\">Private</td><td style = \"text-align: right;\">101562</td><td style = \"text-align: left;\">HS-grad</td><td style = \"text-align: right;\">9</td><td style = \"text-align: left;\">Never-married</td><td style = \"text-align: left;\">Adm-clerical</td><td style = \"text-align: left;\">Not-in-family</td><td style = \"text-align: left;\">White</td><td style = \"text-align: left;\">Female</td><td style = \"text-align: right;\">0</td><td style = \"text-align: right;\">0</td><td style = \"text-align: right;\">40</td><td style = \"text-align: left;\">United-States</td><td style = \"text-align: left;\">&lt;=50K</td></tr><tr><td class = \"rowNumber\" style = \"font-weight: bold; text-align: right;\">13</td><td style = \"text-align: right;\">30</td><td style = \"text-align: left;\">?</td><td style = \"text-align: right;\">126402</td><td style = \"text-align: left;\">11th</td><td style = \"text-align: right;\">7</td><td style = \"text-align: left;\">Never-married</td><td style = \"text-align: left;\">?</td><td style = \"text-align: left;\">Unmarried</td><td style = \"text-align: left;\">Black</td><td style = \"text-align: left;\">Female</td><td style = \"text-align: right;\">0</td><td style = \"text-align: right;\">0</td><td style = \"text-align: right;\">40</td><td style = \"text-align: left;\">United-States</td><td style = \"text-align: left;\">&lt;=50K</td></tr><tr><td style = \"text-align: right;\">&vellip;</td><td style = \"text-align: right;\">&vellip;</td><td style = \"text-align: right;\">&vellip;</td><td style = \"text-align: right;\">&vellip;</td><td style = \"text-align: right;\">&vellip;</td><td style = \"text-align: right;\">&vellip;</td><td style = \"text-align: right;\">&vellip;</td><td style = \"text-align: right;\">&vellip;</td><td style = \"text-align: right;\">&vellip;</td><td style = \"text-align: right;\">&vellip;</td><td style = \"text-align: right;\">&vellip;</td><td style = \"text-align: right;\">&vellip;</td><td style = \"text-align: right;\">&vellip;</td><td style = \"text-align: right;\">&vellip;</td><td style = \"text-align: right;\">&vellip;</td><td style = \"text-align: right;\">&vellip;</td></tr><tr><td class = \"rowNumber\" style = \"font-weight: bold; text-align: right;\">1267</td><td style = \"text-align: right;\">30</td><td style = \"text-align: left;\">Private</td><td style = \"text-align: right;\">318749</td><td style = \"text-align: left;\">Assoc-voc</td><td style = \"text-align: right;\">11</td><td style = \"text-align: left;\">Married-civ-spouse</td><td style = \"text-align: left;\">Tech-support</td><td style = \"text-align: left;\">Wife</td><td style = \"text-align: left;\">White</td><td style = \"text-align: left;\">Female</td><td style = \"text-align: right;\">0</td><td style = \"text-align: right;\">0</td><td style = \"text-align: right;\">35</td><td style = \"text-align: left;\">Germany</td><td style = \"text-align: left;\">&lt;=50K</td></tr><tr><td class = \"rowNumber\" style = \"font-weight: bold; text-align: right;\">1268</td><td style = \"text-align: right;\">30</td><td style = \"text-align: left;\">Private</td><td style = \"text-align: right;\">190228</td><td style = \"text-align: left;\">HS-grad</td><td style = \"text-align: right;\">9</td><td style = \"text-align: left;\">Married-civ-spouse</td><td style = \"text-align: left;\">Handlers-cleaners</td><td style = \"text-align: left;\">Husband</td><td style = \"text-align: left;\">White</td><td style = \"text-align: left;\">Male</td><td style = \"text-align: right;\">0</td><td style = \"text-align: right;\">0</td><td style = \"text-align: right;\">40</td><td style = \"text-align: left;\">United-States</td><td style = \"text-align: left;\">&lt;=50K</td></tr><tr><td class = \"rowNumber\" style = \"font-weight: bold; text-align: right;\">1269</td><td style = \"text-align: right;\">30</td><td style = \"text-align: left;\">Private</td><td style = \"text-align: right;\">215441</td><td style = \"text-align: left;\">Some-college</td><td style = \"text-align: right;\">10</td><td style = \"text-align: left;\">Never-married</td><td style = \"text-align: left;\">Adm-clerical</td><td style = \"text-align: left;\">Not-in-family</td><td style = \"text-align: left;\">Other</td><td style = \"text-align: left;\">Male</td><td style = \"text-align: right;\">0</td><td style = \"text-align: right;\">0</td><td style = \"text-align: right;\">40</td><td style = \"text-align: left;\">?</td><td style = \"text-align: left;\">&lt;=50K</td></tr><tr><td class = \"rowNumber\" style = \"font-weight: bold; text-align: right;\">1270</td><td style = \"text-align: right;\">30</td><td style = \"text-align: left;\">Private</td><td style = \"text-align: right;\">33678</td><td style = \"text-align: left;\">HS-grad</td><td style = \"text-align: right;\">9</td><td style = \"text-align: left;\">Never-married</td><td style = \"text-align: left;\">Sales</td><td style = \"text-align: left;\">Own-child</td><td style = \"text-align: left;\">White</td><td style = \"text-align: left;\">Male</td><td style = \"text-align: right;\">0</td><td style = \"text-align: right;\">0</td><td style = \"text-align: right;\">40</td><td style = \"text-align: left;\">United-States</td><td style = \"text-align: left;\">&lt;=50K</td></tr><tr><td class = \"rowNumber\" style = \"font-weight: bold; text-align: right;\">1271</td><td style = \"text-align: right;\">30</td><td style = \"text-align: left;\">Never-worked</td><td style = \"text-align: right;\">176673</td><td style = \"text-align: left;\">HS-grad</td><td style = \"text-align: right;\">9</td><td style = \"text-align: left;\">Married-civ-spouse</td><td style = \"text-align: left;\">?</td><td style = \"text-align: left;\">Wife</td><td style = \"text-align: left;\">Black</td><td style = \"text-align: left;\">Female</td><td style = \"text-align: right;\">0</td><td style = \"text-align: right;\">0</td><td style = \"text-align: right;\">40</td><td style = \"text-align: left;\">United-States</td><td style = \"text-align: left;\">&lt;=50K</td></tr><tr><td class = \"rowNumber\" style = \"font-weight: bold; text-align: right;\">1272</td><td style = \"text-align: right;\">30</td><td style = \"text-align: left;\">Private</td><td style = \"text-align: right;\">205152</td><td style = \"text-align: left;\">Bachelors</td><td style = \"text-align: right;\">13</td><td style = \"text-align: left;\">Never-married</td><td style = \"text-align: left;\">Sales</td><td style = \"text-align: left;\">Not-in-family</td><td style = \"text-align: left;\">White</td><td style = \"text-align: left;\">Male</td><td style = \"text-align: right;\">0</td><td style = \"text-align: right;\">0</td><td style = \"text-align: right;\">40</td><td style = \"text-align: left;\">United-States</td><td style = \"text-align: left;\">&lt;=50K</td></tr><tr><td class = \"rowNumber\" style = \"font-weight: bold; text-align: right;\">1273</td><td style = \"text-align: right;\">30</td><td style = \"text-align: left;\">Self-emp-not-inc</td><td style = \"text-align: right;\">176185</td><td style = \"text-align: left;\">Some-college</td><td style = \"text-align: right;\">10</td><td style = \"text-align: left;\">Married-spouse-absent</td><td style = \"text-align: left;\">Craft-repair</td><td style = \"text-align: left;\">Own-child</td><td style = \"text-align: left;\">White</td><td style = \"text-align: left;\">Male</td><td style = \"text-align: right;\">0</td><td style = \"text-align: right;\">0</td><td style = \"text-align: right;\">60</td><td style = \"text-align: left;\">United-States</td><td style = \"text-align: left;\">&gt;50K</td></tr><tr><td class = \"rowNumber\" style = \"font-weight: bold; text-align: right;\">1274</td><td style = \"text-align: right;\">30</td><td style = \"text-align: left;\">Self-emp-not-inc</td><td style = \"text-align: right;\">261943</td><td style = \"text-align: left;\">11th</td><td style = \"text-align: right;\">7</td><td style = \"text-align: left;\">Married-spouse-absent</td><td style = \"text-align: left;\">Craft-repair</td><td style = \"text-align: left;\">Not-in-family</td><td style = \"text-align: left;\">White</td><td style = \"text-align: left;\">Male</td><td style = \"text-align: right;\">0</td><td style = \"text-align: right;\">0</td><td style = \"text-align: right;\">30</td><td style = \"text-align: left;\">Honduras</td><td style = \"text-align: left;\">&lt;=50K</td></tr><tr><td class = \"rowNumber\" style = \"font-weight: bold; text-align: right;\">1275</td><td style = \"text-align: right;\">30</td><td style = \"text-align: left;\">Private</td><td style = \"text-align: right;\">176175</td><td style = \"text-align: left;\">Assoc-voc</td><td style = \"text-align: right;\">11</td><td style = \"text-align: left;\">Divorced</td><td style = \"text-align: left;\">Adm-clerical</td><td style = \"text-align: left;\">Unmarried</td><td style = \"text-align: left;\">White</td><td style = \"text-align: left;\">Female</td><td style = \"text-align: right;\">0</td><td style = \"text-align: right;\">0</td><td style = \"text-align: right;\">24</td><td style = \"text-align: left;\">United-States</td><td style = \"text-align: left;\">&lt;=50K</td></tr><tr><td class = \"rowNumber\" style = \"font-weight: bold; text-align: right;\">1276</td><td style = \"text-align: right;\">30</td><td style = \"text-align: left;\">Private</td><td style = \"text-align: right;\">77266</td><td style = \"text-align: left;\">HS-grad</td><td style = \"text-align: right;\">9</td><td style = \"text-align: left;\">Divorced</td><td style = \"text-align: left;\">Transport-moving</td><td style = \"text-align: left;\">Not-in-family</td><td style = \"text-align: left;\">White</td><td style = \"text-align: left;\">Male</td><td style = \"text-align: right;\">0</td><td style = \"text-align: right;\">0</td><td style = \"text-align: right;\">55</td><td style = \"text-align: left;\">United-States</td><td style = \"text-align: left;\">&lt;=50K</td></tr><tr><td class = \"rowNumber\" style = \"font-weight: bold; text-align: right;\">1277</td><td style = \"text-align: right;\">30</td><td style = \"text-align: left;\">?</td><td style = \"text-align: right;\">33811</td><td style = \"text-align: left;\">Bachelors</td><td style = \"text-align: right;\">13</td><td style = \"text-align: left;\">Never-married</td><td style = \"text-align: left;\">?</td><td style = \"text-align: left;\">Not-in-family</td><td style = \"text-align: left;\">Asian-Pac-Islander</td><td style = \"text-align: left;\">Female</td><td style = \"text-align: right;\">0</td><td style = \"text-align: right;\">0</td><td style = \"text-align: right;\">99</td><td style = \"text-align: left;\">United-States</td><td style = \"text-align: left;\">&lt;=50K</td></tr><tr><td class = \"rowNumber\" style = \"font-weight: bold; text-align: right;\">1278</td><td style = \"text-align: right;\">30</td><td style = \"text-align: left;\">Private</td><td style = \"text-align: right;\">345898</td><td style = \"text-align: left;\">HS-grad</td><td style = \"text-align: right;\">9</td><td style = \"text-align: left;\">Never-married</td><td style = \"text-align: left;\">Craft-repair</td><td style = \"text-align: left;\">Not-in-family</td><td style = \"text-align: left;\">Black</td><td style = \"text-align: left;\">Male</td><td style = \"text-align: right;\">0</td><td style = \"text-align: right;\">0</td><td style = \"text-align: right;\">46</td><td style = \"text-align: left;\">United-States</td><td style = \"text-align: left;\">&lt;=50K</td></tr></tbody></table></div>"
      ],
      "text/latex": [
       "\\begin{tabular}{r|ccccccc}\n",
       "\t& age & workclass & fnlwgt & education & education\\_num & marital\\_status & \\\\\n",
       "\t\\hline\n",
       "\t& Int64 & String31 & Int64 & String15 & Int64 & String31 & \\\\\n",
       "\t\\hline\n",
       "\t1 & 30 & Private & 101135 & Bachelors & 13 & Never-married & $\\dots$ \\\\\n",
       "\t2 & 30 & Private & 229636 & HS-grad & 9 & Married-civ-spouse & $\\dots$ \\\\\n",
       "\t3 & 30 & Private & 142921 & Assoc-acdm & 12 & Never-married & $\\dots$ \\\\\n",
       "\t4 & 30 & State-gov & 260782 & HS-grad & 9 & Never-married & $\\dots$ \\\\\n",
       "\t5 & 30 & Private & 296462 & HS-grad & 9 & Never-married & $\\dots$ \\\\\n",
       "\t6 & 30 & Private & 236543 & 9th & 5 & Married-civ-spouse & $\\dots$ \\\\\n",
       "\t7 & 30 & Private & 238186 & HS-grad & 9 & Married-civ-spouse & $\\dots$ \\\\\n",
       "\t8 & 30 & Private & 169269 & 11th & 7 & Never-married & $\\dots$ \\\\\n",
       "\t9 & 30 & Private & 446894 & HS-grad & 9 & Married-civ-spouse & $\\dots$ \\\\\n",
       "\t10 & 30 & Local-gov & 176992 & HS-grad & 9 & Married-civ-spouse & $\\dots$ \\\\\n",
       "\t11 & 30 & Private & 113453 & Masters & 14 & Married-civ-spouse & $\\dots$ \\\\\n",
       "\t12 & 30 & Private & 101562 & HS-grad & 9 & Never-married & $\\dots$ \\\\\n",
       "\t13 & 30 & ? & 126402 & 11th & 7 & Never-married & $\\dots$ \\\\\n",
       "\t14 & 30 & Self-emp-not-inc & 100252 & HS-grad & 9 & Married-civ-spouse & $\\dots$ \\\\\n",
       "\t15 & 30 & Federal-gov & 340899 & Bachelors & 13 & Never-married & $\\dots$ \\\\\n",
       "\t16 & 30 & Private & 127875 & 11th & 7 & Never-married & $\\dots$ \\\\\n",
       "\t17 & 30 & Private & 143766 & Some-college & 10 & Never-married & $\\dots$ \\\\\n",
       "\t18 & 30 & Private & 97306 & Some-college & 10 & Never-married & $\\dots$ \\\\\n",
       "\t19 & 30 & Private & 169002 & Bachelors & 13 & Married-civ-spouse & $\\dots$ \\\\\n",
       "\t20 & 30 & Private & 23778 & Some-college & 10 & Never-married & $\\dots$ \\\\\n",
       "\t21 & 30 & Private & 53373 & Bachelors & 13 & Married-civ-spouse & $\\dots$ \\\\\n",
       "\t22 & 30 & Private & 84119 & HS-grad & 9 & Married-civ-spouse & $\\dots$ \\\\\n",
       "\t23 & 30 & Private & 296538 & 9th & 5 & Divorced & $\\dots$ \\\\\n",
       "\t24 & 30 & State-gov & 157990 & HS-grad & 9 & Married-civ-spouse & $\\dots$ \\\\\n",
       "\t25 & 30 & Private & 226296 & Masters & 14 & Never-married & $\\dots$ \\\\\n",
       "\t26 & 30 & Self-emp-not-inc & 370498 & Some-college & 10 & Never-married & $\\dots$ \\\\\n",
       "\t27 & 30 & Federal-gov & 42900 & Bachelors & 13 & Never-married & $\\dots$ \\\\\n",
       "\t28 & 30 & State-gov & 184901 & Bachelors & 13 & Married-civ-spouse & $\\dots$ \\\\\n",
       "\t29 & 30 & Private & 242739 & Bachelors & 13 & Divorced & $\\dots$ \\\\\n",
       "\t30 & 30 & Private & 509364 & Some-college & 10 & Married-civ-spouse & $\\dots$ \\\\\n",
       "\t$\\dots$ & $\\dots$ & $\\dots$ & $\\dots$ & $\\dots$ & $\\dots$ & $\\dots$ &  \\\\\n",
       "\\end{tabular}\n"
      ],
      "text/plain": [
       "\u001b[1m1278×15 DataFrame\u001b[0m\n",
       "\u001b[1m  Row \u001b[0m│\u001b[1m age   \u001b[0m\u001b[1m workclass        \u001b[0m\u001b[1m fnlwgt \u001b[0m\u001b[1m education    \u001b[0m\u001b[1m education_num \u001b[0m\u001b[1m marital_\u001b[0m ⋯\n",
       "      │\u001b[90m Int64 \u001b[0m\u001b[90m String31         \u001b[0m\u001b[90m Int64  \u001b[0m\u001b[90m String15     \u001b[0m\u001b[90m Int64         \u001b[0m\u001b[90m String31\u001b[0m ⋯\n",
       "──────┼─────────────────────────────────────────────────────────────────────────\n",
       "    1 │    30  Private           101135  Bachelors                13  Never-ma ⋯\n",
       "    2 │    30  Private           229636  HS-grad                   9  Married-\n",
       "    3 │    30  Private           142921  Assoc-acdm               12  Never-ma\n",
       "    4 │    30  State-gov         260782  HS-grad                   9  Never-ma\n",
       "    5 │    30  Private           296462  HS-grad                   9  Never-ma ⋯\n",
       "    6 │    30  Private           236543  9th                       5  Married-\n",
       "    7 │    30  Private           238186  HS-grad                   9  Married-\n",
       "    8 │    30  Private           169269  11th                      7  Never-ma\n",
       "    9 │    30  Private           446894  HS-grad                   9  Married- ⋯\n",
       "   10 │    30  Local-gov         176992  HS-grad                   9  Married-\n",
       "   11 │    30  Private           113453  Masters                  14  Married-\n",
       "  ⋮   │   ⋮           ⋮            ⋮          ⋮              ⋮                 ⋱\n",
       " 1269 │    30  Private           215441  Some-college             10  Never-ma\n",
       " 1270 │    30  Private            33678  HS-grad                   9  Never-ma ⋯\n",
       " 1271 │    30  Never-worked      176673  HS-grad                   9  Married-\n",
       " 1272 │    30  Private           205152  Bachelors                13  Never-ma\n",
       " 1273 │    30  Self-emp-not-inc  176185  Some-college             10  Married-\n",
       " 1274 │    30  Self-emp-not-inc  261943  11th                      7  Married- ⋯\n",
       " 1275 │    30  Private           176175  Assoc-voc                11  Divorced\n",
       " 1276 │    30  Private            77266  HS-grad                   9  Divorced\n",
       " 1277 │    30  ?                  33811  Bachelors                13  Never-ma\n",
       " 1278 │    30  Private           345898  HS-grad                   9  Never-ma ⋯\n",
       "\u001b[36m                                                10 columns and 1257 rows omitted\u001b[0m"
      ]
     },
     "execution_count": 57,
     "metadata": {},
     "output_type": "execute_result"
    }
   ],
   "source": [
    "df[findall(==(30), df.age), :]"
   ]
  },
  {
   "cell_type": "code",
   "execution_count": 60,
   "id": "126b6138-b399-406c-8998-57d0d297316c",
   "metadata": {},
   "outputs": [
    {
     "data": {
      "text/html": [
       "<div><div style = \"float: left;\"><span>48842×1 DataFrame</span></div><div style = \"float: right;\"><span style = \"font-style: italic;\">48817 rows omitted</span></div><div style = \"clear: both;\"></div></div><div class = \"data-frame\" style = \"overflow-x: scroll;\"><table class = \"data-frame\" style = \"margin-bottom: 6px;\"><thead><tr class = \"header\"><th class = \"rowNumber\" style = \"font-weight: bold; text-align: right;\">Row</th><th style = \"text-align: left;\">occupation</th></tr><tr class = \"subheader headerLastRow\"><th class = \"rowNumber\" style = \"font-weight: bold; text-align: right;\"></th><th title = \"String31\" style = \"text-align: left;\">String31</th></tr></thead><tbody><tr><td class = \"rowNumber\" style = \"font-weight: bold; text-align: right;\">1</td><td style = \"text-align: left;\">Machine-op-inspct</td></tr><tr><td class = \"rowNumber\" style = \"font-weight: bold; text-align: right;\">2</td><td style = \"text-align: left;\">Farming-fishing</td></tr><tr><td class = \"rowNumber\" style = \"font-weight: bold; text-align: right;\">3</td><td style = \"text-align: left;\">Protective-serv</td></tr><tr><td class = \"rowNumber\" style = \"font-weight: bold; text-align: right;\">4</td><td style = \"text-align: left;\">Machine-op-inspct</td></tr><tr><td class = \"rowNumber\" style = \"font-weight: bold; text-align: right;\">5</td><td style = \"text-align: left;\">?</td></tr><tr><td class = \"rowNumber\" style = \"font-weight: bold; text-align: right;\">6</td><td style = \"text-align: left;\">Other-service</td></tr><tr><td class = \"rowNumber\" style = \"font-weight: bold; text-align: right;\">7</td><td style = \"text-align: left;\">?</td></tr><tr><td class = \"rowNumber\" style = \"font-weight: bold; text-align: right;\">8</td><td style = \"text-align: left;\">Prof-specialty</td></tr><tr><td class = \"rowNumber\" style = \"font-weight: bold; text-align: right;\">9</td><td style = \"text-align: left;\">Other-service</td></tr><tr><td class = \"rowNumber\" style = \"font-weight: bold; text-align: right;\">10</td><td style = \"text-align: left;\">Craft-repair</td></tr><tr><td class = \"rowNumber\" style = \"font-weight: bold; text-align: right;\">11</td><td style = \"text-align: left;\">Machine-op-inspct</td></tr><tr><td class = \"rowNumber\" style = \"font-weight: bold; text-align: right;\">12</td><td style = \"text-align: left;\">Adm-clerical</td></tr><tr><td class = \"rowNumber\" style = \"font-weight: bold; text-align: right;\">13</td><td style = \"text-align: left;\">Adm-clerical</td></tr><tr><td style = \"text-align: right;\">&vellip;</td><td style = \"text-align: right;\">&vellip;</td></tr><tr><td class = \"rowNumber\" style = \"font-weight: bold; text-align: right;\">48831</td><td style = \"text-align: left;\">Adm-clerical</td></tr><tr><td class = \"rowNumber\" style = \"font-weight: bold; text-align: right;\">48832</td><td style = \"text-align: left;\">Craft-repair</td></tr><tr><td class = \"rowNumber\" style = \"font-weight: bold; text-align: right;\">48833</td><td style = \"text-align: left;\">Handlers-cleaners</td></tr><tr><td class = \"rowNumber\" style = \"font-weight: bold; text-align: right;\">48834</td><td style = \"text-align: left;\">Sales</td></tr><tr><td class = \"rowNumber\" style = \"font-weight: bold; text-align: right;\">48835</td><td style = \"text-align: left;\">Tech-support</td></tr><tr><td class = \"rowNumber\" style = \"font-weight: bold; text-align: right;\">48836</td><td style = \"text-align: left;\">Exec-managerial</td></tr><tr><td class = \"rowNumber\" style = \"font-weight: bold; text-align: right;\">48837</td><td style = \"text-align: left;\">Protective-serv</td></tr><tr><td class = \"rowNumber\" style = \"font-weight: bold; text-align: right;\">48838</td><td style = \"text-align: left;\">Tech-support</td></tr><tr><td class = \"rowNumber\" style = \"font-weight: bold; text-align: right;\">48839</td><td style = \"text-align: left;\">Machine-op-inspct</td></tr><tr><td class = \"rowNumber\" style = \"font-weight: bold; text-align: right;\">48840</td><td style = \"text-align: left;\">Adm-clerical</td></tr><tr><td class = \"rowNumber\" style = \"font-weight: bold; text-align: right;\">48841</td><td style = \"text-align: left;\">Adm-clerical</td></tr><tr><td class = \"rowNumber\" style = \"font-weight: bold; text-align: right;\">48842</td><td style = \"text-align: left;\">Exec-managerial</td></tr></tbody></table></div>"
      ],
      "text/latex": [
       "\\begin{tabular}{r|c}\n",
       "\t& occupation\\\\\n",
       "\t\\hline\n",
       "\t& String31\\\\\n",
       "\t\\hline\n",
       "\t1 & Machine-op-inspct \\\\\n",
       "\t2 & Farming-fishing \\\\\n",
       "\t3 & Protective-serv \\\\\n",
       "\t4 & Machine-op-inspct \\\\\n",
       "\t5 & ? \\\\\n",
       "\t6 & Other-service \\\\\n",
       "\t7 & ? \\\\\n",
       "\t8 & Prof-specialty \\\\\n",
       "\t9 & Other-service \\\\\n",
       "\t10 & Craft-repair \\\\\n",
       "\t11 & Machine-op-inspct \\\\\n",
       "\t12 & Adm-clerical \\\\\n",
       "\t13 & Adm-clerical \\\\\n",
       "\t14 & ? \\\\\n",
       "\t15 & Machine-op-inspct \\\\\n",
       "\t16 & Exec-managerial \\\\\n",
       "\t17 & Other-service \\\\\n",
       "\t18 & Adm-clerical \\\\\n",
       "\t19 & Machine-op-inspct \\\\\n",
       "\t20 & Prof-specialty \\\\\n",
       "\t21 & Tech-support \\\\\n",
       "\t22 & Other-service \\\\\n",
       "\t23 & ? \\\\\n",
       "\t24 & Prof-specialty \\\\\n",
       "\t25 & Prof-specialty \\\\\n",
       "\t26 & Craft-repair \\\\\n",
       "\t27 & Adm-clerical \\\\\n",
       "\t28 & Machine-op-inspct \\\\\n",
       "\t29 & Craft-repair \\\\\n",
       "\t30 & Prof-specialty \\\\\n",
       "\t$\\dots$ & $\\dots$ \\\\\n",
       "\\end{tabular}\n"
      ],
      "text/plain": [
       "\u001b[1m48842×1 DataFrame\u001b[0m\n",
       "\u001b[1m   Row \u001b[0m│\u001b[1m occupation        \u001b[0m\n",
       "       │\u001b[90m String31          \u001b[0m\n",
       "───────┼───────────────────\n",
       "     1 │ Machine-op-inspct\n",
       "     2 │ Farming-fishing\n",
       "     3 │ Protective-serv\n",
       "     4 │ Machine-op-inspct\n",
       "     5 │ ?\n",
       "     6 │ Other-service\n",
       "     7 │ ?\n",
       "     8 │ Prof-specialty\n",
       "     9 │ Other-service\n",
       "    10 │ Craft-repair\n",
       "    11 │ Machine-op-inspct\n",
       "   ⋮   │         ⋮\n",
       " 48833 │ Handlers-cleaners\n",
       " 48834 │ Sales\n",
       " 48835 │ Tech-support\n",
       " 48836 │ Exec-managerial\n",
       " 48837 │ Protective-serv\n",
       " 48838 │ Tech-support\n",
       " 48839 │ Machine-op-inspct\n",
       " 48840 │ Adm-clerical\n",
       " 48841 │ Adm-clerical\n",
       " 48842 │ Exec-managerial\n",
       "\u001b[36m         48821 rows omitted\u001b[0m"
      ]
     },
     "execution_count": 60,
     "metadata": {},
     "output_type": "execute_result"
    }
   ],
   "source": [
    "select(df, :occupation)"
   ]
  },
  {
   "cell_type": "code",
   "execution_count": 61,
   "id": "e6cfcc77-9bc8-43b7-83ff-126406979b13",
   "metadata": {},
   "outputs": [
    {
     "data": {
      "text/html": [
       "<div><div style = \"float: left;\"><span>48842×1 DataFrame</span></div><div style = \"float: right;\"><span style = \"font-style: italic;\">48817 rows omitted</span></div><div style = \"clear: both;\"></div></div><div class = \"data-frame\" style = \"overflow-x: scroll;\"><table class = \"data-frame\" style = \"margin-bottom: 6px;\"><thead><tr class = \"header\"><th class = \"rowNumber\" style = \"font-weight: bold; text-align: right;\">Row</th><th style = \"text-align: left;\">occupation</th></tr><tr class = \"subheader headerLastRow\"><th class = \"rowNumber\" style = \"font-weight: bold; text-align: right;\"></th><th title = \"String31\" style = \"text-align: left;\">String31</th></tr></thead><tbody><tr><td class = \"rowNumber\" style = \"font-weight: bold; text-align: right;\">1</td><td style = \"text-align: left;\">Machine-op-inspct</td></tr><tr><td class = \"rowNumber\" style = \"font-weight: bold; text-align: right;\">2</td><td style = \"text-align: left;\">Farming-fishing</td></tr><tr><td class = \"rowNumber\" style = \"font-weight: bold; text-align: right;\">3</td><td style = \"text-align: left;\">Protective-serv</td></tr><tr><td class = \"rowNumber\" style = \"font-weight: bold; text-align: right;\">4</td><td style = \"text-align: left;\">Machine-op-inspct</td></tr><tr><td class = \"rowNumber\" style = \"font-weight: bold; text-align: right;\">5</td><td style = \"text-align: left;\">?</td></tr><tr><td class = \"rowNumber\" style = \"font-weight: bold; text-align: right;\">6</td><td style = \"text-align: left;\">Other-service</td></tr><tr><td class = \"rowNumber\" style = \"font-weight: bold; text-align: right;\">7</td><td style = \"text-align: left;\">?</td></tr><tr><td class = \"rowNumber\" style = \"font-weight: bold; text-align: right;\">8</td><td style = \"text-align: left;\">Prof-specialty</td></tr><tr><td class = \"rowNumber\" style = \"font-weight: bold; text-align: right;\">9</td><td style = \"text-align: left;\">Other-service</td></tr><tr><td class = \"rowNumber\" style = \"font-weight: bold; text-align: right;\">10</td><td style = \"text-align: left;\">Craft-repair</td></tr><tr><td class = \"rowNumber\" style = \"font-weight: bold; text-align: right;\">11</td><td style = \"text-align: left;\">Machine-op-inspct</td></tr><tr><td class = \"rowNumber\" style = \"font-weight: bold; text-align: right;\">12</td><td style = \"text-align: left;\">Adm-clerical</td></tr><tr><td class = \"rowNumber\" style = \"font-weight: bold; text-align: right;\">13</td><td style = \"text-align: left;\">Adm-clerical</td></tr><tr><td style = \"text-align: right;\">&vellip;</td><td style = \"text-align: right;\">&vellip;</td></tr><tr><td class = \"rowNumber\" style = \"font-weight: bold; text-align: right;\">48831</td><td style = \"text-align: left;\">Adm-clerical</td></tr><tr><td class = \"rowNumber\" style = \"font-weight: bold; text-align: right;\">48832</td><td style = \"text-align: left;\">Craft-repair</td></tr><tr><td class = \"rowNumber\" style = \"font-weight: bold; text-align: right;\">48833</td><td style = \"text-align: left;\">Handlers-cleaners</td></tr><tr><td class = \"rowNumber\" style = \"font-weight: bold; text-align: right;\">48834</td><td style = \"text-align: left;\">Sales</td></tr><tr><td class = \"rowNumber\" style = \"font-weight: bold; text-align: right;\">48835</td><td style = \"text-align: left;\">Tech-support</td></tr><tr><td class = \"rowNumber\" style = \"font-weight: bold; text-align: right;\">48836</td><td style = \"text-align: left;\">Exec-managerial</td></tr><tr><td class = \"rowNumber\" style = \"font-weight: bold; text-align: right;\">48837</td><td style = \"text-align: left;\">Protective-serv</td></tr><tr><td class = \"rowNumber\" style = \"font-weight: bold; text-align: right;\">48838</td><td style = \"text-align: left;\">Tech-support</td></tr><tr><td class = \"rowNumber\" style = \"font-weight: bold; text-align: right;\">48839</td><td style = \"text-align: left;\">Machine-op-inspct</td></tr><tr><td class = \"rowNumber\" style = \"font-weight: bold; text-align: right;\">48840</td><td style = \"text-align: left;\">Adm-clerical</td></tr><tr><td class = \"rowNumber\" style = \"font-weight: bold; text-align: right;\">48841</td><td style = \"text-align: left;\">Adm-clerical</td></tr><tr><td class = \"rowNumber\" style = \"font-weight: bold; text-align: right;\">48842</td><td style = \"text-align: left;\">Exec-managerial</td></tr></tbody></table></div>"
      ],
      "text/latex": [
       "\\begin{tabular}{r|c}\n",
       "\t& occupation\\\\\n",
       "\t\\hline\n",
       "\t& String31\\\\\n",
       "\t\\hline\n",
       "\t1 & Machine-op-inspct \\\\\n",
       "\t2 & Farming-fishing \\\\\n",
       "\t3 & Protective-serv \\\\\n",
       "\t4 & Machine-op-inspct \\\\\n",
       "\t5 & ? \\\\\n",
       "\t6 & Other-service \\\\\n",
       "\t7 & ? \\\\\n",
       "\t8 & Prof-specialty \\\\\n",
       "\t9 & Other-service \\\\\n",
       "\t10 & Craft-repair \\\\\n",
       "\t11 & Machine-op-inspct \\\\\n",
       "\t12 & Adm-clerical \\\\\n",
       "\t13 & Adm-clerical \\\\\n",
       "\t14 & ? \\\\\n",
       "\t15 & Machine-op-inspct \\\\\n",
       "\t16 & Exec-managerial \\\\\n",
       "\t17 & Other-service \\\\\n",
       "\t18 & Adm-clerical \\\\\n",
       "\t19 & Machine-op-inspct \\\\\n",
       "\t20 & Prof-specialty \\\\\n",
       "\t21 & Tech-support \\\\\n",
       "\t22 & Other-service \\\\\n",
       "\t23 & ? \\\\\n",
       "\t24 & Prof-specialty \\\\\n",
       "\t25 & Prof-specialty \\\\\n",
       "\t26 & Craft-repair \\\\\n",
       "\t27 & Adm-clerical \\\\\n",
       "\t28 & Machine-op-inspct \\\\\n",
       "\t29 & Craft-repair \\\\\n",
       "\t30 & Prof-specialty \\\\\n",
       "\t$\\dots$ & $\\dots$ \\\\\n",
       "\\end{tabular}\n"
      ],
      "text/plain": [
       "\u001b[1m48842×1 DataFrame\u001b[0m\n",
       "\u001b[1m   Row \u001b[0m│\u001b[1m occupation        \u001b[0m\n",
       "       │\u001b[90m String31          \u001b[0m\n",
       "───────┼───────────────────\n",
       "     1 │ Machine-op-inspct\n",
       "     2 │ Farming-fishing\n",
       "     3 │ Protective-serv\n",
       "     4 │ Machine-op-inspct\n",
       "     5 │ ?\n",
       "     6 │ Other-service\n",
       "     7 │ ?\n",
       "     8 │ Prof-specialty\n",
       "     9 │ Other-service\n",
       "    10 │ Craft-repair\n",
       "    11 │ Machine-op-inspct\n",
       "   ⋮   │         ⋮\n",
       " 48833 │ Handlers-cleaners\n",
       " 48834 │ Sales\n",
       " 48835 │ Tech-support\n",
       " 48836 │ Exec-managerial\n",
       " 48837 │ Protective-serv\n",
       " 48838 │ Tech-support\n",
       " 48839 │ Machine-op-inspct\n",
       " 48840 │ Adm-clerical\n",
       " 48841 │ Adm-clerical\n",
       " 48842 │ Exec-managerial\n",
       "\u001b[36m         48821 rows omitted\u001b[0m"
      ]
     },
     "execution_count": 61,
     "metadata": {},
     "output_type": "execute_result"
    }
   ],
   "source": [
    "select(df, \"occupation\")"
   ]
  },
  {
   "cell_type": "code",
   "execution_count": 62,
   "id": "a7aee4d6-1c04-4788-b609-e608a3de6677",
   "metadata": {},
   "outputs": [
    {
     "data": {
      "text/html": [
       "<div><div style = \"float: left;\"><span>48842×2 DataFrame</span></div><div style = \"float: right;\"><span style = \"font-style: italic;\">48817 rows omitted</span></div><div style = \"clear: both;\"></div></div><div class = \"data-frame\" style = \"overflow-x: scroll;\"><table class = \"data-frame\" style = \"margin-bottom: 6px;\"><thead><tr class = \"header\"><th class = \"rowNumber\" style = \"font-weight: bold; text-align: right;\">Row</th><th style = \"text-align: left;\">occupation</th><th style = \"text-align: left;\">class</th></tr><tr class = \"subheader headerLastRow\"><th class = \"rowNumber\" style = \"font-weight: bold; text-align: right;\"></th><th title = \"String31\" style = \"text-align: left;\">String31</th><th title = \"String7\" style = \"text-align: left;\">String7</th></tr></thead><tbody><tr><td class = \"rowNumber\" style = \"font-weight: bold; text-align: right;\">1</td><td style = \"text-align: left;\">Machine-op-inspct</td><td style = \"text-align: left;\">&lt;=50K</td></tr><tr><td class = \"rowNumber\" style = \"font-weight: bold; text-align: right;\">2</td><td style = \"text-align: left;\">Farming-fishing</td><td style = \"text-align: left;\">&lt;=50K</td></tr><tr><td class = \"rowNumber\" style = \"font-weight: bold; text-align: right;\">3</td><td style = \"text-align: left;\">Protective-serv</td><td style = \"text-align: left;\">&gt;50K</td></tr><tr><td class = \"rowNumber\" style = \"font-weight: bold; text-align: right;\">4</td><td style = \"text-align: left;\">Machine-op-inspct</td><td style = \"text-align: left;\">&gt;50K</td></tr><tr><td class = \"rowNumber\" style = \"font-weight: bold; text-align: right;\">5</td><td style = \"text-align: left;\">?</td><td style = \"text-align: left;\">&lt;=50K</td></tr><tr><td class = \"rowNumber\" style = \"font-weight: bold; text-align: right;\">6</td><td style = \"text-align: left;\">Other-service</td><td style = \"text-align: left;\">&lt;=50K</td></tr><tr><td class = \"rowNumber\" style = \"font-weight: bold; text-align: right;\">7</td><td style = \"text-align: left;\">?</td><td style = \"text-align: left;\">&lt;=50K</td></tr><tr><td class = \"rowNumber\" style = \"font-weight: bold; text-align: right;\">8</td><td style = \"text-align: left;\">Prof-specialty</td><td style = \"text-align: left;\">&gt;50K</td></tr><tr><td class = \"rowNumber\" style = \"font-weight: bold; text-align: right;\">9</td><td style = \"text-align: left;\">Other-service</td><td style = \"text-align: left;\">&lt;=50K</td></tr><tr><td class = \"rowNumber\" style = \"font-weight: bold; text-align: right;\">10</td><td style = \"text-align: left;\">Craft-repair</td><td style = \"text-align: left;\">&lt;=50K</td></tr><tr><td class = \"rowNumber\" style = \"font-weight: bold; text-align: right;\">11</td><td style = \"text-align: left;\">Machine-op-inspct</td><td style = \"text-align: left;\">&gt;50K</td></tr><tr><td class = \"rowNumber\" style = \"font-weight: bold; text-align: right;\">12</td><td style = \"text-align: left;\">Adm-clerical</td><td style = \"text-align: left;\">&lt;=50K</td></tr><tr><td class = \"rowNumber\" style = \"font-weight: bold; text-align: right;\">13</td><td style = \"text-align: left;\">Adm-clerical</td><td style = \"text-align: left;\">&lt;=50K</td></tr><tr><td style = \"text-align: right;\">&vellip;</td><td style = \"text-align: right;\">&vellip;</td><td style = \"text-align: right;\">&vellip;</td></tr><tr><td class = \"rowNumber\" style = \"font-weight: bold; text-align: right;\">48831</td><td style = \"text-align: left;\">Adm-clerical</td><td style = \"text-align: left;\">&lt;=50K</td></tr><tr><td class = \"rowNumber\" style = \"font-weight: bold; text-align: right;\">48832</td><td style = \"text-align: left;\">Craft-repair</td><td style = \"text-align: left;\">&lt;=50K</td></tr><tr><td class = \"rowNumber\" style = \"font-weight: bold; text-align: right;\">48833</td><td style = \"text-align: left;\">Handlers-cleaners</td><td style = \"text-align: left;\">&lt;=50K</td></tr><tr><td class = \"rowNumber\" style = \"font-weight: bold; text-align: right;\">48834</td><td style = \"text-align: left;\">Sales</td><td style = \"text-align: left;\">&lt;=50K</td></tr><tr><td class = \"rowNumber\" style = \"font-weight: bold; text-align: right;\">48835</td><td style = \"text-align: left;\">Tech-support</td><td style = \"text-align: left;\">&lt;=50K</td></tr><tr><td class = \"rowNumber\" style = \"font-weight: bold; text-align: right;\">48836</td><td style = \"text-align: left;\">Exec-managerial</td><td style = \"text-align: left;\">&gt;50K</td></tr><tr><td class = \"rowNumber\" style = \"font-weight: bold; text-align: right;\">48837</td><td style = \"text-align: left;\">Protective-serv</td><td style = \"text-align: left;\">&lt;=50K</td></tr><tr><td class = \"rowNumber\" style = \"font-weight: bold; text-align: right;\">48838</td><td style = \"text-align: left;\">Tech-support</td><td style = \"text-align: left;\">&lt;=50K</td></tr><tr><td class = \"rowNumber\" style = \"font-weight: bold; text-align: right;\">48839</td><td style = \"text-align: left;\">Machine-op-inspct</td><td style = \"text-align: left;\">&gt;50K</td></tr><tr><td class = \"rowNumber\" style = \"font-weight: bold; text-align: right;\">48840</td><td style = \"text-align: left;\">Adm-clerical</td><td style = \"text-align: left;\">&lt;=50K</td></tr><tr><td class = \"rowNumber\" style = \"font-weight: bold; text-align: right;\">48841</td><td style = \"text-align: left;\">Adm-clerical</td><td style = \"text-align: left;\">&lt;=50K</td></tr><tr><td class = \"rowNumber\" style = \"font-weight: bold; text-align: right;\">48842</td><td style = \"text-align: left;\">Exec-managerial</td><td style = \"text-align: left;\">&gt;50K</td></tr></tbody></table></div>"
      ],
      "text/latex": [
       "\\begin{tabular}{r|cc}\n",
       "\t& occupation & class\\\\\n",
       "\t\\hline\n",
       "\t& String31 & String7\\\\\n",
       "\t\\hline\n",
       "\t1 & Machine-op-inspct & <=50K \\\\\n",
       "\t2 & Farming-fishing & <=50K \\\\\n",
       "\t3 & Protective-serv & >50K \\\\\n",
       "\t4 & Machine-op-inspct & >50K \\\\\n",
       "\t5 & ? & <=50K \\\\\n",
       "\t6 & Other-service & <=50K \\\\\n",
       "\t7 & ? & <=50K \\\\\n",
       "\t8 & Prof-specialty & >50K \\\\\n",
       "\t9 & Other-service & <=50K \\\\\n",
       "\t10 & Craft-repair & <=50K \\\\\n",
       "\t11 & Machine-op-inspct & >50K \\\\\n",
       "\t12 & Adm-clerical & <=50K \\\\\n",
       "\t13 & Adm-clerical & <=50K \\\\\n",
       "\t14 & ? & <=50K \\\\\n",
       "\t15 & Machine-op-inspct & >50K \\\\\n",
       "\t16 & Exec-managerial & >50K \\\\\n",
       "\t17 & Other-service & <=50K \\\\\n",
       "\t18 & Adm-clerical & <=50K \\\\\n",
       "\t19 & Machine-op-inspct & <=50K \\\\\n",
       "\t20 & Prof-specialty & >50K \\\\\n",
       "\t21 & Tech-support & >50K \\\\\n",
       "\t22 & Other-service & <=50K \\\\\n",
       "\t23 & ? & <=50K \\\\\n",
       "\t24 & Prof-specialty & <=50K \\\\\n",
       "\t25 & Prof-specialty & <=50K \\\\\n",
       "\t26 & Craft-repair & >50K \\\\\n",
       "\t27 & Adm-clerical & <=50K \\\\\n",
       "\t28 & Machine-op-inspct & <=50K \\\\\n",
       "\t29 & Craft-repair & <=50K \\\\\n",
       "\t30 & Prof-specialty & <=50K \\\\\n",
       "\t$\\dots$ & $\\dots$ & $\\dots$ \\\\\n",
       "\\end{tabular}\n"
      ],
      "text/plain": [
       "\u001b[1m48842×2 DataFrame\u001b[0m\n",
       "\u001b[1m   Row \u001b[0m│\u001b[1m occupation        \u001b[0m\u001b[1m class   \u001b[0m\n",
       "       │\u001b[90m String31          \u001b[0m\u001b[90m String7 \u001b[0m\n",
       "───────┼────────────────────────────\n",
       "     1 │ Machine-op-inspct  <=50K\n",
       "     2 │ Farming-fishing    <=50K\n",
       "     3 │ Protective-serv    >50K\n",
       "     4 │ Machine-op-inspct  >50K\n",
       "     5 │ ?                  <=50K\n",
       "     6 │ Other-service      <=50K\n",
       "     7 │ ?                  <=50K\n",
       "     8 │ Prof-specialty     >50K\n",
       "     9 │ Other-service      <=50K\n",
       "    10 │ Craft-repair       <=50K\n",
       "    11 │ Machine-op-inspct  >50K\n",
       "   ⋮   │         ⋮             ⋮\n",
       " 48833 │ Handlers-cleaners  <=50K\n",
       " 48834 │ Sales              <=50K\n",
       " 48835 │ Tech-support       <=50K\n",
       " 48836 │ Exec-managerial    >50K\n",
       " 48837 │ Protective-serv    <=50K\n",
       " 48838 │ Tech-support       <=50K\n",
       " 48839 │ Machine-op-inspct  >50K\n",
       " 48840 │ Adm-clerical       <=50K\n",
       " 48841 │ Adm-clerical       <=50K\n",
       " 48842 │ Exec-managerial    >50K\n",
       "\u001b[36m                  48821 rows omitted\u001b[0m"
      ]
     },
     "execution_count": 62,
     "metadata": {},
     "output_type": "execute_result"
    }
   ],
   "source": [
    "select(df, [:occupation, :class])"
   ]
  },
  {
   "cell_type": "code",
   "execution_count": 65,
   "id": "0ad4f8b9-6f52-4bd6-b500-ad1a47e82ca3",
   "metadata": {},
   "outputs": [
    {
     "data": {
      "text/html": [
       "<div><div style = \"float: left;\"><span>48842×4 DataFrame</span></div><div style = \"float: right;\"><span style = \"font-style: italic;\">48817 rows omitted</span></div><div style = \"clear: both;\"></div></div><div class = \"data-frame\" style = \"overflow-x: scroll;\"><table class = \"data-frame\" style = \"margin-bottom: 6px;\"><thead><tr class = \"header\"><th class = \"rowNumber\" style = \"font-weight: bold; text-align: right;\">Row</th><th style = \"text-align: left;\">workclass</th><th style = \"text-align: left;\">fnlwgt</th><th style = \"text-align: left;\">education</th><th style = \"text-align: left;\">education_num</th></tr><tr class = \"subheader headerLastRow\"><th class = \"rowNumber\" style = \"font-weight: bold; text-align: right;\"></th><th title = \"String31\" style = \"text-align: left;\">String31</th><th title = \"Int64\" style = \"text-align: left;\">Int64</th><th title = \"String15\" style = \"text-align: left;\">String15</th><th title = \"Int64\" style = \"text-align: left;\">Int64</th></tr></thead><tbody><tr><td class = \"rowNumber\" style = \"font-weight: bold; text-align: right;\">1</td><td style = \"text-align: left;\">Private</td><td style = \"text-align: right;\">226802</td><td style = \"text-align: left;\">11th</td><td style = \"text-align: right;\">7</td></tr><tr><td class = \"rowNumber\" style = \"font-weight: bold; text-align: right;\">2</td><td style = \"text-align: left;\">Private</td><td style = \"text-align: right;\">89814</td><td style = \"text-align: left;\">HS-grad</td><td style = \"text-align: right;\">9</td></tr><tr><td class = \"rowNumber\" style = \"font-weight: bold; text-align: right;\">3</td><td style = \"text-align: left;\">Local-gov</td><td style = \"text-align: right;\">336951</td><td style = \"text-align: left;\">Assoc-acdm</td><td style = \"text-align: right;\">12</td></tr><tr><td class = \"rowNumber\" style = \"font-weight: bold; text-align: right;\">4</td><td style = \"text-align: left;\">Private</td><td style = \"text-align: right;\">160323</td><td style = \"text-align: left;\">Some-college</td><td style = \"text-align: right;\">10</td></tr><tr><td class = \"rowNumber\" style = \"font-weight: bold; text-align: right;\">5</td><td style = \"text-align: left;\">?</td><td style = \"text-align: right;\">103497</td><td style = \"text-align: left;\">Some-college</td><td style = \"text-align: right;\">10</td></tr><tr><td class = \"rowNumber\" style = \"font-weight: bold; text-align: right;\">6</td><td style = \"text-align: left;\">Private</td><td style = \"text-align: right;\">198693</td><td style = \"text-align: left;\">10th</td><td style = \"text-align: right;\">6</td></tr><tr><td class = \"rowNumber\" style = \"font-weight: bold; text-align: right;\">7</td><td style = \"text-align: left;\">?</td><td style = \"text-align: right;\">227026</td><td style = \"text-align: left;\">HS-grad</td><td style = \"text-align: right;\">9</td></tr><tr><td class = \"rowNumber\" style = \"font-weight: bold; text-align: right;\">8</td><td style = \"text-align: left;\">Self-emp-not-inc</td><td style = \"text-align: right;\">104626</td><td style = \"text-align: left;\">Prof-school</td><td style = \"text-align: right;\">15</td></tr><tr><td class = \"rowNumber\" style = \"font-weight: bold; text-align: right;\">9</td><td style = \"text-align: left;\">Private</td><td style = \"text-align: right;\">369667</td><td style = \"text-align: left;\">Some-college</td><td style = \"text-align: right;\">10</td></tr><tr><td class = \"rowNumber\" style = \"font-weight: bold; text-align: right;\">10</td><td style = \"text-align: left;\">Private</td><td style = \"text-align: right;\">104996</td><td style = \"text-align: left;\">7th-8th</td><td style = \"text-align: right;\">4</td></tr><tr><td class = \"rowNumber\" style = \"font-weight: bold; text-align: right;\">11</td><td style = \"text-align: left;\">Private</td><td style = \"text-align: right;\">184454</td><td style = \"text-align: left;\">HS-grad</td><td style = \"text-align: right;\">9</td></tr><tr><td class = \"rowNumber\" style = \"font-weight: bold; text-align: right;\">12</td><td style = \"text-align: left;\">Federal-gov</td><td style = \"text-align: right;\">212465</td><td style = \"text-align: left;\">Bachelors</td><td style = \"text-align: right;\">13</td></tr><tr><td class = \"rowNumber\" style = \"font-weight: bold; text-align: right;\">13</td><td style = \"text-align: left;\">Private</td><td style = \"text-align: right;\">82091</td><td style = \"text-align: left;\">HS-grad</td><td style = \"text-align: right;\">9</td></tr><tr><td style = \"text-align: right;\">&vellip;</td><td style = \"text-align: right;\">&vellip;</td><td style = \"text-align: right;\">&vellip;</td><td style = \"text-align: right;\">&vellip;</td><td style = \"text-align: right;\">&vellip;</td></tr><tr><td class = \"rowNumber\" style = \"font-weight: bold; text-align: right;\">48831</td><td style = \"text-align: left;\">State-gov</td><td style = \"text-align: right;\">255835</td><td style = \"text-align: left;\">Some-college</td><td style = \"text-align: right;\">10</td></tr><tr><td class = \"rowNumber\" style = \"font-weight: bold; text-align: right;\">48832</td><td style = \"text-align: left;\">Self-emp-not-inc</td><td style = \"text-align: right;\">27242</td><td style = \"text-align: left;\">Some-college</td><td style = \"text-align: right;\">10</td></tr><tr><td class = \"rowNumber\" style = \"font-weight: bold; text-align: right;\">48833</td><td style = \"text-align: left;\">Private</td><td style = \"text-align: right;\">34066</td><td style = \"text-align: left;\">10th</td><td style = \"text-align: right;\">6</td></tr><tr><td class = \"rowNumber\" style = \"font-weight: bold; text-align: right;\">48834</td><td style = \"text-align: left;\">Private</td><td style = \"text-align: right;\">84661</td><td style = \"text-align: left;\">Assoc-voc</td><td style = \"text-align: right;\">11</td></tr><tr><td class = \"rowNumber\" style = \"font-weight: bold; text-align: right;\">48835</td><td style = \"text-align: left;\">Private</td><td style = \"text-align: right;\">116138</td><td style = \"text-align: left;\">Masters</td><td style = \"text-align: right;\">14</td></tr><tr><td class = \"rowNumber\" style = \"font-weight: bold; text-align: right;\">48836</td><td style = \"text-align: left;\">Private</td><td style = \"text-align: right;\">321865</td><td style = \"text-align: left;\">Masters</td><td style = \"text-align: right;\">14</td></tr><tr><td class = \"rowNumber\" style = \"font-weight: bold; text-align: right;\">48837</td><td style = \"text-align: left;\">Private</td><td style = \"text-align: right;\">310152</td><td style = \"text-align: left;\">Some-college</td><td style = \"text-align: right;\">10</td></tr><tr><td class = \"rowNumber\" style = \"font-weight: bold; text-align: right;\">48838</td><td style = \"text-align: left;\">Private</td><td style = \"text-align: right;\">257302</td><td style = \"text-align: left;\">Assoc-acdm</td><td style = \"text-align: right;\">12</td></tr><tr><td class = \"rowNumber\" style = \"font-weight: bold; text-align: right;\">48839</td><td style = \"text-align: left;\">Private</td><td style = \"text-align: right;\">154374</td><td style = \"text-align: left;\">HS-grad</td><td style = \"text-align: right;\">9</td></tr><tr><td class = \"rowNumber\" style = \"font-weight: bold; text-align: right;\">48840</td><td style = \"text-align: left;\">Private</td><td style = \"text-align: right;\">151910</td><td style = \"text-align: left;\">HS-grad</td><td style = \"text-align: right;\">9</td></tr><tr><td class = \"rowNumber\" style = \"font-weight: bold; text-align: right;\">48841</td><td style = \"text-align: left;\">Private</td><td style = \"text-align: right;\">201490</td><td style = \"text-align: left;\">HS-grad</td><td style = \"text-align: right;\">9</td></tr><tr><td class = \"rowNumber\" style = \"font-weight: bold; text-align: right;\">48842</td><td style = \"text-align: left;\">Self-emp-inc</td><td style = \"text-align: right;\">287927</td><td style = \"text-align: left;\">HS-grad</td><td style = \"text-align: right;\">9</td></tr></tbody></table></div>"
      ],
      "text/latex": [
       "\\begin{tabular}{r|cccc}\n",
       "\t& workclass & fnlwgt & education & education\\_num\\\\\n",
       "\t\\hline\n",
       "\t& String31 & Int64 & String15 & Int64\\\\\n",
       "\t\\hline\n",
       "\t1 & Private & 226802 & 11th & 7 \\\\\n",
       "\t2 & Private & 89814 & HS-grad & 9 \\\\\n",
       "\t3 & Local-gov & 336951 & Assoc-acdm & 12 \\\\\n",
       "\t4 & Private & 160323 & Some-college & 10 \\\\\n",
       "\t5 & ? & 103497 & Some-college & 10 \\\\\n",
       "\t6 & Private & 198693 & 10th & 6 \\\\\n",
       "\t7 & ? & 227026 & HS-grad & 9 \\\\\n",
       "\t8 & Self-emp-not-inc & 104626 & Prof-school & 15 \\\\\n",
       "\t9 & Private & 369667 & Some-college & 10 \\\\\n",
       "\t10 & Private & 104996 & 7th-8th & 4 \\\\\n",
       "\t11 & Private & 184454 & HS-grad & 9 \\\\\n",
       "\t12 & Federal-gov & 212465 & Bachelors & 13 \\\\\n",
       "\t13 & Private & 82091 & HS-grad & 9 \\\\\n",
       "\t14 & ? & 299831 & HS-grad & 9 \\\\\n",
       "\t15 & Private & 279724 & HS-grad & 9 \\\\\n",
       "\t16 & Private & 346189 & Masters & 14 \\\\\n",
       "\t17 & State-gov & 444554 & Some-college & 10 \\\\\n",
       "\t18 & Private & 128354 & HS-grad & 9 \\\\\n",
       "\t19 & Private & 60548 & HS-grad & 9 \\\\\n",
       "\t20 & Private & 85019 & Doctorate & 16 \\\\\n",
       "\t21 & Private & 107914 & Bachelors & 13 \\\\\n",
       "\t22 & Private & 238588 & Some-college & 10 \\\\\n",
       "\t23 & ? & 132015 & 7th-8th & 4 \\\\\n",
       "\t24 & Private & 220931 & Bachelors & 13 \\\\\n",
       "\t25 & Private & 205947 & Bachelors & 13 \\\\\n",
       "\t26 & Self-emp-not-inc & 432824 & HS-grad & 9 \\\\\n",
       "\t27 & Private & 236427 & HS-grad & 9 \\\\\n",
       "\t28 & Private & 134446 & HS-grad & 9 \\\\\n",
       "\t29 & Private & 99516 & HS-grad & 9 \\\\\n",
       "\t30 & Self-emp-not-inc & 109282 & Some-college & 10 \\\\\n",
       "\t$\\dots$ & $\\dots$ & $\\dots$ & $\\dots$ & $\\dots$ \\\\\n",
       "\\end{tabular}\n"
      ],
      "text/plain": [
       "\u001b[1m48842×4 DataFrame\u001b[0m\n",
       "\u001b[1m   Row \u001b[0m│\u001b[1m workclass        \u001b[0m\u001b[1m fnlwgt \u001b[0m\u001b[1m education    \u001b[0m\u001b[1m education_num \u001b[0m\n",
       "       │\u001b[90m String31         \u001b[0m\u001b[90m Int64  \u001b[0m\u001b[90m String15     \u001b[0m\u001b[90m Int64         \u001b[0m\n",
       "───────┼───────────────────────────────────────────────────────\n",
       "     1 │ Private           226802  11th                      7\n",
       "     2 │ Private            89814  HS-grad                   9\n",
       "     3 │ Local-gov         336951  Assoc-acdm               12\n",
       "     4 │ Private           160323  Some-college             10\n",
       "     5 │ ?                 103497  Some-college             10\n",
       "     6 │ Private           198693  10th                      6\n",
       "     7 │ ?                 227026  HS-grad                   9\n",
       "     8 │ Self-emp-not-inc  104626  Prof-school              15\n",
       "     9 │ Private           369667  Some-college             10\n",
       "    10 │ Private           104996  7th-8th                   4\n",
       "    11 │ Private           184454  HS-grad                   9\n",
       "   ⋮   │        ⋮            ⋮          ⋮              ⋮\n",
       " 48833 │ Private            34066  10th                      6\n",
       " 48834 │ Private            84661  Assoc-voc                11\n",
       " 48835 │ Private           116138  Masters                  14\n",
       " 48836 │ Private           321865  Masters                  14\n",
       " 48837 │ Private           310152  Some-college             10\n",
       " 48838 │ Private           257302  Assoc-acdm               12\n",
       " 48839 │ Private           154374  HS-grad                   9\n",
       " 48840 │ Private           151910  HS-grad                   9\n",
       " 48841 │ Private           201490  HS-grad                   9\n",
       " 48842 │ Self-emp-inc      287927  HS-grad                   9\n",
       "\u001b[36m                                             48821 rows omitted\u001b[0m"
      ]
     },
     "execution_count": 65,
     "metadata": {},
     "output_type": "execute_result"
    }
   ],
   "source": [
    "select(df, 2:5)"
   ]
  },
  {
   "cell_type": "code",
   "execution_count": 66,
   "id": "899c7abb-89b4-43fe-b5ae-fc27b401f353",
   "metadata": {},
   "outputs": [
    {
     "data": {
      "text/html": [
       "<div><div style = \"float: left;\"><span>48842×1 DataFrame</span></div><div style = \"float: right;\"><span style = \"font-style: italic;\">48817 rows omitted</span></div><div style = \"clear: both;\"></div></div><div class = \"data-frame\" style = \"overflow-x: scroll;\"><table class = \"data-frame\" style = \"margin-bottom: 6px;\"><thead><tr class = \"header\"><th class = \"rowNumber\" style = \"font-weight: bold; text-align: right;\">Row</th><th style = \"text-align: left;\">occupation</th></tr><tr class = \"subheader headerLastRow\"><th class = \"rowNumber\" style = \"font-weight: bold; text-align: right;\"></th><th title = \"String31\" style = \"text-align: left;\">String31</th></tr></thead><tbody><tr><td class = \"rowNumber\" style = \"font-weight: bold; text-align: right;\">1</td><td style = \"text-align: left;\">Machine-op-inspct</td></tr><tr><td class = \"rowNumber\" style = \"font-weight: bold; text-align: right;\">2</td><td style = \"text-align: left;\">Farming-fishing</td></tr><tr><td class = \"rowNumber\" style = \"font-weight: bold; text-align: right;\">3</td><td style = \"text-align: left;\">Protective-serv</td></tr><tr><td class = \"rowNumber\" style = \"font-weight: bold; text-align: right;\">4</td><td style = \"text-align: left;\">Machine-op-inspct</td></tr><tr><td class = \"rowNumber\" style = \"font-weight: bold; text-align: right;\">5</td><td style = \"text-align: left;\">?</td></tr><tr><td class = \"rowNumber\" style = \"font-weight: bold; text-align: right;\">6</td><td style = \"text-align: left;\">Other-service</td></tr><tr><td class = \"rowNumber\" style = \"font-weight: bold; text-align: right;\">7</td><td style = \"text-align: left;\">?</td></tr><tr><td class = \"rowNumber\" style = \"font-weight: bold; text-align: right;\">8</td><td style = \"text-align: left;\">Prof-specialty</td></tr><tr><td class = \"rowNumber\" style = \"font-weight: bold; text-align: right;\">9</td><td style = \"text-align: left;\">Other-service</td></tr><tr><td class = \"rowNumber\" style = \"font-weight: bold; text-align: right;\">10</td><td style = \"text-align: left;\">Craft-repair</td></tr><tr><td class = \"rowNumber\" style = \"font-weight: bold; text-align: right;\">11</td><td style = \"text-align: left;\">Machine-op-inspct</td></tr><tr><td class = \"rowNumber\" style = \"font-weight: bold; text-align: right;\">12</td><td style = \"text-align: left;\">Adm-clerical</td></tr><tr><td class = \"rowNumber\" style = \"font-weight: bold; text-align: right;\">13</td><td style = \"text-align: left;\">Adm-clerical</td></tr><tr><td style = \"text-align: right;\">&vellip;</td><td style = \"text-align: right;\">&vellip;</td></tr><tr><td class = \"rowNumber\" style = \"font-weight: bold; text-align: right;\">48831</td><td style = \"text-align: left;\">Adm-clerical</td></tr><tr><td class = \"rowNumber\" style = \"font-weight: bold; text-align: right;\">48832</td><td style = \"text-align: left;\">Craft-repair</td></tr><tr><td class = \"rowNumber\" style = \"font-weight: bold; text-align: right;\">48833</td><td style = \"text-align: left;\">Handlers-cleaners</td></tr><tr><td class = \"rowNumber\" style = \"font-weight: bold; text-align: right;\">48834</td><td style = \"text-align: left;\">Sales</td></tr><tr><td class = \"rowNumber\" style = \"font-weight: bold; text-align: right;\">48835</td><td style = \"text-align: left;\">Tech-support</td></tr><tr><td class = \"rowNumber\" style = \"font-weight: bold; text-align: right;\">48836</td><td style = \"text-align: left;\">Exec-managerial</td></tr><tr><td class = \"rowNumber\" style = \"font-weight: bold; text-align: right;\">48837</td><td style = \"text-align: left;\">Protective-serv</td></tr><tr><td class = \"rowNumber\" style = \"font-weight: bold; text-align: right;\">48838</td><td style = \"text-align: left;\">Tech-support</td></tr><tr><td class = \"rowNumber\" style = \"font-weight: bold; text-align: right;\">48839</td><td style = \"text-align: left;\">Machine-op-inspct</td></tr><tr><td class = \"rowNumber\" style = \"font-weight: bold; text-align: right;\">48840</td><td style = \"text-align: left;\">Adm-clerical</td></tr><tr><td class = \"rowNumber\" style = \"font-weight: bold; text-align: right;\">48841</td><td style = \"text-align: left;\">Adm-clerical</td></tr><tr><td class = \"rowNumber\" style = \"font-weight: bold; text-align: right;\">48842</td><td style = \"text-align: left;\">Exec-managerial</td></tr></tbody></table></div>"
      ],
      "text/latex": [
       "\\begin{tabular}{r|c}\n",
       "\t& occupation\\\\\n",
       "\t\\hline\n",
       "\t& String31\\\\\n",
       "\t\\hline\n",
       "\t1 & Machine-op-inspct \\\\\n",
       "\t2 & Farming-fishing \\\\\n",
       "\t3 & Protective-serv \\\\\n",
       "\t4 & Machine-op-inspct \\\\\n",
       "\t5 & ? \\\\\n",
       "\t6 & Other-service \\\\\n",
       "\t7 & ? \\\\\n",
       "\t8 & Prof-specialty \\\\\n",
       "\t9 & Other-service \\\\\n",
       "\t10 & Craft-repair \\\\\n",
       "\t11 & Machine-op-inspct \\\\\n",
       "\t12 & Adm-clerical \\\\\n",
       "\t13 & Adm-clerical \\\\\n",
       "\t14 & ? \\\\\n",
       "\t15 & Machine-op-inspct \\\\\n",
       "\t16 & Exec-managerial \\\\\n",
       "\t17 & Other-service \\\\\n",
       "\t18 & Adm-clerical \\\\\n",
       "\t19 & Machine-op-inspct \\\\\n",
       "\t20 & Prof-specialty \\\\\n",
       "\t21 & Tech-support \\\\\n",
       "\t22 & Other-service \\\\\n",
       "\t23 & ? \\\\\n",
       "\t24 & Prof-specialty \\\\\n",
       "\t25 & Prof-specialty \\\\\n",
       "\t26 & Craft-repair \\\\\n",
       "\t27 & Adm-clerical \\\\\n",
       "\t28 & Machine-op-inspct \\\\\n",
       "\t29 & Craft-repair \\\\\n",
       "\t30 & Prof-specialty \\\\\n",
       "\t$\\dots$ & $\\dots$ \\\\\n",
       "\\end{tabular}\n"
      ],
      "text/plain": [
       "\u001b[1m48842×1 DataFrame\u001b[0m\n",
       "\u001b[1m   Row \u001b[0m│\u001b[1m occupation        \u001b[0m\n",
       "       │\u001b[90m String31          \u001b[0m\n",
       "───────┼───────────────────\n",
       "     1 │ Machine-op-inspct\n",
       "     2 │ Farming-fishing\n",
       "     3 │ Protective-serv\n",
       "     4 │ Machine-op-inspct\n",
       "     5 │ ?\n",
       "     6 │ Other-service\n",
       "     7 │ ?\n",
       "     8 │ Prof-specialty\n",
       "     9 │ Other-service\n",
       "    10 │ Craft-repair\n",
       "    11 │ Machine-op-inspct\n",
       "   ⋮   │         ⋮\n",
       " 48833 │ Handlers-cleaners\n",
       " 48834 │ Sales\n",
       " 48835 │ Tech-support\n",
       " 48836 │ Exec-managerial\n",
       " 48837 │ Protective-serv\n",
       " 48838 │ Tech-support\n",
       " 48839 │ Machine-op-inspct\n",
       " 48840 │ Adm-clerical\n",
       " 48841 │ Adm-clerical\n",
       " 48842 │ Exec-managerial\n",
       "\u001b[36m         48821 rows omitted\u001b[0m"
      ]
     },
     "execution_count": 66,
     "metadata": {},
     "output_type": "execute_result"
    }
   ],
   "source": [
    "select(df, r\"^o\")"
   ]
  },
  {
   "cell_type": "code",
   "execution_count": 67,
   "id": "6fa26056-2e2c-4afd-bd6f-f7d5970a7c01",
   "metadata": {},
   "outputs": [
    {
     "data": {
      "text/html": [
       "<div><div style = \"float: left;\"><span>48842×14 DataFrame</span></div><div style = \"float: right;\"><span style = \"font-style: italic;\">48817 rows omitted</span></div><div style = \"clear: both;\"></div></div><div class = \"data-frame\" style = \"overflow-x: scroll;\"><table class = \"data-frame\" style = \"margin-bottom: 6px;\"><thead><tr class = \"header\"><th class = \"rowNumber\" style = \"font-weight: bold; text-align: right;\">Row</th><th style = \"text-align: left;\">age</th><th style = \"text-align: left;\">workclass</th><th style = \"text-align: left;\">education</th><th style = \"text-align: left;\">education_num</th><th style = \"text-align: left;\">marital_status</th><th style = \"text-align: left;\">occupation</th><th style = \"text-align: left;\">relationship</th><th style = \"text-align: left;\">race</th><th style = \"text-align: left;\">sex</th><th style = \"text-align: left;\">capital_gain</th><th style = \"text-align: left;\">capital_loss</th><th style = \"text-align: left;\">hours_per_week</th><th style = \"text-align: left;\">native_country</th><th style = \"text-align: left;\">class</th></tr><tr class = \"subheader headerLastRow\"><th class = \"rowNumber\" style = \"font-weight: bold; text-align: right;\"></th><th title = \"Int64\" style = \"text-align: left;\">Int64</th><th title = \"String31\" style = \"text-align: left;\">String31</th><th title = \"String15\" style = \"text-align: left;\">String15</th><th title = \"Int64\" style = \"text-align: left;\">Int64</th><th title = \"String31\" style = \"text-align: left;\">String31</th><th title = \"String31\" style = \"text-align: left;\">String31</th><th title = \"String15\" style = \"text-align: left;\">String15</th><th title = \"String31\" style = \"text-align: left;\">String31</th><th title = \"String7\" style = \"text-align: left;\">String7</th><th title = \"Int64\" style = \"text-align: left;\">Int64</th><th title = \"Int64\" style = \"text-align: left;\">Int64</th><th title = \"Int64\" style = \"text-align: left;\">Int64</th><th title = \"String31\" style = \"text-align: left;\">String31</th><th title = \"String7\" style = \"text-align: left;\">String7</th></tr></thead><tbody><tr><td class = \"rowNumber\" style = \"font-weight: bold; text-align: right;\">1</td><td style = \"text-align: right;\">25</td><td style = \"text-align: left;\">Private</td><td style = \"text-align: left;\">11th</td><td style = \"text-align: right;\">7</td><td style = \"text-align: left;\">Never-married</td><td style = \"text-align: left;\">Machine-op-inspct</td><td style = \"text-align: left;\">Own-child</td><td style = \"text-align: left;\">Black</td><td style = \"text-align: left;\">Male</td><td style = \"text-align: right;\">0</td><td style = \"text-align: right;\">0</td><td style = \"text-align: right;\">40</td><td style = \"text-align: left;\">United-States</td><td style = \"text-align: left;\">&lt;=50K</td></tr><tr><td class = \"rowNumber\" style = \"font-weight: bold; text-align: right;\">2</td><td style = \"text-align: right;\">38</td><td style = \"text-align: left;\">Private</td><td style = \"text-align: left;\">HS-grad</td><td style = \"text-align: right;\">9</td><td style = \"text-align: left;\">Married-civ-spouse</td><td style = \"text-align: left;\">Farming-fishing</td><td style = \"text-align: left;\">Husband</td><td style = \"text-align: left;\">White</td><td style = \"text-align: left;\">Male</td><td style = \"text-align: right;\">0</td><td style = \"text-align: right;\">0</td><td style = \"text-align: right;\">50</td><td style = \"text-align: left;\">United-States</td><td style = \"text-align: left;\">&lt;=50K</td></tr><tr><td class = \"rowNumber\" style = \"font-weight: bold; text-align: right;\">3</td><td style = \"text-align: right;\">28</td><td style = \"text-align: left;\">Local-gov</td><td style = \"text-align: left;\">Assoc-acdm</td><td style = \"text-align: right;\">12</td><td style = \"text-align: left;\">Married-civ-spouse</td><td style = \"text-align: left;\">Protective-serv</td><td style = \"text-align: left;\">Husband</td><td style = \"text-align: left;\">White</td><td style = \"text-align: left;\">Male</td><td style = \"text-align: right;\">0</td><td style = \"text-align: right;\">0</td><td style = \"text-align: right;\">40</td><td style = \"text-align: left;\">United-States</td><td style = \"text-align: left;\">&gt;50K</td></tr><tr><td class = \"rowNumber\" style = \"font-weight: bold; text-align: right;\">4</td><td style = \"text-align: right;\">44</td><td style = \"text-align: left;\">Private</td><td style = \"text-align: left;\">Some-college</td><td style = \"text-align: right;\">10</td><td style = \"text-align: left;\">Married-civ-spouse</td><td style = \"text-align: left;\">Machine-op-inspct</td><td style = \"text-align: left;\">Husband</td><td style = \"text-align: left;\">Black</td><td style = \"text-align: left;\">Male</td><td style = \"text-align: right;\">7688</td><td style = \"text-align: right;\">0</td><td style = \"text-align: right;\">40</td><td style = \"text-align: left;\">United-States</td><td style = \"text-align: left;\">&gt;50K</td></tr><tr><td class = \"rowNumber\" style = \"font-weight: bold; text-align: right;\">5</td><td style = \"text-align: right;\">18</td><td style = \"text-align: left;\">?</td><td style = \"text-align: left;\">Some-college</td><td style = \"text-align: right;\">10</td><td style = \"text-align: left;\">Never-married</td><td style = \"text-align: left;\">?</td><td style = \"text-align: left;\">Own-child</td><td style = \"text-align: left;\">White</td><td style = \"text-align: left;\">Female</td><td style = \"text-align: right;\">0</td><td style = \"text-align: right;\">0</td><td style = \"text-align: right;\">30</td><td style = \"text-align: left;\">United-States</td><td style = \"text-align: left;\">&lt;=50K</td></tr><tr><td class = \"rowNumber\" style = \"font-weight: bold; text-align: right;\">6</td><td style = \"text-align: right;\">34</td><td style = \"text-align: left;\">Private</td><td style = \"text-align: left;\">10th</td><td style = \"text-align: right;\">6</td><td style = \"text-align: left;\">Never-married</td><td style = \"text-align: left;\">Other-service</td><td style = \"text-align: left;\">Not-in-family</td><td style = \"text-align: left;\">White</td><td style = \"text-align: left;\">Male</td><td style = \"text-align: right;\">0</td><td style = \"text-align: right;\">0</td><td style = \"text-align: right;\">30</td><td style = \"text-align: left;\">United-States</td><td style = \"text-align: left;\">&lt;=50K</td></tr><tr><td class = \"rowNumber\" style = \"font-weight: bold; text-align: right;\">7</td><td style = \"text-align: right;\">29</td><td style = \"text-align: left;\">?</td><td style = \"text-align: left;\">HS-grad</td><td style = \"text-align: right;\">9</td><td style = \"text-align: left;\">Never-married</td><td style = \"text-align: left;\">?</td><td style = \"text-align: left;\">Unmarried</td><td style = \"text-align: left;\">Black</td><td style = \"text-align: left;\">Male</td><td style = \"text-align: right;\">0</td><td style = \"text-align: right;\">0</td><td style = \"text-align: right;\">40</td><td style = \"text-align: left;\">United-States</td><td style = \"text-align: left;\">&lt;=50K</td></tr><tr><td class = \"rowNumber\" style = \"font-weight: bold; text-align: right;\">8</td><td style = \"text-align: right;\">63</td><td style = \"text-align: left;\">Self-emp-not-inc</td><td style = \"text-align: left;\">Prof-school</td><td style = \"text-align: right;\">15</td><td style = \"text-align: left;\">Married-civ-spouse</td><td style = \"text-align: left;\">Prof-specialty</td><td style = \"text-align: left;\">Husband</td><td style = \"text-align: left;\">White</td><td style = \"text-align: left;\">Male</td><td style = \"text-align: right;\">3103</td><td style = \"text-align: right;\">0</td><td style = \"text-align: right;\">32</td><td style = \"text-align: left;\">United-States</td><td style = \"text-align: left;\">&gt;50K</td></tr><tr><td class = \"rowNumber\" style = \"font-weight: bold; text-align: right;\">9</td><td style = \"text-align: right;\">24</td><td style = \"text-align: left;\">Private</td><td style = \"text-align: left;\">Some-college</td><td style = \"text-align: right;\">10</td><td style = \"text-align: left;\">Never-married</td><td style = \"text-align: left;\">Other-service</td><td style = \"text-align: left;\">Unmarried</td><td style = \"text-align: left;\">White</td><td style = \"text-align: left;\">Female</td><td style = \"text-align: right;\">0</td><td style = \"text-align: right;\">0</td><td style = \"text-align: right;\">40</td><td style = \"text-align: left;\">United-States</td><td style = \"text-align: left;\">&lt;=50K</td></tr><tr><td class = \"rowNumber\" style = \"font-weight: bold; text-align: right;\">10</td><td style = \"text-align: right;\">55</td><td style = \"text-align: left;\">Private</td><td style = \"text-align: left;\">7th-8th</td><td style = \"text-align: right;\">4</td><td style = \"text-align: left;\">Married-civ-spouse</td><td style = \"text-align: left;\">Craft-repair</td><td style = \"text-align: left;\">Husband</td><td style = \"text-align: left;\">White</td><td style = \"text-align: left;\">Male</td><td style = \"text-align: right;\">0</td><td style = \"text-align: right;\">0</td><td style = \"text-align: right;\">10</td><td style = \"text-align: left;\">United-States</td><td style = \"text-align: left;\">&lt;=50K</td></tr><tr><td class = \"rowNumber\" style = \"font-weight: bold; text-align: right;\">11</td><td style = \"text-align: right;\">65</td><td style = \"text-align: left;\">Private</td><td style = \"text-align: left;\">HS-grad</td><td style = \"text-align: right;\">9</td><td style = \"text-align: left;\">Married-civ-spouse</td><td style = \"text-align: left;\">Machine-op-inspct</td><td style = \"text-align: left;\">Husband</td><td style = \"text-align: left;\">White</td><td style = \"text-align: left;\">Male</td><td style = \"text-align: right;\">6418</td><td style = \"text-align: right;\">0</td><td style = \"text-align: right;\">40</td><td style = \"text-align: left;\">United-States</td><td style = \"text-align: left;\">&gt;50K</td></tr><tr><td class = \"rowNumber\" style = \"font-weight: bold; text-align: right;\">12</td><td style = \"text-align: right;\">36</td><td style = \"text-align: left;\">Federal-gov</td><td style = \"text-align: left;\">Bachelors</td><td style = \"text-align: right;\">13</td><td style = \"text-align: left;\">Married-civ-spouse</td><td style = \"text-align: left;\">Adm-clerical</td><td style = \"text-align: left;\">Husband</td><td style = \"text-align: left;\">White</td><td style = \"text-align: left;\">Male</td><td style = \"text-align: right;\">0</td><td style = \"text-align: right;\">0</td><td style = \"text-align: right;\">40</td><td style = \"text-align: left;\">United-States</td><td style = \"text-align: left;\">&lt;=50K</td></tr><tr><td class = \"rowNumber\" style = \"font-weight: bold; text-align: right;\">13</td><td style = \"text-align: right;\">26</td><td style = \"text-align: left;\">Private</td><td style = \"text-align: left;\">HS-grad</td><td style = \"text-align: right;\">9</td><td style = \"text-align: left;\">Never-married</td><td style = \"text-align: left;\">Adm-clerical</td><td style = \"text-align: left;\">Not-in-family</td><td style = \"text-align: left;\">White</td><td style = \"text-align: left;\">Female</td><td style = \"text-align: right;\">0</td><td style = \"text-align: right;\">0</td><td style = \"text-align: right;\">39</td><td style = \"text-align: left;\">United-States</td><td style = \"text-align: left;\">&lt;=50K</td></tr><tr><td style = \"text-align: right;\">&vellip;</td><td style = \"text-align: right;\">&vellip;</td><td style = \"text-align: right;\">&vellip;</td><td style = \"text-align: right;\">&vellip;</td><td style = \"text-align: right;\">&vellip;</td><td style = \"text-align: right;\">&vellip;</td><td style = \"text-align: right;\">&vellip;</td><td style = \"text-align: right;\">&vellip;</td><td style = \"text-align: right;\">&vellip;</td><td style = \"text-align: right;\">&vellip;</td><td style = \"text-align: right;\">&vellip;</td><td style = \"text-align: right;\">&vellip;</td><td style = \"text-align: right;\">&vellip;</td><td style = \"text-align: right;\">&vellip;</td><td style = \"text-align: right;\">&vellip;</td></tr><tr><td class = \"rowNumber\" style = \"font-weight: bold; text-align: right;\">48831</td><td style = \"text-align: right;\">43</td><td style = \"text-align: left;\">State-gov</td><td style = \"text-align: left;\">Some-college</td><td style = \"text-align: right;\">10</td><td style = \"text-align: left;\">Divorced</td><td style = \"text-align: left;\">Adm-clerical</td><td style = \"text-align: left;\">Other-relative</td><td style = \"text-align: left;\">White</td><td style = \"text-align: left;\">Female</td><td style = \"text-align: right;\">0</td><td style = \"text-align: right;\">0</td><td style = \"text-align: right;\">40</td><td style = \"text-align: left;\">United-States</td><td style = \"text-align: left;\">&lt;=50K</td></tr><tr><td class = \"rowNumber\" style = \"font-weight: bold; text-align: right;\">48832</td><td style = \"text-align: right;\">43</td><td style = \"text-align: left;\">Self-emp-not-inc</td><td style = \"text-align: left;\">Some-college</td><td style = \"text-align: right;\">10</td><td style = \"text-align: left;\">Married-civ-spouse</td><td style = \"text-align: left;\">Craft-repair</td><td style = \"text-align: left;\">Husband</td><td style = \"text-align: left;\">White</td><td style = \"text-align: left;\">Male</td><td style = \"text-align: right;\">0</td><td style = \"text-align: right;\">0</td><td style = \"text-align: right;\">50</td><td style = \"text-align: left;\">United-States</td><td style = \"text-align: left;\">&lt;=50K</td></tr><tr><td class = \"rowNumber\" style = \"font-weight: bold; text-align: right;\">48833</td><td style = \"text-align: right;\">32</td><td style = \"text-align: left;\">Private</td><td style = \"text-align: left;\">10th</td><td style = \"text-align: right;\">6</td><td style = \"text-align: left;\">Married-civ-spouse</td><td style = \"text-align: left;\">Handlers-cleaners</td><td style = \"text-align: left;\">Husband</td><td style = \"text-align: left;\">Amer-Indian-Eskimo</td><td style = \"text-align: left;\">Male</td><td style = \"text-align: right;\">0</td><td style = \"text-align: right;\">0</td><td style = \"text-align: right;\">40</td><td style = \"text-align: left;\">United-States</td><td style = \"text-align: left;\">&lt;=50K</td></tr><tr><td class = \"rowNumber\" style = \"font-weight: bold; text-align: right;\">48834</td><td style = \"text-align: right;\">43</td><td style = \"text-align: left;\">Private</td><td style = \"text-align: left;\">Assoc-voc</td><td style = \"text-align: right;\">11</td><td style = \"text-align: left;\">Married-civ-spouse</td><td style = \"text-align: left;\">Sales</td><td style = \"text-align: left;\">Husband</td><td style = \"text-align: left;\">White</td><td style = \"text-align: left;\">Male</td><td style = \"text-align: right;\">0</td><td style = \"text-align: right;\">0</td><td style = \"text-align: right;\">45</td><td style = \"text-align: left;\">United-States</td><td style = \"text-align: left;\">&lt;=50K</td></tr><tr><td class = \"rowNumber\" style = \"font-weight: bold; text-align: right;\">48835</td><td style = \"text-align: right;\">32</td><td style = \"text-align: left;\">Private</td><td style = \"text-align: left;\">Masters</td><td style = \"text-align: right;\">14</td><td style = \"text-align: left;\">Never-married</td><td style = \"text-align: left;\">Tech-support</td><td style = \"text-align: left;\">Not-in-family</td><td style = \"text-align: left;\">Asian-Pac-Islander</td><td style = \"text-align: left;\">Male</td><td style = \"text-align: right;\">0</td><td style = \"text-align: right;\">0</td><td style = \"text-align: right;\">11</td><td style = \"text-align: left;\">Taiwan</td><td style = \"text-align: left;\">&lt;=50K</td></tr><tr><td class = \"rowNumber\" style = \"font-weight: bold; text-align: right;\">48836</td><td style = \"text-align: right;\">53</td><td style = \"text-align: left;\">Private</td><td style = \"text-align: left;\">Masters</td><td style = \"text-align: right;\">14</td><td style = \"text-align: left;\">Married-civ-spouse</td><td style = \"text-align: left;\">Exec-managerial</td><td style = \"text-align: left;\">Husband</td><td style = \"text-align: left;\">White</td><td style = \"text-align: left;\">Male</td><td style = \"text-align: right;\">0</td><td style = \"text-align: right;\">0</td><td style = \"text-align: right;\">40</td><td style = \"text-align: left;\">United-States</td><td style = \"text-align: left;\">&gt;50K</td></tr><tr><td class = \"rowNumber\" style = \"font-weight: bold; text-align: right;\">48837</td><td style = \"text-align: right;\">22</td><td style = \"text-align: left;\">Private</td><td style = \"text-align: left;\">Some-college</td><td style = \"text-align: right;\">10</td><td style = \"text-align: left;\">Never-married</td><td style = \"text-align: left;\">Protective-serv</td><td style = \"text-align: left;\">Not-in-family</td><td style = \"text-align: left;\">White</td><td style = \"text-align: left;\">Male</td><td style = \"text-align: right;\">0</td><td style = \"text-align: right;\">0</td><td style = \"text-align: right;\">40</td><td style = \"text-align: left;\">United-States</td><td style = \"text-align: left;\">&lt;=50K</td></tr><tr><td class = \"rowNumber\" style = \"font-weight: bold; text-align: right;\">48838</td><td style = \"text-align: right;\">27</td><td style = \"text-align: left;\">Private</td><td style = \"text-align: left;\">Assoc-acdm</td><td style = \"text-align: right;\">12</td><td style = \"text-align: left;\">Married-civ-spouse</td><td style = \"text-align: left;\">Tech-support</td><td style = \"text-align: left;\">Wife</td><td style = \"text-align: left;\">White</td><td style = \"text-align: left;\">Female</td><td style = \"text-align: right;\">0</td><td style = \"text-align: right;\">0</td><td style = \"text-align: right;\">38</td><td style = \"text-align: left;\">United-States</td><td style = \"text-align: left;\">&lt;=50K</td></tr><tr><td class = \"rowNumber\" style = \"font-weight: bold; text-align: right;\">48839</td><td style = \"text-align: right;\">40</td><td style = \"text-align: left;\">Private</td><td style = \"text-align: left;\">HS-grad</td><td style = \"text-align: right;\">9</td><td style = \"text-align: left;\">Married-civ-spouse</td><td style = \"text-align: left;\">Machine-op-inspct</td><td style = \"text-align: left;\">Husband</td><td style = \"text-align: left;\">White</td><td style = \"text-align: left;\">Male</td><td style = \"text-align: right;\">0</td><td style = \"text-align: right;\">0</td><td style = \"text-align: right;\">40</td><td style = \"text-align: left;\">United-States</td><td style = \"text-align: left;\">&gt;50K</td></tr><tr><td class = \"rowNumber\" style = \"font-weight: bold; text-align: right;\">48840</td><td style = \"text-align: right;\">58</td><td style = \"text-align: left;\">Private</td><td style = \"text-align: left;\">HS-grad</td><td style = \"text-align: right;\">9</td><td style = \"text-align: left;\">Widowed</td><td style = \"text-align: left;\">Adm-clerical</td><td style = \"text-align: left;\">Unmarried</td><td style = \"text-align: left;\">White</td><td style = \"text-align: left;\">Female</td><td style = \"text-align: right;\">0</td><td style = \"text-align: right;\">0</td><td style = \"text-align: right;\">40</td><td style = \"text-align: left;\">United-States</td><td style = \"text-align: left;\">&lt;=50K</td></tr><tr><td class = \"rowNumber\" style = \"font-weight: bold; text-align: right;\">48841</td><td style = \"text-align: right;\">22</td><td style = \"text-align: left;\">Private</td><td style = \"text-align: left;\">HS-grad</td><td style = \"text-align: right;\">9</td><td style = \"text-align: left;\">Never-married</td><td style = \"text-align: left;\">Adm-clerical</td><td style = \"text-align: left;\">Own-child</td><td style = \"text-align: left;\">White</td><td style = \"text-align: left;\">Male</td><td style = \"text-align: right;\">0</td><td style = \"text-align: right;\">0</td><td style = \"text-align: right;\">20</td><td style = \"text-align: left;\">United-States</td><td style = \"text-align: left;\">&lt;=50K</td></tr><tr><td class = \"rowNumber\" style = \"font-weight: bold; text-align: right;\">48842</td><td style = \"text-align: right;\">52</td><td style = \"text-align: left;\">Self-emp-inc</td><td style = \"text-align: left;\">HS-grad</td><td style = \"text-align: right;\">9</td><td style = \"text-align: left;\">Married-civ-spouse</td><td style = \"text-align: left;\">Exec-managerial</td><td style = \"text-align: left;\">Wife</td><td style = \"text-align: left;\">White</td><td style = \"text-align: left;\">Female</td><td style = \"text-align: right;\">15024</td><td style = \"text-align: right;\">0</td><td style = \"text-align: right;\">40</td><td style = \"text-align: left;\">United-States</td><td style = \"text-align: left;\">&gt;50K</td></tr></tbody></table></div>"
      ],
      "text/latex": [
       "\\begin{tabular}{r|ccccccc}\n",
       "\t& age & workclass & education & education\\_num & marital\\_status & occupation & \\\\\n",
       "\t\\hline\n",
       "\t& Int64 & String31 & String15 & Int64 & String31 & String31 & \\\\\n",
       "\t\\hline\n",
       "\t1 & 25 & Private & 11th & 7 & Never-married & Machine-op-inspct & $\\dots$ \\\\\n",
       "\t2 & 38 & Private & HS-grad & 9 & Married-civ-spouse & Farming-fishing & $\\dots$ \\\\\n",
       "\t3 & 28 & Local-gov & Assoc-acdm & 12 & Married-civ-spouse & Protective-serv & $\\dots$ \\\\\n",
       "\t4 & 44 & Private & Some-college & 10 & Married-civ-spouse & Machine-op-inspct & $\\dots$ \\\\\n",
       "\t5 & 18 & ? & Some-college & 10 & Never-married & ? & $\\dots$ \\\\\n",
       "\t6 & 34 & Private & 10th & 6 & Never-married & Other-service & $\\dots$ \\\\\n",
       "\t7 & 29 & ? & HS-grad & 9 & Never-married & ? & $\\dots$ \\\\\n",
       "\t8 & 63 & Self-emp-not-inc & Prof-school & 15 & Married-civ-spouse & Prof-specialty & $\\dots$ \\\\\n",
       "\t9 & 24 & Private & Some-college & 10 & Never-married & Other-service & $\\dots$ \\\\\n",
       "\t10 & 55 & Private & 7th-8th & 4 & Married-civ-spouse & Craft-repair & $\\dots$ \\\\\n",
       "\t11 & 65 & Private & HS-grad & 9 & Married-civ-spouse & Machine-op-inspct & $\\dots$ \\\\\n",
       "\t12 & 36 & Federal-gov & Bachelors & 13 & Married-civ-spouse & Adm-clerical & $\\dots$ \\\\\n",
       "\t13 & 26 & Private & HS-grad & 9 & Never-married & Adm-clerical & $\\dots$ \\\\\n",
       "\t14 & 58 & ? & HS-grad & 9 & Married-civ-spouse & ? & $\\dots$ \\\\\n",
       "\t15 & 48 & Private & HS-grad & 9 & Married-civ-spouse & Machine-op-inspct & $\\dots$ \\\\\n",
       "\t16 & 43 & Private & Masters & 14 & Married-civ-spouse & Exec-managerial & $\\dots$ \\\\\n",
       "\t17 & 20 & State-gov & Some-college & 10 & Never-married & Other-service & $\\dots$ \\\\\n",
       "\t18 & 43 & Private & HS-grad & 9 & Married-civ-spouse & Adm-clerical & $\\dots$ \\\\\n",
       "\t19 & 37 & Private & HS-grad & 9 & Widowed & Machine-op-inspct & $\\dots$ \\\\\n",
       "\t20 & 40 & Private & Doctorate & 16 & Married-civ-spouse & Prof-specialty & $\\dots$ \\\\\n",
       "\t21 & 34 & Private & Bachelors & 13 & Married-civ-spouse & Tech-support & $\\dots$ \\\\\n",
       "\t22 & 34 & Private & Some-college & 10 & Never-married & Other-service & $\\dots$ \\\\\n",
       "\t23 & 72 & ? & 7th-8th & 4 & Divorced & ? & $\\dots$ \\\\\n",
       "\t24 & 25 & Private & Bachelors & 13 & Never-married & Prof-specialty & $\\dots$ \\\\\n",
       "\t25 & 25 & Private & Bachelors & 13 & Married-civ-spouse & Prof-specialty & $\\dots$ \\\\\n",
       "\t26 & 45 & Self-emp-not-inc & HS-grad & 9 & Married-civ-spouse & Craft-repair & $\\dots$ \\\\\n",
       "\t27 & 22 & Private & HS-grad & 9 & Never-married & Adm-clerical & $\\dots$ \\\\\n",
       "\t28 & 23 & Private & HS-grad & 9 & Separated & Machine-op-inspct & $\\dots$ \\\\\n",
       "\t29 & 54 & Private & HS-grad & 9 & Married-civ-spouse & Craft-repair & $\\dots$ \\\\\n",
       "\t30 & 32 & Self-emp-not-inc & Some-college & 10 & Never-married & Prof-specialty & $\\dots$ \\\\\n",
       "\t$\\dots$ & $\\dots$ & $\\dots$ & $\\dots$ & $\\dots$ & $\\dots$ & $\\dots$ &  \\\\\n",
       "\\end{tabular}\n"
      ],
      "text/plain": [
       "\u001b[1m48842×14 DataFrame\u001b[0m\n",
       "\u001b[1m   Row \u001b[0m│\u001b[1m age   \u001b[0m\u001b[1m workclass        \u001b[0m\u001b[1m education    \u001b[0m\u001b[1m education_num \u001b[0m\u001b[1m marital_status \u001b[0m ⋯\n",
       "       │\u001b[90m Int64 \u001b[0m\u001b[90m String31         \u001b[0m\u001b[90m String15     \u001b[0m\u001b[90m Int64         \u001b[0m\u001b[90m String31       \u001b[0m ⋯\n",
       "───────┼────────────────────────────────────────────────────────────────────────\n",
       "     1 │    25  Private           11th                      7  Never-married   ⋯\n",
       "     2 │    38  Private           HS-grad                   9  Married-civ-spo\n",
       "     3 │    28  Local-gov         Assoc-acdm               12  Married-civ-spo\n",
       "     4 │    44  Private           Some-college             10  Married-civ-spo\n",
       "     5 │    18  ?                 Some-college             10  Never-married   ⋯\n",
       "     6 │    34  Private           10th                      6  Never-married\n",
       "     7 │    29  ?                 HS-grad                   9  Never-married\n",
       "     8 │    63  Self-emp-not-inc  Prof-school              15  Married-civ-spo\n",
       "     9 │    24  Private           Some-college             10  Never-married   ⋯\n",
       "    10 │    55  Private           7th-8th                   4  Married-civ-spo\n",
       "    11 │    65  Private           HS-grad                   9  Married-civ-spo\n",
       "   ⋮   │   ⋮           ⋮               ⋮              ⋮                ⋮       ⋱\n",
       " 48833 │    32  Private           10th                      6  Married-civ-spo\n",
       " 48834 │    43  Private           Assoc-voc                11  Married-civ-spo ⋯\n",
       " 48835 │    32  Private           Masters                  14  Never-married\n",
       " 48836 │    53  Private           Masters                  14  Married-civ-spo\n",
       " 48837 │    22  Private           Some-college             10  Never-married\n",
       " 48838 │    27  Private           Assoc-acdm               12  Married-civ-spo ⋯\n",
       " 48839 │    40  Private           HS-grad                   9  Married-civ-spo\n",
       " 48840 │    58  Private           HS-grad                   9  Widowed\n",
       " 48841 │    22  Private           HS-grad                   9  Never-married\n",
       " 48842 │    52  Self-emp-inc      HS-grad                   9  Married-civ-spo ⋯\n",
       "\u001b[36m                                               10 columns and 48821 rows omitted\u001b[0m"
      ]
     },
     "execution_count": 67,
     "metadata": {},
     "output_type": "execute_result"
    }
   ],
   "source": [
    "select(df, Not(:fnlwgt))"
   ]
  },
  {
   "cell_type": "code",
   "execution_count": 68,
   "id": "bd9c83f9-0134-41ea-b0aa-cd726f4d8f4a",
   "metadata": {},
   "outputs": [
    {
     "data": {
      "text/html": [
       "<div><div style = \"float: left;\"><span>48842×6 DataFrame</span></div><div style = \"float: right;\"><span style = \"font-style: italic;\">48817 rows omitted</span></div><div style = \"clear: both;\"></div></div><div class = \"data-frame\" style = \"overflow-x: scroll;\"><table class = \"data-frame\" style = \"margin-bottom: 6px;\"><thead><tr class = \"header\"><th class = \"rowNumber\" style = \"font-weight: bold; text-align: right;\">Row</th><th style = \"text-align: left;\">education</th><th style = \"text-align: left;\">education_num</th><th style = \"text-align: left;\">marital_status</th><th style = \"text-align: left;\">occupation</th><th style = \"text-align: left;\">relationship</th><th style = \"text-align: left;\">race</th></tr><tr class = \"subheader headerLastRow\"><th class = \"rowNumber\" style = \"font-weight: bold; text-align: right;\"></th><th title = \"String15\" style = \"text-align: left;\">String15</th><th title = \"Int64\" style = \"text-align: left;\">Int64</th><th title = \"String31\" style = \"text-align: left;\">String31</th><th title = \"String31\" style = \"text-align: left;\">String31</th><th title = \"String15\" style = \"text-align: left;\">String15</th><th title = \"String31\" style = \"text-align: left;\">String31</th></tr></thead><tbody><tr><td class = \"rowNumber\" style = \"font-weight: bold; text-align: right;\">1</td><td style = \"text-align: left;\">11th</td><td style = \"text-align: right;\">7</td><td style = \"text-align: left;\">Never-married</td><td style = \"text-align: left;\">Machine-op-inspct</td><td style = \"text-align: left;\">Own-child</td><td style = \"text-align: left;\">Black</td></tr><tr><td class = \"rowNumber\" style = \"font-weight: bold; text-align: right;\">2</td><td style = \"text-align: left;\">HS-grad</td><td style = \"text-align: right;\">9</td><td style = \"text-align: left;\">Married-civ-spouse</td><td style = \"text-align: left;\">Farming-fishing</td><td style = \"text-align: left;\">Husband</td><td style = \"text-align: left;\">White</td></tr><tr><td class = \"rowNumber\" style = \"font-weight: bold; text-align: right;\">3</td><td style = \"text-align: left;\">Assoc-acdm</td><td style = \"text-align: right;\">12</td><td style = \"text-align: left;\">Married-civ-spouse</td><td style = \"text-align: left;\">Protective-serv</td><td style = \"text-align: left;\">Husband</td><td style = \"text-align: left;\">White</td></tr><tr><td class = \"rowNumber\" style = \"font-weight: bold; text-align: right;\">4</td><td style = \"text-align: left;\">Some-college</td><td style = \"text-align: right;\">10</td><td style = \"text-align: left;\">Married-civ-spouse</td><td style = \"text-align: left;\">Machine-op-inspct</td><td style = \"text-align: left;\">Husband</td><td style = \"text-align: left;\">Black</td></tr><tr><td class = \"rowNumber\" style = \"font-weight: bold; text-align: right;\">5</td><td style = \"text-align: left;\">Some-college</td><td style = \"text-align: right;\">10</td><td style = \"text-align: left;\">Never-married</td><td style = \"text-align: left;\">?</td><td style = \"text-align: left;\">Own-child</td><td style = \"text-align: left;\">White</td></tr><tr><td class = \"rowNumber\" style = \"font-weight: bold; text-align: right;\">6</td><td style = \"text-align: left;\">10th</td><td style = \"text-align: right;\">6</td><td style = \"text-align: left;\">Never-married</td><td style = \"text-align: left;\">Other-service</td><td style = \"text-align: left;\">Not-in-family</td><td style = \"text-align: left;\">White</td></tr><tr><td class = \"rowNumber\" style = \"font-weight: bold; text-align: right;\">7</td><td style = \"text-align: left;\">HS-grad</td><td style = \"text-align: right;\">9</td><td style = \"text-align: left;\">Never-married</td><td style = \"text-align: left;\">?</td><td style = \"text-align: left;\">Unmarried</td><td style = \"text-align: left;\">Black</td></tr><tr><td class = \"rowNumber\" style = \"font-weight: bold; text-align: right;\">8</td><td style = \"text-align: left;\">Prof-school</td><td style = \"text-align: right;\">15</td><td style = \"text-align: left;\">Married-civ-spouse</td><td style = \"text-align: left;\">Prof-specialty</td><td style = \"text-align: left;\">Husband</td><td style = \"text-align: left;\">White</td></tr><tr><td class = \"rowNumber\" style = \"font-weight: bold; text-align: right;\">9</td><td style = \"text-align: left;\">Some-college</td><td style = \"text-align: right;\">10</td><td style = \"text-align: left;\">Never-married</td><td style = \"text-align: left;\">Other-service</td><td style = \"text-align: left;\">Unmarried</td><td style = \"text-align: left;\">White</td></tr><tr><td class = \"rowNumber\" style = \"font-weight: bold; text-align: right;\">10</td><td style = \"text-align: left;\">7th-8th</td><td style = \"text-align: right;\">4</td><td style = \"text-align: left;\">Married-civ-spouse</td><td style = \"text-align: left;\">Craft-repair</td><td style = \"text-align: left;\">Husband</td><td style = \"text-align: left;\">White</td></tr><tr><td class = \"rowNumber\" style = \"font-weight: bold; text-align: right;\">11</td><td style = \"text-align: left;\">HS-grad</td><td style = \"text-align: right;\">9</td><td style = \"text-align: left;\">Married-civ-spouse</td><td style = \"text-align: left;\">Machine-op-inspct</td><td style = \"text-align: left;\">Husband</td><td style = \"text-align: left;\">White</td></tr><tr><td class = \"rowNumber\" style = \"font-weight: bold; text-align: right;\">12</td><td style = \"text-align: left;\">Bachelors</td><td style = \"text-align: right;\">13</td><td style = \"text-align: left;\">Married-civ-spouse</td><td style = \"text-align: left;\">Adm-clerical</td><td style = \"text-align: left;\">Husband</td><td style = \"text-align: left;\">White</td></tr><tr><td class = \"rowNumber\" style = \"font-weight: bold; text-align: right;\">13</td><td style = \"text-align: left;\">HS-grad</td><td style = \"text-align: right;\">9</td><td style = \"text-align: left;\">Never-married</td><td style = \"text-align: left;\">Adm-clerical</td><td style = \"text-align: left;\">Not-in-family</td><td style = \"text-align: left;\">White</td></tr><tr><td style = \"text-align: right;\">&vellip;</td><td style = \"text-align: right;\">&vellip;</td><td style = \"text-align: right;\">&vellip;</td><td style = \"text-align: right;\">&vellip;</td><td style = \"text-align: right;\">&vellip;</td><td style = \"text-align: right;\">&vellip;</td><td style = \"text-align: right;\">&vellip;</td></tr><tr><td class = \"rowNumber\" style = \"font-weight: bold; text-align: right;\">48831</td><td style = \"text-align: left;\">Some-college</td><td style = \"text-align: right;\">10</td><td style = \"text-align: left;\">Divorced</td><td style = \"text-align: left;\">Adm-clerical</td><td style = \"text-align: left;\">Other-relative</td><td style = \"text-align: left;\">White</td></tr><tr><td class = \"rowNumber\" style = \"font-weight: bold; text-align: right;\">48832</td><td style = \"text-align: left;\">Some-college</td><td style = \"text-align: right;\">10</td><td style = \"text-align: left;\">Married-civ-spouse</td><td style = \"text-align: left;\">Craft-repair</td><td style = \"text-align: left;\">Husband</td><td style = \"text-align: left;\">White</td></tr><tr><td class = \"rowNumber\" style = \"font-weight: bold; text-align: right;\">48833</td><td style = \"text-align: left;\">10th</td><td style = \"text-align: right;\">6</td><td style = \"text-align: left;\">Married-civ-spouse</td><td style = \"text-align: left;\">Handlers-cleaners</td><td style = \"text-align: left;\">Husband</td><td style = \"text-align: left;\">Amer-Indian-Eskimo</td></tr><tr><td class = \"rowNumber\" style = \"font-weight: bold; text-align: right;\">48834</td><td style = \"text-align: left;\">Assoc-voc</td><td style = \"text-align: right;\">11</td><td style = \"text-align: left;\">Married-civ-spouse</td><td style = \"text-align: left;\">Sales</td><td style = \"text-align: left;\">Husband</td><td style = \"text-align: left;\">White</td></tr><tr><td class = \"rowNumber\" style = \"font-weight: bold; text-align: right;\">48835</td><td style = \"text-align: left;\">Masters</td><td style = \"text-align: right;\">14</td><td style = \"text-align: left;\">Never-married</td><td style = \"text-align: left;\">Tech-support</td><td style = \"text-align: left;\">Not-in-family</td><td style = \"text-align: left;\">Asian-Pac-Islander</td></tr><tr><td class = \"rowNumber\" style = \"font-weight: bold; text-align: right;\">48836</td><td style = \"text-align: left;\">Masters</td><td style = \"text-align: right;\">14</td><td style = \"text-align: left;\">Married-civ-spouse</td><td style = \"text-align: left;\">Exec-managerial</td><td style = \"text-align: left;\">Husband</td><td style = \"text-align: left;\">White</td></tr><tr><td class = \"rowNumber\" style = \"font-weight: bold; text-align: right;\">48837</td><td style = \"text-align: left;\">Some-college</td><td style = \"text-align: right;\">10</td><td style = \"text-align: left;\">Never-married</td><td style = \"text-align: left;\">Protective-serv</td><td style = \"text-align: left;\">Not-in-family</td><td style = \"text-align: left;\">White</td></tr><tr><td class = \"rowNumber\" style = \"font-weight: bold; text-align: right;\">48838</td><td style = \"text-align: left;\">Assoc-acdm</td><td style = \"text-align: right;\">12</td><td style = \"text-align: left;\">Married-civ-spouse</td><td style = \"text-align: left;\">Tech-support</td><td style = \"text-align: left;\">Wife</td><td style = \"text-align: left;\">White</td></tr><tr><td class = \"rowNumber\" style = \"font-weight: bold; text-align: right;\">48839</td><td style = \"text-align: left;\">HS-grad</td><td style = \"text-align: right;\">9</td><td style = \"text-align: left;\">Married-civ-spouse</td><td style = \"text-align: left;\">Machine-op-inspct</td><td style = \"text-align: left;\">Husband</td><td style = \"text-align: left;\">White</td></tr><tr><td class = \"rowNumber\" style = \"font-weight: bold; text-align: right;\">48840</td><td style = \"text-align: left;\">HS-grad</td><td style = \"text-align: right;\">9</td><td style = \"text-align: left;\">Widowed</td><td style = \"text-align: left;\">Adm-clerical</td><td style = \"text-align: left;\">Unmarried</td><td style = \"text-align: left;\">White</td></tr><tr><td class = \"rowNumber\" style = \"font-weight: bold; text-align: right;\">48841</td><td style = \"text-align: left;\">HS-grad</td><td style = \"text-align: right;\">9</td><td style = \"text-align: left;\">Never-married</td><td style = \"text-align: left;\">Adm-clerical</td><td style = \"text-align: left;\">Own-child</td><td style = \"text-align: left;\">White</td></tr><tr><td class = \"rowNumber\" style = \"font-weight: bold; text-align: right;\">48842</td><td style = \"text-align: left;\">HS-grad</td><td style = \"text-align: right;\">9</td><td style = \"text-align: left;\">Married-civ-spouse</td><td style = \"text-align: left;\">Exec-managerial</td><td style = \"text-align: left;\">Wife</td><td style = \"text-align: left;\">White</td></tr></tbody></table></div>"
      ],
      "text/latex": [
       "\\begin{tabular}{r|cccccc}\n",
       "\t& education & education\\_num & marital\\_status & occupation & relationship & \\\\\n",
       "\t\\hline\n",
       "\t& String15 & Int64 & String31 & String31 & String15 & \\\\\n",
       "\t\\hline\n",
       "\t1 & 11th & 7 & Never-married & Machine-op-inspct & Own-child & $\\dots$ \\\\\n",
       "\t2 & HS-grad & 9 & Married-civ-spouse & Farming-fishing & Husband & $\\dots$ \\\\\n",
       "\t3 & Assoc-acdm & 12 & Married-civ-spouse & Protective-serv & Husband & $\\dots$ \\\\\n",
       "\t4 & Some-college & 10 & Married-civ-spouse & Machine-op-inspct & Husband & $\\dots$ \\\\\n",
       "\t5 & Some-college & 10 & Never-married & ? & Own-child & $\\dots$ \\\\\n",
       "\t6 & 10th & 6 & Never-married & Other-service & Not-in-family & $\\dots$ \\\\\n",
       "\t7 & HS-grad & 9 & Never-married & ? & Unmarried & $\\dots$ \\\\\n",
       "\t8 & Prof-school & 15 & Married-civ-spouse & Prof-specialty & Husband & $\\dots$ \\\\\n",
       "\t9 & Some-college & 10 & Never-married & Other-service & Unmarried & $\\dots$ \\\\\n",
       "\t10 & 7th-8th & 4 & Married-civ-spouse & Craft-repair & Husband & $\\dots$ \\\\\n",
       "\t11 & HS-grad & 9 & Married-civ-spouse & Machine-op-inspct & Husband & $\\dots$ \\\\\n",
       "\t12 & Bachelors & 13 & Married-civ-spouse & Adm-clerical & Husband & $\\dots$ \\\\\n",
       "\t13 & HS-grad & 9 & Never-married & Adm-clerical & Not-in-family & $\\dots$ \\\\\n",
       "\t14 & HS-grad & 9 & Married-civ-spouse & ? & Husband & $\\dots$ \\\\\n",
       "\t15 & HS-grad & 9 & Married-civ-spouse & Machine-op-inspct & Husband & $\\dots$ \\\\\n",
       "\t16 & Masters & 14 & Married-civ-spouse & Exec-managerial & Husband & $\\dots$ \\\\\n",
       "\t17 & Some-college & 10 & Never-married & Other-service & Own-child & $\\dots$ \\\\\n",
       "\t18 & HS-grad & 9 & Married-civ-spouse & Adm-clerical & Wife & $\\dots$ \\\\\n",
       "\t19 & HS-grad & 9 & Widowed & Machine-op-inspct & Unmarried & $\\dots$ \\\\\n",
       "\t20 & Doctorate & 16 & Married-civ-spouse & Prof-specialty & Husband & $\\dots$ \\\\\n",
       "\t21 & Bachelors & 13 & Married-civ-spouse & Tech-support & Husband & $\\dots$ \\\\\n",
       "\t22 & Some-college & 10 & Never-married & Other-service & Own-child & $\\dots$ \\\\\n",
       "\t23 & 7th-8th & 4 & Divorced & ? & Not-in-family & $\\dots$ \\\\\n",
       "\t24 & Bachelors & 13 & Never-married & Prof-specialty & Not-in-family & $\\dots$ \\\\\n",
       "\t25 & Bachelors & 13 & Married-civ-spouse & Prof-specialty & Husband & $\\dots$ \\\\\n",
       "\t26 & HS-grad & 9 & Married-civ-spouse & Craft-repair & Husband & $\\dots$ \\\\\n",
       "\t27 & HS-grad & 9 & Never-married & Adm-clerical & Own-child & $\\dots$ \\\\\n",
       "\t28 & HS-grad & 9 & Separated & Machine-op-inspct & Unmarried & $\\dots$ \\\\\n",
       "\t29 & HS-grad & 9 & Married-civ-spouse & Craft-repair & Husband & $\\dots$ \\\\\n",
       "\t30 & Some-college & 10 & Never-married & Prof-specialty & Not-in-family & $\\dots$ \\\\\n",
       "\t$\\dots$ & $\\dots$ & $\\dots$ & $\\dots$ & $\\dots$ & $\\dots$ &  \\\\\n",
       "\\end{tabular}\n"
      ],
      "text/plain": [
       "\u001b[1m48842×6 DataFrame\u001b[0m\n",
       "\u001b[1m   Row \u001b[0m│\u001b[1m education    \u001b[0m\u001b[1m education_num \u001b[0m\u001b[1m marital_status     \u001b[0m\u001b[1m occupation        \u001b[0m\u001b[1m r\u001b[0m ⋯\n",
       "       │\u001b[90m String15     \u001b[0m\u001b[90m Int64         \u001b[0m\u001b[90m String31           \u001b[0m\u001b[90m String31          \u001b[0m\u001b[90m S\u001b[0m ⋯\n",
       "───────┼────────────────────────────────────────────────────────────────────────\n",
       "     1 │ 11th                      7  Never-married       Machine-op-inspct  O ⋯\n",
       "     2 │ HS-grad                   9  Married-civ-spouse  Farming-fishing    H\n",
       "     3 │ Assoc-acdm               12  Married-civ-spouse  Protective-serv    H\n",
       "     4 │ Some-college             10  Married-civ-spouse  Machine-op-inspct  H\n",
       "     5 │ Some-college             10  Never-married       ?                  O ⋯\n",
       "     6 │ 10th                      6  Never-married       Other-service      N\n",
       "     7 │ HS-grad                   9  Never-married       ?                  U\n",
       "     8 │ Prof-school              15  Married-civ-spouse  Prof-specialty     H\n",
       "     9 │ Some-college             10  Never-married       Other-service      U ⋯\n",
       "    10 │ 7th-8th                   4  Married-civ-spouse  Craft-repair       H\n",
       "    11 │ HS-grad                   9  Married-civ-spouse  Machine-op-inspct  H\n",
       "   ⋮   │      ⋮              ⋮                ⋮                   ⋮            ⋱\n",
       " 48833 │ 10th                      6  Married-civ-spouse  Handlers-cleaners  H\n",
       " 48834 │ Assoc-voc                11  Married-civ-spouse  Sales              H ⋯\n",
       " 48835 │ Masters                  14  Never-married       Tech-support       N\n",
       " 48836 │ Masters                  14  Married-civ-spouse  Exec-managerial    H\n",
       " 48837 │ Some-college             10  Never-married       Protective-serv    N\n",
       " 48838 │ Assoc-acdm               12  Married-civ-spouse  Tech-support       W ⋯\n",
       " 48839 │ HS-grad                   9  Married-civ-spouse  Machine-op-inspct  H\n",
       " 48840 │ HS-grad                   9  Widowed             Adm-clerical       U\n",
       " 48841 │ HS-grad                   9  Never-married       Adm-clerical       O\n",
       " 48842 │ HS-grad                   9  Married-civ-spouse  Exec-managerial    W ⋯\n",
       "\u001b[36m                                                2 columns and 48821 rows omitted\u001b[0m"
      ]
     },
     "execution_count": 68,
     "metadata": {},
     "output_type": "execute_result"
    }
   ],
   "source": [
    "select(df, Between(:education,:race))"
   ]
  },
  {
   "cell_type": "code",
   "execution_count": 71,
   "id": "0a93ed9a-b409-4e47-b88e-dddd5bcb12bf",
   "metadata": {},
   "outputs": [
    {
     "data": {
      "text/html": [
       "<div><div style = \"float: left;\"><span>48842×2 DataFrame</span></div><div style = \"float: right;\"><span style = \"font-style: italic;\">48817 rows omitted</span></div><div style = \"clear: both;\"></div></div><div class = \"data-frame\" style = \"overflow-x: scroll;\"><table class = \"data-frame\" style = \"margin-bottom: 6px;\"><thead><tr class = \"header\"><th class = \"rowNumber\" style = \"font-weight: bold; text-align: right;\">Row</th><th style = \"text-align: left;\">education</th><th style = \"text-align: left;\">occupation</th></tr><tr class = \"subheader headerLastRow\"><th class = \"rowNumber\" style = \"font-weight: bold; text-align: right;\"></th><th title = \"String15\" style = \"text-align: left;\">String15</th><th title = \"String31\" style = \"text-align: left;\">String31</th></tr></thead><tbody><tr><td class = \"rowNumber\" style = \"font-weight: bold; text-align: right;\">1</td><td style = \"text-align: left;\">11th</td><td style = \"text-align: left;\">Machine-op-inspct</td></tr><tr><td class = \"rowNumber\" style = \"font-weight: bold; text-align: right;\">2</td><td style = \"text-align: left;\">HS-grad</td><td style = \"text-align: left;\">Farming-fishing</td></tr><tr><td class = \"rowNumber\" style = \"font-weight: bold; text-align: right;\">3</td><td style = \"text-align: left;\">Assoc-acdm</td><td style = \"text-align: left;\">Protective-serv</td></tr><tr><td class = \"rowNumber\" style = \"font-weight: bold; text-align: right;\">4</td><td style = \"text-align: left;\">Some-college</td><td style = \"text-align: left;\">Machine-op-inspct</td></tr><tr><td class = \"rowNumber\" style = \"font-weight: bold; text-align: right;\">5</td><td style = \"text-align: left;\">Some-college</td><td style = \"text-align: left;\">?</td></tr><tr><td class = \"rowNumber\" style = \"font-weight: bold; text-align: right;\">6</td><td style = \"text-align: left;\">10th</td><td style = \"text-align: left;\">Other-service</td></tr><tr><td class = \"rowNumber\" style = \"font-weight: bold; text-align: right;\">7</td><td style = \"text-align: left;\">HS-grad</td><td style = \"text-align: left;\">?</td></tr><tr><td class = \"rowNumber\" style = \"font-weight: bold; text-align: right;\">8</td><td style = \"text-align: left;\">Prof-school</td><td style = \"text-align: left;\">Prof-specialty</td></tr><tr><td class = \"rowNumber\" style = \"font-weight: bold; text-align: right;\">9</td><td style = \"text-align: left;\">Some-college</td><td style = \"text-align: left;\">Other-service</td></tr><tr><td class = \"rowNumber\" style = \"font-weight: bold; text-align: right;\">10</td><td style = \"text-align: left;\">7th-8th</td><td style = \"text-align: left;\">Craft-repair</td></tr><tr><td class = \"rowNumber\" style = \"font-weight: bold; text-align: right;\">11</td><td style = \"text-align: left;\">HS-grad</td><td style = \"text-align: left;\">Machine-op-inspct</td></tr><tr><td class = \"rowNumber\" style = \"font-weight: bold; text-align: right;\">12</td><td style = \"text-align: left;\">Bachelors</td><td style = \"text-align: left;\">Adm-clerical</td></tr><tr><td class = \"rowNumber\" style = \"font-weight: bold; text-align: right;\">13</td><td style = \"text-align: left;\">HS-grad</td><td style = \"text-align: left;\">Adm-clerical</td></tr><tr><td style = \"text-align: right;\">&vellip;</td><td style = \"text-align: right;\">&vellip;</td><td style = \"text-align: right;\">&vellip;</td></tr><tr><td class = \"rowNumber\" style = \"font-weight: bold; text-align: right;\">48831</td><td style = \"text-align: left;\">Some-college</td><td style = \"text-align: left;\">Adm-clerical</td></tr><tr><td class = \"rowNumber\" style = \"font-weight: bold; text-align: right;\">48832</td><td style = \"text-align: left;\">Some-college</td><td style = \"text-align: left;\">Craft-repair</td></tr><tr><td class = \"rowNumber\" style = \"font-weight: bold; text-align: right;\">48833</td><td style = \"text-align: left;\">10th</td><td style = \"text-align: left;\">Handlers-cleaners</td></tr><tr><td class = \"rowNumber\" style = \"font-weight: bold; text-align: right;\">48834</td><td style = \"text-align: left;\">Assoc-voc</td><td style = \"text-align: left;\">Sales</td></tr><tr><td class = \"rowNumber\" style = \"font-weight: bold; text-align: right;\">48835</td><td style = \"text-align: left;\">Masters</td><td style = \"text-align: left;\">Tech-support</td></tr><tr><td class = \"rowNumber\" style = \"font-weight: bold; text-align: right;\">48836</td><td style = \"text-align: left;\">Masters</td><td style = \"text-align: left;\">Exec-managerial</td></tr><tr><td class = \"rowNumber\" style = \"font-weight: bold; text-align: right;\">48837</td><td style = \"text-align: left;\">Some-college</td><td style = \"text-align: left;\">Protective-serv</td></tr><tr><td class = \"rowNumber\" style = \"font-weight: bold; text-align: right;\">48838</td><td style = \"text-align: left;\">Assoc-acdm</td><td style = \"text-align: left;\">Tech-support</td></tr><tr><td class = \"rowNumber\" style = \"font-weight: bold; text-align: right;\">48839</td><td style = \"text-align: left;\">HS-grad</td><td style = \"text-align: left;\">Machine-op-inspct</td></tr><tr><td class = \"rowNumber\" style = \"font-weight: bold; text-align: right;\">48840</td><td style = \"text-align: left;\">HS-grad</td><td style = \"text-align: left;\">Adm-clerical</td></tr><tr><td class = \"rowNumber\" style = \"font-weight: bold; text-align: right;\">48841</td><td style = \"text-align: left;\">HS-grad</td><td style = \"text-align: left;\">Adm-clerical</td></tr><tr><td class = \"rowNumber\" style = \"font-weight: bold; text-align: right;\">48842</td><td style = \"text-align: left;\">HS-grad</td><td style = \"text-align: left;\">Exec-managerial</td></tr></tbody></table></div>"
      ],
      "text/latex": [
       "\\begin{tabular}{r|cc}\n",
       "\t& education & occupation\\\\\n",
       "\t\\hline\n",
       "\t& String15 & String31\\\\\n",
       "\t\\hline\n",
       "\t1 & 11th & Machine-op-inspct \\\\\n",
       "\t2 & HS-grad & Farming-fishing \\\\\n",
       "\t3 & Assoc-acdm & Protective-serv \\\\\n",
       "\t4 & Some-college & Machine-op-inspct \\\\\n",
       "\t5 & Some-college & ? \\\\\n",
       "\t6 & 10th & Other-service \\\\\n",
       "\t7 & HS-grad & ? \\\\\n",
       "\t8 & Prof-school & Prof-specialty \\\\\n",
       "\t9 & Some-college & Other-service \\\\\n",
       "\t10 & 7th-8th & Craft-repair \\\\\n",
       "\t11 & HS-grad & Machine-op-inspct \\\\\n",
       "\t12 & Bachelors & Adm-clerical \\\\\n",
       "\t13 & HS-grad & Adm-clerical \\\\\n",
       "\t14 & HS-grad & ? \\\\\n",
       "\t15 & HS-grad & Machine-op-inspct \\\\\n",
       "\t16 & Masters & Exec-managerial \\\\\n",
       "\t17 & Some-college & Other-service \\\\\n",
       "\t18 & HS-grad & Adm-clerical \\\\\n",
       "\t19 & HS-grad & Machine-op-inspct \\\\\n",
       "\t20 & Doctorate & Prof-specialty \\\\\n",
       "\t21 & Bachelors & Tech-support \\\\\n",
       "\t22 & Some-college & Other-service \\\\\n",
       "\t23 & 7th-8th & ? \\\\\n",
       "\t24 & Bachelors & Prof-specialty \\\\\n",
       "\t25 & Bachelors & Prof-specialty \\\\\n",
       "\t26 & HS-grad & Craft-repair \\\\\n",
       "\t27 & HS-grad & Adm-clerical \\\\\n",
       "\t28 & HS-grad & Machine-op-inspct \\\\\n",
       "\t29 & HS-grad & Craft-repair \\\\\n",
       "\t30 & Some-college & Prof-specialty \\\\\n",
       "\t$\\dots$ & $\\dots$ & $\\dots$ \\\\\n",
       "\\end{tabular}\n"
      ],
      "text/plain": [
       "\u001b[1m48842×2 DataFrame\u001b[0m\n",
       "\u001b[1m   Row \u001b[0m│\u001b[1m education    \u001b[0m\u001b[1m occupation        \u001b[0m\n",
       "       │\u001b[90m String15     \u001b[0m\u001b[90m String31          \u001b[0m\n",
       "───────┼─────────────────────────────────\n",
       "     1 │ 11th          Machine-op-inspct\n",
       "     2 │ HS-grad       Farming-fishing\n",
       "     3 │ Assoc-acdm    Protective-serv\n",
       "     4 │ Some-college  Machine-op-inspct\n",
       "     5 │ Some-college  ?\n",
       "     6 │ 10th          Other-service\n",
       "     7 │ HS-grad       ?\n",
       "     8 │ Prof-school   Prof-specialty\n",
       "     9 │ Some-college  Other-service\n",
       "    10 │ 7th-8th       Craft-repair\n",
       "    11 │ HS-grad       Machine-op-inspct\n",
       "   ⋮   │      ⋮                ⋮\n",
       " 48833 │ 10th          Handlers-cleaners\n",
       " 48834 │ Assoc-voc     Sales\n",
       " 48835 │ Masters       Tech-support\n",
       " 48836 │ Masters       Exec-managerial\n",
       " 48837 │ Some-college  Protective-serv\n",
       " 48838 │ Assoc-acdm    Tech-support\n",
       " 48839 │ HS-grad       Machine-op-inspct\n",
       " 48840 │ HS-grad       Adm-clerical\n",
       " 48841 │ HS-grad       Adm-clerical\n",
       " 48842 │ HS-grad       Exec-managerial\n",
       "\u001b[36m                       48821 rows omitted\u001b[0m"
      ]
     },
     "execution_count": 71,
     "metadata": {},
     "output_type": "execute_result"
    }
   ],
   "source": [
    "df[:,[:education, :occupation]]"
   ]
  },
  {
   "cell_type": "code",
   "execution_count": 72,
   "id": "55659abf-2b75-46e7-87bc-61a5b273151b",
   "metadata": {},
   "outputs": [
    {
     "data": {
      "text/html": [
       "<div><div style = \"float: left;\"><span>48842×2 DataFrame</span></div><div style = \"float: right;\"><span style = \"font-style: italic;\">48817 rows omitted</span></div><div style = \"clear: both;\"></div></div><div class = \"data-frame\" style = \"overflow-x: scroll;\"><table class = \"data-frame\" style = \"margin-bottom: 6px;\"><thead><tr class = \"header\"><th class = \"rowNumber\" style = \"font-weight: bold; text-align: right;\">Row</th><th style = \"text-align: left;\">education</th><th style = \"text-align: left;\">occupation</th></tr><tr class = \"subheader headerLastRow\"><th class = \"rowNumber\" style = \"font-weight: bold; text-align: right;\"></th><th title = \"String15\" style = \"text-align: left;\">String15</th><th title = \"String31\" style = \"text-align: left;\">String31</th></tr></thead><tbody><tr><td class = \"rowNumber\" style = \"font-weight: bold; text-align: right;\">1</td><td style = \"text-align: left;\">11th</td><td style = \"text-align: left;\">Machine-op-inspct</td></tr><tr><td class = \"rowNumber\" style = \"font-weight: bold; text-align: right;\">2</td><td style = \"text-align: left;\">HS-grad</td><td style = \"text-align: left;\">Farming-fishing</td></tr><tr><td class = \"rowNumber\" style = \"font-weight: bold; text-align: right;\">3</td><td style = \"text-align: left;\">Assoc-acdm</td><td style = \"text-align: left;\">Protective-serv</td></tr><tr><td class = \"rowNumber\" style = \"font-weight: bold; text-align: right;\">4</td><td style = \"text-align: left;\">Some-college</td><td style = \"text-align: left;\">Machine-op-inspct</td></tr><tr><td class = \"rowNumber\" style = \"font-weight: bold; text-align: right;\">5</td><td style = \"text-align: left;\">Some-college</td><td style = \"text-align: left;\">?</td></tr><tr><td class = \"rowNumber\" style = \"font-weight: bold; text-align: right;\">6</td><td style = \"text-align: left;\">10th</td><td style = \"text-align: left;\">Other-service</td></tr><tr><td class = \"rowNumber\" style = \"font-weight: bold; text-align: right;\">7</td><td style = \"text-align: left;\">HS-grad</td><td style = \"text-align: left;\">?</td></tr><tr><td class = \"rowNumber\" style = \"font-weight: bold; text-align: right;\">8</td><td style = \"text-align: left;\">Prof-school</td><td style = \"text-align: left;\">Prof-specialty</td></tr><tr><td class = \"rowNumber\" style = \"font-weight: bold; text-align: right;\">9</td><td style = \"text-align: left;\">Some-college</td><td style = \"text-align: left;\">Other-service</td></tr><tr><td class = \"rowNumber\" style = \"font-weight: bold; text-align: right;\">10</td><td style = \"text-align: left;\">7th-8th</td><td style = \"text-align: left;\">Craft-repair</td></tr><tr><td class = \"rowNumber\" style = \"font-weight: bold; text-align: right;\">11</td><td style = \"text-align: left;\">HS-grad</td><td style = \"text-align: left;\">Machine-op-inspct</td></tr><tr><td class = \"rowNumber\" style = \"font-weight: bold; text-align: right;\">12</td><td style = \"text-align: left;\">Bachelors</td><td style = \"text-align: left;\">Adm-clerical</td></tr><tr><td class = \"rowNumber\" style = \"font-weight: bold; text-align: right;\">13</td><td style = \"text-align: left;\">HS-grad</td><td style = \"text-align: left;\">Adm-clerical</td></tr><tr><td style = \"text-align: right;\">&vellip;</td><td style = \"text-align: right;\">&vellip;</td><td style = \"text-align: right;\">&vellip;</td></tr><tr><td class = \"rowNumber\" style = \"font-weight: bold; text-align: right;\">48831</td><td style = \"text-align: left;\">Some-college</td><td style = \"text-align: left;\">Adm-clerical</td></tr><tr><td class = \"rowNumber\" style = \"font-weight: bold; text-align: right;\">48832</td><td style = \"text-align: left;\">Some-college</td><td style = \"text-align: left;\">Craft-repair</td></tr><tr><td class = \"rowNumber\" style = \"font-weight: bold; text-align: right;\">48833</td><td style = \"text-align: left;\">10th</td><td style = \"text-align: left;\">Handlers-cleaners</td></tr><tr><td class = \"rowNumber\" style = \"font-weight: bold; text-align: right;\">48834</td><td style = \"text-align: left;\">Assoc-voc</td><td style = \"text-align: left;\">Sales</td></tr><tr><td class = \"rowNumber\" style = \"font-weight: bold; text-align: right;\">48835</td><td style = \"text-align: left;\">Masters</td><td style = \"text-align: left;\">Tech-support</td></tr><tr><td class = \"rowNumber\" style = \"font-weight: bold; text-align: right;\">48836</td><td style = \"text-align: left;\">Masters</td><td style = \"text-align: left;\">Exec-managerial</td></tr><tr><td class = \"rowNumber\" style = \"font-weight: bold; text-align: right;\">48837</td><td style = \"text-align: left;\">Some-college</td><td style = \"text-align: left;\">Protective-serv</td></tr><tr><td class = \"rowNumber\" style = \"font-weight: bold; text-align: right;\">48838</td><td style = \"text-align: left;\">Assoc-acdm</td><td style = \"text-align: left;\">Tech-support</td></tr><tr><td class = \"rowNumber\" style = \"font-weight: bold; text-align: right;\">48839</td><td style = \"text-align: left;\">HS-grad</td><td style = \"text-align: left;\">Machine-op-inspct</td></tr><tr><td class = \"rowNumber\" style = \"font-weight: bold; text-align: right;\">48840</td><td style = \"text-align: left;\">HS-grad</td><td style = \"text-align: left;\">Adm-clerical</td></tr><tr><td class = \"rowNumber\" style = \"font-weight: bold; text-align: right;\">48841</td><td style = \"text-align: left;\">HS-grad</td><td style = \"text-align: left;\">Adm-clerical</td></tr><tr><td class = \"rowNumber\" style = \"font-weight: bold; text-align: right;\">48842</td><td style = \"text-align: left;\">HS-grad</td><td style = \"text-align: left;\">Exec-managerial</td></tr></tbody></table></div>"
      ],
      "text/latex": [
       "\\begin{tabular}{r|cc}\n",
       "\t& education & occupation\\\\\n",
       "\t\\hline\n",
       "\t& String15 & String31\\\\\n",
       "\t\\hline\n",
       "\t1 & 11th & Machine-op-inspct \\\\\n",
       "\t2 & HS-grad & Farming-fishing \\\\\n",
       "\t3 & Assoc-acdm & Protective-serv \\\\\n",
       "\t4 & Some-college & Machine-op-inspct \\\\\n",
       "\t5 & Some-college & ? \\\\\n",
       "\t6 & 10th & Other-service \\\\\n",
       "\t7 & HS-grad & ? \\\\\n",
       "\t8 & Prof-school & Prof-specialty \\\\\n",
       "\t9 & Some-college & Other-service \\\\\n",
       "\t10 & 7th-8th & Craft-repair \\\\\n",
       "\t11 & HS-grad & Machine-op-inspct \\\\\n",
       "\t12 & Bachelors & Adm-clerical \\\\\n",
       "\t13 & HS-grad & Adm-clerical \\\\\n",
       "\t14 & HS-grad & ? \\\\\n",
       "\t15 & HS-grad & Machine-op-inspct \\\\\n",
       "\t16 & Masters & Exec-managerial \\\\\n",
       "\t17 & Some-college & Other-service \\\\\n",
       "\t18 & HS-grad & Adm-clerical \\\\\n",
       "\t19 & HS-grad & Machine-op-inspct \\\\\n",
       "\t20 & Doctorate & Prof-specialty \\\\\n",
       "\t21 & Bachelors & Tech-support \\\\\n",
       "\t22 & Some-college & Other-service \\\\\n",
       "\t23 & 7th-8th & ? \\\\\n",
       "\t24 & Bachelors & Prof-specialty \\\\\n",
       "\t25 & Bachelors & Prof-specialty \\\\\n",
       "\t26 & HS-grad & Craft-repair \\\\\n",
       "\t27 & HS-grad & Adm-clerical \\\\\n",
       "\t28 & HS-grad & Machine-op-inspct \\\\\n",
       "\t29 & HS-grad & Craft-repair \\\\\n",
       "\t30 & Some-college & Prof-specialty \\\\\n",
       "\t$\\dots$ & $\\dots$ & $\\dots$ \\\\\n",
       "\\end{tabular}\n"
      ],
      "text/plain": [
       "\u001b[1m48842×2 DataFrame\u001b[0m\n",
       "\u001b[1m   Row \u001b[0m│\u001b[1m education    \u001b[0m\u001b[1m occupation        \u001b[0m\n",
       "       │\u001b[90m String15     \u001b[0m\u001b[90m String31          \u001b[0m\n",
       "───────┼─────────────────────────────────\n",
       "     1 │ 11th          Machine-op-inspct\n",
       "     2 │ HS-grad       Farming-fishing\n",
       "     3 │ Assoc-acdm    Protective-serv\n",
       "     4 │ Some-college  Machine-op-inspct\n",
       "     5 │ Some-college  ?\n",
       "     6 │ 10th          Other-service\n",
       "     7 │ HS-grad       ?\n",
       "     8 │ Prof-school   Prof-specialty\n",
       "     9 │ Some-college  Other-service\n",
       "    10 │ 7th-8th       Craft-repair\n",
       "    11 │ HS-grad       Machine-op-inspct\n",
       "   ⋮   │      ⋮                ⋮\n",
       " 48833 │ 10th          Handlers-cleaners\n",
       " 48834 │ Assoc-voc     Sales\n",
       " 48835 │ Masters       Tech-support\n",
       " 48836 │ Masters       Exec-managerial\n",
       " 48837 │ Some-college  Protective-serv\n",
       " 48838 │ Assoc-acdm    Tech-support\n",
       " 48839 │ HS-grad       Machine-op-inspct\n",
       " 48840 │ HS-grad       Adm-clerical\n",
       " 48841 │ HS-grad       Adm-clerical\n",
       " 48842 │ HS-grad       Exec-managerial\n",
       "\u001b[36m                       48821 rows omitted\u001b[0m"
      ]
     },
     "execution_count": 72,
     "metadata": {},
     "output_type": "execute_result"
    }
   ],
   "source": [
    "df[!,[:education, :occupation]]"
   ]
  },
  {
   "cell_type": "code",
   "execution_count": 73,
   "id": "5cbeb932-af72-44f4-9950-a8fab29f3414",
   "metadata": {},
   "outputs": [
    {
     "data": {
      "text/plain": [
       "15-element Vector{String}:\n",
       " \"age\"\n",
       " \"workclass\"\n",
       " \"fnlwgt\"\n",
       " \"education\"\n",
       " \"education_num\"\n",
       " \"marital_status\"\n",
       " \"occupation\"\n",
       " \"relationship\"\n",
       " \"race\"\n",
       " \"sex\"\n",
       " \"capital_gain\"\n",
       " \"capital_loss\"\n",
       " \"hours_per_week\"\n",
       " \"native_country\"\n",
       " \"class\""
      ]
     },
     "execution_count": 73,
     "metadata": {},
     "output_type": "execute_result"
    }
   ],
   "source": [
    "names(df)"
   ]
  },
  {
   "cell_type": "code",
   "execution_count": 74,
   "id": "dfa10be2-c08a-46f5-b6e0-7e2cb1134446",
   "metadata": {},
   "outputs": [
    {
     "data": {
      "text/plain": [
       "15-element Vector{Symbol}:\n",
       " :age\n",
       " :workclass\n",
       " :fnlwgt\n",
       " :education\n",
       " :education_num\n",
       " :marital_status\n",
       " :occupation\n",
       " :relationship\n",
       " :race\n",
       " :sex\n",
       " :capital_gain\n",
       " :capital_loss\n",
       " :hours_per_week\n",
       " :native_country\n",
       " :class"
      ]
     },
     "execution_count": 74,
     "metadata": {},
     "output_type": "execute_result"
    }
   ],
   "source": [
    "propertynames(df)"
   ]
  },
  {
   "cell_type": "code",
   "execution_count": 75,
   "id": "63b5b34d-77a3-4315-9edc-8497d99608e5",
   "metadata": {},
   "outputs": [
    {
     "data": {
      "text/plain": [
       "7"
      ]
     },
     "execution_count": 75,
     "metadata": {},
     "output_type": "execute_result"
    }
   ],
   "source": [
    "columnindex(df, \"occupation\")"
   ]
  },
  {
   "cell_type": "code",
   "execution_count": 76,
   "id": "c1611e80-ef86-4836-b32d-cb347d1ebfd7",
   "metadata": {},
   "outputs": [
    {
     "data": {
      "text/html": [
       "<div><div style = \"float: left;\"><span>48842×15 DataFrame</span></div><div style = \"float: right;\"><span style = \"font-style: italic;\">48817 rows omitted</span></div><div style = \"clear: both;\"></div></div><div class = \"data-frame\" style = \"overflow-x: scroll;\"><table class = \"data-frame\" style = \"margin-bottom: 6px;\"><thead><tr class = \"header\"><th class = \"rowNumber\" style = \"font-weight: bold; text-align: right;\">Row</th><th style = \"text-align: left;\">age</th><th style = \"text-align: left;\">workclass</th><th style = \"text-align: left;\">fnlwgt</th><th style = \"text-align: left;\">education</th><th style = \"text-align: left;\">education_num</th><th style = \"text-align: left;\">marital_status</th><th style = \"text-align: left;\">occupation</th><th style = \"text-align: left;\">relationship</th><th style = \"text-align: left;\">race</th><th style = \"text-align: left;\">sex</th><th style = \"text-align: left;\">capital_gain</th><th style = \"text-align: left;\">capital_loss</th><th style = \"text-align: left;\">hours_per_week</th><th style = \"text-align: left;\">native_country</th><th style = \"text-align: left;\">class</th></tr><tr class = \"subheader headerLastRow\"><th class = \"rowNumber\" style = \"font-weight: bold; text-align: right;\"></th><th title = \"Int64\" style = \"text-align: left;\">Int64</th><th title = \"String31\" style = \"text-align: left;\">String31</th><th title = \"Int64\" style = \"text-align: left;\">Int64</th><th title = \"String15\" style = \"text-align: left;\">String15</th><th title = \"Int64\" style = \"text-align: left;\">Int64</th><th title = \"String31\" style = \"text-align: left;\">String31</th><th title = \"String31\" style = \"text-align: left;\">String31</th><th title = \"String15\" style = \"text-align: left;\">String15</th><th title = \"String31\" style = \"text-align: left;\">String31</th><th title = \"String7\" style = \"text-align: left;\">String7</th><th title = \"Int64\" style = \"text-align: left;\">Int64</th><th title = \"Int64\" style = \"text-align: left;\">Int64</th><th title = \"Int64\" style = \"text-align: left;\">Int64</th><th title = \"String31\" style = \"text-align: left;\">String31</th><th title = \"String7\" style = \"text-align: left;\">String7</th></tr></thead><tbody><tr><td class = \"rowNumber\" style = \"font-weight: bold; text-align: right;\">1</td><td style = \"text-align: right;\">17</td><td style = \"text-align: left;\">Private</td><td style = \"text-align: right;\">269430</td><td style = \"text-align: left;\">10th</td><td style = \"text-align: right;\">6</td><td style = \"text-align: left;\">Never-married</td><td style = \"text-align: left;\">Machine-op-inspct</td><td style = \"text-align: left;\">Not-in-family</td><td style = \"text-align: left;\">White</td><td style = \"text-align: left;\">Male</td><td style = \"text-align: right;\">0</td><td style = \"text-align: right;\">0</td><td style = \"text-align: right;\">40</td><td style = \"text-align: left;\">United-States</td><td style = \"text-align: left;\">&lt;=50K</td></tr><tr><td class = \"rowNumber\" style = \"font-weight: bold; text-align: right;\">2</td><td style = \"text-align: right;\">17</td><td style = \"text-align: left;\">?</td><td style = \"text-align: right;\">165361</td><td style = \"text-align: left;\">10th</td><td style = \"text-align: right;\">6</td><td style = \"text-align: left;\">Never-married</td><td style = \"text-align: left;\">?</td><td style = \"text-align: left;\">Own-child</td><td style = \"text-align: left;\">White</td><td style = \"text-align: left;\">Male</td><td style = \"text-align: right;\">0</td><td style = \"text-align: right;\">0</td><td style = \"text-align: right;\">40</td><td style = \"text-align: left;\">United-States</td><td style = \"text-align: left;\">&lt;=50K</td></tr><tr><td class = \"rowNumber\" style = \"font-weight: bold; text-align: right;\">3</td><td style = \"text-align: right;\">17</td><td style = \"text-align: left;\">Private</td><td style = \"text-align: right;\">40299</td><td style = \"text-align: left;\">11th</td><td style = \"text-align: right;\">7</td><td style = \"text-align: left;\">Never-married</td><td style = \"text-align: left;\">Sales</td><td style = \"text-align: left;\">Own-child</td><td style = \"text-align: left;\">White</td><td style = \"text-align: left;\">Female</td><td style = \"text-align: right;\">0</td><td style = \"text-align: right;\">0</td><td style = \"text-align: right;\">25</td><td style = \"text-align: left;\">United-States</td><td style = \"text-align: left;\">&lt;=50K</td></tr><tr><td class = \"rowNumber\" style = \"font-weight: bold; text-align: right;\">4</td><td style = \"text-align: right;\">17</td><td style = \"text-align: left;\">Private</td><td style = \"text-align: right;\">190941</td><td style = \"text-align: left;\">10th</td><td style = \"text-align: right;\">6</td><td style = \"text-align: left;\">Never-married</td><td style = \"text-align: left;\">Sales</td><td style = \"text-align: left;\">Own-child</td><td style = \"text-align: left;\">White</td><td style = \"text-align: left;\">Female</td><td style = \"text-align: right;\">0</td><td style = \"text-align: right;\">0</td><td style = \"text-align: right;\">20</td><td style = \"text-align: left;\">United-States</td><td style = \"text-align: left;\">&lt;=50K</td></tr><tr><td class = \"rowNumber\" style = \"font-weight: bold; text-align: right;\">5</td><td style = \"text-align: right;\">17</td><td style = \"text-align: left;\">?</td><td style = \"text-align: right;\">143331</td><td style = \"text-align: left;\">11th</td><td style = \"text-align: right;\">7</td><td style = \"text-align: left;\">Never-married</td><td style = \"text-align: left;\">?</td><td style = \"text-align: left;\">Own-child</td><td style = \"text-align: left;\">White</td><td style = \"text-align: left;\">Male</td><td style = \"text-align: right;\">0</td><td style = \"text-align: right;\">0</td><td style = \"text-align: right;\">40</td><td style = \"text-align: left;\">United-States</td><td style = \"text-align: left;\">&lt;=50K</td></tr><tr><td class = \"rowNumber\" style = \"font-weight: bold; text-align: right;\">6</td><td style = \"text-align: right;\">17</td><td style = \"text-align: left;\">Private</td><td style = \"text-align: right;\">61838</td><td style = \"text-align: left;\">11th</td><td style = \"text-align: right;\">7</td><td style = \"text-align: left;\">Never-married</td><td style = \"text-align: left;\">Farming-fishing</td><td style = \"text-align: left;\">Own-child</td><td style = \"text-align: left;\">White</td><td style = \"text-align: left;\">Male</td><td style = \"text-align: right;\">0</td><td style = \"text-align: right;\">0</td><td style = \"text-align: right;\">40</td><td style = \"text-align: left;\">United-States</td><td style = \"text-align: left;\">&lt;=50K</td></tr><tr><td class = \"rowNumber\" style = \"font-weight: bold; text-align: right;\">7</td><td style = \"text-align: right;\">17</td><td style = \"text-align: left;\">Private</td><td style = \"text-align: right;\">28544</td><td style = \"text-align: left;\">11th</td><td style = \"text-align: right;\">7</td><td style = \"text-align: left;\">Never-married</td><td style = \"text-align: left;\">Sales</td><td style = \"text-align: left;\">Not-in-family</td><td style = \"text-align: left;\">White</td><td style = \"text-align: left;\">Female</td><td style = \"text-align: right;\">0</td><td style = \"text-align: right;\">0</td><td style = \"text-align: right;\">20</td><td style = \"text-align: left;\">United-States</td><td style = \"text-align: left;\">&lt;=50K</td></tr><tr><td class = \"rowNumber\" style = \"font-weight: bold; text-align: right;\">8</td><td style = \"text-align: right;\">17</td><td style = \"text-align: left;\">Private</td><td style = \"text-align: right;\">81010</td><td style = \"text-align: left;\">11th</td><td style = \"text-align: right;\">7</td><td style = \"text-align: left;\">Never-married</td><td style = \"text-align: left;\">Sales</td><td style = \"text-align: left;\">Own-child</td><td style = \"text-align: left;\">White</td><td style = \"text-align: left;\">Female</td><td style = \"text-align: right;\">0</td><td style = \"text-align: right;\">0</td><td style = \"text-align: right;\">20</td><td style = \"text-align: left;\">United-States</td><td style = \"text-align: left;\">&lt;=50K</td></tr><tr><td class = \"rowNumber\" style = \"font-weight: bold; text-align: right;\">9</td><td style = \"text-align: right;\">17</td><td style = \"text-align: left;\">Private</td><td style = \"text-align: right;\">310885</td><td style = \"text-align: left;\">7th-8th</td><td style = \"text-align: right;\">4</td><td style = \"text-align: left;\">Never-married</td><td style = \"text-align: left;\">Other-service</td><td style = \"text-align: left;\">Own-child</td><td style = \"text-align: left;\">White</td><td style = \"text-align: left;\">Male</td><td style = \"text-align: right;\">0</td><td style = \"text-align: right;\">0</td><td style = \"text-align: right;\">36</td><td style = \"text-align: left;\">Mexico</td><td style = \"text-align: left;\">&lt;=50K</td></tr><tr><td class = \"rowNumber\" style = \"font-weight: bold; text-align: right;\">10</td><td style = \"text-align: right;\">17</td><td style = \"text-align: left;\">Private</td><td style = \"text-align: right;\">129396</td><td style = \"text-align: left;\">11th</td><td style = \"text-align: right;\">7</td><td style = \"text-align: left;\">Never-married</td><td style = \"text-align: left;\">Sales</td><td style = \"text-align: left;\">Other-relative</td><td style = \"text-align: left;\">White</td><td style = \"text-align: left;\">Female</td><td style = \"text-align: right;\">0</td><td style = \"text-align: right;\">0</td><td style = \"text-align: right;\">26</td><td style = \"text-align: left;\">United-States</td><td style = \"text-align: left;\">&lt;=50K</td></tr><tr><td class = \"rowNumber\" style = \"font-weight: bold; text-align: right;\">11</td><td style = \"text-align: right;\">17</td><td style = \"text-align: left;\">Private</td><td style = \"text-align: right;\">272372</td><td style = \"text-align: left;\">11th</td><td style = \"text-align: right;\">7</td><td style = \"text-align: left;\">Never-married</td><td style = \"text-align: left;\">Adm-clerical</td><td style = \"text-align: left;\">Own-child</td><td style = \"text-align: left;\">White</td><td style = \"text-align: left;\">Female</td><td style = \"text-align: right;\">0</td><td style = \"text-align: right;\">0</td><td style = \"text-align: right;\">7</td><td style = \"text-align: left;\">United-States</td><td style = \"text-align: left;\">&lt;=50K</td></tr><tr><td class = \"rowNumber\" style = \"font-weight: bold; text-align: right;\">12</td><td style = \"text-align: right;\">17</td><td style = \"text-align: left;\">?</td><td style = \"text-align: right;\">99695</td><td style = \"text-align: left;\">10th</td><td style = \"text-align: right;\">6</td><td style = \"text-align: left;\">Never-married</td><td style = \"text-align: left;\">?</td><td style = \"text-align: left;\">Own-child</td><td style = \"text-align: left;\">White</td><td style = \"text-align: left;\">Female</td><td style = \"text-align: right;\">0</td><td style = \"text-align: right;\">0</td><td style = \"text-align: right;\">15</td><td style = \"text-align: left;\">United-States</td><td style = \"text-align: left;\">&lt;=50K</td></tr><tr><td class = \"rowNumber\" style = \"font-weight: bold; text-align: right;\">13</td><td style = \"text-align: right;\">17</td><td style = \"text-align: left;\">?</td><td style = \"text-align: right;\">347248</td><td style = \"text-align: left;\">10th</td><td style = \"text-align: right;\">6</td><td style = \"text-align: left;\">Never-married</td><td style = \"text-align: left;\">?</td><td style = \"text-align: left;\">Own-child</td><td style = \"text-align: left;\">White</td><td style = \"text-align: left;\">Female</td><td style = \"text-align: right;\">0</td><td style = \"text-align: right;\">0</td><td style = \"text-align: right;\">20</td><td style = \"text-align: left;\">United-States</td><td style = \"text-align: left;\">&lt;=50K</td></tr><tr><td style = \"text-align: right;\">&vellip;</td><td style = \"text-align: right;\">&vellip;</td><td style = \"text-align: right;\">&vellip;</td><td style = \"text-align: right;\">&vellip;</td><td style = \"text-align: right;\">&vellip;</td><td style = \"text-align: right;\">&vellip;</td><td style = \"text-align: right;\">&vellip;</td><td style = \"text-align: right;\">&vellip;</td><td style = \"text-align: right;\">&vellip;</td><td style = \"text-align: right;\">&vellip;</td><td style = \"text-align: right;\">&vellip;</td><td style = \"text-align: right;\">&vellip;</td><td style = \"text-align: right;\">&vellip;</td><td style = \"text-align: right;\">&vellip;</td><td style = \"text-align: right;\">&vellip;</td><td style = \"text-align: right;\">&vellip;</td></tr><tr><td class = \"rowNumber\" style = \"font-weight: bold; text-align: right;\">48831</td><td style = \"text-align: right;\">90</td><td style = \"text-align: left;\">Private</td><td style = \"text-align: right;\">84553</td><td style = \"text-align: left;\">HS-grad</td><td style = \"text-align: right;\">9</td><td style = \"text-align: left;\">Married-civ-spouse</td><td style = \"text-align: left;\">Machine-op-inspct</td><td style = \"text-align: left;\">Husband</td><td style = \"text-align: left;\">White</td><td style = \"text-align: left;\">Male</td><td style = \"text-align: right;\">0</td><td style = \"text-align: right;\">0</td><td style = \"text-align: right;\">40</td><td style = \"text-align: left;\">United-States</td><td style = \"text-align: left;\">&lt;=50K</td></tr><tr><td class = \"rowNumber\" style = \"font-weight: bold; text-align: right;\">48832</td><td style = \"text-align: right;\">90</td><td style = \"text-align: left;\">Private</td><td style = \"text-align: right;\">226968</td><td style = \"text-align: left;\">7th-8th</td><td style = \"text-align: right;\">4</td><td style = \"text-align: left;\">Married-civ-spouse</td><td style = \"text-align: left;\">Machine-op-inspct</td><td style = \"text-align: left;\">Husband</td><td style = \"text-align: left;\">White</td><td style = \"text-align: left;\">Male</td><td style = \"text-align: right;\">0</td><td style = \"text-align: right;\">0</td><td style = \"text-align: right;\">40</td><td style = \"text-align: left;\">United-States</td><td style = \"text-align: left;\">&lt;=50K</td></tr><tr><td class = \"rowNumber\" style = \"font-weight: bold; text-align: right;\">48833</td><td style = \"text-align: right;\">90</td><td style = \"text-align: left;\">Private</td><td style = \"text-align: right;\">206667</td><td style = \"text-align: left;\">Masters</td><td style = \"text-align: right;\">14</td><td style = \"text-align: left;\">Married-civ-spouse</td><td style = \"text-align: left;\">Prof-specialty</td><td style = \"text-align: left;\">Wife</td><td style = \"text-align: left;\">White</td><td style = \"text-align: left;\">Female</td><td style = \"text-align: right;\">0</td><td style = \"text-align: right;\">0</td><td style = \"text-align: right;\">40</td><td style = \"text-align: left;\">United-States</td><td style = \"text-align: left;\">&gt;50K</td></tr><tr><td class = \"rowNumber\" style = \"font-weight: bold; text-align: right;\">48834</td><td style = \"text-align: right;\">90</td><td style = \"text-align: left;\">Private</td><td style = \"text-align: right;\">52386</td><td style = \"text-align: left;\">Bachelors</td><td style = \"text-align: right;\">13</td><td style = \"text-align: left;\">Never-married</td><td style = \"text-align: left;\">Prof-specialty</td><td style = \"text-align: left;\">Not-in-family</td><td style = \"text-align: left;\">Asian-Pac-Islander</td><td style = \"text-align: left;\">Male</td><td style = \"text-align: right;\">0</td><td style = \"text-align: right;\">0</td><td style = \"text-align: right;\">40</td><td style = \"text-align: left;\">United-States</td><td style = \"text-align: left;\">&lt;=50K</td></tr><tr><td class = \"rowNumber\" style = \"font-weight: bold; text-align: right;\">48835</td><td style = \"text-align: right;\">90</td><td style = \"text-align: left;\">Self-emp-not-inc</td><td style = \"text-align: right;\">82628</td><td style = \"text-align: left;\">HS-grad</td><td style = \"text-align: right;\">9</td><td style = \"text-align: left;\">Never-married</td><td style = \"text-align: left;\">Exec-managerial</td><td style = \"text-align: left;\">Not-in-family</td><td style = \"text-align: left;\">White</td><td style = \"text-align: left;\">Male</td><td style = \"text-align: right;\">2964</td><td style = \"text-align: right;\">0</td><td style = \"text-align: right;\">12</td><td style = \"text-align: left;\">United-States</td><td style = \"text-align: left;\">&lt;=50K</td></tr><tr><td class = \"rowNumber\" style = \"font-weight: bold; text-align: right;\">48836</td><td style = \"text-align: right;\">90</td><td style = \"text-align: left;\">?</td><td style = \"text-align: right;\">166343</td><td style = \"text-align: left;\">1st-4th</td><td style = \"text-align: right;\">2</td><td style = \"text-align: left;\">Widowed</td><td style = \"text-align: left;\">?</td><td style = \"text-align: left;\">Not-in-family</td><td style = \"text-align: left;\">Black</td><td style = \"text-align: left;\">Female</td><td style = \"text-align: right;\">0</td><td style = \"text-align: right;\">0</td><td style = \"text-align: right;\">40</td><td style = \"text-align: left;\">United-States</td><td style = \"text-align: left;\">&lt;=50K</td></tr><tr><td class = \"rowNumber\" style = \"font-weight: bold; text-align: right;\">48837</td><td style = \"text-align: right;\">90</td><td style = \"text-align: left;\">?</td><td style = \"text-align: right;\">175444</td><td style = \"text-align: left;\">7th-8th</td><td style = \"text-align: right;\">4</td><td style = \"text-align: left;\">Separated</td><td style = \"text-align: left;\">?</td><td style = \"text-align: left;\">Not-in-family</td><td style = \"text-align: left;\">White</td><td style = \"text-align: left;\">Female</td><td style = \"text-align: right;\">0</td><td style = \"text-align: right;\">0</td><td style = \"text-align: right;\">15</td><td style = \"text-align: left;\">United-States</td><td style = \"text-align: left;\">&lt;=50K</td></tr><tr><td class = \"rowNumber\" style = \"font-weight: bold; text-align: right;\">48838</td><td style = \"text-align: right;\">90</td><td style = \"text-align: left;\">Federal-gov</td><td style = \"text-align: right;\">195433</td><td style = \"text-align: left;\">HS-grad</td><td style = \"text-align: right;\">9</td><td style = \"text-align: left;\">Married-civ-spouse</td><td style = \"text-align: left;\">Craft-repair</td><td style = \"text-align: left;\">Husband</td><td style = \"text-align: left;\">White</td><td style = \"text-align: left;\">Male</td><td style = \"text-align: right;\">0</td><td style = \"text-align: right;\">0</td><td style = \"text-align: right;\">30</td><td style = \"text-align: left;\">United-States</td><td style = \"text-align: left;\">&lt;=50K</td></tr><tr><td class = \"rowNumber\" style = \"font-weight: bold; text-align: right;\">48839</td><td style = \"text-align: right;\">90</td><td style = \"text-align: left;\">Private</td><td style = \"text-align: right;\">47929</td><td style = \"text-align: left;\">HS-grad</td><td style = \"text-align: right;\">9</td><td style = \"text-align: left;\">Married-civ-spouse</td><td style = \"text-align: left;\">Machine-op-inspct</td><td style = \"text-align: left;\">Husband</td><td style = \"text-align: left;\">White</td><td style = \"text-align: left;\">Male</td><td style = \"text-align: right;\">0</td><td style = \"text-align: right;\">0</td><td style = \"text-align: right;\">40</td><td style = \"text-align: left;\">United-States</td><td style = \"text-align: left;\">&lt;=50K</td></tr><tr><td class = \"rowNumber\" style = \"font-weight: bold; text-align: right;\">48840</td><td style = \"text-align: right;\">90</td><td style = \"text-align: left;\">?</td><td style = \"text-align: right;\">313986</td><td style = \"text-align: left;\">HS-grad</td><td style = \"text-align: right;\">9</td><td style = \"text-align: left;\">Married-civ-spouse</td><td style = \"text-align: left;\">?</td><td style = \"text-align: left;\">Husband</td><td style = \"text-align: left;\">White</td><td style = \"text-align: left;\">Male</td><td style = \"text-align: right;\">0</td><td style = \"text-align: right;\">0</td><td style = \"text-align: right;\">40</td><td style = \"text-align: left;\">United-States</td><td style = \"text-align: left;\">&gt;50K</td></tr><tr><td class = \"rowNumber\" style = \"font-weight: bold; text-align: right;\">48841</td><td style = \"text-align: right;\">90</td><td style = \"text-align: left;\">Private</td><td style = \"text-align: right;\">313749</td><td style = \"text-align: left;\">HS-grad</td><td style = \"text-align: right;\">9</td><td style = \"text-align: left;\">Widowed</td><td style = \"text-align: left;\">Adm-clerical</td><td style = \"text-align: left;\">Unmarried</td><td style = \"text-align: left;\">White</td><td style = \"text-align: left;\">Female</td><td style = \"text-align: right;\">0</td><td style = \"text-align: right;\">0</td><td style = \"text-align: right;\">25</td><td style = \"text-align: left;\">United-States</td><td style = \"text-align: left;\">&lt;=50K</td></tr><tr><td class = \"rowNumber\" style = \"font-weight: bold; text-align: right;\">48842</td><td style = \"text-align: right;\">90</td><td style = \"text-align: left;\">Local-gov</td><td style = \"text-align: right;\">214594</td><td style = \"text-align: left;\">7th-8th</td><td style = \"text-align: right;\">4</td><td style = \"text-align: left;\">Married-civ-spouse</td><td style = \"text-align: left;\">Protective-serv</td><td style = \"text-align: left;\">Husband</td><td style = \"text-align: left;\">White</td><td style = \"text-align: left;\">Male</td><td style = \"text-align: right;\">2653</td><td style = \"text-align: right;\">0</td><td style = \"text-align: right;\">40</td><td style = \"text-align: left;\">United-States</td><td style = \"text-align: left;\">&lt;=50K</td></tr></tbody></table></div>"
      ],
      "text/latex": [
       "\\begin{tabular}{r|cccccccc}\n",
       "\t& age & workclass & fnlwgt & education & education\\_num & marital\\_status & occupation & \\\\\n",
       "\t\\hline\n",
       "\t& Int64 & String31 & Int64 & String15 & Int64 & String31 & String31 & \\\\\n",
       "\t\\hline\n",
       "\t1 & 17 & Private & 269430 & 10th & 6 & Never-married & Machine-op-inspct & $\\dots$ \\\\\n",
       "\t2 & 17 & ? & 165361 & 10th & 6 & Never-married & ? & $\\dots$ \\\\\n",
       "\t3 & 17 & Private & 40299 & 11th & 7 & Never-married & Sales & $\\dots$ \\\\\n",
       "\t4 & 17 & Private & 190941 & 10th & 6 & Never-married & Sales & $\\dots$ \\\\\n",
       "\t5 & 17 & ? & 143331 & 11th & 7 & Never-married & ? & $\\dots$ \\\\\n",
       "\t6 & 17 & Private & 61838 & 11th & 7 & Never-married & Farming-fishing & $\\dots$ \\\\\n",
       "\t7 & 17 & Private & 28544 & 11th & 7 & Never-married & Sales & $\\dots$ \\\\\n",
       "\t8 & 17 & Private & 81010 & 11th & 7 & Never-married & Sales & $\\dots$ \\\\\n",
       "\t9 & 17 & Private & 310885 & 7th-8th & 4 & Never-married & Other-service & $\\dots$ \\\\\n",
       "\t10 & 17 & Private & 129396 & 11th & 7 & Never-married & Sales & $\\dots$ \\\\\n",
       "\t11 & 17 & Private & 272372 & 11th & 7 & Never-married & Adm-clerical & $\\dots$ \\\\\n",
       "\t12 & 17 & ? & 99695 & 10th & 6 & Never-married & ? & $\\dots$ \\\\\n",
       "\t13 & 17 & ? & 347248 & 10th & 6 & Never-married & ? & $\\dots$ \\\\\n",
       "\t14 & 17 & Private & 173740 & 10th & 6 & Never-married & Sales & $\\dots$ \\\\\n",
       "\t15 & 17 & Private & 242605 & 10th & 6 & Never-married & Handlers-cleaners & $\\dots$ \\\\\n",
       "\t16 & 17 & Private & 138507 & 10th & 6 & Never-married & Handlers-cleaners & $\\dots$ \\\\\n",
       "\t17 & 17 & Private & 408012 & 12th & 8 & Never-married & Sales & $\\dots$ \\\\\n",
       "\t18 & 17 & ? & 94492 & 10th & 6 & Never-married & ? & $\\dots$ \\\\\n",
       "\t19 & 17 & Private & 162205 & 10th & 6 & Never-married & Handlers-cleaners & $\\dots$ \\\\\n",
       "\t20 & 17 & Private & 36801 & 10th & 6 & Never-married & Other-service & $\\dots$ \\\\\n",
       "\t21 & 17 & Private & 91141 & 10th & 6 & Never-married & Sales & $\\dots$ \\\\\n",
       "\t22 & 17 & Private & 41865 & HS-grad & 9 & Never-married & Adm-clerical & $\\dots$ \\\\\n",
       "\t23 & 17 & Private & 175109 & 11th & 7 & Never-married & Other-service & $\\dots$ \\\\\n",
       "\t24 & 17 & Private & 286422 & 10th & 6 & Never-married & Handlers-cleaners & $\\dots$ \\\\\n",
       "\t25 & 17 & Private & 74706 & 11th & 7 & Never-married & Priv-house-serv & $\\dots$ \\\\\n",
       "\t26 & 17 & Private & 266497 & 9th & 5 & Never-married & Handlers-cleaners & $\\dots$ \\\\\n",
       "\t27 & 17 & Private & 355850 & 11th & 7 & Never-married & Transport-moving & $\\dots$ \\\\\n",
       "\t28 & 17 & Private & 247580 & 12th & 8 & Never-married & Handlers-cleaners & $\\dots$ \\\\\n",
       "\t29 & 17 & Private & 116267 & 12th & 8 & Never-married & Craft-repair & $\\dots$ \\\\\n",
       "\t30 & 17 & Local-gov & 292285 & 11th & 7 & Never-married & Prof-specialty & $\\dots$ \\\\\n",
       "\t$\\dots$ & $\\dots$ & $\\dots$ & $\\dots$ & $\\dots$ & $\\dots$ & $\\dots$ & $\\dots$ &  \\\\\n",
       "\\end{tabular}\n"
      ],
      "text/plain": [
       "\u001b[1m48842×15 DataFrame\u001b[0m\n",
       "\u001b[1m   Row \u001b[0m│\u001b[1m age   \u001b[0m\u001b[1m workclass        \u001b[0m\u001b[1m fnlwgt \u001b[0m\u001b[1m education    \u001b[0m\u001b[1m education_num \u001b[0m\u001b[1m marital\u001b[0m ⋯\n",
       "       │\u001b[90m Int64 \u001b[0m\u001b[90m String31         \u001b[0m\u001b[90m Int64  \u001b[0m\u001b[90m String15     \u001b[0m\u001b[90m Int64         \u001b[0m\u001b[90m String3\u001b[0m ⋯\n",
       "───────┼────────────────────────────────────────────────────────────────────────\n",
       "     1 │    17  Private           269430  10th                      6  Never-m ⋯\n",
       "     2 │    17  ?                 165361  10th                      6  Never-m\n",
       "     3 │    17  Private            40299  11th                      7  Never-m\n",
       "     4 │    17  Private           190941  10th                      6  Never-m\n",
       "     5 │    17  ?                 143331  11th                      7  Never-m ⋯\n",
       "     6 │    17  Private            61838  11th                      7  Never-m\n",
       "     7 │    17  Private            28544  11th                      7  Never-m\n",
       "     8 │    17  Private            81010  11th                      7  Never-m\n",
       "     9 │    17  Private           310885  7th-8th                   4  Never-m ⋯\n",
       "    10 │    17  Private           129396  11th                      7  Never-m\n",
       "    11 │    17  Private           272372  11th                      7  Never-m\n",
       "   ⋮   │   ⋮           ⋮            ⋮          ⋮              ⋮                ⋱\n",
       " 48833 │    90  Private           206667  Masters                  14  Married\n",
       " 48834 │    90  Private            52386  Bachelors                13  Never-m ⋯\n",
       " 48835 │    90  Self-emp-not-inc   82628  HS-grad                   9  Never-m\n",
       " 48836 │    90  ?                 166343  1st-4th                   2  Widowed\n",
       " 48837 │    90  ?                 175444  7th-8th                   4  Separat\n",
       " 48838 │    90  Federal-gov       195433  HS-grad                   9  Married ⋯\n",
       " 48839 │    90  Private            47929  HS-grad                   9  Married\n",
       " 48840 │    90  ?                 313986  HS-grad                   9  Married\n",
       " 48841 │    90  Private           313749  HS-grad                   9  Widowed\n",
       " 48842 │    90  Local-gov         214594  7th-8th                   4  Married ⋯\n",
       "\u001b[36m                                               10 columns and 48821 rows omitted\u001b[0m"
      ]
     },
     "execution_count": 76,
     "metadata": {},
     "output_type": "execute_result"
    }
   ],
   "source": [
    "sort(df, :age)"
   ]
  },
  {
   "cell_type": "code",
   "execution_count": 78,
   "id": "11944c67-6cd2-47ff-8a4b-59665707cea6",
   "metadata": {},
   "outputs": [
    {
     "data": {
      "text/html": [
       "<div><div style = \"float: left;\"><span>48842×15 DataFrame</span></div><div style = \"float: right;\"><span style = \"font-style: italic;\">48817 rows omitted</span></div><div style = \"clear: both;\"></div></div><div class = \"data-frame\" style = \"overflow-x: scroll;\"><table class = \"data-frame\" style = \"margin-bottom: 6px;\"><thead><tr class = \"header\"><th class = \"rowNumber\" style = \"font-weight: bold; text-align: right;\">Row</th><th style = \"text-align: left;\">age</th><th style = \"text-align: left;\">workclass</th><th style = \"text-align: left;\">fnlwgt</th><th style = \"text-align: left;\">education</th><th style = \"text-align: left;\">education_num</th><th style = \"text-align: left;\">marital_status</th><th style = \"text-align: left;\">occupation</th><th style = \"text-align: left;\">relationship</th><th style = \"text-align: left;\">race</th><th style = \"text-align: left;\">sex</th><th style = \"text-align: left;\">capital_gain</th><th style = \"text-align: left;\">capital_loss</th><th style = \"text-align: left;\">hours_per_week</th><th style = \"text-align: left;\">native_country</th><th style = \"text-align: left;\">class</th></tr><tr class = \"subheader headerLastRow\"><th class = \"rowNumber\" style = \"font-weight: bold; text-align: right;\"></th><th title = \"Int64\" style = \"text-align: left;\">Int64</th><th title = \"String31\" style = \"text-align: left;\">String31</th><th title = \"Int64\" style = \"text-align: left;\">Int64</th><th title = \"String15\" style = \"text-align: left;\">String15</th><th title = \"Int64\" style = \"text-align: left;\">Int64</th><th title = \"String31\" style = \"text-align: left;\">String31</th><th title = \"String31\" style = \"text-align: left;\">String31</th><th title = \"String15\" style = \"text-align: left;\">String15</th><th title = \"String31\" style = \"text-align: left;\">String31</th><th title = \"String7\" style = \"text-align: left;\">String7</th><th title = \"Int64\" style = \"text-align: left;\">Int64</th><th title = \"Int64\" style = \"text-align: left;\">Int64</th><th title = \"Int64\" style = \"text-align: left;\">Int64</th><th title = \"String31\" style = \"text-align: left;\">String31</th><th title = \"String7\" style = \"text-align: left;\">String7</th></tr></thead><tbody><tr><td class = \"rowNumber\" style = \"font-weight: bold; text-align: right;\">1</td><td style = \"text-align: right;\">90</td><td style = \"text-align: left;\">Private</td><td style = \"text-align: right;\">149069</td><td style = \"text-align: left;\">Assoc-acdm</td><td style = \"text-align: right;\">12</td><td style = \"text-align: left;\">Married-civ-spouse</td><td style = \"text-align: left;\">Sales</td><td style = \"text-align: left;\">Husband</td><td style = \"text-align: left;\">White</td><td style = \"text-align: left;\">Male</td><td style = \"text-align: right;\">0</td><td style = \"text-align: right;\">1825</td><td style = \"text-align: right;\">50</td><td style = \"text-align: left;\">United-States</td><td style = \"text-align: left;\">&gt;50K</td></tr><tr><td class = \"rowNumber\" style = \"font-weight: bold; text-align: right;\">2</td><td style = \"text-align: right;\">90</td><td style = \"text-align: left;\">Self-emp-not-inc</td><td style = \"text-align: right;\">83601</td><td style = \"text-align: left;\">Prof-school</td><td style = \"text-align: right;\">15</td><td style = \"text-align: left;\">Widowed</td><td style = \"text-align: left;\">Prof-specialty</td><td style = \"text-align: left;\">Not-in-family</td><td style = \"text-align: left;\">White</td><td style = \"text-align: left;\">Male</td><td style = \"text-align: right;\">1086</td><td style = \"text-align: right;\">0</td><td style = \"text-align: right;\">60</td><td style = \"text-align: left;\">United-States</td><td style = \"text-align: left;\">&lt;=50K</td></tr><tr><td class = \"rowNumber\" style = \"font-weight: bold; text-align: right;\">3</td><td style = \"text-align: right;\">90</td><td style = \"text-align: left;\">Private</td><td style = \"text-align: right;\">250832</td><td style = \"text-align: left;\">HS-grad</td><td style = \"text-align: right;\">9</td><td style = \"text-align: left;\">Married-civ-spouse</td><td style = \"text-align: left;\">Transport-moving</td><td style = \"text-align: left;\">Husband</td><td style = \"text-align: left;\">White</td><td style = \"text-align: left;\">Male</td><td style = \"text-align: right;\">2414</td><td style = \"text-align: right;\">0</td><td style = \"text-align: right;\">40</td><td style = \"text-align: left;\">United-States</td><td style = \"text-align: left;\">&lt;=50K</td></tr><tr><td class = \"rowNumber\" style = \"font-weight: bold; text-align: right;\">4</td><td style = \"text-align: right;\">90</td><td style = \"text-align: left;\">Private</td><td style = \"text-align: right;\">227796</td><td style = \"text-align: left;\">Assoc-acdm</td><td style = \"text-align: right;\">12</td><td style = \"text-align: left;\">Never-married</td><td style = \"text-align: left;\">Exec-managerial</td><td style = \"text-align: left;\">Not-in-family</td><td style = \"text-align: left;\">White</td><td style = \"text-align: left;\">Male</td><td style = \"text-align: right;\">6097</td><td style = \"text-align: right;\">0</td><td style = \"text-align: right;\">45</td><td style = \"text-align: left;\">United-States</td><td style = \"text-align: left;\">&gt;50K</td></tr><tr><td class = \"rowNumber\" style = \"font-weight: bold; text-align: right;\">5</td><td style = \"text-align: right;\">90</td><td style = \"text-align: left;\">Self-emp-not-inc</td><td style = \"text-align: right;\">122348</td><td style = \"text-align: left;\">Prof-school</td><td style = \"text-align: right;\">15</td><td style = \"text-align: left;\">Married-civ-spouse</td><td style = \"text-align: left;\">Prof-specialty</td><td style = \"text-align: left;\">Husband</td><td style = \"text-align: left;\">White</td><td style = \"text-align: left;\">Male</td><td style = \"text-align: right;\">20051</td><td style = \"text-align: right;\">0</td><td style = \"text-align: right;\">45</td><td style = \"text-align: left;\">United-States</td><td style = \"text-align: left;\">&gt;50K</td></tr><tr><td class = \"rowNumber\" style = \"font-weight: bold; text-align: right;\">6</td><td style = \"text-align: right;\">90</td><td style = \"text-align: left;\">Federal-gov</td><td style = \"text-align: right;\">311184</td><td style = \"text-align: left;\">Masters</td><td style = \"text-align: right;\">14</td><td style = \"text-align: left;\">Divorced</td><td style = \"text-align: left;\">Prof-specialty</td><td style = \"text-align: left;\">Not-in-family</td><td style = \"text-align: left;\">White</td><td style = \"text-align: left;\">Male</td><td style = \"text-align: right;\">0</td><td style = \"text-align: right;\">0</td><td style = \"text-align: right;\">99</td><td style = \"text-align: left;\">United-States</td><td style = \"text-align: left;\">&lt;=50K</td></tr><tr><td class = \"rowNumber\" style = \"font-weight: bold; text-align: right;\">7</td><td style = \"text-align: right;\">90</td><td style = \"text-align: left;\">Private</td><td style = \"text-align: right;\">225063</td><td style = \"text-align: left;\">HS-grad</td><td style = \"text-align: right;\">9</td><td style = \"text-align: left;\">Married-civ-spouse</td><td style = \"text-align: left;\">Craft-repair</td><td style = \"text-align: left;\">Husband</td><td style = \"text-align: left;\">Asian-Pac-Islander</td><td style = \"text-align: left;\">Male</td><td style = \"text-align: right;\">0</td><td style = \"text-align: right;\">0</td><td style = \"text-align: right;\">40</td><td style = \"text-align: left;\">South</td><td style = \"text-align: left;\">&lt;=50K</td></tr><tr><td class = \"rowNumber\" style = \"font-weight: bold; text-align: right;\">8</td><td style = \"text-align: right;\">90</td><td style = \"text-align: left;\">Local-gov</td><td style = \"text-align: right;\">188242</td><td style = \"text-align: left;\">HS-grad</td><td style = \"text-align: right;\">9</td><td style = \"text-align: left;\">Never-married</td><td style = \"text-align: left;\">Craft-repair</td><td style = \"text-align: left;\">Own-child</td><td style = \"text-align: left;\">White</td><td style = \"text-align: left;\">Male</td><td style = \"text-align: right;\">11678</td><td style = \"text-align: right;\">0</td><td style = \"text-align: right;\">40</td><td style = \"text-align: left;\">United-States</td><td style = \"text-align: left;\">&gt;50K</td></tr><tr><td class = \"rowNumber\" style = \"font-weight: bold; text-align: right;\">9</td><td style = \"text-align: right;\">90</td><td style = \"text-align: left;\">?</td><td style = \"text-align: right;\">50746</td><td style = \"text-align: left;\">10th</td><td style = \"text-align: right;\">6</td><td style = \"text-align: left;\">Divorced</td><td style = \"text-align: left;\">?</td><td style = \"text-align: left;\">Not-in-family</td><td style = \"text-align: left;\">White</td><td style = \"text-align: left;\">Female</td><td style = \"text-align: right;\">0</td><td style = \"text-align: right;\">0</td><td style = \"text-align: right;\">7</td><td style = \"text-align: left;\">United-States</td><td style = \"text-align: left;\">&lt;=50K</td></tr><tr><td class = \"rowNumber\" style = \"font-weight: bold; text-align: right;\">10</td><td style = \"text-align: right;\">90</td><td style = \"text-align: left;\">Private</td><td style = \"text-align: right;\">347074</td><td style = \"text-align: left;\">Some-college</td><td style = \"text-align: right;\">10</td><td style = \"text-align: left;\">Never-married</td><td style = \"text-align: left;\">Adm-clerical</td><td style = \"text-align: left;\">Own-child</td><td style = \"text-align: left;\">White</td><td style = \"text-align: left;\">Female</td><td style = \"text-align: right;\">0</td><td style = \"text-align: right;\">1944</td><td style = \"text-align: right;\">12</td><td style = \"text-align: left;\">United-States</td><td style = \"text-align: left;\">&lt;=50K</td></tr><tr><td class = \"rowNumber\" style = \"font-weight: bold; text-align: right;\">11</td><td style = \"text-align: right;\">90</td><td style = \"text-align: left;\">Private</td><td style = \"text-align: right;\">272752</td><td style = \"text-align: left;\">Some-college</td><td style = \"text-align: right;\">10</td><td style = \"text-align: left;\">Never-married</td><td style = \"text-align: left;\">Other-service</td><td style = \"text-align: left;\">Own-child</td><td style = \"text-align: left;\">White</td><td style = \"text-align: left;\">Male</td><td style = \"text-align: right;\">0</td><td style = \"text-align: right;\">0</td><td style = \"text-align: right;\">10</td><td style = \"text-align: left;\">United-States</td><td style = \"text-align: left;\">&lt;=50K</td></tr><tr><td class = \"rowNumber\" style = \"font-weight: bold; text-align: right;\">12</td><td style = \"text-align: right;\">90</td><td style = \"text-align: left;\">Private</td><td style = \"text-align: right;\">197613</td><td style = \"text-align: left;\">HS-grad</td><td style = \"text-align: right;\">9</td><td style = \"text-align: left;\">Never-married</td><td style = \"text-align: left;\">Adm-clerical</td><td style = \"text-align: left;\">Not-in-family</td><td style = \"text-align: left;\">White</td><td style = \"text-align: left;\">Female</td><td style = \"text-align: right;\">0</td><td style = \"text-align: right;\">0</td><td style = \"text-align: right;\">40</td><td style = \"text-align: left;\">United-States</td><td style = \"text-align: left;\">&gt;50K</td></tr><tr><td class = \"rowNumber\" style = \"font-weight: bold; text-align: right;\">13</td><td style = \"text-align: right;\">90</td><td style = \"text-align: left;\">Private</td><td style = \"text-align: right;\">51744</td><td style = \"text-align: left;\">HS-grad</td><td style = \"text-align: right;\">9</td><td style = \"text-align: left;\">Never-married</td><td style = \"text-align: left;\">Other-service</td><td style = \"text-align: left;\">Not-in-family</td><td style = \"text-align: left;\">Black</td><td style = \"text-align: left;\">Male</td><td style = \"text-align: right;\">0</td><td style = \"text-align: right;\">2206</td><td style = \"text-align: right;\">40</td><td style = \"text-align: left;\">United-States</td><td style = \"text-align: left;\">&lt;=50K</td></tr><tr><td style = \"text-align: right;\">&vellip;</td><td style = \"text-align: right;\">&vellip;</td><td style = \"text-align: right;\">&vellip;</td><td style = \"text-align: right;\">&vellip;</td><td style = \"text-align: right;\">&vellip;</td><td style = \"text-align: right;\">&vellip;</td><td style = \"text-align: right;\">&vellip;</td><td style = \"text-align: right;\">&vellip;</td><td style = \"text-align: right;\">&vellip;</td><td style = \"text-align: right;\">&vellip;</td><td style = \"text-align: right;\">&vellip;</td><td style = \"text-align: right;\">&vellip;</td><td style = \"text-align: right;\">&vellip;</td><td style = \"text-align: right;\">&vellip;</td><td style = \"text-align: right;\">&vellip;</td><td style = \"text-align: right;\">&vellip;</td></tr><tr><td class = \"rowNumber\" style = \"font-weight: bold; text-align: right;\">48831</td><td style = \"text-align: right;\">17</td><td style = \"text-align: left;\">?</td><td style = \"text-align: right;\">41643</td><td style = \"text-align: left;\">11th</td><td style = \"text-align: right;\">7</td><td style = \"text-align: left;\">Never-married</td><td style = \"text-align: left;\">?</td><td style = \"text-align: left;\">Own-child</td><td style = \"text-align: left;\">White</td><td style = \"text-align: left;\">Female</td><td style = \"text-align: right;\">0</td><td style = \"text-align: right;\">0</td><td style = \"text-align: right;\">15</td><td style = \"text-align: left;\">United-States</td><td style = \"text-align: left;\">&lt;=50K</td></tr><tr><td class = \"rowNumber\" style = \"font-weight: bold; text-align: right;\">48832</td><td style = \"text-align: right;\">17</td><td style = \"text-align: left;\">?</td><td style = \"text-align: right;\">172145</td><td style = \"text-align: left;\">10th</td><td style = \"text-align: right;\">6</td><td style = \"text-align: left;\">Never-married</td><td style = \"text-align: left;\">?</td><td style = \"text-align: left;\">Own-child</td><td style = \"text-align: left;\">Black</td><td style = \"text-align: left;\">Female</td><td style = \"text-align: right;\">0</td><td style = \"text-align: right;\">0</td><td style = \"text-align: right;\">40</td><td style = \"text-align: left;\">United-States</td><td style = \"text-align: left;\">&lt;=50K</td></tr><tr><td class = \"rowNumber\" style = \"font-weight: bold; text-align: right;\">48833</td><td style = \"text-align: right;\">17</td><td style = \"text-align: left;\">Private</td><td style = \"text-align: right;\">277541</td><td style = \"text-align: left;\">11th</td><td style = \"text-align: right;\">7</td><td style = \"text-align: left;\">Never-married</td><td style = \"text-align: left;\">Sales</td><td style = \"text-align: left;\">Own-child</td><td style = \"text-align: left;\">White</td><td style = \"text-align: left;\">Male</td><td style = \"text-align: right;\">0</td><td style = \"text-align: right;\">0</td><td style = \"text-align: right;\">5</td><td style = \"text-align: left;\">United-States</td><td style = \"text-align: left;\">&lt;=50K</td></tr><tr><td class = \"rowNumber\" style = \"font-weight: bold; text-align: right;\">48834</td><td style = \"text-align: right;\">17</td><td style = \"text-align: left;\">Private</td><td style = \"text-align: right;\">375657</td><td style = \"text-align: left;\">11th</td><td style = \"text-align: right;\">7</td><td style = \"text-align: left;\">Never-married</td><td style = \"text-align: left;\">Handlers-cleaners</td><td style = \"text-align: left;\">Own-child</td><td style = \"text-align: left;\">White</td><td style = \"text-align: left;\">Male</td><td style = \"text-align: right;\">0</td><td style = \"text-align: right;\">0</td><td style = \"text-align: right;\">30</td><td style = \"text-align: left;\">United-States</td><td style = \"text-align: left;\">&lt;=50K</td></tr><tr><td class = \"rowNumber\" style = \"font-weight: bold; text-align: right;\">48835</td><td style = \"text-align: right;\">17</td><td style = \"text-align: left;\">Private</td><td style = \"text-align: right;\">309504</td><td style = \"text-align: left;\">10th</td><td style = \"text-align: right;\">6</td><td style = \"text-align: left;\">Never-married</td><td style = \"text-align: left;\">Sales</td><td style = \"text-align: left;\">Unmarried</td><td style = \"text-align: left;\">White</td><td style = \"text-align: left;\">Female</td><td style = \"text-align: right;\">0</td><td style = \"text-align: right;\">0</td><td style = \"text-align: right;\">24</td><td style = \"text-align: left;\">United-States</td><td style = \"text-align: left;\">&lt;=50K</td></tr><tr><td class = \"rowNumber\" style = \"font-weight: bold; text-align: right;\">48836</td><td style = \"text-align: right;\">17</td><td style = \"text-align: left;\">Private</td><td style = \"text-align: right;\">141590</td><td style = \"text-align: left;\">11th</td><td style = \"text-align: right;\">7</td><td style = \"text-align: left;\">Never-married</td><td style = \"text-align: left;\">Priv-house-serv</td><td style = \"text-align: left;\">Own-child</td><td style = \"text-align: left;\">White</td><td style = \"text-align: left;\">Female</td><td style = \"text-align: right;\">0</td><td style = \"text-align: right;\">0</td><td style = \"text-align: right;\">12</td><td style = \"text-align: left;\">United-States</td><td style = \"text-align: left;\">&lt;=50K</td></tr><tr><td class = \"rowNumber\" style = \"font-weight: bold; text-align: right;\">48837</td><td style = \"text-align: right;\">17</td><td style = \"text-align: left;\">?</td><td style = \"text-align: right;\">171461</td><td style = \"text-align: left;\">10th</td><td style = \"text-align: right;\">6</td><td style = \"text-align: left;\">Never-married</td><td style = \"text-align: left;\">?</td><td style = \"text-align: left;\">Own-child</td><td style = \"text-align: left;\">White</td><td style = \"text-align: left;\">Female</td><td style = \"text-align: right;\">0</td><td style = \"text-align: right;\">0</td><td style = \"text-align: right;\">20</td><td style = \"text-align: left;\">United-States</td><td style = \"text-align: left;\">&lt;=50K</td></tr><tr><td class = \"rowNumber\" style = \"font-weight: bold; text-align: right;\">48838</td><td style = \"text-align: right;\">17</td><td style = \"text-align: left;\">?</td><td style = \"text-align: right;\">256173</td><td style = \"text-align: left;\">10th</td><td style = \"text-align: right;\">6</td><td style = \"text-align: left;\">Never-married</td><td style = \"text-align: left;\">?</td><td style = \"text-align: left;\">Own-child</td><td style = \"text-align: left;\">White</td><td style = \"text-align: left;\">Female</td><td style = \"text-align: right;\">0</td><td style = \"text-align: right;\">0</td><td style = \"text-align: right;\">15</td><td style = \"text-align: left;\">United-States</td><td style = \"text-align: left;\">&lt;=50K</td></tr><tr><td class = \"rowNumber\" style = \"font-weight: bold; text-align: right;\">48839</td><td style = \"text-align: right;\">17</td><td style = \"text-align: left;\">Private</td><td style = \"text-align: right;\">214787</td><td style = \"text-align: left;\">12th</td><td style = \"text-align: right;\">8</td><td style = \"text-align: left;\">Never-married</td><td style = \"text-align: left;\">Adm-clerical</td><td style = \"text-align: left;\">Own-child</td><td style = \"text-align: left;\">White</td><td style = \"text-align: left;\">Female</td><td style = \"text-align: right;\">0</td><td style = \"text-align: right;\">0</td><td style = \"text-align: right;\">25</td><td style = \"text-align: left;\">United-States</td><td style = \"text-align: left;\">&lt;=50K</td></tr><tr><td class = \"rowNumber\" style = \"font-weight: bold; text-align: right;\">48840</td><td style = \"text-align: right;\">17</td><td style = \"text-align: left;\">Private</td><td style = \"text-align: right;\">24090</td><td style = \"text-align: left;\">HS-grad</td><td style = \"text-align: right;\">9</td><td style = \"text-align: left;\">Never-married</td><td style = \"text-align: left;\">Exec-managerial</td><td style = \"text-align: left;\">Own-child</td><td style = \"text-align: left;\">White</td><td style = \"text-align: left;\">Female</td><td style = \"text-align: right;\">0</td><td style = \"text-align: right;\">0</td><td style = \"text-align: right;\">35</td><td style = \"text-align: left;\">United-States</td><td style = \"text-align: left;\">&lt;=50K</td></tr><tr><td class = \"rowNumber\" style = \"font-weight: bold; text-align: right;\">48841</td><td style = \"text-align: right;\">17</td><td style = \"text-align: left;\">Private</td><td style = \"text-align: right;\">311907</td><td style = \"text-align: left;\">11th</td><td style = \"text-align: right;\">7</td><td style = \"text-align: left;\">Never-married</td><td style = \"text-align: left;\">Other-service</td><td style = \"text-align: left;\">Own-child</td><td style = \"text-align: left;\">White</td><td style = \"text-align: left;\">Male</td><td style = \"text-align: right;\">0</td><td style = \"text-align: right;\">0</td><td style = \"text-align: right;\">25</td><td style = \"text-align: left;\">United-States</td><td style = \"text-align: left;\">&lt;=50K</td></tr><tr><td class = \"rowNumber\" style = \"font-weight: bold; text-align: right;\">48842</td><td style = \"text-align: right;\">17</td><td style = \"text-align: left;\">Private</td><td style = \"text-align: right;\">117798</td><td style = \"text-align: left;\">10th</td><td style = \"text-align: right;\">6</td><td style = \"text-align: left;\">Never-married</td><td style = \"text-align: left;\">Other-service</td><td style = \"text-align: left;\">Own-child</td><td style = \"text-align: left;\">White</td><td style = \"text-align: left;\">Male</td><td style = \"text-align: right;\">0</td><td style = \"text-align: right;\">0</td><td style = \"text-align: right;\">20</td><td style = \"text-align: left;\">United-States</td><td style = \"text-align: left;\">&lt;=50K</td></tr></tbody></table></div>"
      ],
      "text/latex": [
       "\\begin{tabular}{r|ccccccc}\n",
       "\t& age & workclass & fnlwgt & education & education\\_num & marital\\_status & \\\\\n",
       "\t\\hline\n",
       "\t& Int64 & String31 & Int64 & String15 & Int64 & String31 & \\\\\n",
       "\t\\hline\n",
       "\t1 & 90 & Private & 149069 & Assoc-acdm & 12 & Married-civ-spouse & $\\dots$ \\\\\n",
       "\t2 & 90 & Self-emp-not-inc & 83601 & Prof-school & 15 & Widowed & $\\dots$ \\\\\n",
       "\t3 & 90 & Private & 250832 & HS-grad & 9 & Married-civ-spouse & $\\dots$ \\\\\n",
       "\t4 & 90 & Private & 227796 & Assoc-acdm & 12 & Never-married & $\\dots$ \\\\\n",
       "\t5 & 90 & Self-emp-not-inc & 122348 & Prof-school & 15 & Married-civ-spouse & $\\dots$ \\\\\n",
       "\t6 & 90 & Federal-gov & 311184 & Masters & 14 & Divorced & $\\dots$ \\\\\n",
       "\t7 & 90 & Private & 225063 & HS-grad & 9 & Married-civ-spouse & $\\dots$ \\\\\n",
       "\t8 & 90 & Local-gov & 188242 & HS-grad & 9 & Never-married & $\\dots$ \\\\\n",
       "\t9 & 90 & ? & 50746 & 10th & 6 & Divorced & $\\dots$ \\\\\n",
       "\t10 & 90 & Private & 347074 & Some-college & 10 & Never-married & $\\dots$ \\\\\n",
       "\t11 & 90 & Private & 272752 & Some-college & 10 & Never-married & $\\dots$ \\\\\n",
       "\t12 & 90 & Private & 197613 & HS-grad & 9 & Never-married & $\\dots$ \\\\\n",
       "\t13 & 90 & Private & 51744 & HS-grad & 9 & Never-married & $\\dots$ \\\\\n",
       "\t14 & 90 & Private & 137018 & HS-grad & 9 & Never-married & $\\dots$ \\\\\n",
       "\t15 & 90 & Private & 221832 & Bachelors & 13 & Married-civ-spouse & $\\dots$ \\\\\n",
       "\t16 & 90 & Private & 52386 & Some-college & 10 & Never-married & $\\dots$ \\\\\n",
       "\t17 & 90 & Private & 171956 & Some-college & 10 & Separated & $\\dots$ \\\\\n",
       "\t18 & 90 & Private & 313986 & 11th & 7 & Never-married & $\\dots$ \\\\\n",
       "\t19 & 90 & ? & 256514 & Bachelors & 13 & Widowed & $\\dots$ \\\\\n",
       "\t20 & 90 & Private & 52386 & Some-college & 10 & Never-married & $\\dots$ \\\\\n",
       "\t21 & 90 & Private & 141758 & 9th & 5 & Never-married & $\\dots$ \\\\\n",
       "\t22 & 90 & Local-gov & 227796 & Masters & 14 & Married-civ-spouse & $\\dots$ \\\\\n",
       "\t23 & 90 & Private & 51744 & Masters & 14 & Never-married & $\\dots$ \\\\\n",
       "\t24 & 90 & Self-emp-not-inc & 155981 & Bachelors & 13 & Married-civ-spouse & $\\dots$ \\\\\n",
       "\t25 & 90 & Private & 313986 & 11th & 7 & Married-civ-spouse & $\\dots$ \\\\\n",
       "\t26 & 90 & Private & 87372 & Prof-school & 15 & Married-civ-spouse & $\\dots$ \\\\\n",
       "\t27 & 90 & ? & 77053 & HS-grad & 9 & Widowed & $\\dots$ \\\\\n",
       "\t28 & 90 & Private & 46786 & Bachelors & 13 & Married-civ-spouse & $\\dots$ \\\\\n",
       "\t29 & 90 & Self-emp-not-inc & 282095 & Some-college & 10 & Married-civ-spouse & $\\dots$ \\\\\n",
       "\t30 & 90 & Private & 175491 & HS-grad & 9 & Married-civ-spouse & $\\dots$ \\\\\n",
       "\t$\\dots$ & $\\dots$ & $\\dots$ & $\\dots$ & $\\dots$ & $\\dots$ & $\\dots$ &  \\\\\n",
       "\\end{tabular}\n"
      ],
      "text/plain": [
       "\u001b[1m48842×15 DataFrame\u001b[0m\n",
       "\u001b[1m   Row \u001b[0m│\u001b[1m age   \u001b[0m\u001b[1m workclass        \u001b[0m\u001b[1m fnlwgt \u001b[0m\u001b[1m education    \u001b[0m\u001b[1m education_num \u001b[0m\u001b[1m marital\u001b[0m ⋯\n",
       "       │\u001b[90m Int64 \u001b[0m\u001b[90m String31         \u001b[0m\u001b[90m Int64  \u001b[0m\u001b[90m String15     \u001b[0m\u001b[90m Int64         \u001b[0m\u001b[90m String3\u001b[0m ⋯\n",
       "───────┼────────────────────────────────────────────────────────────────────────\n",
       "     1 │    90  Private           149069  Assoc-acdm               12  Married ⋯\n",
       "     2 │    90  Self-emp-not-inc   83601  Prof-school              15  Widowed\n",
       "     3 │    90  Private           250832  HS-grad                   9  Married\n",
       "     4 │    90  Private           227796  Assoc-acdm               12  Never-m\n",
       "     5 │    90  Self-emp-not-inc  122348  Prof-school              15  Married ⋯\n",
       "     6 │    90  Federal-gov       311184  Masters                  14  Divorce\n",
       "     7 │    90  Private           225063  HS-grad                   9  Married\n",
       "     8 │    90  Local-gov         188242  HS-grad                   9  Never-m\n",
       "     9 │    90  ?                  50746  10th                      6  Divorce ⋯\n",
       "    10 │    90  Private           347074  Some-college             10  Never-m\n",
       "    11 │    90  Private           272752  Some-college             10  Never-m\n",
       "   ⋮   │   ⋮           ⋮            ⋮          ⋮              ⋮                ⋱\n",
       " 48833 │    17  Private           277541  11th                      7  Never-m\n",
       " 48834 │    17  Private           375657  11th                      7  Never-m ⋯\n",
       " 48835 │    17  Private           309504  10th                      6  Never-m\n",
       " 48836 │    17  Private           141590  11th                      7  Never-m\n",
       " 48837 │    17  ?                 171461  10th                      6  Never-m\n",
       " 48838 │    17  ?                 256173  10th                      6  Never-m ⋯\n",
       " 48839 │    17  Private           214787  12th                      8  Never-m\n",
       " 48840 │    17  Private            24090  HS-grad                   9  Never-m\n",
       " 48841 │    17  Private           311907  11th                      7  Never-m\n",
       " 48842 │    17  Private           117798  10th                      6  Never-m ⋯\n",
       "\u001b[36m                                               10 columns and 48821 rows omitted\u001b[0m"
      ]
     },
     "execution_count": 78,
     "metadata": {},
     "output_type": "execute_result"
    }
   ],
   "source": [
    "sort(df, :age, rev=true)"
   ]
  },
  {
   "cell_type": "code",
   "execution_count": 81,
   "id": "68e6e70b-9b91-4979-bbf5-7901f88ca813",
   "metadata": {},
   "outputs": [
    {
     "data": {
      "text/html": [
       "<div><div style = \"float: left;\"><span>48842×15 DataFrame</span></div><div style = \"float: right;\"><span style = \"font-style: italic;\">48817 rows omitted</span></div><div style = \"clear: both;\"></div></div><div class = \"data-frame\" style = \"overflow-x: scroll;\"><table class = \"data-frame\" style = \"margin-bottom: 6px;\"><thead><tr class = \"header\"><th class = \"rowNumber\" style = \"font-weight: bold; text-align: right;\">Row</th><th style = \"text-align: left;\">age</th><th style = \"text-align: left;\">workclass</th><th style = \"text-align: left;\">fnlwgt</th><th style = \"text-align: left;\">education</th><th style = \"text-align: left;\">education_num</th><th style = \"text-align: left;\">marital_status</th><th style = \"text-align: left;\">occupation</th><th style = \"text-align: left;\">relationship</th><th style = \"text-align: left;\">race</th><th style = \"text-align: left;\">sex</th><th style = \"text-align: left;\">capital_gain</th><th style = \"text-align: left;\">capital_loss</th><th style = \"text-align: left;\">hours_per_week</th><th style = \"text-align: left;\">native_country</th><th style = \"text-align: left;\">class</th></tr><tr class = \"subheader headerLastRow\"><th class = \"rowNumber\" style = \"font-weight: bold; text-align: right;\"></th><th title = \"Int64\" style = \"text-align: left;\">Int64</th><th title = \"String31\" style = \"text-align: left;\">String31</th><th title = \"Int64\" style = \"text-align: left;\">Int64</th><th title = \"String15\" style = \"text-align: left;\">String15</th><th title = \"Int64\" style = \"text-align: left;\">Int64</th><th title = \"String31\" style = \"text-align: left;\">String31</th><th title = \"String31\" style = \"text-align: left;\">String31</th><th title = \"String15\" style = \"text-align: left;\">String15</th><th title = \"String31\" style = \"text-align: left;\">String31</th><th title = \"String7\" style = \"text-align: left;\">String7</th><th title = \"Int64\" style = \"text-align: left;\">Int64</th><th title = \"Int64\" style = \"text-align: left;\">Int64</th><th title = \"Int64\" style = \"text-align: left;\">Int64</th><th title = \"String31\" style = \"text-align: left;\">String31</th><th title = \"String7\" style = \"text-align: left;\">String7</th></tr></thead><tbody><tr><td class = \"rowNumber\" style = \"font-weight: bold; text-align: right;\">1</td><td style = \"text-align: right;\">17</td><td style = \"text-align: left;\">Private</td><td style = \"text-align: right;\">355850</td><td style = \"text-align: left;\">11th</td><td style = \"text-align: right;\">7</td><td style = \"text-align: left;\">Never-married</td><td style = \"text-align: left;\">Transport-moving</td><td style = \"text-align: left;\">Own-child</td><td style = \"text-align: left;\">White</td><td style = \"text-align: left;\">Male</td><td style = \"text-align: right;\">0</td><td style = \"text-align: right;\">1602</td><td style = \"text-align: right;\">15</td><td style = \"text-align: left;\">United-States</td><td style = \"text-align: left;\">&lt;=50K</td></tr><tr><td class = \"rowNumber\" style = \"font-weight: bold; text-align: right;\">2</td><td style = \"text-align: right;\">17</td><td style = \"text-align: left;\">Private</td><td style = \"text-align: right;\">188949</td><td style = \"text-align: left;\">11th</td><td style = \"text-align: right;\">7</td><td style = \"text-align: left;\">Never-married</td><td style = \"text-align: left;\">Transport-moving</td><td style = \"text-align: left;\">Not-in-family</td><td style = \"text-align: left;\">White</td><td style = \"text-align: left;\">Male</td><td style = \"text-align: right;\">0</td><td style = \"text-align: right;\">0</td><td style = \"text-align: right;\">40</td><td style = \"text-align: left;\">United-States</td><td style = \"text-align: left;\">&lt;=50K</td></tr><tr><td class = \"rowNumber\" style = \"font-weight: bold; text-align: right;\">3</td><td style = \"text-align: right;\">17</td><td style = \"text-align: left;\">Private</td><td style = \"text-align: right;\">121470</td><td style = \"text-align: left;\">12th</td><td style = \"text-align: right;\">8</td><td style = \"text-align: left;\">Never-married</td><td style = \"text-align: left;\">Transport-moving</td><td style = \"text-align: left;\">Own-child</td><td style = \"text-align: left;\">White</td><td style = \"text-align: left;\">Male</td><td style = \"text-align: right;\">0</td><td style = \"text-align: right;\">0</td><td style = \"text-align: right;\">10</td><td style = \"text-align: left;\">?</td><td style = \"text-align: left;\">&lt;=50K</td></tr><tr><td class = \"rowNumber\" style = \"font-weight: bold; text-align: right;\">4</td><td style = \"text-align: right;\">17</td><td style = \"text-align: left;\">Private</td><td style = \"text-align: right;\">327127</td><td style = \"text-align: left;\">11th</td><td style = \"text-align: right;\">7</td><td style = \"text-align: left;\">Never-married</td><td style = \"text-align: left;\">Transport-moving</td><td style = \"text-align: left;\">Own-child</td><td style = \"text-align: left;\">White</td><td style = \"text-align: left;\">Male</td><td style = \"text-align: right;\">0</td><td style = \"text-align: right;\">0</td><td style = \"text-align: right;\">20</td><td style = \"text-align: left;\">United-States</td><td style = \"text-align: left;\">&lt;=50K</td></tr><tr><td class = \"rowNumber\" style = \"font-weight: bold; text-align: right;\">5</td><td style = \"text-align: right;\">17</td><td style = \"text-align: left;\">Private</td><td style = \"text-align: right;\">176467</td><td style = \"text-align: left;\">9th</td><td style = \"text-align: right;\">5</td><td style = \"text-align: left;\">Never-married</td><td style = \"text-align: left;\">Transport-moving</td><td style = \"text-align: left;\">Not-in-family</td><td style = \"text-align: left;\">White</td><td style = \"text-align: left;\">Male</td><td style = \"text-align: right;\">0</td><td style = \"text-align: right;\">0</td><td style = \"text-align: right;\">20</td><td style = \"text-align: left;\">United-States</td><td style = \"text-align: left;\">&lt;=50K</td></tr><tr><td class = \"rowNumber\" style = \"font-weight: bold; text-align: right;\">6</td><td style = \"text-align: right;\">17</td><td style = \"text-align: left;\">Private</td><td style = \"text-align: right;\">132636</td><td style = \"text-align: left;\">11th</td><td style = \"text-align: right;\">7</td><td style = \"text-align: left;\">Never-married</td><td style = \"text-align: left;\">Transport-moving</td><td style = \"text-align: left;\">Own-child</td><td style = \"text-align: left;\">White</td><td style = \"text-align: left;\">Female</td><td style = \"text-align: right;\">0</td><td style = \"text-align: right;\">0</td><td style = \"text-align: right;\">16</td><td style = \"text-align: left;\">United-States</td><td style = \"text-align: left;\">&lt;=50K</td></tr><tr><td class = \"rowNumber\" style = \"font-weight: bold; text-align: right;\">7</td><td style = \"text-align: right;\">17</td><td style = \"text-align: left;\">Private</td><td style = \"text-align: right;\">186067</td><td style = \"text-align: left;\">10th</td><td style = \"text-align: right;\">6</td><td style = \"text-align: left;\">Never-married</td><td style = \"text-align: left;\">Tech-support</td><td style = \"text-align: left;\">Own-child</td><td style = \"text-align: left;\">White</td><td style = \"text-align: left;\">Male</td><td style = \"text-align: right;\">0</td><td style = \"text-align: right;\">0</td><td style = \"text-align: right;\">10</td><td style = \"text-align: left;\">United-States</td><td style = \"text-align: left;\">&lt;=50K</td></tr><tr><td class = \"rowNumber\" style = \"font-weight: bold; text-align: right;\">8</td><td style = \"text-align: right;\">17</td><td style = \"text-align: left;\">Private</td><td style = \"text-align: right;\">40299</td><td style = \"text-align: left;\">11th</td><td style = \"text-align: right;\">7</td><td style = \"text-align: left;\">Never-married</td><td style = \"text-align: left;\">Sales</td><td style = \"text-align: left;\">Own-child</td><td style = \"text-align: left;\">White</td><td style = \"text-align: left;\">Female</td><td style = \"text-align: right;\">0</td><td style = \"text-align: right;\">0</td><td style = \"text-align: right;\">25</td><td style = \"text-align: left;\">United-States</td><td style = \"text-align: left;\">&lt;=50K</td></tr><tr><td class = \"rowNumber\" style = \"font-weight: bold; text-align: right;\">9</td><td style = \"text-align: right;\">17</td><td style = \"text-align: left;\">Private</td><td style = \"text-align: right;\">190941</td><td style = \"text-align: left;\">10th</td><td style = \"text-align: right;\">6</td><td style = \"text-align: left;\">Never-married</td><td style = \"text-align: left;\">Sales</td><td style = \"text-align: left;\">Own-child</td><td style = \"text-align: left;\">White</td><td style = \"text-align: left;\">Female</td><td style = \"text-align: right;\">0</td><td style = \"text-align: right;\">0</td><td style = \"text-align: right;\">20</td><td style = \"text-align: left;\">United-States</td><td style = \"text-align: left;\">&lt;=50K</td></tr><tr><td class = \"rowNumber\" style = \"font-weight: bold; text-align: right;\">10</td><td style = \"text-align: right;\">17</td><td style = \"text-align: left;\">Private</td><td style = \"text-align: right;\">28544</td><td style = \"text-align: left;\">11th</td><td style = \"text-align: right;\">7</td><td style = \"text-align: left;\">Never-married</td><td style = \"text-align: left;\">Sales</td><td style = \"text-align: left;\">Not-in-family</td><td style = \"text-align: left;\">White</td><td style = \"text-align: left;\">Female</td><td style = \"text-align: right;\">0</td><td style = \"text-align: right;\">0</td><td style = \"text-align: right;\">20</td><td style = \"text-align: left;\">United-States</td><td style = \"text-align: left;\">&lt;=50K</td></tr><tr><td class = \"rowNumber\" style = \"font-weight: bold; text-align: right;\">11</td><td style = \"text-align: right;\">17</td><td style = \"text-align: left;\">Private</td><td style = \"text-align: right;\">81010</td><td style = \"text-align: left;\">11th</td><td style = \"text-align: right;\">7</td><td style = \"text-align: left;\">Never-married</td><td style = \"text-align: left;\">Sales</td><td style = \"text-align: left;\">Own-child</td><td style = \"text-align: left;\">White</td><td style = \"text-align: left;\">Female</td><td style = \"text-align: right;\">0</td><td style = \"text-align: right;\">0</td><td style = \"text-align: right;\">20</td><td style = \"text-align: left;\">United-States</td><td style = \"text-align: left;\">&lt;=50K</td></tr><tr><td class = \"rowNumber\" style = \"font-weight: bold; text-align: right;\">12</td><td style = \"text-align: right;\">17</td><td style = \"text-align: left;\">Private</td><td style = \"text-align: right;\">129396</td><td style = \"text-align: left;\">11th</td><td style = \"text-align: right;\">7</td><td style = \"text-align: left;\">Never-married</td><td style = \"text-align: left;\">Sales</td><td style = \"text-align: left;\">Other-relative</td><td style = \"text-align: left;\">White</td><td style = \"text-align: left;\">Female</td><td style = \"text-align: right;\">0</td><td style = \"text-align: right;\">0</td><td style = \"text-align: right;\">26</td><td style = \"text-align: left;\">United-States</td><td style = \"text-align: left;\">&lt;=50K</td></tr><tr><td class = \"rowNumber\" style = \"font-weight: bold; text-align: right;\">13</td><td style = \"text-align: right;\">17</td><td style = \"text-align: left;\">Private</td><td style = \"text-align: right;\">173740</td><td style = \"text-align: left;\">10th</td><td style = \"text-align: right;\">6</td><td style = \"text-align: left;\">Never-married</td><td style = \"text-align: left;\">Sales</td><td style = \"text-align: left;\">Not-in-family</td><td style = \"text-align: left;\">White</td><td style = \"text-align: left;\">Female</td><td style = \"text-align: right;\">0</td><td style = \"text-align: right;\">0</td><td style = \"text-align: right;\">15</td><td style = \"text-align: left;\">United-States</td><td style = \"text-align: left;\">&lt;=50K</td></tr><tr><td style = \"text-align: right;\">&vellip;</td><td style = \"text-align: right;\">&vellip;</td><td style = \"text-align: right;\">&vellip;</td><td style = \"text-align: right;\">&vellip;</td><td style = \"text-align: right;\">&vellip;</td><td style = \"text-align: right;\">&vellip;</td><td style = \"text-align: right;\">&vellip;</td><td style = \"text-align: right;\">&vellip;</td><td style = \"text-align: right;\">&vellip;</td><td style = \"text-align: right;\">&vellip;</td><td style = \"text-align: right;\">&vellip;</td><td style = \"text-align: right;\">&vellip;</td><td style = \"text-align: right;\">&vellip;</td><td style = \"text-align: right;\">&vellip;</td><td style = \"text-align: right;\">&vellip;</td><td style = \"text-align: right;\">&vellip;</td></tr><tr><td class = \"rowNumber\" style = \"font-weight: bold; text-align: right;\">48831</td><td style = \"text-align: right;\">90</td><td style = \"text-align: left;\">Private</td><td style = \"text-align: right;\">171956</td><td style = \"text-align: left;\">Some-college</td><td style = \"text-align: right;\">10</td><td style = \"text-align: left;\">Separated</td><td style = \"text-align: left;\">Adm-clerical</td><td style = \"text-align: left;\">Own-child</td><td style = \"text-align: left;\">White</td><td style = \"text-align: left;\">Female</td><td style = \"text-align: right;\">0</td><td style = \"text-align: right;\">0</td><td style = \"text-align: right;\">40</td><td style = \"text-align: left;\">Puerto-Rico</td><td style = \"text-align: left;\">&lt;=50K</td></tr><tr><td class = \"rowNumber\" style = \"font-weight: bold; text-align: right;\">48832</td><td style = \"text-align: right;\">90</td><td style = \"text-align: left;\">Private</td><td style = \"text-align: right;\">141758</td><td style = \"text-align: left;\">9th</td><td style = \"text-align: right;\">5</td><td style = \"text-align: left;\">Never-married</td><td style = \"text-align: left;\">Adm-clerical</td><td style = \"text-align: left;\">Not-in-family</td><td style = \"text-align: left;\">White</td><td style = \"text-align: left;\">Female</td><td style = \"text-align: right;\">0</td><td style = \"text-align: right;\">0</td><td style = \"text-align: right;\">40</td><td style = \"text-align: left;\">United-States</td><td style = \"text-align: left;\">&lt;=50K</td></tr><tr><td class = \"rowNumber\" style = \"font-weight: bold; text-align: right;\">48833</td><td style = \"text-align: right;\">90</td><td style = \"text-align: left;\">Local-gov</td><td style = \"text-align: right;\">187749</td><td style = \"text-align: left;\">Assoc-acdm</td><td style = \"text-align: right;\">12</td><td style = \"text-align: left;\">Married-civ-spouse</td><td style = \"text-align: left;\">Adm-clerical</td><td style = \"text-align: left;\">Husband</td><td style = \"text-align: left;\">Asian-Pac-Islander</td><td style = \"text-align: left;\">Male</td><td style = \"text-align: right;\">0</td><td style = \"text-align: right;\">0</td><td style = \"text-align: right;\">20</td><td style = \"text-align: left;\">Philippines</td><td style = \"text-align: left;\">&lt;=50K</td></tr><tr><td class = \"rowNumber\" style = \"font-weight: bold; text-align: right;\">48834</td><td style = \"text-align: right;\">90</td><td style = \"text-align: left;\">Private</td><td style = \"text-align: right;\">313749</td><td style = \"text-align: left;\">HS-grad</td><td style = \"text-align: right;\">9</td><td style = \"text-align: left;\">Widowed</td><td style = \"text-align: left;\">Adm-clerical</td><td style = \"text-align: left;\">Unmarried</td><td style = \"text-align: left;\">White</td><td style = \"text-align: left;\">Female</td><td style = \"text-align: right;\">0</td><td style = \"text-align: right;\">0</td><td style = \"text-align: right;\">25</td><td style = \"text-align: left;\">United-States</td><td style = \"text-align: left;\">&lt;=50K</td></tr><tr><td class = \"rowNumber\" style = \"font-weight: bold; text-align: right;\">48835</td><td style = \"text-align: right;\">90</td><td style = \"text-align: left;\">?</td><td style = \"text-align: right;\">50746</td><td style = \"text-align: left;\">10th</td><td style = \"text-align: right;\">6</td><td style = \"text-align: left;\">Divorced</td><td style = \"text-align: left;\">?</td><td style = \"text-align: left;\">Not-in-family</td><td style = \"text-align: left;\">White</td><td style = \"text-align: left;\">Female</td><td style = \"text-align: right;\">0</td><td style = \"text-align: right;\">0</td><td style = \"text-align: right;\">7</td><td style = \"text-align: left;\">United-States</td><td style = \"text-align: left;\">&lt;=50K</td></tr><tr><td class = \"rowNumber\" style = \"font-weight: bold; text-align: right;\">48836</td><td style = \"text-align: right;\">90</td><td style = \"text-align: left;\">?</td><td style = \"text-align: right;\">256514</td><td style = \"text-align: left;\">Bachelors</td><td style = \"text-align: right;\">13</td><td style = \"text-align: left;\">Widowed</td><td style = \"text-align: left;\">?</td><td style = \"text-align: left;\">Other-relative</td><td style = \"text-align: left;\">White</td><td style = \"text-align: left;\">Female</td><td style = \"text-align: right;\">991</td><td style = \"text-align: right;\">0</td><td style = \"text-align: right;\">10</td><td style = \"text-align: left;\">United-States</td><td style = \"text-align: left;\">&lt;=50K</td></tr><tr><td class = \"rowNumber\" style = \"font-weight: bold; text-align: right;\">48837</td><td style = \"text-align: right;\">90</td><td style = \"text-align: left;\">?</td><td style = \"text-align: right;\">77053</td><td style = \"text-align: left;\">HS-grad</td><td style = \"text-align: right;\">9</td><td style = \"text-align: left;\">Widowed</td><td style = \"text-align: left;\">?</td><td style = \"text-align: left;\">Not-in-family</td><td style = \"text-align: left;\">White</td><td style = \"text-align: left;\">Female</td><td style = \"text-align: right;\">0</td><td style = \"text-align: right;\">4356</td><td style = \"text-align: right;\">40</td><td style = \"text-align: left;\">United-States</td><td style = \"text-align: left;\">&lt;=50K</td></tr><tr><td class = \"rowNumber\" style = \"font-weight: bold; text-align: right;\">48838</td><td style = \"text-align: right;\">90</td><td style = \"text-align: left;\">?</td><td style = \"text-align: right;\">39824</td><td style = \"text-align: left;\">HS-grad</td><td style = \"text-align: right;\">9</td><td style = \"text-align: left;\">Widowed</td><td style = \"text-align: left;\">?</td><td style = \"text-align: left;\">Not-in-family</td><td style = \"text-align: left;\">White</td><td style = \"text-align: left;\">Male</td><td style = \"text-align: right;\">401</td><td style = \"text-align: right;\">0</td><td style = \"text-align: right;\">4</td><td style = \"text-align: left;\">United-States</td><td style = \"text-align: left;\">&lt;=50K</td></tr><tr><td class = \"rowNumber\" style = \"font-weight: bold; text-align: right;\">48839</td><td style = \"text-align: right;\">90</td><td style = \"text-align: left;\">?</td><td style = \"text-align: right;\">225063</td><td style = \"text-align: left;\">Some-college</td><td style = \"text-align: right;\">10</td><td style = \"text-align: left;\">Never-married</td><td style = \"text-align: left;\">?</td><td style = \"text-align: left;\">Own-child</td><td style = \"text-align: left;\">Asian-Pac-Islander</td><td style = \"text-align: left;\">Male</td><td style = \"text-align: right;\">0</td><td style = \"text-align: right;\">0</td><td style = \"text-align: right;\">10</td><td style = \"text-align: left;\">South</td><td style = \"text-align: left;\">&lt;=50K</td></tr><tr><td class = \"rowNumber\" style = \"font-weight: bold; text-align: right;\">48840</td><td style = \"text-align: right;\">90</td><td style = \"text-align: left;\">?</td><td style = \"text-align: right;\">166343</td><td style = \"text-align: left;\">1st-4th</td><td style = \"text-align: right;\">2</td><td style = \"text-align: left;\">Widowed</td><td style = \"text-align: left;\">?</td><td style = \"text-align: left;\">Not-in-family</td><td style = \"text-align: left;\">Black</td><td style = \"text-align: left;\">Female</td><td style = \"text-align: right;\">0</td><td style = \"text-align: right;\">0</td><td style = \"text-align: right;\">40</td><td style = \"text-align: left;\">United-States</td><td style = \"text-align: left;\">&lt;=50K</td></tr><tr><td class = \"rowNumber\" style = \"font-weight: bold; text-align: right;\">48841</td><td style = \"text-align: right;\">90</td><td style = \"text-align: left;\">?</td><td style = \"text-align: right;\">175444</td><td style = \"text-align: left;\">7th-8th</td><td style = \"text-align: right;\">4</td><td style = \"text-align: left;\">Separated</td><td style = \"text-align: left;\">?</td><td style = \"text-align: left;\">Not-in-family</td><td style = \"text-align: left;\">White</td><td style = \"text-align: left;\">Female</td><td style = \"text-align: right;\">0</td><td style = \"text-align: right;\">0</td><td style = \"text-align: right;\">15</td><td style = \"text-align: left;\">United-States</td><td style = \"text-align: left;\">&lt;=50K</td></tr><tr><td class = \"rowNumber\" style = \"font-weight: bold; text-align: right;\">48842</td><td style = \"text-align: right;\">90</td><td style = \"text-align: left;\">?</td><td style = \"text-align: right;\">313986</td><td style = \"text-align: left;\">HS-grad</td><td style = \"text-align: right;\">9</td><td style = \"text-align: left;\">Married-civ-spouse</td><td style = \"text-align: left;\">?</td><td style = \"text-align: left;\">Husband</td><td style = \"text-align: left;\">White</td><td style = \"text-align: left;\">Male</td><td style = \"text-align: right;\">0</td><td style = \"text-align: right;\">0</td><td style = \"text-align: right;\">40</td><td style = \"text-align: left;\">United-States</td><td style = \"text-align: left;\">&gt;50K</td></tr></tbody></table></div>"
      ],
      "text/latex": [
       "\\begin{tabular}{r|cccccccc}\n",
       "\t& age & workclass & fnlwgt & education & education\\_num & marital\\_status & occupation & \\\\\n",
       "\t\\hline\n",
       "\t& Int64 & String31 & Int64 & String15 & Int64 & String31 & String31 & \\\\\n",
       "\t\\hline\n",
       "\t1 & 17 & Private & 355850 & 11th & 7 & Never-married & Transport-moving & $\\dots$ \\\\\n",
       "\t2 & 17 & Private & 188949 & 11th & 7 & Never-married & Transport-moving & $\\dots$ \\\\\n",
       "\t3 & 17 & Private & 121470 & 12th & 8 & Never-married & Transport-moving & $\\dots$ \\\\\n",
       "\t4 & 17 & Private & 327127 & 11th & 7 & Never-married & Transport-moving & $\\dots$ \\\\\n",
       "\t5 & 17 & Private & 176467 & 9th & 5 & Never-married & Transport-moving & $\\dots$ \\\\\n",
       "\t6 & 17 & Private & 132636 & 11th & 7 & Never-married & Transport-moving & $\\dots$ \\\\\n",
       "\t7 & 17 & Private & 186067 & 10th & 6 & Never-married & Tech-support & $\\dots$ \\\\\n",
       "\t8 & 17 & Private & 40299 & 11th & 7 & Never-married & Sales & $\\dots$ \\\\\n",
       "\t9 & 17 & Private & 190941 & 10th & 6 & Never-married & Sales & $\\dots$ \\\\\n",
       "\t10 & 17 & Private & 28544 & 11th & 7 & Never-married & Sales & $\\dots$ \\\\\n",
       "\t11 & 17 & Private & 81010 & 11th & 7 & Never-married & Sales & $\\dots$ \\\\\n",
       "\t12 & 17 & Private & 129396 & 11th & 7 & Never-married & Sales & $\\dots$ \\\\\n",
       "\t13 & 17 & Private & 173740 & 10th & 6 & Never-married & Sales & $\\dots$ \\\\\n",
       "\t14 & 17 & Private & 408012 & 12th & 8 & Never-married & Sales & $\\dots$ \\\\\n",
       "\t15 & 17 & Private & 91141 & 10th & 6 & Never-married & Sales & $\\dots$ \\\\\n",
       "\t16 & 17 & Self-emp-not-inc & 226203 & 12th & 8 & Never-married & Sales & $\\dots$ \\\\\n",
       "\t17 & 17 & Private & 98209 & 11th & 7 & Never-married & Sales & $\\dots$ \\\\\n",
       "\t18 & 17 & Private & 171461 & 10th & 6 & Never-married & Sales & $\\dots$ \\\\\n",
       "\t19 & 17 & Private & 153021 & 12th & 8 & Never-married & Sales & $\\dots$ \\\\\n",
       "\t20 & 17 & Private & 91931 & 11th & 7 & Never-married & Sales & $\\dots$ \\\\\n",
       "\t21 & 17 & Private & 242871 & 10th & 6 & Never-married & Sales & $\\dots$ \\\\\n",
       "\t22 & 17 & Private & 125236 & 10th & 6 & Never-married & Sales & $\\dots$ \\\\\n",
       "\t23 & 17 & Private & 165018 & 10th & 6 & Never-married & Sales & $\\dots$ \\\\\n",
       "\t24 & 17 & Private & 93511 & 11th & 7 & Never-married & Sales & $\\dots$ \\\\\n",
       "\t25 & 17 & Private & 197186 & 10th & 6 & Never-married & Sales & $\\dots$ \\\\\n",
       "\t26 & 17 & Private & 118792 & 11th & 7 & Never-married & Sales & $\\dots$ \\\\\n",
       "\t27 & 17 & Private & 216137 & 9th & 5 & Never-married & Sales & $\\dots$ \\\\\n",
       "\t28 & 17 & Private & 354493 & 11th & 7 & Never-married & Sales & $\\dots$ \\\\\n",
       "\t29 & 17 & Private & 172548 & 9th & 5 & Never-married & Sales & $\\dots$ \\\\\n",
       "\t30 & 17 & Private & 98005 & 11th & 7 & Never-married & Sales & $\\dots$ \\\\\n",
       "\t$\\dots$ & $\\dots$ & $\\dots$ & $\\dots$ & $\\dots$ & $\\dots$ & $\\dots$ & $\\dots$ &  \\\\\n",
       "\\end{tabular}\n"
      ],
      "text/plain": [
       "\u001b[1m48842×15 DataFrame\u001b[0m\n",
       "\u001b[1m   Row \u001b[0m│\u001b[1m age   \u001b[0m\u001b[1m workclass \u001b[0m\u001b[1m fnlwgt \u001b[0m\u001b[1m education    \u001b[0m\u001b[1m education_num \u001b[0m\u001b[1m marital_status\u001b[0m ⋯\n",
       "       │\u001b[90m Int64 \u001b[0m\u001b[90m String31  \u001b[0m\u001b[90m Int64  \u001b[0m\u001b[90m String15     \u001b[0m\u001b[90m Int64         \u001b[0m\u001b[90m String31      \u001b[0m ⋯\n",
       "───────┼────────────────────────────────────────────────────────────────────────\n",
       "     1 │    17  Private    355850  11th                      7  Never-married  ⋯\n",
       "     2 │    17  Private    188949  11th                      7  Never-married\n",
       "     3 │    17  Private    121470  12th                      8  Never-married\n",
       "     4 │    17  Private    327127  11th                      7  Never-married\n",
       "     5 │    17  Private    176467  9th                       5  Never-married  ⋯\n",
       "     6 │    17  Private    132636  11th                      7  Never-married\n",
       "     7 │    17  Private    186067  10th                      6  Never-married\n",
       "     8 │    17  Private     40299  11th                      7  Never-married\n",
       "     9 │    17  Private    190941  10th                      6  Never-married  ⋯\n",
       "    10 │    17  Private     28544  11th                      7  Never-married\n",
       "    11 │    17  Private     81010  11th                      7  Never-married\n",
       "   ⋮   │   ⋮        ⋮        ⋮          ⋮              ⋮                ⋮      ⋱\n",
       " 48833 │    90  Local-gov  187749  Assoc-acdm               12  Married-civ-sp\n",
       " 48834 │    90  Private    313749  HS-grad                   9  Widowed        ⋯\n",
       " 48835 │    90  ?           50746  10th                      6  Divorced\n",
       " 48836 │    90  ?          256514  Bachelors                13  Widowed\n",
       " 48837 │    90  ?           77053  HS-grad                   9  Widowed\n",
       " 48838 │    90  ?           39824  HS-grad                   9  Widowed        ⋯\n",
       " 48839 │    90  ?          225063  Some-college             10  Never-married\n",
       " 48840 │    90  ?          166343  1st-4th                   2  Widowed\n",
       " 48841 │    90  ?          175444  7th-8th                   4  Separated\n",
       " 48842 │    90  ?          313986  HS-grad                   9  Married-civ-sp ⋯\n",
       "\u001b[36m                                               10 columns and 48821 rows omitted\u001b[0m"
      ]
     },
     "execution_count": 81,
     "metadata": {},
     "output_type": "execute_result"
    }
   ],
   "source": [
    "sort(df, [:age, order(:occupation, rev = true)])"
   ]
  },
  {
   "cell_type": "code",
   "execution_count": 84,
   "id": "d1a2b36f-4371-4125-914b-7baef9a58455",
   "metadata": {},
   "outputs": [
    {
     "data": {
      "text/html": [
       "<div><div style = \"float: left;\"><span>48842×1 DataFrame</span></div><div style = \"float: right;\"><span style = \"font-style: italic;\">48817 rows omitted</span></div><div style = \"clear: both;\"></div></div><div class = \"data-frame\" style = \"overflow-x: scroll;\"><table class = \"data-frame\" style = \"margin-bottom: 6px;\"><thead><tr class = \"header\"><th class = \"rowNumber\" style = \"font-weight: bold; text-align: right;\">Row</th><th style = \"text-align: left;\">fnlwgt_cumprod</th></tr><tr class = \"subheader headerLastRow\"><th class = \"rowNumber\" style = \"font-weight: bold; text-align: right;\"></th><th title = \"Int64\" style = \"text-align: left;\">Int64</th></tr></thead><tbody><tr><td class = \"rowNumber\" style = \"font-weight: bold; text-align: right;\">1</td><td style = \"text-align: right;\">226802</td></tr><tr><td class = \"rowNumber\" style = \"font-weight: bold; text-align: right;\">2</td><td style = \"text-align: right;\">20369994828</td></tr><tr><td class = \"rowNumber\" style = \"font-weight: bold; text-align: right;\">3</td><td style = \"text-align: right;\">6863690127289428</td></tr><tr><td class = \"rowNumber\" style = \"font-weight: bold; text-align: right;\">4</td><td style = \"text-align: right;\">-6397252145150131716</td></tr><tr><td class = \"rowNumber\" style = \"font-weight: bold; text-align: right;\">5</td><td style = \"text-align: right;\">-5866973019955609380</td></tr><tr><td class = \"rowNumber\" style = \"font-weight: bold; text-align: right;\">6</td><td style = \"text-align: right;\">-2925260038489718836</td></tr><tr><td class = \"rowNumber\" style = \"font-weight: bold; text-align: right;\">7</td><td style = \"text-align: right;\">-8852100549340734120</td></tr><tr><td class = \"rowNumber\" style = \"font-weight: bold; text-align: right;\">8</td><td style = \"text-align: right;\">-4192366588190054608</td></tr><tr><td class = \"rowNumber\" style = \"font-weight: bold; text-align: right;\">9</td><td style = \"text-align: right;\">5177052181352691088</td></tr><tr><td class = \"rowNumber\" style = \"font-weight: bold; text-align: right;\">10</td><td style = \"text-align: right;\">-436786692203993024</td></tr><tr><td class = \"rowNumber\" style = \"font-weight: bold; text-align: right;\">11</td><td style = \"text-align: right;\">8325590167992209792</td></tr><tr><td class = \"rowNumber\" style = \"font-weight: bold; text-align: right;\">12</td><td style = \"text-align: right;\">1332326308529895808</td></tr><tr><td class = \"rowNumber\" style = \"font-weight: bold; text-align: right;\">13</td><td style = \"text-align: right;\">1253380503745243264</td></tr><tr><td style = \"text-align: right;\">&vellip;</td><td style = \"text-align: right;\">&vellip;</td></tr><tr><td class = \"rowNumber\" style = \"font-weight: bold; text-align: right;\">48831</td><td style = \"text-align: right;\">0</td></tr><tr><td class = \"rowNumber\" style = \"font-weight: bold; text-align: right;\">48832</td><td style = \"text-align: right;\">0</td></tr><tr><td class = \"rowNumber\" style = \"font-weight: bold; text-align: right;\">48833</td><td style = \"text-align: right;\">0</td></tr><tr><td class = \"rowNumber\" style = \"font-weight: bold; text-align: right;\">48834</td><td style = \"text-align: right;\">0</td></tr><tr><td class = \"rowNumber\" style = \"font-weight: bold; text-align: right;\">48835</td><td style = \"text-align: right;\">0</td></tr><tr><td class = \"rowNumber\" style = \"font-weight: bold; text-align: right;\">48836</td><td style = \"text-align: right;\">0</td></tr><tr><td class = \"rowNumber\" style = \"font-weight: bold; text-align: right;\">48837</td><td style = \"text-align: right;\">0</td></tr><tr><td class = \"rowNumber\" style = \"font-weight: bold; text-align: right;\">48838</td><td style = \"text-align: right;\">0</td></tr><tr><td class = \"rowNumber\" style = \"font-weight: bold; text-align: right;\">48839</td><td style = \"text-align: right;\">0</td></tr><tr><td class = \"rowNumber\" style = \"font-weight: bold; text-align: right;\">48840</td><td style = \"text-align: right;\">0</td></tr><tr><td class = \"rowNumber\" style = \"font-weight: bold; text-align: right;\">48841</td><td style = \"text-align: right;\">0</td></tr><tr><td class = \"rowNumber\" style = \"font-weight: bold; text-align: right;\">48842</td><td style = \"text-align: right;\">0</td></tr></tbody></table></div>"
      ],
      "text/latex": [
       "\\begin{tabular}{r|c}\n",
       "\t& fnlwgt\\_cumprod\\\\\n",
       "\t\\hline\n",
       "\t& Int64\\\\\n",
       "\t\\hline\n",
       "\t1 & 226802 \\\\\n",
       "\t2 & 20369994828 \\\\\n",
       "\t3 & 6863690127289428 \\\\\n",
       "\t4 & -6397252145150131716 \\\\\n",
       "\t5 & -5866973019955609380 \\\\\n",
       "\t6 & -2925260038489718836 \\\\\n",
       "\t7 & -8852100549340734120 \\\\\n",
       "\t8 & -4192366588190054608 \\\\\n",
       "\t9 & 5177052181352691088 \\\\\n",
       "\t10 & -436786692203993024 \\\\\n",
       "\t11 & 8325590167992209792 \\\\\n",
       "\t12 & 1332326308529895808 \\\\\n",
       "\t13 & 1253380503745243264 \\\\\n",
       "\t14 & 5259548829047567232 \\\\\n",
       "\t15 & 1963057796407269888 \\\\\n",
       "\t16 & -7482939097235828224 \\\\\n",
       "\t17 & 4638355761900827648 \\\\\n",
       "\t18 & 1297228116763076608 \\\\\n",
       "\t19 & -1668252084508319744 \\\\\n",
       "\t20 & 3891209939906060288 \\\\\n",
       "\t21 & -5652638901643067392 \\\\\n",
       "\t22 & 8095707762865274880 \\\\\n",
       "\t23 & 5848916148971307008 \\\\\n",
       "\t24 & -5975399047971667968 \\\\\n",
       "\t25 & 3682912690504400896 \\\\\n",
       "\t26 & -3940030660379934720 \\\\\n",
       "\t27 & -5946707461888540672 \\\\\n",
       "\t28 & 7750221652646952960 \\\\\n",
       "\t29 & -5758481055891849216 \\\\\n",
       "\t30 & -6099419445422194688 \\\\\n",
       "\t$\\dots$ & $\\dots$ \\\\\n",
       "\\end{tabular}\n"
      ],
      "text/plain": [
       "\u001b[1m48842×1 DataFrame\u001b[0m\n",
       "\u001b[1m   Row \u001b[0m│\u001b[1m fnlwgt_cumprod       \u001b[0m\n",
       "       │\u001b[90m Int64                \u001b[0m\n",
       "───────┼──────────────────────\n",
       "     1 │               226802\n",
       "     2 │          20369994828\n",
       "     3 │     6863690127289428\n",
       "     4 │ -6397252145150131716\n",
       "     5 │ -5866973019955609380\n",
       "     6 │ -2925260038489718836\n",
       "     7 │ -8852100549340734120\n",
       "     8 │ -4192366588190054608\n",
       "     9 │  5177052181352691088\n",
       "    10 │  -436786692203993024\n",
       "    11 │  8325590167992209792\n",
       "   ⋮   │          ⋮\n",
       " 48833 │                    0\n",
       " 48834 │                    0\n",
       " 48835 │                    0\n",
       " 48836 │                    0\n",
       " 48837 │                    0\n",
       " 48838 │                    0\n",
       " 48839 │                    0\n",
       " 48840 │                    0\n",
       " 48841 │                    0\n",
       " 48842 │                    0\n",
       "\u001b[36m            48821 rows omitted\u001b[0m"
      ]
     },
     "execution_count": 84,
     "metadata": {},
     "output_type": "execute_result"
    }
   ],
   "source": [
    "select(df, :fnlwgt => cumprod)"
   ]
  },
  {
   "cell_type": "code",
   "execution_count": 86,
   "id": "8d874151-1c3f-4f76-9088-16a8a2ccbaed",
   "metadata": {},
   "outputs": [
    {
     "data": {
      "text/html": [
       "<div><div style = \"float: left;\"><span>48842×1 DataFrame</span></div><div style = \"float: right;\"><span style = \"font-style: italic;\">48817 rows omitted</span></div><div style = \"clear: both;\"></div></div><div class = \"data-frame\" style = \"overflow-x: scroll;\"><table class = \"data-frame\" style = \"margin-bottom: 6px;\"><thead><tr class = \"header\"><th class = \"rowNumber\" style = \"font-weight: bold; text-align: right;\">Row</th><th style = \"text-align: left;\">fnlwgt_function</th></tr><tr class = \"subheader headerLastRow\"><th class = \"rowNumber\" style = \"font-weight: bold; text-align: right;\"></th><th title = \"Int64\" style = \"text-align: left;\">Int64</th></tr></thead><tbody><tr><td class = \"rowNumber\" style = \"font-weight: bold; text-align: right;\">1</td><td style = \"text-align: right;\">226802</td></tr><tr><td class = \"rowNumber\" style = \"font-weight: bold; text-align: right;\">2</td><td style = \"text-align: right;\">89814</td></tr><tr><td class = \"rowNumber\" style = \"font-weight: bold; text-align: right;\">3</td><td style = \"text-align: right;\">89814</td></tr><tr><td class = \"rowNumber\" style = \"font-weight: bold; text-align: right;\">4</td><td style = \"text-align: right;\">89814</td></tr><tr><td class = \"rowNumber\" style = \"font-weight: bold; text-align: right;\">5</td><td style = \"text-align: right;\">89814</td></tr><tr><td class = \"rowNumber\" style = \"font-weight: bold; text-align: right;\">6</td><td style = \"text-align: right;\">89814</td></tr><tr><td class = \"rowNumber\" style = \"font-weight: bold; text-align: right;\">7</td><td style = \"text-align: right;\">89814</td></tr><tr><td class = \"rowNumber\" style = \"font-weight: bold; text-align: right;\">8</td><td style = \"text-align: right;\">89814</td></tr><tr><td class = \"rowNumber\" style = \"font-weight: bold; text-align: right;\">9</td><td style = \"text-align: right;\">89814</td></tr><tr><td class = \"rowNumber\" style = \"font-weight: bold; text-align: right;\">10</td><td style = \"text-align: right;\">89814</td></tr><tr><td class = \"rowNumber\" style = \"font-weight: bold; text-align: right;\">11</td><td style = \"text-align: right;\">89814</td></tr><tr><td class = \"rowNumber\" style = \"font-weight: bold; text-align: right;\">12</td><td style = \"text-align: right;\">89814</td></tr><tr><td class = \"rowNumber\" style = \"font-weight: bold; text-align: right;\">13</td><td style = \"text-align: right;\">82091</td></tr><tr><td style = \"text-align: right;\">&vellip;</td><td style = \"text-align: right;\">&vellip;</td></tr><tr><td class = \"rowNumber\" style = \"font-weight: bold; text-align: right;\">48831</td><td style = \"text-align: right;\">12285</td></tr><tr><td class = \"rowNumber\" style = \"font-weight: bold; text-align: right;\">48832</td><td style = \"text-align: right;\">12285</td></tr><tr><td class = \"rowNumber\" style = \"font-weight: bold; text-align: right;\">48833</td><td style = \"text-align: right;\">12285</td></tr><tr><td class = \"rowNumber\" style = \"font-weight: bold; text-align: right;\">48834</td><td style = \"text-align: right;\">12285</td></tr><tr><td class = \"rowNumber\" style = \"font-weight: bold; text-align: right;\">48835</td><td style = \"text-align: right;\">12285</td></tr><tr><td class = \"rowNumber\" style = \"font-weight: bold; text-align: right;\">48836</td><td style = \"text-align: right;\">12285</td></tr><tr><td class = \"rowNumber\" style = \"font-weight: bold; text-align: right;\">48837</td><td style = \"text-align: right;\">12285</td></tr><tr><td class = \"rowNumber\" style = \"font-weight: bold; text-align: right;\">48838</td><td style = \"text-align: right;\">12285</td></tr><tr><td class = \"rowNumber\" style = \"font-weight: bold; text-align: right;\">48839</td><td style = \"text-align: right;\">12285</td></tr><tr><td class = \"rowNumber\" style = \"font-weight: bold; text-align: right;\">48840</td><td style = \"text-align: right;\">12285</td></tr><tr><td class = \"rowNumber\" style = \"font-weight: bold; text-align: right;\">48841</td><td style = \"text-align: right;\">12285</td></tr><tr><td class = \"rowNumber\" style = \"font-weight: bold; text-align: right;\">48842</td><td style = \"text-align: right;\">12285</td></tr></tbody></table></div>"
      ],
      "text/latex": [
       "\\begin{tabular}{r|c}\n",
       "\t& fnlwgt\\_function\\\\\n",
       "\t\\hline\n",
       "\t& Int64\\\\\n",
       "\t\\hline\n",
       "\t1 & 226802 \\\\\n",
       "\t2 & 89814 \\\\\n",
       "\t3 & 89814 \\\\\n",
       "\t4 & 89814 \\\\\n",
       "\t5 & 89814 \\\\\n",
       "\t6 & 89814 \\\\\n",
       "\t7 & 89814 \\\\\n",
       "\t8 & 89814 \\\\\n",
       "\t9 & 89814 \\\\\n",
       "\t10 & 89814 \\\\\n",
       "\t11 & 89814 \\\\\n",
       "\t12 & 89814 \\\\\n",
       "\t13 & 82091 \\\\\n",
       "\t14 & 82091 \\\\\n",
       "\t15 & 82091 \\\\\n",
       "\t16 & 82091 \\\\\n",
       "\t17 & 82091 \\\\\n",
       "\t18 & 82091 \\\\\n",
       "\t19 & 60548 \\\\\n",
       "\t20 & 60548 \\\\\n",
       "\t21 & 60548 \\\\\n",
       "\t22 & 60548 \\\\\n",
       "\t23 & 60548 \\\\\n",
       "\t24 & 60548 \\\\\n",
       "\t25 & 60548 \\\\\n",
       "\t26 & 60548 \\\\\n",
       "\t27 & 60548 \\\\\n",
       "\t28 & 60548 \\\\\n",
       "\t29 & 60548 \\\\\n",
       "\t30 & 60548 \\\\\n",
       "\t$\\dots$ & $\\dots$ \\\\\n",
       "\\end{tabular}\n"
      ],
      "text/plain": [
       "\u001b[1m48842×1 DataFrame\u001b[0m\n",
       "\u001b[1m   Row \u001b[0m│\u001b[1m fnlwgt_function \u001b[0m\n",
       "       │\u001b[90m Int64           \u001b[0m\n",
       "───────┼─────────────────\n",
       "     1 │          226802\n",
       "     2 │           89814\n",
       "     3 │           89814\n",
       "     4 │           89814\n",
       "     5 │           89814\n",
       "     6 │           89814\n",
       "     7 │           89814\n",
       "     8 │           89814\n",
       "     9 │           89814\n",
       "    10 │           89814\n",
       "    11 │           89814\n",
       "   ⋮   │        ⋮\n",
       " 48833 │           12285\n",
       " 48834 │           12285\n",
       " 48835 │           12285\n",
       " 48836 │           12285\n",
       " 48837 │           12285\n",
       " 48838 │           12285\n",
       " 48839 │           12285\n",
       " 48840 │           12285\n",
       " 48841 │           12285\n",
       " 48842 │           12285\n",
       "\u001b[36m       48821 rows omitted\u001b[0m"
      ]
     },
     "execution_count": 86,
     "metadata": {},
     "output_type": "execute_result"
    }
   ],
   "source": [
    "select(df, :fnlwgt => v -> accumulate(min,v))"
   ]
  },
  {
   "cell_type": "code",
   "execution_count": 87,
   "id": "a0f75001-4790-4bf5-b352-2166b6afe289",
   "metadata": {},
   "outputs": [
    {
     "data": {
      "text/html": [
       "<div><div style = \"float: left;\"><span>48842×1 DataFrame</span></div><div style = \"float: right;\"><span style = \"font-style: italic;\">48817 rows omitted</span></div><div style = \"clear: both;\"></div></div><div class = \"data-frame\" style = \"overflow-x: scroll;\"><table class = \"data-frame\" style = \"margin-bottom: 6px;\"><thead><tr class = \"header\"><th class = \"rowNumber\" style = \"font-weight: bold; text-align: right;\">Row</th><th style = \"text-align: left;\">fnlwgt_function</th></tr><tr class = \"subheader headerLastRow\"><th class = \"rowNumber\" style = \"font-weight: bold; text-align: right;\"></th><th title = \"Int64\" style = \"text-align: left;\">Int64</th></tr></thead><tbody><tr><td class = \"rowNumber\" style = \"font-weight: bold; text-align: right;\">1</td><td style = \"text-align: right;\">226802</td></tr><tr><td class = \"rowNumber\" style = \"font-weight: bold; text-align: right;\">2</td><td style = \"text-align: right;\">226802</td></tr><tr><td class = \"rowNumber\" style = \"font-weight: bold; text-align: right;\">3</td><td style = \"text-align: right;\">336951</td></tr><tr><td class = \"rowNumber\" style = \"font-weight: bold; text-align: right;\">4</td><td style = \"text-align: right;\">336951</td></tr><tr><td class = \"rowNumber\" style = \"font-weight: bold; text-align: right;\">5</td><td style = \"text-align: right;\">336951</td></tr><tr><td class = \"rowNumber\" style = \"font-weight: bold; text-align: right;\">6</td><td style = \"text-align: right;\">336951</td></tr><tr><td class = \"rowNumber\" style = \"font-weight: bold; text-align: right;\">7</td><td style = \"text-align: right;\">336951</td></tr><tr><td class = \"rowNumber\" style = \"font-weight: bold; text-align: right;\">8</td><td style = \"text-align: right;\">336951</td></tr><tr><td class = \"rowNumber\" style = \"font-weight: bold; text-align: right;\">9</td><td style = \"text-align: right;\">369667</td></tr><tr><td class = \"rowNumber\" style = \"font-weight: bold; text-align: right;\">10</td><td style = \"text-align: right;\">369667</td></tr><tr><td class = \"rowNumber\" style = \"font-weight: bold; text-align: right;\">11</td><td style = \"text-align: right;\">369667</td></tr><tr><td class = \"rowNumber\" style = \"font-weight: bold; text-align: right;\">12</td><td style = \"text-align: right;\">369667</td></tr><tr><td class = \"rowNumber\" style = \"font-weight: bold; text-align: right;\">13</td><td style = \"text-align: right;\">369667</td></tr><tr><td style = \"text-align: right;\">&vellip;</td><td style = \"text-align: right;\">&vellip;</td></tr><tr><td class = \"rowNumber\" style = \"font-weight: bold; text-align: right;\">48831</td><td style = \"text-align: right;\">1490400</td></tr><tr><td class = \"rowNumber\" style = \"font-weight: bold; text-align: right;\">48832</td><td style = \"text-align: right;\">1490400</td></tr><tr><td class = \"rowNumber\" style = \"font-weight: bold; text-align: right;\">48833</td><td style = \"text-align: right;\">1490400</td></tr><tr><td class = \"rowNumber\" style = \"font-weight: bold; text-align: right;\">48834</td><td style = \"text-align: right;\">1490400</td></tr><tr><td class = \"rowNumber\" style = \"font-weight: bold; text-align: right;\">48835</td><td style = \"text-align: right;\">1490400</td></tr><tr><td class = \"rowNumber\" style = \"font-weight: bold; text-align: right;\">48836</td><td style = \"text-align: right;\">1490400</td></tr><tr><td class = \"rowNumber\" style = \"font-weight: bold; text-align: right;\">48837</td><td style = \"text-align: right;\">1490400</td></tr><tr><td class = \"rowNumber\" style = \"font-weight: bold; text-align: right;\">48838</td><td style = \"text-align: right;\">1490400</td></tr><tr><td class = \"rowNumber\" style = \"font-weight: bold; text-align: right;\">48839</td><td style = \"text-align: right;\">1490400</td></tr><tr><td class = \"rowNumber\" style = \"font-weight: bold; text-align: right;\">48840</td><td style = \"text-align: right;\">1490400</td></tr><tr><td class = \"rowNumber\" style = \"font-weight: bold; text-align: right;\">48841</td><td style = \"text-align: right;\">1490400</td></tr><tr><td class = \"rowNumber\" style = \"font-weight: bold; text-align: right;\">48842</td><td style = \"text-align: right;\">1490400</td></tr></tbody></table></div>"
      ],
      "text/latex": [
       "\\begin{tabular}{r|c}\n",
       "\t& fnlwgt\\_function\\\\\n",
       "\t\\hline\n",
       "\t& Int64\\\\\n",
       "\t\\hline\n",
       "\t1 & 226802 \\\\\n",
       "\t2 & 226802 \\\\\n",
       "\t3 & 336951 \\\\\n",
       "\t4 & 336951 \\\\\n",
       "\t5 & 336951 \\\\\n",
       "\t6 & 336951 \\\\\n",
       "\t7 & 336951 \\\\\n",
       "\t8 & 336951 \\\\\n",
       "\t9 & 369667 \\\\\n",
       "\t10 & 369667 \\\\\n",
       "\t11 & 369667 \\\\\n",
       "\t12 & 369667 \\\\\n",
       "\t13 & 369667 \\\\\n",
       "\t14 & 369667 \\\\\n",
       "\t15 & 369667 \\\\\n",
       "\t16 & 369667 \\\\\n",
       "\t17 & 444554 \\\\\n",
       "\t18 & 444554 \\\\\n",
       "\t19 & 444554 \\\\\n",
       "\t20 & 444554 \\\\\n",
       "\t21 & 444554 \\\\\n",
       "\t22 & 444554 \\\\\n",
       "\t23 & 444554 \\\\\n",
       "\t24 & 444554 \\\\\n",
       "\t25 & 444554 \\\\\n",
       "\t26 & 444554 \\\\\n",
       "\t27 & 444554 \\\\\n",
       "\t28 & 444554 \\\\\n",
       "\t29 & 444554 \\\\\n",
       "\t30 & 444554 \\\\\n",
       "\t$\\dots$ & $\\dots$ \\\\\n",
       "\\end{tabular}\n"
      ],
      "text/plain": [
       "\u001b[1m48842×1 DataFrame\u001b[0m\n",
       "\u001b[1m   Row \u001b[0m│\u001b[1m fnlwgt_function \u001b[0m\n",
       "       │\u001b[90m Int64           \u001b[0m\n",
       "───────┼─────────────────\n",
       "     1 │          226802\n",
       "     2 │          226802\n",
       "     3 │          336951\n",
       "     4 │          336951\n",
       "     5 │          336951\n",
       "     6 │          336951\n",
       "     7 │          336951\n",
       "     8 │          336951\n",
       "     9 │          369667\n",
       "    10 │          369667\n",
       "    11 │          369667\n",
       "   ⋮   │        ⋮\n",
       " 48833 │         1490400\n",
       " 48834 │         1490400\n",
       " 48835 │         1490400\n",
       " 48836 │         1490400\n",
       " 48837 │         1490400\n",
       " 48838 │         1490400\n",
       " 48839 │         1490400\n",
       " 48840 │         1490400\n",
       " 48841 │         1490400\n",
       " 48842 │         1490400\n",
       "\u001b[36m       48821 rows omitted\u001b[0m"
      ]
     },
     "execution_count": 87,
     "metadata": {},
     "output_type": "execute_result"
    }
   ],
   "source": [
    "select(df, :fnlwgt => v -> accumulate(max,v))"
   ]
  },
  {
   "cell_type": "code",
   "execution_count": 88,
   "id": "5d7ca2d3-e16f-48fc-94ed-ab5700b18adf",
   "metadata": {},
   "outputs": [
    {
     "data": {
      "text/html": [
       "<div><div style = \"float: left;\"><span>48842×1 DataFrame</span></div><div style = \"float: right;\"><span style = \"font-style: italic;\">48817 rows omitted</span></div><div style = \"clear: both;\"></div></div><div class = \"data-frame\" style = \"overflow-x: scroll;\"><table class = \"data-frame\" style = \"margin-bottom: 6px;\"><thead><tr class = \"header\"><th class = \"rowNumber\" style = \"font-weight: bold; text-align: right;\">Row</th><th style = \"text-align: left;\">fnlwgt_function</th></tr><tr class = \"subheader headerLastRow\"><th class = \"rowNumber\" style = \"font-weight: bold; text-align: right;\"></th><th title = \"Float64\" style = \"text-align: left;\">Float64</th></tr></thead><tbody><tr><td class = \"rowNumber\" style = \"font-weight: bold; text-align: right;\">1</td><td style = \"text-align: right;\">226802.0</td></tr><tr><td class = \"rowNumber\" style = \"font-weight: bold; text-align: right;\">2</td><td style = \"text-align: right;\">158308.0</td></tr><tr><td class = \"rowNumber\" style = \"font-weight: bold; text-align: right;\">3</td><td style = \"text-align: right;\">2.17856e5</td></tr><tr><td class = \"rowNumber\" style = \"font-weight: bold; text-align: right;\">4</td><td style = \"text-align: right;\">2.03472e5</td></tr><tr><td class = \"rowNumber\" style = \"font-weight: bold; text-align: right;\">5</td><td style = \"text-align: right;\">1.83477e5</td></tr><tr><td class = \"rowNumber\" style = \"font-weight: bold; text-align: right;\">6</td><td style = \"text-align: right;\">1.86013e5</td></tr><tr><td class = \"rowNumber\" style = \"font-weight: bold; text-align: right;\">7</td><td style = \"text-align: right;\">1.91872e5</td></tr><tr><td class = \"rowNumber\" style = \"font-weight: bold; text-align: right;\">8</td><td style = \"text-align: right;\">1.80966e5</td></tr><tr><td class = \"rowNumber\" style = \"font-weight: bold; text-align: right;\">9</td><td style = \"text-align: right;\">2.01933e5</td></tr><tr><td class = \"rowNumber\" style = \"font-weight: bold; text-align: right;\">10</td><td style = \"text-align: right;\">1.9224e5</td></tr><tr><td class = \"rowNumber\" style = \"font-weight: bold; text-align: right;\">11</td><td style = \"text-align: right;\">1.91532e5</td></tr><tr><td class = \"rowNumber\" style = \"font-weight: bold; text-align: right;\">12</td><td style = \"text-align: right;\">1.93276e5</td></tr><tr><td class = \"rowNumber\" style = \"font-weight: bold; text-align: right;\">13</td><td style = \"text-align: right;\">1.84723e5</td></tr><tr><td style = \"text-align: right;\">&vellip;</td><td style = \"text-align: right;\">&vellip;</td></tr><tr><td class = \"rowNumber\" style = \"font-weight: bold; text-align: right;\">48831</td><td style = \"text-align: right;\">189667.0</td></tr><tr><td class = \"rowNumber\" style = \"font-weight: bold; text-align: right;\">48832</td><td style = \"text-align: right;\">1.89664e5</td></tr><tr><td class = \"rowNumber\" style = \"font-weight: bold; text-align: right;\">48833</td><td style = \"text-align: right;\">1.8966e5</td></tr><tr><td class = \"rowNumber\" style = \"font-weight: bold; text-align: right;\">48834</td><td style = \"text-align: right;\">1.89658e5</td></tr><tr><td class = \"rowNumber\" style = \"font-weight: bold; text-align: right;\">48835</td><td style = \"text-align: right;\">1.89657e5</td></tr><tr><td class = \"rowNumber\" style = \"font-weight: bold; text-align: right;\">48836</td><td style = \"text-align: right;\">1.8966e5</td></tr><tr><td class = \"rowNumber\" style = \"font-weight: bold; text-align: right;\">48837</td><td style = \"text-align: right;\">189662.0</td></tr><tr><td class = \"rowNumber\" style = \"font-weight: bold; text-align: right;\">48838</td><td style = \"text-align: right;\">1.89663e5</td></tr><tr><td class = \"rowNumber\" style = \"font-weight: bold; text-align: right;\">48839</td><td style = \"text-align: right;\">1.89663e5</td></tr><tr><td class = \"rowNumber\" style = \"font-weight: bold; text-align: right;\">48840</td><td style = \"text-align: right;\">1.89662e5</td></tr><tr><td class = \"rowNumber\" style = \"font-weight: bold; text-align: right;\">48841</td><td style = \"text-align: right;\">1.89662e5</td></tr><tr><td class = \"rowNumber\" style = \"font-weight: bold; text-align: right;\">48842</td><td style = \"text-align: right;\">1.89664e5</td></tr></tbody></table></div>"
      ],
      "text/latex": [
       "\\begin{tabular}{r|c}\n",
       "\t& fnlwgt\\_function\\\\\n",
       "\t\\hline\n",
       "\t& Float64\\\\\n",
       "\t\\hline\n",
       "\t1 & 226802.0 \\\\\n",
       "\t2 & 158308.0 \\\\\n",
       "\t3 & 2.17856e5 \\\\\n",
       "\t4 & 2.03472e5 \\\\\n",
       "\t5 & 1.83477e5 \\\\\n",
       "\t6 & 1.86013e5 \\\\\n",
       "\t7 & 1.91872e5 \\\\\n",
       "\t8 & 1.80966e5 \\\\\n",
       "\t9 & 2.01933e5 \\\\\n",
       "\t10 & 1.9224e5 \\\\\n",
       "\t11 & 1.91532e5 \\\\\n",
       "\t12 & 1.93276e5 \\\\\n",
       "\t13 & 1.84723e5 \\\\\n",
       "\t14 & 1.92945e5 \\\\\n",
       "\t15 & 1.98731e5 \\\\\n",
       "\t16 & 2.07947e5 \\\\\n",
       "\t17 & 2.21865e5 \\\\\n",
       "\t18 & 2.1667e5 \\\\\n",
       "\t19 & 2.08453e5 \\\\\n",
       "\t20 & 2.02281e5 \\\\\n",
       "\t21 & 1.97788e5 \\\\\n",
       "\t22 & 1.99642e5 \\\\\n",
       "\t23 & 1.96702e5 \\\\\n",
       "\t24 & 1.97711e5 \\\\\n",
       "\t25 & 1.98041e5 \\\\\n",
       "\t26 & 2.07071e5 \\\\\n",
       "\t27 & 2.08158e5 \\\\\n",
       "\t28 & 2.05526e5 \\\\\n",
       "\t29 & 2.0187e5 \\\\\n",
       "\t30 & 1.98784e5 \\\\\n",
       "\t$\\dots$ & $\\dots$ \\\\\n",
       "\\end{tabular}\n"
      ],
      "text/plain": [
       "\u001b[1m48842×1 DataFrame\u001b[0m\n",
       "\u001b[1m   Row \u001b[0m│\u001b[1m fnlwgt_function \u001b[0m\n",
       "       │\u001b[90m Float64         \u001b[0m\n",
       "───────┼─────────────────\n",
       "     1 │  226802.0\n",
       "     2 │  158308.0\n",
       "     3 │       2.17856e5\n",
       "     4 │       2.03472e5\n",
       "     5 │       1.83477e5\n",
       "     6 │       1.86013e5\n",
       "     7 │       1.91872e5\n",
       "     8 │       1.80966e5\n",
       "     9 │       2.01933e5\n",
       "    10 │       1.9224e5\n",
       "    11 │       1.91532e5\n",
       "   ⋮   │        ⋮\n",
       " 48833 │       1.8966e5\n",
       " 48834 │       1.89658e5\n",
       " 48835 │       1.89657e5\n",
       " 48836 │       1.8966e5\n",
       " 48837 │  189662.0\n",
       " 48838 │       1.89663e5\n",
       " 48839 │       1.89663e5\n",
       " 48840 │       1.89662e5\n",
       " 48841 │       1.89662e5\n",
       " 48842 │       1.89664e5\n",
       "\u001b[36m       48821 rows omitted\u001b[0m"
      ]
     },
     "execution_count": 88,
     "metadata": {},
     "output_type": "execute_result"
    }
   ],
   "source": [
    "select(df, :fnlwgt => v -> cumsum(v) ./ (1:length(v)))"
   ]
  },
  {
   "cell_type": "code",
   "execution_count": 93,
   "id": "cf649c06-8609-4260-b2a9-383bddce6c03",
   "metadata": {},
   "outputs": [
    {
     "data": {
      "text/html": [
       "<div><div style = \"float: left;\"><span>48842×1 DataFrame</span></div><div style = \"float: right;\"><span style = \"font-style: italic;\">48817 rows omitted</span></div><div style = \"clear: both;\"></div></div><div class = \"data-frame\" style = \"overflow-x: scroll;\"><table class = \"data-frame\" style = \"margin-bottom: 6px;\"><thead><tr class = \"header\"><th class = \"rowNumber\" style = \"font-weight: bold; text-align: right;\">Row</th><th style = \"text-align: left;\">fnlwgt_function</th></tr><tr class = \"subheader headerLastRow\"><th class = \"rowNumber\" style = \"font-weight: bold; text-align: right;\"></th><th title = \"Float64\" style = \"text-align: left;\">Float64</th></tr></thead><tbody><tr><td class = \"rowNumber\" style = \"font-weight: bold; text-align: right;\">1</td><td style = \"text-align: right;\">226802.0</td></tr><tr><td class = \"rowNumber\" style = \"font-weight: bold; text-align: right;\">2</td><td style = \"text-align: right;\">158308.0</td></tr><tr><td class = \"rowNumber\" style = \"font-weight: bold; text-align: right;\">3</td><td style = \"text-align: right;\">2.17856e5</td></tr><tr><td class = \"rowNumber\" style = \"font-weight: bold; text-align: right;\">4</td><td style = \"text-align: right;\">2.03472e5</td></tr><tr><td class = \"rowNumber\" style = \"font-weight: bold; text-align: right;\">5</td><td style = \"text-align: right;\">1.83477e5</td></tr><tr><td class = \"rowNumber\" style = \"font-weight: bold; text-align: right;\">6</td><td style = \"text-align: right;\">1.86013e5</td></tr><tr><td class = \"rowNumber\" style = \"font-weight: bold; text-align: right;\">7</td><td style = \"text-align: right;\">1.91872e5</td></tr><tr><td class = \"rowNumber\" style = \"font-weight: bold; text-align: right;\">8</td><td style = \"text-align: right;\">1.80966e5</td></tr><tr><td class = \"rowNumber\" style = \"font-weight: bold; text-align: right;\">9</td><td style = \"text-align: right;\">2.01933e5</td></tr><tr><td class = \"rowNumber\" style = \"font-weight: bold; text-align: right;\">10</td><td style = \"text-align: right;\">1.9224e5</td></tr><tr><td class = \"rowNumber\" style = \"font-weight: bold; text-align: right;\">11</td><td style = \"text-align: right;\">1.88005e5</td></tr><tr><td class = \"rowNumber\" style = \"font-weight: bold; text-align: right;\">12</td><td style = \"text-align: right;\">2.0027e5</td></tr><tr><td class = \"rowNumber\" style = \"font-weight: bold; text-align: right;\">13</td><td style = \"text-align: right;\">1.74784e5</td></tr><tr><td style = \"text-align: right;\">&vellip;</td><td style = \"text-align: right;\">&vellip;</td></tr><tr><td class = \"rowNumber\" style = \"font-weight: bold; text-align: right;\">48831</td><td style = \"text-align: right;\">1.82947e5</td></tr><tr><td class = \"rowNumber\" style = \"font-weight: bold; text-align: right;\">48832</td><td style = \"text-align: right;\">160450.0</td></tr><tr><td class = \"rowNumber\" style = \"font-weight: bold; text-align: right;\">48833</td><td style = \"text-align: right;\">1.43574e5</td></tr><tr><td class = \"rowNumber\" style = \"font-weight: bold; text-align: right;\">48834</td><td style = \"text-align: right;\">1.39049e5</td></tr><tr><td class = \"rowNumber\" style = \"font-weight: bold; text-align: right;\">48835</td><td style = \"text-align: right;\">1.38743e5</td></tr><tr><td class = \"rowNumber\" style = \"font-weight: bold; text-align: right;\">48836</td><td style = \"text-align: right;\">1.50964e5</td></tr><tr><td class = \"rowNumber\" style = \"font-weight: bold; text-align: right;\">48837</td><td style = \"text-align: right;\">1.7083e5</td></tr><tr><td class = \"rowNumber\" style = \"font-weight: bold; text-align: right;\">48838</td><td style = \"text-align: right;\">1.76738e5</td></tr><tr><td class = \"rowNumber\" style = \"font-weight: bold; text-align: right;\">48839</td><td style = \"text-align: right;\">1.66099e5</td></tr><tr><td class = \"rowNumber\" style = \"font-weight: bold; text-align: right;\">48840</td><td style = \"text-align: right;\">1.71354e5</td></tr><tr><td class = \"rowNumber\" style = \"font-weight: bold; text-align: right;\">48841</td><td style = \"text-align: right;\">165920.0</td></tr><tr><td class = \"rowNumber\" style = \"font-weight: bold; text-align: right;\">48842</td><td style = \"text-align: right;\">1.91988e5</td></tr></tbody></table></div>"
      ],
      "text/latex": [
       "\\begin{tabular}{r|c}\n",
       "\t& fnlwgt\\_function\\\\\n",
       "\t\\hline\n",
       "\t& Float64\\\\\n",
       "\t\\hline\n",
       "\t1 & 226802.0 \\\\\n",
       "\t2 & 158308.0 \\\\\n",
       "\t3 & 2.17856e5 \\\\\n",
       "\t4 & 2.03472e5 \\\\\n",
       "\t5 & 1.83477e5 \\\\\n",
       "\t6 & 1.86013e5 \\\\\n",
       "\t7 & 1.91872e5 \\\\\n",
       "\t8 & 1.80966e5 \\\\\n",
       "\t9 & 2.01933e5 \\\\\n",
       "\t10 & 1.9224e5 \\\\\n",
       "\t11 & 1.88005e5 \\\\\n",
       "\t12 & 2.0027e5 \\\\\n",
       "\t13 & 1.74784e5 \\\\\n",
       "\t14 & 1.88735e5 \\\\\n",
       "\t15 & 2.06357e5 \\\\\n",
       "\t16 & 2.21107e5 \\\\\n",
       "\t17 & 2.4286e5 \\\\\n",
       "\t18 & 2.45232e5 \\\\\n",
       "\t19 & 2.14321e5 \\\\\n",
       "\t20 & 2.12323e5 \\\\\n",
       "\t21 & 2.04669e5 \\\\\n",
       "\t22 & 2.07281e5 \\\\\n",
       "\t23 & 2.12274e5 \\\\\n",
       "\t24 & 2.04384e5 \\\\\n",
       "\t25 & 1.97006e5 \\\\\n",
       "\t26 & 2.05669e5 \\\\\n",
       "\t27 & 1.84857e5 \\\\\n",
       "\t28 & 1.85466e5 \\\\\n",
       "\t29 & 1.89363e5 \\\\\n",
       "\t30 & 191789.0 \\\\\n",
       "\t$\\dots$ & $\\dots$ \\\\\n",
       "\\end{tabular}\n"
      ],
      "text/plain": [
       "\u001b[1m48842×1 DataFrame\u001b[0m\n",
       "\u001b[1m   Row \u001b[0m│\u001b[1m fnlwgt_function \u001b[0m\n",
       "       │\u001b[90m Float64         \u001b[0m\n",
       "───────┼─────────────────\n",
       "     1 │  226802.0\n",
       "     2 │  158308.0\n",
       "     3 │       2.17856e5\n",
       "     4 │       2.03472e5\n",
       "     5 │       1.83477e5\n",
       "     6 │       1.86013e5\n",
       "     7 │       1.91872e5\n",
       "     8 │       1.80966e5\n",
       "     9 │       2.01933e5\n",
       "    10 │       1.9224e5\n",
       "    11 │       1.88005e5\n",
       "   ⋮   │        ⋮\n",
       " 48833 │       1.43574e5\n",
       " 48834 │       1.39049e5\n",
       " 48835 │       1.38743e5\n",
       " 48836 │       1.50964e5\n",
       " 48837 │       1.7083e5\n",
       " 48838 │       1.76738e5\n",
       " 48839 │       1.66099e5\n",
       " 48840 │       1.71354e5\n",
       " 48841 │  165920.0\n",
       " 48842 │       1.91988e5\n",
       "\u001b[36m       48821 rows omitted\u001b[0m"
      ]
     },
     "execution_count": 93,
     "metadata": {},
     "output_type": "execute_result"
    }
   ],
   "source": [
    "select(df, :fnlwgt =>(v -> runmean(v,10)))"
   ]
  },
  {
   "cell_type": "code",
   "execution_count": 96,
   "id": "c24102ef-efbd-4c99-9b81-46feba4d7311",
   "metadata": {},
   "outputs": [
    {
     "data": {
      "text/html": [
       "<div><div style = \"float: left;\"><span>48842×1 DataFrame</span></div><div style = \"float: right;\"><span style = \"font-style: italic;\">48817 rows omitted</span></div><div style = \"clear: both;\"></div></div><div class = \"data-frame\" style = \"overflow-x: scroll;\"><table class = \"data-frame\" style = \"margin-bottom: 6px;\"><thead><tr class = \"header\"><th class = \"rowNumber\" style = \"font-weight: bold; text-align: right;\">Row</th><th style = \"text-align: left;\">fnlwgt_function</th></tr><tr class = \"subheader headerLastRow\"><th class = \"rowNumber\" style = \"font-weight: bold; text-align: right;\"></th><th title = \"Int64\" style = \"text-align: left;\">Int64</th></tr></thead><tbody><tr><td class = \"rowNumber\" style = \"font-weight: bold; text-align: right;\">1</td><td style = \"text-align: right;\">226802</td></tr><tr><td class = \"rowNumber\" style = \"font-weight: bold; text-align: right;\">2</td><td style = \"text-align: right;\">226802</td></tr><tr><td class = \"rowNumber\" style = \"font-weight: bold; text-align: right;\">3</td><td style = \"text-align: right;\">336951</td></tr><tr><td class = \"rowNumber\" style = \"font-weight: bold; text-align: right;\">4</td><td style = \"text-align: right;\">336951</td></tr><tr><td class = \"rowNumber\" style = \"font-weight: bold; text-align: right;\">5</td><td style = \"text-align: right;\">336951</td></tr><tr><td class = \"rowNumber\" style = \"font-weight: bold; text-align: right;\">6</td><td style = \"text-align: right;\">336951</td></tr><tr><td class = \"rowNumber\" style = \"font-weight: bold; text-align: right;\">7</td><td style = \"text-align: right;\">336951</td></tr><tr><td class = \"rowNumber\" style = \"font-weight: bold; text-align: right;\">8</td><td style = \"text-align: right;\">336951</td></tr><tr><td class = \"rowNumber\" style = \"font-weight: bold; text-align: right;\">9</td><td style = \"text-align: right;\">369667</td></tr><tr><td class = \"rowNumber\" style = \"font-weight: bold; text-align: right;\">10</td><td style = \"text-align: right;\">369667</td></tr><tr><td class = \"rowNumber\" style = \"font-weight: bold; text-align: right;\">11</td><td style = \"text-align: right;\">369667</td></tr><tr><td class = \"rowNumber\" style = \"font-weight: bold; text-align: right;\">12</td><td style = \"text-align: right;\">369667</td></tr><tr><td class = \"rowNumber\" style = \"font-weight: bold; text-align: right;\">13</td><td style = \"text-align: right;\">369667</td></tr><tr><td style = \"text-align: right;\">&vellip;</td><td style = \"text-align: right;\">&vellip;</td></tr><tr><td class = \"rowNumber\" style = \"font-weight: bold; text-align: right;\">48831</td><td style = \"text-align: right;\">260761</td></tr><tr><td class = \"rowNumber\" style = \"font-weight: bold; text-align: right;\">48832</td><td style = \"text-align: right;\">260761</td></tr><tr><td class = \"rowNumber\" style = \"font-weight: bold; text-align: right;\">48833</td><td style = \"text-align: right;\">260761</td></tr><tr><td class = \"rowNumber\" style = \"font-weight: bold; text-align: right;\">48834</td><td style = \"text-align: right;\">260761</td></tr><tr><td class = \"rowNumber\" style = \"font-weight: bold; text-align: right;\">48835</td><td style = \"text-align: right;\">260761</td></tr><tr><td class = \"rowNumber\" style = \"font-weight: bold; text-align: right;\">48836</td><td style = \"text-align: right;\">321865</td></tr><tr><td class = \"rowNumber\" style = \"font-weight: bold; text-align: right;\">48837</td><td style = \"text-align: right;\">321865</td></tr><tr><td class = \"rowNumber\" style = \"font-weight: bold; text-align: right;\">48838</td><td style = \"text-align: right;\">321865</td></tr><tr><td class = \"rowNumber\" style = \"font-weight: bold; text-align: right;\">48839</td><td style = \"text-align: right;\">321865</td></tr><tr><td class = \"rowNumber\" style = \"font-weight: bold; text-align: right;\">48840</td><td style = \"text-align: right;\">321865</td></tr><tr><td class = \"rowNumber\" style = \"font-weight: bold; text-align: right;\">48841</td><td style = \"text-align: right;\">321865</td></tr><tr><td class = \"rowNumber\" style = \"font-weight: bold; text-align: right;\">48842</td><td style = \"text-align: right;\">321865</td></tr></tbody></table></div>"
      ],
      "text/latex": [
       "\\begin{tabular}{r|c}\n",
       "\t& fnlwgt\\_function\\\\\n",
       "\t\\hline\n",
       "\t& Int64\\\\\n",
       "\t\\hline\n",
       "\t1 & 226802 \\\\\n",
       "\t2 & 226802 \\\\\n",
       "\t3 & 336951 \\\\\n",
       "\t4 & 336951 \\\\\n",
       "\t5 & 336951 \\\\\n",
       "\t6 & 336951 \\\\\n",
       "\t7 & 336951 \\\\\n",
       "\t8 & 336951 \\\\\n",
       "\t9 & 369667 \\\\\n",
       "\t10 & 369667 \\\\\n",
       "\t11 & 369667 \\\\\n",
       "\t12 & 369667 \\\\\n",
       "\t13 & 369667 \\\\\n",
       "\t14 & 369667 \\\\\n",
       "\t15 & 369667 \\\\\n",
       "\t16 & 369667 \\\\\n",
       "\t17 & 444554 \\\\\n",
       "\t18 & 444554 \\\\\n",
       "\t19 & 444554 \\\\\n",
       "\t20 & 444554 \\\\\n",
       "\t21 & 444554 \\\\\n",
       "\t22 & 444554 \\\\\n",
       "\t23 & 444554 \\\\\n",
       "\t24 & 444554 \\\\\n",
       "\t25 & 444554 \\\\\n",
       "\t26 & 444554 \\\\\n",
       "\t27 & 432824 \\\\\n",
       "\t28 & 432824 \\\\\n",
       "\t29 & 432824 \\\\\n",
       "\t30 & 432824 \\\\\n",
       "\t$\\dots$ & $\\dots$ \\\\\n",
       "\\end{tabular}\n"
      ],
      "text/plain": [
       "\u001b[1m48842×1 DataFrame\u001b[0m\n",
       "\u001b[1m   Row \u001b[0m│\u001b[1m fnlwgt_function \u001b[0m\n",
       "       │\u001b[90m Int64           \u001b[0m\n",
       "───────┼─────────────────\n",
       "     1 │          226802\n",
       "     2 │          226802\n",
       "     3 │          336951\n",
       "     4 │          336951\n",
       "     5 │          336951\n",
       "     6 │          336951\n",
       "     7 │          336951\n",
       "     8 │          336951\n",
       "     9 │          369667\n",
       "    10 │          369667\n",
       "    11 │          369667\n",
       "   ⋮   │        ⋮\n",
       " 48833 │          260761\n",
       " 48834 │          260761\n",
       " 48835 │          260761\n",
       " 48836 │          321865\n",
       " 48837 │          321865\n",
       " 48838 │          321865\n",
       " 48839 │          321865\n",
       " 48840 │          321865\n",
       " 48841 │          321865\n",
       " 48842 │          321865\n",
       "\u001b[36m       48821 rows omitted\u001b[0m"
      ]
     },
     "execution_count": 96,
     "metadata": {},
     "output_type": "execute_result"
    }
   ],
   "source": [
    "select(df, :fnlwgt =>(v -> runmax(v,10)))"
   ]
  },
  {
   "cell_type": "code",
   "execution_count": 97,
   "id": "3aa29832-0a09-44ae-851d-8f92a199fbab",
   "metadata": {},
   "outputs": [
    {
     "data": {
      "text/html": [
       "<div><div style = \"float: left;\"><span>48842×1 DataFrame</span></div><div style = \"float: right;\"><span style = \"font-style: italic;\">48817 rows omitted</span></div><div style = \"clear: both;\"></div></div><div class = \"data-frame\" style = \"overflow-x: scroll;\"><table class = \"data-frame\" style = \"margin-bottom: 6px;\"><thead><tr class = \"header\"><th class = \"rowNumber\" style = \"font-weight: bold; text-align: right;\">Row</th><th style = \"text-align: left;\">fnlwgt_ordinalrank</th></tr><tr class = \"subheader headerLastRow\"><th class = \"rowNumber\" style = \"font-weight: bold; text-align: right;\"></th><th title = \"Int64\" style = \"text-align: left;\">Int64</th></tr></thead><tbody><tr><td class = \"rowNumber\" style = \"font-weight: bold; text-align: right;\">1</td><td style = \"text-align: right;\">35166</td></tr><tr><td class = \"rowNumber\" style = \"font-weight: bold; text-align: right;\">2</td><td style = \"text-align: right;\">7149</td></tr><tr><td class = \"rowNumber\" style = \"font-weight: bold; text-align: right;\">3</td><td style = \"text-align: right;\">44431</td></tr><tr><td class = \"rowNumber\" style = \"font-weight: bold; text-align: right;\">4</td><td style = \"text-align: right;\">20001</td></tr><tr><td class = \"rowNumber\" style = \"font-weight: bold; text-align: right;\">5</td><td style = \"text-align: right;\">9240</td></tr><tr><td class = \"rowNumber\" style = \"font-weight: bold; text-align: right;\">6</td><td style = \"text-align: right;\">29930</td></tr><tr><td class = \"rowNumber\" style = \"font-weight: bold; text-align: right;\">7</td><td style = \"text-align: right;\">35212</td></tr><tr><td class = \"rowNumber\" style = \"font-weight: bold; text-align: right;\">8</td><td style = \"text-align: right;\">9501</td></tr><tr><td class = \"rowNumber\" style = \"font-weight: bold; text-align: right;\">9</td><td style = \"text-align: right;\">46036</td></tr><tr><td class = \"rowNumber\" style = \"font-weight: bold; text-align: right;\">10</td><td style = \"text-align: right;\">9567</td></tr><tr><td class = \"rowNumber\" style = \"font-weight: bold; text-align: right;\">11</td><td style = \"text-align: right;\">26000</td></tr><tr><td class = \"rowNumber\" style = \"font-weight: bold; text-align: right;\">12</td><td style = \"text-align: right;\">32881</td></tr><tr><td class = \"rowNumber\" style = \"font-weight: bold; text-align: right;\">13</td><td style = \"text-align: right;\">6312</td></tr><tr><td style = \"text-align: right;\">&vellip;</td><td style = \"text-align: right;\">&vellip;</td></tr><tr><td class = \"rowNumber\" style = \"font-weight: bold; text-align: right;\">48831</td><td style = \"text-align: right;\">38628</td></tr><tr><td class = \"rowNumber\" style = \"font-weight: bold; text-align: right;\">48832</td><td style = \"text-align: right;\">502</td></tr><tr><td class = \"rowNumber\" style = \"font-weight: bold; text-align: right;\">48833</td><td style = \"text-align: right;\">1588</td></tr><tr><td class = \"rowNumber\" style = \"font-weight: bold; text-align: right;\">48834</td><td style = \"text-align: right;\">6604</td></tr><tr><td class = \"rowNumber\" style = \"font-weight: bold; text-align: right;\">48835</td><td style = \"text-align: right;\">11867</td></tr><tr><td class = \"rowNumber\" style = \"font-weight: bold; text-align: right;\">48836</td><td style = \"text-align: right;\">43612</td></tr><tr><td class = \"rowNumber\" style = \"font-weight: bold; text-align: right;\">48837</td><td style = \"text-align: right;\">42880</td></tr><tr><td class = \"rowNumber\" style = \"font-weight: bold; text-align: right;\">48838</td><td style = \"text-align: right;\">38791</td></tr><tr><td class = \"rowNumber\" style = \"font-weight: bold; text-align: right;\">48839</td><td style = \"text-align: right;\">18858</td></tr><tr><td class = \"rowNumber\" style = \"font-weight: bold; text-align: right;\">48840</td><td style = \"text-align: right;\">18365</td></tr><tr><td class = \"rowNumber\" style = \"font-weight: bold; text-align: right;\">48841</td><td style = \"text-align: right;\">30641</td></tr><tr><td class = \"rowNumber\" style = \"font-weight: bold; text-align: right;\">48842</td><td style = \"text-align: right;\">41400</td></tr></tbody></table></div>"
      ],
      "text/latex": [
       "\\begin{tabular}{r|c}\n",
       "\t& fnlwgt\\_ordinalrank\\\\\n",
       "\t\\hline\n",
       "\t& Int64\\\\\n",
       "\t\\hline\n",
       "\t1 & 35166 \\\\\n",
       "\t2 & 7149 \\\\\n",
       "\t3 & 44431 \\\\\n",
       "\t4 & 20001 \\\\\n",
       "\t5 & 9240 \\\\\n",
       "\t6 & 29930 \\\\\n",
       "\t7 & 35212 \\\\\n",
       "\t8 & 9501 \\\\\n",
       "\t9 & 46036 \\\\\n",
       "\t10 & 9567 \\\\\n",
       "\t11 & 26000 \\\\\n",
       "\t12 & 32881 \\\\\n",
       "\t13 & 6312 \\\\\n",
       "\t14 & 42202 \\\\\n",
       "\t15 & 40747 \\\\\n",
       "\t16 & 45000 \\\\\n",
       "\t17 & 47810 \\\\\n",
       "\t18 & 14296 \\\\\n",
       "\t19 & 4489 \\\\\n",
       "\t20 & 6637 \\\\\n",
       "\t21 & 10149 \\\\\n",
       "\t22 & 36759 \\\\\n",
       "\t23 & 14848 \\\\\n",
       "\t24 & 34315 \\\\\n",
       "\t25 & 31644 \\\\\n",
       "\t26 & 47649 \\\\\n",
       "\t27 & 36469 \\\\\n",
       "\t28 & 15261 \\\\\n",
       "\t29 & 8488 \\\\\n",
       "\t30 & 10438 \\\\\n",
       "\t$\\dots$ & $\\dots$ \\\\\n",
       "\\end{tabular}\n"
      ],
      "text/plain": [
       "\u001b[1m48842×1 DataFrame\u001b[0m\n",
       "\u001b[1m   Row \u001b[0m│\u001b[1m fnlwgt_ordinalrank \u001b[0m\n",
       "       │\u001b[90m Int64              \u001b[0m\n",
       "───────┼────────────────────\n",
       "     1 │              35166\n",
       "     2 │               7149\n",
       "     3 │              44431\n",
       "     4 │              20001\n",
       "     5 │               9240\n",
       "     6 │              29930\n",
       "     7 │              35212\n",
       "     8 │               9501\n",
       "     9 │              46036\n",
       "    10 │               9567\n",
       "    11 │              26000\n",
       "   ⋮   │         ⋮\n",
       " 48833 │               1588\n",
       " 48834 │               6604\n",
       " 48835 │              11867\n",
       " 48836 │              43612\n",
       " 48837 │              42880\n",
       " 48838 │              38791\n",
       " 48839 │              18858\n",
       " 48840 │              18365\n",
       " 48841 │              30641\n",
       " 48842 │              41400\n",
       "\u001b[36m          48821 rows omitted\u001b[0m"
      ]
     },
     "execution_count": 97,
     "metadata": {},
     "output_type": "execute_result"
    }
   ],
   "source": [
    "select(df, :fnlwgt => ordinalrank)"
   ]
  },
  {
   "cell_type": "code",
   "execution_count": 99,
   "id": "9ce5bd07-06f2-46d5-b3c9-1eb3f0163974",
   "metadata": {},
   "outputs": [
    {
     "data": {
      "text/html": [
       "<div><div style = \"float: left;\"><span>48842×1 DataFrame</span></div><div style = \"float: right;\"><span style = \"font-style: italic;\">48817 rows omitted</span></div><div style = \"clear: both;\"></div></div><div class = \"data-frame\" style = \"overflow-x: scroll;\"><table class = \"data-frame\" style = \"margin-bottom: 6px;\"><thead><tr class = \"header\"><th class = \"rowNumber\" style = \"font-weight: bold; text-align: right;\">Row</th><th style = \"text-align: left;\">fnlwgt_competerank</th></tr><tr class = \"subheader headerLastRow\"><th class = \"rowNumber\" style = \"font-weight: bold; text-align: right;\"></th><th title = \"Int64\" style = \"text-align: left;\">Int64</th></tr></thead><tbody><tr><td class = \"rowNumber\" style = \"font-weight: bold; text-align: right;\">1</td><td style = \"text-align: right;\">35166</td></tr><tr><td class = \"rowNumber\" style = \"font-weight: bold; text-align: right;\">2</td><td style = \"text-align: right;\">7149</td></tr><tr><td class = \"rowNumber\" style = \"font-weight: bold; text-align: right;\">3</td><td style = \"text-align: right;\">44431</td></tr><tr><td class = \"rowNumber\" style = \"font-weight: bold; text-align: right;\">4</td><td style = \"text-align: right;\">20001</td></tr><tr><td class = \"rowNumber\" style = \"font-weight: bold; text-align: right;\">5</td><td style = \"text-align: right;\">9240</td></tr><tr><td class = \"rowNumber\" style = \"font-weight: bold; text-align: right;\">6</td><td style = \"text-align: right;\">29930</td></tr><tr><td class = \"rowNumber\" style = \"font-weight: bold; text-align: right;\">7</td><td style = \"text-align: right;\">35212</td></tr><tr><td class = \"rowNumber\" style = \"font-weight: bold; text-align: right;\">8</td><td style = \"text-align: right;\">9501</td></tr><tr><td class = \"rowNumber\" style = \"font-weight: bold; text-align: right;\">9</td><td style = \"text-align: right;\">46036</td></tr><tr><td class = \"rowNumber\" style = \"font-weight: bold; text-align: right;\">10</td><td style = \"text-align: right;\">9567</td></tr><tr><td class = \"rowNumber\" style = \"font-weight: bold; text-align: right;\">11</td><td style = \"text-align: right;\">26000</td></tr><tr><td class = \"rowNumber\" style = \"font-weight: bold; text-align: right;\">12</td><td style = \"text-align: right;\">32881</td></tr><tr><td class = \"rowNumber\" style = \"font-weight: bold; text-align: right;\">13</td><td style = \"text-align: right;\">6312</td></tr><tr><td style = \"text-align: right;\">&vellip;</td><td style = \"text-align: right;\">&vellip;</td></tr><tr><td class = \"rowNumber\" style = \"font-weight: bold; text-align: right;\">48831</td><td style = \"text-align: right;\">38628</td></tr><tr><td class = \"rowNumber\" style = \"font-weight: bold; text-align: right;\">48832</td><td style = \"text-align: right;\">498</td></tr><tr><td class = \"rowNumber\" style = \"font-weight: bold; text-align: right;\">48833</td><td style = \"text-align: right;\">1587</td></tr><tr><td class = \"rowNumber\" style = \"font-weight: bold; text-align: right;\">48834</td><td style = \"text-align: right;\">6603</td></tr><tr><td class = \"rowNumber\" style = \"font-weight: bold; text-align: right;\">48835</td><td style = \"text-align: right;\">11865</td></tr><tr><td class = \"rowNumber\" style = \"font-weight: bold; text-align: right;\">48836</td><td style = \"text-align: right;\">43608</td></tr><tr><td class = \"rowNumber\" style = \"font-weight: bold; text-align: right;\">48837</td><td style = \"text-align: right;\">42878</td></tr><tr><td class = \"rowNumber\" style = \"font-weight: bold; text-align: right;\">48838</td><td style = \"text-align: right;\">38791</td></tr><tr><td class = \"rowNumber\" style = \"font-weight: bold; text-align: right;\">48839</td><td style = \"text-align: right;\">18848</td></tr><tr><td class = \"rowNumber\" style = \"font-weight: bold; text-align: right;\">48840</td><td style = \"text-align: right;\">18364</td></tr><tr><td class = \"rowNumber\" style = \"font-weight: bold; text-align: right;\">48841</td><td style = \"text-align: right;\">30639</td></tr><tr><td class = \"rowNumber\" style = \"font-weight: bold; text-align: right;\">48842</td><td style = \"text-align: right;\">41398</td></tr></tbody></table></div>"
      ],
      "text/latex": [
       "\\begin{tabular}{r|c}\n",
       "\t& fnlwgt\\_competerank\\\\\n",
       "\t\\hline\n",
       "\t& Int64\\\\\n",
       "\t\\hline\n",
       "\t1 & 35166 \\\\\n",
       "\t2 & 7149 \\\\\n",
       "\t3 & 44431 \\\\\n",
       "\t4 & 20001 \\\\\n",
       "\t5 & 9240 \\\\\n",
       "\t6 & 29930 \\\\\n",
       "\t7 & 35212 \\\\\n",
       "\t8 & 9501 \\\\\n",
       "\t9 & 46036 \\\\\n",
       "\t10 & 9567 \\\\\n",
       "\t11 & 26000 \\\\\n",
       "\t12 & 32881 \\\\\n",
       "\t13 & 6312 \\\\\n",
       "\t14 & 42202 \\\\\n",
       "\t15 & 40747 \\\\\n",
       "\t16 & 45000 \\\\\n",
       "\t17 & 47810 \\\\\n",
       "\t18 & 14296 \\\\\n",
       "\t19 & 4489 \\\\\n",
       "\t20 & 6637 \\\\\n",
       "\t21 & 10149 \\\\\n",
       "\t22 & 36759 \\\\\n",
       "\t23 & 14848 \\\\\n",
       "\t24 & 34315 \\\\\n",
       "\t25 & 31644 \\\\\n",
       "\t26 & 47649 \\\\\n",
       "\t27 & 36469 \\\\\n",
       "\t28 & 15261 \\\\\n",
       "\t29 & 8488 \\\\\n",
       "\t30 & 10438 \\\\\n",
       "\t$\\dots$ & $\\dots$ \\\\\n",
       "\\end{tabular}\n"
      ],
      "text/plain": [
       "\u001b[1m48842×1 DataFrame\u001b[0m\n",
       "\u001b[1m   Row \u001b[0m│\u001b[1m fnlwgt_competerank \u001b[0m\n",
       "       │\u001b[90m Int64              \u001b[0m\n",
       "───────┼────────────────────\n",
       "     1 │              35166\n",
       "     2 │               7149\n",
       "     3 │              44431\n",
       "     4 │              20001\n",
       "     5 │               9240\n",
       "     6 │              29930\n",
       "     7 │              35212\n",
       "     8 │               9501\n",
       "     9 │              46036\n",
       "    10 │               9567\n",
       "    11 │              26000\n",
       "   ⋮   │         ⋮\n",
       " 48833 │               1587\n",
       " 48834 │               6603\n",
       " 48835 │              11865\n",
       " 48836 │              43608\n",
       " 48837 │              42878\n",
       " 48838 │              38791\n",
       " 48839 │              18848\n",
       " 48840 │              18364\n",
       " 48841 │              30639\n",
       " 48842 │              41398\n",
       "\u001b[36m          48821 rows omitted\u001b[0m"
      ]
     },
     "execution_count": 99,
     "metadata": {},
     "output_type": "execute_result"
    }
   ],
   "source": [
    "select(df, :fnlwgt => competerank)"
   ]
  },
  {
   "cell_type": "code",
   "execution_count": 100,
   "id": "feb7a1e5-3534-4ff3-89fc-edb81a32e2a4",
   "metadata": {},
   "outputs": [
    {
     "data": {
      "text/html": [
       "<div><div style = \"float: left;\"><span>48842×1 DataFrame</span></div><div style = \"float: right;\"><span style = \"font-style: italic;\">48817 rows omitted</span></div><div style = \"clear: both;\"></div></div><div class = \"data-frame\" style = \"overflow-x: scroll;\"><table class = \"data-frame\" style = \"margin-bottom: 6px;\"><thead><tr class = \"header\"><th class = \"rowNumber\" style = \"font-weight: bold; text-align: right;\">Row</th><th style = \"text-align: left;\">fnlwgt_tiedrank</th></tr><tr class = \"subheader headerLastRow\"><th class = \"rowNumber\" style = \"font-weight: bold; text-align: right;\"></th><th title = \"Float64\" style = \"text-align: left;\">Float64</th></tr></thead><tbody><tr><td class = \"rowNumber\" style = \"font-weight: bold; text-align: right;\">1</td><td style = \"text-align: right;\">35166.0</td></tr><tr><td class = \"rowNumber\" style = \"font-weight: bold; text-align: right;\">2</td><td style = \"text-align: right;\">7149.0</td></tr><tr><td class = \"rowNumber\" style = \"font-weight: bold; text-align: right;\">3</td><td style = \"text-align: right;\">44432.5</td></tr><tr><td class = \"rowNumber\" style = \"font-weight: bold; text-align: right;\">4</td><td style = \"text-align: right;\">20001.5</td></tr><tr><td class = \"rowNumber\" style = \"font-weight: bold; text-align: right;\">5</td><td style = \"text-align: right;\">9240.0</td></tr><tr><td class = \"rowNumber\" style = \"font-weight: bold; text-align: right;\">6</td><td style = \"text-align: right;\">29930.0</td></tr><tr><td class = \"rowNumber\" style = \"font-weight: bold; text-align: right;\">7</td><td style = \"text-align: right;\">35212.5</td></tr><tr><td class = \"rowNumber\" style = \"font-weight: bold; text-align: right;\">8</td><td style = \"text-align: right;\">9501.0</td></tr><tr><td class = \"rowNumber\" style = \"font-weight: bold; text-align: right;\">9</td><td style = \"text-align: right;\">46036.0</td></tr><tr><td class = \"rowNumber\" style = \"font-weight: bold; text-align: right;\">10</td><td style = \"text-align: right;\">9569.0</td></tr><tr><td class = \"rowNumber\" style = \"font-weight: bold; text-align: right;\">11</td><td style = \"text-align: right;\">26000.0</td></tr><tr><td class = \"rowNumber\" style = \"font-weight: bold; text-align: right;\">12</td><td style = \"text-align: right;\">32882.5</td></tr><tr><td class = \"rowNumber\" style = \"font-weight: bold; text-align: right;\">13</td><td style = \"text-align: right;\">6312.0</td></tr><tr><td style = \"text-align: right;\">&vellip;</td><td style = \"text-align: right;\">&vellip;</td></tr><tr><td class = \"rowNumber\" style = \"font-weight: bold; text-align: right;\">48831</td><td style = \"text-align: right;\">38628.0</td></tr><tr><td class = \"rowNumber\" style = \"font-weight: bold; text-align: right;\">48832</td><td style = \"text-align: right;\">500.0</td></tr><tr><td class = \"rowNumber\" style = \"font-weight: bold; text-align: right;\">48833</td><td style = \"text-align: right;\">1587.5</td></tr><tr><td class = \"rowNumber\" style = \"font-weight: bold; text-align: right;\">48834</td><td style = \"text-align: right;\">6603.5</td></tr><tr><td class = \"rowNumber\" style = \"font-weight: bold; text-align: right;\">48835</td><td style = \"text-align: right;\">11866.0</td></tr><tr><td class = \"rowNumber\" style = \"font-weight: bold; text-align: right;\">48836</td><td style = \"text-align: right;\">43610.0</td></tr><tr><td class = \"rowNumber\" style = \"font-weight: bold; text-align: right;\">48837</td><td style = \"text-align: right;\">42879.0</td></tr><tr><td class = \"rowNumber\" style = \"font-weight: bold; text-align: right;\">48838</td><td style = \"text-align: right;\">38791.0</td></tr><tr><td class = \"rowNumber\" style = \"font-weight: bold; text-align: right;\">48839</td><td style = \"text-align: right;\">18853.0</td></tr><tr><td class = \"rowNumber\" style = \"font-weight: bold; text-align: right;\">48840</td><td style = \"text-align: right;\">18364.5</td></tr><tr><td class = \"rowNumber\" style = \"font-weight: bold; text-align: right;\">48841</td><td style = \"text-align: right;\">30640.0</td></tr><tr><td class = \"rowNumber\" style = \"font-weight: bold; text-align: right;\">48842</td><td style = \"text-align: right;\">41399.0</td></tr></tbody></table></div>"
      ],
      "text/latex": [
       "\\begin{tabular}{r|c}\n",
       "\t& fnlwgt\\_tiedrank\\\\\n",
       "\t\\hline\n",
       "\t& Float64\\\\\n",
       "\t\\hline\n",
       "\t1 & 35166.0 \\\\\n",
       "\t2 & 7149.0 \\\\\n",
       "\t3 & 44432.5 \\\\\n",
       "\t4 & 20001.5 \\\\\n",
       "\t5 & 9240.0 \\\\\n",
       "\t6 & 29930.0 \\\\\n",
       "\t7 & 35212.5 \\\\\n",
       "\t8 & 9501.0 \\\\\n",
       "\t9 & 46036.0 \\\\\n",
       "\t10 & 9569.0 \\\\\n",
       "\t11 & 26000.0 \\\\\n",
       "\t12 & 32882.5 \\\\\n",
       "\t13 & 6312.0 \\\\\n",
       "\t14 & 42203.0 \\\\\n",
       "\t15 & 40747.5 \\\\\n",
       "\t16 & 45001.0 \\\\\n",
       "\t17 & 47811.5 \\\\\n",
       "\t18 & 14298.0 \\\\\n",
       "\t19 & 4489.0 \\\\\n",
       "\t20 & 6637.5 \\\\\n",
       "\t21 & 10149.0 \\\\\n",
       "\t22 & 36759.0 \\\\\n",
       "\t23 & 14848.0 \\\\\n",
       "\t24 & 34315.5 \\\\\n",
       "\t25 & 31644.0 \\\\\n",
       "\t26 & 47649.0 \\\\\n",
       "\t27 & 36469.5 \\\\\n",
       "\t28 & 15261.0 \\\\\n",
       "\t29 & 8488.5 \\\\\n",
       "\t30 & 10440.0 \\\\\n",
       "\t$\\dots$ & $\\dots$ \\\\\n",
       "\\end{tabular}\n"
      ],
      "text/plain": [
       "\u001b[1m48842×1 DataFrame\u001b[0m\n",
       "\u001b[1m   Row \u001b[0m│\u001b[1m fnlwgt_tiedrank \u001b[0m\n",
       "       │\u001b[90m Float64         \u001b[0m\n",
       "───────┼─────────────────\n",
       "     1 │         35166.0\n",
       "     2 │          7149.0\n",
       "     3 │         44432.5\n",
       "     4 │         20001.5\n",
       "     5 │          9240.0\n",
       "     6 │         29930.0\n",
       "     7 │         35212.5\n",
       "     8 │          9501.0\n",
       "     9 │         46036.0\n",
       "    10 │          9569.0\n",
       "    11 │         26000.0\n",
       "   ⋮   │        ⋮\n",
       " 48833 │          1587.5\n",
       " 48834 │          6603.5\n",
       " 48835 │         11866.0\n",
       " 48836 │         43610.0\n",
       " 48837 │         42879.0\n",
       " 48838 │         38791.0\n",
       " 48839 │         18853.0\n",
       " 48840 │         18364.5\n",
       " 48841 │         30640.0\n",
       " 48842 │         41399.0\n",
       "\u001b[36m       48821 rows omitted\u001b[0m"
      ]
     },
     "execution_count": 100,
     "metadata": {},
     "output_type": "execute_result"
    }
   ],
   "source": [
    "select(df, :fnlwgt => tiedrank)"
   ]
  },
  {
   "cell_type": "code",
   "execution_count": 105,
   "id": "35445002-d360-41f7-961c-4873076eaa01",
   "metadata": {},
   "outputs": [
    {
     "ename": "LoadError",
     "evalue": "UndefVarError: `lag` not defined",
     "output_type": "error",
     "traceback": [
      "UndefVarError: `lag` not defined",
      "",
      "Stacktrace:",
      " [1] top-level scope",
      "   @ In[105]:1"
     ]
    }
   ],
   "source": [
    "select(df, :fnlwgt => lag)"
   ]
  },
  {
   "cell_type": "code",
   "execution_count": 108,
   "id": "9c8069e2-a94d-43e2-9ee9-f5acd0c2456a",
   "metadata": {},
   "outputs": [
    {
     "data": {
      "text/html": [
       "<div><div style = \"float: left;\"><span>15×2 DataFrame</span></div><div style = \"clear: both;\"></div></div><div class = \"data-frame\" style = \"overflow-x: scroll;\"><table class = \"data-frame\" style = \"margin-bottom: 6px;\"><thead><tr class = \"header\"><th class = \"rowNumber\" style = \"font-weight: bold; text-align: right;\">Row</th><th style = \"text-align: left;\">occupation</th><th style = \"text-align: left;\">age_mean</th></tr><tr class = \"subheader headerLastRow\"><th class = \"rowNumber\" style = \"font-weight: bold; text-align: right;\"></th><th title = \"String31\" style = \"text-align: left;\">String31</th><th title = \"Float64\" style = \"text-align: left;\">Float64</th></tr></thead><tbody><tr><td class = \"rowNumber\" style = \"font-weight: bold; text-align: right;\">1</td><td style = \"text-align: left;\">Machine-op-inspct</td><td style = \"text-align: right;\">37.4378</td></tr><tr><td class = \"rowNumber\" style = \"font-weight: bold; text-align: right;\">2</td><td style = \"text-align: left;\">Farming-fishing</td><td style = \"text-align: right;\">41.3964</td></tr><tr><td class = \"rowNumber\" style = \"font-weight: bold; text-align: right;\">3</td><td style = \"text-align: left;\">Protective-serv</td><td style = \"text-align: right;\">39.3995</td></tr><tr><td class = \"rowNumber\" style = \"font-weight: bold; text-align: right;\">4</td><td style = \"text-align: left;\">?</td><td style = \"text-align: right;\">43.3646</td></tr><tr><td class = \"rowNumber\" style = \"font-weight: bold; text-align: right;\">5</td><td style = \"text-align: left;\">Other-service</td><td style = \"text-align: right;\">34.444</td></tr><tr><td class = \"rowNumber\" style = \"font-weight: bold; text-align: right;\">6</td><td style = \"text-align: left;\">Prof-specialty</td><td style = \"text-align: right;\">41.6285</td></tr><tr><td class = \"rowNumber\" style = \"font-weight: bold; text-align: right;\">7</td><td style = \"text-align: left;\">Craft-repair</td><td style = \"text-align: right;\">38.9639</td></tr><tr><td class = \"rowNumber\" style = \"font-weight: bold; text-align: right;\">8</td><td style = \"text-align: left;\">Adm-clerical</td><td style = \"text-align: right;\">37.6069</td></tr><tr><td class = \"rowNumber\" style = \"font-weight: bold; text-align: right;\">9</td><td style = \"text-align: left;\">Exec-managerial</td><td style = \"text-align: right;\">43.2312</td></tr><tr><td class = \"rowNumber\" style = \"font-weight: bold; text-align: right;\">10</td><td style = \"text-align: left;\">Tech-support</td><td style = \"text-align: right;\">38.06</td></tr><tr><td class = \"rowNumber\" style = \"font-weight: bold; text-align: right;\">11</td><td style = \"text-align: left;\">Sales</td><td style = \"text-align: right;\">39.7807</td></tr><tr><td class = \"rowNumber\" style = \"font-weight: bold; text-align: right;\">12</td><td style = \"text-align: left;\">Priv-house-serv</td><td style = \"text-align: right;\">33.9286</td></tr><tr><td class = \"rowNumber\" style = \"font-weight: bold; text-align: right;\">13</td><td style = \"text-align: left;\">Transport-moving</td><td style = \"text-align: right;\">40.7163</td></tr><tr><td class = \"rowNumber\" style = \"font-weight: bold; text-align: right;\">14</td><td style = \"text-align: left;\">Handlers-cleaners</td><td style = \"text-align: right;\">32.3207</td></tr><tr><td class = \"rowNumber\" style = \"font-weight: bold; text-align: right;\">15</td><td style = \"text-align: left;\">Armed-Forces</td><td style = \"text-align: right;\">31.4667</td></tr></tbody></table></div>"
      ],
      "text/latex": [
       "\\begin{tabular}{r|cc}\n",
       "\t& occupation & age\\_mean\\\\\n",
       "\t\\hline\n",
       "\t& String31 & Float64\\\\\n",
       "\t\\hline\n",
       "\t1 & Machine-op-inspct & 37.4378 \\\\\n",
       "\t2 & Farming-fishing & 41.3964 \\\\\n",
       "\t3 & Protective-serv & 39.3995 \\\\\n",
       "\t4 & ? & 43.3646 \\\\\n",
       "\t5 & Other-service & 34.444 \\\\\n",
       "\t6 & Prof-specialty & 41.6285 \\\\\n",
       "\t7 & Craft-repair & 38.9639 \\\\\n",
       "\t8 & Adm-clerical & 37.6069 \\\\\n",
       "\t9 & Exec-managerial & 43.2312 \\\\\n",
       "\t10 & Tech-support & 38.06 \\\\\n",
       "\t11 & Sales & 39.7807 \\\\\n",
       "\t12 & Priv-house-serv & 33.9286 \\\\\n",
       "\t13 & Transport-moving & 40.7163 \\\\\n",
       "\t14 & Handlers-cleaners & 32.3207 \\\\\n",
       "\t15 & Armed-Forces & 31.4667 \\\\\n",
       "\\end{tabular}\n"
      ],
      "text/plain": [
       "\u001b[1m15×2 DataFrame\u001b[0m\n",
       "\u001b[1m Row \u001b[0m│\u001b[1m occupation        \u001b[0m\u001b[1m age_mean \u001b[0m\n",
       "     │\u001b[90m String31          \u001b[0m\u001b[90m Float64  \u001b[0m\n",
       "─────┼─────────────────────────────\n",
       "   1 │ Machine-op-inspct   37.4378\n",
       "   2 │ Farming-fishing     41.3964\n",
       "   3 │ Protective-serv     39.3995\n",
       "   4 │ ?                   43.3646\n",
       "   5 │ Other-service       34.444\n",
       "   6 │ Prof-specialty      41.6285\n",
       "   7 │ Craft-repair        38.9639\n",
       "   8 │ Adm-clerical        37.6069\n",
       "   9 │ Exec-managerial     43.2312\n",
       "  10 │ Tech-support        38.06\n",
       "  11 │ Sales               39.7807\n",
       "  12 │ Priv-house-serv     33.9286\n",
       "  13 │ Transport-moving    40.7163\n",
       "  14 │ Handlers-cleaners   32.3207\n",
       "  15 │ Armed-Forces        31.4667"
      ]
     },
     "execution_count": 108,
     "metadata": {},
     "output_type": "execute_result"
    }
   ],
   "source": [
    "@pipe df |>\n",
    "    filter(:sex => ==(\"Male\"),_) |>\n",
    "    groupby(_,:occupation) |>\n",
    "    combine(_,:age => mean)"
   ]
  },
  {
   "cell_type": "code",
   "execution_count": 111,
   "id": "4872e45a-b997-4c97-9235-7e5a59f80cf5",
   "metadata": {},
   "outputs": [
    {
     "data": {
      "text/html": [
       "<div><div style = \"float: left;\"><span>1×1 DataFrame</span></div><div style = \"clear: both;\"></div></div><div class = \"data-frame\" style = \"overflow-x: scroll;\"><table class = \"data-frame\" style = \"margin-bottom: 6px;\"><thead><tr class = \"header\"><th class = \"rowNumber\" style = \"font-weight: bold; text-align: right;\">Row</th><th style = \"text-align: left;\">fnlwgt_sum</th></tr><tr class = \"subheader headerLastRow\"><th class = \"rowNumber\" style = \"font-weight: bold; text-align: right;\"></th><th title = \"Int64\" style = \"text-align: left;\">Int64</th></tr></thead><tbody><tr><td class = \"rowNumber\" style = \"font-weight: bold; text-align: right;\">1</td><td style = \"text-align: right;\">9263575662</td></tr></tbody></table></div>"
      ],
      "text/latex": [
       "\\begin{tabular}{r|c}\n",
       "\t& fnlwgt\\_sum\\\\\n",
       "\t\\hline\n",
       "\t& Int64\\\\\n",
       "\t\\hline\n",
       "\t1 & 9263575662 \\\\\n",
       "\\end{tabular}\n"
      ],
      "text/plain": [
       "\u001b[1m1×1 DataFrame\u001b[0m\n",
       "\u001b[1m Row \u001b[0m│\u001b[1m fnlwgt_sum \u001b[0m\n",
       "     │\u001b[90m Int64      \u001b[0m\n",
       "─────┼────────────\n",
       "   1 │ 9263575662"
      ]
     },
     "execution_count": 111,
     "metadata": {},
     "output_type": "execute_result"
    }
   ],
   "source": [
    "combine(df, :fnlwgt => sum)"
   ]
  },
  {
   "cell_type": "code",
   "execution_count": 112,
   "id": "3170038b-51dd-4c26-9350-f8ea68d0fe3d",
   "metadata": {},
   "outputs": [
    {
     "data": {
      "text/plain": [
       "9263575662"
      ]
     },
     "execution_count": 112,
     "metadata": {},
     "output_type": "execute_result"
    }
   ],
   "source": [
    "combine(df, :fnlwgt => sum)[1,1]"
   ]
  },
  {
   "cell_type": "code",
   "execution_count": 113,
   "id": "211972b7-7e9c-4f19-b864-f028aa9a0089",
   "metadata": {},
   "outputs": [
    {
     "data": {
      "text/html": [
       "<div><div style = \"float: left;\"><span>1×1 DataFrame</span></div><div style = \"clear: both;\"></div></div><div class = \"data-frame\" style = \"overflow-x: scroll;\"><table class = \"data-frame\" style = \"margin-bottom: 6px;\"><thead><tr class = \"header\"><th class = \"rowNumber\" style = \"font-weight: bold; text-align: right;\">Row</th><th style = \"text-align: left;\">fnlwgt_total</th></tr><tr class = \"subheader headerLastRow\"><th class = \"rowNumber\" style = \"font-weight: bold; text-align: right;\"></th><th title = \"Int64\" style = \"text-align: left;\">Int64</th></tr></thead><tbody><tr><td class = \"rowNumber\" style = \"font-weight: bold; text-align: right;\">1</td><td style = \"text-align: right;\">9263575662</td></tr></tbody></table></div>"
      ],
      "text/latex": [
       "\\begin{tabular}{r|c}\n",
       "\t& fnlwgt\\_total\\\\\n",
       "\t\\hline\n",
       "\t& Int64\\\\\n",
       "\t\\hline\n",
       "\t1 & 9263575662 \\\\\n",
       "\\end{tabular}\n"
      ],
      "text/plain": [
       "\u001b[1m1×1 DataFrame\u001b[0m\n",
       "\u001b[1m Row \u001b[0m│\u001b[1m fnlwgt_total \u001b[0m\n",
       "     │\u001b[90m Int64        \u001b[0m\n",
       "─────┼──────────────\n",
       "   1 │   9263575662"
      ]
     },
     "execution_count": 113,
     "metadata": {},
     "output_type": "execute_result"
    }
   ],
   "source": [
    "combine(df, :fnlwgt => sum => :fnlwgt_total)"
   ]
  },
  {
   "cell_type": "code",
   "execution_count": 115,
   "id": "6c274aff-1de6-4ae1-9196-dd09818a911f",
   "metadata": {},
   "outputs": [
    {
     "data": {
      "text/html": [
       "<div><div style = \"float: left;\"><span>1×1 DataFrame</span></div><div style = \"clear: both;\"></div></div><div class = \"data-frame\" style = \"overflow-x: scroll;\"><table class = \"data-frame\" style = \"margin-bottom: 6px;\"><thead><tr class = \"header\"><th class = \"rowNumber\" style = \"font-weight: bold; text-align: right;\">Row</th><th style = \"text-align: left;\">age_function</th></tr><tr class = \"subheader headerLastRow\"><th class = \"rowNumber\" style = \"font-weight: bold; text-align: right;\"></th><th title = \"Float64\" style = \"text-align: left;\">Float64</th></tr></thead><tbody><tr><td class = \"rowNumber\" style = \"font-weight: bold; text-align: right;\">1</td><td style = \"text-align: right;\">38.6436</td></tr></tbody></table></div>"
      ],
      "text/latex": [
       "\\begin{tabular}{r|c}\n",
       "\t& age\\_function\\\\\n",
       "\t\\hline\n",
       "\t& Float64\\\\\n",
       "\t\\hline\n",
       "\t1 & 38.6436 \\\\\n",
       "\\end{tabular}\n"
      ],
      "text/plain": [
       "\u001b[1m1×1 DataFrame\u001b[0m\n",
       "\u001b[1m Row \u001b[0m│\u001b[1m age_function \u001b[0m\n",
       "     │\u001b[90m Float64      \u001b[0m\n",
       "─────┼──────────────\n",
       "   1 │      38.6436"
      ]
     },
     "execution_count": 115,
     "metadata": {},
     "output_type": "execute_result"
    }
   ],
   "source": [
    "combine(df, :age => (x -> mean(skipmissing(x))))"
   ]
  },
  {
   "cell_type": "code",
   "execution_count": null,
   "id": "68e968c3-31cc-426d-a712-752f78e557ac",
   "metadata": {},
   "outputs": [],
   "source": [
    "combine(df, ["
   ]
  }
 ],
 "metadata": {
  "kernelspec": {
   "display_name": "Julia 1.10.4",
   "language": "julia",
   "name": "julia-1.10"
  },
  "language_info": {
   "file_extension": ".jl",
   "mimetype": "application/julia",
   "name": "julia",
   "version": "1.10.4"
  }
 },
 "nbformat": 4,
 "nbformat_minor": 5
}
