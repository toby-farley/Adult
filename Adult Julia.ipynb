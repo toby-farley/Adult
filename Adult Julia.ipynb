{
 "cells": [
  {
   "cell_type": "code",
   "execution_count": 165,
   "id": "234be9db-5da7-4f98-9fb1-efda3675ad7f",
   "metadata": {},
   "outputs": [
    {
     "data": {
      "text/plain": [
       "Plots.GRBackend()"
      ]
     },
     "execution_count": 165,
     "metadata": {},
     "output_type": "execute_result"
    }
   ],
   "source": [
    "using CSV\n",
    "using DataFrames\n",
    "using RollingFunctions\n",
    "using StatsBase\n",
    "using ShiftedArrays\n",
    "using PairPlots\n",
    "using CairoMakie\n",
    "using StatsPlots\n",
    "using Chain\n",
    "using Query\n",
    "gr()"
   ]
  },
  {
   "cell_type": "code",
   "execution_count": 116,
   "id": "144fa255-85d2-4464-945f-ad3d5be2c973",
   "metadata": {},
   "outputs": [
    {
     "data": {
      "text/html": [
       "<div><div style = \"float: left;\"><span>48842×15 DataFrame</span></div><div style = \"float: right;\"><span style = \"font-style: italic;\">48817 rows omitted</span></div><div style = \"clear: both;\"></div></div><div class = \"data-frame\" style = \"overflow-x: scroll;\"><table class = \"data-frame\" style = \"margin-bottom: 6px;\"><thead><tr class = \"header\"><th class = \"rowNumber\" style = \"font-weight: bold; text-align: right;\">Row</th><th style = \"text-align: left;\">age</th><th style = \"text-align: left;\">workclass</th><th style = \"text-align: left;\">fnlwgt</th><th style = \"text-align: left;\">education</th><th style = \"text-align: left;\">education_num</th><th style = \"text-align: left;\">marital_status</th><th style = \"text-align: left;\">occupation</th><th style = \"text-align: left;\">relationship</th><th style = \"text-align: left;\">race</th><th style = \"text-align: left;\">sex</th><th style = \"text-align: left;\">capital_gain</th><th style = \"text-align: left;\">capital_loss</th><th style = \"text-align: left;\">hours_per_week</th><th style = \"text-align: left;\">native_country</th><th style = \"text-align: left;\">class</th></tr><tr class = \"subheader headerLastRow\"><th class = \"rowNumber\" style = \"font-weight: bold; text-align: right;\"></th><th title = \"Int64\" style = \"text-align: left;\">Int64</th><th title = \"Union{Missing, String31}\" style = \"text-align: left;\">String31?</th><th title = \"Int64\" style = \"text-align: left;\">Int64</th><th title = \"String15\" style = \"text-align: left;\">String15</th><th title = \"Int64\" style = \"text-align: left;\">Int64</th><th title = \"String31\" style = \"text-align: left;\">String31</th><th title = \"Union{Missing, String31}\" style = \"text-align: left;\">String31?</th><th title = \"String15\" style = \"text-align: left;\">String15</th><th title = \"String31\" style = \"text-align: left;\">String31</th><th title = \"String7\" style = \"text-align: left;\">String7</th><th title = \"Int64\" style = \"text-align: left;\">Int64</th><th title = \"Int64\" style = \"text-align: left;\">Int64</th><th title = \"Int64\" style = \"text-align: left;\">Int64</th><th title = \"Union{Missing, String31}\" style = \"text-align: left;\">String31?</th><th title = \"String7\" style = \"text-align: left;\">String7</th></tr></thead><tbody><tr><td class = \"rowNumber\" style = \"font-weight: bold; text-align: right;\">1</td><td style = \"text-align: right;\">25</td><td style = \"text-align: left;\">Private</td><td style = \"text-align: right;\">226802</td><td style = \"text-align: left;\">11th</td><td style = \"text-align: right;\">7</td><td style = \"text-align: left;\">Never-married</td><td style = \"text-align: left;\">Machine-op-inspct</td><td style = \"text-align: left;\">Own-child</td><td style = \"text-align: left;\">Black</td><td style = \"text-align: left;\">Male</td><td style = \"text-align: right;\">0</td><td style = \"text-align: right;\">0</td><td style = \"text-align: right;\">40</td><td style = \"text-align: left;\">United-States</td><td style = \"text-align: left;\">&lt;=50K</td></tr><tr><td class = \"rowNumber\" style = \"font-weight: bold; text-align: right;\">2</td><td style = \"text-align: right;\">38</td><td style = \"text-align: left;\">Private</td><td style = \"text-align: right;\">89814</td><td style = \"text-align: left;\">HS-grad</td><td style = \"text-align: right;\">9</td><td style = \"text-align: left;\">Married-civ-spouse</td><td style = \"text-align: left;\">Farming-fishing</td><td style = \"text-align: left;\">Husband</td><td style = \"text-align: left;\">White</td><td style = \"text-align: left;\">Male</td><td style = \"text-align: right;\">0</td><td style = \"text-align: right;\">0</td><td style = \"text-align: right;\">50</td><td style = \"text-align: left;\">United-States</td><td style = \"text-align: left;\">&lt;=50K</td></tr><tr><td class = \"rowNumber\" style = \"font-weight: bold; text-align: right;\">3</td><td style = \"text-align: right;\">28</td><td style = \"text-align: left;\">Local-gov</td><td style = \"text-align: right;\">336951</td><td style = \"text-align: left;\">Assoc-acdm</td><td style = \"text-align: right;\">12</td><td style = \"text-align: left;\">Married-civ-spouse</td><td style = \"text-align: left;\">Protective-serv</td><td style = \"text-align: left;\">Husband</td><td style = \"text-align: left;\">White</td><td style = \"text-align: left;\">Male</td><td style = \"text-align: right;\">0</td><td style = \"text-align: right;\">0</td><td style = \"text-align: right;\">40</td><td style = \"text-align: left;\">United-States</td><td style = \"text-align: left;\">&gt;50K</td></tr><tr><td class = \"rowNumber\" style = \"font-weight: bold; text-align: right;\">4</td><td style = \"text-align: right;\">44</td><td style = \"text-align: left;\">Private</td><td style = \"text-align: right;\">160323</td><td style = \"text-align: left;\">Some-college</td><td style = \"text-align: right;\">10</td><td style = \"text-align: left;\">Married-civ-spouse</td><td style = \"text-align: left;\">Machine-op-inspct</td><td style = \"text-align: left;\">Husband</td><td style = \"text-align: left;\">Black</td><td style = \"text-align: left;\">Male</td><td style = \"text-align: right;\">7688</td><td style = \"text-align: right;\">0</td><td style = \"text-align: right;\">40</td><td style = \"text-align: left;\">United-States</td><td style = \"text-align: left;\">&gt;50K</td></tr><tr><td class = \"rowNumber\" style = \"font-weight: bold; text-align: right;\">5</td><td style = \"text-align: right;\">18</td><td style = \"font-style: italic; text-align: left;\">missing</td><td style = \"text-align: right;\">103497</td><td style = \"text-align: left;\">Some-college</td><td style = \"text-align: right;\">10</td><td style = \"text-align: left;\">Never-married</td><td style = \"font-style: italic; text-align: left;\">missing</td><td style = \"text-align: left;\">Own-child</td><td style = \"text-align: left;\">White</td><td style = \"text-align: left;\">Female</td><td style = \"text-align: right;\">0</td><td style = \"text-align: right;\">0</td><td style = \"text-align: right;\">30</td><td style = \"text-align: left;\">United-States</td><td style = \"text-align: left;\">&lt;=50K</td></tr><tr><td class = \"rowNumber\" style = \"font-weight: bold; text-align: right;\">6</td><td style = \"text-align: right;\">34</td><td style = \"text-align: left;\">Private</td><td style = \"text-align: right;\">198693</td><td style = \"text-align: left;\">10th</td><td style = \"text-align: right;\">6</td><td style = \"text-align: left;\">Never-married</td><td style = \"text-align: left;\">Other-service</td><td style = \"text-align: left;\">Not-in-family</td><td style = \"text-align: left;\">White</td><td style = \"text-align: left;\">Male</td><td style = \"text-align: right;\">0</td><td style = \"text-align: right;\">0</td><td style = \"text-align: right;\">30</td><td style = \"text-align: left;\">United-States</td><td style = \"text-align: left;\">&lt;=50K</td></tr><tr><td class = \"rowNumber\" style = \"font-weight: bold; text-align: right;\">7</td><td style = \"text-align: right;\">29</td><td style = \"font-style: italic; text-align: left;\">missing</td><td style = \"text-align: right;\">227026</td><td style = \"text-align: left;\">HS-grad</td><td style = \"text-align: right;\">9</td><td style = \"text-align: left;\">Never-married</td><td style = \"font-style: italic; text-align: left;\">missing</td><td style = \"text-align: left;\">Unmarried</td><td style = \"text-align: left;\">Black</td><td style = \"text-align: left;\">Male</td><td style = \"text-align: right;\">0</td><td style = \"text-align: right;\">0</td><td style = \"text-align: right;\">40</td><td style = \"text-align: left;\">United-States</td><td style = \"text-align: left;\">&lt;=50K</td></tr><tr><td class = \"rowNumber\" style = \"font-weight: bold; text-align: right;\">8</td><td style = \"text-align: right;\">63</td><td style = \"text-align: left;\">Self-emp-not-inc</td><td style = \"text-align: right;\">104626</td><td style = \"text-align: left;\">Prof-school</td><td style = \"text-align: right;\">15</td><td style = \"text-align: left;\">Married-civ-spouse</td><td style = \"text-align: left;\">Prof-specialty</td><td style = \"text-align: left;\">Husband</td><td style = \"text-align: left;\">White</td><td style = \"text-align: left;\">Male</td><td style = \"text-align: right;\">3103</td><td style = \"text-align: right;\">0</td><td style = \"text-align: right;\">32</td><td style = \"text-align: left;\">United-States</td><td style = \"text-align: left;\">&gt;50K</td></tr><tr><td class = \"rowNumber\" style = \"font-weight: bold; text-align: right;\">9</td><td style = \"text-align: right;\">24</td><td style = \"text-align: left;\">Private</td><td style = \"text-align: right;\">369667</td><td style = \"text-align: left;\">Some-college</td><td style = \"text-align: right;\">10</td><td style = \"text-align: left;\">Never-married</td><td style = \"text-align: left;\">Other-service</td><td style = \"text-align: left;\">Unmarried</td><td style = \"text-align: left;\">White</td><td style = \"text-align: left;\">Female</td><td style = \"text-align: right;\">0</td><td style = \"text-align: right;\">0</td><td style = \"text-align: right;\">40</td><td style = \"text-align: left;\">United-States</td><td style = \"text-align: left;\">&lt;=50K</td></tr><tr><td class = \"rowNumber\" style = \"font-weight: bold; text-align: right;\">10</td><td style = \"text-align: right;\">55</td><td style = \"text-align: left;\">Private</td><td style = \"text-align: right;\">104996</td><td style = \"text-align: left;\">7th-8th</td><td style = \"text-align: right;\">4</td><td style = \"text-align: left;\">Married-civ-spouse</td><td style = \"text-align: left;\">Craft-repair</td><td style = \"text-align: left;\">Husband</td><td style = \"text-align: left;\">White</td><td style = \"text-align: left;\">Male</td><td style = \"text-align: right;\">0</td><td style = \"text-align: right;\">0</td><td style = \"text-align: right;\">10</td><td style = \"text-align: left;\">United-States</td><td style = \"text-align: left;\">&lt;=50K</td></tr><tr><td class = \"rowNumber\" style = \"font-weight: bold; text-align: right;\">11</td><td style = \"text-align: right;\">65</td><td style = \"text-align: left;\">Private</td><td style = \"text-align: right;\">184454</td><td style = \"text-align: left;\">HS-grad</td><td style = \"text-align: right;\">9</td><td style = \"text-align: left;\">Married-civ-spouse</td><td style = \"text-align: left;\">Machine-op-inspct</td><td style = \"text-align: left;\">Husband</td><td style = \"text-align: left;\">White</td><td style = \"text-align: left;\">Male</td><td style = \"text-align: right;\">6418</td><td style = \"text-align: right;\">0</td><td style = \"text-align: right;\">40</td><td style = \"text-align: left;\">United-States</td><td style = \"text-align: left;\">&gt;50K</td></tr><tr><td class = \"rowNumber\" style = \"font-weight: bold; text-align: right;\">12</td><td style = \"text-align: right;\">36</td><td style = \"text-align: left;\">Federal-gov</td><td style = \"text-align: right;\">212465</td><td style = \"text-align: left;\">Bachelors</td><td style = \"text-align: right;\">13</td><td style = \"text-align: left;\">Married-civ-spouse</td><td style = \"text-align: left;\">Adm-clerical</td><td style = \"text-align: left;\">Husband</td><td style = \"text-align: left;\">White</td><td style = \"text-align: left;\">Male</td><td style = \"text-align: right;\">0</td><td style = \"text-align: right;\">0</td><td style = \"text-align: right;\">40</td><td style = \"text-align: left;\">United-States</td><td style = \"text-align: left;\">&lt;=50K</td></tr><tr><td class = \"rowNumber\" style = \"font-weight: bold; text-align: right;\">13</td><td style = \"text-align: right;\">26</td><td style = \"text-align: left;\">Private</td><td style = \"text-align: right;\">82091</td><td style = \"text-align: left;\">HS-grad</td><td style = \"text-align: right;\">9</td><td style = \"text-align: left;\">Never-married</td><td style = \"text-align: left;\">Adm-clerical</td><td style = \"text-align: left;\">Not-in-family</td><td style = \"text-align: left;\">White</td><td style = \"text-align: left;\">Female</td><td style = \"text-align: right;\">0</td><td style = \"text-align: right;\">0</td><td style = \"text-align: right;\">39</td><td style = \"text-align: left;\">United-States</td><td style = \"text-align: left;\">&lt;=50K</td></tr><tr><td style = \"text-align: right;\">&vellip;</td><td style = \"text-align: right;\">&vellip;</td><td style = \"text-align: right;\">&vellip;</td><td style = \"text-align: right;\">&vellip;</td><td style = \"text-align: right;\">&vellip;</td><td style = \"text-align: right;\">&vellip;</td><td style = \"text-align: right;\">&vellip;</td><td style = \"text-align: right;\">&vellip;</td><td style = \"text-align: right;\">&vellip;</td><td style = \"text-align: right;\">&vellip;</td><td style = \"text-align: right;\">&vellip;</td><td style = \"text-align: right;\">&vellip;</td><td style = \"text-align: right;\">&vellip;</td><td style = \"text-align: right;\">&vellip;</td><td style = \"text-align: right;\">&vellip;</td><td style = \"text-align: right;\">&vellip;</td></tr><tr><td class = \"rowNumber\" style = \"font-weight: bold; text-align: right;\">48831</td><td style = \"text-align: right;\">43</td><td style = \"text-align: left;\">State-gov</td><td style = \"text-align: right;\">255835</td><td style = \"text-align: left;\">Some-college</td><td style = \"text-align: right;\">10</td><td style = \"text-align: left;\">Divorced</td><td style = \"text-align: left;\">Adm-clerical</td><td style = \"text-align: left;\">Other-relative</td><td style = \"text-align: left;\">White</td><td style = \"text-align: left;\">Female</td><td style = \"text-align: right;\">0</td><td style = \"text-align: right;\">0</td><td style = \"text-align: right;\">40</td><td style = \"text-align: left;\">United-States</td><td style = \"text-align: left;\">&lt;=50K</td></tr><tr><td class = \"rowNumber\" style = \"font-weight: bold; text-align: right;\">48832</td><td style = \"text-align: right;\">43</td><td style = \"text-align: left;\">Self-emp-not-inc</td><td style = \"text-align: right;\">27242</td><td style = \"text-align: left;\">Some-college</td><td style = \"text-align: right;\">10</td><td style = \"text-align: left;\">Married-civ-spouse</td><td style = \"text-align: left;\">Craft-repair</td><td style = \"text-align: left;\">Husband</td><td style = \"text-align: left;\">White</td><td style = \"text-align: left;\">Male</td><td style = \"text-align: right;\">0</td><td style = \"text-align: right;\">0</td><td style = \"text-align: right;\">50</td><td style = \"text-align: left;\">United-States</td><td style = \"text-align: left;\">&lt;=50K</td></tr><tr><td class = \"rowNumber\" style = \"font-weight: bold; text-align: right;\">48833</td><td style = \"text-align: right;\">32</td><td style = \"text-align: left;\">Private</td><td style = \"text-align: right;\">34066</td><td style = \"text-align: left;\">10th</td><td style = \"text-align: right;\">6</td><td style = \"text-align: left;\">Married-civ-spouse</td><td style = \"text-align: left;\">Handlers-cleaners</td><td style = \"text-align: left;\">Husband</td><td style = \"text-align: left;\">Amer-Indian-Eskimo</td><td style = \"text-align: left;\">Male</td><td style = \"text-align: right;\">0</td><td style = \"text-align: right;\">0</td><td style = \"text-align: right;\">40</td><td style = \"text-align: left;\">United-States</td><td style = \"text-align: left;\">&lt;=50K</td></tr><tr><td class = \"rowNumber\" style = \"font-weight: bold; text-align: right;\">48834</td><td style = \"text-align: right;\">43</td><td style = \"text-align: left;\">Private</td><td style = \"text-align: right;\">84661</td><td style = \"text-align: left;\">Assoc-voc</td><td style = \"text-align: right;\">11</td><td style = \"text-align: left;\">Married-civ-spouse</td><td style = \"text-align: left;\">Sales</td><td style = \"text-align: left;\">Husband</td><td style = \"text-align: left;\">White</td><td style = \"text-align: left;\">Male</td><td style = \"text-align: right;\">0</td><td style = \"text-align: right;\">0</td><td style = \"text-align: right;\">45</td><td style = \"text-align: left;\">United-States</td><td style = \"text-align: left;\">&lt;=50K</td></tr><tr><td class = \"rowNumber\" style = \"font-weight: bold; text-align: right;\">48835</td><td style = \"text-align: right;\">32</td><td style = \"text-align: left;\">Private</td><td style = \"text-align: right;\">116138</td><td style = \"text-align: left;\">Masters</td><td style = \"text-align: right;\">14</td><td style = \"text-align: left;\">Never-married</td><td style = \"text-align: left;\">Tech-support</td><td style = \"text-align: left;\">Not-in-family</td><td style = \"text-align: left;\">Asian-Pac-Islander</td><td style = \"text-align: left;\">Male</td><td style = \"text-align: right;\">0</td><td style = \"text-align: right;\">0</td><td style = \"text-align: right;\">11</td><td style = \"text-align: left;\">Taiwan</td><td style = \"text-align: left;\">&lt;=50K</td></tr><tr><td class = \"rowNumber\" style = \"font-weight: bold; text-align: right;\">48836</td><td style = \"text-align: right;\">53</td><td style = \"text-align: left;\">Private</td><td style = \"text-align: right;\">321865</td><td style = \"text-align: left;\">Masters</td><td style = \"text-align: right;\">14</td><td style = \"text-align: left;\">Married-civ-spouse</td><td style = \"text-align: left;\">Exec-managerial</td><td style = \"text-align: left;\">Husband</td><td style = \"text-align: left;\">White</td><td style = \"text-align: left;\">Male</td><td style = \"text-align: right;\">0</td><td style = \"text-align: right;\">0</td><td style = \"text-align: right;\">40</td><td style = \"text-align: left;\">United-States</td><td style = \"text-align: left;\">&gt;50K</td></tr><tr><td class = \"rowNumber\" style = \"font-weight: bold; text-align: right;\">48837</td><td style = \"text-align: right;\">22</td><td style = \"text-align: left;\">Private</td><td style = \"text-align: right;\">310152</td><td style = \"text-align: left;\">Some-college</td><td style = \"text-align: right;\">10</td><td style = \"text-align: left;\">Never-married</td><td style = \"text-align: left;\">Protective-serv</td><td style = \"text-align: left;\">Not-in-family</td><td style = \"text-align: left;\">White</td><td style = \"text-align: left;\">Male</td><td style = \"text-align: right;\">0</td><td style = \"text-align: right;\">0</td><td style = \"text-align: right;\">40</td><td style = \"text-align: left;\">United-States</td><td style = \"text-align: left;\">&lt;=50K</td></tr><tr><td class = \"rowNumber\" style = \"font-weight: bold; text-align: right;\">48838</td><td style = \"text-align: right;\">27</td><td style = \"text-align: left;\">Private</td><td style = \"text-align: right;\">257302</td><td style = \"text-align: left;\">Assoc-acdm</td><td style = \"text-align: right;\">12</td><td style = \"text-align: left;\">Married-civ-spouse</td><td style = \"text-align: left;\">Tech-support</td><td style = \"text-align: left;\">Wife</td><td style = \"text-align: left;\">White</td><td style = \"text-align: left;\">Female</td><td style = \"text-align: right;\">0</td><td style = \"text-align: right;\">0</td><td style = \"text-align: right;\">38</td><td style = \"text-align: left;\">United-States</td><td style = \"text-align: left;\">&lt;=50K</td></tr><tr><td class = \"rowNumber\" style = \"font-weight: bold; text-align: right;\">48839</td><td style = \"text-align: right;\">40</td><td style = \"text-align: left;\">Private</td><td style = \"text-align: right;\">154374</td><td style = \"text-align: left;\">HS-grad</td><td style = \"text-align: right;\">9</td><td style = \"text-align: left;\">Married-civ-spouse</td><td style = \"text-align: left;\">Machine-op-inspct</td><td style = \"text-align: left;\">Husband</td><td style = \"text-align: left;\">White</td><td style = \"text-align: left;\">Male</td><td style = \"text-align: right;\">0</td><td style = \"text-align: right;\">0</td><td style = \"text-align: right;\">40</td><td style = \"text-align: left;\">United-States</td><td style = \"text-align: left;\">&gt;50K</td></tr><tr><td class = \"rowNumber\" style = \"font-weight: bold; text-align: right;\">48840</td><td style = \"text-align: right;\">58</td><td style = \"text-align: left;\">Private</td><td style = \"text-align: right;\">151910</td><td style = \"text-align: left;\">HS-grad</td><td style = \"text-align: right;\">9</td><td style = \"text-align: left;\">Widowed</td><td style = \"text-align: left;\">Adm-clerical</td><td style = \"text-align: left;\">Unmarried</td><td style = \"text-align: left;\">White</td><td style = \"text-align: left;\">Female</td><td style = \"text-align: right;\">0</td><td style = \"text-align: right;\">0</td><td style = \"text-align: right;\">40</td><td style = \"text-align: left;\">United-States</td><td style = \"text-align: left;\">&lt;=50K</td></tr><tr><td class = \"rowNumber\" style = \"font-weight: bold; text-align: right;\">48841</td><td style = \"text-align: right;\">22</td><td style = \"text-align: left;\">Private</td><td style = \"text-align: right;\">201490</td><td style = \"text-align: left;\">HS-grad</td><td style = \"text-align: right;\">9</td><td style = \"text-align: left;\">Never-married</td><td style = \"text-align: left;\">Adm-clerical</td><td style = \"text-align: left;\">Own-child</td><td style = \"text-align: left;\">White</td><td style = \"text-align: left;\">Male</td><td style = \"text-align: right;\">0</td><td style = \"text-align: right;\">0</td><td style = \"text-align: right;\">20</td><td style = \"text-align: left;\">United-States</td><td style = \"text-align: left;\">&lt;=50K</td></tr><tr><td class = \"rowNumber\" style = \"font-weight: bold; text-align: right;\">48842</td><td style = \"text-align: right;\">52</td><td style = \"text-align: left;\">Self-emp-inc</td><td style = \"text-align: right;\">287927</td><td style = \"text-align: left;\">HS-grad</td><td style = \"text-align: right;\">9</td><td style = \"text-align: left;\">Married-civ-spouse</td><td style = \"text-align: left;\">Exec-managerial</td><td style = \"text-align: left;\">Wife</td><td style = \"text-align: left;\">White</td><td style = \"text-align: left;\">Female</td><td style = \"text-align: right;\">15024</td><td style = \"text-align: right;\">0</td><td style = \"text-align: right;\">40</td><td style = \"text-align: left;\">United-States</td><td style = \"text-align: left;\">&gt;50K</td></tr></tbody></table></div>"
      ],
      "text/latex": [
       "\\begin{tabular}{r|ccccccc}\n",
       "\t& age & workclass & fnlwgt & education & education\\_num & marital\\_status & \\\\\n",
       "\t\\hline\n",
       "\t& Int64 & String31? & Int64 & String15 & Int64 & String31 & \\\\\n",
       "\t\\hline\n",
       "\t1 & 25 & Private & 226802 & 11th & 7 & Never-married & $\\dots$ \\\\\n",
       "\t2 & 38 & Private & 89814 & HS-grad & 9 & Married-civ-spouse & $\\dots$ \\\\\n",
       "\t3 & 28 & Local-gov & 336951 & Assoc-acdm & 12 & Married-civ-spouse & $\\dots$ \\\\\n",
       "\t4 & 44 & Private & 160323 & Some-college & 10 & Married-civ-spouse & $\\dots$ \\\\\n",
       "\t5 & 18 & \\emph{missing} & 103497 & Some-college & 10 & Never-married & $\\dots$ \\\\\n",
       "\t6 & 34 & Private & 198693 & 10th & 6 & Never-married & $\\dots$ \\\\\n",
       "\t7 & 29 & \\emph{missing} & 227026 & HS-grad & 9 & Never-married & $\\dots$ \\\\\n",
       "\t8 & 63 & Self-emp-not-inc & 104626 & Prof-school & 15 & Married-civ-spouse & $\\dots$ \\\\\n",
       "\t9 & 24 & Private & 369667 & Some-college & 10 & Never-married & $\\dots$ \\\\\n",
       "\t10 & 55 & Private & 104996 & 7th-8th & 4 & Married-civ-spouse & $\\dots$ \\\\\n",
       "\t11 & 65 & Private & 184454 & HS-grad & 9 & Married-civ-spouse & $\\dots$ \\\\\n",
       "\t12 & 36 & Federal-gov & 212465 & Bachelors & 13 & Married-civ-spouse & $\\dots$ \\\\\n",
       "\t13 & 26 & Private & 82091 & HS-grad & 9 & Never-married & $\\dots$ \\\\\n",
       "\t14 & 58 & \\emph{missing} & 299831 & HS-grad & 9 & Married-civ-spouse & $\\dots$ \\\\\n",
       "\t15 & 48 & Private & 279724 & HS-grad & 9 & Married-civ-spouse & $\\dots$ \\\\\n",
       "\t16 & 43 & Private & 346189 & Masters & 14 & Married-civ-spouse & $\\dots$ \\\\\n",
       "\t17 & 20 & State-gov & 444554 & Some-college & 10 & Never-married & $\\dots$ \\\\\n",
       "\t18 & 43 & Private & 128354 & HS-grad & 9 & Married-civ-spouse & $\\dots$ \\\\\n",
       "\t19 & 37 & Private & 60548 & HS-grad & 9 & Widowed & $\\dots$ \\\\\n",
       "\t20 & 40 & Private & 85019 & Doctorate & 16 & Married-civ-spouse & $\\dots$ \\\\\n",
       "\t21 & 34 & Private & 107914 & Bachelors & 13 & Married-civ-spouse & $\\dots$ \\\\\n",
       "\t22 & 34 & Private & 238588 & Some-college & 10 & Never-married & $\\dots$ \\\\\n",
       "\t23 & 72 & \\emph{missing} & 132015 & 7th-8th & 4 & Divorced & $\\dots$ \\\\\n",
       "\t24 & 25 & Private & 220931 & Bachelors & 13 & Never-married & $\\dots$ \\\\\n",
       "\t25 & 25 & Private & 205947 & Bachelors & 13 & Married-civ-spouse & $\\dots$ \\\\\n",
       "\t26 & 45 & Self-emp-not-inc & 432824 & HS-grad & 9 & Married-civ-spouse & $\\dots$ \\\\\n",
       "\t27 & 22 & Private & 236427 & HS-grad & 9 & Never-married & $\\dots$ \\\\\n",
       "\t28 & 23 & Private & 134446 & HS-grad & 9 & Separated & $\\dots$ \\\\\n",
       "\t29 & 54 & Private & 99516 & HS-grad & 9 & Married-civ-spouse & $\\dots$ \\\\\n",
       "\t30 & 32 & Self-emp-not-inc & 109282 & Some-college & 10 & Never-married & $\\dots$ \\\\\n",
       "\t$\\dots$ & $\\dots$ & $\\dots$ & $\\dots$ & $\\dots$ & $\\dots$ & $\\dots$ &  \\\\\n",
       "\\end{tabular}\n"
      ],
      "text/plain": [
       "\u001b[1m48842×15 DataFrame\u001b[0m\n",
       "\u001b[1m   Row \u001b[0m│\u001b[1m age   \u001b[0m\u001b[1m workclass        \u001b[0m\u001b[1m fnlwgt \u001b[0m\u001b[1m education    \u001b[0m\u001b[1m education_num \u001b[0m\u001b[1m marital\u001b[0m ⋯\n",
       "       │\u001b[90m Int64 \u001b[0m\u001b[90m String31?        \u001b[0m\u001b[90m Int64  \u001b[0m\u001b[90m String15     \u001b[0m\u001b[90m Int64         \u001b[0m\u001b[90m String3\u001b[0m ⋯\n",
       "───────┼────────────────────────────────────────────────────────────────────────\n",
       "     1 │    25  Private           226802  11th                      7  Never-m ⋯\n",
       "     2 │    38  Private            89814  HS-grad                   9  Married\n",
       "     3 │    28  Local-gov         336951  Assoc-acdm               12  Married\n",
       "     4 │    44  Private           160323  Some-college             10  Married\n",
       "     5 │    18 \u001b[90m missing          \u001b[0m 103497  Some-college             10  Never-m ⋯\n",
       "     6 │    34  Private           198693  10th                      6  Never-m\n",
       "     7 │    29 \u001b[90m missing          \u001b[0m 227026  HS-grad                   9  Never-m\n",
       "     8 │    63  Self-emp-not-inc  104626  Prof-school              15  Married\n",
       "     9 │    24  Private           369667  Some-college             10  Never-m ⋯\n",
       "    10 │    55  Private           104996  7th-8th                   4  Married\n",
       "    11 │    65  Private           184454  HS-grad                   9  Married\n",
       "   ⋮   │   ⋮           ⋮            ⋮          ⋮              ⋮                ⋱\n",
       " 48833 │    32  Private            34066  10th                      6  Married\n",
       " 48834 │    43  Private            84661  Assoc-voc                11  Married ⋯\n",
       " 48835 │    32  Private           116138  Masters                  14  Never-m\n",
       " 48836 │    53  Private           321865  Masters                  14  Married\n",
       " 48837 │    22  Private           310152  Some-college             10  Never-m\n",
       " 48838 │    27  Private           257302  Assoc-acdm               12  Married ⋯\n",
       " 48839 │    40  Private           154374  HS-grad                   9  Married\n",
       " 48840 │    58  Private           151910  HS-grad                   9  Widowed\n",
       " 48841 │    22  Private           201490  HS-grad                   9  Never-m\n",
       " 48842 │    52  Self-emp-inc      287927  HS-grad                   9  Married ⋯\n",
       "\u001b[36m                                               10 columns and 48821 rows omitted\u001b[0m"
      ]
     },
     "execution_count": 116,
     "metadata": {},
     "output_type": "execute_result"
    }
   ],
   "source": [
    "df = DataFrame(CSV.File(\"Adult.csv\", missingstring=\"?\"))"
   ]
  },
  {
   "cell_type": "code",
   "execution_count": null,
   "id": "db0f26f5-1445-45ad-840c-74f17182b3b9",
   "metadata": {},
   "outputs": [],
   "source": []
  },
  {
   "cell_type": "code",
   "execution_count": 33,
   "id": "0e5b2234-2c54-49ca-9fe3-61285c7357a3",
   "metadata": {},
   "outputs": [
    {
     "data": {
      "text/html": [
       "<div><div style = \"float: left;\"><span>15×2 DataFrame</span></div><div style = \"clear: both;\"></div></div><div class = \"data-frame\" style = \"overflow-x: scroll;\"><table class = \"data-frame\" style = \"margin-bottom: 6px;\"><thead><tr class = \"header\"><th class = \"rowNumber\" style = \"font-weight: bold; text-align: right;\">Row</th><th style = \"text-align: left;\">variable</th><th style = \"text-align: left;\">sum</th></tr><tr class = \"subheader headerLastRow\"><th class = \"rowNumber\" style = \"font-weight: bold; text-align: right;\"></th><th title = \"Symbol\" style = \"text-align: left;\">Symbol</th><th title = \"Union{Nothing, Int64}\" style = \"text-align: left;\">Union…</th></tr></thead><tbody><tr><td class = \"rowNumber\" style = \"font-weight: bold; text-align: right;\">1</td><td style = \"text-align: left;\">Age</td><td style = \"text-align: left;\">1887430</td></tr><tr><td class = \"rowNumber\" style = \"font-weight: bold; text-align: right;\">2</td><td style = \"text-align: left;\">Type_Employer</td><td style = \"font-style: italic; text-align: left;\"></td></tr><tr><td class = \"rowNumber\" style = \"font-weight: bold; text-align: right;\">3</td><td style = \"text-align: left;\">fnlwgt</td><td style = \"text-align: left;\">9263575662</td></tr><tr><td class = \"rowNumber\" style = \"font-weight: bold; text-align: right;\">4</td><td style = \"text-align: left;\">Education</td><td style = \"font-style: italic; text-align: left;\"></td></tr><tr><td class = \"rowNumber\" style = \"font-weight: bold; text-align: right;\">5</td><td style = \"text-align: left;\">Education_num</td><td style = \"text-align: left;\">492234</td></tr><tr><td class = \"rowNumber\" style = \"font-weight: bold; text-align: right;\">6</td><td style = \"text-align: left;\">Marital</td><td style = \"font-style: italic; text-align: left;\"></td></tr><tr><td class = \"rowNumber\" style = \"font-weight: bold; text-align: right;\">7</td><td style = \"text-align: left;\">occupation</td><td style = \"font-style: italic; text-align: left;\"></td></tr><tr><td class = \"rowNumber\" style = \"font-weight: bold; text-align: right;\">8</td><td style = \"text-align: left;\">Relationship</td><td style = \"font-style: italic; text-align: left;\"></td></tr><tr><td class = \"rowNumber\" style = \"font-weight: bold; text-align: right;\">9</td><td style = \"text-align: left;\">Race</td><td style = \"font-style: italic; text-align: left;\"></td></tr><tr><td class = \"rowNumber\" style = \"font-weight: bold; text-align: right;\">10</td><td style = \"text-align: left;\">sex</td><td style = \"font-style: italic; text-align: left;\"></td></tr><tr><td class = \"rowNumber\" style = \"font-weight: bold; text-align: right;\">11</td><td style = \"text-align: left;\">Capital_gain</td><td style = \"text-align: left;\">52703821</td></tr><tr><td class = \"rowNumber\" style = \"font-weight: bold; text-align: right;\">12</td><td style = \"text-align: left;\">Capital_loss</td><td style = \"text-align: left;\">4273788</td></tr><tr><td class = \"rowNumber\" style = \"font-weight: bold; text-align: right;\">13</td><td style = \"text-align: left;\">Hour_per_week</td><td style = \"text-align: left;\">1974310</td></tr><tr><td class = \"rowNumber\" style = \"font-weight: bold; text-align: right;\">14</td><td style = \"text-align: left;\">Country</td><td style = \"font-style: italic; text-align: left;\"></td></tr><tr><td class = \"rowNumber\" style = \"font-weight: bold; text-align: right;\">15</td><td style = \"text-align: left;\">Income</td><td style = \"font-style: italic; text-align: left;\"></td></tr></tbody></table></div>"
      ],
      "text/latex": [
       "\\begin{tabular}{r|cc}\n",
       "\t& variable & sum\\\\\n",
       "\t\\hline\n",
       "\t& Symbol & Union…\\\\\n",
       "\t\\hline\n",
       "\t1 & Age & 1887430 \\\\\n",
       "\t2 & Type\\_Employer &  \\\\\n",
       "\t3 & fnlwgt & 9263575662 \\\\\n",
       "\t4 & Education &  \\\\\n",
       "\t5 & Education\\_num & 492234 \\\\\n",
       "\t6 & Marital &  \\\\\n",
       "\t7 & occupation &  \\\\\n",
       "\t8 & Relationship &  \\\\\n",
       "\t9 & Race &  \\\\\n",
       "\t10 & sex &  \\\\\n",
       "\t11 & Capital\\_gain & 52703821 \\\\\n",
       "\t12 & Capital\\_loss & 4273788 \\\\\n",
       "\t13 & Hour\\_per\\_week & 1974310 \\\\\n",
       "\t14 & Country &  \\\\\n",
       "\t15 & Income &  \\\\\n",
       "\\end{tabular}\n"
      ],
      "text/plain": [
       "\u001b[1m15×2 DataFrame\u001b[0m\n",
       "\u001b[1m Row \u001b[0m│\u001b[1m variable      \u001b[0m\u001b[1m sum        \u001b[0m\n",
       "     │\u001b[90m Symbol        \u001b[0m\u001b[90m Union…     \u001b[0m\n",
       "─────┼───────────────────────────\n",
       "   1 │ Age            1887430\n",
       "   2 │ Type_Employer \u001b[90m            \u001b[0m\n",
       "   3 │ fnlwgt         9263575662\n",
       "   4 │ Education     \u001b[90m            \u001b[0m\n",
       "   5 │ Education_num  492234\n",
       "   6 │ Marital       \u001b[90m            \u001b[0m\n",
       "   7 │ occupation    \u001b[90m            \u001b[0m\n",
       "   8 │ Relationship  \u001b[90m            \u001b[0m\n",
       "   9 │ Race          \u001b[90m            \u001b[0m\n",
       "  10 │ sex           \u001b[90m            \u001b[0m\n",
       "  11 │ Capital_gain   52703821\n",
       "  12 │ Capital_loss   4273788\n",
       "  13 │ Hour_per_week  1974310\n",
       "  14 │ Country       \u001b[90m            \u001b[0m\n",
       "  15 │ Income        \u001b[90m            \u001b[0m"
      ]
     },
     "execution_count": 33,
     "metadata": {},
     "output_type": "execute_result"
    }
   ],
   "source": [
    "describe(df)\n",
    "totals = describe(df, sum => :sum)"
   ]
  },
  {
   "cell_type": "code",
   "execution_count": 27,
   "id": "9685a817-01f0-47f2-be41-8383253a35ab",
   "metadata": {},
   "outputs": [
    {
     "data": {
      "text/plain": [
       "9263575662"
      ]
     },
     "execution_count": 27,
     "metadata": {},
     "output_type": "execute_result"
    }
   ],
   "source": [
    "fnlwgt = totals[3, 2]"
   ]
  },
  {
   "cell_type": "code",
   "execution_count": 28,
   "id": "cbbcbad0-6b96-4377-aab0-054f91d298f4",
   "metadata": {},
   "outputs": [
    {
     "data": {
      "text/plain": [
       "0.02814658275740869"
      ]
     },
     "execution_count": 28,
     "metadata": {},
     "output_type": "execute_result"
    }
   ],
   "source": [
    "factor = 260_737_999.0/fnlwgt"
   ]
  },
  {
   "cell_type": "code",
   "execution_count": 30,
   "id": "c817c1d2-ca8b-4192-8722-8d300b2bbb4a",
   "metadata": {},
   "outputs": [
    {
     "data": {
      "text/html": [
       "<div><div style = \"float: left;\"><span>15×7 DataFrame</span></div><div style = \"clear: both;\"></div></div><div class = \"data-frame\" style = \"overflow-x: scroll;\"><table class = \"data-frame\" style = \"margin-bottom: 6px;\"><thead><tr class = \"header\"><th class = \"rowNumber\" style = \"font-weight: bold; text-align: right;\">Row</th><th style = \"text-align: left;\">variable</th><th style = \"text-align: left;\">mean</th><th style = \"text-align: left;\">min</th><th style = \"text-align: left;\">median</th><th style = \"text-align: left;\">max</th><th style = \"text-align: left;\">nmissing</th><th style = \"text-align: left;\">eltype</th></tr><tr class = \"subheader headerLastRow\"><th class = \"rowNumber\" style = \"font-weight: bold; text-align: right;\"></th><th title = \"Symbol\" style = \"text-align: left;\">Symbol</th><th title = \"Union{Nothing, Float64}\" style = \"text-align: left;\">Union…</th><th title = \"Any\" style = \"text-align: left;\">Any</th><th title = \"Union{Nothing, Float64}\" style = \"text-align: left;\">Union…</th><th title = \"Any\" style = \"text-align: left;\">Any</th><th title = \"Int64\" style = \"text-align: left;\">Int64</th><th title = \"DataType\" style = \"text-align: left;\">DataType</th></tr></thead><tbody><tr><td class = \"rowNumber\" style = \"font-weight: bold; text-align: right;\">1</td><td style = \"text-align: left;\">age</td><td style = \"text-align: left;\">38.6436</td><td style = \"text-align: left;\">17</td><td style = \"text-align: left;\">37.0</td><td style = \"text-align: left;\">90</td><td style = \"text-align: right;\">0</td><td style = \"text-align: left;\">Int64</td></tr><tr><td class = \"rowNumber\" style = \"font-weight: bold; text-align: right;\">2</td><td style = \"text-align: left;\">workclass</td><td style = \"font-style: italic; text-align: left;\"></td><td style = \"text-align: left;\">?</td><td style = \"font-style: italic; text-align: left;\"></td><td style = \"text-align: left;\">Without-pay</td><td style = \"text-align: right;\">0</td><td style = \"text-align: left;\">String31</td></tr><tr><td class = \"rowNumber\" style = \"font-weight: bold; text-align: right;\">3</td><td style = \"text-align: left;\">fnlwgt</td><td style = \"text-align: left;\">1.89664e5</td><td style = \"text-align: left;\">12285</td><td style = \"text-align: left;\">1.78144e5</td><td style = \"text-align: left;\">1490400</td><td style = \"text-align: right;\">0</td><td style = \"text-align: left;\">Int64</td></tr><tr><td class = \"rowNumber\" style = \"font-weight: bold; text-align: right;\">4</td><td style = \"text-align: left;\">education</td><td style = \"font-style: italic; text-align: left;\"></td><td style = \"text-align: left;\">10th</td><td style = \"font-style: italic; text-align: left;\"></td><td style = \"text-align: left;\">Some-college</td><td style = \"text-align: right;\">0</td><td style = \"text-align: left;\">String15</td></tr><tr><td class = \"rowNumber\" style = \"font-weight: bold; text-align: right;\">5</td><td style = \"text-align: left;\">education_num</td><td style = \"text-align: left;\">10.0781</td><td style = \"text-align: left;\">1</td><td style = \"text-align: left;\">10.0</td><td style = \"text-align: left;\">16</td><td style = \"text-align: right;\">0</td><td style = \"text-align: left;\">Int64</td></tr><tr><td class = \"rowNumber\" style = \"font-weight: bold; text-align: right;\">6</td><td style = \"text-align: left;\">marital_status</td><td style = \"font-style: italic; text-align: left;\"></td><td style = \"text-align: left;\">Divorced</td><td style = \"font-style: italic; text-align: left;\"></td><td style = \"text-align: left;\">Widowed</td><td style = \"text-align: right;\">0</td><td style = \"text-align: left;\">String31</td></tr><tr><td class = \"rowNumber\" style = \"font-weight: bold; text-align: right;\">7</td><td style = \"text-align: left;\">occupation</td><td style = \"font-style: italic; text-align: left;\"></td><td style = \"text-align: left;\">?</td><td style = \"font-style: italic; text-align: left;\"></td><td style = \"text-align: left;\">Transport-moving</td><td style = \"text-align: right;\">0</td><td style = \"text-align: left;\">String31</td></tr><tr><td class = \"rowNumber\" style = \"font-weight: bold; text-align: right;\">8</td><td style = \"text-align: left;\">relationship</td><td style = \"font-style: italic; text-align: left;\"></td><td style = \"text-align: left;\">Husband</td><td style = \"font-style: italic; text-align: left;\"></td><td style = \"text-align: left;\">Wife</td><td style = \"text-align: right;\">0</td><td style = \"text-align: left;\">String15</td></tr><tr><td class = \"rowNumber\" style = \"font-weight: bold; text-align: right;\">9</td><td style = \"text-align: left;\">race</td><td style = \"font-style: italic; text-align: left;\"></td><td style = \"text-align: left;\">Amer-Indian-Eskimo</td><td style = \"font-style: italic; text-align: left;\"></td><td style = \"text-align: left;\">White</td><td style = \"text-align: right;\">0</td><td style = \"text-align: left;\">String31</td></tr><tr><td class = \"rowNumber\" style = \"font-weight: bold; text-align: right;\">10</td><td style = \"text-align: left;\">sex</td><td style = \"font-style: italic; text-align: left;\"></td><td style = \"text-align: left;\">Female</td><td style = \"font-style: italic; text-align: left;\"></td><td style = \"text-align: left;\">Male</td><td style = \"text-align: right;\">0</td><td style = \"text-align: left;\">String7</td></tr><tr><td class = \"rowNumber\" style = \"font-weight: bold; text-align: right;\">11</td><td style = \"text-align: left;\">capital_gain</td><td style = \"text-align: left;\">1079.07</td><td style = \"text-align: left;\">0</td><td style = \"text-align: left;\">0.0</td><td style = \"text-align: left;\">99999</td><td style = \"text-align: right;\">0</td><td style = \"text-align: left;\">Int64</td></tr><tr><td class = \"rowNumber\" style = \"font-weight: bold; text-align: right;\">12</td><td style = \"text-align: left;\">capital_loss</td><td style = \"text-align: left;\">87.5023</td><td style = \"text-align: left;\">0</td><td style = \"text-align: left;\">0.0</td><td style = \"text-align: left;\">4356</td><td style = \"text-align: right;\">0</td><td style = \"text-align: left;\">Int64</td></tr><tr><td class = \"rowNumber\" style = \"font-weight: bold; text-align: right;\">13</td><td style = \"text-align: left;\">hours_per_week</td><td style = \"text-align: left;\">40.4224</td><td style = \"text-align: left;\">1</td><td style = \"text-align: left;\">40.0</td><td style = \"text-align: left;\">99</td><td style = \"text-align: right;\">0</td><td style = \"text-align: left;\">Int64</td></tr><tr><td class = \"rowNumber\" style = \"font-weight: bold; text-align: right;\">14</td><td style = \"text-align: left;\">native_country</td><td style = \"font-style: italic; text-align: left;\"></td><td style = \"text-align: left;\">?</td><td style = \"font-style: italic; text-align: left;\"></td><td style = \"text-align: left;\">Yugoslavia</td><td style = \"text-align: right;\">0</td><td style = \"text-align: left;\">String31</td></tr><tr><td class = \"rowNumber\" style = \"font-weight: bold; text-align: right;\">15</td><td style = \"text-align: left;\">class</td><td style = \"font-style: italic; text-align: left;\"></td><td style = \"text-align: left;\">&lt;=50K</td><td style = \"font-style: italic; text-align: left;\"></td><td style = \"text-align: left;\">&gt;50K</td><td style = \"text-align: right;\">0</td><td style = \"text-align: left;\">String7</td></tr></tbody></table></div>"
      ],
      "text/latex": [
       "\\begin{tabular}{r|ccccccc}\n",
       "\t& variable & mean & min & median & max & nmissing & \\\\\n",
       "\t\\hline\n",
       "\t& Symbol & Union… & Any & Union… & Any & Int64 & \\\\\n",
       "\t\\hline\n",
       "\t1 & age & 38.6436 & 17 & 37.0 & 90 & 0 & $\\dots$ \\\\\n",
       "\t2 & workclass &  & ? &  & Without-pay & 0 & $\\dots$ \\\\\n",
       "\t3 & fnlwgt & 1.89664e5 & 12285 & 1.78144e5 & 1490400 & 0 & $\\dots$ \\\\\n",
       "\t4 & education &  & 10th &  & Some-college & 0 & $\\dots$ \\\\\n",
       "\t5 & education\\_num & 10.0781 & 1 & 10.0 & 16 & 0 & $\\dots$ \\\\\n",
       "\t6 & marital\\_status &  & Divorced &  & Widowed & 0 & $\\dots$ \\\\\n",
       "\t7 & occupation &  & ? &  & Transport-moving & 0 & $\\dots$ \\\\\n",
       "\t8 & relationship &  & Husband &  & Wife & 0 & $\\dots$ \\\\\n",
       "\t9 & race &  & Amer-Indian-Eskimo &  & White & 0 & $\\dots$ \\\\\n",
       "\t10 & sex &  & Female &  & Male & 0 & $\\dots$ \\\\\n",
       "\t11 & capital\\_gain & 1079.07 & 0 & 0.0 & 99999 & 0 & $\\dots$ \\\\\n",
       "\t12 & capital\\_loss & 87.5023 & 0 & 0.0 & 4356 & 0 & $\\dots$ \\\\\n",
       "\t13 & hours\\_per\\_week & 40.4224 & 1 & 40.0 & 99 & 0 & $\\dots$ \\\\\n",
       "\t14 & native\\_country &  & ? &  & Yugoslavia & 0 & $\\dots$ \\\\\n",
       "\t15 & class &  & <=50K &  & >50K & 0 & $\\dots$ \\\\\n",
       "\\end{tabular}\n"
      ],
      "text/plain": [
       "\u001b[1m15×7 DataFrame\u001b[0m\n",
       "\u001b[1m Row \u001b[0m│\u001b[1m variable       \u001b[0m\u001b[1m mean      \u001b[0m\u001b[1m min                \u001b[0m\u001b[1m median    \u001b[0m\u001b[1m max          \u001b[0m ⋯\n",
       "     │\u001b[90m Symbol         \u001b[0m\u001b[90m Union…    \u001b[0m\u001b[90m Any                \u001b[0m\u001b[90m Union…    \u001b[0m\u001b[90m Any          \u001b[0m ⋯\n",
       "─────┼──────────────────────────────────────────────────────────────────────────\n",
       "   1 │ age             38.6436    17                  37.0       90            ⋯\n",
       "   2 │ workclass      \u001b[90m           \u001b[0m ?                  \u001b[90m           \u001b[0m Without-pay\n",
       "   3 │ fnlwgt          1.89664e5  12285               1.78144e5  1490400\n",
       "   4 │ education      \u001b[90m           \u001b[0m 10th               \u001b[90m           \u001b[0m Some-college\n",
       "   5 │ education_num   10.0781    1                   10.0       16            ⋯\n",
       "   6 │ marital_status \u001b[90m           \u001b[0m Divorced           \u001b[90m           \u001b[0m Widowed\n",
       "   7 │ occupation     \u001b[90m           \u001b[0m ?                  \u001b[90m           \u001b[0m Transport-mov\n",
       "   8 │ relationship   \u001b[90m           \u001b[0m Husband            \u001b[90m           \u001b[0m Wife\n",
       "   9 │ race           \u001b[90m           \u001b[0m Amer-Indian-Eskimo \u001b[90m           \u001b[0m White         ⋯\n",
       "  10 │ sex            \u001b[90m           \u001b[0m Female             \u001b[90m           \u001b[0m Male\n",
       "  11 │ capital_gain    1079.07    0                   0.0        99999\n",
       "  12 │ capital_loss    87.5023    0                   0.0        4356\n",
       "  13 │ hours_per_week  40.4224    1                   40.0       99            ⋯\n",
       "  14 │ native_country \u001b[90m           \u001b[0m ?                  \u001b[90m           \u001b[0m Yugoslavia\n",
       "  15 │ class          \u001b[90m           \u001b[0m <=50K              \u001b[90m           \u001b[0m >50K\n",
       "\u001b[36m                                                               3 columns omitted\u001b[0m"
      ]
     },
     "execution_count": 30,
     "metadata": {},
     "output_type": "execute_result"
    }
   ],
   "source": [
    "describe(df)"
   ]
  },
  {
   "cell_type": "code",
   "execution_count": 31,
   "id": "36c3b247-a037-4ac3-8863-6e398ad91519",
   "metadata": {},
   "outputs": [
    {
     "data": {
      "text/plain": [
       "345.7807691747658"
      ]
     },
     "execution_count": 31,
     "metadata": {},
     "output_type": "execute_result"
    }
   ],
   "source": [
    "12285 * factor"
   ]
  },
  {
   "cell_type": "code",
   "execution_count": 35,
   "id": "1e36ad6f-990e-43af-b31b-9ae47d9fe177",
   "metadata": {},
   "outputs": [
    {
     "data": {
      "text/html": [
       "<div><div style = \"float: left;\"><span>5×15 DataFrame</span></div><div style = \"clear: both;\"></div></div><div class = \"data-frame\" style = \"overflow-x: scroll;\"><table class = \"data-frame\" style = \"margin-bottom: 6px;\"><thead><tr class = \"header\"><th class = \"rowNumber\" style = \"font-weight: bold; text-align: right;\">Row</th><th style = \"text-align: left;\">age</th><th style = \"text-align: left;\">workclass</th><th style = \"text-align: left;\">fnlwgt</th><th style = \"text-align: left;\">education</th><th style = \"text-align: left;\">education_num</th><th style = \"text-align: left;\">marital_status</th><th style = \"text-align: left;\">occupation</th><th style = \"text-align: left;\">relationship</th><th style = \"text-align: left;\">race</th><th style = \"text-align: left;\">sex</th><th style = \"text-align: left;\">capital_gain</th><th style = \"text-align: left;\">capital_loss</th><th style = \"text-align: left;\">hours_per_week</th><th style = \"text-align: left;\">native_country</th><th style = \"text-align: left;\">class</th></tr><tr class = \"subheader headerLastRow\"><th class = \"rowNumber\" style = \"font-weight: bold; text-align: right;\"></th><th title = \"Int64\" style = \"text-align: left;\">Int64</th><th title = \"String31\" style = \"text-align: left;\">String31</th><th title = \"Int64\" style = \"text-align: left;\">Int64</th><th title = \"String15\" style = \"text-align: left;\">String15</th><th title = \"Int64\" style = \"text-align: left;\">Int64</th><th title = \"String31\" style = \"text-align: left;\">String31</th><th title = \"String31\" style = \"text-align: left;\">String31</th><th title = \"String15\" style = \"text-align: left;\">String15</th><th title = \"String31\" style = \"text-align: left;\">String31</th><th title = \"String7\" style = \"text-align: left;\">String7</th><th title = \"Int64\" style = \"text-align: left;\">Int64</th><th title = \"Int64\" style = \"text-align: left;\">Int64</th><th title = \"Int64\" style = \"text-align: left;\">Int64</th><th title = \"String31\" style = \"text-align: left;\">String31</th><th title = \"String7\" style = \"text-align: left;\">String7</th></tr></thead><tbody><tr><td class = \"rowNumber\" style = \"font-weight: bold; text-align: right;\">1</td><td style = \"text-align: right;\">25</td><td style = \"text-align: left;\">Private</td><td style = \"text-align: right;\">226802</td><td style = \"text-align: left;\">11th</td><td style = \"text-align: right;\">7</td><td style = \"text-align: left;\">Never-married</td><td style = \"text-align: left;\">Machine-op-inspct</td><td style = \"text-align: left;\">Own-child</td><td style = \"text-align: left;\">Black</td><td style = \"text-align: left;\">Male</td><td style = \"text-align: right;\">0</td><td style = \"text-align: right;\">0</td><td style = \"text-align: right;\">40</td><td style = \"text-align: left;\">United-States</td><td style = \"text-align: left;\">&lt;=50K</td></tr><tr><td class = \"rowNumber\" style = \"font-weight: bold; text-align: right;\">2</td><td style = \"text-align: right;\">38</td><td style = \"text-align: left;\">Private</td><td style = \"text-align: right;\">89814</td><td style = \"text-align: left;\">HS-grad</td><td style = \"text-align: right;\">9</td><td style = \"text-align: left;\">Married-civ-spouse</td><td style = \"text-align: left;\">Farming-fishing</td><td style = \"text-align: left;\">Husband</td><td style = \"text-align: left;\">White</td><td style = \"text-align: left;\">Male</td><td style = \"text-align: right;\">0</td><td style = \"text-align: right;\">0</td><td style = \"text-align: right;\">50</td><td style = \"text-align: left;\">United-States</td><td style = \"text-align: left;\">&lt;=50K</td></tr><tr><td class = \"rowNumber\" style = \"font-weight: bold; text-align: right;\">3</td><td style = \"text-align: right;\">28</td><td style = \"text-align: left;\">Local-gov</td><td style = \"text-align: right;\">336951</td><td style = \"text-align: left;\">Assoc-acdm</td><td style = \"text-align: right;\">12</td><td style = \"text-align: left;\">Married-civ-spouse</td><td style = \"text-align: left;\">Protective-serv</td><td style = \"text-align: left;\">Husband</td><td style = \"text-align: left;\">White</td><td style = \"text-align: left;\">Male</td><td style = \"text-align: right;\">0</td><td style = \"text-align: right;\">0</td><td style = \"text-align: right;\">40</td><td style = \"text-align: left;\">United-States</td><td style = \"text-align: left;\">&gt;50K</td></tr><tr><td class = \"rowNumber\" style = \"font-weight: bold; text-align: right;\">4</td><td style = \"text-align: right;\">44</td><td style = \"text-align: left;\">Private</td><td style = \"text-align: right;\">160323</td><td style = \"text-align: left;\">Some-college</td><td style = \"text-align: right;\">10</td><td style = \"text-align: left;\">Married-civ-spouse</td><td style = \"text-align: left;\">Machine-op-inspct</td><td style = \"text-align: left;\">Husband</td><td style = \"text-align: left;\">Black</td><td style = \"text-align: left;\">Male</td><td style = \"text-align: right;\">7688</td><td style = \"text-align: right;\">0</td><td style = \"text-align: right;\">40</td><td style = \"text-align: left;\">United-States</td><td style = \"text-align: left;\">&gt;50K</td></tr><tr><td class = \"rowNumber\" style = \"font-weight: bold; text-align: right;\">5</td><td style = \"text-align: right;\">18</td><td style = \"text-align: left;\">?</td><td style = \"text-align: right;\">103497</td><td style = \"text-align: left;\">Some-college</td><td style = \"text-align: right;\">10</td><td style = \"text-align: left;\">Never-married</td><td style = \"text-align: left;\">?</td><td style = \"text-align: left;\">Own-child</td><td style = \"text-align: left;\">White</td><td style = \"text-align: left;\">Female</td><td style = \"text-align: right;\">0</td><td style = \"text-align: right;\">0</td><td style = \"text-align: right;\">30</td><td style = \"text-align: left;\">United-States</td><td style = \"text-align: left;\">&lt;=50K</td></tr></tbody></table></div>"
      ],
      "text/latex": [
       "\\begin{tabular}{r|cccccccc}\n",
       "\t& age & workclass & fnlwgt & education & education\\_num & marital\\_status & occupation & \\\\\n",
       "\t\\hline\n",
       "\t& Int64 & String31 & Int64 & String15 & Int64 & String31 & String31 & \\\\\n",
       "\t\\hline\n",
       "\t1 & 25 & Private & 226802 & 11th & 7 & Never-married & Machine-op-inspct & $\\dots$ \\\\\n",
       "\t2 & 38 & Private & 89814 & HS-grad & 9 & Married-civ-spouse & Farming-fishing & $\\dots$ \\\\\n",
       "\t3 & 28 & Local-gov & 336951 & Assoc-acdm & 12 & Married-civ-spouse & Protective-serv & $\\dots$ \\\\\n",
       "\t4 & 44 & Private & 160323 & Some-college & 10 & Married-civ-spouse & Machine-op-inspct & $\\dots$ \\\\\n",
       "\t5 & 18 & ? & 103497 & Some-college & 10 & Never-married & ? & $\\dots$ \\\\\n",
       "\\end{tabular}\n"
      ],
      "text/plain": [
       "\u001b[1m5×15 DataFrame\u001b[0m\n",
       "\u001b[1m Row \u001b[0m│\u001b[1m age   \u001b[0m\u001b[1m workclass \u001b[0m\u001b[1m fnlwgt \u001b[0m\u001b[1m education    \u001b[0m\u001b[1m education_num \u001b[0m\u001b[1m marital_status  \u001b[0m ⋯\n",
       "     │\u001b[90m Int64 \u001b[0m\u001b[90m String31  \u001b[0m\u001b[90m Int64  \u001b[0m\u001b[90m String15     \u001b[0m\u001b[90m Int64         \u001b[0m\u001b[90m String31        \u001b[0m ⋯\n",
       "─────┼──────────────────────────────────────────────────────────────────────────\n",
       "   1 │    25  Private    226802  11th                      7  Never-married    ⋯\n",
       "   2 │    38  Private     89814  HS-grad                   9  Married-civ-spou\n",
       "   3 │    28  Local-gov  336951  Assoc-acdm               12  Married-civ-spou\n",
       "   4 │    44  Private    160323  Some-college             10  Married-civ-spou\n",
       "   5 │    18  ?          103497  Some-college             10  Never-married    ⋯\n",
       "\u001b[36m                                                              10 columns omitted\u001b[0m"
      ]
     },
     "execution_count": 35,
     "metadata": {},
     "output_type": "execute_result"
    }
   ],
   "source": [
    "first(df,5)"
   ]
  },
  {
   "cell_type": "code",
   "execution_count": 36,
   "id": "ea0ca395-e89e-426f-ba76-27fb0a28cc7c",
   "metadata": {},
   "outputs": [
    {
     "data": {
      "text/html": [
       "<div><div style = \"float: left;\"><span>5×15 DataFrame</span></div><div style = \"clear: both;\"></div></div><div class = \"data-frame\" style = \"overflow-x: scroll;\"><table class = \"data-frame\" style = \"margin-bottom: 6px;\"><thead><tr class = \"header\"><th class = \"rowNumber\" style = \"font-weight: bold; text-align: right;\">Row</th><th style = \"text-align: left;\">age</th><th style = \"text-align: left;\">workclass</th><th style = \"text-align: left;\">fnlwgt</th><th style = \"text-align: left;\">education</th><th style = \"text-align: left;\">education_num</th><th style = \"text-align: left;\">marital_status</th><th style = \"text-align: left;\">occupation</th><th style = \"text-align: left;\">relationship</th><th style = \"text-align: left;\">race</th><th style = \"text-align: left;\">sex</th><th style = \"text-align: left;\">capital_gain</th><th style = \"text-align: left;\">capital_loss</th><th style = \"text-align: left;\">hours_per_week</th><th style = \"text-align: left;\">native_country</th><th style = \"text-align: left;\">class</th></tr><tr class = \"subheader headerLastRow\"><th class = \"rowNumber\" style = \"font-weight: bold; text-align: right;\"></th><th title = \"Int64\" style = \"text-align: left;\">Int64</th><th title = \"String31\" style = \"text-align: left;\">String31</th><th title = \"Int64\" style = \"text-align: left;\">Int64</th><th title = \"String15\" style = \"text-align: left;\">String15</th><th title = \"Int64\" style = \"text-align: left;\">Int64</th><th title = \"String31\" style = \"text-align: left;\">String31</th><th title = \"String31\" style = \"text-align: left;\">String31</th><th title = \"String15\" style = \"text-align: left;\">String15</th><th title = \"String31\" style = \"text-align: left;\">String31</th><th title = \"String7\" style = \"text-align: left;\">String7</th><th title = \"Int64\" style = \"text-align: left;\">Int64</th><th title = \"Int64\" style = \"text-align: left;\">Int64</th><th title = \"Int64\" style = \"text-align: left;\">Int64</th><th title = \"String31\" style = \"text-align: left;\">String31</th><th title = \"String7\" style = \"text-align: left;\">String7</th></tr></thead><tbody><tr><td class = \"rowNumber\" style = \"font-weight: bold; text-align: right;\">1</td><td style = \"text-align: right;\">27</td><td style = \"text-align: left;\">Private</td><td style = \"text-align: right;\">257302</td><td style = \"text-align: left;\">Assoc-acdm</td><td style = \"text-align: right;\">12</td><td style = \"text-align: left;\">Married-civ-spouse</td><td style = \"text-align: left;\">Tech-support</td><td style = \"text-align: left;\">Wife</td><td style = \"text-align: left;\">White</td><td style = \"text-align: left;\">Female</td><td style = \"text-align: right;\">0</td><td style = \"text-align: right;\">0</td><td style = \"text-align: right;\">38</td><td style = \"text-align: left;\">United-States</td><td style = \"text-align: left;\">&lt;=50K</td></tr><tr><td class = \"rowNumber\" style = \"font-weight: bold; text-align: right;\">2</td><td style = \"text-align: right;\">40</td><td style = \"text-align: left;\">Private</td><td style = \"text-align: right;\">154374</td><td style = \"text-align: left;\">HS-grad</td><td style = \"text-align: right;\">9</td><td style = \"text-align: left;\">Married-civ-spouse</td><td style = \"text-align: left;\">Machine-op-inspct</td><td style = \"text-align: left;\">Husband</td><td style = \"text-align: left;\">White</td><td style = \"text-align: left;\">Male</td><td style = \"text-align: right;\">0</td><td style = \"text-align: right;\">0</td><td style = \"text-align: right;\">40</td><td style = \"text-align: left;\">United-States</td><td style = \"text-align: left;\">&gt;50K</td></tr><tr><td class = \"rowNumber\" style = \"font-weight: bold; text-align: right;\">3</td><td style = \"text-align: right;\">58</td><td style = \"text-align: left;\">Private</td><td style = \"text-align: right;\">151910</td><td style = \"text-align: left;\">HS-grad</td><td style = \"text-align: right;\">9</td><td style = \"text-align: left;\">Widowed</td><td style = \"text-align: left;\">Adm-clerical</td><td style = \"text-align: left;\">Unmarried</td><td style = \"text-align: left;\">White</td><td style = \"text-align: left;\">Female</td><td style = \"text-align: right;\">0</td><td style = \"text-align: right;\">0</td><td style = \"text-align: right;\">40</td><td style = \"text-align: left;\">United-States</td><td style = \"text-align: left;\">&lt;=50K</td></tr><tr><td class = \"rowNumber\" style = \"font-weight: bold; text-align: right;\">4</td><td style = \"text-align: right;\">22</td><td style = \"text-align: left;\">Private</td><td style = \"text-align: right;\">201490</td><td style = \"text-align: left;\">HS-grad</td><td style = \"text-align: right;\">9</td><td style = \"text-align: left;\">Never-married</td><td style = \"text-align: left;\">Adm-clerical</td><td style = \"text-align: left;\">Own-child</td><td style = \"text-align: left;\">White</td><td style = \"text-align: left;\">Male</td><td style = \"text-align: right;\">0</td><td style = \"text-align: right;\">0</td><td style = \"text-align: right;\">20</td><td style = \"text-align: left;\">United-States</td><td style = \"text-align: left;\">&lt;=50K</td></tr><tr><td class = \"rowNumber\" style = \"font-weight: bold; text-align: right;\">5</td><td style = \"text-align: right;\">52</td><td style = \"text-align: left;\">Self-emp-inc</td><td style = \"text-align: right;\">287927</td><td style = \"text-align: left;\">HS-grad</td><td style = \"text-align: right;\">9</td><td style = \"text-align: left;\">Married-civ-spouse</td><td style = \"text-align: left;\">Exec-managerial</td><td style = \"text-align: left;\">Wife</td><td style = \"text-align: left;\">White</td><td style = \"text-align: left;\">Female</td><td style = \"text-align: right;\">15024</td><td style = \"text-align: right;\">0</td><td style = \"text-align: right;\">40</td><td style = \"text-align: left;\">United-States</td><td style = \"text-align: left;\">&gt;50K</td></tr></tbody></table></div>"
      ],
      "text/latex": [
       "\\begin{tabular}{r|cccccccc}\n",
       "\t& age & workclass & fnlwgt & education & education\\_num & marital\\_status & occupation & \\\\\n",
       "\t\\hline\n",
       "\t& Int64 & String31 & Int64 & String15 & Int64 & String31 & String31 & \\\\\n",
       "\t\\hline\n",
       "\t1 & 27 & Private & 257302 & Assoc-acdm & 12 & Married-civ-spouse & Tech-support & $\\dots$ \\\\\n",
       "\t2 & 40 & Private & 154374 & HS-grad & 9 & Married-civ-spouse & Machine-op-inspct & $\\dots$ \\\\\n",
       "\t3 & 58 & Private & 151910 & HS-grad & 9 & Widowed & Adm-clerical & $\\dots$ \\\\\n",
       "\t4 & 22 & Private & 201490 & HS-grad & 9 & Never-married & Adm-clerical & $\\dots$ \\\\\n",
       "\t5 & 52 & Self-emp-inc & 287927 & HS-grad & 9 & Married-civ-spouse & Exec-managerial & $\\dots$ \\\\\n",
       "\\end{tabular}\n"
      ],
      "text/plain": [
       "\u001b[1m5×15 DataFrame\u001b[0m\n",
       "\u001b[1m Row \u001b[0m│\u001b[1m age   \u001b[0m\u001b[1m workclass    \u001b[0m\u001b[1m fnlwgt \u001b[0m\u001b[1m education  \u001b[0m\u001b[1m education_num \u001b[0m\u001b[1m marital_status \u001b[0m ⋯\n",
       "     │\u001b[90m Int64 \u001b[0m\u001b[90m String31     \u001b[0m\u001b[90m Int64  \u001b[0m\u001b[90m String15   \u001b[0m\u001b[90m Int64         \u001b[0m\u001b[90m String31       \u001b[0m ⋯\n",
       "─────┼──────────────────────────────────────────────────────────────────────────\n",
       "   1 │    27  Private       257302  Assoc-acdm             12  Married-civ-spo ⋯\n",
       "   2 │    40  Private       154374  HS-grad                 9  Married-civ-spo\n",
       "   3 │    58  Private       151910  HS-grad                 9  Widowed\n",
       "   4 │    22  Private       201490  HS-grad                 9  Never-married\n",
       "   5 │    52  Self-emp-inc  287927  HS-grad                 9  Married-civ-spo ⋯\n",
       "\u001b[36m                                                              10 columns omitted\u001b[0m"
      ]
     },
     "execution_count": 36,
     "metadata": {},
     "output_type": "execute_result"
    }
   ],
   "source": [
    "last(df,5)"
   ]
  },
  {
   "cell_type": "code",
   "execution_count": 37,
   "id": "21406230-5b13-4c32-a87d-2b5716dd1af1",
   "metadata": {},
   "outputs": [
    {
     "data": {
      "text/html": [
       "<div><div style = \"float: left;\"><span>48790×15 DataFrame</span></div><div style = \"float: right;\"><span style = \"font-style: italic;\">48765 rows omitted</span></div><div style = \"clear: both;\"></div></div><div class = \"data-frame\" style = \"overflow-x: scroll;\"><table class = \"data-frame\" style = \"margin-bottom: 6px;\"><thead><tr class = \"header\"><th class = \"rowNumber\" style = \"font-weight: bold; text-align: right;\">Row</th><th style = \"text-align: left;\">age</th><th style = \"text-align: left;\">workclass</th><th style = \"text-align: left;\">fnlwgt</th><th style = \"text-align: left;\">education</th><th style = \"text-align: left;\">education_num</th><th style = \"text-align: left;\">marital_status</th><th style = \"text-align: left;\">occupation</th><th style = \"text-align: left;\">relationship</th><th style = \"text-align: left;\">race</th><th style = \"text-align: left;\">sex</th><th style = \"text-align: left;\">capital_gain</th><th style = \"text-align: left;\">capital_loss</th><th style = \"text-align: left;\">hours_per_week</th><th style = \"text-align: left;\">native_country</th><th style = \"text-align: left;\">class</th></tr><tr class = \"subheader headerLastRow\"><th class = \"rowNumber\" style = \"font-weight: bold; text-align: right;\"></th><th title = \"Int64\" style = \"text-align: left;\">Int64</th><th title = \"String31\" style = \"text-align: left;\">String31</th><th title = \"Int64\" style = \"text-align: left;\">Int64</th><th title = \"String15\" style = \"text-align: left;\">String15</th><th title = \"Int64\" style = \"text-align: left;\">Int64</th><th title = \"String31\" style = \"text-align: left;\">String31</th><th title = \"String31\" style = \"text-align: left;\">String31</th><th title = \"String15\" style = \"text-align: left;\">String15</th><th title = \"String31\" style = \"text-align: left;\">String31</th><th title = \"String7\" style = \"text-align: left;\">String7</th><th title = \"Int64\" style = \"text-align: left;\">Int64</th><th title = \"Int64\" style = \"text-align: left;\">Int64</th><th title = \"Int64\" style = \"text-align: left;\">Int64</th><th title = \"String31\" style = \"text-align: left;\">String31</th><th title = \"String7\" style = \"text-align: left;\">String7</th></tr></thead><tbody><tr><td class = \"rowNumber\" style = \"font-weight: bold; text-align: right;\">1</td><td style = \"text-align: right;\">25</td><td style = \"text-align: left;\">Private</td><td style = \"text-align: right;\">226802</td><td style = \"text-align: left;\">11th</td><td style = \"text-align: right;\">7</td><td style = \"text-align: left;\">Never-married</td><td style = \"text-align: left;\">Machine-op-inspct</td><td style = \"text-align: left;\">Own-child</td><td style = \"text-align: left;\">Black</td><td style = \"text-align: left;\">Male</td><td style = \"text-align: right;\">0</td><td style = \"text-align: right;\">0</td><td style = \"text-align: right;\">40</td><td style = \"text-align: left;\">United-States</td><td style = \"text-align: left;\">&lt;=50K</td></tr><tr><td class = \"rowNumber\" style = \"font-weight: bold; text-align: right;\">2</td><td style = \"text-align: right;\">38</td><td style = \"text-align: left;\">Private</td><td style = \"text-align: right;\">89814</td><td style = \"text-align: left;\">HS-grad</td><td style = \"text-align: right;\">9</td><td style = \"text-align: left;\">Married-civ-spouse</td><td style = \"text-align: left;\">Farming-fishing</td><td style = \"text-align: left;\">Husband</td><td style = \"text-align: left;\">White</td><td style = \"text-align: left;\">Male</td><td style = \"text-align: right;\">0</td><td style = \"text-align: right;\">0</td><td style = \"text-align: right;\">50</td><td style = \"text-align: left;\">United-States</td><td style = \"text-align: left;\">&lt;=50K</td></tr><tr><td class = \"rowNumber\" style = \"font-weight: bold; text-align: right;\">3</td><td style = \"text-align: right;\">28</td><td style = \"text-align: left;\">Local-gov</td><td style = \"text-align: right;\">336951</td><td style = \"text-align: left;\">Assoc-acdm</td><td style = \"text-align: right;\">12</td><td style = \"text-align: left;\">Married-civ-spouse</td><td style = \"text-align: left;\">Protective-serv</td><td style = \"text-align: left;\">Husband</td><td style = \"text-align: left;\">White</td><td style = \"text-align: left;\">Male</td><td style = \"text-align: right;\">0</td><td style = \"text-align: right;\">0</td><td style = \"text-align: right;\">40</td><td style = \"text-align: left;\">United-States</td><td style = \"text-align: left;\">&gt;50K</td></tr><tr><td class = \"rowNumber\" style = \"font-weight: bold; text-align: right;\">4</td><td style = \"text-align: right;\">44</td><td style = \"text-align: left;\">Private</td><td style = \"text-align: right;\">160323</td><td style = \"text-align: left;\">Some-college</td><td style = \"text-align: right;\">10</td><td style = \"text-align: left;\">Married-civ-spouse</td><td style = \"text-align: left;\">Machine-op-inspct</td><td style = \"text-align: left;\">Husband</td><td style = \"text-align: left;\">Black</td><td style = \"text-align: left;\">Male</td><td style = \"text-align: right;\">7688</td><td style = \"text-align: right;\">0</td><td style = \"text-align: right;\">40</td><td style = \"text-align: left;\">United-States</td><td style = \"text-align: left;\">&gt;50K</td></tr><tr><td class = \"rowNumber\" style = \"font-weight: bold; text-align: right;\">5</td><td style = \"text-align: right;\">18</td><td style = \"text-align: left;\">?</td><td style = \"text-align: right;\">103497</td><td style = \"text-align: left;\">Some-college</td><td style = \"text-align: right;\">10</td><td style = \"text-align: left;\">Never-married</td><td style = \"text-align: left;\">?</td><td style = \"text-align: left;\">Own-child</td><td style = \"text-align: left;\">White</td><td style = \"text-align: left;\">Female</td><td style = \"text-align: right;\">0</td><td style = \"text-align: right;\">0</td><td style = \"text-align: right;\">30</td><td style = \"text-align: left;\">United-States</td><td style = \"text-align: left;\">&lt;=50K</td></tr><tr><td class = \"rowNumber\" style = \"font-weight: bold; text-align: right;\">6</td><td style = \"text-align: right;\">34</td><td style = \"text-align: left;\">Private</td><td style = \"text-align: right;\">198693</td><td style = \"text-align: left;\">10th</td><td style = \"text-align: right;\">6</td><td style = \"text-align: left;\">Never-married</td><td style = \"text-align: left;\">Other-service</td><td style = \"text-align: left;\">Not-in-family</td><td style = \"text-align: left;\">White</td><td style = \"text-align: left;\">Male</td><td style = \"text-align: right;\">0</td><td style = \"text-align: right;\">0</td><td style = \"text-align: right;\">30</td><td style = \"text-align: left;\">United-States</td><td style = \"text-align: left;\">&lt;=50K</td></tr><tr><td class = \"rowNumber\" style = \"font-weight: bold; text-align: right;\">7</td><td style = \"text-align: right;\">29</td><td style = \"text-align: left;\">?</td><td style = \"text-align: right;\">227026</td><td style = \"text-align: left;\">HS-grad</td><td style = \"text-align: right;\">9</td><td style = \"text-align: left;\">Never-married</td><td style = \"text-align: left;\">?</td><td style = \"text-align: left;\">Unmarried</td><td style = \"text-align: left;\">Black</td><td style = \"text-align: left;\">Male</td><td style = \"text-align: right;\">0</td><td style = \"text-align: right;\">0</td><td style = \"text-align: right;\">40</td><td style = \"text-align: left;\">United-States</td><td style = \"text-align: left;\">&lt;=50K</td></tr><tr><td class = \"rowNumber\" style = \"font-weight: bold; text-align: right;\">8</td><td style = \"text-align: right;\">63</td><td style = \"text-align: left;\">Self-emp-not-inc</td><td style = \"text-align: right;\">104626</td><td style = \"text-align: left;\">Prof-school</td><td style = \"text-align: right;\">15</td><td style = \"text-align: left;\">Married-civ-spouse</td><td style = \"text-align: left;\">Prof-specialty</td><td style = \"text-align: left;\">Husband</td><td style = \"text-align: left;\">White</td><td style = \"text-align: left;\">Male</td><td style = \"text-align: right;\">3103</td><td style = \"text-align: right;\">0</td><td style = \"text-align: right;\">32</td><td style = \"text-align: left;\">United-States</td><td style = \"text-align: left;\">&gt;50K</td></tr><tr><td class = \"rowNumber\" style = \"font-weight: bold; text-align: right;\">9</td><td style = \"text-align: right;\">24</td><td style = \"text-align: left;\">Private</td><td style = \"text-align: right;\">369667</td><td style = \"text-align: left;\">Some-college</td><td style = \"text-align: right;\">10</td><td style = \"text-align: left;\">Never-married</td><td style = \"text-align: left;\">Other-service</td><td style = \"text-align: left;\">Unmarried</td><td style = \"text-align: left;\">White</td><td style = \"text-align: left;\">Female</td><td style = \"text-align: right;\">0</td><td style = \"text-align: right;\">0</td><td style = \"text-align: right;\">40</td><td style = \"text-align: left;\">United-States</td><td style = \"text-align: left;\">&lt;=50K</td></tr><tr><td class = \"rowNumber\" style = \"font-weight: bold; text-align: right;\">10</td><td style = \"text-align: right;\">55</td><td style = \"text-align: left;\">Private</td><td style = \"text-align: right;\">104996</td><td style = \"text-align: left;\">7th-8th</td><td style = \"text-align: right;\">4</td><td style = \"text-align: left;\">Married-civ-spouse</td><td style = \"text-align: left;\">Craft-repair</td><td style = \"text-align: left;\">Husband</td><td style = \"text-align: left;\">White</td><td style = \"text-align: left;\">Male</td><td style = \"text-align: right;\">0</td><td style = \"text-align: right;\">0</td><td style = \"text-align: right;\">10</td><td style = \"text-align: left;\">United-States</td><td style = \"text-align: left;\">&lt;=50K</td></tr><tr><td class = \"rowNumber\" style = \"font-weight: bold; text-align: right;\">11</td><td style = \"text-align: right;\">65</td><td style = \"text-align: left;\">Private</td><td style = \"text-align: right;\">184454</td><td style = \"text-align: left;\">HS-grad</td><td style = \"text-align: right;\">9</td><td style = \"text-align: left;\">Married-civ-spouse</td><td style = \"text-align: left;\">Machine-op-inspct</td><td style = \"text-align: left;\">Husband</td><td style = \"text-align: left;\">White</td><td style = \"text-align: left;\">Male</td><td style = \"text-align: right;\">6418</td><td style = \"text-align: right;\">0</td><td style = \"text-align: right;\">40</td><td style = \"text-align: left;\">United-States</td><td style = \"text-align: left;\">&gt;50K</td></tr><tr><td class = \"rowNumber\" style = \"font-weight: bold; text-align: right;\">12</td><td style = \"text-align: right;\">36</td><td style = \"text-align: left;\">Federal-gov</td><td style = \"text-align: right;\">212465</td><td style = \"text-align: left;\">Bachelors</td><td style = \"text-align: right;\">13</td><td style = \"text-align: left;\">Married-civ-spouse</td><td style = \"text-align: left;\">Adm-clerical</td><td style = \"text-align: left;\">Husband</td><td style = \"text-align: left;\">White</td><td style = \"text-align: left;\">Male</td><td style = \"text-align: right;\">0</td><td style = \"text-align: right;\">0</td><td style = \"text-align: right;\">40</td><td style = \"text-align: left;\">United-States</td><td style = \"text-align: left;\">&lt;=50K</td></tr><tr><td class = \"rowNumber\" style = \"font-weight: bold; text-align: right;\">13</td><td style = \"text-align: right;\">26</td><td style = \"text-align: left;\">Private</td><td style = \"text-align: right;\">82091</td><td style = \"text-align: left;\">HS-grad</td><td style = \"text-align: right;\">9</td><td style = \"text-align: left;\">Never-married</td><td style = \"text-align: left;\">Adm-clerical</td><td style = \"text-align: left;\">Not-in-family</td><td style = \"text-align: left;\">White</td><td style = \"text-align: left;\">Female</td><td style = \"text-align: right;\">0</td><td style = \"text-align: right;\">0</td><td style = \"text-align: right;\">39</td><td style = \"text-align: left;\">United-States</td><td style = \"text-align: left;\">&lt;=50K</td></tr><tr><td style = \"text-align: right;\">&vellip;</td><td style = \"text-align: right;\">&vellip;</td><td style = \"text-align: right;\">&vellip;</td><td style = \"text-align: right;\">&vellip;</td><td style = \"text-align: right;\">&vellip;</td><td style = \"text-align: right;\">&vellip;</td><td style = \"text-align: right;\">&vellip;</td><td style = \"text-align: right;\">&vellip;</td><td style = \"text-align: right;\">&vellip;</td><td style = \"text-align: right;\">&vellip;</td><td style = \"text-align: right;\">&vellip;</td><td style = \"text-align: right;\">&vellip;</td><td style = \"text-align: right;\">&vellip;</td><td style = \"text-align: right;\">&vellip;</td><td style = \"text-align: right;\">&vellip;</td><td style = \"text-align: right;\">&vellip;</td></tr><tr><td class = \"rowNumber\" style = \"font-weight: bold; text-align: right;\">48779</td><td style = \"text-align: right;\">43</td><td style = \"text-align: left;\">State-gov</td><td style = \"text-align: right;\">255835</td><td style = \"text-align: left;\">Some-college</td><td style = \"text-align: right;\">10</td><td style = \"text-align: left;\">Divorced</td><td style = \"text-align: left;\">Adm-clerical</td><td style = \"text-align: left;\">Other-relative</td><td style = \"text-align: left;\">White</td><td style = \"text-align: left;\">Female</td><td style = \"text-align: right;\">0</td><td style = \"text-align: right;\">0</td><td style = \"text-align: right;\">40</td><td style = \"text-align: left;\">United-States</td><td style = \"text-align: left;\">&lt;=50K</td></tr><tr><td class = \"rowNumber\" style = \"font-weight: bold; text-align: right;\">48780</td><td style = \"text-align: right;\">43</td><td style = \"text-align: left;\">Self-emp-not-inc</td><td style = \"text-align: right;\">27242</td><td style = \"text-align: left;\">Some-college</td><td style = \"text-align: right;\">10</td><td style = \"text-align: left;\">Married-civ-spouse</td><td style = \"text-align: left;\">Craft-repair</td><td style = \"text-align: left;\">Husband</td><td style = \"text-align: left;\">White</td><td style = \"text-align: left;\">Male</td><td style = \"text-align: right;\">0</td><td style = \"text-align: right;\">0</td><td style = \"text-align: right;\">50</td><td style = \"text-align: left;\">United-States</td><td style = \"text-align: left;\">&lt;=50K</td></tr><tr><td class = \"rowNumber\" style = \"font-weight: bold; text-align: right;\">48781</td><td style = \"text-align: right;\">32</td><td style = \"text-align: left;\">Private</td><td style = \"text-align: right;\">34066</td><td style = \"text-align: left;\">10th</td><td style = \"text-align: right;\">6</td><td style = \"text-align: left;\">Married-civ-spouse</td><td style = \"text-align: left;\">Handlers-cleaners</td><td style = \"text-align: left;\">Husband</td><td style = \"text-align: left;\">Amer-Indian-Eskimo</td><td style = \"text-align: left;\">Male</td><td style = \"text-align: right;\">0</td><td style = \"text-align: right;\">0</td><td style = \"text-align: right;\">40</td><td style = \"text-align: left;\">United-States</td><td style = \"text-align: left;\">&lt;=50K</td></tr><tr><td class = \"rowNumber\" style = \"font-weight: bold; text-align: right;\">48782</td><td style = \"text-align: right;\">43</td><td style = \"text-align: left;\">Private</td><td style = \"text-align: right;\">84661</td><td style = \"text-align: left;\">Assoc-voc</td><td style = \"text-align: right;\">11</td><td style = \"text-align: left;\">Married-civ-spouse</td><td style = \"text-align: left;\">Sales</td><td style = \"text-align: left;\">Husband</td><td style = \"text-align: left;\">White</td><td style = \"text-align: left;\">Male</td><td style = \"text-align: right;\">0</td><td style = \"text-align: right;\">0</td><td style = \"text-align: right;\">45</td><td style = \"text-align: left;\">United-States</td><td style = \"text-align: left;\">&lt;=50K</td></tr><tr><td class = \"rowNumber\" style = \"font-weight: bold; text-align: right;\">48783</td><td style = \"text-align: right;\">32</td><td style = \"text-align: left;\">Private</td><td style = \"text-align: right;\">116138</td><td style = \"text-align: left;\">Masters</td><td style = \"text-align: right;\">14</td><td style = \"text-align: left;\">Never-married</td><td style = \"text-align: left;\">Tech-support</td><td style = \"text-align: left;\">Not-in-family</td><td style = \"text-align: left;\">Asian-Pac-Islander</td><td style = \"text-align: left;\">Male</td><td style = \"text-align: right;\">0</td><td style = \"text-align: right;\">0</td><td style = \"text-align: right;\">11</td><td style = \"text-align: left;\">Taiwan</td><td style = \"text-align: left;\">&lt;=50K</td></tr><tr><td class = \"rowNumber\" style = \"font-weight: bold; text-align: right;\">48784</td><td style = \"text-align: right;\">53</td><td style = \"text-align: left;\">Private</td><td style = \"text-align: right;\">321865</td><td style = \"text-align: left;\">Masters</td><td style = \"text-align: right;\">14</td><td style = \"text-align: left;\">Married-civ-spouse</td><td style = \"text-align: left;\">Exec-managerial</td><td style = \"text-align: left;\">Husband</td><td style = \"text-align: left;\">White</td><td style = \"text-align: left;\">Male</td><td style = \"text-align: right;\">0</td><td style = \"text-align: right;\">0</td><td style = \"text-align: right;\">40</td><td style = \"text-align: left;\">United-States</td><td style = \"text-align: left;\">&gt;50K</td></tr><tr><td class = \"rowNumber\" style = \"font-weight: bold; text-align: right;\">48785</td><td style = \"text-align: right;\">22</td><td style = \"text-align: left;\">Private</td><td style = \"text-align: right;\">310152</td><td style = \"text-align: left;\">Some-college</td><td style = \"text-align: right;\">10</td><td style = \"text-align: left;\">Never-married</td><td style = \"text-align: left;\">Protective-serv</td><td style = \"text-align: left;\">Not-in-family</td><td style = \"text-align: left;\">White</td><td style = \"text-align: left;\">Male</td><td style = \"text-align: right;\">0</td><td style = \"text-align: right;\">0</td><td style = \"text-align: right;\">40</td><td style = \"text-align: left;\">United-States</td><td style = \"text-align: left;\">&lt;=50K</td></tr><tr><td class = \"rowNumber\" style = \"font-weight: bold; text-align: right;\">48786</td><td style = \"text-align: right;\">27</td><td style = \"text-align: left;\">Private</td><td style = \"text-align: right;\">257302</td><td style = \"text-align: left;\">Assoc-acdm</td><td style = \"text-align: right;\">12</td><td style = \"text-align: left;\">Married-civ-spouse</td><td style = \"text-align: left;\">Tech-support</td><td style = \"text-align: left;\">Wife</td><td style = \"text-align: left;\">White</td><td style = \"text-align: left;\">Female</td><td style = \"text-align: right;\">0</td><td style = \"text-align: right;\">0</td><td style = \"text-align: right;\">38</td><td style = \"text-align: left;\">United-States</td><td style = \"text-align: left;\">&lt;=50K</td></tr><tr><td class = \"rowNumber\" style = \"font-weight: bold; text-align: right;\">48787</td><td style = \"text-align: right;\">40</td><td style = \"text-align: left;\">Private</td><td style = \"text-align: right;\">154374</td><td style = \"text-align: left;\">HS-grad</td><td style = \"text-align: right;\">9</td><td style = \"text-align: left;\">Married-civ-spouse</td><td style = \"text-align: left;\">Machine-op-inspct</td><td style = \"text-align: left;\">Husband</td><td style = \"text-align: left;\">White</td><td style = \"text-align: left;\">Male</td><td style = \"text-align: right;\">0</td><td style = \"text-align: right;\">0</td><td style = \"text-align: right;\">40</td><td style = \"text-align: left;\">United-States</td><td style = \"text-align: left;\">&gt;50K</td></tr><tr><td class = \"rowNumber\" style = \"font-weight: bold; text-align: right;\">48788</td><td style = \"text-align: right;\">58</td><td style = \"text-align: left;\">Private</td><td style = \"text-align: right;\">151910</td><td style = \"text-align: left;\">HS-grad</td><td style = \"text-align: right;\">9</td><td style = \"text-align: left;\">Widowed</td><td style = \"text-align: left;\">Adm-clerical</td><td style = \"text-align: left;\">Unmarried</td><td style = \"text-align: left;\">White</td><td style = \"text-align: left;\">Female</td><td style = \"text-align: right;\">0</td><td style = \"text-align: right;\">0</td><td style = \"text-align: right;\">40</td><td style = \"text-align: left;\">United-States</td><td style = \"text-align: left;\">&lt;=50K</td></tr><tr><td class = \"rowNumber\" style = \"font-weight: bold; text-align: right;\">48789</td><td style = \"text-align: right;\">22</td><td style = \"text-align: left;\">Private</td><td style = \"text-align: right;\">201490</td><td style = \"text-align: left;\">HS-grad</td><td style = \"text-align: right;\">9</td><td style = \"text-align: left;\">Never-married</td><td style = \"text-align: left;\">Adm-clerical</td><td style = \"text-align: left;\">Own-child</td><td style = \"text-align: left;\">White</td><td style = \"text-align: left;\">Male</td><td style = \"text-align: right;\">0</td><td style = \"text-align: right;\">0</td><td style = \"text-align: right;\">20</td><td style = \"text-align: left;\">United-States</td><td style = \"text-align: left;\">&lt;=50K</td></tr><tr><td class = \"rowNumber\" style = \"font-weight: bold; text-align: right;\">48790</td><td style = \"text-align: right;\">52</td><td style = \"text-align: left;\">Self-emp-inc</td><td style = \"text-align: right;\">287927</td><td style = \"text-align: left;\">HS-grad</td><td style = \"text-align: right;\">9</td><td style = \"text-align: left;\">Married-civ-spouse</td><td style = \"text-align: left;\">Exec-managerial</td><td style = \"text-align: left;\">Wife</td><td style = \"text-align: left;\">White</td><td style = \"text-align: left;\">Female</td><td style = \"text-align: right;\">15024</td><td style = \"text-align: right;\">0</td><td style = \"text-align: right;\">40</td><td style = \"text-align: left;\">United-States</td><td style = \"text-align: left;\">&gt;50K</td></tr></tbody></table></div>"
      ],
      "text/latex": [
       "\\begin{tabular}{r|ccccccc}\n",
       "\t& age & workclass & fnlwgt & education & education\\_num & marital\\_status & \\\\\n",
       "\t\\hline\n",
       "\t& Int64 & String31 & Int64 & String15 & Int64 & String31 & \\\\\n",
       "\t\\hline\n",
       "\t1 & 25 & Private & 226802 & 11th & 7 & Never-married & $\\dots$ \\\\\n",
       "\t2 & 38 & Private & 89814 & HS-grad & 9 & Married-civ-spouse & $\\dots$ \\\\\n",
       "\t3 & 28 & Local-gov & 336951 & Assoc-acdm & 12 & Married-civ-spouse & $\\dots$ \\\\\n",
       "\t4 & 44 & Private & 160323 & Some-college & 10 & Married-civ-spouse & $\\dots$ \\\\\n",
       "\t5 & 18 & ? & 103497 & Some-college & 10 & Never-married & $\\dots$ \\\\\n",
       "\t6 & 34 & Private & 198693 & 10th & 6 & Never-married & $\\dots$ \\\\\n",
       "\t7 & 29 & ? & 227026 & HS-grad & 9 & Never-married & $\\dots$ \\\\\n",
       "\t8 & 63 & Self-emp-not-inc & 104626 & Prof-school & 15 & Married-civ-spouse & $\\dots$ \\\\\n",
       "\t9 & 24 & Private & 369667 & Some-college & 10 & Never-married & $\\dots$ \\\\\n",
       "\t10 & 55 & Private & 104996 & 7th-8th & 4 & Married-civ-spouse & $\\dots$ \\\\\n",
       "\t11 & 65 & Private & 184454 & HS-grad & 9 & Married-civ-spouse & $\\dots$ \\\\\n",
       "\t12 & 36 & Federal-gov & 212465 & Bachelors & 13 & Married-civ-spouse & $\\dots$ \\\\\n",
       "\t13 & 26 & Private & 82091 & HS-grad & 9 & Never-married & $\\dots$ \\\\\n",
       "\t14 & 58 & ? & 299831 & HS-grad & 9 & Married-civ-spouse & $\\dots$ \\\\\n",
       "\t15 & 48 & Private & 279724 & HS-grad & 9 & Married-civ-spouse & $\\dots$ \\\\\n",
       "\t16 & 43 & Private & 346189 & Masters & 14 & Married-civ-spouse & $\\dots$ \\\\\n",
       "\t17 & 20 & State-gov & 444554 & Some-college & 10 & Never-married & $\\dots$ \\\\\n",
       "\t18 & 43 & Private & 128354 & HS-grad & 9 & Married-civ-spouse & $\\dots$ \\\\\n",
       "\t19 & 37 & Private & 60548 & HS-grad & 9 & Widowed & $\\dots$ \\\\\n",
       "\t20 & 40 & Private & 85019 & Doctorate & 16 & Married-civ-spouse & $\\dots$ \\\\\n",
       "\t21 & 34 & Private & 107914 & Bachelors & 13 & Married-civ-spouse & $\\dots$ \\\\\n",
       "\t22 & 34 & Private & 238588 & Some-college & 10 & Never-married & $\\dots$ \\\\\n",
       "\t23 & 72 & ? & 132015 & 7th-8th & 4 & Divorced & $\\dots$ \\\\\n",
       "\t24 & 25 & Private & 220931 & Bachelors & 13 & Never-married & $\\dots$ \\\\\n",
       "\t25 & 25 & Private & 205947 & Bachelors & 13 & Married-civ-spouse & $\\dots$ \\\\\n",
       "\t26 & 45 & Self-emp-not-inc & 432824 & HS-grad & 9 & Married-civ-spouse & $\\dots$ \\\\\n",
       "\t27 & 22 & Private & 236427 & HS-grad & 9 & Never-married & $\\dots$ \\\\\n",
       "\t28 & 23 & Private & 134446 & HS-grad & 9 & Separated & $\\dots$ \\\\\n",
       "\t29 & 54 & Private & 99516 & HS-grad & 9 & Married-civ-spouse & $\\dots$ \\\\\n",
       "\t30 & 32 & Self-emp-not-inc & 109282 & Some-college & 10 & Never-married & $\\dots$ \\\\\n",
       "\t$\\dots$ & $\\dots$ & $\\dots$ & $\\dots$ & $\\dots$ & $\\dots$ & $\\dots$ &  \\\\\n",
       "\\end{tabular}\n"
      ],
      "text/plain": [
       "\u001b[1m48790×15 DataFrame\u001b[0m\n",
       "\u001b[1m   Row \u001b[0m│\u001b[1m age   \u001b[0m\u001b[1m workclass        \u001b[0m\u001b[1m fnlwgt \u001b[0m\u001b[1m education    \u001b[0m\u001b[1m education_num \u001b[0m\u001b[1m marital\u001b[0m ⋯\n",
       "       │\u001b[90m Int64 \u001b[0m\u001b[90m String31         \u001b[0m\u001b[90m Int64  \u001b[0m\u001b[90m String15     \u001b[0m\u001b[90m Int64         \u001b[0m\u001b[90m String3\u001b[0m ⋯\n",
       "───────┼────────────────────────────────────────────────────────────────────────\n",
       "     1 │    25  Private           226802  11th                      7  Never-m ⋯\n",
       "     2 │    38  Private            89814  HS-grad                   9  Married\n",
       "     3 │    28  Local-gov         336951  Assoc-acdm               12  Married\n",
       "     4 │    44  Private           160323  Some-college             10  Married\n",
       "     5 │    18  ?                 103497  Some-college             10  Never-m ⋯\n",
       "     6 │    34  Private           198693  10th                      6  Never-m\n",
       "     7 │    29  ?                 227026  HS-grad                   9  Never-m\n",
       "     8 │    63  Self-emp-not-inc  104626  Prof-school              15  Married\n",
       "     9 │    24  Private           369667  Some-college             10  Never-m ⋯\n",
       "    10 │    55  Private           104996  7th-8th                   4  Married\n",
       "    11 │    65  Private           184454  HS-grad                   9  Married\n",
       "   ⋮   │   ⋮           ⋮            ⋮          ⋮              ⋮                ⋱\n",
       " 48781 │    32  Private            34066  10th                      6  Married\n",
       " 48782 │    43  Private            84661  Assoc-voc                11  Married ⋯\n",
       " 48783 │    32  Private           116138  Masters                  14  Never-m\n",
       " 48784 │    53  Private           321865  Masters                  14  Married\n",
       " 48785 │    22  Private           310152  Some-college             10  Never-m\n",
       " 48786 │    27  Private           257302  Assoc-acdm               12  Married ⋯\n",
       " 48787 │    40  Private           154374  HS-grad                   9  Married\n",
       " 48788 │    58  Private           151910  HS-grad                   9  Widowed\n",
       " 48789 │    22  Private           201490  HS-grad                   9  Never-m\n",
       " 48790 │    52  Self-emp-inc      287927  HS-grad                   9  Married ⋯\n",
       "\u001b[36m                                               10 columns and 48769 rows omitted\u001b[0m"
      ]
     },
     "execution_count": 37,
     "metadata": {},
     "output_type": "execute_result"
    }
   ],
   "source": [
    "unique(df)"
   ]
  },
  {
   "cell_type": "code",
   "execution_count": 41,
   "id": "00489ee2-f1a4-4e28-9c2b-4948d025fc3e",
   "metadata": {},
   "outputs": [
    {
     "data": {
      "text/html": [
       "<div><div style = \"float: left;\"><span>1206×15 DataFrame</span></div><div style = \"float: right;\"><span style = \"font-style: italic;\">1181 rows omitted</span></div><div style = \"clear: both;\"></div></div><div class = \"data-frame\" style = \"overflow-x: scroll;\"><table class = \"data-frame\" style = \"margin-bottom: 6px;\"><thead><tr class = \"header\"><th class = \"rowNumber\" style = \"font-weight: bold; text-align: right;\">Row</th><th style = \"text-align: left;\">age</th><th style = \"text-align: left;\">workclass</th><th style = \"text-align: left;\">fnlwgt</th><th style = \"text-align: left;\">education</th><th style = \"text-align: left;\">education_num</th><th style = \"text-align: left;\">marital_status</th><th style = \"text-align: left;\">occupation</th><th style = \"text-align: left;\">relationship</th><th style = \"text-align: left;\">race</th><th style = \"text-align: left;\">sex</th><th style = \"text-align: left;\">capital_gain</th><th style = \"text-align: left;\">capital_loss</th><th style = \"text-align: left;\">hours_per_week</th><th style = \"text-align: left;\">native_country</th><th style = \"text-align: left;\">class</th></tr><tr class = \"subheader headerLastRow\"><th class = \"rowNumber\" style = \"font-weight: bold; text-align: right;\"></th><th title = \"Int64\" style = \"text-align: left;\">Int64</th><th title = \"String31\" style = \"text-align: left;\">String31</th><th title = \"Int64\" style = \"text-align: left;\">Int64</th><th title = \"String15\" style = \"text-align: left;\">String15</th><th title = \"Int64\" style = \"text-align: left;\">Int64</th><th title = \"String31\" style = \"text-align: left;\">String31</th><th title = \"String31\" style = \"text-align: left;\">String31</th><th title = \"String15\" style = \"text-align: left;\">String15</th><th title = \"String31\" style = \"text-align: left;\">String31</th><th title = \"String7\" style = \"text-align: left;\">String7</th><th title = \"Int64\" style = \"text-align: left;\">Int64</th><th title = \"Int64\" style = \"text-align: left;\">Int64</th><th title = \"Int64\" style = \"text-align: left;\">Int64</th><th title = \"String31\" style = \"text-align: left;\">String31</th><th title = \"String7\" style = \"text-align: left;\">String7</th></tr></thead><tbody><tr><td class = \"rowNumber\" style = \"font-weight: bold; text-align: right;\">1</td><td style = \"text-align: right;\">24</td><td style = \"text-align: left;\">Private</td><td style = \"text-align: right;\">369667</td><td style = \"text-align: left;\">Some-college</td><td style = \"text-align: right;\">10</td><td style = \"text-align: left;\">Never-married</td><td style = \"text-align: left;\">Other-service</td><td style = \"text-align: left;\">Unmarried</td><td style = \"text-align: left;\">White</td><td style = \"text-align: left;\">Female</td><td style = \"text-align: right;\">0</td><td style = \"text-align: right;\">0</td><td style = \"text-align: right;\">40</td><td style = \"text-align: left;\">United-States</td><td style = \"text-align: left;\">&lt;=50K</td></tr><tr><td class = \"rowNumber\" style = \"font-weight: bold; text-align: right;\">2</td><td style = \"text-align: right;\">24</td><td style = \"text-align: left;\">Self-emp-not-inc</td><td style = \"text-align: right;\">188274</td><td style = \"text-align: left;\">Bachelors</td><td style = \"text-align: right;\">13</td><td style = \"text-align: left;\">Never-married</td><td style = \"text-align: left;\">Sales</td><td style = \"text-align: left;\">Not-in-family</td><td style = \"text-align: left;\">White</td><td style = \"text-align: left;\">Male</td><td style = \"text-align: right;\">0</td><td style = \"text-align: right;\">0</td><td style = \"text-align: right;\">50</td><td style = \"text-align: left;\">United-States</td><td style = \"text-align: left;\">&lt;=50K</td></tr><tr><td class = \"rowNumber\" style = \"font-weight: bold; text-align: right;\">3</td><td style = \"text-align: right;\">24</td><td style = \"text-align: left;\">Private</td><td style = \"text-align: right;\">83141</td><td style = \"text-align: left;\">Some-college</td><td style = \"text-align: right;\">10</td><td style = \"text-align: left;\">Separated</td><td style = \"text-align: left;\">Other-service</td><td style = \"text-align: left;\">Not-in-family</td><td style = \"text-align: left;\">White</td><td style = \"text-align: left;\">Male</td><td style = \"text-align: right;\">0</td><td style = \"text-align: right;\">1876</td><td style = \"text-align: right;\">40</td><td style = \"text-align: left;\">United-States</td><td style = \"text-align: left;\">&lt;=50K</td></tr><tr><td class = \"rowNumber\" style = \"font-weight: bold; text-align: right;\">4</td><td style = \"text-align: right;\">24</td><td style = \"text-align: left;\">Federal-gov</td><td style = \"text-align: right;\">228724</td><td style = \"text-align: left;\">Some-college</td><td style = \"text-align: right;\">10</td><td style = \"text-align: left;\">Never-married</td><td style = \"text-align: left;\">Armed-Forces</td><td style = \"text-align: left;\">Not-in-family</td><td style = \"text-align: left;\">White</td><td style = \"text-align: left;\">Male</td><td style = \"text-align: right;\">0</td><td style = \"text-align: right;\">0</td><td style = \"text-align: right;\">40</td><td style = \"text-align: left;\">United-States</td><td style = \"text-align: left;\">&lt;=50K</td></tr><tr><td class = \"rowNumber\" style = \"font-weight: bold; text-align: right;\">5</td><td style = \"text-align: right;\">24</td><td style = \"text-align: left;\">Private</td><td style = \"text-align: right;\">247846</td><td style = \"text-align: left;\">HS-grad</td><td style = \"text-align: right;\">9</td><td style = \"text-align: left;\">Never-married</td><td style = \"text-align: left;\">Craft-repair</td><td style = \"text-align: left;\">Unmarried</td><td style = \"text-align: left;\">Black</td><td style = \"text-align: left;\">Female</td><td style = \"text-align: right;\">0</td><td style = \"text-align: right;\">0</td><td style = \"text-align: right;\">40</td><td style = \"text-align: left;\">United-States</td><td style = \"text-align: left;\">&lt;=50K</td></tr><tr><td class = \"rowNumber\" style = \"font-weight: bold; text-align: right;\">6</td><td style = \"text-align: right;\">24</td><td style = \"text-align: left;\">Private</td><td style = \"text-align: right;\">325596</td><td style = \"text-align: left;\">Assoc-voc</td><td style = \"text-align: right;\">11</td><td style = \"text-align: left;\">Married-civ-spouse</td><td style = \"text-align: left;\">Machine-op-inspct</td><td style = \"text-align: left;\">Husband</td><td style = \"text-align: left;\">White</td><td style = \"text-align: left;\">Male</td><td style = \"text-align: right;\">0</td><td style = \"text-align: right;\">0</td><td style = \"text-align: right;\">45</td><td style = \"text-align: left;\">United-States</td><td style = \"text-align: left;\">&lt;=50K</td></tr><tr><td class = \"rowNumber\" style = \"font-weight: bold; text-align: right;\">7</td><td style = \"text-align: right;\">24</td><td style = \"text-align: left;\">Private</td><td style = \"text-align: right;\">313956</td><td style = \"text-align: left;\">Bachelors</td><td style = \"text-align: right;\">13</td><td style = \"text-align: left;\">Married-civ-spouse</td><td style = \"text-align: left;\">Prof-specialty</td><td style = \"text-align: left;\">Husband</td><td style = \"text-align: left;\">White</td><td style = \"text-align: left;\">Male</td><td style = \"text-align: right;\">0</td><td style = \"text-align: right;\">0</td><td style = \"text-align: right;\">40</td><td style = \"text-align: left;\">United-States</td><td style = \"text-align: left;\">&gt;50K</td></tr><tr><td class = \"rowNumber\" style = \"font-weight: bold; text-align: right;\">8</td><td style = \"text-align: right;\">24</td><td style = \"text-align: left;\">Private</td><td style = \"text-align: right;\">224238</td><td style = \"text-align: left;\">Bachelors</td><td style = \"text-align: right;\">13</td><td style = \"text-align: left;\">Never-married</td><td style = \"text-align: left;\">Adm-clerical</td><td style = \"text-align: left;\">Own-child</td><td style = \"text-align: left;\">White</td><td style = \"text-align: left;\">Male</td><td style = \"text-align: right;\">0</td><td style = \"text-align: right;\">0</td><td style = \"text-align: right;\">40</td><td style = \"text-align: left;\">United-States</td><td style = \"text-align: left;\">&lt;=50K</td></tr><tr><td class = \"rowNumber\" style = \"font-weight: bold; text-align: right;\">9</td><td style = \"text-align: right;\">24</td><td style = \"text-align: left;\">Private</td><td style = \"text-align: right;\">279175</td><td style = \"text-align: left;\">HS-grad</td><td style = \"text-align: right;\">9</td><td style = \"text-align: left;\">Married-civ-spouse</td><td style = \"text-align: left;\">Craft-repair</td><td style = \"text-align: left;\">Husband</td><td style = \"text-align: left;\">White</td><td style = \"text-align: left;\">Male</td><td style = \"text-align: right;\">0</td><td style = \"text-align: right;\">0</td><td style = \"text-align: right;\">40</td><td style = \"text-align: left;\">United-States</td><td style = \"text-align: left;\">&lt;=50K</td></tr><tr><td class = \"rowNumber\" style = \"font-weight: bold; text-align: right;\">10</td><td style = \"text-align: right;\">24</td><td style = \"text-align: left;\">Private</td><td style = \"text-align: right;\">154835</td><td style = \"text-align: left;\">HS-grad</td><td style = \"text-align: right;\">9</td><td style = \"text-align: left;\">Never-married</td><td style = \"text-align: left;\">Exec-managerial</td><td style = \"text-align: left;\">Own-child</td><td style = \"text-align: left;\">Asian-Pac-Islander</td><td style = \"text-align: left;\">Female</td><td style = \"text-align: right;\">0</td><td style = \"text-align: right;\">0</td><td style = \"text-align: right;\">40</td><td style = \"text-align: left;\">South</td><td style = \"text-align: left;\">&lt;=50K</td></tr><tr><td class = \"rowNumber\" style = \"font-weight: bold; text-align: right;\">11</td><td style = \"text-align: right;\">24</td><td style = \"text-align: left;\">Private</td><td style = \"text-align: right;\">183772</td><td style = \"text-align: left;\">HS-grad</td><td style = \"text-align: right;\">9</td><td style = \"text-align: left;\">Never-married</td><td style = \"text-align: left;\">Craft-repair</td><td style = \"text-align: left;\">Unmarried</td><td style = \"text-align: left;\">White</td><td style = \"text-align: left;\">Female</td><td style = \"text-align: right;\">0</td><td style = \"text-align: right;\">0</td><td style = \"text-align: right;\">40</td><td style = \"text-align: left;\">United-States</td><td style = \"text-align: left;\">&lt;=50K</td></tr><tr><td class = \"rowNumber\" style = \"font-weight: bold; text-align: right;\">12</td><td style = \"text-align: right;\">24</td><td style = \"text-align: left;\">Private</td><td style = \"text-align: right;\">302195</td><td style = \"text-align: left;\">Bachelors</td><td style = \"text-align: right;\">13</td><td style = \"text-align: left;\">Never-married</td><td style = \"text-align: left;\">Sales</td><td style = \"text-align: left;\">Not-in-family</td><td style = \"text-align: left;\">White</td><td style = \"text-align: left;\">Male</td><td style = \"text-align: right;\">0</td><td style = \"text-align: right;\">0</td><td style = \"text-align: right;\">45</td><td style = \"text-align: left;\">United-States</td><td style = \"text-align: left;\">&lt;=50K</td></tr><tr><td class = \"rowNumber\" style = \"font-weight: bold; text-align: right;\">13</td><td style = \"text-align: right;\">24</td><td style = \"text-align: left;\">Private</td><td style = \"text-align: right;\">102258</td><td style = \"text-align: left;\">Bachelors</td><td style = \"text-align: right;\">13</td><td style = \"text-align: left;\">Married-civ-spouse</td><td style = \"text-align: left;\">Sales</td><td style = \"text-align: left;\">Husband</td><td style = \"text-align: left;\">White</td><td style = \"text-align: left;\">Male</td><td style = \"text-align: right;\">0</td><td style = \"text-align: right;\">0</td><td style = \"text-align: right;\">40</td><td style = \"text-align: left;\">United-States</td><td style = \"text-align: left;\">&lt;=50K</td></tr><tr><td style = \"text-align: right;\">&vellip;</td><td style = \"text-align: right;\">&vellip;</td><td style = \"text-align: right;\">&vellip;</td><td style = \"text-align: right;\">&vellip;</td><td style = \"text-align: right;\">&vellip;</td><td style = \"text-align: right;\">&vellip;</td><td style = \"text-align: right;\">&vellip;</td><td style = \"text-align: right;\">&vellip;</td><td style = \"text-align: right;\">&vellip;</td><td style = \"text-align: right;\">&vellip;</td><td style = \"text-align: right;\">&vellip;</td><td style = \"text-align: right;\">&vellip;</td><td style = \"text-align: right;\">&vellip;</td><td style = \"text-align: right;\">&vellip;</td><td style = \"text-align: right;\">&vellip;</td><td style = \"text-align: right;\">&vellip;</td></tr><tr><td class = \"rowNumber\" style = \"font-weight: bold; text-align: right;\">1195</td><td style = \"text-align: right;\">24</td><td style = \"text-align: left;\">Federal-gov</td><td style = \"text-align: right;\">312017</td><td style = \"text-align: left;\">Some-college</td><td style = \"text-align: right;\">10</td><td style = \"text-align: left;\">Never-married</td><td style = \"text-align: left;\">Exec-managerial</td><td style = \"text-align: left;\">Own-child</td><td style = \"text-align: left;\">White</td><td style = \"text-align: left;\">Male</td><td style = \"text-align: right;\">0</td><td style = \"text-align: right;\">0</td><td style = \"text-align: right;\">40</td><td style = \"text-align: left;\">United-States</td><td style = \"text-align: left;\">&lt;=50K</td></tr><tr><td class = \"rowNumber\" style = \"font-weight: bold; text-align: right;\">1196</td><td style = \"text-align: right;\">24</td><td style = \"text-align: left;\">Private</td><td style = \"text-align: right;\">456367</td><td style = \"text-align: left;\">HS-grad</td><td style = \"text-align: right;\">9</td><td style = \"text-align: left;\">Married-civ-spouse</td><td style = \"text-align: left;\">Craft-repair</td><td style = \"text-align: left;\">Husband</td><td style = \"text-align: left;\">White</td><td style = \"text-align: left;\">Male</td><td style = \"text-align: right;\">0</td><td style = \"text-align: right;\">0</td><td style = \"text-align: right;\">40</td><td style = \"text-align: left;\">United-States</td><td style = \"text-align: left;\">&lt;=50K</td></tr><tr><td class = \"rowNumber\" style = \"font-weight: bold; text-align: right;\">1197</td><td style = \"text-align: right;\">24</td><td style = \"text-align: left;\">Private</td><td style = \"text-align: right;\">128477</td><td style = \"text-align: left;\">Masters</td><td style = \"text-align: right;\">14</td><td style = \"text-align: left;\">Never-married</td><td style = \"text-align: left;\">Prof-specialty</td><td style = \"text-align: left;\">Not-in-family</td><td style = \"text-align: left;\">White</td><td style = \"text-align: left;\">Female</td><td style = \"text-align: right;\">0</td><td style = \"text-align: right;\">0</td><td style = \"text-align: right;\">40</td><td style = \"text-align: left;\">United-States</td><td style = \"text-align: left;\">&lt;=50K</td></tr><tr><td class = \"rowNumber\" style = \"font-weight: bold; text-align: right;\">1198</td><td style = \"text-align: right;\">24</td><td style = \"text-align: left;\">Private</td><td style = \"text-align: right;\">206008</td><td style = \"text-align: left;\">Assoc-acdm</td><td style = \"text-align: right;\">12</td><td style = \"text-align: left;\">Never-married</td><td style = \"text-align: left;\">Prof-specialty</td><td style = \"text-align: left;\">Own-child</td><td style = \"text-align: left;\">Black</td><td style = \"text-align: left;\">Male</td><td style = \"text-align: right;\">0</td><td style = \"text-align: right;\">0</td><td style = \"text-align: right;\">20</td><td style = \"text-align: left;\">United-States</td><td style = \"text-align: left;\">&lt;=50K</td></tr><tr><td class = \"rowNumber\" style = \"font-weight: bold; text-align: right;\">1199</td><td style = \"text-align: right;\">24</td><td style = \"text-align: left;\">Private</td><td style = \"text-align: right;\">34568</td><td style = \"text-align: left;\">Assoc-voc</td><td style = \"text-align: right;\">11</td><td style = \"text-align: left;\">Never-married</td><td style = \"text-align: left;\">Transport-moving</td><td style = \"text-align: left;\">Not-in-family</td><td style = \"text-align: left;\">White</td><td style = \"text-align: left;\">Male</td><td style = \"text-align: right;\">0</td><td style = \"text-align: right;\">0</td><td style = \"text-align: right;\">40</td><td style = \"text-align: left;\">United-States</td><td style = \"text-align: left;\">&lt;=50K</td></tr><tr><td class = \"rowNumber\" style = \"font-weight: bold; text-align: right;\">1200</td><td style = \"text-align: right;\">24</td><td style = \"text-align: left;\">Private</td><td style = \"text-align: right;\">427686</td><td style = \"text-align: left;\">1st-4th</td><td style = \"text-align: right;\">2</td><td style = \"text-align: left;\">Married-civ-spouse</td><td style = \"text-align: left;\">Handlers-cleaners</td><td style = \"text-align: left;\">Other-relative</td><td style = \"text-align: left;\">White</td><td style = \"text-align: left;\">Male</td><td style = \"text-align: right;\">0</td><td style = \"text-align: right;\">0</td><td style = \"text-align: right;\">40</td><td style = \"text-align: left;\">Mexico</td><td style = \"text-align: left;\">&lt;=50K</td></tr><tr><td class = \"rowNumber\" style = \"font-weight: bold; text-align: right;\">1201</td><td style = \"text-align: right;\">24</td><td style = \"text-align: left;\">Private</td><td style = \"text-align: right;\">118657</td><td style = \"text-align: left;\">12th</td><td style = \"text-align: right;\">8</td><td style = \"text-align: left;\">Married-civ-spouse</td><td style = \"text-align: left;\">Machine-op-inspct</td><td style = \"text-align: left;\">Husband</td><td style = \"text-align: left;\">White</td><td style = \"text-align: left;\">Male</td><td style = \"text-align: right;\">0</td><td style = \"text-align: right;\">0</td><td style = \"text-align: right;\">40</td><td style = \"text-align: left;\">United-States</td><td style = \"text-align: left;\">&lt;=50K</td></tr><tr><td class = \"rowNumber\" style = \"font-weight: bold; text-align: right;\">1202</td><td style = \"text-align: right;\">24</td><td style = \"text-align: left;\">Private</td><td style = \"text-align: right;\">176580</td><td style = \"text-align: left;\">5th-6th</td><td style = \"text-align: right;\">3</td><td style = \"text-align: left;\">Married-spouse-absent</td><td style = \"text-align: left;\">Farming-fishing</td><td style = \"text-align: left;\">Not-in-family</td><td style = \"text-align: left;\">White</td><td style = \"text-align: left;\">Male</td><td style = \"text-align: right;\">0</td><td style = \"text-align: right;\">0</td><td style = \"text-align: right;\">40</td><td style = \"text-align: left;\">Mexico</td><td style = \"text-align: left;\">&lt;=50K</td></tr><tr><td class = \"rowNumber\" style = \"font-weight: bold; text-align: right;\">1203</td><td style = \"text-align: right;\">24</td><td style = \"text-align: left;\">Private</td><td style = \"text-align: right;\">222005</td><td style = \"text-align: left;\">HS-grad</td><td style = \"text-align: right;\">9</td><td style = \"text-align: left;\">Never-married</td><td style = \"text-align: left;\">Other-service</td><td style = \"text-align: left;\">Other-relative</td><td style = \"text-align: left;\">White</td><td style = \"text-align: left;\">Male</td><td style = \"text-align: right;\">0</td><td style = \"text-align: right;\">0</td><td style = \"text-align: right;\">30</td><td style = \"text-align: left;\">United-States</td><td style = \"text-align: left;\">&lt;=50K</td></tr><tr><td class = \"rowNumber\" style = \"font-weight: bold; text-align: right;\">1204</td><td style = \"text-align: right;\">24</td><td style = \"text-align: left;\">Private</td><td style = \"text-align: right;\">284317</td><td style = \"text-align: left;\">Bachelors</td><td style = \"text-align: right;\">13</td><td style = \"text-align: left;\">Never-married</td><td style = \"text-align: left;\">Machine-op-inspct</td><td style = \"text-align: left;\">Not-in-family</td><td style = \"text-align: left;\">White</td><td style = \"text-align: left;\">Female</td><td style = \"text-align: right;\">0</td><td style = \"text-align: right;\">0</td><td style = \"text-align: right;\">32</td><td style = \"text-align: left;\">United-States</td><td style = \"text-align: left;\">&lt;=50K</td></tr><tr><td class = \"rowNumber\" style = \"font-weight: bold; text-align: right;\">1205</td><td style = \"text-align: right;\">24</td><td style = \"text-align: left;\">Private</td><td style = \"text-align: right;\">216984</td><td style = \"text-align: left;\">Some-college</td><td style = \"text-align: right;\">10</td><td style = \"text-align: left;\">Married-civ-spouse</td><td style = \"text-align: left;\">Other-service</td><td style = \"text-align: left;\">Own-child</td><td style = \"text-align: left;\">Asian-Pac-Islander</td><td style = \"text-align: left;\">Female</td><td style = \"text-align: right;\">0</td><td style = \"text-align: right;\">0</td><td style = \"text-align: right;\">35</td><td style = \"text-align: left;\">United-States</td><td style = \"text-align: left;\">&lt;=50K</td></tr><tr><td class = \"rowNumber\" style = \"font-weight: bold; text-align: right;\">1206</td><td style = \"text-align: right;\">24</td><td style = \"text-align: left;\">Private</td><td style = \"text-align: right;\">381895</td><td style = \"text-align: left;\">11th</td><td style = \"text-align: right;\">7</td><td style = \"text-align: left;\">Divorced</td><td style = \"text-align: left;\">Machine-op-inspct</td><td style = \"text-align: left;\">Unmarried</td><td style = \"text-align: left;\">White</td><td style = \"text-align: left;\">Female</td><td style = \"text-align: right;\">0</td><td style = \"text-align: right;\">0</td><td style = \"text-align: right;\">40</td><td style = \"text-align: left;\">United-States</td><td style = \"text-align: left;\">&lt;=50K</td></tr></tbody></table></div>"
      ],
      "text/latex": [
       "\\begin{tabular}{r|ccccccc}\n",
       "\t& age & workclass & fnlwgt & education & education\\_num & marital\\_status & \\\\\n",
       "\t\\hline\n",
       "\t& Int64 & String31 & Int64 & String15 & Int64 & String31 & \\\\\n",
       "\t\\hline\n",
       "\t1 & 24 & Private & 369667 & Some-college & 10 & Never-married & $\\dots$ \\\\\n",
       "\t2 & 24 & Self-emp-not-inc & 188274 & Bachelors & 13 & Never-married & $\\dots$ \\\\\n",
       "\t3 & 24 & Private & 83141 & Some-college & 10 & Separated & $\\dots$ \\\\\n",
       "\t4 & 24 & Federal-gov & 228724 & Some-college & 10 & Never-married & $\\dots$ \\\\\n",
       "\t5 & 24 & Private & 247846 & HS-grad & 9 & Never-married & $\\dots$ \\\\\n",
       "\t6 & 24 & Private & 325596 & Assoc-voc & 11 & Married-civ-spouse & $\\dots$ \\\\\n",
       "\t7 & 24 & Private & 313956 & Bachelors & 13 & Married-civ-spouse & $\\dots$ \\\\\n",
       "\t8 & 24 & Private & 224238 & Bachelors & 13 & Never-married & $\\dots$ \\\\\n",
       "\t9 & 24 & Private & 279175 & HS-grad & 9 & Married-civ-spouse & $\\dots$ \\\\\n",
       "\t10 & 24 & Private & 154835 & HS-grad & 9 & Never-married & $\\dots$ \\\\\n",
       "\t11 & 24 & Private & 183772 & HS-grad & 9 & Never-married & $\\dots$ \\\\\n",
       "\t12 & 24 & Private & 302195 & Bachelors & 13 & Never-married & $\\dots$ \\\\\n",
       "\t13 & 24 & Private & 102258 & Bachelors & 13 & Married-civ-spouse & $\\dots$ \\\\\n",
       "\t14 & 24 & State-gov & 322658 & Bachelors & 13 & Never-married & $\\dots$ \\\\\n",
       "\t15 & 24 & Private & 208503 & Some-college & 10 & Never-married & $\\dots$ \\\\\n",
       "\t16 & 24 & Private & 124751 & HS-grad & 9 & Never-married & $\\dots$ \\\\\n",
       "\t17 & 24 & Private & 194630 & Bachelors & 13 & Never-married & $\\dots$ \\\\\n",
       "\t18 & 24 & Local-gov & 238384 & Bachelors & 13 & Never-married & $\\dots$ \\\\\n",
       "\t19 & 24 & Private & 206827 & Some-college & 10 & Never-married & $\\dots$ \\\\\n",
       "\t20 & 24 & Private & 403107 & 5th-6th & 3 & Never-married & $\\dots$ \\\\\n",
       "\t21 & 24 & Private & 131220 & HS-grad & 9 & Never-married & $\\dots$ \\\\\n",
       "\t22 & 24 & Private & 321435 & Bachelors & 13 & Married-civ-spouse & $\\dots$ \\\\\n",
       "\t23 & 24 & Private & 314819 & Some-college & 10 & Never-married & $\\dots$ \\\\\n",
       "\t24 & 24 & Private & 83774 & HS-grad & 9 & Married-civ-spouse & $\\dots$ \\\\\n",
       "\t25 & 24 & Private & 236696 & Bachelors & 13 & Never-married & $\\dots$ \\\\\n",
       "\t26 & 24 & Private & 311311 & Bachelors & 13 & Never-married & $\\dots$ \\\\\n",
       "\t27 & 24 & Private & 109456 & Bachelors & 13 & Never-married & $\\dots$ \\\\\n",
       "\t28 & 24 & Private & 164574 & HS-grad & 9 & Married-civ-spouse & $\\dots$ \\\\\n",
       "\t29 & 24 & Private & 194630 & Bachelors & 13 & Never-married & $\\dots$ \\\\\n",
       "\t30 & 24 & Private & 208946 & Assoc-voc & 11 & Never-married & $\\dots$ \\\\\n",
       "\t$\\dots$ & $\\dots$ & $\\dots$ & $\\dots$ & $\\dots$ & $\\dots$ & $\\dots$ &  \\\\\n",
       "\\end{tabular}\n"
      ],
      "text/plain": [
       "\u001b[1m1206×15 DataFrame\u001b[0m\n",
       "\u001b[1m  Row \u001b[0m│\u001b[1m age   \u001b[0m\u001b[1m workclass        \u001b[0m\u001b[1m fnlwgt \u001b[0m\u001b[1m education    \u001b[0m\u001b[1m education_num \u001b[0m\u001b[1m marital_\u001b[0m ⋯\n",
       "      │\u001b[90m Int64 \u001b[0m\u001b[90m String31         \u001b[0m\u001b[90m Int64  \u001b[0m\u001b[90m String15     \u001b[0m\u001b[90m Int64         \u001b[0m\u001b[90m String31\u001b[0m ⋯\n",
       "──────┼─────────────────────────────────────────────────────────────────────────\n",
       "    1 │    24  Private           369667  Some-college             10  Never-ma ⋯\n",
       "    2 │    24  Self-emp-not-inc  188274  Bachelors                13  Never-ma\n",
       "    3 │    24  Private            83141  Some-college             10  Separate\n",
       "    4 │    24  Federal-gov       228724  Some-college             10  Never-ma\n",
       "    5 │    24  Private           247846  HS-grad                   9  Never-ma ⋯\n",
       "    6 │    24  Private           325596  Assoc-voc                11  Married-\n",
       "    7 │    24  Private           313956  Bachelors                13  Married-\n",
       "    8 │    24  Private           224238  Bachelors                13  Never-ma\n",
       "    9 │    24  Private           279175  HS-grad                   9  Married- ⋯\n",
       "   10 │    24  Private           154835  HS-grad                   9  Never-ma\n",
       "   11 │    24  Private           183772  HS-grad                   9  Never-ma\n",
       "  ⋮   │   ⋮           ⋮            ⋮          ⋮              ⋮                 ⋱\n",
       " 1197 │    24  Private           128477  Masters                  14  Never-ma\n",
       " 1198 │    24  Private           206008  Assoc-acdm               12  Never-ma ⋯\n",
       " 1199 │    24  Private            34568  Assoc-voc                11  Never-ma\n",
       " 1200 │    24  Private           427686  1st-4th                   2  Married-\n",
       " 1201 │    24  Private           118657  12th                      8  Married-\n",
       " 1202 │    24  Private           176580  5th-6th                   3  Married- ⋯\n",
       " 1203 │    24  Private           222005  HS-grad                   9  Never-ma\n",
       " 1204 │    24  Private           284317  Bachelors                13  Never-ma\n",
       " 1205 │    24  Private           216984  Some-college             10  Married-\n",
       " 1206 │    24  Private           381895  11th                      7  Divorced ⋯\n",
       "\u001b[36m                                                10 columns and 1185 rows omitted\u001b[0m"
      ]
     },
     "execution_count": 41,
     "metadata": {},
     "output_type": "execute_result"
    }
   ],
   "source": [
    "filter(:age => ==(24), df)"
   ]
  },
  {
   "cell_type": "code",
   "execution_count": 45,
   "id": "c5951717-88bf-427d-a77f-fb742673f5c7",
   "metadata": {},
   "outputs": [
    {
     "data": {
      "text/html": [
       "<div><div style = \"float: left;\"><span>8025×15 DataFrame</span></div><div style = \"float: right;\"><span style = \"font-style: italic;\">8000 rows omitted</span></div><div style = \"clear: both;\"></div></div><div class = \"data-frame\" style = \"overflow-x: scroll;\"><table class = \"data-frame\" style = \"margin-bottom: 6px;\"><thead><tr class = \"header\"><th class = \"rowNumber\" style = \"font-weight: bold; text-align: right;\">Row</th><th style = \"text-align: left;\">age</th><th style = \"text-align: left;\">workclass</th><th style = \"text-align: left;\">fnlwgt</th><th style = \"text-align: left;\">education</th><th style = \"text-align: left;\">education_num</th><th style = \"text-align: left;\">marital_status</th><th style = \"text-align: left;\">occupation</th><th style = \"text-align: left;\">relationship</th><th style = \"text-align: left;\">race</th><th style = \"text-align: left;\">sex</th><th style = \"text-align: left;\">capital_gain</th><th style = \"text-align: left;\">capital_loss</th><th style = \"text-align: left;\">hours_per_week</th><th style = \"text-align: left;\">native_country</th><th style = \"text-align: left;\">class</th></tr><tr class = \"subheader headerLastRow\"><th class = \"rowNumber\" style = \"font-weight: bold; text-align: right;\"></th><th title = \"Int64\" style = \"text-align: left;\">Int64</th><th title = \"String31\" style = \"text-align: left;\">String31</th><th title = \"Int64\" style = \"text-align: left;\">Int64</th><th title = \"String15\" style = \"text-align: left;\">String15</th><th title = \"Int64\" style = \"text-align: left;\">Int64</th><th title = \"String31\" style = \"text-align: left;\">String31</th><th title = \"String31\" style = \"text-align: left;\">String31</th><th title = \"String15\" style = \"text-align: left;\">String15</th><th title = \"String31\" style = \"text-align: left;\">String31</th><th title = \"String7\" style = \"text-align: left;\">String7</th><th title = \"Int64\" style = \"text-align: left;\">Int64</th><th title = \"Int64\" style = \"text-align: left;\">Int64</th><th title = \"Int64\" style = \"text-align: left;\">Int64</th><th title = \"String31\" style = \"text-align: left;\">String31</th><th title = \"String7\" style = \"text-align: left;\">String7</th></tr></thead><tbody><tr><td class = \"rowNumber\" style = \"font-weight: bold; text-align: right;\">1</td><td style = \"text-align: right;\">36</td><td style = \"text-align: left;\">Federal-gov</td><td style = \"text-align: right;\">212465</td><td style = \"text-align: left;\">Bachelors</td><td style = \"text-align: right;\">13</td><td style = \"text-align: left;\">Married-civ-spouse</td><td style = \"text-align: left;\">Adm-clerical</td><td style = \"text-align: left;\">Husband</td><td style = \"text-align: left;\">White</td><td style = \"text-align: left;\">Male</td><td style = \"text-align: right;\">0</td><td style = \"text-align: right;\">0</td><td style = \"text-align: right;\">40</td><td style = \"text-align: left;\">United-States</td><td style = \"text-align: left;\">&lt;=50K</td></tr><tr><td class = \"rowNumber\" style = \"font-weight: bold; text-align: right;\">2</td><td style = \"text-align: right;\">34</td><td style = \"text-align: left;\">Private</td><td style = \"text-align: right;\">107914</td><td style = \"text-align: left;\">Bachelors</td><td style = \"text-align: right;\">13</td><td style = \"text-align: left;\">Married-civ-spouse</td><td style = \"text-align: left;\">Tech-support</td><td style = \"text-align: left;\">Husband</td><td style = \"text-align: left;\">White</td><td style = \"text-align: left;\">Male</td><td style = \"text-align: right;\">0</td><td style = \"text-align: right;\">0</td><td style = \"text-align: right;\">47</td><td style = \"text-align: left;\">United-States</td><td style = \"text-align: left;\">&gt;50K</td></tr><tr><td class = \"rowNumber\" style = \"font-weight: bold; text-align: right;\">3</td><td style = \"text-align: right;\">25</td><td style = \"text-align: left;\">Private</td><td style = \"text-align: right;\">220931</td><td style = \"text-align: left;\">Bachelors</td><td style = \"text-align: right;\">13</td><td style = \"text-align: left;\">Never-married</td><td style = \"text-align: left;\">Prof-specialty</td><td style = \"text-align: left;\">Not-in-family</td><td style = \"text-align: left;\">White</td><td style = \"text-align: left;\">Male</td><td style = \"text-align: right;\">0</td><td style = \"text-align: right;\">0</td><td style = \"text-align: right;\">43</td><td style = \"text-align: left;\">Peru</td><td style = \"text-align: left;\">&lt;=50K</td></tr><tr><td class = \"rowNumber\" style = \"font-weight: bold; text-align: right;\">4</td><td style = \"text-align: right;\">25</td><td style = \"text-align: left;\">Private</td><td style = \"text-align: right;\">205947</td><td style = \"text-align: left;\">Bachelors</td><td style = \"text-align: right;\">13</td><td style = \"text-align: left;\">Married-civ-spouse</td><td style = \"text-align: left;\">Prof-specialty</td><td style = \"text-align: left;\">Husband</td><td style = \"text-align: left;\">White</td><td style = \"text-align: left;\">Male</td><td style = \"text-align: right;\">0</td><td style = \"text-align: right;\">0</td><td style = \"text-align: right;\">40</td><td style = \"text-align: left;\">United-States</td><td style = \"text-align: left;\">&lt;=50K</td></tr><tr><td class = \"rowNumber\" style = \"font-weight: bold; text-align: right;\">5</td><td style = \"text-align: right;\">24</td><td style = \"text-align: left;\">Self-emp-not-inc</td><td style = \"text-align: right;\">188274</td><td style = \"text-align: left;\">Bachelors</td><td style = \"text-align: right;\">13</td><td style = \"text-align: left;\">Never-married</td><td style = \"text-align: left;\">Sales</td><td style = \"text-align: left;\">Not-in-family</td><td style = \"text-align: left;\">White</td><td style = \"text-align: left;\">Male</td><td style = \"text-align: right;\">0</td><td style = \"text-align: right;\">0</td><td style = \"text-align: right;\">50</td><td style = \"text-align: left;\">United-States</td><td style = \"text-align: left;\">&lt;=50K</td></tr><tr><td class = \"rowNumber\" style = \"font-weight: bold; text-align: right;\">6</td><td style = \"text-align: right;\">36</td><td style = \"text-align: left;\">Local-gov</td><td style = \"text-align: right;\">403681</td><td style = \"text-align: left;\">Bachelors</td><td style = \"text-align: right;\">13</td><td style = \"text-align: left;\">Married-civ-spouse</td><td style = \"text-align: left;\">Prof-specialty</td><td style = \"text-align: left;\">Husband</td><td style = \"text-align: left;\">White</td><td style = \"text-align: left;\">Male</td><td style = \"text-align: right;\">0</td><td style = \"text-align: right;\">0</td><td style = \"text-align: right;\">40</td><td style = \"text-align: left;\">United-States</td><td style = \"text-align: left;\">&gt;50K</td></tr><tr><td class = \"rowNumber\" style = \"font-weight: bold; text-align: right;\">7</td><td style = \"text-align: right;\">34</td><td style = \"text-align: left;\">Local-gov</td><td style = \"text-align: right;\">382078</td><td style = \"text-align: left;\">Bachelors</td><td style = \"text-align: right;\">13</td><td style = \"text-align: left;\">Married-civ-spouse</td><td style = \"text-align: left;\">Exec-managerial</td><td style = \"text-align: left;\">Husband</td><td style = \"text-align: left;\">White</td><td style = \"text-align: left;\">Male</td><td style = \"text-align: right;\">3103</td><td style = \"text-align: right;\">0</td><td style = \"text-align: right;\">50</td><td style = \"text-align: left;\">United-States</td><td style = \"text-align: left;\">&gt;50K</td></tr><tr><td class = \"rowNumber\" style = \"font-weight: bold; text-align: right;\">8</td><td style = \"text-align: right;\">30</td><td style = \"text-align: left;\">Private</td><td style = \"text-align: right;\">101135</td><td style = \"text-align: left;\">Bachelors</td><td style = \"text-align: right;\">13</td><td style = \"text-align: left;\">Never-married</td><td style = \"text-align: left;\">Exec-managerial</td><td style = \"text-align: left;\">Not-in-family</td><td style = \"text-align: left;\">White</td><td style = \"text-align: left;\">Female</td><td style = \"text-align: right;\">0</td><td style = \"text-align: right;\">0</td><td style = \"text-align: right;\">50</td><td style = \"text-align: left;\">United-States</td><td style = \"text-align: left;\">&lt;=50K</td></tr><tr><td class = \"rowNumber\" style = \"font-weight: bold; text-align: right;\">9</td><td style = \"text-align: right;\">41</td><td style = \"text-align: left;\">Private</td><td style = \"text-align: right;\">109912</td><td style = \"text-align: left;\">Bachelors</td><td style = \"text-align: right;\">13</td><td style = \"text-align: left;\">Never-married</td><td style = \"text-align: left;\">Other-service</td><td style = \"text-align: left;\">Not-in-family</td><td style = \"text-align: left;\">White</td><td style = \"text-align: left;\">Female</td><td style = \"text-align: right;\">0</td><td style = \"text-align: right;\">0</td><td style = \"text-align: right;\">40</td><td style = \"text-align: left;\">?</td><td style = \"text-align: left;\">&lt;=50K</td></tr><tr><td class = \"rowNumber\" style = \"font-weight: bold; text-align: right;\">10</td><td style = \"text-align: right;\">23</td><td style = \"text-align: left;\">Private</td><td style = \"text-align: right;\">213734</td><td style = \"text-align: left;\">Bachelors</td><td style = \"text-align: right;\">13</td><td style = \"text-align: left;\">Never-married</td><td style = \"text-align: left;\">Exec-managerial</td><td style = \"text-align: left;\">Not-in-family</td><td style = \"text-align: left;\">White</td><td style = \"text-align: left;\">Male</td><td style = \"text-align: right;\">0</td><td style = \"text-align: right;\">0</td><td style = \"text-align: right;\">40</td><td style = \"text-align: left;\">United-States</td><td style = \"text-align: left;\">&lt;=50K</td></tr><tr><td class = \"rowNumber\" style = \"font-weight: bold; text-align: right;\">11</td><td style = \"text-align: right;\">59</td><td style = \"text-align: left;\">Private</td><td style = \"text-align: right;\">292946</td><td style = \"text-align: left;\">Bachelors</td><td style = \"text-align: right;\">13</td><td style = \"text-align: left;\">Never-married</td><td style = \"text-align: left;\">Exec-managerial</td><td style = \"text-align: left;\">Not-in-family</td><td style = \"text-align: left;\">White</td><td style = \"text-align: left;\">Female</td><td style = \"text-align: right;\">0</td><td style = \"text-align: right;\">0</td><td style = \"text-align: right;\">25</td><td style = \"text-align: left;\">United-States</td><td style = \"text-align: left;\">&lt;=50K</td></tr><tr><td class = \"rowNumber\" style = \"font-weight: bold; text-align: right;\">12</td><td style = \"text-align: right;\">59</td><td style = \"text-align: left;\">Federal-gov</td><td style = \"text-align: right;\">98984</td><td style = \"text-align: left;\">Bachelors</td><td style = \"text-align: right;\">13</td><td style = \"text-align: left;\">Divorced</td><td style = \"text-align: left;\">Adm-clerical</td><td style = \"text-align: left;\">Not-in-family</td><td style = \"text-align: left;\">White</td><td style = \"text-align: left;\">Male</td><td style = \"text-align: right;\">0</td><td style = \"text-align: right;\">0</td><td style = \"text-align: right;\">40</td><td style = \"text-align: left;\">United-States</td><td style = \"text-align: left;\">&lt;=50K</td></tr><tr><td class = \"rowNumber\" style = \"font-weight: bold; text-align: right;\">13</td><td style = \"text-align: right;\">25</td><td style = \"text-align: left;\">Private</td><td style = \"text-align: right;\">235218</td><td style = \"text-align: left;\">Bachelors</td><td style = \"text-align: right;\">13</td><td style = \"text-align: left;\">Never-married</td><td style = \"text-align: left;\">Exec-managerial</td><td style = \"text-align: left;\">Own-child</td><td style = \"text-align: left;\">White</td><td style = \"text-align: left;\">Female</td><td style = \"text-align: right;\">0</td><td style = \"text-align: right;\">0</td><td style = \"text-align: right;\">40</td><td style = \"text-align: left;\">United-States</td><td style = \"text-align: left;\">&lt;=50K</td></tr><tr><td style = \"text-align: right;\">&vellip;</td><td style = \"text-align: right;\">&vellip;</td><td style = \"text-align: right;\">&vellip;</td><td style = \"text-align: right;\">&vellip;</td><td style = \"text-align: right;\">&vellip;</td><td style = \"text-align: right;\">&vellip;</td><td style = \"text-align: right;\">&vellip;</td><td style = \"text-align: right;\">&vellip;</td><td style = \"text-align: right;\">&vellip;</td><td style = \"text-align: right;\">&vellip;</td><td style = \"text-align: right;\">&vellip;</td><td style = \"text-align: right;\">&vellip;</td><td style = \"text-align: right;\">&vellip;</td><td style = \"text-align: right;\">&vellip;</td><td style = \"text-align: right;\">&vellip;</td><td style = \"text-align: right;\">&vellip;</td></tr><tr><td class = \"rowNumber\" style = \"font-weight: bold; text-align: right;\">8014</td><td style = \"text-align: right;\">36</td><td style = \"text-align: left;\">Private</td><td style = \"text-align: right;\">237943</td><td style = \"text-align: left;\">Bachelors</td><td style = \"text-align: right;\">13</td><td style = \"text-align: left;\">Married-civ-spouse</td><td style = \"text-align: left;\">Prof-specialty</td><td style = \"text-align: left;\">Husband</td><td style = \"text-align: left;\">White</td><td style = \"text-align: left;\">Male</td><td style = \"text-align: right;\">0</td><td style = \"text-align: right;\">1977</td><td style = \"text-align: right;\">45</td><td style = \"text-align: left;\">United-States</td><td style = \"text-align: left;\">&gt;50K</td></tr><tr><td class = \"rowNumber\" style = \"font-weight: bold; text-align: right;\">8015</td><td style = \"text-align: right;\">85</td><td style = \"text-align: left;\">Private</td><td style = \"text-align: right;\">98611</td><td style = \"text-align: left;\">Bachelors</td><td style = \"text-align: right;\">13</td><td style = \"text-align: left;\">Married-civ-spouse</td><td style = \"text-align: left;\">Exec-managerial</td><td style = \"text-align: left;\">Husband</td><td style = \"text-align: left;\">White</td><td style = \"text-align: left;\">Male</td><td style = \"text-align: right;\">0</td><td style = \"text-align: right;\">0</td><td style = \"text-align: right;\">3</td><td style = \"text-align: left;\">Poland</td><td style = \"text-align: left;\">&lt;=50K</td></tr><tr><td class = \"rowNumber\" style = \"font-weight: bold; text-align: right;\">8016</td><td style = \"text-align: right;\">24</td><td style = \"text-align: left;\">Private</td><td style = \"text-align: right;\">284317</td><td style = \"text-align: left;\">Bachelors</td><td style = \"text-align: right;\">13</td><td style = \"text-align: left;\">Never-married</td><td style = \"text-align: left;\">Machine-op-inspct</td><td style = \"text-align: left;\">Not-in-family</td><td style = \"text-align: left;\">White</td><td style = \"text-align: left;\">Female</td><td style = \"text-align: right;\">0</td><td style = \"text-align: right;\">0</td><td style = \"text-align: right;\">32</td><td style = \"text-align: left;\">United-States</td><td style = \"text-align: left;\">&lt;=50K</td></tr><tr><td class = \"rowNumber\" style = \"font-weight: bold; text-align: right;\">8017</td><td style = \"text-align: right;\">45</td><td style = \"text-align: left;\">Self-emp-inc</td><td style = \"text-align: right;\">173664</td><td style = \"text-align: left;\">Bachelors</td><td style = \"text-align: right;\">13</td><td style = \"text-align: left;\">Married-civ-spouse</td><td style = \"text-align: left;\">Exec-managerial</td><td style = \"text-align: left;\">Husband</td><td style = \"text-align: left;\">White</td><td style = \"text-align: left;\">Male</td><td style = \"text-align: right;\">0</td><td style = \"text-align: right;\">0</td><td style = \"text-align: right;\">45</td><td style = \"text-align: left;\">United-States</td><td style = \"text-align: left;\">&gt;50K</td></tr><tr><td class = \"rowNumber\" style = \"font-weight: bold; text-align: right;\">8018</td><td style = \"text-align: right;\">35</td><td style = \"text-align: left;\">Local-gov</td><td style = \"text-align: right;\">79649</td><td style = \"text-align: left;\">Bachelors</td><td style = \"text-align: right;\">13</td><td style = \"text-align: left;\">Married-civ-spouse</td><td style = \"text-align: left;\">Prof-specialty</td><td style = \"text-align: left;\">Husband</td><td style = \"text-align: left;\">White</td><td style = \"text-align: left;\">Male</td><td style = \"text-align: right;\">0</td><td style = \"text-align: right;\">0</td><td style = \"text-align: right;\">50</td><td style = \"text-align: left;\">United-States</td><td style = \"text-align: left;\">&lt;=50K</td></tr><tr><td class = \"rowNumber\" style = \"font-weight: bold; text-align: right;\">8019</td><td style = \"text-align: right;\">50</td><td style = \"text-align: left;\">Private</td><td style = \"text-align: right;\">302372</td><td style = \"text-align: left;\">Bachelors</td><td style = \"text-align: right;\">13</td><td style = \"text-align: left;\">Married-civ-spouse</td><td style = \"text-align: left;\">Prof-specialty</td><td style = \"text-align: left;\">Husband</td><td style = \"text-align: left;\">White</td><td style = \"text-align: left;\">Male</td><td style = \"text-align: right;\">0</td><td style = \"text-align: right;\">0</td><td style = \"text-align: right;\">40</td><td style = \"text-align: left;\">United-States</td><td style = \"text-align: left;\">&lt;=50K</td></tr><tr><td class = \"rowNumber\" style = \"font-weight: bold; text-align: right;\">8020</td><td style = \"text-align: right;\">25</td><td style = \"text-align: left;\">Local-gov</td><td style = \"text-align: right;\">514716</td><td style = \"text-align: left;\">Bachelors</td><td style = \"text-align: right;\">13</td><td style = \"text-align: left;\">Never-married</td><td style = \"text-align: left;\">Adm-clerical</td><td style = \"text-align: left;\">Own-child</td><td style = \"text-align: left;\">Black</td><td style = \"text-align: left;\">Female</td><td style = \"text-align: right;\">0</td><td style = \"text-align: right;\">0</td><td style = \"text-align: right;\">40</td><td style = \"text-align: left;\">United-States</td><td style = \"text-align: left;\">&lt;=50K</td></tr><tr><td class = \"rowNumber\" style = \"font-weight: bold; text-align: right;\">8021</td><td style = \"text-align: right;\">35</td><td style = \"text-align: left;\">?</td><td style = \"text-align: right;\">320084</td><td style = \"text-align: left;\">Bachelors</td><td style = \"text-align: right;\">13</td><td style = \"text-align: left;\">Married-civ-spouse</td><td style = \"text-align: left;\">?</td><td style = \"text-align: left;\">Wife</td><td style = \"text-align: left;\">White</td><td style = \"text-align: left;\">Female</td><td style = \"text-align: right;\">0</td><td style = \"text-align: right;\">0</td><td style = \"text-align: right;\">55</td><td style = \"text-align: left;\">United-States</td><td style = \"text-align: left;\">&gt;50K</td></tr><tr><td class = \"rowNumber\" style = \"font-weight: bold; text-align: right;\">8022</td><td style = \"text-align: right;\">30</td><td style = \"text-align: left;\">?</td><td style = \"text-align: right;\">33811</td><td style = \"text-align: left;\">Bachelors</td><td style = \"text-align: right;\">13</td><td style = \"text-align: left;\">Never-married</td><td style = \"text-align: left;\">?</td><td style = \"text-align: left;\">Not-in-family</td><td style = \"text-align: left;\">Asian-Pac-Islander</td><td style = \"text-align: left;\">Female</td><td style = \"text-align: right;\">0</td><td style = \"text-align: right;\">0</td><td style = \"text-align: right;\">99</td><td style = \"text-align: left;\">United-States</td><td style = \"text-align: left;\">&lt;=50K</td></tr><tr><td class = \"rowNumber\" style = \"font-weight: bold; text-align: right;\">8023</td><td style = \"text-align: right;\">54</td><td style = \"text-align: left;\">Private</td><td style = \"text-align: right;\">337992</td><td style = \"text-align: left;\">Bachelors</td><td style = \"text-align: right;\">13</td><td style = \"text-align: left;\">Married-civ-spouse</td><td style = \"text-align: left;\">Exec-managerial</td><td style = \"text-align: left;\">Husband</td><td style = \"text-align: left;\">Asian-Pac-Islander</td><td style = \"text-align: left;\">Male</td><td style = \"text-align: right;\">0</td><td style = \"text-align: right;\">0</td><td style = \"text-align: right;\">50</td><td style = \"text-align: left;\">Japan</td><td style = \"text-align: left;\">&gt;50K</td></tr><tr><td class = \"rowNumber\" style = \"font-weight: bold; text-align: right;\">8024</td><td style = \"text-align: right;\">34</td><td style = \"text-align: left;\">Private</td><td style = \"text-align: right;\">160216</td><td style = \"text-align: left;\">Bachelors</td><td style = \"text-align: right;\">13</td><td style = \"text-align: left;\">Never-married</td><td style = \"text-align: left;\">Exec-managerial</td><td style = \"text-align: left;\">Not-in-family</td><td style = \"text-align: left;\">White</td><td style = \"text-align: left;\">Female</td><td style = \"text-align: right;\">0</td><td style = \"text-align: right;\">0</td><td style = \"text-align: right;\">55</td><td style = \"text-align: left;\">United-States</td><td style = \"text-align: left;\">&gt;50K</td></tr><tr><td class = \"rowNumber\" style = \"font-weight: bold; text-align: right;\">8025</td><td style = \"text-align: right;\">38</td><td style = \"text-align: left;\">Private</td><td style = \"text-align: right;\">139180</td><td style = \"text-align: left;\">Bachelors</td><td style = \"text-align: right;\">13</td><td style = \"text-align: left;\">Divorced</td><td style = \"text-align: left;\">Prof-specialty</td><td style = \"text-align: left;\">Unmarried</td><td style = \"text-align: left;\">Black</td><td style = \"text-align: left;\">Female</td><td style = \"text-align: right;\">15020</td><td style = \"text-align: right;\">0</td><td style = \"text-align: right;\">45</td><td style = \"text-align: left;\">United-States</td><td style = \"text-align: left;\">&gt;50K</td></tr></tbody></table></div>"
      ],
      "text/latex": [
       "\\begin{tabular}{r|ccccccc}\n",
       "\t& age & workclass & fnlwgt & education & education\\_num & marital\\_status & \\\\\n",
       "\t\\hline\n",
       "\t& Int64 & String31 & Int64 & String15 & Int64 & String31 & \\\\\n",
       "\t\\hline\n",
       "\t1 & 36 & Federal-gov & 212465 & Bachelors & 13 & Married-civ-spouse & $\\dots$ \\\\\n",
       "\t2 & 34 & Private & 107914 & Bachelors & 13 & Married-civ-spouse & $\\dots$ \\\\\n",
       "\t3 & 25 & Private & 220931 & Bachelors & 13 & Never-married & $\\dots$ \\\\\n",
       "\t4 & 25 & Private & 205947 & Bachelors & 13 & Married-civ-spouse & $\\dots$ \\\\\n",
       "\t5 & 24 & Self-emp-not-inc & 188274 & Bachelors & 13 & Never-married & $\\dots$ \\\\\n",
       "\t6 & 36 & Local-gov & 403681 & Bachelors & 13 & Married-civ-spouse & $\\dots$ \\\\\n",
       "\t7 & 34 & Local-gov & 382078 & Bachelors & 13 & Married-civ-spouse & $\\dots$ \\\\\n",
       "\t8 & 30 & Private & 101135 & Bachelors & 13 & Never-married & $\\dots$ \\\\\n",
       "\t9 & 41 & Private & 109912 & Bachelors & 13 & Never-married & $\\dots$ \\\\\n",
       "\t10 & 23 & Private & 213734 & Bachelors & 13 & Never-married & $\\dots$ \\\\\n",
       "\t11 & 59 & Private & 292946 & Bachelors & 13 & Never-married & $\\dots$ \\\\\n",
       "\t12 & 59 & Federal-gov & 98984 & Bachelors & 13 & Divorced & $\\dots$ \\\\\n",
       "\t13 & 25 & Private & 235218 & Bachelors & 13 & Never-married & $\\dots$ \\\\\n",
       "\t14 & 43 & Private & 179866 & Bachelors & 13 & Divorced & $\\dots$ \\\\\n",
       "\t15 & 31 & Local-gov & 198770 & Bachelors & 13 & Divorced & $\\dots$ \\\\\n",
       "\t16 & 55 & Private & 124771 & Bachelors & 13 & Married-civ-spouse & $\\dots$ \\\\\n",
       "\t17 & 40 & State-gov & 67874 & Bachelors & 13 & Married-civ-spouse & $\\dots$ \\\\\n",
       "\t18 & 22 & Private & 537222 & Bachelors & 13 & Never-married & $\\dots$ \\\\\n",
       "\t19 & 38 & Self-emp-inc & 93225 & Bachelors & 13 & Divorced & $\\dots$ \\\\\n",
       "\t20 & 29 & Private & 142249 & Bachelors & 13 & Never-married & $\\dots$ \\\\\n",
       "\t21 & 26 & Private & 239877 & Bachelors & 13 & Never-married & $\\dots$ \\\\\n",
       "\t22 & 37 & Private & 203079 & Bachelors & 13 & Widowed & $\\dots$ \\\\\n",
       "\t23 & 34 & State-gov & 513100 & Bachelors & 13 & Married-spouse-absent & $\\dots$ \\\\\n",
       "\t24 & 33 & Private & 196385 & Bachelors & 13 & Married-civ-spouse & $\\dots$ \\\\\n",
       "\t25 & 39 & Private & 163205 & Bachelors & 13 & Separated & $\\dots$ \\\\\n",
       "\t26 & 28 & Self-emp-inc & 142443 & Bachelors & 13 & Married-civ-spouse & $\\dots$ \\\\\n",
       "\t27 & 57 & Private & 26716 & Bachelors & 13 & Divorced & $\\dots$ \\\\\n",
       "\t28 & 45 & Local-gov & 185588 & Bachelors & 13 & Divorced & $\\dots$ \\\\\n",
       "\t29 & 34 & Self-emp-inc & 34848 & Bachelors & 13 & Married-civ-spouse & $\\dots$ \\\\\n",
       "\t30 & 34 & Private & 357145 & Bachelors & 13 & Married-civ-spouse & $\\dots$ \\\\\n",
       "\t$\\dots$ & $\\dots$ & $\\dots$ & $\\dots$ & $\\dots$ & $\\dots$ & $\\dots$ &  \\\\\n",
       "\\end{tabular}\n"
      ],
      "text/plain": [
       "\u001b[1m8025×15 DataFrame\u001b[0m\n",
       "\u001b[1m  Row \u001b[0m│\u001b[1m age   \u001b[0m\u001b[1m workclass        \u001b[0m\u001b[1m fnlwgt \u001b[0m\u001b[1m education \u001b[0m\u001b[1m education_num \u001b[0m\u001b[1m marital_sta\u001b[0m ⋯\n",
       "      │\u001b[90m Int64 \u001b[0m\u001b[90m String31         \u001b[0m\u001b[90m Int64  \u001b[0m\u001b[90m String15  \u001b[0m\u001b[90m Int64         \u001b[0m\u001b[90m String31   \u001b[0m ⋯\n",
       "──────┼─────────────────────────────────────────────────────────────────────────\n",
       "    1 │    36  Federal-gov       212465  Bachelors             13  Married-civ ⋯\n",
       "    2 │    34  Private           107914  Bachelors             13  Married-civ\n",
       "    3 │    25  Private           220931  Bachelors             13  Never-marri\n",
       "    4 │    25  Private           205947  Bachelors             13  Married-civ\n",
       "    5 │    24  Self-emp-not-inc  188274  Bachelors             13  Never-marri ⋯\n",
       "    6 │    36  Local-gov         403681  Bachelors             13  Married-civ\n",
       "    7 │    34  Local-gov         382078  Bachelors             13  Married-civ\n",
       "    8 │    30  Private           101135  Bachelors             13  Never-marri\n",
       "    9 │    41  Private           109912  Bachelors             13  Never-marri ⋯\n",
       "   10 │    23  Private           213734  Bachelors             13  Never-marri\n",
       "   11 │    59  Private           292946  Bachelors             13  Never-marri\n",
       "  ⋮   │   ⋮           ⋮            ⋮         ⋮            ⋮                ⋮   ⋱\n",
       " 8016 │    24  Private           284317  Bachelors             13  Never-marri\n",
       " 8017 │    45  Self-emp-inc      173664  Bachelors             13  Married-civ ⋯\n",
       " 8018 │    35  Local-gov          79649  Bachelors             13  Married-civ\n",
       " 8019 │    50  Private           302372  Bachelors             13  Married-civ\n",
       " 8020 │    25  Local-gov         514716  Bachelors             13  Never-marri\n",
       " 8021 │    35  ?                 320084  Bachelors             13  Married-civ ⋯\n",
       " 8022 │    30  ?                  33811  Bachelors             13  Never-marri\n",
       " 8023 │    54  Private           337992  Bachelors             13  Married-civ\n",
       " 8024 │    34  Private           160216  Bachelors             13  Never-marri\n",
       " 8025 │    38  Private           139180  Bachelors             13  Divorced    ⋯\n",
       "\u001b[36m                                                10 columns and 8004 rows omitted\u001b[0m"
      ]
     },
     "execution_count": 45,
     "metadata": {},
     "output_type": "execute_result"
    }
   ],
   "source": [
    "subset(df, :education => x -> x .==\"Bachelors\")"
   ]
  },
  {
   "cell_type": "code",
   "execution_count": 46,
   "id": "796269f4-eaf6-474f-b84e-7add696a6929",
   "metadata": {},
   "outputs": [
    {
     "data": {
      "text/html": [
       "<div><div style = \"float: left;\"><span>5×15 DataFrame</span></div><div style = \"clear: both;\"></div></div><div class = \"data-frame\" style = \"overflow-x: scroll;\"><table class = \"data-frame\" style = \"margin-bottom: 6px;\"><thead><tr class = \"header\"><th class = \"rowNumber\" style = \"font-weight: bold; text-align: right;\">Row</th><th style = \"text-align: left;\">age</th><th style = \"text-align: left;\">workclass</th><th style = \"text-align: left;\">fnlwgt</th><th style = \"text-align: left;\">education</th><th style = \"text-align: left;\">education_num</th><th style = \"text-align: left;\">marital_status</th><th style = \"text-align: left;\">occupation</th><th style = \"text-align: left;\">relationship</th><th style = \"text-align: left;\">race</th><th style = \"text-align: left;\">sex</th><th style = \"text-align: left;\">capital_gain</th><th style = \"text-align: left;\">capital_loss</th><th style = \"text-align: left;\">hours_per_week</th><th style = \"text-align: left;\">native_country</th><th style = \"text-align: left;\">class</th></tr><tr class = \"subheader headerLastRow\"><th class = \"rowNumber\" style = \"font-weight: bold; text-align: right;\"></th><th title = \"Int64\" style = \"text-align: left;\">Int64</th><th title = \"String31\" style = \"text-align: left;\">String31</th><th title = \"Int64\" style = \"text-align: left;\">Int64</th><th title = \"String15\" style = \"text-align: left;\">String15</th><th title = \"Int64\" style = \"text-align: left;\">Int64</th><th title = \"String31\" style = \"text-align: left;\">String31</th><th title = \"String31\" style = \"text-align: left;\">String31</th><th title = \"String15\" style = \"text-align: left;\">String15</th><th title = \"String31\" style = \"text-align: left;\">String31</th><th title = \"String7\" style = \"text-align: left;\">String7</th><th title = \"Int64\" style = \"text-align: left;\">Int64</th><th title = \"Int64\" style = \"text-align: left;\">Int64</th><th title = \"Int64\" style = \"text-align: left;\">Int64</th><th title = \"String31\" style = \"text-align: left;\">String31</th><th title = \"String7\" style = \"text-align: left;\">String7</th></tr></thead><tbody><tr><td class = \"rowNumber\" style = \"font-weight: bold; text-align: right;\">1</td><td style = \"text-align: right;\">34</td><td style = \"text-align: left;\">Private</td><td style = \"text-align: right;\">198693</td><td style = \"text-align: left;\">10th</td><td style = \"text-align: right;\">6</td><td style = \"text-align: left;\">Never-married</td><td style = \"text-align: left;\">Other-service</td><td style = \"text-align: left;\">Not-in-family</td><td style = \"text-align: left;\">White</td><td style = \"text-align: left;\">Male</td><td style = \"text-align: right;\">0</td><td style = \"text-align: right;\">0</td><td style = \"text-align: right;\">30</td><td style = \"text-align: left;\">United-States</td><td style = \"text-align: left;\">&lt;=50K</td></tr><tr><td class = \"rowNumber\" style = \"font-weight: bold; text-align: right;\">2</td><td style = \"text-align: right;\">29</td><td style = \"text-align: left;\">?</td><td style = \"text-align: right;\">227026</td><td style = \"text-align: left;\">HS-grad</td><td style = \"text-align: right;\">9</td><td style = \"text-align: left;\">Never-married</td><td style = \"text-align: left;\">?</td><td style = \"text-align: left;\">Unmarried</td><td style = \"text-align: left;\">Black</td><td style = \"text-align: left;\">Male</td><td style = \"text-align: right;\">0</td><td style = \"text-align: right;\">0</td><td style = \"text-align: right;\">40</td><td style = \"text-align: left;\">United-States</td><td style = \"text-align: left;\">&lt;=50K</td></tr><tr><td class = \"rowNumber\" style = \"font-weight: bold; text-align: right;\">3</td><td style = \"text-align: right;\">63</td><td style = \"text-align: left;\">Self-emp-not-inc</td><td style = \"text-align: right;\">104626</td><td style = \"text-align: left;\">Prof-school</td><td style = \"text-align: right;\">15</td><td style = \"text-align: left;\">Married-civ-spouse</td><td style = \"text-align: left;\">Prof-specialty</td><td style = \"text-align: left;\">Husband</td><td style = \"text-align: left;\">White</td><td style = \"text-align: left;\">Male</td><td style = \"text-align: right;\">3103</td><td style = \"text-align: right;\">0</td><td style = \"text-align: right;\">32</td><td style = \"text-align: left;\">United-States</td><td style = \"text-align: left;\">&gt;50K</td></tr><tr><td class = \"rowNumber\" style = \"font-weight: bold; text-align: right;\">4</td><td style = \"text-align: right;\">24</td><td style = \"text-align: left;\">Private</td><td style = \"text-align: right;\">369667</td><td style = \"text-align: left;\">Some-college</td><td style = \"text-align: right;\">10</td><td style = \"text-align: left;\">Never-married</td><td style = \"text-align: left;\">Other-service</td><td style = \"text-align: left;\">Unmarried</td><td style = \"text-align: left;\">White</td><td style = \"text-align: left;\">Female</td><td style = \"text-align: right;\">0</td><td style = \"text-align: right;\">0</td><td style = \"text-align: right;\">40</td><td style = \"text-align: left;\">United-States</td><td style = \"text-align: left;\">&lt;=50K</td></tr><tr><td class = \"rowNumber\" style = \"font-weight: bold; text-align: right;\">5</td><td style = \"text-align: right;\">55</td><td style = \"text-align: left;\">Private</td><td style = \"text-align: right;\">104996</td><td style = \"text-align: left;\">7th-8th</td><td style = \"text-align: right;\">4</td><td style = \"text-align: left;\">Married-civ-spouse</td><td style = \"text-align: left;\">Craft-repair</td><td style = \"text-align: left;\">Husband</td><td style = \"text-align: left;\">White</td><td style = \"text-align: left;\">Male</td><td style = \"text-align: right;\">0</td><td style = \"text-align: right;\">0</td><td style = \"text-align: right;\">10</td><td style = \"text-align: left;\">United-States</td><td style = \"text-align: left;\">&lt;=50K</td></tr></tbody></table></div>"
      ],
      "text/latex": [
       "\\begin{tabular}{r|ccccccc}\n",
       "\t& age & workclass & fnlwgt & education & education\\_num & marital\\_status & \\\\\n",
       "\t\\hline\n",
       "\t& Int64 & String31 & Int64 & String15 & Int64 & String31 & \\\\\n",
       "\t\\hline\n",
       "\t1 & 34 & Private & 198693 & 10th & 6 & Never-married & $\\dots$ \\\\\n",
       "\t2 & 29 & ? & 227026 & HS-grad & 9 & Never-married & $\\dots$ \\\\\n",
       "\t3 & 63 & Self-emp-not-inc & 104626 & Prof-school & 15 & Married-civ-spouse & $\\dots$ \\\\\n",
       "\t4 & 24 & Private & 369667 & Some-college & 10 & Never-married & $\\dots$ \\\\\n",
       "\t5 & 55 & Private & 104996 & 7th-8th & 4 & Married-civ-spouse & $\\dots$ \\\\\n",
       "\\end{tabular}\n"
      ],
      "text/plain": [
       "\u001b[1m5×15 DataFrame\u001b[0m\n",
       "\u001b[1m Row \u001b[0m│\u001b[1m age   \u001b[0m\u001b[1m workclass        \u001b[0m\u001b[1m fnlwgt \u001b[0m\u001b[1m education    \u001b[0m\u001b[1m education_num \u001b[0m\u001b[1m marital_s\u001b[0m ⋯\n",
       "     │\u001b[90m Int64 \u001b[0m\u001b[90m String31         \u001b[0m\u001b[90m Int64  \u001b[0m\u001b[90m String15     \u001b[0m\u001b[90m Int64         \u001b[0m\u001b[90m String31 \u001b[0m ⋯\n",
       "─────┼──────────────────────────────────────────────────────────────────────────\n",
       "   1 │    34  Private           198693  10th                      6  Never-mar ⋯\n",
       "   2 │    29  ?                 227026  HS-grad                   9  Never-mar\n",
       "   3 │    63  Self-emp-not-inc  104626  Prof-school              15  Married-c\n",
       "   4 │    24  Private           369667  Some-college             10  Never-mar\n",
       "   5 │    55  Private           104996  7th-8th                   4  Married-c ⋯\n",
       "\u001b[36m                                                              10 columns omitted\u001b[0m"
      ]
     },
     "execution_count": 46,
     "metadata": {},
     "output_type": "execute_result"
    }
   ],
   "source": [
    "df[6:10, :]"
   ]
  },
  {
   "cell_type": "code",
   "execution_count": 50,
   "id": "7d1fb414-1ac7-4212-85d4-1b7e3691addd",
   "metadata": {},
   "outputs": [
    {
     "data": {
      "text/html": [
       "<div><div style = \"float: left;\"><span>16117×15 DataFrame</span></div><div style = \"float: right;\"><span style = \"font-style: italic;\">16092 rows omitted</span></div><div style = \"clear: both;\"></div></div><div class = \"data-frame\" style = \"overflow-x: scroll;\"><table class = \"data-frame\" style = \"margin-bottom: 6px;\"><thead><tr class = \"header\"><th class = \"rowNumber\" style = \"font-weight: bold; text-align: right;\">Row</th><th style = \"text-align: left;\">age</th><th style = \"text-align: left;\">workclass</th><th style = \"text-align: left;\">fnlwgt</th><th style = \"text-align: left;\">education</th><th style = \"text-align: left;\">education_num</th><th style = \"text-align: left;\">marital_status</th><th style = \"text-align: left;\">occupation</th><th style = \"text-align: left;\">relationship</th><th style = \"text-align: left;\">race</th><th style = \"text-align: left;\">sex</th><th style = \"text-align: left;\">capital_gain</th><th style = \"text-align: left;\">capital_loss</th><th style = \"text-align: left;\">hours_per_week</th><th style = \"text-align: left;\">native_country</th><th style = \"text-align: left;\">class</th></tr><tr class = \"subheader headerLastRow\"><th class = \"rowNumber\" style = \"font-weight: bold; text-align: right;\"></th><th title = \"Int64\" style = \"text-align: left;\">Int64</th><th title = \"String31\" style = \"text-align: left;\">String31</th><th title = \"Int64\" style = \"text-align: left;\">Int64</th><th title = \"String15\" style = \"text-align: left;\">String15</th><th title = \"Int64\" style = \"text-align: left;\">Int64</th><th title = \"String31\" style = \"text-align: left;\">String31</th><th title = \"String31\" style = \"text-align: left;\">String31</th><th title = \"String15\" style = \"text-align: left;\">String15</th><th title = \"String31\" style = \"text-align: left;\">String31</th><th title = \"String7\" style = \"text-align: left;\">String7</th><th title = \"Int64\" style = \"text-align: left;\">Int64</th><th title = \"Int64\" style = \"text-align: left;\">Int64</th><th title = \"Int64\" style = \"text-align: left;\">Int64</th><th title = \"String31\" style = \"text-align: left;\">String31</th><th title = \"String7\" style = \"text-align: left;\">String7</th></tr></thead><tbody><tr><td class = \"rowNumber\" style = \"font-weight: bold; text-align: right;\">1</td><td style = \"text-align: right;\">25</td><td style = \"text-align: left;\">Private</td><td style = \"text-align: right;\">226802</td><td style = \"text-align: left;\">11th</td><td style = \"text-align: right;\">7</td><td style = \"text-align: left;\">Never-married</td><td style = \"text-align: left;\">Machine-op-inspct</td><td style = \"text-align: left;\">Own-child</td><td style = \"text-align: left;\">Black</td><td style = \"text-align: left;\">Male</td><td style = \"text-align: right;\">0</td><td style = \"text-align: right;\">0</td><td style = \"text-align: right;\">40</td><td style = \"text-align: left;\">United-States</td><td style = \"text-align: left;\">&lt;=50K</td></tr><tr><td class = \"rowNumber\" style = \"font-weight: bold; text-align: right;\">2</td><td style = \"text-align: right;\">18</td><td style = \"text-align: left;\">?</td><td style = \"text-align: right;\">103497</td><td style = \"text-align: left;\">Some-college</td><td style = \"text-align: right;\">10</td><td style = \"text-align: left;\">Never-married</td><td style = \"text-align: left;\">?</td><td style = \"text-align: left;\">Own-child</td><td style = \"text-align: left;\">White</td><td style = \"text-align: left;\">Female</td><td style = \"text-align: right;\">0</td><td style = \"text-align: right;\">0</td><td style = \"text-align: right;\">30</td><td style = \"text-align: left;\">United-States</td><td style = \"text-align: left;\">&lt;=50K</td></tr><tr><td class = \"rowNumber\" style = \"font-weight: bold; text-align: right;\">3</td><td style = \"text-align: right;\">34</td><td style = \"text-align: left;\">Private</td><td style = \"text-align: right;\">198693</td><td style = \"text-align: left;\">10th</td><td style = \"text-align: right;\">6</td><td style = \"text-align: left;\">Never-married</td><td style = \"text-align: left;\">Other-service</td><td style = \"text-align: left;\">Not-in-family</td><td style = \"text-align: left;\">White</td><td style = \"text-align: left;\">Male</td><td style = \"text-align: right;\">0</td><td style = \"text-align: right;\">0</td><td style = \"text-align: right;\">30</td><td style = \"text-align: left;\">United-States</td><td style = \"text-align: left;\">&lt;=50K</td></tr><tr><td class = \"rowNumber\" style = \"font-weight: bold; text-align: right;\">4</td><td style = \"text-align: right;\">29</td><td style = \"text-align: left;\">?</td><td style = \"text-align: right;\">227026</td><td style = \"text-align: left;\">HS-grad</td><td style = \"text-align: right;\">9</td><td style = \"text-align: left;\">Never-married</td><td style = \"text-align: left;\">?</td><td style = \"text-align: left;\">Unmarried</td><td style = \"text-align: left;\">Black</td><td style = \"text-align: left;\">Male</td><td style = \"text-align: right;\">0</td><td style = \"text-align: right;\">0</td><td style = \"text-align: right;\">40</td><td style = \"text-align: left;\">United-States</td><td style = \"text-align: left;\">&lt;=50K</td></tr><tr><td class = \"rowNumber\" style = \"font-weight: bold; text-align: right;\">5</td><td style = \"text-align: right;\">24</td><td style = \"text-align: left;\">Private</td><td style = \"text-align: right;\">369667</td><td style = \"text-align: left;\">Some-college</td><td style = \"text-align: right;\">10</td><td style = \"text-align: left;\">Never-married</td><td style = \"text-align: left;\">Other-service</td><td style = \"text-align: left;\">Unmarried</td><td style = \"text-align: left;\">White</td><td style = \"text-align: left;\">Female</td><td style = \"text-align: right;\">0</td><td style = \"text-align: right;\">0</td><td style = \"text-align: right;\">40</td><td style = \"text-align: left;\">United-States</td><td style = \"text-align: left;\">&lt;=50K</td></tr><tr><td class = \"rowNumber\" style = \"font-weight: bold; text-align: right;\">6</td><td style = \"text-align: right;\">26</td><td style = \"text-align: left;\">Private</td><td style = \"text-align: right;\">82091</td><td style = \"text-align: left;\">HS-grad</td><td style = \"text-align: right;\">9</td><td style = \"text-align: left;\">Never-married</td><td style = \"text-align: left;\">Adm-clerical</td><td style = \"text-align: left;\">Not-in-family</td><td style = \"text-align: left;\">White</td><td style = \"text-align: left;\">Female</td><td style = \"text-align: right;\">0</td><td style = \"text-align: right;\">0</td><td style = \"text-align: right;\">39</td><td style = \"text-align: left;\">United-States</td><td style = \"text-align: left;\">&lt;=50K</td></tr><tr><td class = \"rowNumber\" style = \"font-weight: bold; text-align: right;\">7</td><td style = \"text-align: right;\">20</td><td style = \"text-align: left;\">State-gov</td><td style = \"text-align: right;\">444554</td><td style = \"text-align: left;\">Some-college</td><td style = \"text-align: right;\">10</td><td style = \"text-align: left;\">Never-married</td><td style = \"text-align: left;\">Other-service</td><td style = \"text-align: left;\">Own-child</td><td style = \"text-align: left;\">White</td><td style = \"text-align: left;\">Male</td><td style = \"text-align: right;\">0</td><td style = \"text-align: right;\">0</td><td style = \"text-align: right;\">25</td><td style = \"text-align: left;\">United-States</td><td style = \"text-align: left;\">&lt;=50K</td></tr><tr><td class = \"rowNumber\" style = \"font-weight: bold; text-align: right;\">8</td><td style = \"text-align: right;\">34</td><td style = \"text-align: left;\">Private</td><td style = \"text-align: right;\">238588</td><td style = \"text-align: left;\">Some-college</td><td style = \"text-align: right;\">10</td><td style = \"text-align: left;\">Never-married</td><td style = \"text-align: left;\">Other-service</td><td style = \"text-align: left;\">Own-child</td><td style = \"text-align: left;\">Black</td><td style = \"text-align: left;\">Female</td><td style = \"text-align: right;\">0</td><td style = \"text-align: right;\">0</td><td style = \"text-align: right;\">35</td><td style = \"text-align: left;\">United-States</td><td style = \"text-align: left;\">&lt;=50K</td></tr><tr><td class = \"rowNumber\" style = \"font-weight: bold; text-align: right;\">9</td><td style = \"text-align: right;\">25</td><td style = \"text-align: left;\">Private</td><td style = \"text-align: right;\">220931</td><td style = \"text-align: left;\">Bachelors</td><td style = \"text-align: right;\">13</td><td style = \"text-align: left;\">Never-married</td><td style = \"text-align: left;\">Prof-specialty</td><td style = \"text-align: left;\">Not-in-family</td><td style = \"text-align: left;\">White</td><td style = \"text-align: left;\">Male</td><td style = \"text-align: right;\">0</td><td style = \"text-align: right;\">0</td><td style = \"text-align: right;\">43</td><td style = \"text-align: left;\">Peru</td><td style = \"text-align: left;\">&lt;=50K</td></tr><tr><td class = \"rowNumber\" style = \"font-weight: bold; text-align: right;\">10</td><td style = \"text-align: right;\">22</td><td style = \"text-align: left;\">Private</td><td style = \"text-align: right;\">236427</td><td style = \"text-align: left;\">HS-grad</td><td style = \"text-align: right;\">9</td><td style = \"text-align: left;\">Never-married</td><td style = \"text-align: left;\">Adm-clerical</td><td style = \"text-align: left;\">Own-child</td><td style = \"text-align: left;\">White</td><td style = \"text-align: left;\">Male</td><td style = \"text-align: right;\">0</td><td style = \"text-align: right;\">0</td><td style = \"text-align: right;\">20</td><td style = \"text-align: left;\">United-States</td><td style = \"text-align: left;\">&lt;=50K</td></tr><tr><td class = \"rowNumber\" style = \"font-weight: bold; text-align: right;\">11</td><td style = \"text-align: right;\">32</td><td style = \"text-align: left;\">Self-emp-not-inc</td><td style = \"text-align: right;\">109282</td><td style = \"text-align: left;\">Some-college</td><td style = \"text-align: right;\">10</td><td style = \"text-align: left;\">Never-married</td><td style = \"text-align: left;\">Prof-specialty</td><td style = \"text-align: left;\">Not-in-family</td><td style = \"text-align: left;\">White</td><td style = \"text-align: left;\">Male</td><td style = \"text-align: right;\">0</td><td style = \"text-align: right;\">0</td><td style = \"text-align: right;\">60</td><td style = \"text-align: left;\">United-States</td><td style = \"text-align: left;\">&lt;=50K</td></tr><tr><td class = \"rowNumber\" style = \"font-weight: bold; text-align: right;\">12</td><td style = \"text-align: right;\">24</td><td style = \"text-align: left;\">Self-emp-not-inc</td><td style = \"text-align: right;\">188274</td><td style = \"text-align: left;\">Bachelors</td><td style = \"text-align: right;\">13</td><td style = \"text-align: left;\">Never-married</td><td style = \"text-align: left;\">Sales</td><td style = \"text-align: left;\">Not-in-family</td><td style = \"text-align: left;\">White</td><td style = \"text-align: left;\">Male</td><td style = \"text-align: right;\">0</td><td style = \"text-align: right;\">0</td><td style = \"text-align: right;\">50</td><td style = \"text-align: left;\">United-States</td><td style = \"text-align: left;\">&lt;=50K</td></tr><tr><td class = \"rowNumber\" style = \"font-weight: bold; text-align: right;\">13</td><td style = \"text-align: right;\">22</td><td style = \"text-align: left;\">Private</td><td style = \"text-align: right;\">248446</td><td style = \"text-align: left;\">5th-6th</td><td style = \"text-align: right;\">3</td><td style = \"text-align: left;\">Never-married</td><td style = \"text-align: left;\">Priv-house-serv</td><td style = \"text-align: left;\">Not-in-family</td><td style = \"text-align: left;\">White</td><td style = \"text-align: left;\">Male</td><td style = \"text-align: right;\">0</td><td style = \"text-align: right;\">0</td><td style = \"text-align: right;\">50</td><td style = \"text-align: left;\">Guatemala</td><td style = \"text-align: left;\">&lt;=50K</td></tr><tr><td style = \"text-align: right;\">&vellip;</td><td style = \"text-align: right;\">&vellip;</td><td style = \"text-align: right;\">&vellip;</td><td style = \"text-align: right;\">&vellip;</td><td style = \"text-align: right;\">&vellip;</td><td style = \"text-align: right;\">&vellip;</td><td style = \"text-align: right;\">&vellip;</td><td style = \"text-align: right;\">&vellip;</td><td style = \"text-align: right;\">&vellip;</td><td style = \"text-align: right;\">&vellip;</td><td style = \"text-align: right;\">&vellip;</td><td style = \"text-align: right;\">&vellip;</td><td style = \"text-align: right;\">&vellip;</td><td style = \"text-align: right;\">&vellip;</td><td style = \"text-align: right;\">&vellip;</td><td style = \"text-align: right;\">&vellip;</td></tr><tr><td class = \"rowNumber\" style = \"font-weight: bold; text-align: right;\">16106</td><td style = \"text-align: right;\">20</td><td style = \"text-align: left;\">Private</td><td style = \"text-align: right;\">270436</td><td style = \"text-align: left;\">HS-grad</td><td style = \"text-align: right;\">9</td><td style = \"text-align: left;\">Never-married</td><td style = \"text-align: left;\">Machine-op-inspct</td><td style = \"text-align: left;\">Own-child</td><td style = \"text-align: left;\">White</td><td style = \"text-align: left;\">Male</td><td style = \"text-align: right;\">0</td><td style = \"text-align: right;\">0</td><td style = \"text-align: right;\">40</td><td style = \"text-align: left;\">United-States</td><td style = \"text-align: left;\">&lt;=50K</td></tr><tr><td class = \"rowNumber\" style = \"font-weight: bold; text-align: right;\">16107</td><td style = \"text-align: right;\">27</td><td style = \"text-align: left;\">Private</td><td style = \"text-align: right;\">177398</td><td style = \"text-align: left;\">HS-grad</td><td style = \"text-align: right;\">9</td><td style = \"text-align: left;\">Never-married</td><td style = \"text-align: left;\">Other-service</td><td style = \"text-align: left;\">Unmarried</td><td style = \"text-align: left;\">White</td><td style = \"text-align: left;\">Female</td><td style = \"text-align: right;\">0</td><td style = \"text-align: right;\">0</td><td style = \"text-align: right;\">64</td><td style = \"text-align: left;\">United-States</td><td style = \"text-align: left;\">&lt;=50K</td></tr><tr><td class = \"rowNumber\" style = \"font-weight: bold; text-align: right;\">16108</td><td style = \"text-align: right;\">26</td><td style = \"text-align: left;\">Private</td><td style = \"text-align: right;\">191648</td><td style = \"text-align: left;\">Assoc-acdm</td><td style = \"text-align: right;\">12</td><td style = \"text-align: left;\">Never-married</td><td style = \"text-align: left;\">Machine-op-inspct</td><td style = \"text-align: left;\">Other-relative</td><td style = \"text-align: left;\">White</td><td style = \"text-align: left;\">Female</td><td style = \"text-align: right;\">0</td><td style = \"text-align: right;\">0</td><td style = \"text-align: right;\">15</td><td style = \"text-align: left;\">United-States</td><td style = \"text-align: left;\">&lt;=50K</td></tr><tr><td class = \"rowNumber\" style = \"font-weight: bold; text-align: right;\">16109</td><td style = \"text-align: right;\">22</td><td style = \"text-align: left;\">Private</td><td style = \"text-align: right;\">203715</td><td style = \"text-align: left;\">Some-college</td><td style = \"text-align: right;\">10</td><td style = \"text-align: left;\">Never-married</td><td style = \"text-align: left;\">Adm-clerical</td><td style = \"text-align: left;\">Own-child</td><td style = \"text-align: left;\">White</td><td style = \"text-align: left;\">Male</td><td style = \"text-align: right;\">0</td><td style = \"text-align: right;\">0</td><td style = \"text-align: right;\">40</td><td style = \"text-align: left;\">United-States</td><td style = \"text-align: left;\">&lt;=50K</td></tr><tr><td class = \"rowNumber\" style = \"font-weight: bold; text-align: right;\">16110</td><td style = \"text-align: right;\">30</td><td style = \"text-align: left;\">?</td><td style = \"text-align: right;\">33811</td><td style = \"text-align: left;\">Bachelors</td><td style = \"text-align: right;\">13</td><td style = \"text-align: left;\">Never-married</td><td style = \"text-align: left;\">?</td><td style = \"text-align: left;\">Not-in-family</td><td style = \"text-align: left;\">Asian-Pac-Islander</td><td style = \"text-align: left;\">Female</td><td style = \"text-align: right;\">0</td><td style = \"text-align: right;\">0</td><td style = \"text-align: right;\">99</td><td style = \"text-align: left;\">United-States</td><td style = \"text-align: left;\">&lt;=50K</td></tr><tr><td class = \"rowNumber\" style = \"font-weight: bold; text-align: right;\">16111</td><td style = \"text-align: right;\">22</td><td style = \"text-align: left;\">Private</td><td style = \"text-align: right;\">325033</td><td style = \"text-align: left;\">12th</td><td style = \"text-align: right;\">8</td><td style = \"text-align: left;\">Never-married</td><td style = \"text-align: left;\">Protective-serv</td><td style = \"text-align: left;\">Own-child</td><td style = \"text-align: left;\">Black</td><td style = \"text-align: left;\">Male</td><td style = \"text-align: right;\">0</td><td style = \"text-align: right;\">0</td><td style = \"text-align: right;\">35</td><td style = \"text-align: left;\">United-States</td><td style = \"text-align: left;\">&lt;=50K</td></tr><tr><td class = \"rowNumber\" style = \"font-weight: bold; text-align: right;\">16112</td><td style = \"text-align: right;\">34</td><td style = \"text-align: left;\">Private</td><td style = \"text-align: right;\">160216</td><td style = \"text-align: left;\">Bachelors</td><td style = \"text-align: right;\">13</td><td style = \"text-align: left;\">Never-married</td><td style = \"text-align: left;\">Exec-managerial</td><td style = \"text-align: left;\">Not-in-family</td><td style = \"text-align: left;\">White</td><td style = \"text-align: left;\">Female</td><td style = \"text-align: right;\">0</td><td style = \"text-align: right;\">0</td><td style = \"text-align: right;\">55</td><td style = \"text-align: left;\">United-States</td><td style = \"text-align: left;\">&gt;50K</td></tr><tr><td class = \"rowNumber\" style = \"font-weight: bold; text-align: right;\">16113</td><td style = \"text-align: right;\">30</td><td style = \"text-align: left;\">Private</td><td style = \"text-align: right;\">345898</td><td style = \"text-align: left;\">HS-grad</td><td style = \"text-align: right;\">9</td><td style = \"text-align: left;\">Never-married</td><td style = \"text-align: left;\">Craft-repair</td><td style = \"text-align: left;\">Not-in-family</td><td style = \"text-align: left;\">Black</td><td style = \"text-align: left;\">Male</td><td style = \"text-align: right;\">0</td><td style = \"text-align: right;\">0</td><td style = \"text-align: right;\">46</td><td style = \"text-align: left;\">United-States</td><td style = \"text-align: left;\">&lt;=50K</td></tr><tr><td class = \"rowNumber\" style = \"font-weight: bold; text-align: right;\">16114</td><td style = \"text-align: right;\">65</td><td style = \"text-align: left;\">Self-emp-not-inc</td><td style = \"text-align: right;\">99359</td><td style = \"text-align: left;\">Prof-school</td><td style = \"text-align: right;\">15</td><td style = \"text-align: left;\">Never-married</td><td style = \"text-align: left;\">Prof-specialty</td><td style = \"text-align: left;\">Not-in-family</td><td style = \"text-align: left;\">White</td><td style = \"text-align: left;\">Male</td><td style = \"text-align: right;\">1086</td><td style = \"text-align: right;\">0</td><td style = \"text-align: right;\">60</td><td style = \"text-align: left;\">United-States</td><td style = \"text-align: left;\">&lt;=50K</td></tr><tr><td class = \"rowNumber\" style = \"font-weight: bold; text-align: right;\">16115</td><td style = \"text-align: right;\">32</td><td style = \"text-align: left;\">Private</td><td style = \"text-align: right;\">116138</td><td style = \"text-align: left;\">Masters</td><td style = \"text-align: right;\">14</td><td style = \"text-align: left;\">Never-married</td><td style = \"text-align: left;\">Tech-support</td><td style = \"text-align: left;\">Not-in-family</td><td style = \"text-align: left;\">Asian-Pac-Islander</td><td style = \"text-align: left;\">Male</td><td style = \"text-align: right;\">0</td><td style = \"text-align: right;\">0</td><td style = \"text-align: right;\">11</td><td style = \"text-align: left;\">Taiwan</td><td style = \"text-align: left;\">&lt;=50K</td></tr><tr><td class = \"rowNumber\" style = \"font-weight: bold; text-align: right;\">16116</td><td style = \"text-align: right;\">22</td><td style = \"text-align: left;\">Private</td><td style = \"text-align: right;\">310152</td><td style = \"text-align: left;\">Some-college</td><td style = \"text-align: right;\">10</td><td style = \"text-align: left;\">Never-married</td><td style = \"text-align: left;\">Protective-serv</td><td style = \"text-align: left;\">Not-in-family</td><td style = \"text-align: left;\">White</td><td style = \"text-align: left;\">Male</td><td style = \"text-align: right;\">0</td><td style = \"text-align: right;\">0</td><td style = \"text-align: right;\">40</td><td style = \"text-align: left;\">United-States</td><td style = \"text-align: left;\">&lt;=50K</td></tr><tr><td class = \"rowNumber\" style = \"font-weight: bold; text-align: right;\">16117</td><td style = \"text-align: right;\">22</td><td style = \"text-align: left;\">Private</td><td style = \"text-align: right;\">201490</td><td style = \"text-align: left;\">HS-grad</td><td style = \"text-align: right;\">9</td><td style = \"text-align: left;\">Never-married</td><td style = \"text-align: left;\">Adm-clerical</td><td style = \"text-align: left;\">Own-child</td><td style = \"text-align: left;\">White</td><td style = \"text-align: left;\">Male</td><td style = \"text-align: right;\">0</td><td style = \"text-align: right;\">0</td><td style = \"text-align: right;\">20</td><td style = \"text-align: left;\">United-States</td><td style = \"text-align: left;\">&lt;=50K</td></tr></tbody></table></div>"
      ],
      "text/latex": [
       "\\begin{tabular}{r|cccccccc}\n",
       "\t& age & workclass & fnlwgt & education & education\\_num & marital\\_status & occupation & \\\\\n",
       "\t\\hline\n",
       "\t& Int64 & String31 & Int64 & String15 & Int64 & String31 & String31 & \\\\\n",
       "\t\\hline\n",
       "\t1 & 25 & Private & 226802 & 11th & 7 & Never-married & Machine-op-inspct & $\\dots$ \\\\\n",
       "\t2 & 18 & ? & 103497 & Some-college & 10 & Never-married & ? & $\\dots$ \\\\\n",
       "\t3 & 34 & Private & 198693 & 10th & 6 & Never-married & Other-service & $\\dots$ \\\\\n",
       "\t4 & 29 & ? & 227026 & HS-grad & 9 & Never-married & ? & $\\dots$ \\\\\n",
       "\t5 & 24 & Private & 369667 & Some-college & 10 & Never-married & Other-service & $\\dots$ \\\\\n",
       "\t6 & 26 & Private & 82091 & HS-grad & 9 & Never-married & Adm-clerical & $\\dots$ \\\\\n",
       "\t7 & 20 & State-gov & 444554 & Some-college & 10 & Never-married & Other-service & $\\dots$ \\\\\n",
       "\t8 & 34 & Private & 238588 & Some-college & 10 & Never-married & Other-service & $\\dots$ \\\\\n",
       "\t9 & 25 & Private & 220931 & Bachelors & 13 & Never-married & Prof-specialty & $\\dots$ \\\\\n",
       "\t10 & 22 & Private & 236427 & HS-grad & 9 & Never-married & Adm-clerical & $\\dots$ \\\\\n",
       "\t11 & 32 & Self-emp-not-inc & 109282 & Some-college & 10 & Never-married & Prof-specialty & $\\dots$ \\\\\n",
       "\t12 & 24 & Self-emp-not-inc & 188274 & Bachelors & 13 & Never-married & Sales & $\\dots$ \\\\\n",
       "\t13 & 22 & Private & 248446 & 5th-6th & 3 & Never-married & Priv-house-serv & $\\dots$ \\\\\n",
       "\t14 & 17 & Private & 269430 & 10th & 6 & Never-married & Machine-op-inspct & $\\dots$ \\\\\n",
       "\t15 & 20 & Private & 257509 & HS-grad & 9 & Never-married & Craft-repair & $\\dots$ \\\\\n",
       "\t16 & 20 & State-gov & 138371 & Some-college & 10 & Never-married & Farming-fishing & $\\dots$ \\\\\n",
       "\t17 & 18 & Private & 54440 & Some-college & 10 & Never-married & Other-service & $\\dots$ \\\\\n",
       "\t18 & 21 & Private & 214399 & Some-college & 10 & Never-married & Other-service & $\\dots$ \\\\\n",
       "\t19 & 22 & Private & 54164 & HS-grad & 9 & Never-married & Other-service & $\\dots$ \\\\\n",
       "\t20 & 21 & Private & 110677 & Some-college & 10 & Never-married & Adm-clerical & $\\dots$ \\\\\n",
       "\t21 & 30 & Private & 101135 & Bachelors & 13 & Never-married & Exec-managerial & $\\dots$ \\\\\n",
       "\t22 & 26 & Private & 31208 & Masters & 14 & Never-married & Exec-managerial & $\\dots$ \\\\\n",
       "\t23 & 33 & Private & 281384 & HS-grad & 9 & Never-married & Machine-op-inspct & $\\dots$ \\\\\n",
       "\t24 & 41 & Private & 109912 & Bachelors & 13 & Never-married & Other-service & $\\dots$ \\\\\n",
       "\t25 & 19 & Private & 105460 & Some-college & 10 & Never-married & Other-service & $\\dots$ \\\\\n",
       "\t26 & 17 & ? & 165361 & 10th & 6 & Never-married & ? & $\\dots$ \\\\\n",
       "\t27 & 20 & Private & 72055 & Some-college & 10 & Never-married & Adm-clerical & $\\dots$ \\\\\n",
       "\t28 & 23 & Private & 213734 & Bachelors & 13 & Never-married & Exec-managerial & $\\dots$ \\\\\n",
       "\t29 & 20 & Federal-gov & 244689 & 11th & 7 & Never-married & Other-service & $\\dots$ \\\\\n",
       "\t30 & 24 & Federal-gov & 228724 & Some-college & 10 & Never-married & Armed-Forces & $\\dots$ \\\\\n",
       "\t$\\dots$ & $\\dots$ & $\\dots$ & $\\dots$ & $\\dots$ & $\\dots$ & $\\dots$ & $\\dots$ &  \\\\\n",
       "\\end{tabular}\n"
      ],
      "text/plain": [
       "\u001b[1m16117×15 DataFrame\u001b[0m\n",
       "\u001b[1m   Row \u001b[0m│\u001b[1m age   \u001b[0m\u001b[1m workclass        \u001b[0m\u001b[1m fnlwgt \u001b[0m\u001b[1m education    \u001b[0m\u001b[1m education_num \u001b[0m\u001b[1m marital\u001b[0m ⋯\n",
       "       │\u001b[90m Int64 \u001b[0m\u001b[90m String31         \u001b[0m\u001b[90m Int64  \u001b[0m\u001b[90m String15     \u001b[0m\u001b[90m Int64         \u001b[0m\u001b[90m String3\u001b[0m ⋯\n",
       "───────┼────────────────────────────────────────────────────────────────────────\n",
       "     1 │    25  Private           226802  11th                      7  Never-m ⋯\n",
       "     2 │    18  ?                 103497  Some-college             10  Never-m\n",
       "     3 │    34  Private           198693  10th                      6  Never-m\n",
       "     4 │    29  ?                 227026  HS-grad                   9  Never-m\n",
       "     5 │    24  Private           369667  Some-college             10  Never-m ⋯\n",
       "     6 │    26  Private            82091  HS-grad                   9  Never-m\n",
       "     7 │    20  State-gov         444554  Some-college             10  Never-m\n",
       "     8 │    34  Private           238588  Some-college             10  Never-m\n",
       "     9 │    25  Private           220931  Bachelors                13  Never-m ⋯\n",
       "    10 │    22  Private           236427  HS-grad                   9  Never-m\n",
       "    11 │    32  Self-emp-not-inc  109282  Some-college             10  Never-m\n",
       "   ⋮   │   ⋮           ⋮            ⋮          ⋮              ⋮              ⋮ ⋱\n",
       " 16108 │    26  Private           191648  Assoc-acdm               12  Never-m\n",
       " 16109 │    22  Private           203715  Some-college             10  Never-m ⋯\n",
       " 16110 │    30  ?                  33811  Bachelors                13  Never-m\n",
       " 16111 │    22  Private           325033  12th                      8  Never-m\n",
       " 16112 │    34  Private           160216  Bachelors                13  Never-m\n",
       " 16113 │    30  Private           345898  HS-grad                   9  Never-m ⋯\n",
       " 16114 │    65  Self-emp-not-inc   99359  Prof-school              15  Never-m\n",
       " 16115 │    32  Private           116138  Masters                  14  Never-m\n",
       " 16116 │    22  Private           310152  Some-college             10  Never-m\n",
       " 16117 │    22  Private           201490  HS-grad                   9  Never-m ⋯\n",
       "\u001b[36m                                               10 columns and 16096 rows omitted\u001b[0m"
      ]
     },
     "execution_count": 50,
     "metadata": {},
     "output_type": "execute_result"
    }
   ],
   "source": [
    "df[df.marital_status .== \"Never-married\", :]"
   ]
  },
  {
   "cell_type": "code",
   "execution_count": 53,
   "id": "b1ea0bf9-024b-4c20-a7cb-10b5e3c52b5b",
   "metadata": {},
   "outputs": [
    {
     "data": {
      "text/html": [
       "<div><div style = \"float: left;\"><span>DataFrameRow (15 columns)</span></div><div style = \"clear: both;\"></div></div><div class = \"data-frame\" style = \"overflow-x: scroll;\"><table class = \"data-frame\" style = \"margin-bottom: 6px;\"><thead><tr class = \"header\"><th class = \"rowLabel\" style = \"font-weight: bold; text-align: right;\">Row</th><th style = \"text-align: left;\">age</th><th style = \"text-align: left;\">workclass</th><th style = \"text-align: left;\">fnlwgt</th><th style = \"text-align: left;\">education</th><th style = \"text-align: left;\">education_num</th><th style = \"text-align: left;\">marital_status</th><th style = \"text-align: left;\">occupation</th><th style = \"text-align: left;\">relationship</th><th style = \"text-align: left;\">race</th><th style = \"text-align: left;\">sex</th><th style = \"text-align: left;\">capital_gain</th><th style = \"text-align: left;\">capital_loss</th><th style = \"text-align: left;\">hours_per_week</th><th style = \"text-align: left;\">native_country</th><th style = \"text-align: left;\">class</th></tr><tr class = \"subheader headerLastRow\"><th class = \"rowLabel\" style = \"font-weight: bold; text-align: right;\"></th><th title = \"Int64\" style = \"text-align: left;\">Int64</th><th title = \"String31\" style = \"text-align: left;\">String31</th><th title = \"Int64\" style = \"text-align: left;\">Int64</th><th title = \"String15\" style = \"text-align: left;\">String15</th><th title = \"Int64\" style = \"text-align: left;\">Int64</th><th title = \"String31\" style = \"text-align: left;\">String31</th><th title = \"String31\" style = \"text-align: left;\">String31</th><th title = \"String15\" style = \"text-align: left;\">String15</th><th title = \"String31\" style = \"text-align: left;\">String31</th><th title = \"String7\" style = \"text-align: left;\">String7</th><th title = \"Int64\" style = \"text-align: left;\">Int64</th><th title = \"Int64\" style = \"text-align: left;\">Int64</th><th title = \"Int64\" style = \"text-align: left;\">Int64</th><th title = \"String31\" style = \"text-align: left;\">String31</th><th title = \"String7\" style = \"text-align: left;\">String7</th></tr></thead><tbody><tr><td class = \"rowLabel\" style = \"font-weight: bold; text-align: right;\">61</td><td style = \"text-align: right;\">30</td><td style = \"text-align: left;\">Private</td><td style = \"text-align: right;\">101135</td><td style = \"text-align: left;\">Bachelors</td><td style = \"text-align: right;\">13</td><td style = \"text-align: left;\">Never-married</td><td style = \"text-align: left;\">Exec-managerial</td><td style = \"text-align: left;\">Not-in-family</td><td style = \"text-align: left;\">White</td><td style = \"text-align: left;\">Female</td><td style = \"text-align: right;\">0</td><td style = \"text-align: right;\">0</td><td style = \"text-align: right;\">50</td><td style = \"text-align: left;\">United-States</td><td style = \"text-align: left;\">&lt;=50K</td></tr></tbody></table></div>"
      ],
      "text/latex": [
       "\\begin{tabular}{r|cccccccc}\n",
       "\t& age & workclass & fnlwgt & education & education\\_num & marital\\_status & occupation & \\\\\n",
       "\t\\hline\n",
       "\t& Int64 & String31 & Int64 & String15 & Int64 & String31 & String31 & \\\\\n",
       "\t\\hline\n",
       "\t61 & 30 & Private & 101135 & Bachelors & 13 & Never-married & Exec-managerial & $\\dots$ \\\\\n",
       "\\end{tabular}\n"
      ],
      "text/plain": [
       "\u001b[1mDataFrameRow\u001b[0m\n",
       "\u001b[1m Row \u001b[0m│\u001b[1m age   \u001b[0m\u001b[1m workclass \u001b[0m\u001b[1m fnlwgt \u001b[0m\u001b[1m education \u001b[0m\u001b[1m education_num \u001b[0m\u001b[1m marital_status \u001b[0m\u001b[1m occ\u001b[0m ⋯\n",
       "     │\u001b[90m Int64 \u001b[0m\u001b[90m String31  \u001b[0m\u001b[90m Int64  \u001b[0m\u001b[90m String15  \u001b[0m\u001b[90m Int64         \u001b[0m\u001b[90m String31       \u001b[0m\u001b[90m Str\u001b[0m ⋯\n",
       "─────┼──────────────────────────────────────────────────────────────────────────\n",
       "  61 │    30  Private    101135  Bachelors             13  Never-married   Exe ⋯\n",
       "\u001b[36m                                                               9 columns omitted\u001b[0m"
      ]
     },
     "execution_count": 53,
     "metadata": {},
     "output_type": "execute_result"
    }
   ],
   "source": [
    "df[findfirst(==(30), df.age), :]"
   ]
  },
  {
   "cell_type": "code",
   "execution_count": 57,
   "id": "8c24b82b-a634-4734-9ea2-533add2fb33a",
   "metadata": {},
   "outputs": [
    {
     "data": {
      "text/html": [
       "<div><div style = \"float: left;\"><span>1278×15 DataFrame</span></div><div style = \"float: right;\"><span style = \"font-style: italic;\">1253 rows omitted</span></div><div style = \"clear: both;\"></div></div><div class = \"data-frame\" style = \"overflow-x: scroll;\"><table class = \"data-frame\" style = \"margin-bottom: 6px;\"><thead><tr class = \"header\"><th class = \"rowNumber\" style = \"font-weight: bold; text-align: right;\">Row</th><th style = \"text-align: left;\">age</th><th style = \"text-align: left;\">workclass</th><th style = \"text-align: left;\">fnlwgt</th><th style = \"text-align: left;\">education</th><th style = \"text-align: left;\">education_num</th><th style = \"text-align: left;\">marital_status</th><th style = \"text-align: left;\">occupation</th><th style = \"text-align: left;\">relationship</th><th style = \"text-align: left;\">race</th><th style = \"text-align: left;\">sex</th><th style = \"text-align: left;\">capital_gain</th><th style = \"text-align: left;\">capital_loss</th><th style = \"text-align: left;\">hours_per_week</th><th style = \"text-align: left;\">native_country</th><th style = \"text-align: left;\">class</th></tr><tr class = \"subheader headerLastRow\"><th class = \"rowNumber\" style = \"font-weight: bold; text-align: right;\"></th><th title = \"Int64\" style = \"text-align: left;\">Int64</th><th title = \"String31\" style = \"text-align: left;\">String31</th><th title = \"Int64\" style = \"text-align: left;\">Int64</th><th title = \"String15\" style = \"text-align: left;\">String15</th><th title = \"Int64\" style = \"text-align: left;\">Int64</th><th title = \"String31\" style = \"text-align: left;\">String31</th><th title = \"String31\" style = \"text-align: left;\">String31</th><th title = \"String15\" style = \"text-align: left;\">String15</th><th title = \"String31\" style = \"text-align: left;\">String31</th><th title = \"String7\" style = \"text-align: left;\">String7</th><th title = \"Int64\" style = \"text-align: left;\">Int64</th><th title = \"Int64\" style = \"text-align: left;\">Int64</th><th title = \"Int64\" style = \"text-align: left;\">Int64</th><th title = \"String31\" style = \"text-align: left;\">String31</th><th title = \"String7\" style = \"text-align: left;\">String7</th></tr></thead><tbody><tr><td class = \"rowNumber\" style = \"font-weight: bold; text-align: right;\">1</td><td style = \"text-align: right;\">30</td><td style = \"text-align: left;\">Private</td><td style = \"text-align: right;\">101135</td><td style = \"text-align: left;\">Bachelors</td><td style = \"text-align: right;\">13</td><td style = \"text-align: left;\">Never-married</td><td style = \"text-align: left;\">Exec-managerial</td><td style = \"text-align: left;\">Not-in-family</td><td style = \"text-align: left;\">White</td><td style = \"text-align: left;\">Female</td><td style = \"text-align: right;\">0</td><td style = \"text-align: right;\">0</td><td style = \"text-align: right;\">50</td><td style = \"text-align: left;\">United-States</td><td style = \"text-align: left;\">&lt;=50K</td></tr><tr><td class = \"rowNumber\" style = \"font-weight: bold; text-align: right;\">2</td><td style = \"text-align: right;\">30</td><td style = \"text-align: left;\">Private</td><td style = \"text-align: right;\">229636</td><td style = \"text-align: left;\">HS-grad</td><td style = \"text-align: right;\">9</td><td style = \"text-align: left;\">Married-civ-spouse</td><td style = \"text-align: left;\">Machine-op-inspct</td><td style = \"text-align: left;\">Husband</td><td style = \"text-align: left;\">White</td><td style = \"text-align: left;\">Male</td><td style = \"text-align: right;\">0</td><td style = \"text-align: right;\">0</td><td style = \"text-align: right;\">40</td><td style = \"text-align: left;\">Mexico</td><td style = \"text-align: left;\">&lt;=50K</td></tr><tr><td class = \"rowNumber\" style = \"font-weight: bold; text-align: right;\">3</td><td style = \"text-align: right;\">30</td><td style = \"text-align: left;\">Private</td><td style = \"text-align: right;\">142921</td><td style = \"text-align: left;\">Assoc-acdm</td><td style = \"text-align: right;\">12</td><td style = \"text-align: left;\">Never-married</td><td style = \"text-align: left;\">Prof-specialty</td><td style = \"text-align: left;\">Not-in-family</td><td style = \"text-align: left;\">White</td><td style = \"text-align: left;\">Female</td><td style = \"text-align: right;\">0</td><td style = \"text-align: right;\">0</td><td style = \"text-align: right;\">40</td><td style = \"text-align: left;\">United-States</td><td style = \"text-align: left;\">&lt;=50K</td></tr><tr><td class = \"rowNumber\" style = \"font-weight: bold; text-align: right;\">4</td><td style = \"text-align: right;\">30</td><td style = \"text-align: left;\">State-gov</td><td style = \"text-align: right;\">260782</td><td style = \"text-align: left;\">HS-grad</td><td style = \"text-align: right;\">9</td><td style = \"text-align: left;\">Never-married</td><td style = \"text-align: left;\">Other-service</td><td style = \"text-align: left;\">Not-in-family</td><td style = \"text-align: left;\">White</td><td style = \"text-align: left;\">Male</td><td style = \"text-align: right;\">0</td><td style = \"text-align: right;\">0</td><td style = \"text-align: right;\">40</td><td style = \"text-align: left;\">United-States</td><td style = \"text-align: left;\">&lt;=50K</td></tr><tr><td class = \"rowNumber\" style = \"font-weight: bold; text-align: right;\">5</td><td style = \"text-align: right;\">30</td><td style = \"text-align: left;\">Private</td><td style = \"text-align: right;\">296462</td><td style = \"text-align: left;\">HS-grad</td><td style = \"text-align: right;\">9</td><td style = \"text-align: left;\">Never-married</td><td style = \"text-align: left;\">Exec-managerial</td><td style = \"text-align: left;\">Not-in-family</td><td style = \"text-align: left;\">Black</td><td style = \"text-align: left;\">Male</td><td style = \"text-align: right;\">0</td><td style = \"text-align: right;\">0</td><td style = \"text-align: right;\">40</td><td style = \"text-align: left;\">United-States</td><td style = \"text-align: left;\">&lt;=50K</td></tr><tr><td class = \"rowNumber\" style = \"font-weight: bold; text-align: right;\">6</td><td style = \"text-align: right;\">30</td><td style = \"text-align: left;\">Private</td><td style = \"text-align: right;\">236543</td><td style = \"text-align: left;\">9th</td><td style = \"text-align: right;\">5</td><td style = \"text-align: left;\">Married-civ-spouse</td><td style = \"text-align: left;\">Other-service</td><td style = \"text-align: left;\">Husband</td><td style = \"text-align: left;\">White</td><td style = \"text-align: left;\">Male</td><td style = \"text-align: right;\">0</td><td style = \"text-align: right;\">0</td><td style = \"text-align: right;\">32</td><td style = \"text-align: left;\">El-Salvador</td><td style = \"text-align: left;\">&gt;50K</td></tr><tr><td class = \"rowNumber\" style = \"font-weight: bold; text-align: right;\">7</td><td style = \"text-align: right;\">30</td><td style = \"text-align: left;\">Private</td><td style = \"text-align: right;\">238186</td><td style = \"text-align: left;\">HS-grad</td><td style = \"text-align: right;\">9</td><td style = \"text-align: left;\">Married-civ-spouse</td><td style = \"text-align: left;\">Machine-op-inspct</td><td style = \"text-align: left;\">Other-relative</td><td style = \"text-align: left;\">White</td><td style = \"text-align: left;\">Male</td><td style = \"text-align: right;\">0</td><td style = \"text-align: right;\">2057</td><td style = \"text-align: right;\">48</td><td style = \"text-align: left;\">United-States</td><td style = \"text-align: left;\">&lt;=50K</td></tr><tr><td class = \"rowNumber\" style = \"font-weight: bold; text-align: right;\">8</td><td style = \"text-align: right;\">30</td><td style = \"text-align: left;\">Private</td><td style = \"text-align: right;\">169269</td><td style = \"text-align: left;\">11th</td><td style = \"text-align: right;\">7</td><td style = \"text-align: left;\">Never-married</td><td style = \"text-align: left;\">Handlers-cleaners</td><td style = \"text-align: left;\">Other-relative</td><td style = \"text-align: left;\">White</td><td style = \"text-align: left;\">Male</td><td style = \"text-align: right;\">0</td><td style = \"text-align: right;\">1721</td><td style = \"text-align: right;\">38</td><td style = \"text-align: left;\">Puerto-Rico</td><td style = \"text-align: left;\">&lt;=50K</td></tr><tr><td class = \"rowNumber\" style = \"font-weight: bold; text-align: right;\">9</td><td style = \"text-align: right;\">30</td><td style = \"text-align: left;\">Private</td><td style = \"text-align: right;\">446894</td><td style = \"text-align: left;\">HS-grad</td><td style = \"text-align: right;\">9</td><td style = \"text-align: left;\">Married-civ-spouse</td><td style = \"text-align: left;\">Handlers-cleaners</td><td style = \"text-align: left;\">Husband</td><td style = \"text-align: left;\">White</td><td style = \"text-align: left;\">Male</td><td style = \"text-align: right;\">0</td><td style = \"text-align: right;\">0</td><td style = \"text-align: right;\">30</td><td style = \"text-align: left;\">United-States</td><td style = \"text-align: left;\">&lt;=50K</td></tr><tr><td class = \"rowNumber\" style = \"font-weight: bold; text-align: right;\">10</td><td style = \"text-align: right;\">30</td><td style = \"text-align: left;\">Local-gov</td><td style = \"text-align: right;\">176992</td><td style = \"text-align: left;\">HS-grad</td><td style = \"text-align: right;\">9</td><td style = \"text-align: left;\">Married-civ-spouse</td><td style = \"text-align: left;\">Transport-moving</td><td style = \"text-align: left;\">Husband</td><td style = \"text-align: left;\">White</td><td style = \"text-align: left;\">Male</td><td style = \"text-align: right;\">0</td><td style = \"text-align: right;\">0</td><td style = \"text-align: right;\">50</td><td style = \"text-align: left;\">United-States</td><td style = \"text-align: left;\">&gt;50K</td></tr><tr><td class = \"rowNumber\" style = \"font-weight: bold; text-align: right;\">11</td><td style = \"text-align: right;\">30</td><td style = \"text-align: left;\">Private</td><td style = \"text-align: right;\">113453</td><td style = \"text-align: left;\">Masters</td><td style = \"text-align: right;\">14</td><td style = \"text-align: left;\">Married-civ-spouse</td><td style = \"text-align: left;\">Prof-specialty</td><td style = \"text-align: left;\">Wife</td><td style = \"text-align: left;\">White</td><td style = \"text-align: left;\">Female</td><td style = \"text-align: right;\">0</td><td style = \"text-align: right;\">0</td><td style = \"text-align: right;\">30</td><td style = \"text-align: left;\">United-States</td><td style = \"text-align: left;\">&lt;=50K</td></tr><tr><td class = \"rowNumber\" style = \"font-weight: bold; text-align: right;\">12</td><td style = \"text-align: right;\">30</td><td style = \"text-align: left;\">Private</td><td style = \"text-align: right;\">101562</td><td style = \"text-align: left;\">HS-grad</td><td style = \"text-align: right;\">9</td><td style = \"text-align: left;\">Never-married</td><td style = \"text-align: left;\">Adm-clerical</td><td style = \"text-align: left;\">Not-in-family</td><td style = \"text-align: left;\">White</td><td style = \"text-align: left;\">Female</td><td style = \"text-align: right;\">0</td><td style = \"text-align: right;\">0</td><td style = \"text-align: right;\">40</td><td style = \"text-align: left;\">United-States</td><td style = \"text-align: left;\">&lt;=50K</td></tr><tr><td class = \"rowNumber\" style = \"font-weight: bold; text-align: right;\">13</td><td style = \"text-align: right;\">30</td><td style = \"text-align: left;\">?</td><td style = \"text-align: right;\">126402</td><td style = \"text-align: left;\">11th</td><td style = \"text-align: right;\">7</td><td style = \"text-align: left;\">Never-married</td><td style = \"text-align: left;\">?</td><td style = \"text-align: left;\">Unmarried</td><td style = \"text-align: left;\">Black</td><td style = \"text-align: left;\">Female</td><td style = \"text-align: right;\">0</td><td style = \"text-align: right;\">0</td><td style = \"text-align: right;\">40</td><td style = \"text-align: left;\">United-States</td><td style = \"text-align: left;\">&lt;=50K</td></tr><tr><td style = \"text-align: right;\">&vellip;</td><td style = \"text-align: right;\">&vellip;</td><td style = \"text-align: right;\">&vellip;</td><td style = \"text-align: right;\">&vellip;</td><td style = \"text-align: right;\">&vellip;</td><td style = \"text-align: right;\">&vellip;</td><td style = \"text-align: right;\">&vellip;</td><td style = \"text-align: right;\">&vellip;</td><td style = \"text-align: right;\">&vellip;</td><td style = \"text-align: right;\">&vellip;</td><td style = \"text-align: right;\">&vellip;</td><td style = \"text-align: right;\">&vellip;</td><td style = \"text-align: right;\">&vellip;</td><td style = \"text-align: right;\">&vellip;</td><td style = \"text-align: right;\">&vellip;</td><td style = \"text-align: right;\">&vellip;</td></tr><tr><td class = \"rowNumber\" style = \"font-weight: bold; text-align: right;\">1267</td><td style = \"text-align: right;\">30</td><td style = \"text-align: left;\">Private</td><td style = \"text-align: right;\">318749</td><td style = \"text-align: left;\">Assoc-voc</td><td style = \"text-align: right;\">11</td><td style = \"text-align: left;\">Married-civ-spouse</td><td style = \"text-align: left;\">Tech-support</td><td style = \"text-align: left;\">Wife</td><td style = \"text-align: left;\">White</td><td style = \"text-align: left;\">Female</td><td style = \"text-align: right;\">0</td><td style = \"text-align: right;\">0</td><td style = \"text-align: right;\">35</td><td style = \"text-align: left;\">Germany</td><td style = \"text-align: left;\">&lt;=50K</td></tr><tr><td class = \"rowNumber\" style = \"font-weight: bold; text-align: right;\">1268</td><td style = \"text-align: right;\">30</td><td style = \"text-align: left;\">Private</td><td style = \"text-align: right;\">190228</td><td style = \"text-align: left;\">HS-grad</td><td style = \"text-align: right;\">9</td><td style = \"text-align: left;\">Married-civ-spouse</td><td style = \"text-align: left;\">Handlers-cleaners</td><td style = \"text-align: left;\">Husband</td><td style = \"text-align: left;\">White</td><td style = \"text-align: left;\">Male</td><td style = \"text-align: right;\">0</td><td style = \"text-align: right;\">0</td><td style = \"text-align: right;\">40</td><td style = \"text-align: left;\">United-States</td><td style = \"text-align: left;\">&lt;=50K</td></tr><tr><td class = \"rowNumber\" style = \"font-weight: bold; text-align: right;\">1269</td><td style = \"text-align: right;\">30</td><td style = \"text-align: left;\">Private</td><td style = \"text-align: right;\">215441</td><td style = \"text-align: left;\">Some-college</td><td style = \"text-align: right;\">10</td><td style = \"text-align: left;\">Never-married</td><td style = \"text-align: left;\">Adm-clerical</td><td style = \"text-align: left;\">Not-in-family</td><td style = \"text-align: left;\">Other</td><td style = \"text-align: left;\">Male</td><td style = \"text-align: right;\">0</td><td style = \"text-align: right;\">0</td><td style = \"text-align: right;\">40</td><td style = \"text-align: left;\">?</td><td style = \"text-align: left;\">&lt;=50K</td></tr><tr><td class = \"rowNumber\" style = \"font-weight: bold; text-align: right;\">1270</td><td style = \"text-align: right;\">30</td><td style = \"text-align: left;\">Private</td><td style = \"text-align: right;\">33678</td><td style = \"text-align: left;\">HS-grad</td><td style = \"text-align: right;\">9</td><td style = \"text-align: left;\">Never-married</td><td style = \"text-align: left;\">Sales</td><td style = \"text-align: left;\">Own-child</td><td style = \"text-align: left;\">White</td><td style = \"text-align: left;\">Male</td><td style = \"text-align: right;\">0</td><td style = \"text-align: right;\">0</td><td style = \"text-align: right;\">40</td><td style = \"text-align: left;\">United-States</td><td style = \"text-align: left;\">&lt;=50K</td></tr><tr><td class = \"rowNumber\" style = \"font-weight: bold; text-align: right;\">1271</td><td style = \"text-align: right;\">30</td><td style = \"text-align: left;\">Never-worked</td><td style = \"text-align: right;\">176673</td><td style = \"text-align: left;\">HS-grad</td><td style = \"text-align: right;\">9</td><td style = \"text-align: left;\">Married-civ-spouse</td><td style = \"text-align: left;\">?</td><td style = \"text-align: left;\">Wife</td><td style = \"text-align: left;\">Black</td><td style = \"text-align: left;\">Female</td><td style = \"text-align: right;\">0</td><td style = \"text-align: right;\">0</td><td style = \"text-align: right;\">40</td><td style = \"text-align: left;\">United-States</td><td style = \"text-align: left;\">&lt;=50K</td></tr><tr><td class = \"rowNumber\" style = \"font-weight: bold; text-align: right;\">1272</td><td style = \"text-align: right;\">30</td><td style = \"text-align: left;\">Private</td><td style = \"text-align: right;\">205152</td><td style = \"text-align: left;\">Bachelors</td><td style = \"text-align: right;\">13</td><td style = \"text-align: left;\">Never-married</td><td style = \"text-align: left;\">Sales</td><td style = \"text-align: left;\">Not-in-family</td><td style = \"text-align: left;\">White</td><td style = \"text-align: left;\">Male</td><td style = \"text-align: right;\">0</td><td style = \"text-align: right;\">0</td><td style = \"text-align: right;\">40</td><td style = \"text-align: left;\">United-States</td><td style = \"text-align: left;\">&lt;=50K</td></tr><tr><td class = \"rowNumber\" style = \"font-weight: bold; text-align: right;\">1273</td><td style = \"text-align: right;\">30</td><td style = \"text-align: left;\">Self-emp-not-inc</td><td style = \"text-align: right;\">176185</td><td style = \"text-align: left;\">Some-college</td><td style = \"text-align: right;\">10</td><td style = \"text-align: left;\">Married-spouse-absent</td><td style = \"text-align: left;\">Craft-repair</td><td style = \"text-align: left;\">Own-child</td><td style = \"text-align: left;\">White</td><td style = \"text-align: left;\">Male</td><td style = \"text-align: right;\">0</td><td style = \"text-align: right;\">0</td><td style = \"text-align: right;\">60</td><td style = \"text-align: left;\">United-States</td><td style = \"text-align: left;\">&gt;50K</td></tr><tr><td class = \"rowNumber\" style = \"font-weight: bold; text-align: right;\">1274</td><td style = \"text-align: right;\">30</td><td style = \"text-align: left;\">Self-emp-not-inc</td><td style = \"text-align: right;\">261943</td><td style = \"text-align: left;\">11th</td><td style = \"text-align: right;\">7</td><td style = \"text-align: left;\">Married-spouse-absent</td><td style = \"text-align: left;\">Craft-repair</td><td style = \"text-align: left;\">Not-in-family</td><td style = \"text-align: left;\">White</td><td style = \"text-align: left;\">Male</td><td style = \"text-align: right;\">0</td><td style = \"text-align: right;\">0</td><td style = \"text-align: right;\">30</td><td style = \"text-align: left;\">Honduras</td><td style = \"text-align: left;\">&lt;=50K</td></tr><tr><td class = \"rowNumber\" style = \"font-weight: bold; text-align: right;\">1275</td><td style = \"text-align: right;\">30</td><td style = \"text-align: left;\">Private</td><td style = \"text-align: right;\">176175</td><td style = \"text-align: left;\">Assoc-voc</td><td style = \"text-align: right;\">11</td><td style = \"text-align: left;\">Divorced</td><td style = \"text-align: left;\">Adm-clerical</td><td style = \"text-align: left;\">Unmarried</td><td style = \"text-align: left;\">White</td><td style = \"text-align: left;\">Female</td><td style = \"text-align: right;\">0</td><td style = \"text-align: right;\">0</td><td style = \"text-align: right;\">24</td><td style = \"text-align: left;\">United-States</td><td style = \"text-align: left;\">&lt;=50K</td></tr><tr><td class = \"rowNumber\" style = \"font-weight: bold; text-align: right;\">1276</td><td style = \"text-align: right;\">30</td><td style = \"text-align: left;\">Private</td><td style = \"text-align: right;\">77266</td><td style = \"text-align: left;\">HS-grad</td><td style = \"text-align: right;\">9</td><td style = \"text-align: left;\">Divorced</td><td style = \"text-align: left;\">Transport-moving</td><td style = \"text-align: left;\">Not-in-family</td><td style = \"text-align: left;\">White</td><td style = \"text-align: left;\">Male</td><td style = \"text-align: right;\">0</td><td style = \"text-align: right;\">0</td><td style = \"text-align: right;\">55</td><td style = \"text-align: left;\">United-States</td><td style = \"text-align: left;\">&lt;=50K</td></tr><tr><td class = \"rowNumber\" style = \"font-weight: bold; text-align: right;\">1277</td><td style = \"text-align: right;\">30</td><td style = \"text-align: left;\">?</td><td style = \"text-align: right;\">33811</td><td style = \"text-align: left;\">Bachelors</td><td style = \"text-align: right;\">13</td><td style = \"text-align: left;\">Never-married</td><td style = \"text-align: left;\">?</td><td style = \"text-align: left;\">Not-in-family</td><td style = \"text-align: left;\">Asian-Pac-Islander</td><td style = \"text-align: left;\">Female</td><td style = \"text-align: right;\">0</td><td style = \"text-align: right;\">0</td><td style = \"text-align: right;\">99</td><td style = \"text-align: left;\">United-States</td><td style = \"text-align: left;\">&lt;=50K</td></tr><tr><td class = \"rowNumber\" style = \"font-weight: bold; text-align: right;\">1278</td><td style = \"text-align: right;\">30</td><td style = \"text-align: left;\">Private</td><td style = \"text-align: right;\">345898</td><td style = \"text-align: left;\">HS-grad</td><td style = \"text-align: right;\">9</td><td style = \"text-align: left;\">Never-married</td><td style = \"text-align: left;\">Craft-repair</td><td style = \"text-align: left;\">Not-in-family</td><td style = \"text-align: left;\">Black</td><td style = \"text-align: left;\">Male</td><td style = \"text-align: right;\">0</td><td style = \"text-align: right;\">0</td><td style = \"text-align: right;\">46</td><td style = \"text-align: left;\">United-States</td><td style = \"text-align: left;\">&lt;=50K</td></tr></tbody></table></div>"
      ],
      "text/latex": [
       "\\begin{tabular}{r|ccccccc}\n",
       "\t& age & workclass & fnlwgt & education & education\\_num & marital\\_status & \\\\\n",
       "\t\\hline\n",
       "\t& Int64 & String31 & Int64 & String15 & Int64 & String31 & \\\\\n",
       "\t\\hline\n",
       "\t1 & 30 & Private & 101135 & Bachelors & 13 & Never-married & $\\dots$ \\\\\n",
       "\t2 & 30 & Private & 229636 & HS-grad & 9 & Married-civ-spouse & $\\dots$ \\\\\n",
       "\t3 & 30 & Private & 142921 & Assoc-acdm & 12 & Never-married & $\\dots$ \\\\\n",
       "\t4 & 30 & State-gov & 260782 & HS-grad & 9 & Never-married & $\\dots$ \\\\\n",
       "\t5 & 30 & Private & 296462 & HS-grad & 9 & Never-married & $\\dots$ \\\\\n",
       "\t6 & 30 & Private & 236543 & 9th & 5 & Married-civ-spouse & $\\dots$ \\\\\n",
       "\t7 & 30 & Private & 238186 & HS-grad & 9 & Married-civ-spouse & $\\dots$ \\\\\n",
       "\t8 & 30 & Private & 169269 & 11th & 7 & Never-married & $\\dots$ \\\\\n",
       "\t9 & 30 & Private & 446894 & HS-grad & 9 & Married-civ-spouse & $\\dots$ \\\\\n",
       "\t10 & 30 & Local-gov & 176992 & HS-grad & 9 & Married-civ-spouse & $\\dots$ \\\\\n",
       "\t11 & 30 & Private & 113453 & Masters & 14 & Married-civ-spouse & $\\dots$ \\\\\n",
       "\t12 & 30 & Private & 101562 & HS-grad & 9 & Never-married & $\\dots$ \\\\\n",
       "\t13 & 30 & ? & 126402 & 11th & 7 & Never-married & $\\dots$ \\\\\n",
       "\t14 & 30 & Self-emp-not-inc & 100252 & HS-grad & 9 & Married-civ-spouse & $\\dots$ \\\\\n",
       "\t15 & 30 & Federal-gov & 340899 & Bachelors & 13 & Never-married & $\\dots$ \\\\\n",
       "\t16 & 30 & Private & 127875 & 11th & 7 & Never-married & $\\dots$ \\\\\n",
       "\t17 & 30 & Private & 143766 & Some-college & 10 & Never-married & $\\dots$ \\\\\n",
       "\t18 & 30 & Private & 97306 & Some-college & 10 & Never-married & $\\dots$ \\\\\n",
       "\t19 & 30 & Private & 169002 & Bachelors & 13 & Married-civ-spouse & $\\dots$ \\\\\n",
       "\t20 & 30 & Private & 23778 & Some-college & 10 & Never-married & $\\dots$ \\\\\n",
       "\t21 & 30 & Private & 53373 & Bachelors & 13 & Married-civ-spouse & $\\dots$ \\\\\n",
       "\t22 & 30 & Private & 84119 & HS-grad & 9 & Married-civ-spouse & $\\dots$ \\\\\n",
       "\t23 & 30 & Private & 296538 & 9th & 5 & Divorced & $\\dots$ \\\\\n",
       "\t24 & 30 & State-gov & 157990 & HS-grad & 9 & Married-civ-spouse & $\\dots$ \\\\\n",
       "\t25 & 30 & Private & 226296 & Masters & 14 & Never-married & $\\dots$ \\\\\n",
       "\t26 & 30 & Self-emp-not-inc & 370498 & Some-college & 10 & Never-married & $\\dots$ \\\\\n",
       "\t27 & 30 & Federal-gov & 42900 & Bachelors & 13 & Never-married & $\\dots$ \\\\\n",
       "\t28 & 30 & State-gov & 184901 & Bachelors & 13 & Married-civ-spouse & $\\dots$ \\\\\n",
       "\t29 & 30 & Private & 242739 & Bachelors & 13 & Divorced & $\\dots$ \\\\\n",
       "\t30 & 30 & Private & 509364 & Some-college & 10 & Married-civ-spouse & $\\dots$ \\\\\n",
       "\t$\\dots$ & $\\dots$ & $\\dots$ & $\\dots$ & $\\dots$ & $\\dots$ & $\\dots$ &  \\\\\n",
       "\\end{tabular}\n"
      ],
      "text/plain": [
       "\u001b[1m1278×15 DataFrame\u001b[0m\n",
       "\u001b[1m  Row \u001b[0m│\u001b[1m age   \u001b[0m\u001b[1m workclass        \u001b[0m\u001b[1m fnlwgt \u001b[0m\u001b[1m education    \u001b[0m\u001b[1m education_num \u001b[0m\u001b[1m marital_\u001b[0m ⋯\n",
       "      │\u001b[90m Int64 \u001b[0m\u001b[90m String31         \u001b[0m\u001b[90m Int64  \u001b[0m\u001b[90m String15     \u001b[0m\u001b[90m Int64         \u001b[0m\u001b[90m String31\u001b[0m ⋯\n",
       "──────┼─────────────────────────────────────────────────────────────────────────\n",
       "    1 │    30  Private           101135  Bachelors                13  Never-ma ⋯\n",
       "    2 │    30  Private           229636  HS-grad                   9  Married-\n",
       "    3 │    30  Private           142921  Assoc-acdm               12  Never-ma\n",
       "    4 │    30  State-gov         260782  HS-grad                   9  Never-ma\n",
       "    5 │    30  Private           296462  HS-grad                   9  Never-ma ⋯\n",
       "    6 │    30  Private           236543  9th                       5  Married-\n",
       "    7 │    30  Private           238186  HS-grad                   9  Married-\n",
       "    8 │    30  Private           169269  11th                      7  Never-ma\n",
       "    9 │    30  Private           446894  HS-grad                   9  Married- ⋯\n",
       "   10 │    30  Local-gov         176992  HS-grad                   9  Married-\n",
       "   11 │    30  Private           113453  Masters                  14  Married-\n",
       "  ⋮   │   ⋮           ⋮            ⋮          ⋮              ⋮                 ⋱\n",
       " 1269 │    30  Private           215441  Some-college             10  Never-ma\n",
       " 1270 │    30  Private            33678  HS-grad                   9  Never-ma ⋯\n",
       " 1271 │    30  Never-worked      176673  HS-grad                   9  Married-\n",
       " 1272 │    30  Private           205152  Bachelors                13  Never-ma\n",
       " 1273 │    30  Self-emp-not-inc  176185  Some-college             10  Married-\n",
       " 1274 │    30  Self-emp-not-inc  261943  11th                      7  Married- ⋯\n",
       " 1275 │    30  Private           176175  Assoc-voc                11  Divorced\n",
       " 1276 │    30  Private            77266  HS-grad                   9  Divorced\n",
       " 1277 │    30  ?                  33811  Bachelors                13  Never-ma\n",
       " 1278 │    30  Private           345898  HS-grad                   9  Never-ma ⋯\n",
       "\u001b[36m                                                10 columns and 1257 rows omitted\u001b[0m"
      ]
     },
     "execution_count": 57,
     "metadata": {},
     "output_type": "execute_result"
    }
   ],
   "source": [
    "df[findall(==(30), df.age), :]"
   ]
  },
  {
   "cell_type": "code",
   "execution_count": 60,
   "id": "126b6138-b399-406c-8998-57d0d297316c",
   "metadata": {},
   "outputs": [
    {
     "data": {
      "text/html": [
       "<div><div style = \"float: left;\"><span>48842×1 DataFrame</span></div><div style = \"float: right;\"><span style = \"font-style: italic;\">48817 rows omitted</span></div><div style = \"clear: both;\"></div></div><div class = \"data-frame\" style = \"overflow-x: scroll;\"><table class = \"data-frame\" style = \"margin-bottom: 6px;\"><thead><tr class = \"header\"><th class = \"rowNumber\" style = \"font-weight: bold; text-align: right;\">Row</th><th style = \"text-align: left;\">occupation</th></tr><tr class = \"subheader headerLastRow\"><th class = \"rowNumber\" style = \"font-weight: bold; text-align: right;\"></th><th title = \"String31\" style = \"text-align: left;\">String31</th></tr></thead><tbody><tr><td class = \"rowNumber\" style = \"font-weight: bold; text-align: right;\">1</td><td style = \"text-align: left;\">Machine-op-inspct</td></tr><tr><td class = \"rowNumber\" style = \"font-weight: bold; text-align: right;\">2</td><td style = \"text-align: left;\">Farming-fishing</td></tr><tr><td class = \"rowNumber\" style = \"font-weight: bold; text-align: right;\">3</td><td style = \"text-align: left;\">Protective-serv</td></tr><tr><td class = \"rowNumber\" style = \"font-weight: bold; text-align: right;\">4</td><td style = \"text-align: left;\">Machine-op-inspct</td></tr><tr><td class = \"rowNumber\" style = \"font-weight: bold; text-align: right;\">5</td><td style = \"text-align: left;\">?</td></tr><tr><td class = \"rowNumber\" style = \"font-weight: bold; text-align: right;\">6</td><td style = \"text-align: left;\">Other-service</td></tr><tr><td class = \"rowNumber\" style = \"font-weight: bold; text-align: right;\">7</td><td style = \"text-align: left;\">?</td></tr><tr><td class = \"rowNumber\" style = \"font-weight: bold; text-align: right;\">8</td><td style = \"text-align: left;\">Prof-specialty</td></tr><tr><td class = \"rowNumber\" style = \"font-weight: bold; text-align: right;\">9</td><td style = \"text-align: left;\">Other-service</td></tr><tr><td class = \"rowNumber\" style = \"font-weight: bold; text-align: right;\">10</td><td style = \"text-align: left;\">Craft-repair</td></tr><tr><td class = \"rowNumber\" style = \"font-weight: bold; text-align: right;\">11</td><td style = \"text-align: left;\">Machine-op-inspct</td></tr><tr><td class = \"rowNumber\" style = \"font-weight: bold; text-align: right;\">12</td><td style = \"text-align: left;\">Adm-clerical</td></tr><tr><td class = \"rowNumber\" style = \"font-weight: bold; text-align: right;\">13</td><td style = \"text-align: left;\">Adm-clerical</td></tr><tr><td style = \"text-align: right;\">&vellip;</td><td style = \"text-align: right;\">&vellip;</td></tr><tr><td class = \"rowNumber\" style = \"font-weight: bold; text-align: right;\">48831</td><td style = \"text-align: left;\">Adm-clerical</td></tr><tr><td class = \"rowNumber\" style = \"font-weight: bold; text-align: right;\">48832</td><td style = \"text-align: left;\">Craft-repair</td></tr><tr><td class = \"rowNumber\" style = \"font-weight: bold; text-align: right;\">48833</td><td style = \"text-align: left;\">Handlers-cleaners</td></tr><tr><td class = \"rowNumber\" style = \"font-weight: bold; text-align: right;\">48834</td><td style = \"text-align: left;\">Sales</td></tr><tr><td class = \"rowNumber\" style = \"font-weight: bold; text-align: right;\">48835</td><td style = \"text-align: left;\">Tech-support</td></tr><tr><td class = \"rowNumber\" style = \"font-weight: bold; text-align: right;\">48836</td><td style = \"text-align: left;\">Exec-managerial</td></tr><tr><td class = \"rowNumber\" style = \"font-weight: bold; text-align: right;\">48837</td><td style = \"text-align: left;\">Protective-serv</td></tr><tr><td class = \"rowNumber\" style = \"font-weight: bold; text-align: right;\">48838</td><td style = \"text-align: left;\">Tech-support</td></tr><tr><td class = \"rowNumber\" style = \"font-weight: bold; text-align: right;\">48839</td><td style = \"text-align: left;\">Machine-op-inspct</td></tr><tr><td class = \"rowNumber\" style = \"font-weight: bold; text-align: right;\">48840</td><td style = \"text-align: left;\">Adm-clerical</td></tr><tr><td class = \"rowNumber\" style = \"font-weight: bold; text-align: right;\">48841</td><td style = \"text-align: left;\">Adm-clerical</td></tr><tr><td class = \"rowNumber\" style = \"font-weight: bold; text-align: right;\">48842</td><td style = \"text-align: left;\">Exec-managerial</td></tr></tbody></table></div>"
      ],
      "text/latex": [
       "\\begin{tabular}{r|c}\n",
       "\t& occupation\\\\\n",
       "\t\\hline\n",
       "\t& String31\\\\\n",
       "\t\\hline\n",
       "\t1 & Machine-op-inspct \\\\\n",
       "\t2 & Farming-fishing \\\\\n",
       "\t3 & Protective-serv \\\\\n",
       "\t4 & Machine-op-inspct \\\\\n",
       "\t5 & ? \\\\\n",
       "\t6 & Other-service \\\\\n",
       "\t7 & ? \\\\\n",
       "\t8 & Prof-specialty \\\\\n",
       "\t9 & Other-service \\\\\n",
       "\t10 & Craft-repair \\\\\n",
       "\t11 & Machine-op-inspct \\\\\n",
       "\t12 & Adm-clerical \\\\\n",
       "\t13 & Adm-clerical \\\\\n",
       "\t14 & ? \\\\\n",
       "\t15 & Machine-op-inspct \\\\\n",
       "\t16 & Exec-managerial \\\\\n",
       "\t17 & Other-service \\\\\n",
       "\t18 & Adm-clerical \\\\\n",
       "\t19 & Machine-op-inspct \\\\\n",
       "\t20 & Prof-specialty \\\\\n",
       "\t21 & Tech-support \\\\\n",
       "\t22 & Other-service \\\\\n",
       "\t23 & ? \\\\\n",
       "\t24 & Prof-specialty \\\\\n",
       "\t25 & Prof-specialty \\\\\n",
       "\t26 & Craft-repair \\\\\n",
       "\t27 & Adm-clerical \\\\\n",
       "\t28 & Machine-op-inspct \\\\\n",
       "\t29 & Craft-repair \\\\\n",
       "\t30 & Prof-specialty \\\\\n",
       "\t$\\dots$ & $\\dots$ \\\\\n",
       "\\end{tabular}\n"
      ],
      "text/plain": [
       "\u001b[1m48842×1 DataFrame\u001b[0m\n",
       "\u001b[1m   Row \u001b[0m│\u001b[1m occupation        \u001b[0m\n",
       "       │\u001b[90m String31          \u001b[0m\n",
       "───────┼───────────────────\n",
       "     1 │ Machine-op-inspct\n",
       "     2 │ Farming-fishing\n",
       "     3 │ Protective-serv\n",
       "     4 │ Machine-op-inspct\n",
       "     5 │ ?\n",
       "     6 │ Other-service\n",
       "     7 │ ?\n",
       "     8 │ Prof-specialty\n",
       "     9 │ Other-service\n",
       "    10 │ Craft-repair\n",
       "    11 │ Machine-op-inspct\n",
       "   ⋮   │         ⋮\n",
       " 48833 │ Handlers-cleaners\n",
       " 48834 │ Sales\n",
       " 48835 │ Tech-support\n",
       " 48836 │ Exec-managerial\n",
       " 48837 │ Protective-serv\n",
       " 48838 │ Tech-support\n",
       " 48839 │ Machine-op-inspct\n",
       " 48840 │ Adm-clerical\n",
       " 48841 │ Adm-clerical\n",
       " 48842 │ Exec-managerial\n",
       "\u001b[36m         48821 rows omitted\u001b[0m"
      ]
     },
     "execution_count": 60,
     "metadata": {},
     "output_type": "execute_result"
    }
   ],
   "source": [
    "select(df, :occupation)"
   ]
  },
  {
   "cell_type": "code",
   "execution_count": 61,
   "id": "e6cfcc77-9bc8-43b7-83ff-126406979b13",
   "metadata": {},
   "outputs": [
    {
     "data": {
      "text/html": [
       "<div><div style = \"float: left;\"><span>48842×1 DataFrame</span></div><div style = \"float: right;\"><span style = \"font-style: italic;\">48817 rows omitted</span></div><div style = \"clear: both;\"></div></div><div class = \"data-frame\" style = \"overflow-x: scroll;\"><table class = \"data-frame\" style = \"margin-bottom: 6px;\"><thead><tr class = \"header\"><th class = \"rowNumber\" style = \"font-weight: bold; text-align: right;\">Row</th><th style = \"text-align: left;\">occupation</th></tr><tr class = \"subheader headerLastRow\"><th class = \"rowNumber\" style = \"font-weight: bold; text-align: right;\"></th><th title = \"String31\" style = \"text-align: left;\">String31</th></tr></thead><tbody><tr><td class = \"rowNumber\" style = \"font-weight: bold; text-align: right;\">1</td><td style = \"text-align: left;\">Machine-op-inspct</td></tr><tr><td class = \"rowNumber\" style = \"font-weight: bold; text-align: right;\">2</td><td style = \"text-align: left;\">Farming-fishing</td></tr><tr><td class = \"rowNumber\" style = \"font-weight: bold; text-align: right;\">3</td><td style = \"text-align: left;\">Protective-serv</td></tr><tr><td class = \"rowNumber\" style = \"font-weight: bold; text-align: right;\">4</td><td style = \"text-align: left;\">Machine-op-inspct</td></tr><tr><td class = \"rowNumber\" style = \"font-weight: bold; text-align: right;\">5</td><td style = \"text-align: left;\">?</td></tr><tr><td class = \"rowNumber\" style = \"font-weight: bold; text-align: right;\">6</td><td style = \"text-align: left;\">Other-service</td></tr><tr><td class = \"rowNumber\" style = \"font-weight: bold; text-align: right;\">7</td><td style = \"text-align: left;\">?</td></tr><tr><td class = \"rowNumber\" style = \"font-weight: bold; text-align: right;\">8</td><td style = \"text-align: left;\">Prof-specialty</td></tr><tr><td class = \"rowNumber\" style = \"font-weight: bold; text-align: right;\">9</td><td style = \"text-align: left;\">Other-service</td></tr><tr><td class = \"rowNumber\" style = \"font-weight: bold; text-align: right;\">10</td><td style = \"text-align: left;\">Craft-repair</td></tr><tr><td class = \"rowNumber\" style = \"font-weight: bold; text-align: right;\">11</td><td style = \"text-align: left;\">Machine-op-inspct</td></tr><tr><td class = \"rowNumber\" style = \"font-weight: bold; text-align: right;\">12</td><td style = \"text-align: left;\">Adm-clerical</td></tr><tr><td class = \"rowNumber\" style = \"font-weight: bold; text-align: right;\">13</td><td style = \"text-align: left;\">Adm-clerical</td></tr><tr><td style = \"text-align: right;\">&vellip;</td><td style = \"text-align: right;\">&vellip;</td></tr><tr><td class = \"rowNumber\" style = \"font-weight: bold; text-align: right;\">48831</td><td style = \"text-align: left;\">Adm-clerical</td></tr><tr><td class = \"rowNumber\" style = \"font-weight: bold; text-align: right;\">48832</td><td style = \"text-align: left;\">Craft-repair</td></tr><tr><td class = \"rowNumber\" style = \"font-weight: bold; text-align: right;\">48833</td><td style = \"text-align: left;\">Handlers-cleaners</td></tr><tr><td class = \"rowNumber\" style = \"font-weight: bold; text-align: right;\">48834</td><td style = \"text-align: left;\">Sales</td></tr><tr><td class = \"rowNumber\" style = \"font-weight: bold; text-align: right;\">48835</td><td style = \"text-align: left;\">Tech-support</td></tr><tr><td class = \"rowNumber\" style = \"font-weight: bold; text-align: right;\">48836</td><td style = \"text-align: left;\">Exec-managerial</td></tr><tr><td class = \"rowNumber\" style = \"font-weight: bold; text-align: right;\">48837</td><td style = \"text-align: left;\">Protective-serv</td></tr><tr><td class = \"rowNumber\" style = \"font-weight: bold; text-align: right;\">48838</td><td style = \"text-align: left;\">Tech-support</td></tr><tr><td class = \"rowNumber\" style = \"font-weight: bold; text-align: right;\">48839</td><td style = \"text-align: left;\">Machine-op-inspct</td></tr><tr><td class = \"rowNumber\" style = \"font-weight: bold; text-align: right;\">48840</td><td style = \"text-align: left;\">Adm-clerical</td></tr><tr><td class = \"rowNumber\" style = \"font-weight: bold; text-align: right;\">48841</td><td style = \"text-align: left;\">Adm-clerical</td></tr><tr><td class = \"rowNumber\" style = \"font-weight: bold; text-align: right;\">48842</td><td style = \"text-align: left;\">Exec-managerial</td></tr></tbody></table></div>"
      ],
      "text/latex": [
       "\\begin{tabular}{r|c}\n",
       "\t& occupation\\\\\n",
       "\t\\hline\n",
       "\t& String31\\\\\n",
       "\t\\hline\n",
       "\t1 & Machine-op-inspct \\\\\n",
       "\t2 & Farming-fishing \\\\\n",
       "\t3 & Protective-serv \\\\\n",
       "\t4 & Machine-op-inspct \\\\\n",
       "\t5 & ? \\\\\n",
       "\t6 & Other-service \\\\\n",
       "\t7 & ? \\\\\n",
       "\t8 & Prof-specialty \\\\\n",
       "\t9 & Other-service \\\\\n",
       "\t10 & Craft-repair \\\\\n",
       "\t11 & Machine-op-inspct \\\\\n",
       "\t12 & Adm-clerical \\\\\n",
       "\t13 & Adm-clerical \\\\\n",
       "\t14 & ? \\\\\n",
       "\t15 & Machine-op-inspct \\\\\n",
       "\t16 & Exec-managerial \\\\\n",
       "\t17 & Other-service \\\\\n",
       "\t18 & Adm-clerical \\\\\n",
       "\t19 & Machine-op-inspct \\\\\n",
       "\t20 & Prof-specialty \\\\\n",
       "\t21 & Tech-support \\\\\n",
       "\t22 & Other-service \\\\\n",
       "\t23 & ? \\\\\n",
       "\t24 & Prof-specialty \\\\\n",
       "\t25 & Prof-specialty \\\\\n",
       "\t26 & Craft-repair \\\\\n",
       "\t27 & Adm-clerical \\\\\n",
       "\t28 & Machine-op-inspct \\\\\n",
       "\t29 & Craft-repair \\\\\n",
       "\t30 & Prof-specialty \\\\\n",
       "\t$\\dots$ & $\\dots$ \\\\\n",
       "\\end{tabular}\n"
      ],
      "text/plain": [
       "\u001b[1m48842×1 DataFrame\u001b[0m\n",
       "\u001b[1m   Row \u001b[0m│\u001b[1m occupation        \u001b[0m\n",
       "       │\u001b[90m String31          \u001b[0m\n",
       "───────┼───────────────────\n",
       "     1 │ Machine-op-inspct\n",
       "     2 │ Farming-fishing\n",
       "     3 │ Protective-serv\n",
       "     4 │ Machine-op-inspct\n",
       "     5 │ ?\n",
       "     6 │ Other-service\n",
       "     7 │ ?\n",
       "     8 │ Prof-specialty\n",
       "     9 │ Other-service\n",
       "    10 │ Craft-repair\n",
       "    11 │ Machine-op-inspct\n",
       "   ⋮   │         ⋮\n",
       " 48833 │ Handlers-cleaners\n",
       " 48834 │ Sales\n",
       " 48835 │ Tech-support\n",
       " 48836 │ Exec-managerial\n",
       " 48837 │ Protective-serv\n",
       " 48838 │ Tech-support\n",
       " 48839 │ Machine-op-inspct\n",
       " 48840 │ Adm-clerical\n",
       " 48841 │ Adm-clerical\n",
       " 48842 │ Exec-managerial\n",
       "\u001b[36m         48821 rows omitted\u001b[0m"
      ]
     },
     "execution_count": 61,
     "metadata": {},
     "output_type": "execute_result"
    }
   ],
   "source": [
    "select(df, \"occupation\")"
   ]
  },
  {
   "cell_type": "code",
   "execution_count": 62,
   "id": "a7aee4d6-1c04-4788-b609-e608a3de6677",
   "metadata": {},
   "outputs": [
    {
     "data": {
      "text/html": [
       "<div><div style = \"float: left;\"><span>48842×2 DataFrame</span></div><div style = \"float: right;\"><span style = \"font-style: italic;\">48817 rows omitted</span></div><div style = \"clear: both;\"></div></div><div class = \"data-frame\" style = \"overflow-x: scroll;\"><table class = \"data-frame\" style = \"margin-bottom: 6px;\"><thead><tr class = \"header\"><th class = \"rowNumber\" style = \"font-weight: bold; text-align: right;\">Row</th><th style = \"text-align: left;\">occupation</th><th style = \"text-align: left;\">class</th></tr><tr class = \"subheader headerLastRow\"><th class = \"rowNumber\" style = \"font-weight: bold; text-align: right;\"></th><th title = \"String31\" style = \"text-align: left;\">String31</th><th title = \"String7\" style = \"text-align: left;\">String7</th></tr></thead><tbody><tr><td class = \"rowNumber\" style = \"font-weight: bold; text-align: right;\">1</td><td style = \"text-align: left;\">Machine-op-inspct</td><td style = \"text-align: left;\">&lt;=50K</td></tr><tr><td class = \"rowNumber\" style = \"font-weight: bold; text-align: right;\">2</td><td style = \"text-align: left;\">Farming-fishing</td><td style = \"text-align: left;\">&lt;=50K</td></tr><tr><td class = \"rowNumber\" style = \"font-weight: bold; text-align: right;\">3</td><td style = \"text-align: left;\">Protective-serv</td><td style = \"text-align: left;\">&gt;50K</td></tr><tr><td class = \"rowNumber\" style = \"font-weight: bold; text-align: right;\">4</td><td style = \"text-align: left;\">Machine-op-inspct</td><td style = \"text-align: left;\">&gt;50K</td></tr><tr><td class = \"rowNumber\" style = \"font-weight: bold; text-align: right;\">5</td><td style = \"text-align: left;\">?</td><td style = \"text-align: left;\">&lt;=50K</td></tr><tr><td class = \"rowNumber\" style = \"font-weight: bold; text-align: right;\">6</td><td style = \"text-align: left;\">Other-service</td><td style = \"text-align: left;\">&lt;=50K</td></tr><tr><td class = \"rowNumber\" style = \"font-weight: bold; text-align: right;\">7</td><td style = \"text-align: left;\">?</td><td style = \"text-align: left;\">&lt;=50K</td></tr><tr><td class = \"rowNumber\" style = \"font-weight: bold; text-align: right;\">8</td><td style = \"text-align: left;\">Prof-specialty</td><td style = \"text-align: left;\">&gt;50K</td></tr><tr><td class = \"rowNumber\" style = \"font-weight: bold; text-align: right;\">9</td><td style = \"text-align: left;\">Other-service</td><td style = \"text-align: left;\">&lt;=50K</td></tr><tr><td class = \"rowNumber\" style = \"font-weight: bold; text-align: right;\">10</td><td style = \"text-align: left;\">Craft-repair</td><td style = \"text-align: left;\">&lt;=50K</td></tr><tr><td class = \"rowNumber\" style = \"font-weight: bold; text-align: right;\">11</td><td style = \"text-align: left;\">Machine-op-inspct</td><td style = \"text-align: left;\">&gt;50K</td></tr><tr><td class = \"rowNumber\" style = \"font-weight: bold; text-align: right;\">12</td><td style = \"text-align: left;\">Adm-clerical</td><td style = \"text-align: left;\">&lt;=50K</td></tr><tr><td class = \"rowNumber\" style = \"font-weight: bold; text-align: right;\">13</td><td style = \"text-align: left;\">Adm-clerical</td><td style = \"text-align: left;\">&lt;=50K</td></tr><tr><td style = \"text-align: right;\">&vellip;</td><td style = \"text-align: right;\">&vellip;</td><td style = \"text-align: right;\">&vellip;</td></tr><tr><td class = \"rowNumber\" style = \"font-weight: bold; text-align: right;\">48831</td><td style = \"text-align: left;\">Adm-clerical</td><td style = \"text-align: left;\">&lt;=50K</td></tr><tr><td class = \"rowNumber\" style = \"font-weight: bold; text-align: right;\">48832</td><td style = \"text-align: left;\">Craft-repair</td><td style = \"text-align: left;\">&lt;=50K</td></tr><tr><td class = \"rowNumber\" style = \"font-weight: bold; text-align: right;\">48833</td><td style = \"text-align: left;\">Handlers-cleaners</td><td style = \"text-align: left;\">&lt;=50K</td></tr><tr><td class = \"rowNumber\" style = \"font-weight: bold; text-align: right;\">48834</td><td style = \"text-align: left;\">Sales</td><td style = \"text-align: left;\">&lt;=50K</td></tr><tr><td class = \"rowNumber\" style = \"font-weight: bold; text-align: right;\">48835</td><td style = \"text-align: left;\">Tech-support</td><td style = \"text-align: left;\">&lt;=50K</td></tr><tr><td class = \"rowNumber\" style = \"font-weight: bold; text-align: right;\">48836</td><td style = \"text-align: left;\">Exec-managerial</td><td style = \"text-align: left;\">&gt;50K</td></tr><tr><td class = \"rowNumber\" style = \"font-weight: bold; text-align: right;\">48837</td><td style = \"text-align: left;\">Protective-serv</td><td style = \"text-align: left;\">&lt;=50K</td></tr><tr><td class = \"rowNumber\" style = \"font-weight: bold; text-align: right;\">48838</td><td style = \"text-align: left;\">Tech-support</td><td style = \"text-align: left;\">&lt;=50K</td></tr><tr><td class = \"rowNumber\" style = \"font-weight: bold; text-align: right;\">48839</td><td style = \"text-align: left;\">Machine-op-inspct</td><td style = \"text-align: left;\">&gt;50K</td></tr><tr><td class = \"rowNumber\" style = \"font-weight: bold; text-align: right;\">48840</td><td style = \"text-align: left;\">Adm-clerical</td><td style = \"text-align: left;\">&lt;=50K</td></tr><tr><td class = \"rowNumber\" style = \"font-weight: bold; text-align: right;\">48841</td><td style = \"text-align: left;\">Adm-clerical</td><td style = \"text-align: left;\">&lt;=50K</td></tr><tr><td class = \"rowNumber\" style = \"font-weight: bold; text-align: right;\">48842</td><td style = \"text-align: left;\">Exec-managerial</td><td style = \"text-align: left;\">&gt;50K</td></tr></tbody></table></div>"
      ],
      "text/latex": [
       "\\begin{tabular}{r|cc}\n",
       "\t& occupation & class\\\\\n",
       "\t\\hline\n",
       "\t& String31 & String7\\\\\n",
       "\t\\hline\n",
       "\t1 & Machine-op-inspct & <=50K \\\\\n",
       "\t2 & Farming-fishing & <=50K \\\\\n",
       "\t3 & Protective-serv & >50K \\\\\n",
       "\t4 & Machine-op-inspct & >50K \\\\\n",
       "\t5 & ? & <=50K \\\\\n",
       "\t6 & Other-service & <=50K \\\\\n",
       "\t7 & ? & <=50K \\\\\n",
       "\t8 & Prof-specialty & >50K \\\\\n",
       "\t9 & Other-service & <=50K \\\\\n",
       "\t10 & Craft-repair & <=50K \\\\\n",
       "\t11 & Machine-op-inspct & >50K \\\\\n",
       "\t12 & Adm-clerical & <=50K \\\\\n",
       "\t13 & Adm-clerical & <=50K \\\\\n",
       "\t14 & ? & <=50K \\\\\n",
       "\t15 & Machine-op-inspct & >50K \\\\\n",
       "\t16 & Exec-managerial & >50K \\\\\n",
       "\t17 & Other-service & <=50K \\\\\n",
       "\t18 & Adm-clerical & <=50K \\\\\n",
       "\t19 & Machine-op-inspct & <=50K \\\\\n",
       "\t20 & Prof-specialty & >50K \\\\\n",
       "\t21 & Tech-support & >50K \\\\\n",
       "\t22 & Other-service & <=50K \\\\\n",
       "\t23 & ? & <=50K \\\\\n",
       "\t24 & Prof-specialty & <=50K \\\\\n",
       "\t25 & Prof-specialty & <=50K \\\\\n",
       "\t26 & Craft-repair & >50K \\\\\n",
       "\t27 & Adm-clerical & <=50K \\\\\n",
       "\t28 & Machine-op-inspct & <=50K \\\\\n",
       "\t29 & Craft-repair & <=50K \\\\\n",
       "\t30 & Prof-specialty & <=50K \\\\\n",
       "\t$\\dots$ & $\\dots$ & $\\dots$ \\\\\n",
       "\\end{tabular}\n"
      ],
      "text/plain": [
       "\u001b[1m48842×2 DataFrame\u001b[0m\n",
       "\u001b[1m   Row \u001b[0m│\u001b[1m occupation        \u001b[0m\u001b[1m class   \u001b[0m\n",
       "       │\u001b[90m String31          \u001b[0m\u001b[90m String7 \u001b[0m\n",
       "───────┼────────────────────────────\n",
       "     1 │ Machine-op-inspct  <=50K\n",
       "     2 │ Farming-fishing    <=50K\n",
       "     3 │ Protective-serv    >50K\n",
       "     4 │ Machine-op-inspct  >50K\n",
       "     5 │ ?                  <=50K\n",
       "     6 │ Other-service      <=50K\n",
       "     7 │ ?                  <=50K\n",
       "     8 │ Prof-specialty     >50K\n",
       "     9 │ Other-service      <=50K\n",
       "    10 │ Craft-repair       <=50K\n",
       "    11 │ Machine-op-inspct  >50K\n",
       "   ⋮   │         ⋮             ⋮\n",
       " 48833 │ Handlers-cleaners  <=50K\n",
       " 48834 │ Sales              <=50K\n",
       " 48835 │ Tech-support       <=50K\n",
       " 48836 │ Exec-managerial    >50K\n",
       " 48837 │ Protective-serv    <=50K\n",
       " 48838 │ Tech-support       <=50K\n",
       " 48839 │ Machine-op-inspct  >50K\n",
       " 48840 │ Adm-clerical       <=50K\n",
       " 48841 │ Adm-clerical       <=50K\n",
       " 48842 │ Exec-managerial    >50K\n",
       "\u001b[36m                  48821 rows omitted\u001b[0m"
      ]
     },
     "execution_count": 62,
     "metadata": {},
     "output_type": "execute_result"
    }
   ],
   "source": [
    "select(df, [:occupation, :class])"
   ]
  },
  {
   "cell_type": "code",
   "execution_count": 65,
   "id": "0ad4f8b9-6f52-4bd6-b500-ad1a47e82ca3",
   "metadata": {},
   "outputs": [
    {
     "data": {
      "text/html": [
       "<div><div style = \"float: left;\"><span>48842×4 DataFrame</span></div><div style = \"float: right;\"><span style = \"font-style: italic;\">48817 rows omitted</span></div><div style = \"clear: both;\"></div></div><div class = \"data-frame\" style = \"overflow-x: scroll;\"><table class = \"data-frame\" style = \"margin-bottom: 6px;\"><thead><tr class = \"header\"><th class = \"rowNumber\" style = \"font-weight: bold; text-align: right;\">Row</th><th style = \"text-align: left;\">workclass</th><th style = \"text-align: left;\">fnlwgt</th><th style = \"text-align: left;\">education</th><th style = \"text-align: left;\">education_num</th></tr><tr class = \"subheader headerLastRow\"><th class = \"rowNumber\" style = \"font-weight: bold; text-align: right;\"></th><th title = \"String31\" style = \"text-align: left;\">String31</th><th title = \"Int64\" style = \"text-align: left;\">Int64</th><th title = \"String15\" style = \"text-align: left;\">String15</th><th title = \"Int64\" style = \"text-align: left;\">Int64</th></tr></thead><tbody><tr><td class = \"rowNumber\" style = \"font-weight: bold; text-align: right;\">1</td><td style = \"text-align: left;\">Private</td><td style = \"text-align: right;\">226802</td><td style = \"text-align: left;\">11th</td><td style = \"text-align: right;\">7</td></tr><tr><td class = \"rowNumber\" style = \"font-weight: bold; text-align: right;\">2</td><td style = \"text-align: left;\">Private</td><td style = \"text-align: right;\">89814</td><td style = \"text-align: left;\">HS-grad</td><td style = \"text-align: right;\">9</td></tr><tr><td class = \"rowNumber\" style = \"font-weight: bold; text-align: right;\">3</td><td style = \"text-align: left;\">Local-gov</td><td style = \"text-align: right;\">336951</td><td style = \"text-align: left;\">Assoc-acdm</td><td style = \"text-align: right;\">12</td></tr><tr><td class = \"rowNumber\" style = \"font-weight: bold; text-align: right;\">4</td><td style = \"text-align: left;\">Private</td><td style = \"text-align: right;\">160323</td><td style = \"text-align: left;\">Some-college</td><td style = \"text-align: right;\">10</td></tr><tr><td class = \"rowNumber\" style = \"font-weight: bold; text-align: right;\">5</td><td style = \"text-align: left;\">?</td><td style = \"text-align: right;\">103497</td><td style = \"text-align: left;\">Some-college</td><td style = \"text-align: right;\">10</td></tr><tr><td class = \"rowNumber\" style = \"font-weight: bold; text-align: right;\">6</td><td style = \"text-align: left;\">Private</td><td style = \"text-align: right;\">198693</td><td style = \"text-align: left;\">10th</td><td style = \"text-align: right;\">6</td></tr><tr><td class = \"rowNumber\" style = \"font-weight: bold; text-align: right;\">7</td><td style = \"text-align: left;\">?</td><td style = \"text-align: right;\">227026</td><td style = \"text-align: left;\">HS-grad</td><td style = \"text-align: right;\">9</td></tr><tr><td class = \"rowNumber\" style = \"font-weight: bold; text-align: right;\">8</td><td style = \"text-align: left;\">Self-emp-not-inc</td><td style = \"text-align: right;\">104626</td><td style = \"text-align: left;\">Prof-school</td><td style = \"text-align: right;\">15</td></tr><tr><td class = \"rowNumber\" style = \"font-weight: bold; text-align: right;\">9</td><td style = \"text-align: left;\">Private</td><td style = \"text-align: right;\">369667</td><td style = \"text-align: left;\">Some-college</td><td style = \"text-align: right;\">10</td></tr><tr><td class = \"rowNumber\" style = \"font-weight: bold; text-align: right;\">10</td><td style = \"text-align: left;\">Private</td><td style = \"text-align: right;\">104996</td><td style = \"text-align: left;\">7th-8th</td><td style = \"text-align: right;\">4</td></tr><tr><td class = \"rowNumber\" style = \"font-weight: bold; text-align: right;\">11</td><td style = \"text-align: left;\">Private</td><td style = \"text-align: right;\">184454</td><td style = \"text-align: left;\">HS-grad</td><td style = \"text-align: right;\">9</td></tr><tr><td class = \"rowNumber\" style = \"font-weight: bold; text-align: right;\">12</td><td style = \"text-align: left;\">Federal-gov</td><td style = \"text-align: right;\">212465</td><td style = \"text-align: left;\">Bachelors</td><td style = \"text-align: right;\">13</td></tr><tr><td class = \"rowNumber\" style = \"font-weight: bold; text-align: right;\">13</td><td style = \"text-align: left;\">Private</td><td style = \"text-align: right;\">82091</td><td style = \"text-align: left;\">HS-grad</td><td style = \"text-align: right;\">9</td></tr><tr><td style = \"text-align: right;\">&vellip;</td><td style = \"text-align: right;\">&vellip;</td><td style = \"text-align: right;\">&vellip;</td><td style = \"text-align: right;\">&vellip;</td><td style = \"text-align: right;\">&vellip;</td></tr><tr><td class = \"rowNumber\" style = \"font-weight: bold; text-align: right;\">48831</td><td style = \"text-align: left;\">State-gov</td><td style = \"text-align: right;\">255835</td><td style = \"text-align: left;\">Some-college</td><td style = \"text-align: right;\">10</td></tr><tr><td class = \"rowNumber\" style = \"font-weight: bold; text-align: right;\">48832</td><td style = \"text-align: left;\">Self-emp-not-inc</td><td style = \"text-align: right;\">27242</td><td style = \"text-align: left;\">Some-college</td><td style = \"text-align: right;\">10</td></tr><tr><td class = \"rowNumber\" style = \"font-weight: bold; text-align: right;\">48833</td><td style = \"text-align: left;\">Private</td><td style = \"text-align: right;\">34066</td><td style = \"text-align: left;\">10th</td><td style = \"text-align: right;\">6</td></tr><tr><td class = \"rowNumber\" style = \"font-weight: bold; text-align: right;\">48834</td><td style = \"text-align: left;\">Private</td><td style = \"text-align: right;\">84661</td><td style = \"text-align: left;\">Assoc-voc</td><td style = \"text-align: right;\">11</td></tr><tr><td class = \"rowNumber\" style = \"font-weight: bold; text-align: right;\">48835</td><td style = \"text-align: left;\">Private</td><td style = \"text-align: right;\">116138</td><td style = \"text-align: left;\">Masters</td><td style = \"text-align: right;\">14</td></tr><tr><td class = \"rowNumber\" style = \"font-weight: bold; text-align: right;\">48836</td><td style = \"text-align: left;\">Private</td><td style = \"text-align: right;\">321865</td><td style = \"text-align: left;\">Masters</td><td style = \"text-align: right;\">14</td></tr><tr><td class = \"rowNumber\" style = \"font-weight: bold; text-align: right;\">48837</td><td style = \"text-align: left;\">Private</td><td style = \"text-align: right;\">310152</td><td style = \"text-align: left;\">Some-college</td><td style = \"text-align: right;\">10</td></tr><tr><td class = \"rowNumber\" style = \"font-weight: bold; text-align: right;\">48838</td><td style = \"text-align: left;\">Private</td><td style = \"text-align: right;\">257302</td><td style = \"text-align: left;\">Assoc-acdm</td><td style = \"text-align: right;\">12</td></tr><tr><td class = \"rowNumber\" style = \"font-weight: bold; text-align: right;\">48839</td><td style = \"text-align: left;\">Private</td><td style = \"text-align: right;\">154374</td><td style = \"text-align: left;\">HS-grad</td><td style = \"text-align: right;\">9</td></tr><tr><td class = \"rowNumber\" style = \"font-weight: bold; text-align: right;\">48840</td><td style = \"text-align: left;\">Private</td><td style = \"text-align: right;\">151910</td><td style = \"text-align: left;\">HS-grad</td><td style = \"text-align: right;\">9</td></tr><tr><td class = \"rowNumber\" style = \"font-weight: bold; text-align: right;\">48841</td><td style = \"text-align: left;\">Private</td><td style = \"text-align: right;\">201490</td><td style = \"text-align: left;\">HS-grad</td><td style = \"text-align: right;\">9</td></tr><tr><td class = \"rowNumber\" style = \"font-weight: bold; text-align: right;\">48842</td><td style = \"text-align: left;\">Self-emp-inc</td><td style = \"text-align: right;\">287927</td><td style = \"text-align: left;\">HS-grad</td><td style = \"text-align: right;\">9</td></tr></tbody></table></div>"
      ],
      "text/latex": [
       "\\begin{tabular}{r|cccc}\n",
       "\t& workclass & fnlwgt & education & education\\_num\\\\\n",
       "\t\\hline\n",
       "\t& String31 & Int64 & String15 & Int64\\\\\n",
       "\t\\hline\n",
       "\t1 & Private & 226802 & 11th & 7 \\\\\n",
       "\t2 & Private & 89814 & HS-grad & 9 \\\\\n",
       "\t3 & Local-gov & 336951 & Assoc-acdm & 12 \\\\\n",
       "\t4 & Private & 160323 & Some-college & 10 \\\\\n",
       "\t5 & ? & 103497 & Some-college & 10 \\\\\n",
       "\t6 & Private & 198693 & 10th & 6 \\\\\n",
       "\t7 & ? & 227026 & HS-grad & 9 \\\\\n",
       "\t8 & Self-emp-not-inc & 104626 & Prof-school & 15 \\\\\n",
       "\t9 & Private & 369667 & Some-college & 10 \\\\\n",
       "\t10 & Private & 104996 & 7th-8th & 4 \\\\\n",
       "\t11 & Private & 184454 & HS-grad & 9 \\\\\n",
       "\t12 & Federal-gov & 212465 & Bachelors & 13 \\\\\n",
       "\t13 & Private & 82091 & HS-grad & 9 \\\\\n",
       "\t14 & ? & 299831 & HS-grad & 9 \\\\\n",
       "\t15 & Private & 279724 & HS-grad & 9 \\\\\n",
       "\t16 & Private & 346189 & Masters & 14 \\\\\n",
       "\t17 & State-gov & 444554 & Some-college & 10 \\\\\n",
       "\t18 & Private & 128354 & HS-grad & 9 \\\\\n",
       "\t19 & Private & 60548 & HS-grad & 9 \\\\\n",
       "\t20 & Private & 85019 & Doctorate & 16 \\\\\n",
       "\t21 & Private & 107914 & Bachelors & 13 \\\\\n",
       "\t22 & Private & 238588 & Some-college & 10 \\\\\n",
       "\t23 & ? & 132015 & 7th-8th & 4 \\\\\n",
       "\t24 & Private & 220931 & Bachelors & 13 \\\\\n",
       "\t25 & Private & 205947 & Bachelors & 13 \\\\\n",
       "\t26 & Self-emp-not-inc & 432824 & HS-grad & 9 \\\\\n",
       "\t27 & Private & 236427 & HS-grad & 9 \\\\\n",
       "\t28 & Private & 134446 & HS-grad & 9 \\\\\n",
       "\t29 & Private & 99516 & HS-grad & 9 \\\\\n",
       "\t30 & Self-emp-not-inc & 109282 & Some-college & 10 \\\\\n",
       "\t$\\dots$ & $\\dots$ & $\\dots$ & $\\dots$ & $\\dots$ \\\\\n",
       "\\end{tabular}\n"
      ],
      "text/plain": [
       "\u001b[1m48842×4 DataFrame\u001b[0m\n",
       "\u001b[1m   Row \u001b[0m│\u001b[1m workclass        \u001b[0m\u001b[1m fnlwgt \u001b[0m\u001b[1m education    \u001b[0m\u001b[1m education_num \u001b[0m\n",
       "       │\u001b[90m String31         \u001b[0m\u001b[90m Int64  \u001b[0m\u001b[90m String15     \u001b[0m\u001b[90m Int64         \u001b[0m\n",
       "───────┼───────────────────────────────────────────────────────\n",
       "     1 │ Private           226802  11th                      7\n",
       "     2 │ Private            89814  HS-grad                   9\n",
       "     3 │ Local-gov         336951  Assoc-acdm               12\n",
       "     4 │ Private           160323  Some-college             10\n",
       "     5 │ ?                 103497  Some-college             10\n",
       "     6 │ Private           198693  10th                      6\n",
       "     7 │ ?                 227026  HS-grad                   9\n",
       "     8 │ Self-emp-not-inc  104626  Prof-school              15\n",
       "     9 │ Private           369667  Some-college             10\n",
       "    10 │ Private           104996  7th-8th                   4\n",
       "    11 │ Private           184454  HS-grad                   9\n",
       "   ⋮   │        ⋮            ⋮          ⋮              ⋮\n",
       " 48833 │ Private            34066  10th                      6\n",
       " 48834 │ Private            84661  Assoc-voc                11\n",
       " 48835 │ Private           116138  Masters                  14\n",
       " 48836 │ Private           321865  Masters                  14\n",
       " 48837 │ Private           310152  Some-college             10\n",
       " 48838 │ Private           257302  Assoc-acdm               12\n",
       " 48839 │ Private           154374  HS-grad                   9\n",
       " 48840 │ Private           151910  HS-grad                   9\n",
       " 48841 │ Private           201490  HS-grad                   9\n",
       " 48842 │ Self-emp-inc      287927  HS-grad                   9\n",
       "\u001b[36m                                             48821 rows omitted\u001b[0m"
      ]
     },
     "execution_count": 65,
     "metadata": {},
     "output_type": "execute_result"
    }
   ],
   "source": [
    "select(df, 2:5)"
   ]
  },
  {
   "cell_type": "code",
   "execution_count": 66,
   "id": "899c7abb-89b4-43fe-b5ae-fc27b401f353",
   "metadata": {},
   "outputs": [
    {
     "data": {
      "text/html": [
       "<div><div style = \"float: left;\"><span>48842×1 DataFrame</span></div><div style = \"float: right;\"><span style = \"font-style: italic;\">48817 rows omitted</span></div><div style = \"clear: both;\"></div></div><div class = \"data-frame\" style = \"overflow-x: scroll;\"><table class = \"data-frame\" style = \"margin-bottom: 6px;\"><thead><tr class = \"header\"><th class = \"rowNumber\" style = \"font-weight: bold; text-align: right;\">Row</th><th style = \"text-align: left;\">occupation</th></tr><tr class = \"subheader headerLastRow\"><th class = \"rowNumber\" style = \"font-weight: bold; text-align: right;\"></th><th title = \"String31\" style = \"text-align: left;\">String31</th></tr></thead><tbody><tr><td class = \"rowNumber\" style = \"font-weight: bold; text-align: right;\">1</td><td style = \"text-align: left;\">Machine-op-inspct</td></tr><tr><td class = \"rowNumber\" style = \"font-weight: bold; text-align: right;\">2</td><td style = \"text-align: left;\">Farming-fishing</td></tr><tr><td class = \"rowNumber\" style = \"font-weight: bold; text-align: right;\">3</td><td style = \"text-align: left;\">Protective-serv</td></tr><tr><td class = \"rowNumber\" style = \"font-weight: bold; text-align: right;\">4</td><td style = \"text-align: left;\">Machine-op-inspct</td></tr><tr><td class = \"rowNumber\" style = \"font-weight: bold; text-align: right;\">5</td><td style = \"text-align: left;\">?</td></tr><tr><td class = \"rowNumber\" style = \"font-weight: bold; text-align: right;\">6</td><td style = \"text-align: left;\">Other-service</td></tr><tr><td class = \"rowNumber\" style = \"font-weight: bold; text-align: right;\">7</td><td style = \"text-align: left;\">?</td></tr><tr><td class = \"rowNumber\" style = \"font-weight: bold; text-align: right;\">8</td><td style = \"text-align: left;\">Prof-specialty</td></tr><tr><td class = \"rowNumber\" style = \"font-weight: bold; text-align: right;\">9</td><td style = \"text-align: left;\">Other-service</td></tr><tr><td class = \"rowNumber\" style = \"font-weight: bold; text-align: right;\">10</td><td style = \"text-align: left;\">Craft-repair</td></tr><tr><td class = \"rowNumber\" style = \"font-weight: bold; text-align: right;\">11</td><td style = \"text-align: left;\">Machine-op-inspct</td></tr><tr><td class = \"rowNumber\" style = \"font-weight: bold; text-align: right;\">12</td><td style = \"text-align: left;\">Adm-clerical</td></tr><tr><td class = \"rowNumber\" style = \"font-weight: bold; text-align: right;\">13</td><td style = \"text-align: left;\">Adm-clerical</td></tr><tr><td style = \"text-align: right;\">&vellip;</td><td style = \"text-align: right;\">&vellip;</td></tr><tr><td class = \"rowNumber\" style = \"font-weight: bold; text-align: right;\">48831</td><td style = \"text-align: left;\">Adm-clerical</td></tr><tr><td class = \"rowNumber\" style = \"font-weight: bold; text-align: right;\">48832</td><td style = \"text-align: left;\">Craft-repair</td></tr><tr><td class = \"rowNumber\" style = \"font-weight: bold; text-align: right;\">48833</td><td style = \"text-align: left;\">Handlers-cleaners</td></tr><tr><td class = \"rowNumber\" style = \"font-weight: bold; text-align: right;\">48834</td><td style = \"text-align: left;\">Sales</td></tr><tr><td class = \"rowNumber\" style = \"font-weight: bold; text-align: right;\">48835</td><td style = \"text-align: left;\">Tech-support</td></tr><tr><td class = \"rowNumber\" style = \"font-weight: bold; text-align: right;\">48836</td><td style = \"text-align: left;\">Exec-managerial</td></tr><tr><td class = \"rowNumber\" style = \"font-weight: bold; text-align: right;\">48837</td><td style = \"text-align: left;\">Protective-serv</td></tr><tr><td class = \"rowNumber\" style = \"font-weight: bold; text-align: right;\">48838</td><td style = \"text-align: left;\">Tech-support</td></tr><tr><td class = \"rowNumber\" style = \"font-weight: bold; text-align: right;\">48839</td><td style = \"text-align: left;\">Machine-op-inspct</td></tr><tr><td class = \"rowNumber\" style = \"font-weight: bold; text-align: right;\">48840</td><td style = \"text-align: left;\">Adm-clerical</td></tr><tr><td class = \"rowNumber\" style = \"font-weight: bold; text-align: right;\">48841</td><td style = \"text-align: left;\">Adm-clerical</td></tr><tr><td class = \"rowNumber\" style = \"font-weight: bold; text-align: right;\">48842</td><td style = \"text-align: left;\">Exec-managerial</td></tr></tbody></table></div>"
      ],
      "text/latex": [
       "\\begin{tabular}{r|c}\n",
       "\t& occupation\\\\\n",
       "\t\\hline\n",
       "\t& String31\\\\\n",
       "\t\\hline\n",
       "\t1 & Machine-op-inspct \\\\\n",
       "\t2 & Farming-fishing \\\\\n",
       "\t3 & Protective-serv \\\\\n",
       "\t4 & Machine-op-inspct \\\\\n",
       "\t5 & ? \\\\\n",
       "\t6 & Other-service \\\\\n",
       "\t7 & ? \\\\\n",
       "\t8 & Prof-specialty \\\\\n",
       "\t9 & Other-service \\\\\n",
       "\t10 & Craft-repair \\\\\n",
       "\t11 & Machine-op-inspct \\\\\n",
       "\t12 & Adm-clerical \\\\\n",
       "\t13 & Adm-clerical \\\\\n",
       "\t14 & ? \\\\\n",
       "\t15 & Machine-op-inspct \\\\\n",
       "\t16 & Exec-managerial \\\\\n",
       "\t17 & Other-service \\\\\n",
       "\t18 & Adm-clerical \\\\\n",
       "\t19 & Machine-op-inspct \\\\\n",
       "\t20 & Prof-specialty \\\\\n",
       "\t21 & Tech-support \\\\\n",
       "\t22 & Other-service \\\\\n",
       "\t23 & ? \\\\\n",
       "\t24 & Prof-specialty \\\\\n",
       "\t25 & Prof-specialty \\\\\n",
       "\t26 & Craft-repair \\\\\n",
       "\t27 & Adm-clerical \\\\\n",
       "\t28 & Machine-op-inspct \\\\\n",
       "\t29 & Craft-repair \\\\\n",
       "\t30 & Prof-specialty \\\\\n",
       "\t$\\dots$ & $\\dots$ \\\\\n",
       "\\end{tabular}\n"
      ],
      "text/plain": [
       "\u001b[1m48842×1 DataFrame\u001b[0m\n",
       "\u001b[1m   Row \u001b[0m│\u001b[1m occupation        \u001b[0m\n",
       "       │\u001b[90m String31          \u001b[0m\n",
       "───────┼───────────────────\n",
       "     1 │ Machine-op-inspct\n",
       "     2 │ Farming-fishing\n",
       "     3 │ Protective-serv\n",
       "     4 │ Machine-op-inspct\n",
       "     5 │ ?\n",
       "     6 │ Other-service\n",
       "     7 │ ?\n",
       "     8 │ Prof-specialty\n",
       "     9 │ Other-service\n",
       "    10 │ Craft-repair\n",
       "    11 │ Machine-op-inspct\n",
       "   ⋮   │         ⋮\n",
       " 48833 │ Handlers-cleaners\n",
       " 48834 │ Sales\n",
       " 48835 │ Tech-support\n",
       " 48836 │ Exec-managerial\n",
       " 48837 │ Protective-serv\n",
       " 48838 │ Tech-support\n",
       " 48839 │ Machine-op-inspct\n",
       " 48840 │ Adm-clerical\n",
       " 48841 │ Adm-clerical\n",
       " 48842 │ Exec-managerial\n",
       "\u001b[36m         48821 rows omitted\u001b[0m"
      ]
     },
     "execution_count": 66,
     "metadata": {},
     "output_type": "execute_result"
    }
   ],
   "source": [
    "select(df, r\"^o\")"
   ]
  },
  {
   "cell_type": "code",
   "execution_count": 67,
   "id": "6fa26056-2e2c-4afd-bd6f-f7d5970a7c01",
   "metadata": {},
   "outputs": [
    {
     "data": {
      "text/html": [
       "<div><div style = \"float: left;\"><span>48842×14 DataFrame</span></div><div style = \"float: right;\"><span style = \"font-style: italic;\">48817 rows omitted</span></div><div style = \"clear: both;\"></div></div><div class = \"data-frame\" style = \"overflow-x: scroll;\"><table class = \"data-frame\" style = \"margin-bottom: 6px;\"><thead><tr class = \"header\"><th class = \"rowNumber\" style = \"font-weight: bold; text-align: right;\">Row</th><th style = \"text-align: left;\">age</th><th style = \"text-align: left;\">workclass</th><th style = \"text-align: left;\">education</th><th style = \"text-align: left;\">education_num</th><th style = \"text-align: left;\">marital_status</th><th style = \"text-align: left;\">occupation</th><th style = \"text-align: left;\">relationship</th><th style = \"text-align: left;\">race</th><th style = \"text-align: left;\">sex</th><th style = \"text-align: left;\">capital_gain</th><th style = \"text-align: left;\">capital_loss</th><th style = \"text-align: left;\">hours_per_week</th><th style = \"text-align: left;\">native_country</th><th style = \"text-align: left;\">class</th></tr><tr class = \"subheader headerLastRow\"><th class = \"rowNumber\" style = \"font-weight: bold; text-align: right;\"></th><th title = \"Int64\" style = \"text-align: left;\">Int64</th><th title = \"String31\" style = \"text-align: left;\">String31</th><th title = \"String15\" style = \"text-align: left;\">String15</th><th title = \"Int64\" style = \"text-align: left;\">Int64</th><th title = \"String31\" style = \"text-align: left;\">String31</th><th title = \"String31\" style = \"text-align: left;\">String31</th><th title = \"String15\" style = \"text-align: left;\">String15</th><th title = \"String31\" style = \"text-align: left;\">String31</th><th title = \"String7\" style = \"text-align: left;\">String7</th><th title = \"Int64\" style = \"text-align: left;\">Int64</th><th title = \"Int64\" style = \"text-align: left;\">Int64</th><th title = \"Int64\" style = \"text-align: left;\">Int64</th><th title = \"String31\" style = \"text-align: left;\">String31</th><th title = \"String7\" style = \"text-align: left;\">String7</th></tr></thead><tbody><tr><td class = \"rowNumber\" style = \"font-weight: bold; text-align: right;\">1</td><td style = \"text-align: right;\">25</td><td style = \"text-align: left;\">Private</td><td style = \"text-align: left;\">11th</td><td style = \"text-align: right;\">7</td><td style = \"text-align: left;\">Never-married</td><td style = \"text-align: left;\">Machine-op-inspct</td><td style = \"text-align: left;\">Own-child</td><td style = \"text-align: left;\">Black</td><td style = \"text-align: left;\">Male</td><td style = \"text-align: right;\">0</td><td style = \"text-align: right;\">0</td><td style = \"text-align: right;\">40</td><td style = \"text-align: left;\">United-States</td><td style = \"text-align: left;\">&lt;=50K</td></tr><tr><td class = \"rowNumber\" style = \"font-weight: bold; text-align: right;\">2</td><td style = \"text-align: right;\">38</td><td style = \"text-align: left;\">Private</td><td style = \"text-align: left;\">HS-grad</td><td style = \"text-align: right;\">9</td><td style = \"text-align: left;\">Married-civ-spouse</td><td style = \"text-align: left;\">Farming-fishing</td><td style = \"text-align: left;\">Husband</td><td style = \"text-align: left;\">White</td><td style = \"text-align: left;\">Male</td><td style = \"text-align: right;\">0</td><td style = \"text-align: right;\">0</td><td style = \"text-align: right;\">50</td><td style = \"text-align: left;\">United-States</td><td style = \"text-align: left;\">&lt;=50K</td></tr><tr><td class = \"rowNumber\" style = \"font-weight: bold; text-align: right;\">3</td><td style = \"text-align: right;\">28</td><td style = \"text-align: left;\">Local-gov</td><td style = \"text-align: left;\">Assoc-acdm</td><td style = \"text-align: right;\">12</td><td style = \"text-align: left;\">Married-civ-spouse</td><td style = \"text-align: left;\">Protective-serv</td><td style = \"text-align: left;\">Husband</td><td style = \"text-align: left;\">White</td><td style = \"text-align: left;\">Male</td><td style = \"text-align: right;\">0</td><td style = \"text-align: right;\">0</td><td style = \"text-align: right;\">40</td><td style = \"text-align: left;\">United-States</td><td style = \"text-align: left;\">&gt;50K</td></tr><tr><td class = \"rowNumber\" style = \"font-weight: bold; text-align: right;\">4</td><td style = \"text-align: right;\">44</td><td style = \"text-align: left;\">Private</td><td style = \"text-align: left;\">Some-college</td><td style = \"text-align: right;\">10</td><td style = \"text-align: left;\">Married-civ-spouse</td><td style = \"text-align: left;\">Machine-op-inspct</td><td style = \"text-align: left;\">Husband</td><td style = \"text-align: left;\">Black</td><td style = \"text-align: left;\">Male</td><td style = \"text-align: right;\">7688</td><td style = \"text-align: right;\">0</td><td style = \"text-align: right;\">40</td><td style = \"text-align: left;\">United-States</td><td style = \"text-align: left;\">&gt;50K</td></tr><tr><td class = \"rowNumber\" style = \"font-weight: bold; text-align: right;\">5</td><td style = \"text-align: right;\">18</td><td style = \"text-align: left;\">?</td><td style = \"text-align: left;\">Some-college</td><td style = \"text-align: right;\">10</td><td style = \"text-align: left;\">Never-married</td><td style = \"text-align: left;\">?</td><td style = \"text-align: left;\">Own-child</td><td style = \"text-align: left;\">White</td><td style = \"text-align: left;\">Female</td><td style = \"text-align: right;\">0</td><td style = \"text-align: right;\">0</td><td style = \"text-align: right;\">30</td><td style = \"text-align: left;\">United-States</td><td style = \"text-align: left;\">&lt;=50K</td></tr><tr><td class = \"rowNumber\" style = \"font-weight: bold; text-align: right;\">6</td><td style = \"text-align: right;\">34</td><td style = \"text-align: left;\">Private</td><td style = \"text-align: left;\">10th</td><td style = \"text-align: right;\">6</td><td style = \"text-align: left;\">Never-married</td><td style = \"text-align: left;\">Other-service</td><td style = \"text-align: left;\">Not-in-family</td><td style = \"text-align: left;\">White</td><td style = \"text-align: left;\">Male</td><td style = \"text-align: right;\">0</td><td style = \"text-align: right;\">0</td><td style = \"text-align: right;\">30</td><td style = \"text-align: left;\">United-States</td><td style = \"text-align: left;\">&lt;=50K</td></tr><tr><td class = \"rowNumber\" style = \"font-weight: bold; text-align: right;\">7</td><td style = \"text-align: right;\">29</td><td style = \"text-align: left;\">?</td><td style = \"text-align: left;\">HS-grad</td><td style = \"text-align: right;\">9</td><td style = \"text-align: left;\">Never-married</td><td style = \"text-align: left;\">?</td><td style = \"text-align: left;\">Unmarried</td><td style = \"text-align: left;\">Black</td><td style = \"text-align: left;\">Male</td><td style = \"text-align: right;\">0</td><td style = \"text-align: right;\">0</td><td style = \"text-align: right;\">40</td><td style = \"text-align: left;\">United-States</td><td style = \"text-align: left;\">&lt;=50K</td></tr><tr><td class = \"rowNumber\" style = \"font-weight: bold; text-align: right;\">8</td><td style = \"text-align: right;\">63</td><td style = \"text-align: left;\">Self-emp-not-inc</td><td style = \"text-align: left;\">Prof-school</td><td style = \"text-align: right;\">15</td><td style = \"text-align: left;\">Married-civ-spouse</td><td style = \"text-align: left;\">Prof-specialty</td><td style = \"text-align: left;\">Husband</td><td style = \"text-align: left;\">White</td><td style = \"text-align: left;\">Male</td><td style = \"text-align: right;\">3103</td><td style = \"text-align: right;\">0</td><td style = \"text-align: right;\">32</td><td style = \"text-align: left;\">United-States</td><td style = \"text-align: left;\">&gt;50K</td></tr><tr><td class = \"rowNumber\" style = \"font-weight: bold; text-align: right;\">9</td><td style = \"text-align: right;\">24</td><td style = \"text-align: left;\">Private</td><td style = \"text-align: left;\">Some-college</td><td style = \"text-align: right;\">10</td><td style = \"text-align: left;\">Never-married</td><td style = \"text-align: left;\">Other-service</td><td style = \"text-align: left;\">Unmarried</td><td style = \"text-align: left;\">White</td><td style = \"text-align: left;\">Female</td><td style = \"text-align: right;\">0</td><td style = \"text-align: right;\">0</td><td style = \"text-align: right;\">40</td><td style = \"text-align: left;\">United-States</td><td style = \"text-align: left;\">&lt;=50K</td></tr><tr><td class = \"rowNumber\" style = \"font-weight: bold; text-align: right;\">10</td><td style = \"text-align: right;\">55</td><td style = \"text-align: left;\">Private</td><td style = \"text-align: left;\">7th-8th</td><td style = \"text-align: right;\">4</td><td style = \"text-align: left;\">Married-civ-spouse</td><td style = \"text-align: left;\">Craft-repair</td><td style = \"text-align: left;\">Husband</td><td style = \"text-align: left;\">White</td><td style = \"text-align: left;\">Male</td><td style = \"text-align: right;\">0</td><td style = \"text-align: right;\">0</td><td style = \"text-align: right;\">10</td><td style = \"text-align: left;\">United-States</td><td style = \"text-align: left;\">&lt;=50K</td></tr><tr><td class = \"rowNumber\" style = \"font-weight: bold; text-align: right;\">11</td><td style = \"text-align: right;\">65</td><td style = \"text-align: left;\">Private</td><td style = \"text-align: left;\">HS-grad</td><td style = \"text-align: right;\">9</td><td style = \"text-align: left;\">Married-civ-spouse</td><td style = \"text-align: left;\">Machine-op-inspct</td><td style = \"text-align: left;\">Husband</td><td style = \"text-align: left;\">White</td><td style = \"text-align: left;\">Male</td><td style = \"text-align: right;\">6418</td><td style = \"text-align: right;\">0</td><td style = \"text-align: right;\">40</td><td style = \"text-align: left;\">United-States</td><td style = \"text-align: left;\">&gt;50K</td></tr><tr><td class = \"rowNumber\" style = \"font-weight: bold; text-align: right;\">12</td><td style = \"text-align: right;\">36</td><td style = \"text-align: left;\">Federal-gov</td><td style = \"text-align: left;\">Bachelors</td><td style = \"text-align: right;\">13</td><td style = \"text-align: left;\">Married-civ-spouse</td><td style = \"text-align: left;\">Adm-clerical</td><td style = \"text-align: left;\">Husband</td><td style = \"text-align: left;\">White</td><td style = \"text-align: left;\">Male</td><td style = \"text-align: right;\">0</td><td style = \"text-align: right;\">0</td><td style = \"text-align: right;\">40</td><td style = \"text-align: left;\">United-States</td><td style = \"text-align: left;\">&lt;=50K</td></tr><tr><td class = \"rowNumber\" style = \"font-weight: bold; text-align: right;\">13</td><td style = \"text-align: right;\">26</td><td style = \"text-align: left;\">Private</td><td style = \"text-align: left;\">HS-grad</td><td style = \"text-align: right;\">9</td><td style = \"text-align: left;\">Never-married</td><td style = \"text-align: left;\">Adm-clerical</td><td style = \"text-align: left;\">Not-in-family</td><td style = \"text-align: left;\">White</td><td style = \"text-align: left;\">Female</td><td style = \"text-align: right;\">0</td><td style = \"text-align: right;\">0</td><td style = \"text-align: right;\">39</td><td style = \"text-align: left;\">United-States</td><td style = \"text-align: left;\">&lt;=50K</td></tr><tr><td style = \"text-align: right;\">&vellip;</td><td style = \"text-align: right;\">&vellip;</td><td style = \"text-align: right;\">&vellip;</td><td style = \"text-align: right;\">&vellip;</td><td style = \"text-align: right;\">&vellip;</td><td style = \"text-align: right;\">&vellip;</td><td style = \"text-align: right;\">&vellip;</td><td style = \"text-align: right;\">&vellip;</td><td style = \"text-align: right;\">&vellip;</td><td style = \"text-align: right;\">&vellip;</td><td style = \"text-align: right;\">&vellip;</td><td style = \"text-align: right;\">&vellip;</td><td style = \"text-align: right;\">&vellip;</td><td style = \"text-align: right;\">&vellip;</td><td style = \"text-align: right;\">&vellip;</td></tr><tr><td class = \"rowNumber\" style = \"font-weight: bold; text-align: right;\">48831</td><td style = \"text-align: right;\">43</td><td style = \"text-align: left;\">State-gov</td><td style = \"text-align: left;\">Some-college</td><td style = \"text-align: right;\">10</td><td style = \"text-align: left;\">Divorced</td><td style = \"text-align: left;\">Adm-clerical</td><td style = \"text-align: left;\">Other-relative</td><td style = \"text-align: left;\">White</td><td style = \"text-align: left;\">Female</td><td style = \"text-align: right;\">0</td><td style = \"text-align: right;\">0</td><td style = \"text-align: right;\">40</td><td style = \"text-align: left;\">United-States</td><td style = \"text-align: left;\">&lt;=50K</td></tr><tr><td class = \"rowNumber\" style = \"font-weight: bold; text-align: right;\">48832</td><td style = \"text-align: right;\">43</td><td style = \"text-align: left;\">Self-emp-not-inc</td><td style = \"text-align: left;\">Some-college</td><td style = \"text-align: right;\">10</td><td style = \"text-align: left;\">Married-civ-spouse</td><td style = \"text-align: left;\">Craft-repair</td><td style = \"text-align: left;\">Husband</td><td style = \"text-align: left;\">White</td><td style = \"text-align: left;\">Male</td><td style = \"text-align: right;\">0</td><td style = \"text-align: right;\">0</td><td style = \"text-align: right;\">50</td><td style = \"text-align: left;\">United-States</td><td style = \"text-align: left;\">&lt;=50K</td></tr><tr><td class = \"rowNumber\" style = \"font-weight: bold; text-align: right;\">48833</td><td style = \"text-align: right;\">32</td><td style = \"text-align: left;\">Private</td><td style = \"text-align: left;\">10th</td><td style = \"text-align: right;\">6</td><td style = \"text-align: left;\">Married-civ-spouse</td><td style = \"text-align: left;\">Handlers-cleaners</td><td style = \"text-align: left;\">Husband</td><td style = \"text-align: left;\">Amer-Indian-Eskimo</td><td style = \"text-align: left;\">Male</td><td style = \"text-align: right;\">0</td><td style = \"text-align: right;\">0</td><td style = \"text-align: right;\">40</td><td style = \"text-align: left;\">United-States</td><td style = \"text-align: left;\">&lt;=50K</td></tr><tr><td class = \"rowNumber\" style = \"font-weight: bold; text-align: right;\">48834</td><td style = \"text-align: right;\">43</td><td style = \"text-align: left;\">Private</td><td style = \"text-align: left;\">Assoc-voc</td><td style = \"text-align: right;\">11</td><td style = \"text-align: left;\">Married-civ-spouse</td><td style = \"text-align: left;\">Sales</td><td style = \"text-align: left;\">Husband</td><td style = \"text-align: left;\">White</td><td style = \"text-align: left;\">Male</td><td style = \"text-align: right;\">0</td><td style = \"text-align: right;\">0</td><td style = \"text-align: right;\">45</td><td style = \"text-align: left;\">United-States</td><td style = \"text-align: left;\">&lt;=50K</td></tr><tr><td class = \"rowNumber\" style = \"font-weight: bold; text-align: right;\">48835</td><td style = \"text-align: right;\">32</td><td style = \"text-align: left;\">Private</td><td style = \"text-align: left;\">Masters</td><td style = \"text-align: right;\">14</td><td style = \"text-align: left;\">Never-married</td><td style = \"text-align: left;\">Tech-support</td><td style = \"text-align: left;\">Not-in-family</td><td style = \"text-align: left;\">Asian-Pac-Islander</td><td style = \"text-align: left;\">Male</td><td style = \"text-align: right;\">0</td><td style = \"text-align: right;\">0</td><td style = \"text-align: right;\">11</td><td style = \"text-align: left;\">Taiwan</td><td style = \"text-align: left;\">&lt;=50K</td></tr><tr><td class = \"rowNumber\" style = \"font-weight: bold; text-align: right;\">48836</td><td style = \"text-align: right;\">53</td><td style = \"text-align: left;\">Private</td><td style = \"text-align: left;\">Masters</td><td style = \"text-align: right;\">14</td><td style = \"text-align: left;\">Married-civ-spouse</td><td style = \"text-align: left;\">Exec-managerial</td><td style = \"text-align: left;\">Husband</td><td style = \"text-align: left;\">White</td><td style = \"text-align: left;\">Male</td><td style = \"text-align: right;\">0</td><td style = \"text-align: right;\">0</td><td style = \"text-align: right;\">40</td><td style = \"text-align: left;\">United-States</td><td style = \"text-align: left;\">&gt;50K</td></tr><tr><td class = \"rowNumber\" style = \"font-weight: bold; text-align: right;\">48837</td><td style = \"text-align: right;\">22</td><td style = \"text-align: left;\">Private</td><td style = \"text-align: left;\">Some-college</td><td style = \"text-align: right;\">10</td><td style = \"text-align: left;\">Never-married</td><td style = \"text-align: left;\">Protective-serv</td><td style = \"text-align: left;\">Not-in-family</td><td style = \"text-align: left;\">White</td><td style = \"text-align: left;\">Male</td><td style = \"text-align: right;\">0</td><td style = \"text-align: right;\">0</td><td style = \"text-align: right;\">40</td><td style = \"text-align: left;\">United-States</td><td style = \"text-align: left;\">&lt;=50K</td></tr><tr><td class = \"rowNumber\" style = \"font-weight: bold; text-align: right;\">48838</td><td style = \"text-align: right;\">27</td><td style = \"text-align: left;\">Private</td><td style = \"text-align: left;\">Assoc-acdm</td><td style = \"text-align: right;\">12</td><td style = \"text-align: left;\">Married-civ-spouse</td><td style = \"text-align: left;\">Tech-support</td><td style = \"text-align: left;\">Wife</td><td style = \"text-align: left;\">White</td><td style = \"text-align: left;\">Female</td><td style = \"text-align: right;\">0</td><td style = \"text-align: right;\">0</td><td style = \"text-align: right;\">38</td><td style = \"text-align: left;\">United-States</td><td style = \"text-align: left;\">&lt;=50K</td></tr><tr><td class = \"rowNumber\" style = \"font-weight: bold; text-align: right;\">48839</td><td style = \"text-align: right;\">40</td><td style = \"text-align: left;\">Private</td><td style = \"text-align: left;\">HS-grad</td><td style = \"text-align: right;\">9</td><td style = \"text-align: left;\">Married-civ-spouse</td><td style = \"text-align: left;\">Machine-op-inspct</td><td style = \"text-align: left;\">Husband</td><td style = \"text-align: left;\">White</td><td style = \"text-align: left;\">Male</td><td style = \"text-align: right;\">0</td><td style = \"text-align: right;\">0</td><td style = \"text-align: right;\">40</td><td style = \"text-align: left;\">United-States</td><td style = \"text-align: left;\">&gt;50K</td></tr><tr><td class = \"rowNumber\" style = \"font-weight: bold; text-align: right;\">48840</td><td style = \"text-align: right;\">58</td><td style = \"text-align: left;\">Private</td><td style = \"text-align: left;\">HS-grad</td><td style = \"text-align: right;\">9</td><td style = \"text-align: left;\">Widowed</td><td style = \"text-align: left;\">Adm-clerical</td><td style = \"text-align: left;\">Unmarried</td><td style = \"text-align: left;\">White</td><td style = \"text-align: left;\">Female</td><td style = \"text-align: right;\">0</td><td style = \"text-align: right;\">0</td><td style = \"text-align: right;\">40</td><td style = \"text-align: left;\">United-States</td><td style = \"text-align: left;\">&lt;=50K</td></tr><tr><td class = \"rowNumber\" style = \"font-weight: bold; text-align: right;\">48841</td><td style = \"text-align: right;\">22</td><td style = \"text-align: left;\">Private</td><td style = \"text-align: left;\">HS-grad</td><td style = \"text-align: right;\">9</td><td style = \"text-align: left;\">Never-married</td><td style = \"text-align: left;\">Adm-clerical</td><td style = \"text-align: left;\">Own-child</td><td style = \"text-align: left;\">White</td><td style = \"text-align: left;\">Male</td><td style = \"text-align: right;\">0</td><td style = \"text-align: right;\">0</td><td style = \"text-align: right;\">20</td><td style = \"text-align: left;\">United-States</td><td style = \"text-align: left;\">&lt;=50K</td></tr><tr><td class = \"rowNumber\" style = \"font-weight: bold; text-align: right;\">48842</td><td style = \"text-align: right;\">52</td><td style = \"text-align: left;\">Self-emp-inc</td><td style = \"text-align: left;\">HS-grad</td><td style = \"text-align: right;\">9</td><td style = \"text-align: left;\">Married-civ-spouse</td><td style = \"text-align: left;\">Exec-managerial</td><td style = \"text-align: left;\">Wife</td><td style = \"text-align: left;\">White</td><td style = \"text-align: left;\">Female</td><td style = \"text-align: right;\">15024</td><td style = \"text-align: right;\">0</td><td style = \"text-align: right;\">40</td><td style = \"text-align: left;\">United-States</td><td style = \"text-align: left;\">&gt;50K</td></tr></tbody></table></div>"
      ],
      "text/latex": [
       "\\begin{tabular}{r|ccccccc}\n",
       "\t& age & workclass & education & education\\_num & marital\\_status & occupation & \\\\\n",
       "\t\\hline\n",
       "\t& Int64 & String31 & String15 & Int64 & String31 & String31 & \\\\\n",
       "\t\\hline\n",
       "\t1 & 25 & Private & 11th & 7 & Never-married & Machine-op-inspct & $\\dots$ \\\\\n",
       "\t2 & 38 & Private & HS-grad & 9 & Married-civ-spouse & Farming-fishing & $\\dots$ \\\\\n",
       "\t3 & 28 & Local-gov & Assoc-acdm & 12 & Married-civ-spouse & Protective-serv & $\\dots$ \\\\\n",
       "\t4 & 44 & Private & Some-college & 10 & Married-civ-spouse & Machine-op-inspct & $\\dots$ \\\\\n",
       "\t5 & 18 & ? & Some-college & 10 & Never-married & ? & $\\dots$ \\\\\n",
       "\t6 & 34 & Private & 10th & 6 & Never-married & Other-service & $\\dots$ \\\\\n",
       "\t7 & 29 & ? & HS-grad & 9 & Never-married & ? & $\\dots$ \\\\\n",
       "\t8 & 63 & Self-emp-not-inc & Prof-school & 15 & Married-civ-spouse & Prof-specialty & $\\dots$ \\\\\n",
       "\t9 & 24 & Private & Some-college & 10 & Never-married & Other-service & $\\dots$ \\\\\n",
       "\t10 & 55 & Private & 7th-8th & 4 & Married-civ-spouse & Craft-repair & $\\dots$ \\\\\n",
       "\t11 & 65 & Private & HS-grad & 9 & Married-civ-spouse & Machine-op-inspct & $\\dots$ \\\\\n",
       "\t12 & 36 & Federal-gov & Bachelors & 13 & Married-civ-spouse & Adm-clerical & $\\dots$ \\\\\n",
       "\t13 & 26 & Private & HS-grad & 9 & Never-married & Adm-clerical & $\\dots$ \\\\\n",
       "\t14 & 58 & ? & HS-grad & 9 & Married-civ-spouse & ? & $\\dots$ \\\\\n",
       "\t15 & 48 & Private & HS-grad & 9 & Married-civ-spouse & Machine-op-inspct & $\\dots$ \\\\\n",
       "\t16 & 43 & Private & Masters & 14 & Married-civ-spouse & Exec-managerial & $\\dots$ \\\\\n",
       "\t17 & 20 & State-gov & Some-college & 10 & Never-married & Other-service & $\\dots$ \\\\\n",
       "\t18 & 43 & Private & HS-grad & 9 & Married-civ-spouse & Adm-clerical & $\\dots$ \\\\\n",
       "\t19 & 37 & Private & HS-grad & 9 & Widowed & Machine-op-inspct & $\\dots$ \\\\\n",
       "\t20 & 40 & Private & Doctorate & 16 & Married-civ-spouse & Prof-specialty & $\\dots$ \\\\\n",
       "\t21 & 34 & Private & Bachelors & 13 & Married-civ-spouse & Tech-support & $\\dots$ \\\\\n",
       "\t22 & 34 & Private & Some-college & 10 & Never-married & Other-service & $\\dots$ \\\\\n",
       "\t23 & 72 & ? & 7th-8th & 4 & Divorced & ? & $\\dots$ \\\\\n",
       "\t24 & 25 & Private & Bachelors & 13 & Never-married & Prof-specialty & $\\dots$ \\\\\n",
       "\t25 & 25 & Private & Bachelors & 13 & Married-civ-spouse & Prof-specialty & $\\dots$ \\\\\n",
       "\t26 & 45 & Self-emp-not-inc & HS-grad & 9 & Married-civ-spouse & Craft-repair & $\\dots$ \\\\\n",
       "\t27 & 22 & Private & HS-grad & 9 & Never-married & Adm-clerical & $\\dots$ \\\\\n",
       "\t28 & 23 & Private & HS-grad & 9 & Separated & Machine-op-inspct & $\\dots$ \\\\\n",
       "\t29 & 54 & Private & HS-grad & 9 & Married-civ-spouse & Craft-repair & $\\dots$ \\\\\n",
       "\t30 & 32 & Self-emp-not-inc & Some-college & 10 & Never-married & Prof-specialty & $\\dots$ \\\\\n",
       "\t$\\dots$ & $\\dots$ & $\\dots$ & $\\dots$ & $\\dots$ & $\\dots$ & $\\dots$ &  \\\\\n",
       "\\end{tabular}\n"
      ],
      "text/plain": [
       "\u001b[1m48842×14 DataFrame\u001b[0m\n",
       "\u001b[1m   Row \u001b[0m│\u001b[1m age   \u001b[0m\u001b[1m workclass        \u001b[0m\u001b[1m education    \u001b[0m\u001b[1m education_num \u001b[0m\u001b[1m marital_status \u001b[0m ⋯\n",
       "       │\u001b[90m Int64 \u001b[0m\u001b[90m String31         \u001b[0m\u001b[90m String15     \u001b[0m\u001b[90m Int64         \u001b[0m\u001b[90m String31       \u001b[0m ⋯\n",
       "───────┼────────────────────────────────────────────────────────────────────────\n",
       "     1 │    25  Private           11th                      7  Never-married   ⋯\n",
       "     2 │    38  Private           HS-grad                   9  Married-civ-spo\n",
       "     3 │    28  Local-gov         Assoc-acdm               12  Married-civ-spo\n",
       "     4 │    44  Private           Some-college             10  Married-civ-spo\n",
       "     5 │    18  ?                 Some-college             10  Never-married   ⋯\n",
       "     6 │    34  Private           10th                      6  Never-married\n",
       "     7 │    29  ?                 HS-grad                   9  Never-married\n",
       "     8 │    63  Self-emp-not-inc  Prof-school              15  Married-civ-spo\n",
       "     9 │    24  Private           Some-college             10  Never-married   ⋯\n",
       "    10 │    55  Private           7th-8th                   4  Married-civ-spo\n",
       "    11 │    65  Private           HS-grad                   9  Married-civ-spo\n",
       "   ⋮   │   ⋮           ⋮               ⋮              ⋮                ⋮       ⋱\n",
       " 48833 │    32  Private           10th                      6  Married-civ-spo\n",
       " 48834 │    43  Private           Assoc-voc                11  Married-civ-spo ⋯\n",
       " 48835 │    32  Private           Masters                  14  Never-married\n",
       " 48836 │    53  Private           Masters                  14  Married-civ-spo\n",
       " 48837 │    22  Private           Some-college             10  Never-married\n",
       " 48838 │    27  Private           Assoc-acdm               12  Married-civ-spo ⋯\n",
       " 48839 │    40  Private           HS-grad                   9  Married-civ-spo\n",
       " 48840 │    58  Private           HS-grad                   9  Widowed\n",
       " 48841 │    22  Private           HS-grad                   9  Never-married\n",
       " 48842 │    52  Self-emp-inc      HS-grad                   9  Married-civ-spo ⋯\n",
       "\u001b[36m                                               10 columns and 48821 rows omitted\u001b[0m"
      ]
     },
     "execution_count": 67,
     "metadata": {},
     "output_type": "execute_result"
    }
   ],
   "source": [
    "select(df, Not(:fnlwgt))"
   ]
  },
  {
   "cell_type": "code",
   "execution_count": 68,
   "id": "bd9c83f9-0134-41ea-b0aa-cd726f4d8f4a",
   "metadata": {},
   "outputs": [
    {
     "data": {
      "text/html": [
       "<div><div style = \"float: left;\"><span>48842×6 DataFrame</span></div><div style = \"float: right;\"><span style = \"font-style: italic;\">48817 rows omitted</span></div><div style = \"clear: both;\"></div></div><div class = \"data-frame\" style = \"overflow-x: scroll;\"><table class = \"data-frame\" style = \"margin-bottom: 6px;\"><thead><tr class = \"header\"><th class = \"rowNumber\" style = \"font-weight: bold; text-align: right;\">Row</th><th style = \"text-align: left;\">education</th><th style = \"text-align: left;\">education_num</th><th style = \"text-align: left;\">marital_status</th><th style = \"text-align: left;\">occupation</th><th style = \"text-align: left;\">relationship</th><th style = \"text-align: left;\">race</th></tr><tr class = \"subheader headerLastRow\"><th class = \"rowNumber\" style = \"font-weight: bold; text-align: right;\"></th><th title = \"String15\" style = \"text-align: left;\">String15</th><th title = \"Int64\" style = \"text-align: left;\">Int64</th><th title = \"String31\" style = \"text-align: left;\">String31</th><th title = \"String31\" style = \"text-align: left;\">String31</th><th title = \"String15\" style = \"text-align: left;\">String15</th><th title = \"String31\" style = \"text-align: left;\">String31</th></tr></thead><tbody><tr><td class = \"rowNumber\" style = \"font-weight: bold; text-align: right;\">1</td><td style = \"text-align: left;\">11th</td><td style = \"text-align: right;\">7</td><td style = \"text-align: left;\">Never-married</td><td style = \"text-align: left;\">Machine-op-inspct</td><td style = \"text-align: left;\">Own-child</td><td style = \"text-align: left;\">Black</td></tr><tr><td class = \"rowNumber\" style = \"font-weight: bold; text-align: right;\">2</td><td style = \"text-align: left;\">HS-grad</td><td style = \"text-align: right;\">9</td><td style = \"text-align: left;\">Married-civ-spouse</td><td style = \"text-align: left;\">Farming-fishing</td><td style = \"text-align: left;\">Husband</td><td style = \"text-align: left;\">White</td></tr><tr><td class = \"rowNumber\" style = \"font-weight: bold; text-align: right;\">3</td><td style = \"text-align: left;\">Assoc-acdm</td><td style = \"text-align: right;\">12</td><td style = \"text-align: left;\">Married-civ-spouse</td><td style = \"text-align: left;\">Protective-serv</td><td style = \"text-align: left;\">Husband</td><td style = \"text-align: left;\">White</td></tr><tr><td class = \"rowNumber\" style = \"font-weight: bold; text-align: right;\">4</td><td style = \"text-align: left;\">Some-college</td><td style = \"text-align: right;\">10</td><td style = \"text-align: left;\">Married-civ-spouse</td><td style = \"text-align: left;\">Machine-op-inspct</td><td style = \"text-align: left;\">Husband</td><td style = \"text-align: left;\">Black</td></tr><tr><td class = \"rowNumber\" style = \"font-weight: bold; text-align: right;\">5</td><td style = \"text-align: left;\">Some-college</td><td style = \"text-align: right;\">10</td><td style = \"text-align: left;\">Never-married</td><td style = \"text-align: left;\">?</td><td style = \"text-align: left;\">Own-child</td><td style = \"text-align: left;\">White</td></tr><tr><td class = \"rowNumber\" style = \"font-weight: bold; text-align: right;\">6</td><td style = \"text-align: left;\">10th</td><td style = \"text-align: right;\">6</td><td style = \"text-align: left;\">Never-married</td><td style = \"text-align: left;\">Other-service</td><td style = \"text-align: left;\">Not-in-family</td><td style = \"text-align: left;\">White</td></tr><tr><td class = \"rowNumber\" style = \"font-weight: bold; text-align: right;\">7</td><td style = \"text-align: left;\">HS-grad</td><td style = \"text-align: right;\">9</td><td style = \"text-align: left;\">Never-married</td><td style = \"text-align: left;\">?</td><td style = \"text-align: left;\">Unmarried</td><td style = \"text-align: left;\">Black</td></tr><tr><td class = \"rowNumber\" style = \"font-weight: bold; text-align: right;\">8</td><td style = \"text-align: left;\">Prof-school</td><td style = \"text-align: right;\">15</td><td style = \"text-align: left;\">Married-civ-spouse</td><td style = \"text-align: left;\">Prof-specialty</td><td style = \"text-align: left;\">Husband</td><td style = \"text-align: left;\">White</td></tr><tr><td class = \"rowNumber\" style = \"font-weight: bold; text-align: right;\">9</td><td style = \"text-align: left;\">Some-college</td><td style = \"text-align: right;\">10</td><td style = \"text-align: left;\">Never-married</td><td style = \"text-align: left;\">Other-service</td><td style = \"text-align: left;\">Unmarried</td><td style = \"text-align: left;\">White</td></tr><tr><td class = \"rowNumber\" style = \"font-weight: bold; text-align: right;\">10</td><td style = \"text-align: left;\">7th-8th</td><td style = \"text-align: right;\">4</td><td style = \"text-align: left;\">Married-civ-spouse</td><td style = \"text-align: left;\">Craft-repair</td><td style = \"text-align: left;\">Husband</td><td style = \"text-align: left;\">White</td></tr><tr><td class = \"rowNumber\" style = \"font-weight: bold; text-align: right;\">11</td><td style = \"text-align: left;\">HS-grad</td><td style = \"text-align: right;\">9</td><td style = \"text-align: left;\">Married-civ-spouse</td><td style = \"text-align: left;\">Machine-op-inspct</td><td style = \"text-align: left;\">Husband</td><td style = \"text-align: left;\">White</td></tr><tr><td class = \"rowNumber\" style = \"font-weight: bold; text-align: right;\">12</td><td style = \"text-align: left;\">Bachelors</td><td style = \"text-align: right;\">13</td><td style = \"text-align: left;\">Married-civ-spouse</td><td style = \"text-align: left;\">Adm-clerical</td><td style = \"text-align: left;\">Husband</td><td style = \"text-align: left;\">White</td></tr><tr><td class = \"rowNumber\" style = \"font-weight: bold; text-align: right;\">13</td><td style = \"text-align: left;\">HS-grad</td><td style = \"text-align: right;\">9</td><td style = \"text-align: left;\">Never-married</td><td style = \"text-align: left;\">Adm-clerical</td><td style = \"text-align: left;\">Not-in-family</td><td style = \"text-align: left;\">White</td></tr><tr><td style = \"text-align: right;\">&vellip;</td><td style = \"text-align: right;\">&vellip;</td><td style = \"text-align: right;\">&vellip;</td><td style = \"text-align: right;\">&vellip;</td><td style = \"text-align: right;\">&vellip;</td><td style = \"text-align: right;\">&vellip;</td><td style = \"text-align: right;\">&vellip;</td></tr><tr><td class = \"rowNumber\" style = \"font-weight: bold; text-align: right;\">48831</td><td style = \"text-align: left;\">Some-college</td><td style = \"text-align: right;\">10</td><td style = \"text-align: left;\">Divorced</td><td style = \"text-align: left;\">Adm-clerical</td><td style = \"text-align: left;\">Other-relative</td><td style = \"text-align: left;\">White</td></tr><tr><td class = \"rowNumber\" style = \"font-weight: bold; text-align: right;\">48832</td><td style = \"text-align: left;\">Some-college</td><td style = \"text-align: right;\">10</td><td style = \"text-align: left;\">Married-civ-spouse</td><td style = \"text-align: left;\">Craft-repair</td><td style = \"text-align: left;\">Husband</td><td style = \"text-align: left;\">White</td></tr><tr><td class = \"rowNumber\" style = \"font-weight: bold; text-align: right;\">48833</td><td style = \"text-align: left;\">10th</td><td style = \"text-align: right;\">6</td><td style = \"text-align: left;\">Married-civ-spouse</td><td style = \"text-align: left;\">Handlers-cleaners</td><td style = \"text-align: left;\">Husband</td><td style = \"text-align: left;\">Amer-Indian-Eskimo</td></tr><tr><td class = \"rowNumber\" style = \"font-weight: bold; text-align: right;\">48834</td><td style = \"text-align: left;\">Assoc-voc</td><td style = \"text-align: right;\">11</td><td style = \"text-align: left;\">Married-civ-spouse</td><td style = \"text-align: left;\">Sales</td><td style = \"text-align: left;\">Husband</td><td style = \"text-align: left;\">White</td></tr><tr><td class = \"rowNumber\" style = \"font-weight: bold; text-align: right;\">48835</td><td style = \"text-align: left;\">Masters</td><td style = \"text-align: right;\">14</td><td style = \"text-align: left;\">Never-married</td><td style = \"text-align: left;\">Tech-support</td><td style = \"text-align: left;\">Not-in-family</td><td style = \"text-align: left;\">Asian-Pac-Islander</td></tr><tr><td class = \"rowNumber\" style = \"font-weight: bold; text-align: right;\">48836</td><td style = \"text-align: left;\">Masters</td><td style = \"text-align: right;\">14</td><td style = \"text-align: left;\">Married-civ-spouse</td><td style = \"text-align: left;\">Exec-managerial</td><td style = \"text-align: left;\">Husband</td><td style = \"text-align: left;\">White</td></tr><tr><td class = \"rowNumber\" style = \"font-weight: bold; text-align: right;\">48837</td><td style = \"text-align: left;\">Some-college</td><td style = \"text-align: right;\">10</td><td style = \"text-align: left;\">Never-married</td><td style = \"text-align: left;\">Protective-serv</td><td style = \"text-align: left;\">Not-in-family</td><td style = \"text-align: left;\">White</td></tr><tr><td class = \"rowNumber\" style = \"font-weight: bold; text-align: right;\">48838</td><td style = \"text-align: left;\">Assoc-acdm</td><td style = \"text-align: right;\">12</td><td style = \"text-align: left;\">Married-civ-spouse</td><td style = \"text-align: left;\">Tech-support</td><td style = \"text-align: left;\">Wife</td><td style = \"text-align: left;\">White</td></tr><tr><td class = \"rowNumber\" style = \"font-weight: bold; text-align: right;\">48839</td><td style = \"text-align: left;\">HS-grad</td><td style = \"text-align: right;\">9</td><td style = \"text-align: left;\">Married-civ-spouse</td><td style = \"text-align: left;\">Machine-op-inspct</td><td style = \"text-align: left;\">Husband</td><td style = \"text-align: left;\">White</td></tr><tr><td class = \"rowNumber\" style = \"font-weight: bold; text-align: right;\">48840</td><td style = \"text-align: left;\">HS-grad</td><td style = \"text-align: right;\">9</td><td style = \"text-align: left;\">Widowed</td><td style = \"text-align: left;\">Adm-clerical</td><td style = \"text-align: left;\">Unmarried</td><td style = \"text-align: left;\">White</td></tr><tr><td class = \"rowNumber\" style = \"font-weight: bold; text-align: right;\">48841</td><td style = \"text-align: left;\">HS-grad</td><td style = \"text-align: right;\">9</td><td style = \"text-align: left;\">Never-married</td><td style = \"text-align: left;\">Adm-clerical</td><td style = \"text-align: left;\">Own-child</td><td style = \"text-align: left;\">White</td></tr><tr><td class = \"rowNumber\" style = \"font-weight: bold; text-align: right;\">48842</td><td style = \"text-align: left;\">HS-grad</td><td style = \"text-align: right;\">9</td><td style = \"text-align: left;\">Married-civ-spouse</td><td style = \"text-align: left;\">Exec-managerial</td><td style = \"text-align: left;\">Wife</td><td style = \"text-align: left;\">White</td></tr></tbody></table></div>"
      ],
      "text/latex": [
       "\\begin{tabular}{r|cccccc}\n",
       "\t& education & education\\_num & marital\\_status & occupation & relationship & \\\\\n",
       "\t\\hline\n",
       "\t& String15 & Int64 & String31 & String31 & String15 & \\\\\n",
       "\t\\hline\n",
       "\t1 & 11th & 7 & Never-married & Machine-op-inspct & Own-child & $\\dots$ \\\\\n",
       "\t2 & HS-grad & 9 & Married-civ-spouse & Farming-fishing & Husband & $\\dots$ \\\\\n",
       "\t3 & Assoc-acdm & 12 & Married-civ-spouse & Protective-serv & Husband & $\\dots$ \\\\\n",
       "\t4 & Some-college & 10 & Married-civ-spouse & Machine-op-inspct & Husband & $\\dots$ \\\\\n",
       "\t5 & Some-college & 10 & Never-married & ? & Own-child & $\\dots$ \\\\\n",
       "\t6 & 10th & 6 & Never-married & Other-service & Not-in-family & $\\dots$ \\\\\n",
       "\t7 & HS-grad & 9 & Never-married & ? & Unmarried & $\\dots$ \\\\\n",
       "\t8 & Prof-school & 15 & Married-civ-spouse & Prof-specialty & Husband & $\\dots$ \\\\\n",
       "\t9 & Some-college & 10 & Never-married & Other-service & Unmarried & $\\dots$ \\\\\n",
       "\t10 & 7th-8th & 4 & Married-civ-spouse & Craft-repair & Husband & $\\dots$ \\\\\n",
       "\t11 & HS-grad & 9 & Married-civ-spouse & Machine-op-inspct & Husband & $\\dots$ \\\\\n",
       "\t12 & Bachelors & 13 & Married-civ-spouse & Adm-clerical & Husband & $\\dots$ \\\\\n",
       "\t13 & HS-grad & 9 & Never-married & Adm-clerical & Not-in-family & $\\dots$ \\\\\n",
       "\t14 & HS-grad & 9 & Married-civ-spouse & ? & Husband & $\\dots$ \\\\\n",
       "\t15 & HS-grad & 9 & Married-civ-spouse & Machine-op-inspct & Husband & $\\dots$ \\\\\n",
       "\t16 & Masters & 14 & Married-civ-spouse & Exec-managerial & Husband & $\\dots$ \\\\\n",
       "\t17 & Some-college & 10 & Never-married & Other-service & Own-child & $\\dots$ \\\\\n",
       "\t18 & HS-grad & 9 & Married-civ-spouse & Adm-clerical & Wife & $\\dots$ \\\\\n",
       "\t19 & HS-grad & 9 & Widowed & Machine-op-inspct & Unmarried & $\\dots$ \\\\\n",
       "\t20 & Doctorate & 16 & Married-civ-spouse & Prof-specialty & Husband & $\\dots$ \\\\\n",
       "\t21 & Bachelors & 13 & Married-civ-spouse & Tech-support & Husband & $\\dots$ \\\\\n",
       "\t22 & Some-college & 10 & Never-married & Other-service & Own-child & $\\dots$ \\\\\n",
       "\t23 & 7th-8th & 4 & Divorced & ? & Not-in-family & $\\dots$ \\\\\n",
       "\t24 & Bachelors & 13 & Never-married & Prof-specialty & Not-in-family & $\\dots$ \\\\\n",
       "\t25 & Bachelors & 13 & Married-civ-spouse & Prof-specialty & Husband & $\\dots$ \\\\\n",
       "\t26 & HS-grad & 9 & Married-civ-spouse & Craft-repair & Husband & $\\dots$ \\\\\n",
       "\t27 & HS-grad & 9 & Never-married & Adm-clerical & Own-child & $\\dots$ \\\\\n",
       "\t28 & HS-grad & 9 & Separated & Machine-op-inspct & Unmarried & $\\dots$ \\\\\n",
       "\t29 & HS-grad & 9 & Married-civ-spouse & Craft-repair & Husband & $\\dots$ \\\\\n",
       "\t30 & Some-college & 10 & Never-married & Prof-specialty & Not-in-family & $\\dots$ \\\\\n",
       "\t$\\dots$ & $\\dots$ & $\\dots$ & $\\dots$ & $\\dots$ & $\\dots$ &  \\\\\n",
       "\\end{tabular}\n"
      ],
      "text/plain": [
       "\u001b[1m48842×6 DataFrame\u001b[0m\n",
       "\u001b[1m   Row \u001b[0m│\u001b[1m education    \u001b[0m\u001b[1m education_num \u001b[0m\u001b[1m marital_status     \u001b[0m\u001b[1m occupation        \u001b[0m\u001b[1m r\u001b[0m ⋯\n",
       "       │\u001b[90m String15     \u001b[0m\u001b[90m Int64         \u001b[0m\u001b[90m String31           \u001b[0m\u001b[90m String31          \u001b[0m\u001b[90m S\u001b[0m ⋯\n",
       "───────┼────────────────────────────────────────────────────────────────────────\n",
       "     1 │ 11th                      7  Never-married       Machine-op-inspct  O ⋯\n",
       "     2 │ HS-grad                   9  Married-civ-spouse  Farming-fishing    H\n",
       "     3 │ Assoc-acdm               12  Married-civ-spouse  Protective-serv    H\n",
       "     4 │ Some-college             10  Married-civ-spouse  Machine-op-inspct  H\n",
       "     5 │ Some-college             10  Never-married       ?                  O ⋯\n",
       "     6 │ 10th                      6  Never-married       Other-service      N\n",
       "     7 │ HS-grad                   9  Never-married       ?                  U\n",
       "     8 │ Prof-school              15  Married-civ-spouse  Prof-specialty     H\n",
       "     9 │ Some-college             10  Never-married       Other-service      U ⋯\n",
       "    10 │ 7th-8th                   4  Married-civ-spouse  Craft-repair       H\n",
       "    11 │ HS-grad                   9  Married-civ-spouse  Machine-op-inspct  H\n",
       "   ⋮   │      ⋮              ⋮                ⋮                   ⋮            ⋱\n",
       " 48833 │ 10th                      6  Married-civ-spouse  Handlers-cleaners  H\n",
       " 48834 │ Assoc-voc                11  Married-civ-spouse  Sales              H ⋯\n",
       " 48835 │ Masters                  14  Never-married       Tech-support       N\n",
       " 48836 │ Masters                  14  Married-civ-spouse  Exec-managerial    H\n",
       " 48837 │ Some-college             10  Never-married       Protective-serv    N\n",
       " 48838 │ Assoc-acdm               12  Married-civ-spouse  Tech-support       W ⋯\n",
       " 48839 │ HS-grad                   9  Married-civ-spouse  Machine-op-inspct  H\n",
       " 48840 │ HS-grad                   9  Widowed             Adm-clerical       U\n",
       " 48841 │ HS-grad                   9  Never-married       Adm-clerical       O\n",
       " 48842 │ HS-grad                   9  Married-civ-spouse  Exec-managerial    W ⋯\n",
       "\u001b[36m                                                2 columns and 48821 rows omitted\u001b[0m"
      ]
     },
     "execution_count": 68,
     "metadata": {},
     "output_type": "execute_result"
    }
   ],
   "source": [
    "select(df, Between(:education,:race))"
   ]
  },
  {
   "cell_type": "code",
   "execution_count": 71,
   "id": "0a93ed9a-b409-4e47-b88e-dddd5bcb12bf",
   "metadata": {},
   "outputs": [
    {
     "data": {
      "text/html": [
       "<div><div style = \"float: left;\"><span>48842×2 DataFrame</span></div><div style = \"float: right;\"><span style = \"font-style: italic;\">48817 rows omitted</span></div><div style = \"clear: both;\"></div></div><div class = \"data-frame\" style = \"overflow-x: scroll;\"><table class = \"data-frame\" style = \"margin-bottom: 6px;\"><thead><tr class = \"header\"><th class = \"rowNumber\" style = \"font-weight: bold; text-align: right;\">Row</th><th style = \"text-align: left;\">education</th><th style = \"text-align: left;\">occupation</th></tr><tr class = \"subheader headerLastRow\"><th class = \"rowNumber\" style = \"font-weight: bold; text-align: right;\"></th><th title = \"String15\" style = \"text-align: left;\">String15</th><th title = \"String31\" style = \"text-align: left;\">String31</th></tr></thead><tbody><tr><td class = \"rowNumber\" style = \"font-weight: bold; text-align: right;\">1</td><td style = \"text-align: left;\">11th</td><td style = \"text-align: left;\">Machine-op-inspct</td></tr><tr><td class = \"rowNumber\" style = \"font-weight: bold; text-align: right;\">2</td><td style = \"text-align: left;\">HS-grad</td><td style = \"text-align: left;\">Farming-fishing</td></tr><tr><td class = \"rowNumber\" style = \"font-weight: bold; text-align: right;\">3</td><td style = \"text-align: left;\">Assoc-acdm</td><td style = \"text-align: left;\">Protective-serv</td></tr><tr><td class = \"rowNumber\" style = \"font-weight: bold; text-align: right;\">4</td><td style = \"text-align: left;\">Some-college</td><td style = \"text-align: left;\">Machine-op-inspct</td></tr><tr><td class = \"rowNumber\" style = \"font-weight: bold; text-align: right;\">5</td><td style = \"text-align: left;\">Some-college</td><td style = \"text-align: left;\">?</td></tr><tr><td class = \"rowNumber\" style = \"font-weight: bold; text-align: right;\">6</td><td style = \"text-align: left;\">10th</td><td style = \"text-align: left;\">Other-service</td></tr><tr><td class = \"rowNumber\" style = \"font-weight: bold; text-align: right;\">7</td><td style = \"text-align: left;\">HS-grad</td><td style = \"text-align: left;\">?</td></tr><tr><td class = \"rowNumber\" style = \"font-weight: bold; text-align: right;\">8</td><td style = \"text-align: left;\">Prof-school</td><td style = \"text-align: left;\">Prof-specialty</td></tr><tr><td class = \"rowNumber\" style = \"font-weight: bold; text-align: right;\">9</td><td style = \"text-align: left;\">Some-college</td><td style = \"text-align: left;\">Other-service</td></tr><tr><td class = \"rowNumber\" style = \"font-weight: bold; text-align: right;\">10</td><td style = \"text-align: left;\">7th-8th</td><td style = \"text-align: left;\">Craft-repair</td></tr><tr><td class = \"rowNumber\" style = \"font-weight: bold; text-align: right;\">11</td><td style = \"text-align: left;\">HS-grad</td><td style = \"text-align: left;\">Machine-op-inspct</td></tr><tr><td class = \"rowNumber\" style = \"font-weight: bold; text-align: right;\">12</td><td style = \"text-align: left;\">Bachelors</td><td style = \"text-align: left;\">Adm-clerical</td></tr><tr><td class = \"rowNumber\" style = \"font-weight: bold; text-align: right;\">13</td><td style = \"text-align: left;\">HS-grad</td><td style = \"text-align: left;\">Adm-clerical</td></tr><tr><td style = \"text-align: right;\">&vellip;</td><td style = \"text-align: right;\">&vellip;</td><td style = \"text-align: right;\">&vellip;</td></tr><tr><td class = \"rowNumber\" style = \"font-weight: bold; text-align: right;\">48831</td><td style = \"text-align: left;\">Some-college</td><td style = \"text-align: left;\">Adm-clerical</td></tr><tr><td class = \"rowNumber\" style = \"font-weight: bold; text-align: right;\">48832</td><td style = \"text-align: left;\">Some-college</td><td style = \"text-align: left;\">Craft-repair</td></tr><tr><td class = \"rowNumber\" style = \"font-weight: bold; text-align: right;\">48833</td><td style = \"text-align: left;\">10th</td><td style = \"text-align: left;\">Handlers-cleaners</td></tr><tr><td class = \"rowNumber\" style = \"font-weight: bold; text-align: right;\">48834</td><td style = \"text-align: left;\">Assoc-voc</td><td style = \"text-align: left;\">Sales</td></tr><tr><td class = \"rowNumber\" style = \"font-weight: bold; text-align: right;\">48835</td><td style = \"text-align: left;\">Masters</td><td style = \"text-align: left;\">Tech-support</td></tr><tr><td class = \"rowNumber\" style = \"font-weight: bold; text-align: right;\">48836</td><td style = \"text-align: left;\">Masters</td><td style = \"text-align: left;\">Exec-managerial</td></tr><tr><td class = \"rowNumber\" style = \"font-weight: bold; text-align: right;\">48837</td><td style = \"text-align: left;\">Some-college</td><td style = \"text-align: left;\">Protective-serv</td></tr><tr><td class = \"rowNumber\" style = \"font-weight: bold; text-align: right;\">48838</td><td style = \"text-align: left;\">Assoc-acdm</td><td style = \"text-align: left;\">Tech-support</td></tr><tr><td class = \"rowNumber\" style = \"font-weight: bold; text-align: right;\">48839</td><td style = \"text-align: left;\">HS-grad</td><td style = \"text-align: left;\">Machine-op-inspct</td></tr><tr><td class = \"rowNumber\" style = \"font-weight: bold; text-align: right;\">48840</td><td style = \"text-align: left;\">HS-grad</td><td style = \"text-align: left;\">Adm-clerical</td></tr><tr><td class = \"rowNumber\" style = \"font-weight: bold; text-align: right;\">48841</td><td style = \"text-align: left;\">HS-grad</td><td style = \"text-align: left;\">Adm-clerical</td></tr><tr><td class = \"rowNumber\" style = \"font-weight: bold; text-align: right;\">48842</td><td style = \"text-align: left;\">HS-grad</td><td style = \"text-align: left;\">Exec-managerial</td></tr></tbody></table></div>"
      ],
      "text/latex": [
       "\\begin{tabular}{r|cc}\n",
       "\t& education & occupation\\\\\n",
       "\t\\hline\n",
       "\t& String15 & String31\\\\\n",
       "\t\\hline\n",
       "\t1 & 11th & Machine-op-inspct \\\\\n",
       "\t2 & HS-grad & Farming-fishing \\\\\n",
       "\t3 & Assoc-acdm & Protective-serv \\\\\n",
       "\t4 & Some-college & Machine-op-inspct \\\\\n",
       "\t5 & Some-college & ? \\\\\n",
       "\t6 & 10th & Other-service \\\\\n",
       "\t7 & HS-grad & ? \\\\\n",
       "\t8 & Prof-school & Prof-specialty \\\\\n",
       "\t9 & Some-college & Other-service \\\\\n",
       "\t10 & 7th-8th & Craft-repair \\\\\n",
       "\t11 & HS-grad & Machine-op-inspct \\\\\n",
       "\t12 & Bachelors & Adm-clerical \\\\\n",
       "\t13 & HS-grad & Adm-clerical \\\\\n",
       "\t14 & HS-grad & ? \\\\\n",
       "\t15 & HS-grad & Machine-op-inspct \\\\\n",
       "\t16 & Masters & Exec-managerial \\\\\n",
       "\t17 & Some-college & Other-service \\\\\n",
       "\t18 & HS-grad & Adm-clerical \\\\\n",
       "\t19 & HS-grad & Machine-op-inspct \\\\\n",
       "\t20 & Doctorate & Prof-specialty \\\\\n",
       "\t21 & Bachelors & Tech-support \\\\\n",
       "\t22 & Some-college & Other-service \\\\\n",
       "\t23 & 7th-8th & ? \\\\\n",
       "\t24 & Bachelors & Prof-specialty \\\\\n",
       "\t25 & Bachelors & Prof-specialty \\\\\n",
       "\t26 & HS-grad & Craft-repair \\\\\n",
       "\t27 & HS-grad & Adm-clerical \\\\\n",
       "\t28 & HS-grad & Machine-op-inspct \\\\\n",
       "\t29 & HS-grad & Craft-repair \\\\\n",
       "\t30 & Some-college & Prof-specialty \\\\\n",
       "\t$\\dots$ & $\\dots$ & $\\dots$ \\\\\n",
       "\\end{tabular}\n"
      ],
      "text/plain": [
       "\u001b[1m48842×2 DataFrame\u001b[0m\n",
       "\u001b[1m   Row \u001b[0m│\u001b[1m education    \u001b[0m\u001b[1m occupation        \u001b[0m\n",
       "       │\u001b[90m String15     \u001b[0m\u001b[90m String31          \u001b[0m\n",
       "───────┼─────────────────────────────────\n",
       "     1 │ 11th          Machine-op-inspct\n",
       "     2 │ HS-grad       Farming-fishing\n",
       "     3 │ Assoc-acdm    Protective-serv\n",
       "     4 │ Some-college  Machine-op-inspct\n",
       "     5 │ Some-college  ?\n",
       "     6 │ 10th          Other-service\n",
       "     7 │ HS-grad       ?\n",
       "     8 │ Prof-school   Prof-specialty\n",
       "     9 │ Some-college  Other-service\n",
       "    10 │ 7th-8th       Craft-repair\n",
       "    11 │ HS-grad       Machine-op-inspct\n",
       "   ⋮   │      ⋮                ⋮\n",
       " 48833 │ 10th          Handlers-cleaners\n",
       " 48834 │ Assoc-voc     Sales\n",
       " 48835 │ Masters       Tech-support\n",
       " 48836 │ Masters       Exec-managerial\n",
       " 48837 │ Some-college  Protective-serv\n",
       " 48838 │ Assoc-acdm    Tech-support\n",
       " 48839 │ HS-grad       Machine-op-inspct\n",
       " 48840 │ HS-grad       Adm-clerical\n",
       " 48841 │ HS-grad       Adm-clerical\n",
       " 48842 │ HS-grad       Exec-managerial\n",
       "\u001b[36m                       48821 rows omitted\u001b[0m"
      ]
     },
     "execution_count": 71,
     "metadata": {},
     "output_type": "execute_result"
    }
   ],
   "source": [
    "df[:,[:education, :occupation]]"
   ]
  },
  {
   "cell_type": "code",
   "execution_count": 72,
   "id": "55659abf-2b75-46e7-87bc-61a5b273151b",
   "metadata": {},
   "outputs": [
    {
     "data": {
      "text/html": [
       "<div><div style = \"float: left;\"><span>48842×2 DataFrame</span></div><div style = \"float: right;\"><span style = \"font-style: italic;\">48817 rows omitted</span></div><div style = \"clear: both;\"></div></div><div class = \"data-frame\" style = \"overflow-x: scroll;\"><table class = \"data-frame\" style = \"margin-bottom: 6px;\"><thead><tr class = \"header\"><th class = \"rowNumber\" style = \"font-weight: bold; text-align: right;\">Row</th><th style = \"text-align: left;\">education</th><th style = \"text-align: left;\">occupation</th></tr><tr class = \"subheader headerLastRow\"><th class = \"rowNumber\" style = \"font-weight: bold; text-align: right;\"></th><th title = \"String15\" style = \"text-align: left;\">String15</th><th title = \"String31\" style = \"text-align: left;\">String31</th></tr></thead><tbody><tr><td class = \"rowNumber\" style = \"font-weight: bold; text-align: right;\">1</td><td style = \"text-align: left;\">11th</td><td style = \"text-align: left;\">Machine-op-inspct</td></tr><tr><td class = \"rowNumber\" style = \"font-weight: bold; text-align: right;\">2</td><td style = \"text-align: left;\">HS-grad</td><td style = \"text-align: left;\">Farming-fishing</td></tr><tr><td class = \"rowNumber\" style = \"font-weight: bold; text-align: right;\">3</td><td style = \"text-align: left;\">Assoc-acdm</td><td style = \"text-align: left;\">Protective-serv</td></tr><tr><td class = \"rowNumber\" style = \"font-weight: bold; text-align: right;\">4</td><td style = \"text-align: left;\">Some-college</td><td style = \"text-align: left;\">Machine-op-inspct</td></tr><tr><td class = \"rowNumber\" style = \"font-weight: bold; text-align: right;\">5</td><td style = \"text-align: left;\">Some-college</td><td style = \"text-align: left;\">?</td></tr><tr><td class = \"rowNumber\" style = \"font-weight: bold; text-align: right;\">6</td><td style = \"text-align: left;\">10th</td><td style = \"text-align: left;\">Other-service</td></tr><tr><td class = \"rowNumber\" style = \"font-weight: bold; text-align: right;\">7</td><td style = \"text-align: left;\">HS-grad</td><td style = \"text-align: left;\">?</td></tr><tr><td class = \"rowNumber\" style = \"font-weight: bold; text-align: right;\">8</td><td style = \"text-align: left;\">Prof-school</td><td style = \"text-align: left;\">Prof-specialty</td></tr><tr><td class = \"rowNumber\" style = \"font-weight: bold; text-align: right;\">9</td><td style = \"text-align: left;\">Some-college</td><td style = \"text-align: left;\">Other-service</td></tr><tr><td class = \"rowNumber\" style = \"font-weight: bold; text-align: right;\">10</td><td style = \"text-align: left;\">7th-8th</td><td style = \"text-align: left;\">Craft-repair</td></tr><tr><td class = \"rowNumber\" style = \"font-weight: bold; text-align: right;\">11</td><td style = \"text-align: left;\">HS-grad</td><td style = \"text-align: left;\">Machine-op-inspct</td></tr><tr><td class = \"rowNumber\" style = \"font-weight: bold; text-align: right;\">12</td><td style = \"text-align: left;\">Bachelors</td><td style = \"text-align: left;\">Adm-clerical</td></tr><tr><td class = \"rowNumber\" style = \"font-weight: bold; text-align: right;\">13</td><td style = \"text-align: left;\">HS-grad</td><td style = \"text-align: left;\">Adm-clerical</td></tr><tr><td style = \"text-align: right;\">&vellip;</td><td style = \"text-align: right;\">&vellip;</td><td style = \"text-align: right;\">&vellip;</td></tr><tr><td class = \"rowNumber\" style = \"font-weight: bold; text-align: right;\">48831</td><td style = \"text-align: left;\">Some-college</td><td style = \"text-align: left;\">Adm-clerical</td></tr><tr><td class = \"rowNumber\" style = \"font-weight: bold; text-align: right;\">48832</td><td style = \"text-align: left;\">Some-college</td><td style = \"text-align: left;\">Craft-repair</td></tr><tr><td class = \"rowNumber\" style = \"font-weight: bold; text-align: right;\">48833</td><td style = \"text-align: left;\">10th</td><td style = \"text-align: left;\">Handlers-cleaners</td></tr><tr><td class = \"rowNumber\" style = \"font-weight: bold; text-align: right;\">48834</td><td style = \"text-align: left;\">Assoc-voc</td><td style = \"text-align: left;\">Sales</td></tr><tr><td class = \"rowNumber\" style = \"font-weight: bold; text-align: right;\">48835</td><td style = \"text-align: left;\">Masters</td><td style = \"text-align: left;\">Tech-support</td></tr><tr><td class = \"rowNumber\" style = \"font-weight: bold; text-align: right;\">48836</td><td style = \"text-align: left;\">Masters</td><td style = \"text-align: left;\">Exec-managerial</td></tr><tr><td class = \"rowNumber\" style = \"font-weight: bold; text-align: right;\">48837</td><td style = \"text-align: left;\">Some-college</td><td style = \"text-align: left;\">Protective-serv</td></tr><tr><td class = \"rowNumber\" style = \"font-weight: bold; text-align: right;\">48838</td><td style = \"text-align: left;\">Assoc-acdm</td><td style = \"text-align: left;\">Tech-support</td></tr><tr><td class = \"rowNumber\" style = \"font-weight: bold; text-align: right;\">48839</td><td style = \"text-align: left;\">HS-grad</td><td style = \"text-align: left;\">Machine-op-inspct</td></tr><tr><td class = \"rowNumber\" style = \"font-weight: bold; text-align: right;\">48840</td><td style = \"text-align: left;\">HS-grad</td><td style = \"text-align: left;\">Adm-clerical</td></tr><tr><td class = \"rowNumber\" style = \"font-weight: bold; text-align: right;\">48841</td><td style = \"text-align: left;\">HS-grad</td><td style = \"text-align: left;\">Adm-clerical</td></tr><tr><td class = \"rowNumber\" style = \"font-weight: bold; text-align: right;\">48842</td><td style = \"text-align: left;\">HS-grad</td><td style = \"text-align: left;\">Exec-managerial</td></tr></tbody></table></div>"
      ],
      "text/latex": [
       "\\begin{tabular}{r|cc}\n",
       "\t& education & occupation\\\\\n",
       "\t\\hline\n",
       "\t& String15 & String31\\\\\n",
       "\t\\hline\n",
       "\t1 & 11th & Machine-op-inspct \\\\\n",
       "\t2 & HS-grad & Farming-fishing \\\\\n",
       "\t3 & Assoc-acdm & Protective-serv \\\\\n",
       "\t4 & Some-college & Machine-op-inspct \\\\\n",
       "\t5 & Some-college & ? \\\\\n",
       "\t6 & 10th & Other-service \\\\\n",
       "\t7 & HS-grad & ? \\\\\n",
       "\t8 & Prof-school & Prof-specialty \\\\\n",
       "\t9 & Some-college & Other-service \\\\\n",
       "\t10 & 7th-8th & Craft-repair \\\\\n",
       "\t11 & HS-grad & Machine-op-inspct \\\\\n",
       "\t12 & Bachelors & Adm-clerical \\\\\n",
       "\t13 & HS-grad & Adm-clerical \\\\\n",
       "\t14 & HS-grad & ? \\\\\n",
       "\t15 & HS-grad & Machine-op-inspct \\\\\n",
       "\t16 & Masters & Exec-managerial \\\\\n",
       "\t17 & Some-college & Other-service \\\\\n",
       "\t18 & HS-grad & Adm-clerical \\\\\n",
       "\t19 & HS-grad & Machine-op-inspct \\\\\n",
       "\t20 & Doctorate & Prof-specialty \\\\\n",
       "\t21 & Bachelors & Tech-support \\\\\n",
       "\t22 & Some-college & Other-service \\\\\n",
       "\t23 & 7th-8th & ? \\\\\n",
       "\t24 & Bachelors & Prof-specialty \\\\\n",
       "\t25 & Bachelors & Prof-specialty \\\\\n",
       "\t26 & HS-grad & Craft-repair \\\\\n",
       "\t27 & HS-grad & Adm-clerical \\\\\n",
       "\t28 & HS-grad & Machine-op-inspct \\\\\n",
       "\t29 & HS-grad & Craft-repair \\\\\n",
       "\t30 & Some-college & Prof-specialty \\\\\n",
       "\t$\\dots$ & $\\dots$ & $\\dots$ \\\\\n",
       "\\end{tabular}\n"
      ],
      "text/plain": [
       "\u001b[1m48842×2 DataFrame\u001b[0m\n",
       "\u001b[1m   Row \u001b[0m│\u001b[1m education    \u001b[0m\u001b[1m occupation        \u001b[0m\n",
       "       │\u001b[90m String15     \u001b[0m\u001b[90m String31          \u001b[0m\n",
       "───────┼─────────────────────────────────\n",
       "     1 │ 11th          Machine-op-inspct\n",
       "     2 │ HS-grad       Farming-fishing\n",
       "     3 │ Assoc-acdm    Protective-serv\n",
       "     4 │ Some-college  Machine-op-inspct\n",
       "     5 │ Some-college  ?\n",
       "     6 │ 10th          Other-service\n",
       "     7 │ HS-grad       ?\n",
       "     8 │ Prof-school   Prof-specialty\n",
       "     9 │ Some-college  Other-service\n",
       "    10 │ 7th-8th       Craft-repair\n",
       "    11 │ HS-grad       Machine-op-inspct\n",
       "   ⋮   │      ⋮                ⋮\n",
       " 48833 │ 10th          Handlers-cleaners\n",
       " 48834 │ Assoc-voc     Sales\n",
       " 48835 │ Masters       Tech-support\n",
       " 48836 │ Masters       Exec-managerial\n",
       " 48837 │ Some-college  Protective-serv\n",
       " 48838 │ Assoc-acdm    Tech-support\n",
       " 48839 │ HS-grad       Machine-op-inspct\n",
       " 48840 │ HS-grad       Adm-clerical\n",
       " 48841 │ HS-grad       Adm-clerical\n",
       " 48842 │ HS-grad       Exec-managerial\n",
       "\u001b[36m                       48821 rows omitted\u001b[0m"
      ]
     },
     "execution_count": 72,
     "metadata": {},
     "output_type": "execute_result"
    }
   ],
   "source": [
    "df[!,[:education, :occupation]]"
   ]
  },
  {
   "cell_type": "code",
   "execution_count": 73,
   "id": "5cbeb932-af72-44f4-9950-a8fab29f3414",
   "metadata": {},
   "outputs": [
    {
     "data": {
      "text/plain": [
       "15-element Vector{String}:\n",
       " \"age\"\n",
       " \"workclass\"\n",
       " \"fnlwgt\"\n",
       " \"education\"\n",
       " \"education_num\"\n",
       " \"marital_status\"\n",
       " \"occupation\"\n",
       " \"relationship\"\n",
       " \"race\"\n",
       " \"sex\"\n",
       " \"capital_gain\"\n",
       " \"capital_loss\"\n",
       " \"hours_per_week\"\n",
       " \"native_country\"\n",
       " \"class\""
      ]
     },
     "execution_count": 73,
     "metadata": {},
     "output_type": "execute_result"
    }
   ],
   "source": [
    "names(df)"
   ]
  },
  {
   "cell_type": "code",
   "execution_count": 74,
   "id": "dfa10be2-c08a-46f5-b6e0-7e2cb1134446",
   "metadata": {},
   "outputs": [
    {
     "data": {
      "text/plain": [
       "15-element Vector{Symbol}:\n",
       " :age\n",
       " :workclass\n",
       " :fnlwgt\n",
       " :education\n",
       " :education_num\n",
       " :marital_status\n",
       " :occupation\n",
       " :relationship\n",
       " :race\n",
       " :sex\n",
       " :capital_gain\n",
       " :capital_loss\n",
       " :hours_per_week\n",
       " :native_country\n",
       " :class"
      ]
     },
     "execution_count": 74,
     "metadata": {},
     "output_type": "execute_result"
    }
   ],
   "source": [
    "propertynames(df)"
   ]
  },
  {
   "cell_type": "code",
   "execution_count": 75,
   "id": "63b5b34d-77a3-4315-9edc-8497d99608e5",
   "metadata": {},
   "outputs": [
    {
     "data": {
      "text/plain": [
       "7"
      ]
     },
     "execution_count": 75,
     "metadata": {},
     "output_type": "execute_result"
    }
   ],
   "source": [
    "columnindex(df, \"occupation\")"
   ]
  },
  {
   "cell_type": "code",
   "execution_count": 76,
   "id": "c1611e80-ef86-4836-b32d-cb347d1ebfd7",
   "metadata": {},
   "outputs": [
    {
     "data": {
      "text/html": [
       "<div><div style = \"float: left;\"><span>48842×15 DataFrame</span></div><div style = \"float: right;\"><span style = \"font-style: italic;\">48817 rows omitted</span></div><div style = \"clear: both;\"></div></div><div class = \"data-frame\" style = \"overflow-x: scroll;\"><table class = \"data-frame\" style = \"margin-bottom: 6px;\"><thead><tr class = \"header\"><th class = \"rowNumber\" style = \"font-weight: bold; text-align: right;\">Row</th><th style = \"text-align: left;\">age</th><th style = \"text-align: left;\">workclass</th><th style = \"text-align: left;\">fnlwgt</th><th style = \"text-align: left;\">education</th><th style = \"text-align: left;\">education_num</th><th style = \"text-align: left;\">marital_status</th><th style = \"text-align: left;\">occupation</th><th style = \"text-align: left;\">relationship</th><th style = \"text-align: left;\">race</th><th style = \"text-align: left;\">sex</th><th style = \"text-align: left;\">capital_gain</th><th style = \"text-align: left;\">capital_loss</th><th style = \"text-align: left;\">hours_per_week</th><th style = \"text-align: left;\">native_country</th><th style = \"text-align: left;\">class</th></tr><tr class = \"subheader headerLastRow\"><th class = \"rowNumber\" style = \"font-weight: bold; text-align: right;\"></th><th title = \"Int64\" style = \"text-align: left;\">Int64</th><th title = \"String31\" style = \"text-align: left;\">String31</th><th title = \"Int64\" style = \"text-align: left;\">Int64</th><th title = \"String15\" style = \"text-align: left;\">String15</th><th title = \"Int64\" style = \"text-align: left;\">Int64</th><th title = \"String31\" style = \"text-align: left;\">String31</th><th title = \"String31\" style = \"text-align: left;\">String31</th><th title = \"String15\" style = \"text-align: left;\">String15</th><th title = \"String31\" style = \"text-align: left;\">String31</th><th title = \"String7\" style = \"text-align: left;\">String7</th><th title = \"Int64\" style = \"text-align: left;\">Int64</th><th title = \"Int64\" style = \"text-align: left;\">Int64</th><th title = \"Int64\" style = \"text-align: left;\">Int64</th><th title = \"String31\" style = \"text-align: left;\">String31</th><th title = \"String7\" style = \"text-align: left;\">String7</th></tr></thead><tbody><tr><td class = \"rowNumber\" style = \"font-weight: bold; text-align: right;\">1</td><td style = \"text-align: right;\">17</td><td style = \"text-align: left;\">Private</td><td style = \"text-align: right;\">269430</td><td style = \"text-align: left;\">10th</td><td style = \"text-align: right;\">6</td><td style = \"text-align: left;\">Never-married</td><td style = \"text-align: left;\">Machine-op-inspct</td><td style = \"text-align: left;\">Not-in-family</td><td style = \"text-align: left;\">White</td><td style = \"text-align: left;\">Male</td><td style = \"text-align: right;\">0</td><td style = \"text-align: right;\">0</td><td style = \"text-align: right;\">40</td><td style = \"text-align: left;\">United-States</td><td style = \"text-align: left;\">&lt;=50K</td></tr><tr><td class = \"rowNumber\" style = \"font-weight: bold; text-align: right;\">2</td><td style = \"text-align: right;\">17</td><td style = \"text-align: left;\">?</td><td style = \"text-align: right;\">165361</td><td style = \"text-align: left;\">10th</td><td style = \"text-align: right;\">6</td><td style = \"text-align: left;\">Never-married</td><td style = \"text-align: left;\">?</td><td style = \"text-align: left;\">Own-child</td><td style = \"text-align: left;\">White</td><td style = \"text-align: left;\">Male</td><td style = \"text-align: right;\">0</td><td style = \"text-align: right;\">0</td><td style = \"text-align: right;\">40</td><td style = \"text-align: left;\">United-States</td><td style = \"text-align: left;\">&lt;=50K</td></tr><tr><td class = \"rowNumber\" style = \"font-weight: bold; text-align: right;\">3</td><td style = \"text-align: right;\">17</td><td style = \"text-align: left;\">Private</td><td style = \"text-align: right;\">40299</td><td style = \"text-align: left;\">11th</td><td style = \"text-align: right;\">7</td><td style = \"text-align: left;\">Never-married</td><td style = \"text-align: left;\">Sales</td><td style = \"text-align: left;\">Own-child</td><td style = \"text-align: left;\">White</td><td style = \"text-align: left;\">Female</td><td style = \"text-align: right;\">0</td><td style = \"text-align: right;\">0</td><td style = \"text-align: right;\">25</td><td style = \"text-align: left;\">United-States</td><td style = \"text-align: left;\">&lt;=50K</td></tr><tr><td class = \"rowNumber\" style = \"font-weight: bold; text-align: right;\">4</td><td style = \"text-align: right;\">17</td><td style = \"text-align: left;\">Private</td><td style = \"text-align: right;\">190941</td><td style = \"text-align: left;\">10th</td><td style = \"text-align: right;\">6</td><td style = \"text-align: left;\">Never-married</td><td style = \"text-align: left;\">Sales</td><td style = \"text-align: left;\">Own-child</td><td style = \"text-align: left;\">White</td><td style = \"text-align: left;\">Female</td><td style = \"text-align: right;\">0</td><td style = \"text-align: right;\">0</td><td style = \"text-align: right;\">20</td><td style = \"text-align: left;\">United-States</td><td style = \"text-align: left;\">&lt;=50K</td></tr><tr><td class = \"rowNumber\" style = \"font-weight: bold; text-align: right;\">5</td><td style = \"text-align: right;\">17</td><td style = \"text-align: left;\">?</td><td style = \"text-align: right;\">143331</td><td style = \"text-align: left;\">11th</td><td style = \"text-align: right;\">7</td><td style = \"text-align: left;\">Never-married</td><td style = \"text-align: left;\">?</td><td style = \"text-align: left;\">Own-child</td><td style = \"text-align: left;\">White</td><td style = \"text-align: left;\">Male</td><td style = \"text-align: right;\">0</td><td style = \"text-align: right;\">0</td><td style = \"text-align: right;\">40</td><td style = \"text-align: left;\">United-States</td><td style = \"text-align: left;\">&lt;=50K</td></tr><tr><td class = \"rowNumber\" style = \"font-weight: bold; text-align: right;\">6</td><td style = \"text-align: right;\">17</td><td style = \"text-align: left;\">Private</td><td style = \"text-align: right;\">61838</td><td style = \"text-align: left;\">11th</td><td style = \"text-align: right;\">7</td><td style = \"text-align: left;\">Never-married</td><td style = \"text-align: left;\">Farming-fishing</td><td style = \"text-align: left;\">Own-child</td><td style = \"text-align: left;\">White</td><td style = \"text-align: left;\">Male</td><td style = \"text-align: right;\">0</td><td style = \"text-align: right;\">0</td><td style = \"text-align: right;\">40</td><td style = \"text-align: left;\">United-States</td><td style = \"text-align: left;\">&lt;=50K</td></tr><tr><td class = \"rowNumber\" style = \"font-weight: bold; text-align: right;\">7</td><td style = \"text-align: right;\">17</td><td style = \"text-align: left;\">Private</td><td style = \"text-align: right;\">28544</td><td style = \"text-align: left;\">11th</td><td style = \"text-align: right;\">7</td><td style = \"text-align: left;\">Never-married</td><td style = \"text-align: left;\">Sales</td><td style = \"text-align: left;\">Not-in-family</td><td style = \"text-align: left;\">White</td><td style = \"text-align: left;\">Female</td><td style = \"text-align: right;\">0</td><td style = \"text-align: right;\">0</td><td style = \"text-align: right;\">20</td><td style = \"text-align: left;\">United-States</td><td style = \"text-align: left;\">&lt;=50K</td></tr><tr><td class = \"rowNumber\" style = \"font-weight: bold; text-align: right;\">8</td><td style = \"text-align: right;\">17</td><td style = \"text-align: left;\">Private</td><td style = \"text-align: right;\">81010</td><td style = \"text-align: left;\">11th</td><td style = \"text-align: right;\">7</td><td style = \"text-align: left;\">Never-married</td><td style = \"text-align: left;\">Sales</td><td style = \"text-align: left;\">Own-child</td><td style = \"text-align: left;\">White</td><td style = \"text-align: left;\">Female</td><td style = \"text-align: right;\">0</td><td style = \"text-align: right;\">0</td><td style = \"text-align: right;\">20</td><td style = \"text-align: left;\">United-States</td><td style = \"text-align: left;\">&lt;=50K</td></tr><tr><td class = \"rowNumber\" style = \"font-weight: bold; text-align: right;\">9</td><td style = \"text-align: right;\">17</td><td style = \"text-align: left;\">Private</td><td style = \"text-align: right;\">310885</td><td style = \"text-align: left;\">7th-8th</td><td style = \"text-align: right;\">4</td><td style = \"text-align: left;\">Never-married</td><td style = \"text-align: left;\">Other-service</td><td style = \"text-align: left;\">Own-child</td><td style = \"text-align: left;\">White</td><td style = \"text-align: left;\">Male</td><td style = \"text-align: right;\">0</td><td style = \"text-align: right;\">0</td><td style = \"text-align: right;\">36</td><td style = \"text-align: left;\">Mexico</td><td style = \"text-align: left;\">&lt;=50K</td></tr><tr><td class = \"rowNumber\" style = \"font-weight: bold; text-align: right;\">10</td><td style = \"text-align: right;\">17</td><td style = \"text-align: left;\">Private</td><td style = \"text-align: right;\">129396</td><td style = \"text-align: left;\">11th</td><td style = \"text-align: right;\">7</td><td style = \"text-align: left;\">Never-married</td><td style = \"text-align: left;\">Sales</td><td style = \"text-align: left;\">Other-relative</td><td style = \"text-align: left;\">White</td><td style = \"text-align: left;\">Female</td><td style = \"text-align: right;\">0</td><td style = \"text-align: right;\">0</td><td style = \"text-align: right;\">26</td><td style = \"text-align: left;\">United-States</td><td style = \"text-align: left;\">&lt;=50K</td></tr><tr><td class = \"rowNumber\" style = \"font-weight: bold; text-align: right;\">11</td><td style = \"text-align: right;\">17</td><td style = \"text-align: left;\">Private</td><td style = \"text-align: right;\">272372</td><td style = \"text-align: left;\">11th</td><td style = \"text-align: right;\">7</td><td style = \"text-align: left;\">Never-married</td><td style = \"text-align: left;\">Adm-clerical</td><td style = \"text-align: left;\">Own-child</td><td style = \"text-align: left;\">White</td><td style = \"text-align: left;\">Female</td><td style = \"text-align: right;\">0</td><td style = \"text-align: right;\">0</td><td style = \"text-align: right;\">7</td><td style = \"text-align: left;\">United-States</td><td style = \"text-align: left;\">&lt;=50K</td></tr><tr><td class = \"rowNumber\" style = \"font-weight: bold; text-align: right;\">12</td><td style = \"text-align: right;\">17</td><td style = \"text-align: left;\">?</td><td style = \"text-align: right;\">99695</td><td style = \"text-align: left;\">10th</td><td style = \"text-align: right;\">6</td><td style = \"text-align: left;\">Never-married</td><td style = \"text-align: left;\">?</td><td style = \"text-align: left;\">Own-child</td><td style = \"text-align: left;\">White</td><td style = \"text-align: left;\">Female</td><td style = \"text-align: right;\">0</td><td style = \"text-align: right;\">0</td><td style = \"text-align: right;\">15</td><td style = \"text-align: left;\">United-States</td><td style = \"text-align: left;\">&lt;=50K</td></tr><tr><td class = \"rowNumber\" style = \"font-weight: bold; text-align: right;\">13</td><td style = \"text-align: right;\">17</td><td style = \"text-align: left;\">?</td><td style = \"text-align: right;\">347248</td><td style = \"text-align: left;\">10th</td><td style = \"text-align: right;\">6</td><td style = \"text-align: left;\">Never-married</td><td style = \"text-align: left;\">?</td><td style = \"text-align: left;\">Own-child</td><td style = \"text-align: left;\">White</td><td style = \"text-align: left;\">Female</td><td style = \"text-align: right;\">0</td><td style = \"text-align: right;\">0</td><td style = \"text-align: right;\">20</td><td style = \"text-align: left;\">United-States</td><td style = \"text-align: left;\">&lt;=50K</td></tr><tr><td style = \"text-align: right;\">&vellip;</td><td style = \"text-align: right;\">&vellip;</td><td style = \"text-align: right;\">&vellip;</td><td style = \"text-align: right;\">&vellip;</td><td style = \"text-align: right;\">&vellip;</td><td style = \"text-align: right;\">&vellip;</td><td style = \"text-align: right;\">&vellip;</td><td style = \"text-align: right;\">&vellip;</td><td style = \"text-align: right;\">&vellip;</td><td style = \"text-align: right;\">&vellip;</td><td style = \"text-align: right;\">&vellip;</td><td style = \"text-align: right;\">&vellip;</td><td style = \"text-align: right;\">&vellip;</td><td style = \"text-align: right;\">&vellip;</td><td style = \"text-align: right;\">&vellip;</td><td style = \"text-align: right;\">&vellip;</td></tr><tr><td class = \"rowNumber\" style = \"font-weight: bold; text-align: right;\">48831</td><td style = \"text-align: right;\">90</td><td style = \"text-align: left;\">Private</td><td style = \"text-align: right;\">84553</td><td style = \"text-align: left;\">HS-grad</td><td style = \"text-align: right;\">9</td><td style = \"text-align: left;\">Married-civ-spouse</td><td style = \"text-align: left;\">Machine-op-inspct</td><td style = \"text-align: left;\">Husband</td><td style = \"text-align: left;\">White</td><td style = \"text-align: left;\">Male</td><td style = \"text-align: right;\">0</td><td style = \"text-align: right;\">0</td><td style = \"text-align: right;\">40</td><td style = \"text-align: left;\">United-States</td><td style = \"text-align: left;\">&lt;=50K</td></tr><tr><td class = \"rowNumber\" style = \"font-weight: bold; text-align: right;\">48832</td><td style = \"text-align: right;\">90</td><td style = \"text-align: left;\">Private</td><td style = \"text-align: right;\">226968</td><td style = \"text-align: left;\">7th-8th</td><td style = \"text-align: right;\">4</td><td style = \"text-align: left;\">Married-civ-spouse</td><td style = \"text-align: left;\">Machine-op-inspct</td><td style = \"text-align: left;\">Husband</td><td style = \"text-align: left;\">White</td><td style = \"text-align: left;\">Male</td><td style = \"text-align: right;\">0</td><td style = \"text-align: right;\">0</td><td style = \"text-align: right;\">40</td><td style = \"text-align: left;\">United-States</td><td style = \"text-align: left;\">&lt;=50K</td></tr><tr><td class = \"rowNumber\" style = \"font-weight: bold; text-align: right;\">48833</td><td style = \"text-align: right;\">90</td><td style = \"text-align: left;\">Private</td><td style = \"text-align: right;\">206667</td><td style = \"text-align: left;\">Masters</td><td style = \"text-align: right;\">14</td><td style = \"text-align: left;\">Married-civ-spouse</td><td style = \"text-align: left;\">Prof-specialty</td><td style = \"text-align: left;\">Wife</td><td style = \"text-align: left;\">White</td><td style = \"text-align: left;\">Female</td><td style = \"text-align: right;\">0</td><td style = \"text-align: right;\">0</td><td style = \"text-align: right;\">40</td><td style = \"text-align: left;\">United-States</td><td style = \"text-align: left;\">&gt;50K</td></tr><tr><td class = \"rowNumber\" style = \"font-weight: bold; text-align: right;\">48834</td><td style = \"text-align: right;\">90</td><td style = \"text-align: left;\">Private</td><td style = \"text-align: right;\">52386</td><td style = \"text-align: left;\">Bachelors</td><td style = \"text-align: right;\">13</td><td style = \"text-align: left;\">Never-married</td><td style = \"text-align: left;\">Prof-specialty</td><td style = \"text-align: left;\">Not-in-family</td><td style = \"text-align: left;\">Asian-Pac-Islander</td><td style = \"text-align: left;\">Male</td><td style = \"text-align: right;\">0</td><td style = \"text-align: right;\">0</td><td style = \"text-align: right;\">40</td><td style = \"text-align: left;\">United-States</td><td style = \"text-align: left;\">&lt;=50K</td></tr><tr><td class = \"rowNumber\" style = \"font-weight: bold; text-align: right;\">48835</td><td style = \"text-align: right;\">90</td><td style = \"text-align: left;\">Self-emp-not-inc</td><td style = \"text-align: right;\">82628</td><td style = \"text-align: left;\">HS-grad</td><td style = \"text-align: right;\">9</td><td style = \"text-align: left;\">Never-married</td><td style = \"text-align: left;\">Exec-managerial</td><td style = \"text-align: left;\">Not-in-family</td><td style = \"text-align: left;\">White</td><td style = \"text-align: left;\">Male</td><td style = \"text-align: right;\">2964</td><td style = \"text-align: right;\">0</td><td style = \"text-align: right;\">12</td><td style = \"text-align: left;\">United-States</td><td style = \"text-align: left;\">&lt;=50K</td></tr><tr><td class = \"rowNumber\" style = \"font-weight: bold; text-align: right;\">48836</td><td style = \"text-align: right;\">90</td><td style = \"text-align: left;\">?</td><td style = \"text-align: right;\">166343</td><td style = \"text-align: left;\">1st-4th</td><td style = \"text-align: right;\">2</td><td style = \"text-align: left;\">Widowed</td><td style = \"text-align: left;\">?</td><td style = \"text-align: left;\">Not-in-family</td><td style = \"text-align: left;\">Black</td><td style = \"text-align: left;\">Female</td><td style = \"text-align: right;\">0</td><td style = \"text-align: right;\">0</td><td style = \"text-align: right;\">40</td><td style = \"text-align: left;\">United-States</td><td style = \"text-align: left;\">&lt;=50K</td></tr><tr><td class = \"rowNumber\" style = \"font-weight: bold; text-align: right;\">48837</td><td style = \"text-align: right;\">90</td><td style = \"text-align: left;\">?</td><td style = \"text-align: right;\">175444</td><td style = \"text-align: left;\">7th-8th</td><td style = \"text-align: right;\">4</td><td style = \"text-align: left;\">Separated</td><td style = \"text-align: left;\">?</td><td style = \"text-align: left;\">Not-in-family</td><td style = \"text-align: left;\">White</td><td style = \"text-align: left;\">Female</td><td style = \"text-align: right;\">0</td><td style = \"text-align: right;\">0</td><td style = \"text-align: right;\">15</td><td style = \"text-align: left;\">United-States</td><td style = \"text-align: left;\">&lt;=50K</td></tr><tr><td class = \"rowNumber\" style = \"font-weight: bold; text-align: right;\">48838</td><td style = \"text-align: right;\">90</td><td style = \"text-align: left;\">Federal-gov</td><td style = \"text-align: right;\">195433</td><td style = \"text-align: left;\">HS-grad</td><td style = \"text-align: right;\">9</td><td style = \"text-align: left;\">Married-civ-spouse</td><td style = \"text-align: left;\">Craft-repair</td><td style = \"text-align: left;\">Husband</td><td style = \"text-align: left;\">White</td><td style = \"text-align: left;\">Male</td><td style = \"text-align: right;\">0</td><td style = \"text-align: right;\">0</td><td style = \"text-align: right;\">30</td><td style = \"text-align: left;\">United-States</td><td style = \"text-align: left;\">&lt;=50K</td></tr><tr><td class = \"rowNumber\" style = \"font-weight: bold; text-align: right;\">48839</td><td style = \"text-align: right;\">90</td><td style = \"text-align: left;\">Private</td><td style = \"text-align: right;\">47929</td><td style = \"text-align: left;\">HS-grad</td><td style = \"text-align: right;\">9</td><td style = \"text-align: left;\">Married-civ-spouse</td><td style = \"text-align: left;\">Machine-op-inspct</td><td style = \"text-align: left;\">Husband</td><td style = \"text-align: left;\">White</td><td style = \"text-align: left;\">Male</td><td style = \"text-align: right;\">0</td><td style = \"text-align: right;\">0</td><td style = \"text-align: right;\">40</td><td style = \"text-align: left;\">United-States</td><td style = \"text-align: left;\">&lt;=50K</td></tr><tr><td class = \"rowNumber\" style = \"font-weight: bold; text-align: right;\">48840</td><td style = \"text-align: right;\">90</td><td style = \"text-align: left;\">?</td><td style = \"text-align: right;\">313986</td><td style = \"text-align: left;\">HS-grad</td><td style = \"text-align: right;\">9</td><td style = \"text-align: left;\">Married-civ-spouse</td><td style = \"text-align: left;\">?</td><td style = \"text-align: left;\">Husband</td><td style = \"text-align: left;\">White</td><td style = \"text-align: left;\">Male</td><td style = \"text-align: right;\">0</td><td style = \"text-align: right;\">0</td><td style = \"text-align: right;\">40</td><td style = \"text-align: left;\">United-States</td><td style = \"text-align: left;\">&gt;50K</td></tr><tr><td class = \"rowNumber\" style = \"font-weight: bold; text-align: right;\">48841</td><td style = \"text-align: right;\">90</td><td style = \"text-align: left;\">Private</td><td style = \"text-align: right;\">313749</td><td style = \"text-align: left;\">HS-grad</td><td style = \"text-align: right;\">9</td><td style = \"text-align: left;\">Widowed</td><td style = \"text-align: left;\">Adm-clerical</td><td style = \"text-align: left;\">Unmarried</td><td style = \"text-align: left;\">White</td><td style = \"text-align: left;\">Female</td><td style = \"text-align: right;\">0</td><td style = \"text-align: right;\">0</td><td style = \"text-align: right;\">25</td><td style = \"text-align: left;\">United-States</td><td style = \"text-align: left;\">&lt;=50K</td></tr><tr><td class = \"rowNumber\" style = \"font-weight: bold; text-align: right;\">48842</td><td style = \"text-align: right;\">90</td><td style = \"text-align: left;\">Local-gov</td><td style = \"text-align: right;\">214594</td><td style = \"text-align: left;\">7th-8th</td><td style = \"text-align: right;\">4</td><td style = \"text-align: left;\">Married-civ-spouse</td><td style = \"text-align: left;\">Protective-serv</td><td style = \"text-align: left;\">Husband</td><td style = \"text-align: left;\">White</td><td style = \"text-align: left;\">Male</td><td style = \"text-align: right;\">2653</td><td style = \"text-align: right;\">0</td><td style = \"text-align: right;\">40</td><td style = \"text-align: left;\">United-States</td><td style = \"text-align: left;\">&lt;=50K</td></tr></tbody></table></div>"
      ],
      "text/latex": [
       "\\begin{tabular}{r|cccccccc}\n",
       "\t& age & workclass & fnlwgt & education & education\\_num & marital\\_status & occupation & \\\\\n",
       "\t\\hline\n",
       "\t& Int64 & String31 & Int64 & String15 & Int64 & String31 & String31 & \\\\\n",
       "\t\\hline\n",
       "\t1 & 17 & Private & 269430 & 10th & 6 & Never-married & Machine-op-inspct & $\\dots$ \\\\\n",
       "\t2 & 17 & ? & 165361 & 10th & 6 & Never-married & ? & $\\dots$ \\\\\n",
       "\t3 & 17 & Private & 40299 & 11th & 7 & Never-married & Sales & $\\dots$ \\\\\n",
       "\t4 & 17 & Private & 190941 & 10th & 6 & Never-married & Sales & $\\dots$ \\\\\n",
       "\t5 & 17 & ? & 143331 & 11th & 7 & Never-married & ? & $\\dots$ \\\\\n",
       "\t6 & 17 & Private & 61838 & 11th & 7 & Never-married & Farming-fishing & $\\dots$ \\\\\n",
       "\t7 & 17 & Private & 28544 & 11th & 7 & Never-married & Sales & $\\dots$ \\\\\n",
       "\t8 & 17 & Private & 81010 & 11th & 7 & Never-married & Sales & $\\dots$ \\\\\n",
       "\t9 & 17 & Private & 310885 & 7th-8th & 4 & Never-married & Other-service & $\\dots$ \\\\\n",
       "\t10 & 17 & Private & 129396 & 11th & 7 & Never-married & Sales & $\\dots$ \\\\\n",
       "\t11 & 17 & Private & 272372 & 11th & 7 & Never-married & Adm-clerical & $\\dots$ \\\\\n",
       "\t12 & 17 & ? & 99695 & 10th & 6 & Never-married & ? & $\\dots$ \\\\\n",
       "\t13 & 17 & ? & 347248 & 10th & 6 & Never-married & ? & $\\dots$ \\\\\n",
       "\t14 & 17 & Private & 173740 & 10th & 6 & Never-married & Sales & $\\dots$ \\\\\n",
       "\t15 & 17 & Private & 242605 & 10th & 6 & Never-married & Handlers-cleaners & $\\dots$ \\\\\n",
       "\t16 & 17 & Private & 138507 & 10th & 6 & Never-married & Handlers-cleaners & $\\dots$ \\\\\n",
       "\t17 & 17 & Private & 408012 & 12th & 8 & Never-married & Sales & $\\dots$ \\\\\n",
       "\t18 & 17 & ? & 94492 & 10th & 6 & Never-married & ? & $\\dots$ \\\\\n",
       "\t19 & 17 & Private & 162205 & 10th & 6 & Never-married & Handlers-cleaners & $\\dots$ \\\\\n",
       "\t20 & 17 & Private & 36801 & 10th & 6 & Never-married & Other-service & $\\dots$ \\\\\n",
       "\t21 & 17 & Private & 91141 & 10th & 6 & Never-married & Sales & $\\dots$ \\\\\n",
       "\t22 & 17 & Private & 41865 & HS-grad & 9 & Never-married & Adm-clerical & $\\dots$ \\\\\n",
       "\t23 & 17 & Private & 175109 & 11th & 7 & Never-married & Other-service & $\\dots$ \\\\\n",
       "\t24 & 17 & Private & 286422 & 10th & 6 & Never-married & Handlers-cleaners & $\\dots$ \\\\\n",
       "\t25 & 17 & Private & 74706 & 11th & 7 & Never-married & Priv-house-serv & $\\dots$ \\\\\n",
       "\t26 & 17 & Private & 266497 & 9th & 5 & Never-married & Handlers-cleaners & $\\dots$ \\\\\n",
       "\t27 & 17 & Private & 355850 & 11th & 7 & Never-married & Transport-moving & $\\dots$ \\\\\n",
       "\t28 & 17 & Private & 247580 & 12th & 8 & Never-married & Handlers-cleaners & $\\dots$ \\\\\n",
       "\t29 & 17 & Private & 116267 & 12th & 8 & Never-married & Craft-repair & $\\dots$ \\\\\n",
       "\t30 & 17 & Local-gov & 292285 & 11th & 7 & Never-married & Prof-specialty & $\\dots$ \\\\\n",
       "\t$\\dots$ & $\\dots$ & $\\dots$ & $\\dots$ & $\\dots$ & $\\dots$ & $\\dots$ & $\\dots$ &  \\\\\n",
       "\\end{tabular}\n"
      ],
      "text/plain": [
       "\u001b[1m48842×15 DataFrame\u001b[0m\n",
       "\u001b[1m   Row \u001b[0m│\u001b[1m age   \u001b[0m\u001b[1m workclass        \u001b[0m\u001b[1m fnlwgt \u001b[0m\u001b[1m education    \u001b[0m\u001b[1m education_num \u001b[0m\u001b[1m marital\u001b[0m ⋯\n",
       "       │\u001b[90m Int64 \u001b[0m\u001b[90m String31         \u001b[0m\u001b[90m Int64  \u001b[0m\u001b[90m String15     \u001b[0m\u001b[90m Int64         \u001b[0m\u001b[90m String3\u001b[0m ⋯\n",
       "───────┼────────────────────────────────────────────────────────────────────────\n",
       "     1 │    17  Private           269430  10th                      6  Never-m ⋯\n",
       "     2 │    17  ?                 165361  10th                      6  Never-m\n",
       "     3 │    17  Private            40299  11th                      7  Never-m\n",
       "     4 │    17  Private           190941  10th                      6  Never-m\n",
       "     5 │    17  ?                 143331  11th                      7  Never-m ⋯\n",
       "     6 │    17  Private            61838  11th                      7  Never-m\n",
       "     7 │    17  Private            28544  11th                      7  Never-m\n",
       "     8 │    17  Private            81010  11th                      7  Never-m\n",
       "     9 │    17  Private           310885  7th-8th                   4  Never-m ⋯\n",
       "    10 │    17  Private           129396  11th                      7  Never-m\n",
       "    11 │    17  Private           272372  11th                      7  Never-m\n",
       "   ⋮   │   ⋮           ⋮            ⋮          ⋮              ⋮                ⋱\n",
       " 48833 │    90  Private           206667  Masters                  14  Married\n",
       " 48834 │    90  Private            52386  Bachelors                13  Never-m ⋯\n",
       " 48835 │    90  Self-emp-not-inc   82628  HS-grad                   9  Never-m\n",
       " 48836 │    90  ?                 166343  1st-4th                   2  Widowed\n",
       " 48837 │    90  ?                 175444  7th-8th                   4  Separat\n",
       " 48838 │    90  Federal-gov       195433  HS-grad                   9  Married ⋯\n",
       " 48839 │    90  Private            47929  HS-grad                   9  Married\n",
       " 48840 │    90  ?                 313986  HS-grad                   9  Married\n",
       " 48841 │    90  Private           313749  HS-grad                   9  Widowed\n",
       " 48842 │    90  Local-gov         214594  7th-8th                   4  Married ⋯\n",
       "\u001b[36m                                               10 columns and 48821 rows omitted\u001b[0m"
      ]
     },
     "execution_count": 76,
     "metadata": {},
     "output_type": "execute_result"
    }
   ],
   "source": [
    "sort(df, :age)"
   ]
  },
  {
   "cell_type": "code",
   "execution_count": 78,
   "id": "11944c67-6cd2-47ff-8a4b-59665707cea6",
   "metadata": {},
   "outputs": [
    {
     "data": {
      "text/html": [
       "<div><div style = \"float: left;\"><span>48842×15 DataFrame</span></div><div style = \"float: right;\"><span style = \"font-style: italic;\">48817 rows omitted</span></div><div style = \"clear: both;\"></div></div><div class = \"data-frame\" style = \"overflow-x: scroll;\"><table class = \"data-frame\" style = \"margin-bottom: 6px;\"><thead><tr class = \"header\"><th class = \"rowNumber\" style = \"font-weight: bold; text-align: right;\">Row</th><th style = \"text-align: left;\">age</th><th style = \"text-align: left;\">workclass</th><th style = \"text-align: left;\">fnlwgt</th><th style = \"text-align: left;\">education</th><th style = \"text-align: left;\">education_num</th><th style = \"text-align: left;\">marital_status</th><th style = \"text-align: left;\">occupation</th><th style = \"text-align: left;\">relationship</th><th style = \"text-align: left;\">race</th><th style = \"text-align: left;\">sex</th><th style = \"text-align: left;\">capital_gain</th><th style = \"text-align: left;\">capital_loss</th><th style = \"text-align: left;\">hours_per_week</th><th style = \"text-align: left;\">native_country</th><th style = \"text-align: left;\">class</th></tr><tr class = \"subheader headerLastRow\"><th class = \"rowNumber\" style = \"font-weight: bold; text-align: right;\"></th><th title = \"Int64\" style = \"text-align: left;\">Int64</th><th title = \"String31\" style = \"text-align: left;\">String31</th><th title = \"Int64\" style = \"text-align: left;\">Int64</th><th title = \"String15\" style = \"text-align: left;\">String15</th><th title = \"Int64\" style = \"text-align: left;\">Int64</th><th title = \"String31\" style = \"text-align: left;\">String31</th><th title = \"String31\" style = \"text-align: left;\">String31</th><th title = \"String15\" style = \"text-align: left;\">String15</th><th title = \"String31\" style = \"text-align: left;\">String31</th><th title = \"String7\" style = \"text-align: left;\">String7</th><th title = \"Int64\" style = \"text-align: left;\">Int64</th><th title = \"Int64\" style = \"text-align: left;\">Int64</th><th title = \"Int64\" style = \"text-align: left;\">Int64</th><th title = \"String31\" style = \"text-align: left;\">String31</th><th title = \"String7\" style = \"text-align: left;\">String7</th></tr></thead><tbody><tr><td class = \"rowNumber\" style = \"font-weight: bold; text-align: right;\">1</td><td style = \"text-align: right;\">90</td><td style = \"text-align: left;\">Private</td><td style = \"text-align: right;\">149069</td><td style = \"text-align: left;\">Assoc-acdm</td><td style = \"text-align: right;\">12</td><td style = \"text-align: left;\">Married-civ-spouse</td><td style = \"text-align: left;\">Sales</td><td style = \"text-align: left;\">Husband</td><td style = \"text-align: left;\">White</td><td style = \"text-align: left;\">Male</td><td style = \"text-align: right;\">0</td><td style = \"text-align: right;\">1825</td><td style = \"text-align: right;\">50</td><td style = \"text-align: left;\">United-States</td><td style = \"text-align: left;\">&gt;50K</td></tr><tr><td class = \"rowNumber\" style = \"font-weight: bold; text-align: right;\">2</td><td style = \"text-align: right;\">90</td><td style = \"text-align: left;\">Self-emp-not-inc</td><td style = \"text-align: right;\">83601</td><td style = \"text-align: left;\">Prof-school</td><td style = \"text-align: right;\">15</td><td style = \"text-align: left;\">Widowed</td><td style = \"text-align: left;\">Prof-specialty</td><td style = \"text-align: left;\">Not-in-family</td><td style = \"text-align: left;\">White</td><td style = \"text-align: left;\">Male</td><td style = \"text-align: right;\">1086</td><td style = \"text-align: right;\">0</td><td style = \"text-align: right;\">60</td><td style = \"text-align: left;\">United-States</td><td style = \"text-align: left;\">&lt;=50K</td></tr><tr><td class = \"rowNumber\" style = \"font-weight: bold; text-align: right;\">3</td><td style = \"text-align: right;\">90</td><td style = \"text-align: left;\">Private</td><td style = \"text-align: right;\">250832</td><td style = \"text-align: left;\">HS-grad</td><td style = \"text-align: right;\">9</td><td style = \"text-align: left;\">Married-civ-spouse</td><td style = \"text-align: left;\">Transport-moving</td><td style = \"text-align: left;\">Husband</td><td style = \"text-align: left;\">White</td><td style = \"text-align: left;\">Male</td><td style = \"text-align: right;\">2414</td><td style = \"text-align: right;\">0</td><td style = \"text-align: right;\">40</td><td style = \"text-align: left;\">United-States</td><td style = \"text-align: left;\">&lt;=50K</td></tr><tr><td class = \"rowNumber\" style = \"font-weight: bold; text-align: right;\">4</td><td style = \"text-align: right;\">90</td><td style = \"text-align: left;\">Private</td><td style = \"text-align: right;\">227796</td><td style = \"text-align: left;\">Assoc-acdm</td><td style = \"text-align: right;\">12</td><td style = \"text-align: left;\">Never-married</td><td style = \"text-align: left;\">Exec-managerial</td><td style = \"text-align: left;\">Not-in-family</td><td style = \"text-align: left;\">White</td><td style = \"text-align: left;\">Male</td><td style = \"text-align: right;\">6097</td><td style = \"text-align: right;\">0</td><td style = \"text-align: right;\">45</td><td style = \"text-align: left;\">United-States</td><td style = \"text-align: left;\">&gt;50K</td></tr><tr><td class = \"rowNumber\" style = \"font-weight: bold; text-align: right;\">5</td><td style = \"text-align: right;\">90</td><td style = \"text-align: left;\">Self-emp-not-inc</td><td style = \"text-align: right;\">122348</td><td style = \"text-align: left;\">Prof-school</td><td style = \"text-align: right;\">15</td><td style = \"text-align: left;\">Married-civ-spouse</td><td style = \"text-align: left;\">Prof-specialty</td><td style = \"text-align: left;\">Husband</td><td style = \"text-align: left;\">White</td><td style = \"text-align: left;\">Male</td><td style = \"text-align: right;\">20051</td><td style = \"text-align: right;\">0</td><td style = \"text-align: right;\">45</td><td style = \"text-align: left;\">United-States</td><td style = \"text-align: left;\">&gt;50K</td></tr><tr><td class = \"rowNumber\" style = \"font-weight: bold; text-align: right;\">6</td><td style = \"text-align: right;\">90</td><td style = \"text-align: left;\">Federal-gov</td><td style = \"text-align: right;\">311184</td><td style = \"text-align: left;\">Masters</td><td style = \"text-align: right;\">14</td><td style = \"text-align: left;\">Divorced</td><td style = \"text-align: left;\">Prof-specialty</td><td style = \"text-align: left;\">Not-in-family</td><td style = \"text-align: left;\">White</td><td style = \"text-align: left;\">Male</td><td style = \"text-align: right;\">0</td><td style = \"text-align: right;\">0</td><td style = \"text-align: right;\">99</td><td style = \"text-align: left;\">United-States</td><td style = \"text-align: left;\">&lt;=50K</td></tr><tr><td class = \"rowNumber\" style = \"font-weight: bold; text-align: right;\">7</td><td style = \"text-align: right;\">90</td><td style = \"text-align: left;\">Private</td><td style = \"text-align: right;\">225063</td><td style = \"text-align: left;\">HS-grad</td><td style = \"text-align: right;\">9</td><td style = \"text-align: left;\">Married-civ-spouse</td><td style = \"text-align: left;\">Craft-repair</td><td style = \"text-align: left;\">Husband</td><td style = \"text-align: left;\">Asian-Pac-Islander</td><td style = \"text-align: left;\">Male</td><td style = \"text-align: right;\">0</td><td style = \"text-align: right;\">0</td><td style = \"text-align: right;\">40</td><td style = \"text-align: left;\">South</td><td style = \"text-align: left;\">&lt;=50K</td></tr><tr><td class = \"rowNumber\" style = \"font-weight: bold; text-align: right;\">8</td><td style = \"text-align: right;\">90</td><td style = \"text-align: left;\">Local-gov</td><td style = \"text-align: right;\">188242</td><td style = \"text-align: left;\">HS-grad</td><td style = \"text-align: right;\">9</td><td style = \"text-align: left;\">Never-married</td><td style = \"text-align: left;\">Craft-repair</td><td style = \"text-align: left;\">Own-child</td><td style = \"text-align: left;\">White</td><td style = \"text-align: left;\">Male</td><td style = \"text-align: right;\">11678</td><td style = \"text-align: right;\">0</td><td style = \"text-align: right;\">40</td><td style = \"text-align: left;\">United-States</td><td style = \"text-align: left;\">&gt;50K</td></tr><tr><td class = \"rowNumber\" style = \"font-weight: bold; text-align: right;\">9</td><td style = \"text-align: right;\">90</td><td style = \"text-align: left;\">?</td><td style = \"text-align: right;\">50746</td><td style = \"text-align: left;\">10th</td><td style = \"text-align: right;\">6</td><td style = \"text-align: left;\">Divorced</td><td style = \"text-align: left;\">?</td><td style = \"text-align: left;\">Not-in-family</td><td style = \"text-align: left;\">White</td><td style = \"text-align: left;\">Female</td><td style = \"text-align: right;\">0</td><td style = \"text-align: right;\">0</td><td style = \"text-align: right;\">7</td><td style = \"text-align: left;\">United-States</td><td style = \"text-align: left;\">&lt;=50K</td></tr><tr><td class = \"rowNumber\" style = \"font-weight: bold; text-align: right;\">10</td><td style = \"text-align: right;\">90</td><td style = \"text-align: left;\">Private</td><td style = \"text-align: right;\">347074</td><td style = \"text-align: left;\">Some-college</td><td style = \"text-align: right;\">10</td><td style = \"text-align: left;\">Never-married</td><td style = \"text-align: left;\">Adm-clerical</td><td style = \"text-align: left;\">Own-child</td><td style = \"text-align: left;\">White</td><td style = \"text-align: left;\">Female</td><td style = \"text-align: right;\">0</td><td style = \"text-align: right;\">1944</td><td style = \"text-align: right;\">12</td><td style = \"text-align: left;\">United-States</td><td style = \"text-align: left;\">&lt;=50K</td></tr><tr><td class = \"rowNumber\" style = \"font-weight: bold; text-align: right;\">11</td><td style = \"text-align: right;\">90</td><td style = \"text-align: left;\">Private</td><td style = \"text-align: right;\">272752</td><td style = \"text-align: left;\">Some-college</td><td style = \"text-align: right;\">10</td><td style = \"text-align: left;\">Never-married</td><td style = \"text-align: left;\">Other-service</td><td style = \"text-align: left;\">Own-child</td><td style = \"text-align: left;\">White</td><td style = \"text-align: left;\">Male</td><td style = \"text-align: right;\">0</td><td style = \"text-align: right;\">0</td><td style = \"text-align: right;\">10</td><td style = \"text-align: left;\">United-States</td><td style = \"text-align: left;\">&lt;=50K</td></tr><tr><td class = \"rowNumber\" style = \"font-weight: bold; text-align: right;\">12</td><td style = \"text-align: right;\">90</td><td style = \"text-align: left;\">Private</td><td style = \"text-align: right;\">197613</td><td style = \"text-align: left;\">HS-grad</td><td style = \"text-align: right;\">9</td><td style = \"text-align: left;\">Never-married</td><td style = \"text-align: left;\">Adm-clerical</td><td style = \"text-align: left;\">Not-in-family</td><td style = \"text-align: left;\">White</td><td style = \"text-align: left;\">Female</td><td style = \"text-align: right;\">0</td><td style = \"text-align: right;\">0</td><td style = \"text-align: right;\">40</td><td style = \"text-align: left;\">United-States</td><td style = \"text-align: left;\">&gt;50K</td></tr><tr><td class = \"rowNumber\" style = \"font-weight: bold; text-align: right;\">13</td><td style = \"text-align: right;\">90</td><td style = \"text-align: left;\">Private</td><td style = \"text-align: right;\">51744</td><td style = \"text-align: left;\">HS-grad</td><td style = \"text-align: right;\">9</td><td style = \"text-align: left;\">Never-married</td><td style = \"text-align: left;\">Other-service</td><td style = \"text-align: left;\">Not-in-family</td><td style = \"text-align: left;\">Black</td><td style = \"text-align: left;\">Male</td><td style = \"text-align: right;\">0</td><td style = \"text-align: right;\">2206</td><td style = \"text-align: right;\">40</td><td style = \"text-align: left;\">United-States</td><td style = \"text-align: left;\">&lt;=50K</td></tr><tr><td style = \"text-align: right;\">&vellip;</td><td style = \"text-align: right;\">&vellip;</td><td style = \"text-align: right;\">&vellip;</td><td style = \"text-align: right;\">&vellip;</td><td style = \"text-align: right;\">&vellip;</td><td style = \"text-align: right;\">&vellip;</td><td style = \"text-align: right;\">&vellip;</td><td style = \"text-align: right;\">&vellip;</td><td style = \"text-align: right;\">&vellip;</td><td style = \"text-align: right;\">&vellip;</td><td style = \"text-align: right;\">&vellip;</td><td style = \"text-align: right;\">&vellip;</td><td style = \"text-align: right;\">&vellip;</td><td style = \"text-align: right;\">&vellip;</td><td style = \"text-align: right;\">&vellip;</td><td style = \"text-align: right;\">&vellip;</td></tr><tr><td class = \"rowNumber\" style = \"font-weight: bold; text-align: right;\">48831</td><td style = \"text-align: right;\">17</td><td style = \"text-align: left;\">?</td><td style = \"text-align: right;\">41643</td><td style = \"text-align: left;\">11th</td><td style = \"text-align: right;\">7</td><td style = \"text-align: left;\">Never-married</td><td style = \"text-align: left;\">?</td><td style = \"text-align: left;\">Own-child</td><td style = \"text-align: left;\">White</td><td style = \"text-align: left;\">Female</td><td style = \"text-align: right;\">0</td><td style = \"text-align: right;\">0</td><td style = \"text-align: right;\">15</td><td style = \"text-align: left;\">United-States</td><td style = \"text-align: left;\">&lt;=50K</td></tr><tr><td class = \"rowNumber\" style = \"font-weight: bold; text-align: right;\">48832</td><td style = \"text-align: right;\">17</td><td style = \"text-align: left;\">?</td><td style = \"text-align: right;\">172145</td><td style = \"text-align: left;\">10th</td><td style = \"text-align: right;\">6</td><td style = \"text-align: left;\">Never-married</td><td style = \"text-align: left;\">?</td><td style = \"text-align: left;\">Own-child</td><td style = \"text-align: left;\">Black</td><td style = \"text-align: left;\">Female</td><td style = \"text-align: right;\">0</td><td style = \"text-align: right;\">0</td><td style = \"text-align: right;\">40</td><td style = \"text-align: left;\">United-States</td><td style = \"text-align: left;\">&lt;=50K</td></tr><tr><td class = \"rowNumber\" style = \"font-weight: bold; text-align: right;\">48833</td><td style = \"text-align: right;\">17</td><td style = \"text-align: left;\">Private</td><td style = \"text-align: right;\">277541</td><td style = \"text-align: left;\">11th</td><td style = \"text-align: right;\">7</td><td style = \"text-align: left;\">Never-married</td><td style = \"text-align: left;\">Sales</td><td style = \"text-align: left;\">Own-child</td><td style = \"text-align: left;\">White</td><td style = \"text-align: left;\">Male</td><td style = \"text-align: right;\">0</td><td style = \"text-align: right;\">0</td><td style = \"text-align: right;\">5</td><td style = \"text-align: left;\">United-States</td><td style = \"text-align: left;\">&lt;=50K</td></tr><tr><td class = \"rowNumber\" style = \"font-weight: bold; text-align: right;\">48834</td><td style = \"text-align: right;\">17</td><td style = \"text-align: left;\">Private</td><td style = \"text-align: right;\">375657</td><td style = \"text-align: left;\">11th</td><td style = \"text-align: right;\">7</td><td style = \"text-align: left;\">Never-married</td><td style = \"text-align: left;\">Handlers-cleaners</td><td style = \"text-align: left;\">Own-child</td><td style = \"text-align: left;\">White</td><td style = \"text-align: left;\">Male</td><td style = \"text-align: right;\">0</td><td style = \"text-align: right;\">0</td><td style = \"text-align: right;\">30</td><td style = \"text-align: left;\">United-States</td><td style = \"text-align: left;\">&lt;=50K</td></tr><tr><td class = \"rowNumber\" style = \"font-weight: bold; text-align: right;\">48835</td><td style = \"text-align: right;\">17</td><td style = \"text-align: left;\">Private</td><td style = \"text-align: right;\">309504</td><td style = \"text-align: left;\">10th</td><td style = \"text-align: right;\">6</td><td style = \"text-align: left;\">Never-married</td><td style = \"text-align: left;\">Sales</td><td style = \"text-align: left;\">Unmarried</td><td style = \"text-align: left;\">White</td><td style = \"text-align: left;\">Female</td><td style = \"text-align: right;\">0</td><td style = \"text-align: right;\">0</td><td style = \"text-align: right;\">24</td><td style = \"text-align: left;\">United-States</td><td style = \"text-align: left;\">&lt;=50K</td></tr><tr><td class = \"rowNumber\" style = \"font-weight: bold; text-align: right;\">48836</td><td style = \"text-align: right;\">17</td><td style = \"text-align: left;\">Private</td><td style = \"text-align: right;\">141590</td><td style = \"text-align: left;\">11th</td><td style = \"text-align: right;\">7</td><td style = \"text-align: left;\">Never-married</td><td style = \"text-align: left;\">Priv-house-serv</td><td style = \"text-align: left;\">Own-child</td><td style = \"text-align: left;\">White</td><td style = \"text-align: left;\">Female</td><td style = \"text-align: right;\">0</td><td style = \"text-align: right;\">0</td><td style = \"text-align: right;\">12</td><td style = \"text-align: left;\">United-States</td><td style = \"text-align: left;\">&lt;=50K</td></tr><tr><td class = \"rowNumber\" style = \"font-weight: bold; text-align: right;\">48837</td><td style = \"text-align: right;\">17</td><td style = \"text-align: left;\">?</td><td style = \"text-align: right;\">171461</td><td style = \"text-align: left;\">10th</td><td style = \"text-align: right;\">6</td><td style = \"text-align: left;\">Never-married</td><td style = \"text-align: left;\">?</td><td style = \"text-align: left;\">Own-child</td><td style = \"text-align: left;\">White</td><td style = \"text-align: left;\">Female</td><td style = \"text-align: right;\">0</td><td style = \"text-align: right;\">0</td><td style = \"text-align: right;\">20</td><td style = \"text-align: left;\">United-States</td><td style = \"text-align: left;\">&lt;=50K</td></tr><tr><td class = \"rowNumber\" style = \"font-weight: bold; text-align: right;\">48838</td><td style = \"text-align: right;\">17</td><td style = \"text-align: left;\">?</td><td style = \"text-align: right;\">256173</td><td style = \"text-align: left;\">10th</td><td style = \"text-align: right;\">6</td><td style = \"text-align: left;\">Never-married</td><td style = \"text-align: left;\">?</td><td style = \"text-align: left;\">Own-child</td><td style = \"text-align: left;\">White</td><td style = \"text-align: left;\">Female</td><td style = \"text-align: right;\">0</td><td style = \"text-align: right;\">0</td><td style = \"text-align: right;\">15</td><td style = \"text-align: left;\">United-States</td><td style = \"text-align: left;\">&lt;=50K</td></tr><tr><td class = \"rowNumber\" style = \"font-weight: bold; text-align: right;\">48839</td><td style = \"text-align: right;\">17</td><td style = \"text-align: left;\">Private</td><td style = \"text-align: right;\">214787</td><td style = \"text-align: left;\">12th</td><td style = \"text-align: right;\">8</td><td style = \"text-align: left;\">Never-married</td><td style = \"text-align: left;\">Adm-clerical</td><td style = \"text-align: left;\">Own-child</td><td style = \"text-align: left;\">White</td><td style = \"text-align: left;\">Female</td><td style = \"text-align: right;\">0</td><td style = \"text-align: right;\">0</td><td style = \"text-align: right;\">25</td><td style = \"text-align: left;\">United-States</td><td style = \"text-align: left;\">&lt;=50K</td></tr><tr><td class = \"rowNumber\" style = \"font-weight: bold; text-align: right;\">48840</td><td style = \"text-align: right;\">17</td><td style = \"text-align: left;\">Private</td><td style = \"text-align: right;\">24090</td><td style = \"text-align: left;\">HS-grad</td><td style = \"text-align: right;\">9</td><td style = \"text-align: left;\">Never-married</td><td style = \"text-align: left;\">Exec-managerial</td><td style = \"text-align: left;\">Own-child</td><td style = \"text-align: left;\">White</td><td style = \"text-align: left;\">Female</td><td style = \"text-align: right;\">0</td><td style = \"text-align: right;\">0</td><td style = \"text-align: right;\">35</td><td style = \"text-align: left;\">United-States</td><td style = \"text-align: left;\">&lt;=50K</td></tr><tr><td class = \"rowNumber\" style = \"font-weight: bold; text-align: right;\">48841</td><td style = \"text-align: right;\">17</td><td style = \"text-align: left;\">Private</td><td style = \"text-align: right;\">311907</td><td style = \"text-align: left;\">11th</td><td style = \"text-align: right;\">7</td><td style = \"text-align: left;\">Never-married</td><td style = \"text-align: left;\">Other-service</td><td style = \"text-align: left;\">Own-child</td><td style = \"text-align: left;\">White</td><td style = \"text-align: left;\">Male</td><td style = \"text-align: right;\">0</td><td style = \"text-align: right;\">0</td><td style = \"text-align: right;\">25</td><td style = \"text-align: left;\">United-States</td><td style = \"text-align: left;\">&lt;=50K</td></tr><tr><td class = \"rowNumber\" style = \"font-weight: bold; text-align: right;\">48842</td><td style = \"text-align: right;\">17</td><td style = \"text-align: left;\">Private</td><td style = \"text-align: right;\">117798</td><td style = \"text-align: left;\">10th</td><td style = \"text-align: right;\">6</td><td style = \"text-align: left;\">Never-married</td><td style = \"text-align: left;\">Other-service</td><td style = \"text-align: left;\">Own-child</td><td style = \"text-align: left;\">White</td><td style = \"text-align: left;\">Male</td><td style = \"text-align: right;\">0</td><td style = \"text-align: right;\">0</td><td style = \"text-align: right;\">20</td><td style = \"text-align: left;\">United-States</td><td style = \"text-align: left;\">&lt;=50K</td></tr></tbody></table></div>"
      ],
      "text/latex": [
       "\\begin{tabular}{r|ccccccc}\n",
       "\t& age & workclass & fnlwgt & education & education\\_num & marital\\_status & \\\\\n",
       "\t\\hline\n",
       "\t& Int64 & String31 & Int64 & String15 & Int64 & String31 & \\\\\n",
       "\t\\hline\n",
       "\t1 & 90 & Private & 149069 & Assoc-acdm & 12 & Married-civ-spouse & $\\dots$ \\\\\n",
       "\t2 & 90 & Self-emp-not-inc & 83601 & Prof-school & 15 & Widowed & $\\dots$ \\\\\n",
       "\t3 & 90 & Private & 250832 & HS-grad & 9 & Married-civ-spouse & $\\dots$ \\\\\n",
       "\t4 & 90 & Private & 227796 & Assoc-acdm & 12 & Never-married & $\\dots$ \\\\\n",
       "\t5 & 90 & Self-emp-not-inc & 122348 & Prof-school & 15 & Married-civ-spouse & $\\dots$ \\\\\n",
       "\t6 & 90 & Federal-gov & 311184 & Masters & 14 & Divorced & $\\dots$ \\\\\n",
       "\t7 & 90 & Private & 225063 & HS-grad & 9 & Married-civ-spouse & $\\dots$ \\\\\n",
       "\t8 & 90 & Local-gov & 188242 & HS-grad & 9 & Never-married & $\\dots$ \\\\\n",
       "\t9 & 90 & ? & 50746 & 10th & 6 & Divorced & $\\dots$ \\\\\n",
       "\t10 & 90 & Private & 347074 & Some-college & 10 & Never-married & $\\dots$ \\\\\n",
       "\t11 & 90 & Private & 272752 & Some-college & 10 & Never-married & $\\dots$ \\\\\n",
       "\t12 & 90 & Private & 197613 & HS-grad & 9 & Never-married & $\\dots$ \\\\\n",
       "\t13 & 90 & Private & 51744 & HS-grad & 9 & Never-married & $\\dots$ \\\\\n",
       "\t14 & 90 & Private & 137018 & HS-grad & 9 & Never-married & $\\dots$ \\\\\n",
       "\t15 & 90 & Private & 221832 & Bachelors & 13 & Married-civ-spouse & $\\dots$ \\\\\n",
       "\t16 & 90 & Private & 52386 & Some-college & 10 & Never-married & $\\dots$ \\\\\n",
       "\t17 & 90 & Private & 171956 & Some-college & 10 & Separated & $\\dots$ \\\\\n",
       "\t18 & 90 & Private & 313986 & 11th & 7 & Never-married & $\\dots$ \\\\\n",
       "\t19 & 90 & ? & 256514 & Bachelors & 13 & Widowed & $\\dots$ \\\\\n",
       "\t20 & 90 & Private & 52386 & Some-college & 10 & Never-married & $\\dots$ \\\\\n",
       "\t21 & 90 & Private & 141758 & 9th & 5 & Never-married & $\\dots$ \\\\\n",
       "\t22 & 90 & Local-gov & 227796 & Masters & 14 & Married-civ-spouse & $\\dots$ \\\\\n",
       "\t23 & 90 & Private & 51744 & Masters & 14 & Never-married & $\\dots$ \\\\\n",
       "\t24 & 90 & Self-emp-not-inc & 155981 & Bachelors & 13 & Married-civ-spouse & $\\dots$ \\\\\n",
       "\t25 & 90 & Private & 313986 & 11th & 7 & Married-civ-spouse & $\\dots$ \\\\\n",
       "\t26 & 90 & Private & 87372 & Prof-school & 15 & Married-civ-spouse & $\\dots$ \\\\\n",
       "\t27 & 90 & ? & 77053 & HS-grad & 9 & Widowed & $\\dots$ \\\\\n",
       "\t28 & 90 & Private & 46786 & Bachelors & 13 & Married-civ-spouse & $\\dots$ \\\\\n",
       "\t29 & 90 & Self-emp-not-inc & 282095 & Some-college & 10 & Married-civ-spouse & $\\dots$ \\\\\n",
       "\t30 & 90 & Private & 175491 & HS-grad & 9 & Married-civ-spouse & $\\dots$ \\\\\n",
       "\t$\\dots$ & $\\dots$ & $\\dots$ & $\\dots$ & $\\dots$ & $\\dots$ & $\\dots$ &  \\\\\n",
       "\\end{tabular}\n"
      ],
      "text/plain": [
       "\u001b[1m48842×15 DataFrame\u001b[0m\n",
       "\u001b[1m   Row \u001b[0m│\u001b[1m age   \u001b[0m\u001b[1m workclass        \u001b[0m\u001b[1m fnlwgt \u001b[0m\u001b[1m education    \u001b[0m\u001b[1m education_num \u001b[0m\u001b[1m marital\u001b[0m ⋯\n",
       "       │\u001b[90m Int64 \u001b[0m\u001b[90m String31         \u001b[0m\u001b[90m Int64  \u001b[0m\u001b[90m String15     \u001b[0m\u001b[90m Int64         \u001b[0m\u001b[90m String3\u001b[0m ⋯\n",
       "───────┼────────────────────────────────────────────────────────────────────────\n",
       "     1 │    90  Private           149069  Assoc-acdm               12  Married ⋯\n",
       "     2 │    90  Self-emp-not-inc   83601  Prof-school              15  Widowed\n",
       "     3 │    90  Private           250832  HS-grad                   9  Married\n",
       "     4 │    90  Private           227796  Assoc-acdm               12  Never-m\n",
       "     5 │    90  Self-emp-not-inc  122348  Prof-school              15  Married ⋯\n",
       "     6 │    90  Federal-gov       311184  Masters                  14  Divorce\n",
       "     7 │    90  Private           225063  HS-grad                   9  Married\n",
       "     8 │    90  Local-gov         188242  HS-grad                   9  Never-m\n",
       "     9 │    90  ?                  50746  10th                      6  Divorce ⋯\n",
       "    10 │    90  Private           347074  Some-college             10  Never-m\n",
       "    11 │    90  Private           272752  Some-college             10  Never-m\n",
       "   ⋮   │   ⋮           ⋮            ⋮          ⋮              ⋮                ⋱\n",
       " 48833 │    17  Private           277541  11th                      7  Never-m\n",
       " 48834 │    17  Private           375657  11th                      7  Never-m ⋯\n",
       " 48835 │    17  Private           309504  10th                      6  Never-m\n",
       " 48836 │    17  Private           141590  11th                      7  Never-m\n",
       " 48837 │    17  ?                 171461  10th                      6  Never-m\n",
       " 48838 │    17  ?                 256173  10th                      6  Never-m ⋯\n",
       " 48839 │    17  Private           214787  12th                      8  Never-m\n",
       " 48840 │    17  Private            24090  HS-grad                   9  Never-m\n",
       " 48841 │    17  Private           311907  11th                      7  Never-m\n",
       " 48842 │    17  Private           117798  10th                      6  Never-m ⋯\n",
       "\u001b[36m                                               10 columns and 48821 rows omitted\u001b[0m"
      ]
     },
     "execution_count": 78,
     "metadata": {},
     "output_type": "execute_result"
    }
   ],
   "source": [
    "sort(df, :age, rev=true)"
   ]
  },
  {
   "cell_type": "code",
   "execution_count": 81,
   "id": "68e6e70b-9b91-4979-bbf5-7901f88ca813",
   "metadata": {},
   "outputs": [
    {
     "data": {
      "text/html": [
       "<div><div style = \"float: left;\"><span>48842×15 DataFrame</span></div><div style = \"float: right;\"><span style = \"font-style: italic;\">48817 rows omitted</span></div><div style = \"clear: both;\"></div></div><div class = \"data-frame\" style = \"overflow-x: scroll;\"><table class = \"data-frame\" style = \"margin-bottom: 6px;\"><thead><tr class = \"header\"><th class = \"rowNumber\" style = \"font-weight: bold; text-align: right;\">Row</th><th style = \"text-align: left;\">age</th><th style = \"text-align: left;\">workclass</th><th style = \"text-align: left;\">fnlwgt</th><th style = \"text-align: left;\">education</th><th style = \"text-align: left;\">education_num</th><th style = \"text-align: left;\">marital_status</th><th style = \"text-align: left;\">occupation</th><th style = \"text-align: left;\">relationship</th><th style = \"text-align: left;\">race</th><th style = \"text-align: left;\">sex</th><th style = \"text-align: left;\">capital_gain</th><th style = \"text-align: left;\">capital_loss</th><th style = \"text-align: left;\">hours_per_week</th><th style = \"text-align: left;\">native_country</th><th style = \"text-align: left;\">class</th></tr><tr class = \"subheader headerLastRow\"><th class = \"rowNumber\" style = \"font-weight: bold; text-align: right;\"></th><th title = \"Int64\" style = \"text-align: left;\">Int64</th><th title = \"String31\" style = \"text-align: left;\">String31</th><th title = \"Int64\" style = \"text-align: left;\">Int64</th><th title = \"String15\" style = \"text-align: left;\">String15</th><th title = \"Int64\" style = \"text-align: left;\">Int64</th><th title = \"String31\" style = \"text-align: left;\">String31</th><th title = \"String31\" style = \"text-align: left;\">String31</th><th title = \"String15\" style = \"text-align: left;\">String15</th><th title = \"String31\" style = \"text-align: left;\">String31</th><th title = \"String7\" style = \"text-align: left;\">String7</th><th title = \"Int64\" style = \"text-align: left;\">Int64</th><th title = \"Int64\" style = \"text-align: left;\">Int64</th><th title = \"Int64\" style = \"text-align: left;\">Int64</th><th title = \"String31\" style = \"text-align: left;\">String31</th><th title = \"String7\" style = \"text-align: left;\">String7</th></tr></thead><tbody><tr><td class = \"rowNumber\" style = \"font-weight: bold; text-align: right;\">1</td><td style = \"text-align: right;\">17</td><td style = \"text-align: left;\">Private</td><td style = \"text-align: right;\">355850</td><td style = \"text-align: left;\">11th</td><td style = \"text-align: right;\">7</td><td style = \"text-align: left;\">Never-married</td><td style = \"text-align: left;\">Transport-moving</td><td style = \"text-align: left;\">Own-child</td><td style = \"text-align: left;\">White</td><td style = \"text-align: left;\">Male</td><td style = \"text-align: right;\">0</td><td style = \"text-align: right;\">1602</td><td style = \"text-align: right;\">15</td><td style = \"text-align: left;\">United-States</td><td style = \"text-align: left;\">&lt;=50K</td></tr><tr><td class = \"rowNumber\" style = \"font-weight: bold; text-align: right;\">2</td><td style = \"text-align: right;\">17</td><td style = \"text-align: left;\">Private</td><td style = \"text-align: right;\">188949</td><td style = \"text-align: left;\">11th</td><td style = \"text-align: right;\">7</td><td style = \"text-align: left;\">Never-married</td><td style = \"text-align: left;\">Transport-moving</td><td style = \"text-align: left;\">Not-in-family</td><td style = \"text-align: left;\">White</td><td style = \"text-align: left;\">Male</td><td style = \"text-align: right;\">0</td><td style = \"text-align: right;\">0</td><td style = \"text-align: right;\">40</td><td style = \"text-align: left;\">United-States</td><td style = \"text-align: left;\">&lt;=50K</td></tr><tr><td class = \"rowNumber\" style = \"font-weight: bold; text-align: right;\">3</td><td style = \"text-align: right;\">17</td><td style = \"text-align: left;\">Private</td><td style = \"text-align: right;\">121470</td><td style = \"text-align: left;\">12th</td><td style = \"text-align: right;\">8</td><td style = \"text-align: left;\">Never-married</td><td style = \"text-align: left;\">Transport-moving</td><td style = \"text-align: left;\">Own-child</td><td style = \"text-align: left;\">White</td><td style = \"text-align: left;\">Male</td><td style = \"text-align: right;\">0</td><td style = \"text-align: right;\">0</td><td style = \"text-align: right;\">10</td><td style = \"text-align: left;\">?</td><td style = \"text-align: left;\">&lt;=50K</td></tr><tr><td class = \"rowNumber\" style = \"font-weight: bold; text-align: right;\">4</td><td style = \"text-align: right;\">17</td><td style = \"text-align: left;\">Private</td><td style = \"text-align: right;\">327127</td><td style = \"text-align: left;\">11th</td><td style = \"text-align: right;\">7</td><td style = \"text-align: left;\">Never-married</td><td style = \"text-align: left;\">Transport-moving</td><td style = \"text-align: left;\">Own-child</td><td style = \"text-align: left;\">White</td><td style = \"text-align: left;\">Male</td><td style = \"text-align: right;\">0</td><td style = \"text-align: right;\">0</td><td style = \"text-align: right;\">20</td><td style = \"text-align: left;\">United-States</td><td style = \"text-align: left;\">&lt;=50K</td></tr><tr><td class = \"rowNumber\" style = \"font-weight: bold; text-align: right;\">5</td><td style = \"text-align: right;\">17</td><td style = \"text-align: left;\">Private</td><td style = \"text-align: right;\">176467</td><td style = \"text-align: left;\">9th</td><td style = \"text-align: right;\">5</td><td style = \"text-align: left;\">Never-married</td><td style = \"text-align: left;\">Transport-moving</td><td style = \"text-align: left;\">Not-in-family</td><td style = \"text-align: left;\">White</td><td style = \"text-align: left;\">Male</td><td style = \"text-align: right;\">0</td><td style = \"text-align: right;\">0</td><td style = \"text-align: right;\">20</td><td style = \"text-align: left;\">United-States</td><td style = \"text-align: left;\">&lt;=50K</td></tr><tr><td class = \"rowNumber\" style = \"font-weight: bold; text-align: right;\">6</td><td style = \"text-align: right;\">17</td><td style = \"text-align: left;\">Private</td><td style = \"text-align: right;\">132636</td><td style = \"text-align: left;\">11th</td><td style = \"text-align: right;\">7</td><td style = \"text-align: left;\">Never-married</td><td style = \"text-align: left;\">Transport-moving</td><td style = \"text-align: left;\">Own-child</td><td style = \"text-align: left;\">White</td><td style = \"text-align: left;\">Female</td><td style = \"text-align: right;\">0</td><td style = \"text-align: right;\">0</td><td style = \"text-align: right;\">16</td><td style = \"text-align: left;\">United-States</td><td style = \"text-align: left;\">&lt;=50K</td></tr><tr><td class = \"rowNumber\" style = \"font-weight: bold; text-align: right;\">7</td><td style = \"text-align: right;\">17</td><td style = \"text-align: left;\">Private</td><td style = \"text-align: right;\">186067</td><td style = \"text-align: left;\">10th</td><td style = \"text-align: right;\">6</td><td style = \"text-align: left;\">Never-married</td><td style = \"text-align: left;\">Tech-support</td><td style = \"text-align: left;\">Own-child</td><td style = \"text-align: left;\">White</td><td style = \"text-align: left;\">Male</td><td style = \"text-align: right;\">0</td><td style = \"text-align: right;\">0</td><td style = \"text-align: right;\">10</td><td style = \"text-align: left;\">United-States</td><td style = \"text-align: left;\">&lt;=50K</td></tr><tr><td class = \"rowNumber\" style = \"font-weight: bold; text-align: right;\">8</td><td style = \"text-align: right;\">17</td><td style = \"text-align: left;\">Private</td><td style = \"text-align: right;\">40299</td><td style = \"text-align: left;\">11th</td><td style = \"text-align: right;\">7</td><td style = \"text-align: left;\">Never-married</td><td style = \"text-align: left;\">Sales</td><td style = \"text-align: left;\">Own-child</td><td style = \"text-align: left;\">White</td><td style = \"text-align: left;\">Female</td><td style = \"text-align: right;\">0</td><td style = \"text-align: right;\">0</td><td style = \"text-align: right;\">25</td><td style = \"text-align: left;\">United-States</td><td style = \"text-align: left;\">&lt;=50K</td></tr><tr><td class = \"rowNumber\" style = \"font-weight: bold; text-align: right;\">9</td><td style = \"text-align: right;\">17</td><td style = \"text-align: left;\">Private</td><td style = \"text-align: right;\">190941</td><td style = \"text-align: left;\">10th</td><td style = \"text-align: right;\">6</td><td style = \"text-align: left;\">Never-married</td><td style = \"text-align: left;\">Sales</td><td style = \"text-align: left;\">Own-child</td><td style = \"text-align: left;\">White</td><td style = \"text-align: left;\">Female</td><td style = \"text-align: right;\">0</td><td style = \"text-align: right;\">0</td><td style = \"text-align: right;\">20</td><td style = \"text-align: left;\">United-States</td><td style = \"text-align: left;\">&lt;=50K</td></tr><tr><td class = \"rowNumber\" style = \"font-weight: bold; text-align: right;\">10</td><td style = \"text-align: right;\">17</td><td style = \"text-align: left;\">Private</td><td style = \"text-align: right;\">28544</td><td style = \"text-align: left;\">11th</td><td style = \"text-align: right;\">7</td><td style = \"text-align: left;\">Never-married</td><td style = \"text-align: left;\">Sales</td><td style = \"text-align: left;\">Not-in-family</td><td style = \"text-align: left;\">White</td><td style = \"text-align: left;\">Female</td><td style = \"text-align: right;\">0</td><td style = \"text-align: right;\">0</td><td style = \"text-align: right;\">20</td><td style = \"text-align: left;\">United-States</td><td style = \"text-align: left;\">&lt;=50K</td></tr><tr><td class = \"rowNumber\" style = \"font-weight: bold; text-align: right;\">11</td><td style = \"text-align: right;\">17</td><td style = \"text-align: left;\">Private</td><td style = \"text-align: right;\">81010</td><td style = \"text-align: left;\">11th</td><td style = \"text-align: right;\">7</td><td style = \"text-align: left;\">Never-married</td><td style = \"text-align: left;\">Sales</td><td style = \"text-align: left;\">Own-child</td><td style = \"text-align: left;\">White</td><td style = \"text-align: left;\">Female</td><td style = \"text-align: right;\">0</td><td style = \"text-align: right;\">0</td><td style = \"text-align: right;\">20</td><td style = \"text-align: left;\">United-States</td><td style = \"text-align: left;\">&lt;=50K</td></tr><tr><td class = \"rowNumber\" style = \"font-weight: bold; text-align: right;\">12</td><td style = \"text-align: right;\">17</td><td style = \"text-align: left;\">Private</td><td style = \"text-align: right;\">129396</td><td style = \"text-align: left;\">11th</td><td style = \"text-align: right;\">7</td><td style = \"text-align: left;\">Never-married</td><td style = \"text-align: left;\">Sales</td><td style = \"text-align: left;\">Other-relative</td><td style = \"text-align: left;\">White</td><td style = \"text-align: left;\">Female</td><td style = \"text-align: right;\">0</td><td style = \"text-align: right;\">0</td><td style = \"text-align: right;\">26</td><td style = \"text-align: left;\">United-States</td><td style = \"text-align: left;\">&lt;=50K</td></tr><tr><td class = \"rowNumber\" style = \"font-weight: bold; text-align: right;\">13</td><td style = \"text-align: right;\">17</td><td style = \"text-align: left;\">Private</td><td style = \"text-align: right;\">173740</td><td style = \"text-align: left;\">10th</td><td style = \"text-align: right;\">6</td><td style = \"text-align: left;\">Never-married</td><td style = \"text-align: left;\">Sales</td><td style = \"text-align: left;\">Not-in-family</td><td style = \"text-align: left;\">White</td><td style = \"text-align: left;\">Female</td><td style = \"text-align: right;\">0</td><td style = \"text-align: right;\">0</td><td style = \"text-align: right;\">15</td><td style = \"text-align: left;\">United-States</td><td style = \"text-align: left;\">&lt;=50K</td></tr><tr><td style = \"text-align: right;\">&vellip;</td><td style = \"text-align: right;\">&vellip;</td><td style = \"text-align: right;\">&vellip;</td><td style = \"text-align: right;\">&vellip;</td><td style = \"text-align: right;\">&vellip;</td><td style = \"text-align: right;\">&vellip;</td><td style = \"text-align: right;\">&vellip;</td><td style = \"text-align: right;\">&vellip;</td><td style = \"text-align: right;\">&vellip;</td><td style = \"text-align: right;\">&vellip;</td><td style = \"text-align: right;\">&vellip;</td><td style = \"text-align: right;\">&vellip;</td><td style = \"text-align: right;\">&vellip;</td><td style = \"text-align: right;\">&vellip;</td><td style = \"text-align: right;\">&vellip;</td><td style = \"text-align: right;\">&vellip;</td></tr><tr><td class = \"rowNumber\" style = \"font-weight: bold; text-align: right;\">48831</td><td style = \"text-align: right;\">90</td><td style = \"text-align: left;\">Private</td><td style = \"text-align: right;\">171956</td><td style = \"text-align: left;\">Some-college</td><td style = \"text-align: right;\">10</td><td style = \"text-align: left;\">Separated</td><td style = \"text-align: left;\">Adm-clerical</td><td style = \"text-align: left;\">Own-child</td><td style = \"text-align: left;\">White</td><td style = \"text-align: left;\">Female</td><td style = \"text-align: right;\">0</td><td style = \"text-align: right;\">0</td><td style = \"text-align: right;\">40</td><td style = \"text-align: left;\">Puerto-Rico</td><td style = \"text-align: left;\">&lt;=50K</td></tr><tr><td class = \"rowNumber\" style = \"font-weight: bold; text-align: right;\">48832</td><td style = \"text-align: right;\">90</td><td style = \"text-align: left;\">Private</td><td style = \"text-align: right;\">141758</td><td style = \"text-align: left;\">9th</td><td style = \"text-align: right;\">5</td><td style = \"text-align: left;\">Never-married</td><td style = \"text-align: left;\">Adm-clerical</td><td style = \"text-align: left;\">Not-in-family</td><td style = \"text-align: left;\">White</td><td style = \"text-align: left;\">Female</td><td style = \"text-align: right;\">0</td><td style = \"text-align: right;\">0</td><td style = \"text-align: right;\">40</td><td style = \"text-align: left;\">United-States</td><td style = \"text-align: left;\">&lt;=50K</td></tr><tr><td class = \"rowNumber\" style = \"font-weight: bold; text-align: right;\">48833</td><td style = \"text-align: right;\">90</td><td style = \"text-align: left;\">Local-gov</td><td style = \"text-align: right;\">187749</td><td style = \"text-align: left;\">Assoc-acdm</td><td style = \"text-align: right;\">12</td><td style = \"text-align: left;\">Married-civ-spouse</td><td style = \"text-align: left;\">Adm-clerical</td><td style = \"text-align: left;\">Husband</td><td style = \"text-align: left;\">Asian-Pac-Islander</td><td style = \"text-align: left;\">Male</td><td style = \"text-align: right;\">0</td><td style = \"text-align: right;\">0</td><td style = \"text-align: right;\">20</td><td style = \"text-align: left;\">Philippines</td><td style = \"text-align: left;\">&lt;=50K</td></tr><tr><td class = \"rowNumber\" style = \"font-weight: bold; text-align: right;\">48834</td><td style = \"text-align: right;\">90</td><td style = \"text-align: left;\">Private</td><td style = \"text-align: right;\">313749</td><td style = \"text-align: left;\">HS-grad</td><td style = \"text-align: right;\">9</td><td style = \"text-align: left;\">Widowed</td><td style = \"text-align: left;\">Adm-clerical</td><td style = \"text-align: left;\">Unmarried</td><td style = \"text-align: left;\">White</td><td style = \"text-align: left;\">Female</td><td style = \"text-align: right;\">0</td><td style = \"text-align: right;\">0</td><td style = \"text-align: right;\">25</td><td style = \"text-align: left;\">United-States</td><td style = \"text-align: left;\">&lt;=50K</td></tr><tr><td class = \"rowNumber\" style = \"font-weight: bold; text-align: right;\">48835</td><td style = \"text-align: right;\">90</td><td style = \"text-align: left;\">?</td><td style = \"text-align: right;\">50746</td><td style = \"text-align: left;\">10th</td><td style = \"text-align: right;\">6</td><td style = \"text-align: left;\">Divorced</td><td style = \"text-align: left;\">?</td><td style = \"text-align: left;\">Not-in-family</td><td style = \"text-align: left;\">White</td><td style = \"text-align: left;\">Female</td><td style = \"text-align: right;\">0</td><td style = \"text-align: right;\">0</td><td style = \"text-align: right;\">7</td><td style = \"text-align: left;\">United-States</td><td style = \"text-align: left;\">&lt;=50K</td></tr><tr><td class = \"rowNumber\" style = \"font-weight: bold; text-align: right;\">48836</td><td style = \"text-align: right;\">90</td><td style = \"text-align: left;\">?</td><td style = \"text-align: right;\">256514</td><td style = \"text-align: left;\">Bachelors</td><td style = \"text-align: right;\">13</td><td style = \"text-align: left;\">Widowed</td><td style = \"text-align: left;\">?</td><td style = \"text-align: left;\">Other-relative</td><td style = \"text-align: left;\">White</td><td style = \"text-align: left;\">Female</td><td style = \"text-align: right;\">991</td><td style = \"text-align: right;\">0</td><td style = \"text-align: right;\">10</td><td style = \"text-align: left;\">United-States</td><td style = \"text-align: left;\">&lt;=50K</td></tr><tr><td class = \"rowNumber\" style = \"font-weight: bold; text-align: right;\">48837</td><td style = \"text-align: right;\">90</td><td style = \"text-align: left;\">?</td><td style = \"text-align: right;\">77053</td><td style = \"text-align: left;\">HS-grad</td><td style = \"text-align: right;\">9</td><td style = \"text-align: left;\">Widowed</td><td style = \"text-align: left;\">?</td><td style = \"text-align: left;\">Not-in-family</td><td style = \"text-align: left;\">White</td><td style = \"text-align: left;\">Female</td><td style = \"text-align: right;\">0</td><td style = \"text-align: right;\">4356</td><td style = \"text-align: right;\">40</td><td style = \"text-align: left;\">United-States</td><td style = \"text-align: left;\">&lt;=50K</td></tr><tr><td class = \"rowNumber\" style = \"font-weight: bold; text-align: right;\">48838</td><td style = \"text-align: right;\">90</td><td style = \"text-align: left;\">?</td><td style = \"text-align: right;\">39824</td><td style = \"text-align: left;\">HS-grad</td><td style = \"text-align: right;\">9</td><td style = \"text-align: left;\">Widowed</td><td style = \"text-align: left;\">?</td><td style = \"text-align: left;\">Not-in-family</td><td style = \"text-align: left;\">White</td><td style = \"text-align: left;\">Male</td><td style = \"text-align: right;\">401</td><td style = \"text-align: right;\">0</td><td style = \"text-align: right;\">4</td><td style = \"text-align: left;\">United-States</td><td style = \"text-align: left;\">&lt;=50K</td></tr><tr><td class = \"rowNumber\" style = \"font-weight: bold; text-align: right;\">48839</td><td style = \"text-align: right;\">90</td><td style = \"text-align: left;\">?</td><td style = \"text-align: right;\">225063</td><td style = \"text-align: left;\">Some-college</td><td style = \"text-align: right;\">10</td><td style = \"text-align: left;\">Never-married</td><td style = \"text-align: left;\">?</td><td style = \"text-align: left;\">Own-child</td><td style = \"text-align: left;\">Asian-Pac-Islander</td><td style = \"text-align: left;\">Male</td><td style = \"text-align: right;\">0</td><td style = \"text-align: right;\">0</td><td style = \"text-align: right;\">10</td><td style = \"text-align: left;\">South</td><td style = \"text-align: left;\">&lt;=50K</td></tr><tr><td class = \"rowNumber\" style = \"font-weight: bold; text-align: right;\">48840</td><td style = \"text-align: right;\">90</td><td style = \"text-align: left;\">?</td><td style = \"text-align: right;\">166343</td><td style = \"text-align: left;\">1st-4th</td><td style = \"text-align: right;\">2</td><td style = \"text-align: left;\">Widowed</td><td style = \"text-align: left;\">?</td><td style = \"text-align: left;\">Not-in-family</td><td style = \"text-align: left;\">Black</td><td style = \"text-align: left;\">Female</td><td style = \"text-align: right;\">0</td><td style = \"text-align: right;\">0</td><td style = \"text-align: right;\">40</td><td style = \"text-align: left;\">United-States</td><td style = \"text-align: left;\">&lt;=50K</td></tr><tr><td class = \"rowNumber\" style = \"font-weight: bold; text-align: right;\">48841</td><td style = \"text-align: right;\">90</td><td style = \"text-align: left;\">?</td><td style = \"text-align: right;\">175444</td><td style = \"text-align: left;\">7th-8th</td><td style = \"text-align: right;\">4</td><td style = \"text-align: left;\">Separated</td><td style = \"text-align: left;\">?</td><td style = \"text-align: left;\">Not-in-family</td><td style = \"text-align: left;\">White</td><td style = \"text-align: left;\">Female</td><td style = \"text-align: right;\">0</td><td style = \"text-align: right;\">0</td><td style = \"text-align: right;\">15</td><td style = \"text-align: left;\">United-States</td><td style = \"text-align: left;\">&lt;=50K</td></tr><tr><td class = \"rowNumber\" style = \"font-weight: bold; text-align: right;\">48842</td><td style = \"text-align: right;\">90</td><td style = \"text-align: left;\">?</td><td style = \"text-align: right;\">313986</td><td style = \"text-align: left;\">HS-grad</td><td style = \"text-align: right;\">9</td><td style = \"text-align: left;\">Married-civ-spouse</td><td style = \"text-align: left;\">?</td><td style = \"text-align: left;\">Husband</td><td style = \"text-align: left;\">White</td><td style = \"text-align: left;\">Male</td><td style = \"text-align: right;\">0</td><td style = \"text-align: right;\">0</td><td style = \"text-align: right;\">40</td><td style = \"text-align: left;\">United-States</td><td style = \"text-align: left;\">&gt;50K</td></tr></tbody></table></div>"
      ],
      "text/latex": [
       "\\begin{tabular}{r|cccccccc}\n",
       "\t& age & workclass & fnlwgt & education & education\\_num & marital\\_status & occupation & \\\\\n",
       "\t\\hline\n",
       "\t& Int64 & String31 & Int64 & String15 & Int64 & String31 & String31 & \\\\\n",
       "\t\\hline\n",
       "\t1 & 17 & Private & 355850 & 11th & 7 & Never-married & Transport-moving & $\\dots$ \\\\\n",
       "\t2 & 17 & Private & 188949 & 11th & 7 & Never-married & Transport-moving & $\\dots$ \\\\\n",
       "\t3 & 17 & Private & 121470 & 12th & 8 & Never-married & Transport-moving & $\\dots$ \\\\\n",
       "\t4 & 17 & Private & 327127 & 11th & 7 & Never-married & Transport-moving & $\\dots$ \\\\\n",
       "\t5 & 17 & Private & 176467 & 9th & 5 & Never-married & Transport-moving & $\\dots$ \\\\\n",
       "\t6 & 17 & Private & 132636 & 11th & 7 & Never-married & Transport-moving & $\\dots$ \\\\\n",
       "\t7 & 17 & Private & 186067 & 10th & 6 & Never-married & Tech-support & $\\dots$ \\\\\n",
       "\t8 & 17 & Private & 40299 & 11th & 7 & Never-married & Sales & $\\dots$ \\\\\n",
       "\t9 & 17 & Private & 190941 & 10th & 6 & Never-married & Sales & $\\dots$ \\\\\n",
       "\t10 & 17 & Private & 28544 & 11th & 7 & Never-married & Sales & $\\dots$ \\\\\n",
       "\t11 & 17 & Private & 81010 & 11th & 7 & Never-married & Sales & $\\dots$ \\\\\n",
       "\t12 & 17 & Private & 129396 & 11th & 7 & Never-married & Sales & $\\dots$ \\\\\n",
       "\t13 & 17 & Private & 173740 & 10th & 6 & Never-married & Sales & $\\dots$ \\\\\n",
       "\t14 & 17 & Private & 408012 & 12th & 8 & Never-married & Sales & $\\dots$ \\\\\n",
       "\t15 & 17 & Private & 91141 & 10th & 6 & Never-married & Sales & $\\dots$ \\\\\n",
       "\t16 & 17 & Self-emp-not-inc & 226203 & 12th & 8 & Never-married & Sales & $\\dots$ \\\\\n",
       "\t17 & 17 & Private & 98209 & 11th & 7 & Never-married & Sales & $\\dots$ \\\\\n",
       "\t18 & 17 & Private & 171461 & 10th & 6 & Never-married & Sales & $\\dots$ \\\\\n",
       "\t19 & 17 & Private & 153021 & 12th & 8 & Never-married & Sales & $\\dots$ \\\\\n",
       "\t20 & 17 & Private & 91931 & 11th & 7 & Never-married & Sales & $\\dots$ \\\\\n",
       "\t21 & 17 & Private & 242871 & 10th & 6 & Never-married & Sales & $\\dots$ \\\\\n",
       "\t22 & 17 & Private & 125236 & 10th & 6 & Never-married & Sales & $\\dots$ \\\\\n",
       "\t23 & 17 & Private & 165018 & 10th & 6 & Never-married & Sales & $\\dots$ \\\\\n",
       "\t24 & 17 & Private & 93511 & 11th & 7 & Never-married & Sales & $\\dots$ \\\\\n",
       "\t25 & 17 & Private & 197186 & 10th & 6 & Never-married & Sales & $\\dots$ \\\\\n",
       "\t26 & 17 & Private & 118792 & 11th & 7 & Never-married & Sales & $\\dots$ \\\\\n",
       "\t27 & 17 & Private & 216137 & 9th & 5 & Never-married & Sales & $\\dots$ \\\\\n",
       "\t28 & 17 & Private & 354493 & 11th & 7 & Never-married & Sales & $\\dots$ \\\\\n",
       "\t29 & 17 & Private & 172548 & 9th & 5 & Never-married & Sales & $\\dots$ \\\\\n",
       "\t30 & 17 & Private & 98005 & 11th & 7 & Never-married & Sales & $\\dots$ \\\\\n",
       "\t$\\dots$ & $\\dots$ & $\\dots$ & $\\dots$ & $\\dots$ & $\\dots$ & $\\dots$ & $\\dots$ &  \\\\\n",
       "\\end{tabular}\n"
      ],
      "text/plain": [
       "\u001b[1m48842×15 DataFrame\u001b[0m\n",
       "\u001b[1m   Row \u001b[0m│\u001b[1m age   \u001b[0m\u001b[1m workclass \u001b[0m\u001b[1m fnlwgt \u001b[0m\u001b[1m education    \u001b[0m\u001b[1m education_num \u001b[0m\u001b[1m marital_status\u001b[0m ⋯\n",
       "       │\u001b[90m Int64 \u001b[0m\u001b[90m String31  \u001b[0m\u001b[90m Int64  \u001b[0m\u001b[90m String15     \u001b[0m\u001b[90m Int64         \u001b[0m\u001b[90m String31      \u001b[0m ⋯\n",
       "───────┼────────────────────────────────────────────────────────────────────────\n",
       "     1 │    17  Private    355850  11th                      7  Never-married  ⋯\n",
       "     2 │    17  Private    188949  11th                      7  Never-married\n",
       "     3 │    17  Private    121470  12th                      8  Never-married\n",
       "     4 │    17  Private    327127  11th                      7  Never-married\n",
       "     5 │    17  Private    176467  9th                       5  Never-married  ⋯\n",
       "     6 │    17  Private    132636  11th                      7  Never-married\n",
       "     7 │    17  Private    186067  10th                      6  Never-married\n",
       "     8 │    17  Private     40299  11th                      7  Never-married\n",
       "     9 │    17  Private    190941  10th                      6  Never-married  ⋯\n",
       "    10 │    17  Private     28544  11th                      7  Never-married\n",
       "    11 │    17  Private     81010  11th                      7  Never-married\n",
       "   ⋮   │   ⋮        ⋮        ⋮          ⋮              ⋮                ⋮      ⋱\n",
       " 48833 │    90  Local-gov  187749  Assoc-acdm               12  Married-civ-sp\n",
       " 48834 │    90  Private    313749  HS-grad                   9  Widowed        ⋯\n",
       " 48835 │    90  ?           50746  10th                      6  Divorced\n",
       " 48836 │    90  ?          256514  Bachelors                13  Widowed\n",
       " 48837 │    90  ?           77053  HS-grad                   9  Widowed\n",
       " 48838 │    90  ?           39824  HS-grad                   9  Widowed        ⋯\n",
       " 48839 │    90  ?          225063  Some-college             10  Never-married\n",
       " 48840 │    90  ?          166343  1st-4th                   2  Widowed\n",
       " 48841 │    90  ?          175444  7th-8th                   4  Separated\n",
       " 48842 │    90  ?          313986  HS-grad                   9  Married-civ-sp ⋯\n",
       "\u001b[36m                                               10 columns and 48821 rows omitted\u001b[0m"
      ]
     },
     "execution_count": 81,
     "metadata": {},
     "output_type": "execute_result"
    }
   ],
   "source": [
    "sort(df, [:age, order(:occupation, rev = true)])"
   ]
  },
  {
   "cell_type": "code",
   "execution_count": 84,
   "id": "d1a2b36f-4371-4125-914b-7baef9a58455",
   "metadata": {},
   "outputs": [
    {
     "data": {
      "text/html": [
       "<div><div style = \"float: left;\"><span>48842×1 DataFrame</span></div><div style = \"float: right;\"><span style = \"font-style: italic;\">48817 rows omitted</span></div><div style = \"clear: both;\"></div></div><div class = \"data-frame\" style = \"overflow-x: scroll;\"><table class = \"data-frame\" style = \"margin-bottom: 6px;\"><thead><tr class = \"header\"><th class = \"rowNumber\" style = \"font-weight: bold; text-align: right;\">Row</th><th style = \"text-align: left;\">fnlwgt_cumprod</th></tr><tr class = \"subheader headerLastRow\"><th class = \"rowNumber\" style = \"font-weight: bold; text-align: right;\"></th><th title = \"Int64\" style = \"text-align: left;\">Int64</th></tr></thead><tbody><tr><td class = \"rowNumber\" style = \"font-weight: bold; text-align: right;\">1</td><td style = \"text-align: right;\">226802</td></tr><tr><td class = \"rowNumber\" style = \"font-weight: bold; text-align: right;\">2</td><td style = \"text-align: right;\">20369994828</td></tr><tr><td class = \"rowNumber\" style = \"font-weight: bold; text-align: right;\">3</td><td style = \"text-align: right;\">6863690127289428</td></tr><tr><td class = \"rowNumber\" style = \"font-weight: bold; text-align: right;\">4</td><td style = \"text-align: right;\">-6397252145150131716</td></tr><tr><td class = \"rowNumber\" style = \"font-weight: bold; text-align: right;\">5</td><td style = \"text-align: right;\">-5866973019955609380</td></tr><tr><td class = \"rowNumber\" style = \"font-weight: bold; text-align: right;\">6</td><td style = \"text-align: right;\">-2925260038489718836</td></tr><tr><td class = \"rowNumber\" style = \"font-weight: bold; text-align: right;\">7</td><td style = \"text-align: right;\">-8852100549340734120</td></tr><tr><td class = \"rowNumber\" style = \"font-weight: bold; text-align: right;\">8</td><td style = \"text-align: right;\">-4192366588190054608</td></tr><tr><td class = \"rowNumber\" style = \"font-weight: bold; text-align: right;\">9</td><td style = \"text-align: right;\">5177052181352691088</td></tr><tr><td class = \"rowNumber\" style = \"font-weight: bold; text-align: right;\">10</td><td style = \"text-align: right;\">-436786692203993024</td></tr><tr><td class = \"rowNumber\" style = \"font-weight: bold; text-align: right;\">11</td><td style = \"text-align: right;\">8325590167992209792</td></tr><tr><td class = \"rowNumber\" style = \"font-weight: bold; text-align: right;\">12</td><td style = \"text-align: right;\">1332326308529895808</td></tr><tr><td class = \"rowNumber\" style = \"font-weight: bold; text-align: right;\">13</td><td style = \"text-align: right;\">1253380503745243264</td></tr><tr><td style = \"text-align: right;\">&vellip;</td><td style = \"text-align: right;\">&vellip;</td></tr><tr><td class = \"rowNumber\" style = \"font-weight: bold; text-align: right;\">48831</td><td style = \"text-align: right;\">0</td></tr><tr><td class = \"rowNumber\" style = \"font-weight: bold; text-align: right;\">48832</td><td style = \"text-align: right;\">0</td></tr><tr><td class = \"rowNumber\" style = \"font-weight: bold; text-align: right;\">48833</td><td style = \"text-align: right;\">0</td></tr><tr><td class = \"rowNumber\" style = \"font-weight: bold; text-align: right;\">48834</td><td style = \"text-align: right;\">0</td></tr><tr><td class = \"rowNumber\" style = \"font-weight: bold; text-align: right;\">48835</td><td style = \"text-align: right;\">0</td></tr><tr><td class = \"rowNumber\" style = \"font-weight: bold; text-align: right;\">48836</td><td style = \"text-align: right;\">0</td></tr><tr><td class = \"rowNumber\" style = \"font-weight: bold; text-align: right;\">48837</td><td style = \"text-align: right;\">0</td></tr><tr><td class = \"rowNumber\" style = \"font-weight: bold; text-align: right;\">48838</td><td style = \"text-align: right;\">0</td></tr><tr><td class = \"rowNumber\" style = \"font-weight: bold; text-align: right;\">48839</td><td style = \"text-align: right;\">0</td></tr><tr><td class = \"rowNumber\" style = \"font-weight: bold; text-align: right;\">48840</td><td style = \"text-align: right;\">0</td></tr><tr><td class = \"rowNumber\" style = \"font-weight: bold; text-align: right;\">48841</td><td style = \"text-align: right;\">0</td></tr><tr><td class = \"rowNumber\" style = \"font-weight: bold; text-align: right;\">48842</td><td style = \"text-align: right;\">0</td></tr></tbody></table></div>"
      ],
      "text/latex": [
       "\\begin{tabular}{r|c}\n",
       "\t& fnlwgt\\_cumprod\\\\\n",
       "\t\\hline\n",
       "\t& Int64\\\\\n",
       "\t\\hline\n",
       "\t1 & 226802 \\\\\n",
       "\t2 & 20369994828 \\\\\n",
       "\t3 & 6863690127289428 \\\\\n",
       "\t4 & -6397252145150131716 \\\\\n",
       "\t5 & -5866973019955609380 \\\\\n",
       "\t6 & -2925260038489718836 \\\\\n",
       "\t7 & -8852100549340734120 \\\\\n",
       "\t8 & -4192366588190054608 \\\\\n",
       "\t9 & 5177052181352691088 \\\\\n",
       "\t10 & -436786692203993024 \\\\\n",
       "\t11 & 8325590167992209792 \\\\\n",
       "\t12 & 1332326308529895808 \\\\\n",
       "\t13 & 1253380503745243264 \\\\\n",
       "\t14 & 5259548829047567232 \\\\\n",
       "\t15 & 1963057796407269888 \\\\\n",
       "\t16 & -7482939097235828224 \\\\\n",
       "\t17 & 4638355761900827648 \\\\\n",
       "\t18 & 1297228116763076608 \\\\\n",
       "\t19 & -1668252084508319744 \\\\\n",
       "\t20 & 3891209939906060288 \\\\\n",
       "\t21 & -5652638901643067392 \\\\\n",
       "\t22 & 8095707762865274880 \\\\\n",
       "\t23 & 5848916148971307008 \\\\\n",
       "\t24 & -5975399047971667968 \\\\\n",
       "\t25 & 3682912690504400896 \\\\\n",
       "\t26 & -3940030660379934720 \\\\\n",
       "\t27 & -5946707461888540672 \\\\\n",
       "\t28 & 7750221652646952960 \\\\\n",
       "\t29 & -5758481055891849216 \\\\\n",
       "\t30 & -6099419445422194688 \\\\\n",
       "\t$\\dots$ & $\\dots$ \\\\\n",
       "\\end{tabular}\n"
      ],
      "text/plain": [
       "\u001b[1m48842×1 DataFrame\u001b[0m\n",
       "\u001b[1m   Row \u001b[0m│\u001b[1m fnlwgt_cumprod       \u001b[0m\n",
       "       │\u001b[90m Int64                \u001b[0m\n",
       "───────┼──────────────────────\n",
       "     1 │               226802\n",
       "     2 │          20369994828\n",
       "     3 │     6863690127289428\n",
       "     4 │ -6397252145150131716\n",
       "     5 │ -5866973019955609380\n",
       "     6 │ -2925260038489718836\n",
       "     7 │ -8852100549340734120\n",
       "     8 │ -4192366588190054608\n",
       "     9 │  5177052181352691088\n",
       "    10 │  -436786692203993024\n",
       "    11 │  8325590167992209792\n",
       "   ⋮   │          ⋮\n",
       " 48833 │                    0\n",
       " 48834 │                    0\n",
       " 48835 │                    0\n",
       " 48836 │                    0\n",
       " 48837 │                    0\n",
       " 48838 │                    0\n",
       " 48839 │                    0\n",
       " 48840 │                    0\n",
       " 48841 │                    0\n",
       " 48842 │                    0\n",
       "\u001b[36m            48821 rows omitted\u001b[0m"
      ]
     },
     "execution_count": 84,
     "metadata": {},
     "output_type": "execute_result"
    }
   ],
   "source": [
    "select(df, :fnlwgt => cumprod)"
   ]
  },
  {
   "cell_type": "code",
   "execution_count": 86,
   "id": "8d874151-1c3f-4f76-9088-16a8a2ccbaed",
   "metadata": {},
   "outputs": [
    {
     "data": {
      "text/html": [
       "<div><div style = \"float: left;\"><span>48842×1 DataFrame</span></div><div style = \"float: right;\"><span style = \"font-style: italic;\">48817 rows omitted</span></div><div style = \"clear: both;\"></div></div><div class = \"data-frame\" style = \"overflow-x: scroll;\"><table class = \"data-frame\" style = \"margin-bottom: 6px;\"><thead><tr class = \"header\"><th class = \"rowNumber\" style = \"font-weight: bold; text-align: right;\">Row</th><th style = \"text-align: left;\">fnlwgt_function</th></tr><tr class = \"subheader headerLastRow\"><th class = \"rowNumber\" style = \"font-weight: bold; text-align: right;\"></th><th title = \"Int64\" style = \"text-align: left;\">Int64</th></tr></thead><tbody><tr><td class = \"rowNumber\" style = \"font-weight: bold; text-align: right;\">1</td><td style = \"text-align: right;\">226802</td></tr><tr><td class = \"rowNumber\" style = \"font-weight: bold; text-align: right;\">2</td><td style = \"text-align: right;\">89814</td></tr><tr><td class = \"rowNumber\" style = \"font-weight: bold; text-align: right;\">3</td><td style = \"text-align: right;\">89814</td></tr><tr><td class = \"rowNumber\" style = \"font-weight: bold; text-align: right;\">4</td><td style = \"text-align: right;\">89814</td></tr><tr><td class = \"rowNumber\" style = \"font-weight: bold; text-align: right;\">5</td><td style = \"text-align: right;\">89814</td></tr><tr><td class = \"rowNumber\" style = \"font-weight: bold; text-align: right;\">6</td><td style = \"text-align: right;\">89814</td></tr><tr><td class = \"rowNumber\" style = \"font-weight: bold; text-align: right;\">7</td><td style = \"text-align: right;\">89814</td></tr><tr><td class = \"rowNumber\" style = \"font-weight: bold; text-align: right;\">8</td><td style = \"text-align: right;\">89814</td></tr><tr><td class = \"rowNumber\" style = \"font-weight: bold; text-align: right;\">9</td><td style = \"text-align: right;\">89814</td></tr><tr><td class = \"rowNumber\" style = \"font-weight: bold; text-align: right;\">10</td><td style = \"text-align: right;\">89814</td></tr><tr><td class = \"rowNumber\" style = \"font-weight: bold; text-align: right;\">11</td><td style = \"text-align: right;\">89814</td></tr><tr><td class = \"rowNumber\" style = \"font-weight: bold; text-align: right;\">12</td><td style = \"text-align: right;\">89814</td></tr><tr><td class = \"rowNumber\" style = \"font-weight: bold; text-align: right;\">13</td><td style = \"text-align: right;\">82091</td></tr><tr><td style = \"text-align: right;\">&vellip;</td><td style = \"text-align: right;\">&vellip;</td></tr><tr><td class = \"rowNumber\" style = \"font-weight: bold; text-align: right;\">48831</td><td style = \"text-align: right;\">12285</td></tr><tr><td class = \"rowNumber\" style = \"font-weight: bold; text-align: right;\">48832</td><td style = \"text-align: right;\">12285</td></tr><tr><td class = \"rowNumber\" style = \"font-weight: bold; text-align: right;\">48833</td><td style = \"text-align: right;\">12285</td></tr><tr><td class = \"rowNumber\" style = \"font-weight: bold; text-align: right;\">48834</td><td style = \"text-align: right;\">12285</td></tr><tr><td class = \"rowNumber\" style = \"font-weight: bold; text-align: right;\">48835</td><td style = \"text-align: right;\">12285</td></tr><tr><td class = \"rowNumber\" style = \"font-weight: bold; text-align: right;\">48836</td><td style = \"text-align: right;\">12285</td></tr><tr><td class = \"rowNumber\" style = \"font-weight: bold; text-align: right;\">48837</td><td style = \"text-align: right;\">12285</td></tr><tr><td class = \"rowNumber\" style = \"font-weight: bold; text-align: right;\">48838</td><td style = \"text-align: right;\">12285</td></tr><tr><td class = \"rowNumber\" style = \"font-weight: bold; text-align: right;\">48839</td><td style = \"text-align: right;\">12285</td></tr><tr><td class = \"rowNumber\" style = \"font-weight: bold; text-align: right;\">48840</td><td style = \"text-align: right;\">12285</td></tr><tr><td class = \"rowNumber\" style = \"font-weight: bold; text-align: right;\">48841</td><td style = \"text-align: right;\">12285</td></tr><tr><td class = \"rowNumber\" style = \"font-weight: bold; text-align: right;\">48842</td><td style = \"text-align: right;\">12285</td></tr></tbody></table></div>"
      ],
      "text/latex": [
       "\\begin{tabular}{r|c}\n",
       "\t& fnlwgt\\_function\\\\\n",
       "\t\\hline\n",
       "\t& Int64\\\\\n",
       "\t\\hline\n",
       "\t1 & 226802 \\\\\n",
       "\t2 & 89814 \\\\\n",
       "\t3 & 89814 \\\\\n",
       "\t4 & 89814 \\\\\n",
       "\t5 & 89814 \\\\\n",
       "\t6 & 89814 \\\\\n",
       "\t7 & 89814 \\\\\n",
       "\t8 & 89814 \\\\\n",
       "\t9 & 89814 \\\\\n",
       "\t10 & 89814 \\\\\n",
       "\t11 & 89814 \\\\\n",
       "\t12 & 89814 \\\\\n",
       "\t13 & 82091 \\\\\n",
       "\t14 & 82091 \\\\\n",
       "\t15 & 82091 \\\\\n",
       "\t16 & 82091 \\\\\n",
       "\t17 & 82091 \\\\\n",
       "\t18 & 82091 \\\\\n",
       "\t19 & 60548 \\\\\n",
       "\t20 & 60548 \\\\\n",
       "\t21 & 60548 \\\\\n",
       "\t22 & 60548 \\\\\n",
       "\t23 & 60548 \\\\\n",
       "\t24 & 60548 \\\\\n",
       "\t25 & 60548 \\\\\n",
       "\t26 & 60548 \\\\\n",
       "\t27 & 60548 \\\\\n",
       "\t28 & 60548 \\\\\n",
       "\t29 & 60548 \\\\\n",
       "\t30 & 60548 \\\\\n",
       "\t$\\dots$ & $\\dots$ \\\\\n",
       "\\end{tabular}\n"
      ],
      "text/plain": [
       "\u001b[1m48842×1 DataFrame\u001b[0m\n",
       "\u001b[1m   Row \u001b[0m│\u001b[1m fnlwgt_function \u001b[0m\n",
       "       │\u001b[90m Int64           \u001b[0m\n",
       "───────┼─────────────────\n",
       "     1 │          226802\n",
       "     2 │           89814\n",
       "     3 │           89814\n",
       "     4 │           89814\n",
       "     5 │           89814\n",
       "     6 │           89814\n",
       "     7 │           89814\n",
       "     8 │           89814\n",
       "     9 │           89814\n",
       "    10 │           89814\n",
       "    11 │           89814\n",
       "   ⋮   │        ⋮\n",
       " 48833 │           12285\n",
       " 48834 │           12285\n",
       " 48835 │           12285\n",
       " 48836 │           12285\n",
       " 48837 │           12285\n",
       " 48838 │           12285\n",
       " 48839 │           12285\n",
       " 48840 │           12285\n",
       " 48841 │           12285\n",
       " 48842 │           12285\n",
       "\u001b[36m       48821 rows omitted\u001b[0m"
      ]
     },
     "execution_count": 86,
     "metadata": {},
     "output_type": "execute_result"
    }
   ],
   "source": [
    "select(df, :fnlwgt => v -> accumulate(min,v))"
   ]
  },
  {
   "cell_type": "code",
   "execution_count": 87,
   "id": "a0f75001-4790-4bf5-b352-2166b6afe289",
   "metadata": {},
   "outputs": [
    {
     "data": {
      "text/html": [
       "<div><div style = \"float: left;\"><span>48842×1 DataFrame</span></div><div style = \"float: right;\"><span style = \"font-style: italic;\">48817 rows omitted</span></div><div style = \"clear: both;\"></div></div><div class = \"data-frame\" style = \"overflow-x: scroll;\"><table class = \"data-frame\" style = \"margin-bottom: 6px;\"><thead><tr class = \"header\"><th class = \"rowNumber\" style = \"font-weight: bold; text-align: right;\">Row</th><th style = \"text-align: left;\">fnlwgt_function</th></tr><tr class = \"subheader headerLastRow\"><th class = \"rowNumber\" style = \"font-weight: bold; text-align: right;\"></th><th title = \"Int64\" style = \"text-align: left;\">Int64</th></tr></thead><tbody><tr><td class = \"rowNumber\" style = \"font-weight: bold; text-align: right;\">1</td><td style = \"text-align: right;\">226802</td></tr><tr><td class = \"rowNumber\" style = \"font-weight: bold; text-align: right;\">2</td><td style = \"text-align: right;\">226802</td></tr><tr><td class = \"rowNumber\" style = \"font-weight: bold; text-align: right;\">3</td><td style = \"text-align: right;\">336951</td></tr><tr><td class = \"rowNumber\" style = \"font-weight: bold; text-align: right;\">4</td><td style = \"text-align: right;\">336951</td></tr><tr><td class = \"rowNumber\" style = \"font-weight: bold; text-align: right;\">5</td><td style = \"text-align: right;\">336951</td></tr><tr><td class = \"rowNumber\" style = \"font-weight: bold; text-align: right;\">6</td><td style = \"text-align: right;\">336951</td></tr><tr><td class = \"rowNumber\" style = \"font-weight: bold; text-align: right;\">7</td><td style = \"text-align: right;\">336951</td></tr><tr><td class = \"rowNumber\" style = \"font-weight: bold; text-align: right;\">8</td><td style = \"text-align: right;\">336951</td></tr><tr><td class = \"rowNumber\" style = \"font-weight: bold; text-align: right;\">9</td><td style = \"text-align: right;\">369667</td></tr><tr><td class = \"rowNumber\" style = \"font-weight: bold; text-align: right;\">10</td><td style = \"text-align: right;\">369667</td></tr><tr><td class = \"rowNumber\" style = \"font-weight: bold; text-align: right;\">11</td><td style = \"text-align: right;\">369667</td></tr><tr><td class = \"rowNumber\" style = \"font-weight: bold; text-align: right;\">12</td><td style = \"text-align: right;\">369667</td></tr><tr><td class = \"rowNumber\" style = \"font-weight: bold; text-align: right;\">13</td><td style = \"text-align: right;\">369667</td></tr><tr><td style = \"text-align: right;\">&vellip;</td><td style = \"text-align: right;\">&vellip;</td></tr><tr><td class = \"rowNumber\" style = \"font-weight: bold; text-align: right;\">48831</td><td style = \"text-align: right;\">1490400</td></tr><tr><td class = \"rowNumber\" style = \"font-weight: bold; text-align: right;\">48832</td><td style = \"text-align: right;\">1490400</td></tr><tr><td class = \"rowNumber\" style = \"font-weight: bold; text-align: right;\">48833</td><td style = \"text-align: right;\">1490400</td></tr><tr><td class = \"rowNumber\" style = \"font-weight: bold; text-align: right;\">48834</td><td style = \"text-align: right;\">1490400</td></tr><tr><td class = \"rowNumber\" style = \"font-weight: bold; text-align: right;\">48835</td><td style = \"text-align: right;\">1490400</td></tr><tr><td class = \"rowNumber\" style = \"font-weight: bold; text-align: right;\">48836</td><td style = \"text-align: right;\">1490400</td></tr><tr><td class = \"rowNumber\" style = \"font-weight: bold; text-align: right;\">48837</td><td style = \"text-align: right;\">1490400</td></tr><tr><td class = \"rowNumber\" style = \"font-weight: bold; text-align: right;\">48838</td><td style = \"text-align: right;\">1490400</td></tr><tr><td class = \"rowNumber\" style = \"font-weight: bold; text-align: right;\">48839</td><td style = \"text-align: right;\">1490400</td></tr><tr><td class = \"rowNumber\" style = \"font-weight: bold; text-align: right;\">48840</td><td style = \"text-align: right;\">1490400</td></tr><tr><td class = \"rowNumber\" style = \"font-weight: bold; text-align: right;\">48841</td><td style = \"text-align: right;\">1490400</td></tr><tr><td class = \"rowNumber\" style = \"font-weight: bold; text-align: right;\">48842</td><td style = \"text-align: right;\">1490400</td></tr></tbody></table></div>"
      ],
      "text/latex": [
       "\\begin{tabular}{r|c}\n",
       "\t& fnlwgt\\_function\\\\\n",
       "\t\\hline\n",
       "\t& Int64\\\\\n",
       "\t\\hline\n",
       "\t1 & 226802 \\\\\n",
       "\t2 & 226802 \\\\\n",
       "\t3 & 336951 \\\\\n",
       "\t4 & 336951 \\\\\n",
       "\t5 & 336951 \\\\\n",
       "\t6 & 336951 \\\\\n",
       "\t7 & 336951 \\\\\n",
       "\t8 & 336951 \\\\\n",
       "\t9 & 369667 \\\\\n",
       "\t10 & 369667 \\\\\n",
       "\t11 & 369667 \\\\\n",
       "\t12 & 369667 \\\\\n",
       "\t13 & 369667 \\\\\n",
       "\t14 & 369667 \\\\\n",
       "\t15 & 369667 \\\\\n",
       "\t16 & 369667 \\\\\n",
       "\t17 & 444554 \\\\\n",
       "\t18 & 444554 \\\\\n",
       "\t19 & 444554 \\\\\n",
       "\t20 & 444554 \\\\\n",
       "\t21 & 444554 \\\\\n",
       "\t22 & 444554 \\\\\n",
       "\t23 & 444554 \\\\\n",
       "\t24 & 444554 \\\\\n",
       "\t25 & 444554 \\\\\n",
       "\t26 & 444554 \\\\\n",
       "\t27 & 444554 \\\\\n",
       "\t28 & 444554 \\\\\n",
       "\t29 & 444554 \\\\\n",
       "\t30 & 444554 \\\\\n",
       "\t$\\dots$ & $\\dots$ \\\\\n",
       "\\end{tabular}\n"
      ],
      "text/plain": [
       "\u001b[1m48842×1 DataFrame\u001b[0m\n",
       "\u001b[1m   Row \u001b[0m│\u001b[1m fnlwgt_function \u001b[0m\n",
       "       │\u001b[90m Int64           \u001b[0m\n",
       "───────┼─────────────────\n",
       "     1 │          226802\n",
       "     2 │          226802\n",
       "     3 │          336951\n",
       "     4 │          336951\n",
       "     5 │          336951\n",
       "     6 │          336951\n",
       "     7 │          336951\n",
       "     8 │          336951\n",
       "     9 │          369667\n",
       "    10 │          369667\n",
       "    11 │          369667\n",
       "   ⋮   │        ⋮\n",
       " 48833 │         1490400\n",
       " 48834 │         1490400\n",
       " 48835 │         1490400\n",
       " 48836 │         1490400\n",
       " 48837 │         1490400\n",
       " 48838 │         1490400\n",
       " 48839 │         1490400\n",
       " 48840 │         1490400\n",
       " 48841 │         1490400\n",
       " 48842 │         1490400\n",
       "\u001b[36m       48821 rows omitted\u001b[0m"
      ]
     },
     "execution_count": 87,
     "metadata": {},
     "output_type": "execute_result"
    }
   ],
   "source": [
    "select(df, :fnlwgt => v -> accumulate(max,v))"
   ]
  },
  {
   "cell_type": "code",
   "execution_count": 88,
   "id": "5d7ca2d3-e16f-48fc-94ed-ab5700b18adf",
   "metadata": {},
   "outputs": [
    {
     "data": {
      "text/html": [
       "<div><div style = \"float: left;\"><span>48842×1 DataFrame</span></div><div style = \"float: right;\"><span style = \"font-style: italic;\">48817 rows omitted</span></div><div style = \"clear: both;\"></div></div><div class = \"data-frame\" style = \"overflow-x: scroll;\"><table class = \"data-frame\" style = \"margin-bottom: 6px;\"><thead><tr class = \"header\"><th class = \"rowNumber\" style = \"font-weight: bold; text-align: right;\">Row</th><th style = \"text-align: left;\">fnlwgt_function</th></tr><tr class = \"subheader headerLastRow\"><th class = \"rowNumber\" style = \"font-weight: bold; text-align: right;\"></th><th title = \"Float64\" style = \"text-align: left;\">Float64</th></tr></thead><tbody><tr><td class = \"rowNumber\" style = \"font-weight: bold; text-align: right;\">1</td><td style = \"text-align: right;\">226802.0</td></tr><tr><td class = \"rowNumber\" style = \"font-weight: bold; text-align: right;\">2</td><td style = \"text-align: right;\">158308.0</td></tr><tr><td class = \"rowNumber\" style = \"font-weight: bold; text-align: right;\">3</td><td style = \"text-align: right;\">2.17856e5</td></tr><tr><td class = \"rowNumber\" style = \"font-weight: bold; text-align: right;\">4</td><td style = \"text-align: right;\">2.03472e5</td></tr><tr><td class = \"rowNumber\" style = \"font-weight: bold; text-align: right;\">5</td><td style = \"text-align: right;\">1.83477e5</td></tr><tr><td class = \"rowNumber\" style = \"font-weight: bold; text-align: right;\">6</td><td style = \"text-align: right;\">1.86013e5</td></tr><tr><td class = \"rowNumber\" style = \"font-weight: bold; text-align: right;\">7</td><td style = \"text-align: right;\">1.91872e5</td></tr><tr><td class = \"rowNumber\" style = \"font-weight: bold; text-align: right;\">8</td><td style = \"text-align: right;\">1.80966e5</td></tr><tr><td class = \"rowNumber\" style = \"font-weight: bold; text-align: right;\">9</td><td style = \"text-align: right;\">2.01933e5</td></tr><tr><td class = \"rowNumber\" style = \"font-weight: bold; text-align: right;\">10</td><td style = \"text-align: right;\">1.9224e5</td></tr><tr><td class = \"rowNumber\" style = \"font-weight: bold; text-align: right;\">11</td><td style = \"text-align: right;\">1.91532e5</td></tr><tr><td class = \"rowNumber\" style = \"font-weight: bold; text-align: right;\">12</td><td style = \"text-align: right;\">1.93276e5</td></tr><tr><td class = \"rowNumber\" style = \"font-weight: bold; text-align: right;\">13</td><td style = \"text-align: right;\">1.84723e5</td></tr><tr><td style = \"text-align: right;\">&vellip;</td><td style = \"text-align: right;\">&vellip;</td></tr><tr><td class = \"rowNumber\" style = \"font-weight: bold; text-align: right;\">48831</td><td style = \"text-align: right;\">189667.0</td></tr><tr><td class = \"rowNumber\" style = \"font-weight: bold; text-align: right;\">48832</td><td style = \"text-align: right;\">1.89664e5</td></tr><tr><td class = \"rowNumber\" style = \"font-weight: bold; text-align: right;\">48833</td><td style = \"text-align: right;\">1.8966e5</td></tr><tr><td class = \"rowNumber\" style = \"font-weight: bold; text-align: right;\">48834</td><td style = \"text-align: right;\">1.89658e5</td></tr><tr><td class = \"rowNumber\" style = \"font-weight: bold; text-align: right;\">48835</td><td style = \"text-align: right;\">1.89657e5</td></tr><tr><td class = \"rowNumber\" style = \"font-weight: bold; text-align: right;\">48836</td><td style = \"text-align: right;\">1.8966e5</td></tr><tr><td class = \"rowNumber\" style = \"font-weight: bold; text-align: right;\">48837</td><td style = \"text-align: right;\">189662.0</td></tr><tr><td class = \"rowNumber\" style = \"font-weight: bold; text-align: right;\">48838</td><td style = \"text-align: right;\">1.89663e5</td></tr><tr><td class = \"rowNumber\" style = \"font-weight: bold; text-align: right;\">48839</td><td style = \"text-align: right;\">1.89663e5</td></tr><tr><td class = \"rowNumber\" style = \"font-weight: bold; text-align: right;\">48840</td><td style = \"text-align: right;\">1.89662e5</td></tr><tr><td class = \"rowNumber\" style = \"font-weight: bold; text-align: right;\">48841</td><td style = \"text-align: right;\">1.89662e5</td></tr><tr><td class = \"rowNumber\" style = \"font-weight: bold; text-align: right;\">48842</td><td style = \"text-align: right;\">1.89664e5</td></tr></tbody></table></div>"
      ],
      "text/latex": [
       "\\begin{tabular}{r|c}\n",
       "\t& fnlwgt\\_function\\\\\n",
       "\t\\hline\n",
       "\t& Float64\\\\\n",
       "\t\\hline\n",
       "\t1 & 226802.0 \\\\\n",
       "\t2 & 158308.0 \\\\\n",
       "\t3 & 2.17856e5 \\\\\n",
       "\t4 & 2.03472e5 \\\\\n",
       "\t5 & 1.83477e5 \\\\\n",
       "\t6 & 1.86013e5 \\\\\n",
       "\t7 & 1.91872e5 \\\\\n",
       "\t8 & 1.80966e5 \\\\\n",
       "\t9 & 2.01933e5 \\\\\n",
       "\t10 & 1.9224e5 \\\\\n",
       "\t11 & 1.91532e5 \\\\\n",
       "\t12 & 1.93276e5 \\\\\n",
       "\t13 & 1.84723e5 \\\\\n",
       "\t14 & 1.92945e5 \\\\\n",
       "\t15 & 1.98731e5 \\\\\n",
       "\t16 & 2.07947e5 \\\\\n",
       "\t17 & 2.21865e5 \\\\\n",
       "\t18 & 2.1667e5 \\\\\n",
       "\t19 & 2.08453e5 \\\\\n",
       "\t20 & 2.02281e5 \\\\\n",
       "\t21 & 1.97788e5 \\\\\n",
       "\t22 & 1.99642e5 \\\\\n",
       "\t23 & 1.96702e5 \\\\\n",
       "\t24 & 1.97711e5 \\\\\n",
       "\t25 & 1.98041e5 \\\\\n",
       "\t26 & 2.07071e5 \\\\\n",
       "\t27 & 2.08158e5 \\\\\n",
       "\t28 & 2.05526e5 \\\\\n",
       "\t29 & 2.0187e5 \\\\\n",
       "\t30 & 1.98784e5 \\\\\n",
       "\t$\\dots$ & $\\dots$ \\\\\n",
       "\\end{tabular}\n"
      ],
      "text/plain": [
       "\u001b[1m48842×1 DataFrame\u001b[0m\n",
       "\u001b[1m   Row \u001b[0m│\u001b[1m fnlwgt_function \u001b[0m\n",
       "       │\u001b[90m Float64         \u001b[0m\n",
       "───────┼─────────────────\n",
       "     1 │  226802.0\n",
       "     2 │  158308.0\n",
       "     3 │       2.17856e5\n",
       "     4 │       2.03472e5\n",
       "     5 │       1.83477e5\n",
       "     6 │       1.86013e5\n",
       "     7 │       1.91872e5\n",
       "     8 │       1.80966e5\n",
       "     9 │       2.01933e5\n",
       "    10 │       1.9224e5\n",
       "    11 │       1.91532e5\n",
       "   ⋮   │        ⋮\n",
       " 48833 │       1.8966e5\n",
       " 48834 │       1.89658e5\n",
       " 48835 │       1.89657e5\n",
       " 48836 │       1.8966e5\n",
       " 48837 │  189662.0\n",
       " 48838 │       1.89663e5\n",
       " 48839 │       1.89663e5\n",
       " 48840 │       1.89662e5\n",
       " 48841 │       1.89662e5\n",
       " 48842 │       1.89664e5\n",
       "\u001b[36m       48821 rows omitted\u001b[0m"
      ]
     },
     "execution_count": 88,
     "metadata": {},
     "output_type": "execute_result"
    }
   ],
   "source": [
    "select(df, :fnlwgt => v -> cumsum(v) ./ (1:length(v)))"
   ]
  },
  {
   "cell_type": "code",
   "execution_count": 93,
   "id": "cf649c06-8609-4260-b2a9-383bddce6c03",
   "metadata": {},
   "outputs": [
    {
     "data": {
      "text/html": [
       "<div><div style = \"float: left;\"><span>48842×1 DataFrame</span></div><div style = \"float: right;\"><span style = \"font-style: italic;\">48817 rows omitted</span></div><div style = \"clear: both;\"></div></div><div class = \"data-frame\" style = \"overflow-x: scroll;\"><table class = \"data-frame\" style = \"margin-bottom: 6px;\"><thead><tr class = \"header\"><th class = \"rowNumber\" style = \"font-weight: bold; text-align: right;\">Row</th><th style = \"text-align: left;\">fnlwgt_function</th></tr><tr class = \"subheader headerLastRow\"><th class = \"rowNumber\" style = \"font-weight: bold; text-align: right;\"></th><th title = \"Float64\" style = \"text-align: left;\">Float64</th></tr></thead><tbody><tr><td class = \"rowNumber\" style = \"font-weight: bold; text-align: right;\">1</td><td style = \"text-align: right;\">226802.0</td></tr><tr><td class = \"rowNumber\" style = \"font-weight: bold; text-align: right;\">2</td><td style = \"text-align: right;\">158308.0</td></tr><tr><td class = \"rowNumber\" style = \"font-weight: bold; text-align: right;\">3</td><td style = \"text-align: right;\">2.17856e5</td></tr><tr><td class = \"rowNumber\" style = \"font-weight: bold; text-align: right;\">4</td><td style = \"text-align: right;\">2.03472e5</td></tr><tr><td class = \"rowNumber\" style = \"font-weight: bold; text-align: right;\">5</td><td style = \"text-align: right;\">1.83477e5</td></tr><tr><td class = \"rowNumber\" style = \"font-weight: bold; text-align: right;\">6</td><td style = \"text-align: right;\">1.86013e5</td></tr><tr><td class = \"rowNumber\" style = \"font-weight: bold; text-align: right;\">7</td><td style = \"text-align: right;\">1.91872e5</td></tr><tr><td class = \"rowNumber\" style = \"font-weight: bold; text-align: right;\">8</td><td style = \"text-align: right;\">1.80966e5</td></tr><tr><td class = \"rowNumber\" style = \"font-weight: bold; text-align: right;\">9</td><td style = \"text-align: right;\">2.01933e5</td></tr><tr><td class = \"rowNumber\" style = \"font-weight: bold; text-align: right;\">10</td><td style = \"text-align: right;\">1.9224e5</td></tr><tr><td class = \"rowNumber\" style = \"font-weight: bold; text-align: right;\">11</td><td style = \"text-align: right;\">1.88005e5</td></tr><tr><td class = \"rowNumber\" style = \"font-weight: bold; text-align: right;\">12</td><td style = \"text-align: right;\">2.0027e5</td></tr><tr><td class = \"rowNumber\" style = \"font-weight: bold; text-align: right;\">13</td><td style = \"text-align: right;\">1.74784e5</td></tr><tr><td style = \"text-align: right;\">&vellip;</td><td style = \"text-align: right;\">&vellip;</td></tr><tr><td class = \"rowNumber\" style = \"font-weight: bold; text-align: right;\">48831</td><td style = \"text-align: right;\">1.82947e5</td></tr><tr><td class = \"rowNumber\" style = \"font-weight: bold; text-align: right;\">48832</td><td style = \"text-align: right;\">160450.0</td></tr><tr><td class = \"rowNumber\" style = \"font-weight: bold; text-align: right;\">48833</td><td style = \"text-align: right;\">1.43574e5</td></tr><tr><td class = \"rowNumber\" style = \"font-weight: bold; text-align: right;\">48834</td><td style = \"text-align: right;\">1.39049e5</td></tr><tr><td class = \"rowNumber\" style = \"font-weight: bold; text-align: right;\">48835</td><td style = \"text-align: right;\">1.38743e5</td></tr><tr><td class = \"rowNumber\" style = \"font-weight: bold; text-align: right;\">48836</td><td style = \"text-align: right;\">1.50964e5</td></tr><tr><td class = \"rowNumber\" style = \"font-weight: bold; text-align: right;\">48837</td><td style = \"text-align: right;\">1.7083e5</td></tr><tr><td class = \"rowNumber\" style = \"font-weight: bold; text-align: right;\">48838</td><td style = \"text-align: right;\">1.76738e5</td></tr><tr><td class = \"rowNumber\" style = \"font-weight: bold; text-align: right;\">48839</td><td style = \"text-align: right;\">1.66099e5</td></tr><tr><td class = \"rowNumber\" style = \"font-weight: bold; text-align: right;\">48840</td><td style = \"text-align: right;\">1.71354e5</td></tr><tr><td class = \"rowNumber\" style = \"font-weight: bold; text-align: right;\">48841</td><td style = \"text-align: right;\">165920.0</td></tr><tr><td class = \"rowNumber\" style = \"font-weight: bold; text-align: right;\">48842</td><td style = \"text-align: right;\">1.91988e5</td></tr></tbody></table></div>"
      ],
      "text/latex": [
       "\\begin{tabular}{r|c}\n",
       "\t& fnlwgt\\_function\\\\\n",
       "\t\\hline\n",
       "\t& Float64\\\\\n",
       "\t\\hline\n",
       "\t1 & 226802.0 \\\\\n",
       "\t2 & 158308.0 \\\\\n",
       "\t3 & 2.17856e5 \\\\\n",
       "\t4 & 2.03472e5 \\\\\n",
       "\t5 & 1.83477e5 \\\\\n",
       "\t6 & 1.86013e5 \\\\\n",
       "\t7 & 1.91872e5 \\\\\n",
       "\t8 & 1.80966e5 \\\\\n",
       "\t9 & 2.01933e5 \\\\\n",
       "\t10 & 1.9224e5 \\\\\n",
       "\t11 & 1.88005e5 \\\\\n",
       "\t12 & 2.0027e5 \\\\\n",
       "\t13 & 1.74784e5 \\\\\n",
       "\t14 & 1.88735e5 \\\\\n",
       "\t15 & 2.06357e5 \\\\\n",
       "\t16 & 2.21107e5 \\\\\n",
       "\t17 & 2.4286e5 \\\\\n",
       "\t18 & 2.45232e5 \\\\\n",
       "\t19 & 2.14321e5 \\\\\n",
       "\t20 & 2.12323e5 \\\\\n",
       "\t21 & 2.04669e5 \\\\\n",
       "\t22 & 2.07281e5 \\\\\n",
       "\t23 & 2.12274e5 \\\\\n",
       "\t24 & 2.04384e5 \\\\\n",
       "\t25 & 1.97006e5 \\\\\n",
       "\t26 & 2.05669e5 \\\\\n",
       "\t27 & 1.84857e5 \\\\\n",
       "\t28 & 1.85466e5 \\\\\n",
       "\t29 & 1.89363e5 \\\\\n",
       "\t30 & 191789.0 \\\\\n",
       "\t$\\dots$ & $\\dots$ \\\\\n",
       "\\end{tabular}\n"
      ],
      "text/plain": [
       "\u001b[1m48842×1 DataFrame\u001b[0m\n",
       "\u001b[1m   Row \u001b[0m│\u001b[1m fnlwgt_function \u001b[0m\n",
       "       │\u001b[90m Float64         \u001b[0m\n",
       "───────┼─────────────────\n",
       "     1 │  226802.0\n",
       "     2 │  158308.0\n",
       "     3 │       2.17856e5\n",
       "     4 │       2.03472e5\n",
       "     5 │       1.83477e5\n",
       "     6 │       1.86013e5\n",
       "     7 │       1.91872e5\n",
       "     8 │       1.80966e5\n",
       "     9 │       2.01933e5\n",
       "    10 │       1.9224e5\n",
       "    11 │       1.88005e5\n",
       "   ⋮   │        ⋮\n",
       " 48833 │       1.43574e5\n",
       " 48834 │       1.39049e5\n",
       " 48835 │       1.38743e5\n",
       " 48836 │       1.50964e5\n",
       " 48837 │       1.7083e5\n",
       " 48838 │       1.76738e5\n",
       " 48839 │       1.66099e5\n",
       " 48840 │       1.71354e5\n",
       " 48841 │  165920.0\n",
       " 48842 │       1.91988e5\n",
       "\u001b[36m       48821 rows omitted\u001b[0m"
      ]
     },
     "execution_count": 93,
     "metadata": {},
     "output_type": "execute_result"
    }
   ],
   "source": [
    "select(df, :fnlwgt =>(v -> runmean(v,10)))"
   ]
  },
  {
   "cell_type": "code",
   "execution_count": 96,
   "id": "c24102ef-efbd-4c99-9b81-46feba4d7311",
   "metadata": {},
   "outputs": [
    {
     "data": {
      "text/html": [
       "<div><div style = \"float: left;\"><span>48842×1 DataFrame</span></div><div style = \"float: right;\"><span style = \"font-style: italic;\">48817 rows omitted</span></div><div style = \"clear: both;\"></div></div><div class = \"data-frame\" style = \"overflow-x: scroll;\"><table class = \"data-frame\" style = \"margin-bottom: 6px;\"><thead><tr class = \"header\"><th class = \"rowNumber\" style = \"font-weight: bold; text-align: right;\">Row</th><th style = \"text-align: left;\">fnlwgt_function</th></tr><tr class = \"subheader headerLastRow\"><th class = \"rowNumber\" style = \"font-weight: bold; text-align: right;\"></th><th title = \"Int64\" style = \"text-align: left;\">Int64</th></tr></thead><tbody><tr><td class = \"rowNumber\" style = \"font-weight: bold; text-align: right;\">1</td><td style = \"text-align: right;\">226802</td></tr><tr><td class = \"rowNumber\" style = \"font-weight: bold; text-align: right;\">2</td><td style = \"text-align: right;\">226802</td></tr><tr><td class = \"rowNumber\" style = \"font-weight: bold; text-align: right;\">3</td><td style = \"text-align: right;\">336951</td></tr><tr><td class = \"rowNumber\" style = \"font-weight: bold; text-align: right;\">4</td><td style = \"text-align: right;\">336951</td></tr><tr><td class = \"rowNumber\" style = \"font-weight: bold; text-align: right;\">5</td><td style = \"text-align: right;\">336951</td></tr><tr><td class = \"rowNumber\" style = \"font-weight: bold; text-align: right;\">6</td><td style = \"text-align: right;\">336951</td></tr><tr><td class = \"rowNumber\" style = \"font-weight: bold; text-align: right;\">7</td><td style = \"text-align: right;\">336951</td></tr><tr><td class = \"rowNumber\" style = \"font-weight: bold; text-align: right;\">8</td><td style = \"text-align: right;\">336951</td></tr><tr><td class = \"rowNumber\" style = \"font-weight: bold; text-align: right;\">9</td><td style = \"text-align: right;\">369667</td></tr><tr><td class = \"rowNumber\" style = \"font-weight: bold; text-align: right;\">10</td><td style = \"text-align: right;\">369667</td></tr><tr><td class = \"rowNumber\" style = \"font-weight: bold; text-align: right;\">11</td><td style = \"text-align: right;\">369667</td></tr><tr><td class = \"rowNumber\" style = \"font-weight: bold; text-align: right;\">12</td><td style = \"text-align: right;\">369667</td></tr><tr><td class = \"rowNumber\" style = \"font-weight: bold; text-align: right;\">13</td><td style = \"text-align: right;\">369667</td></tr><tr><td style = \"text-align: right;\">&vellip;</td><td style = \"text-align: right;\">&vellip;</td></tr><tr><td class = \"rowNumber\" style = \"font-weight: bold; text-align: right;\">48831</td><td style = \"text-align: right;\">260761</td></tr><tr><td class = \"rowNumber\" style = \"font-weight: bold; text-align: right;\">48832</td><td style = \"text-align: right;\">260761</td></tr><tr><td class = \"rowNumber\" style = \"font-weight: bold; text-align: right;\">48833</td><td style = \"text-align: right;\">260761</td></tr><tr><td class = \"rowNumber\" style = \"font-weight: bold; text-align: right;\">48834</td><td style = \"text-align: right;\">260761</td></tr><tr><td class = \"rowNumber\" style = \"font-weight: bold; text-align: right;\">48835</td><td style = \"text-align: right;\">260761</td></tr><tr><td class = \"rowNumber\" style = \"font-weight: bold; text-align: right;\">48836</td><td style = \"text-align: right;\">321865</td></tr><tr><td class = \"rowNumber\" style = \"font-weight: bold; text-align: right;\">48837</td><td style = \"text-align: right;\">321865</td></tr><tr><td class = \"rowNumber\" style = \"font-weight: bold; text-align: right;\">48838</td><td style = \"text-align: right;\">321865</td></tr><tr><td class = \"rowNumber\" style = \"font-weight: bold; text-align: right;\">48839</td><td style = \"text-align: right;\">321865</td></tr><tr><td class = \"rowNumber\" style = \"font-weight: bold; text-align: right;\">48840</td><td style = \"text-align: right;\">321865</td></tr><tr><td class = \"rowNumber\" style = \"font-weight: bold; text-align: right;\">48841</td><td style = \"text-align: right;\">321865</td></tr><tr><td class = \"rowNumber\" style = \"font-weight: bold; text-align: right;\">48842</td><td style = \"text-align: right;\">321865</td></tr></tbody></table></div>"
      ],
      "text/latex": [
       "\\begin{tabular}{r|c}\n",
       "\t& fnlwgt\\_function\\\\\n",
       "\t\\hline\n",
       "\t& Int64\\\\\n",
       "\t\\hline\n",
       "\t1 & 226802 \\\\\n",
       "\t2 & 226802 \\\\\n",
       "\t3 & 336951 \\\\\n",
       "\t4 & 336951 \\\\\n",
       "\t5 & 336951 \\\\\n",
       "\t6 & 336951 \\\\\n",
       "\t7 & 336951 \\\\\n",
       "\t8 & 336951 \\\\\n",
       "\t9 & 369667 \\\\\n",
       "\t10 & 369667 \\\\\n",
       "\t11 & 369667 \\\\\n",
       "\t12 & 369667 \\\\\n",
       "\t13 & 369667 \\\\\n",
       "\t14 & 369667 \\\\\n",
       "\t15 & 369667 \\\\\n",
       "\t16 & 369667 \\\\\n",
       "\t17 & 444554 \\\\\n",
       "\t18 & 444554 \\\\\n",
       "\t19 & 444554 \\\\\n",
       "\t20 & 444554 \\\\\n",
       "\t21 & 444554 \\\\\n",
       "\t22 & 444554 \\\\\n",
       "\t23 & 444554 \\\\\n",
       "\t24 & 444554 \\\\\n",
       "\t25 & 444554 \\\\\n",
       "\t26 & 444554 \\\\\n",
       "\t27 & 432824 \\\\\n",
       "\t28 & 432824 \\\\\n",
       "\t29 & 432824 \\\\\n",
       "\t30 & 432824 \\\\\n",
       "\t$\\dots$ & $\\dots$ \\\\\n",
       "\\end{tabular}\n"
      ],
      "text/plain": [
       "\u001b[1m48842×1 DataFrame\u001b[0m\n",
       "\u001b[1m   Row \u001b[0m│\u001b[1m fnlwgt_function \u001b[0m\n",
       "       │\u001b[90m Int64           \u001b[0m\n",
       "───────┼─────────────────\n",
       "     1 │          226802\n",
       "     2 │          226802\n",
       "     3 │          336951\n",
       "     4 │          336951\n",
       "     5 │          336951\n",
       "     6 │          336951\n",
       "     7 │          336951\n",
       "     8 │          336951\n",
       "     9 │          369667\n",
       "    10 │          369667\n",
       "    11 │          369667\n",
       "   ⋮   │        ⋮\n",
       " 48833 │          260761\n",
       " 48834 │          260761\n",
       " 48835 │          260761\n",
       " 48836 │          321865\n",
       " 48837 │          321865\n",
       " 48838 │          321865\n",
       " 48839 │          321865\n",
       " 48840 │          321865\n",
       " 48841 │          321865\n",
       " 48842 │          321865\n",
       "\u001b[36m       48821 rows omitted\u001b[0m"
      ]
     },
     "execution_count": 96,
     "metadata": {},
     "output_type": "execute_result"
    }
   ],
   "source": [
    "select(df, :fnlwgt =>(v -> runmax(v,10)))"
   ]
  },
  {
   "cell_type": "code",
   "execution_count": 97,
   "id": "3aa29832-0a09-44ae-851d-8f92a199fbab",
   "metadata": {},
   "outputs": [
    {
     "data": {
      "text/html": [
       "<div><div style = \"float: left;\"><span>48842×1 DataFrame</span></div><div style = \"float: right;\"><span style = \"font-style: italic;\">48817 rows omitted</span></div><div style = \"clear: both;\"></div></div><div class = \"data-frame\" style = \"overflow-x: scroll;\"><table class = \"data-frame\" style = \"margin-bottom: 6px;\"><thead><tr class = \"header\"><th class = \"rowNumber\" style = \"font-weight: bold; text-align: right;\">Row</th><th style = \"text-align: left;\">fnlwgt_ordinalrank</th></tr><tr class = \"subheader headerLastRow\"><th class = \"rowNumber\" style = \"font-weight: bold; text-align: right;\"></th><th title = \"Int64\" style = \"text-align: left;\">Int64</th></tr></thead><tbody><tr><td class = \"rowNumber\" style = \"font-weight: bold; text-align: right;\">1</td><td style = \"text-align: right;\">35166</td></tr><tr><td class = \"rowNumber\" style = \"font-weight: bold; text-align: right;\">2</td><td style = \"text-align: right;\">7149</td></tr><tr><td class = \"rowNumber\" style = \"font-weight: bold; text-align: right;\">3</td><td style = \"text-align: right;\">44431</td></tr><tr><td class = \"rowNumber\" style = \"font-weight: bold; text-align: right;\">4</td><td style = \"text-align: right;\">20001</td></tr><tr><td class = \"rowNumber\" style = \"font-weight: bold; text-align: right;\">5</td><td style = \"text-align: right;\">9240</td></tr><tr><td class = \"rowNumber\" style = \"font-weight: bold; text-align: right;\">6</td><td style = \"text-align: right;\">29930</td></tr><tr><td class = \"rowNumber\" style = \"font-weight: bold; text-align: right;\">7</td><td style = \"text-align: right;\">35212</td></tr><tr><td class = \"rowNumber\" style = \"font-weight: bold; text-align: right;\">8</td><td style = \"text-align: right;\">9501</td></tr><tr><td class = \"rowNumber\" style = \"font-weight: bold; text-align: right;\">9</td><td style = \"text-align: right;\">46036</td></tr><tr><td class = \"rowNumber\" style = \"font-weight: bold; text-align: right;\">10</td><td style = \"text-align: right;\">9567</td></tr><tr><td class = \"rowNumber\" style = \"font-weight: bold; text-align: right;\">11</td><td style = \"text-align: right;\">26000</td></tr><tr><td class = \"rowNumber\" style = \"font-weight: bold; text-align: right;\">12</td><td style = \"text-align: right;\">32881</td></tr><tr><td class = \"rowNumber\" style = \"font-weight: bold; text-align: right;\">13</td><td style = \"text-align: right;\">6312</td></tr><tr><td style = \"text-align: right;\">&vellip;</td><td style = \"text-align: right;\">&vellip;</td></tr><tr><td class = \"rowNumber\" style = \"font-weight: bold; text-align: right;\">48831</td><td style = \"text-align: right;\">38628</td></tr><tr><td class = \"rowNumber\" style = \"font-weight: bold; text-align: right;\">48832</td><td style = \"text-align: right;\">502</td></tr><tr><td class = \"rowNumber\" style = \"font-weight: bold; text-align: right;\">48833</td><td style = \"text-align: right;\">1588</td></tr><tr><td class = \"rowNumber\" style = \"font-weight: bold; text-align: right;\">48834</td><td style = \"text-align: right;\">6604</td></tr><tr><td class = \"rowNumber\" style = \"font-weight: bold; text-align: right;\">48835</td><td style = \"text-align: right;\">11867</td></tr><tr><td class = \"rowNumber\" style = \"font-weight: bold; text-align: right;\">48836</td><td style = \"text-align: right;\">43612</td></tr><tr><td class = \"rowNumber\" style = \"font-weight: bold; text-align: right;\">48837</td><td style = \"text-align: right;\">42880</td></tr><tr><td class = \"rowNumber\" style = \"font-weight: bold; text-align: right;\">48838</td><td style = \"text-align: right;\">38791</td></tr><tr><td class = \"rowNumber\" style = \"font-weight: bold; text-align: right;\">48839</td><td style = \"text-align: right;\">18858</td></tr><tr><td class = \"rowNumber\" style = \"font-weight: bold; text-align: right;\">48840</td><td style = \"text-align: right;\">18365</td></tr><tr><td class = \"rowNumber\" style = \"font-weight: bold; text-align: right;\">48841</td><td style = \"text-align: right;\">30641</td></tr><tr><td class = \"rowNumber\" style = \"font-weight: bold; text-align: right;\">48842</td><td style = \"text-align: right;\">41400</td></tr></tbody></table></div>"
      ],
      "text/latex": [
       "\\begin{tabular}{r|c}\n",
       "\t& fnlwgt\\_ordinalrank\\\\\n",
       "\t\\hline\n",
       "\t& Int64\\\\\n",
       "\t\\hline\n",
       "\t1 & 35166 \\\\\n",
       "\t2 & 7149 \\\\\n",
       "\t3 & 44431 \\\\\n",
       "\t4 & 20001 \\\\\n",
       "\t5 & 9240 \\\\\n",
       "\t6 & 29930 \\\\\n",
       "\t7 & 35212 \\\\\n",
       "\t8 & 9501 \\\\\n",
       "\t9 & 46036 \\\\\n",
       "\t10 & 9567 \\\\\n",
       "\t11 & 26000 \\\\\n",
       "\t12 & 32881 \\\\\n",
       "\t13 & 6312 \\\\\n",
       "\t14 & 42202 \\\\\n",
       "\t15 & 40747 \\\\\n",
       "\t16 & 45000 \\\\\n",
       "\t17 & 47810 \\\\\n",
       "\t18 & 14296 \\\\\n",
       "\t19 & 4489 \\\\\n",
       "\t20 & 6637 \\\\\n",
       "\t21 & 10149 \\\\\n",
       "\t22 & 36759 \\\\\n",
       "\t23 & 14848 \\\\\n",
       "\t24 & 34315 \\\\\n",
       "\t25 & 31644 \\\\\n",
       "\t26 & 47649 \\\\\n",
       "\t27 & 36469 \\\\\n",
       "\t28 & 15261 \\\\\n",
       "\t29 & 8488 \\\\\n",
       "\t30 & 10438 \\\\\n",
       "\t$\\dots$ & $\\dots$ \\\\\n",
       "\\end{tabular}\n"
      ],
      "text/plain": [
       "\u001b[1m48842×1 DataFrame\u001b[0m\n",
       "\u001b[1m   Row \u001b[0m│\u001b[1m fnlwgt_ordinalrank \u001b[0m\n",
       "       │\u001b[90m Int64              \u001b[0m\n",
       "───────┼────────────────────\n",
       "     1 │              35166\n",
       "     2 │               7149\n",
       "     3 │              44431\n",
       "     4 │              20001\n",
       "     5 │               9240\n",
       "     6 │              29930\n",
       "     7 │              35212\n",
       "     8 │               9501\n",
       "     9 │              46036\n",
       "    10 │               9567\n",
       "    11 │              26000\n",
       "   ⋮   │         ⋮\n",
       " 48833 │               1588\n",
       " 48834 │               6604\n",
       " 48835 │              11867\n",
       " 48836 │              43612\n",
       " 48837 │              42880\n",
       " 48838 │              38791\n",
       " 48839 │              18858\n",
       " 48840 │              18365\n",
       " 48841 │              30641\n",
       " 48842 │              41400\n",
       "\u001b[36m          48821 rows omitted\u001b[0m"
      ]
     },
     "execution_count": 97,
     "metadata": {},
     "output_type": "execute_result"
    }
   ],
   "source": [
    "select(df, :fnlwgt => ordinalrank)"
   ]
  },
  {
   "cell_type": "code",
   "execution_count": 99,
   "id": "9ce5bd07-06f2-46d5-b3c9-1eb3f0163974",
   "metadata": {},
   "outputs": [
    {
     "data": {
      "text/html": [
       "<div><div style = \"float: left;\"><span>48842×1 DataFrame</span></div><div style = \"float: right;\"><span style = \"font-style: italic;\">48817 rows omitted</span></div><div style = \"clear: both;\"></div></div><div class = \"data-frame\" style = \"overflow-x: scroll;\"><table class = \"data-frame\" style = \"margin-bottom: 6px;\"><thead><tr class = \"header\"><th class = \"rowNumber\" style = \"font-weight: bold; text-align: right;\">Row</th><th style = \"text-align: left;\">fnlwgt_competerank</th></tr><tr class = \"subheader headerLastRow\"><th class = \"rowNumber\" style = \"font-weight: bold; text-align: right;\"></th><th title = \"Int64\" style = \"text-align: left;\">Int64</th></tr></thead><tbody><tr><td class = \"rowNumber\" style = \"font-weight: bold; text-align: right;\">1</td><td style = \"text-align: right;\">35166</td></tr><tr><td class = \"rowNumber\" style = \"font-weight: bold; text-align: right;\">2</td><td style = \"text-align: right;\">7149</td></tr><tr><td class = \"rowNumber\" style = \"font-weight: bold; text-align: right;\">3</td><td style = \"text-align: right;\">44431</td></tr><tr><td class = \"rowNumber\" style = \"font-weight: bold; text-align: right;\">4</td><td style = \"text-align: right;\">20001</td></tr><tr><td class = \"rowNumber\" style = \"font-weight: bold; text-align: right;\">5</td><td style = \"text-align: right;\">9240</td></tr><tr><td class = \"rowNumber\" style = \"font-weight: bold; text-align: right;\">6</td><td style = \"text-align: right;\">29930</td></tr><tr><td class = \"rowNumber\" style = \"font-weight: bold; text-align: right;\">7</td><td style = \"text-align: right;\">35212</td></tr><tr><td class = \"rowNumber\" style = \"font-weight: bold; text-align: right;\">8</td><td style = \"text-align: right;\">9501</td></tr><tr><td class = \"rowNumber\" style = \"font-weight: bold; text-align: right;\">9</td><td style = \"text-align: right;\">46036</td></tr><tr><td class = \"rowNumber\" style = \"font-weight: bold; text-align: right;\">10</td><td style = \"text-align: right;\">9567</td></tr><tr><td class = \"rowNumber\" style = \"font-weight: bold; text-align: right;\">11</td><td style = \"text-align: right;\">26000</td></tr><tr><td class = \"rowNumber\" style = \"font-weight: bold; text-align: right;\">12</td><td style = \"text-align: right;\">32881</td></tr><tr><td class = \"rowNumber\" style = \"font-weight: bold; text-align: right;\">13</td><td style = \"text-align: right;\">6312</td></tr><tr><td style = \"text-align: right;\">&vellip;</td><td style = \"text-align: right;\">&vellip;</td></tr><tr><td class = \"rowNumber\" style = \"font-weight: bold; text-align: right;\">48831</td><td style = \"text-align: right;\">38628</td></tr><tr><td class = \"rowNumber\" style = \"font-weight: bold; text-align: right;\">48832</td><td style = \"text-align: right;\">498</td></tr><tr><td class = \"rowNumber\" style = \"font-weight: bold; text-align: right;\">48833</td><td style = \"text-align: right;\">1587</td></tr><tr><td class = \"rowNumber\" style = \"font-weight: bold; text-align: right;\">48834</td><td style = \"text-align: right;\">6603</td></tr><tr><td class = \"rowNumber\" style = \"font-weight: bold; text-align: right;\">48835</td><td style = \"text-align: right;\">11865</td></tr><tr><td class = \"rowNumber\" style = \"font-weight: bold; text-align: right;\">48836</td><td style = \"text-align: right;\">43608</td></tr><tr><td class = \"rowNumber\" style = \"font-weight: bold; text-align: right;\">48837</td><td style = \"text-align: right;\">42878</td></tr><tr><td class = \"rowNumber\" style = \"font-weight: bold; text-align: right;\">48838</td><td style = \"text-align: right;\">38791</td></tr><tr><td class = \"rowNumber\" style = \"font-weight: bold; text-align: right;\">48839</td><td style = \"text-align: right;\">18848</td></tr><tr><td class = \"rowNumber\" style = \"font-weight: bold; text-align: right;\">48840</td><td style = \"text-align: right;\">18364</td></tr><tr><td class = \"rowNumber\" style = \"font-weight: bold; text-align: right;\">48841</td><td style = \"text-align: right;\">30639</td></tr><tr><td class = \"rowNumber\" style = \"font-weight: bold; text-align: right;\">48842</td><td style = \"text-align: right;\">41398</td></tr></tbody></table></div>"
      ],
      "text/latex": [
       "\\begin{tabular}{r|c}\n",
       "\t& fnlwgt\\_competerank\\\\\n",
       "\t\\hline\n",
       "\t& Int64\\\\\n",
       "\t\\hline\n",
       "\t1 & 35166 \\\\\n",
       "\t2 & 7149 \\\\\n",
       "\t3 & 44431 \\\\\n",
       "\t4 & 20001 \\\\\n",
       "\t5 & 9240 \\\\\n",
       "\t6 & 29930 \\\\\n",
       "\t7 & 35212 \\\\\n",
       "\t8 & 9501 \\\\\n",
       "\t9 & 46036 \\\\\n",
       "\t10 & 9567 \\\\\n",
       "\t11 & 26000 \\\\\n",
       "\t12 & 32881 \\\\\n",
       "\t13 & 6312 \\\\\n",
       "\t14 & 42202 \\\\\n",
       "\t15 & 40747 \\\\\n",
       "\t16 & 45000 \\\\\n",
       "\t17 & 47810 \\\\\n",
       "\t18 & 14296 \\\\\n",
       "\t19 & 4489 \\\\\n",
       "\t20 & 6637 \\\\\n",
       "\t21 & 10149 \\\\\n",
       "\t22 & 36759 \\\\\n",
       "\t23 & 14848 \\\\\n",
       "\t24 & 34315 \\\\\n",
       "\t25 & 31644 \\\\\n",
       "\t26 & 47649 \\\\\n",
       "\t27 & 36469 \\\\\n",
       "\t28 & 15261 \\\\\n",
       "\t29 & 8488 \\\\\n",
       "\t30 & 10438 \\\\\n",
       "\t$\\dots$ & $\\dots$ \\\\\n",
       "\\end{tabular}\n"
      ],
      "text/plain": [
       "\u001b[1m48842×1 DataFrame\u001b[0m\n",
       "\u001b[1m   Row \u001b[0m│\u001b[1m fnlwgt_competerank \u001b[0m\n",
       "       │\u001b[90m Int64              \u001b[0m\n",
       "───────┼────────────────────\n",
       "     1 │              35166\n",
       "     2 │               7149\n",
       "     3 │              44431\n",
       "     4 │              20001\n",
       "     5 │               9240\n",
       "     6 │              29930\n",
       "     7 │              35212\n",
       "     8 │               9501\n",
       "     9 │              46036\n",
       "    10 │               9567\n",
       "    11 │              26000\n",
       "   ⋮   │         ⋮\n",
       " 48833 │               1587\n",
       " 48834 │               6603\n",
       " 48835 │              11865\n",
       " 48836 │              43608\n",
       " 48837 │              42878\n",
       " 48838 │              38791\n",
       " 48839 │              18848\n",
       " 48840 │              18364\n",
       " 48841 │              30639\n",
       " 48842 │              41398\n",
       "\u001b[36m          48821 rows omitted\u001b[0m"
      ]
     },
     "execution_count": 99,
     "metadata": {},
     "output_type": "execute_result"
    }
   ],
   "source": [
    "select(df, :fnlwgt => competerank)"
   ]
  },
  {
   "cell_type": "code",
   "execution_count": 100,
   "id": "feb7a1e5-3534-4ff3-89fc-edb81a32e2a4",
   "metadata": {},
   "outputs": [
    {
     "data": {
      "text/html": [
       "<div><div style = \"float: left;\"><span>48842×1 DataFrame</span></div><div style = \"float: right;\"><span style = \"font-style: italic;\">48817 rows omitted</span></div><div style = \"clear: both;\"></div></div><div class = \"data-frame\" style = \"overflow-x: scroll;\"><table class = \"data-frame\" style = \"margin-bottom: 6px;\"><thead><tr class = \"header\"><th class = \"rowNumber\" style = \"font-weight: bold; text-align: right;\">Row</th><th style = \"text-align: left;\">fnlwgt_tiedrank</th></tr><tr class = \"subheader headerLastRow\"><th class = \"rowNumber\" style = \"font-weight: bold; text-align: right;\"></th><th title = \"Float64\" style = \"text-align: left;\">Float64</th></tr></thead><tbody><tr><td class = \"rowNumber\" style = \"font-weight: bold; text-align: right;\">1</td><td style = \"text-align: right;\">35166.0</td></tr><tr><td class = \"rowNumber\" style = \"font-weight: bold; text-align: right;\">2</td><td style = \"text-align: right;\">7149.0</td></tr><tr><td class = \"rowNumber\" style = \"font-weight: bold; text-align: right;\">3</td><td style = \"text-align: right;\">44432.5</td></tr><tr><td class = \"rowNumber\" style = \"font-weight: bold; text-align: right;\">4</td><td style = \"text-align: right;\">20001.5</td></tr><tr><td class = \"rowNumber\" style = \"font-weight: bold; text-align: right;\">5</td><td style = \"text-align: right;\">9240.0</td></tr><tr><td class = \"rowNumber\" style = \"font-weight: bold; text-align: right;\">6</td><td style = \"text-align: right;\">29930.0</td></tr><tr><td class = \"rowNumber\" style = \"font-weight: bold; text-align: right;\">7</td><td style = \"text-align: right;\">35212.5</td></tr><tr><td class = \"rowNumber\" style = \"font-weight: bold; text-align: right;\">8</td><td style = \"text-align: right;\">9501.0</td></tr><tr><td class = \"rowNumber\" style = \"font-weight: bold; text-align: right;\">9</td><td style = \"text-align: right;\">46036.0</td></tr><tr><td class = \"rowNumber\" style = \"font-weight: bold; text-align: right;\">10</td><td style = \"text-align: right;\">9569.0</td></tr><tr><td class = \"rowNumber\" style = \"font-weight: bold; text-align: right;\">11</td><td style = \"text-align: right;\">26000.0</td></tr><tr><td class = \"rowNumber\" style = \"font-weight: bold; text-align: right;\">12</td><td style = \"text-align: right;\">32882.5</td></tr><tr><td class = \"rowNumber\" style = \"font-weight: bold; text-align: right;\">13</td><td style = \"text-align: right;\">6312.0</td></tr><tr><td style = \"text-align: right;\">&vellip;</td><td style = \"text-align: right;\">&vellip;</td></tr><tr><td class = \"rowNumber\" style = \"font-weight: bold; text-align: right;\">48831</td><td style = \"text-align: right;\">38628.0</td></tr><tr><td class = \"rowNumber\" style = \"font-weight: bold; text-align: right;\">48832</td><td style = \"text-align: right;\">500.0</td></tr><tr><td class = \"rowNumber\" style = \"font-weight: bold; text-align: right;\">48833</td><td style = \"text-align: right;\">1587.5</td></tr><tr><td class = \"rowNumber\" style = \"font-weight: bold; text-align: right;\">48834</td><td style = \"text-align: right;\">6603.5</td></tr><tr><td class = \"rowNumber\" style = \"font-weight: bold; text-align: right;\">48835</td><td style = \"text-align: right;\">11866.0</td></tr><tr><td class = \"rowNumber\" style = \"font-weight: bold; text-align: right;\">48836</td><td style = \"text-align: right;\">43610.0</td></tr><tr><td class = \"rowNumber\" style = \"font-weight: bold; text-align: right;\">48837</td><td style = \"text-align: right;\">42879.0</td></tr><tr><td class = \"rowNumber\" style = \"font-weight: bold; text-align: right;\">48838</td><td style = \"text-align: right;\">38791.0</td></tr><tr><td class = \"rowNumber\" style = \"font-weight: bold; text-align: right;\">48839</td><td style = \"text-align: right;\">18853.0</td></tr><tr><td class = \"rowNumber\" style = \"font-weight: bold; text-align: right;\">48840</td><td style = \"text-align: right;\">18364.5</td></tr><tr><td class = \"rowNumber\" style = \"font-weight: bold; text-align: right;\">48841</td><td style = \"text-align: right;\">30640.0</td></tr><tr><td class = \"rowNumber\" style = \"font-weight: bold; text-align: right;\">48842</td><td style = \"text-align: right;\">41399.0</td></tr></tbody></table></div>"
      ],
      "text/latex": [
       "\\begin{tabular}{r|c}\n",
       "\t& fnlwgt\\_tiedrank\\\\\n",
       "\t\\hline\n",
       "\t& Float64\\\\\n",
       "\t\\hline\n",
       "\t1 & 35166.0 \\\\\n",
       "\t2 & 7149.0 \\\\\n",
       "\t3 & 44432.5 \\\\\n",
       "\t4 & 20001.5 \\\\\n",
       "\t5 & 9240.0 \\\\\n",
       "\t6 & 29930.0 \\\\\n",
       "\t7 & 35212.5 \\\\\n",
       "\t8 & 9501.0 \\\\\n",
       "\t9 & 46036.0 \\\\\n",
       "\t10 & 9569.0 \\\\\n",
       "\t11 & 26000.0 \\\\\n",
       "\t12 & 32882.5 \\\\\n",
       "\t13 & 6312.0 \\\\\n",
       "\t14 & 42203.0 \\\\\n",
       "\t15 & 40747.5 \\\\\n",
       "\t16 & 45001.0 \\\\\n",
       "\t17 & 47811.5 \\\\\n",
       "\t18 & 14298.0 \\\\\n",
       "\t19 & 4489.0 \\\\\n",
       "\t20 & 6637.5 \\\\\n",
       "\t21 & 10149.0 \\\\\n",
       "\t22 & 36759.0 \\\\\n",
       "\t23 & 14848.0 \\\\\n",
       "\t24 & 34315.5 \\\\\n",
       "\t25 & 31644.0 \\\\\n",
       "\t26 & 47649.0 \\\\\n",
       "\t27 & 36469.5 \\\\\n",
       "\t28 & 15261.0 \\\\\n",
       "\t29 & 8488.5 \\\\\n",
       "\t30 & 10440.0 \\\\\n",
       "\t$\\dots$ & $\\dots$ \\\\\n",
       "\\end{tabular}\n"
      ],
      "text/plain": [
       "\u001b[1m48842×1 DataFrame\u001b[0m\n",
       "\u001b[1m   Row \u001b[0m│\u001b[1m fnlwgt_tiedrank \u001b[0m\n",
       "       │\u001b[90m Float64         \u001b[0m\n",
       "───────┼─────────────────\n",
       "     1 │         35166.0\n",
       "     2 │          7149.0\n",
       "     3 │         44432.5\n",
       "     4 │         20001.5\n",
       "     5 │          9240.0\n",
       "     6 │         29930.0\n",
       "     7 │         35212.5\n",
       "     8 │          9501.0\n",
       "     9 │         46036.0\n",
       "    10 │          9569.0\n",
       "    11 │         26000.0\n",
       "   ⋮   │        ⋮\n",
       " 48833 │          1587.5\n",
       " 48834 │          6603.5\n",
       " 48835 │         11866.0\n",
       " 48836 │         43610.0\n",
       " 48837 │         42879.0\n",
       " 48838 │         38791.0\n",
       " 48839 │         18853.0\n",
       " 48840 │         18364.5\n",
       " 48841 │         30640.0\n",
       " 48842 │         41399.0\n",
       "\u001b[36m       48821 rows omitted\u001b[0m"
      ]
     },
     "execution_count": 100,
     "metadata": {},
     "output_type": "execute_result"
    }
   ],
   "source": [
    "select(df, :fnlwgt => tiedrank)"
   ]
  },
  {
   "cell_type": "code",
   "execution_count": 105,
   "id": "35445002-d360-41f7-961c-4873076eaa01",
   "metadata": {},
   "outputs": [
    {
     "ename": "LoadError",
     "evalue": "UndefVarError: `lag` not defined",
     "output_type": "error",
     "traceback": [
      "UndefVarError: `lag` not defined",
      "",
      "Stacktrace:",
      " [1] top-level scope",
      "   @ In[105]:1"
     ]
    }
   ],
   "source": [
    "select(df, :fnlwgt => lag)"
   ]
  },
  {
   "cell_type": "code",
   "execution_count": 108,
   "id": "9c8069e2-a94d-43e2-9ee9-f5acd0c2456a",
   "metadata": {},
   "outputs": [
    {
     "data": {
      "text/html": [
       "<div><div style = \"float: left;\"><span>15×2 DataFrame</span></div><div style = \"clear: both;\"></div></div><div class = \"data-frame\" style = \"overflow-x: scroll;\"><table class = \"data-frame\" style = \"margin-bottom: 6px;\"><thead><tr class = \"header\"><th class = \"rowNumber\" style = \"font-weight: bold; text-align: right;\">Row</th><th style = \"text-align: left;\">occupation</th><th style = \"text-align: left;\">age_mean</th></tr><tr class = \"subheader headerLastRow\"><th class = \"rowNumber\" style = \"font-weight: bold; text-align: right;\"></th><th title = \"String31\" style = \"text-align: left;\">String31</th><th title = \"Float64\" style = \"text-align: left;\">Float64</th></tr></thead><tbody><tr><td class = \"rowNumber\" style = \"font-weight: bold; text-align: right;\">1</td><td style = \"text-align: left;\">Machine-op-inspct</td><td style = \"text-align: right;\">37.4378</td></tr><tr><td class = \"rowNumber\" style = \"font-weight: bold; text-align: right;\">2</td><td style = \"text-align: left;\">Farming-fishing</td><td style = \"text-align: right;\">41.3964</td></tr><tr><td class = \"rowNumber\" style = \"font-weight: bold; text-align: right;\">3</td><td style = \"text-align: left;\">Protective-serv</td><td style = \"text-align: right;\">39.3995</td></tr><tr><td class = \"rowNumber\" style = \"font-weight: bold; text-align: right;\">4</td><td style = \"text-align: left;\">?</td><td style = \"text-align: right;\">43.3646</td></tr><tr><td class = \"rowNumber\" style = \"font-weight: bold; text-align: right;\">5</td><td style = \"text-align: left;\">Other-service</td><td style = \"text-align: right;\">34.444</td></tr><tr><td class = \"rowNumber\" style = \"font-weight: bold; text-align: right;\">6</td><td style = \"text-align: left;\">Prof-specialty</td><td style = \"text-align: right;\">41.6285</td></tr><tr><td class = \"rowNumber\" style = \"font-weight: bold; text-align: right;\">7</td><td style = \"text-align: left;\">Craft-repair</td><td style = \"text-align: right;\">38.9639</td></tr><tr><td class = \"rowNumber\" style = \"font-weight: bold; text-align: right;\">8</td><td style = \"text-align: left;\">Adm-clerical</td><td style = \"text-align: right;\">37.6069</td></tr><tr><td class = \"rowNumber\" style = \"font-weight: bold; text-align: right;\">9</td><td style = \"text-align: left;\">Exec-managerial</td><td style = \"text-align: right;\">43.2312</td></tr><tr><td class = \"rowNumber\" style = \"font-weight: bold; text-align: right;\">10</td><td style = \"text-align: left;\">Tech-support</td><td style = \"text-align: right;\">38.06</td></tr><tr><td class = \"rowNumber\" style = \"font-weight: bold; text-align: right;\">11</td><td style = \"text-align: left;\">Sales</td><td style = \"text-align: right;\">39.7807</td></tr><tr><td class = \"rowNumber\" style = \"font-weight: bold; text-align: right;\">12</td><td style = \"text-align: left;\">Priv-house-serv</td><td style = \"text-align: right;\">33.9286</td></tr><tr><td class = \"rowNumber\" style = \"font-weight: bold; text-align: right;\">13</td><td style = \"text-align: left;\">Transport-moving</td><td style = \"text-align: right;\">40.7163</td></tr><tr><td class = \"rowNumber\" style = \"font-weight: bold; text-align: right;\">14</td><td style = \"text-align: left;\">Handlers-cleaners</td><td style = \"text-align: right;\">32.3207</td></tr><tr><td class = \"rowNumber\" style = \"font-weight: bold; text-align: right;\">15</td><td style = \"text-align: left;\">Armed-Forces</td><td style = \"text-align: right;\">31.4667</td></tr></tbody></table></div>"
      ],
      "text/latex": [
       "\\begin{tabular}{r|cc}\n",
       "\t& occupation & age\\_mean\\\\\n",
       "\t\\hline\n",
       "\t& String31 & Float64\\\\\n",
       "\t\\hline\n",
       "\t1 & Machine-op-inspct & 37.4378 \\\\\n",
       "\t2 & Farming-fishing & 41.3964 \\\\\n",
       "\t3 & Protective-serv & 39.3995 \\\\\n",
       "\t4 & ? & 43.3646 \\\\\n",
       "\t5 & Other-service & 34.444 \\\\\n",
       "\t6 & Prof-specialty & 41.6285 \\\\\n",
       "\t7 & Craft-repair & 38.9639 \\\\\n",
       "\t8 & Adm-clerical & 37.6069 \\\\\n",
       "\t9 & Exec-managerial & 43.2312 \\\\\n",
       "\t10 & Tech-support & 38.06 \\\\\n",
       "\t11 & Sales & 39.7807 \\\\\n",
       "\t12 & Priv-house-serv & 33.9286 \\\\\n",
       "\t13 & Transport-moving & 40.7163 \\\\\n",
       "\t14 & Handlers-cleaners & 32.3207 \\\\\n",
       "\t15 & Armed-Forces & 31.4667 \\\\\n",
       "\\end{tabular}\n"
      ],
      "text/plain": [
       "\u001b[1m15×2 DataFrame\u001b[0m\n",
       "\u001b[1m Row \u001b[0m│\u001b[1m occupation        \u001b[0m\u001b[1m age_mean \u001b[0m\n",
       "     │\u001b[90m String31          \u001b[0m\u001b[90m Float64  \u001b[0m\n",
       "─────┼─────────────────────────────\n",
       "   1 │ Machine-op-inspct   37.4378\n",
       "   2 │ Farming-fishing     41.3964\n",
       "   3 │ Protective-serv     39.3995\n",
       "   4 │ ?                   43.3646\n",
       "   5 │ Other-service       34.444\n",
       "   6 │ Prof-specialty      41.6285\n",
       "   7 │ Craft-repair        38.9639\n",
       "   8 │ Adm-clerical        37.6069\n",
       "   9 │ Exec-managerial     43.2312\n",
       "  10 │ Tech-support        38.06\n",
       "  11 │ Sales               39.7807\n",
       "  12 │ Priv-house-serv     33.9286\n",
       "  13 │ Transport-moving    40.7163\n",
       "  14 │ Handlers-cleaners   32.3207\n",
       "  15 │ Armed-Forces        31.4667"
      ]
     },
     "execution_count": 108,
     "metadata": {},
     "output_type": "execute_result"
    }
   ],
   "source": [
    "@pipe df |>\n",
    "    filter(:sex => ==(\"Male\"),_) |>\n",
    "    groupby(_,:occupation) |>\n",
    "    combine(_,:age => mean)"
   ]
  },
  {
   "cell_type": "code",
   "execution_count": 111,
   "id": "4872e45a-b997-4c97-9235-7e5a59f80cf5",
   "metadata": {},
   "outputs": [
    {
     "data": {
      "text/html": [
       "<div><div style = \"float: left;\"><span>1×1 DataFrame</span></div><div style = \"clear: both;\"></div></div><div class = \"data-frame\" style = \"overflow-x: scroll;\"><table class = \"data-frame\" style = \"margin-bottom: 6px;\"><thead><tr class = \"header\"><th class = \"rowNumber\" style = \"font-weight: bold; text-align: right;\">Row</th><th style = \"text-align: left;\">fnlwgt_sum</th></tr><tr class = \"subheader headerLastRow\"><th class = \"rowNumber\" style = \"font-weight: bold; text-align: right;\"></th><th title = \"Int64\" style = \"text-align: left;\">Int64</th></tr></thead><tbody><tr><td class = \"rowNumber\" style = \"font-weight: bold; text-align: right;\">1</td><td style = \"text-align: right;\">9263575662</td></tr></tbody></table></div>"
      ],
      "text/latex": [
       "\\begin{tabular}{r|c}\n",
       "\t& fnlwgt\\_sum\\\\\n",
       "\t\\hline\n",
       "\t& Int64\\\\\n",
       "\t\\hline\n",
       "\t1 & 9263575662 \\\\\n",
       "\\end{tabular}\n"
      ],
      "text/plain": [
       "\u001b[1m1×1 DataFrame\u001b[0m\n",
       "\u001b[1m Row \u001b[0m│\u001b[1m fnlwgt_sum \u001b[0m\n",
       "     │\u001b[90m Int64      \u001b[0m\n",
       "─────┼────────────\n",
       "   1 │ 9263575662"
      ]
     },
     "execution_count": 111,
     "metadata": {},
     "output_type": "execute_result"
    }
   ],
   "source": [
    "combine(df, :fnlwgt => sum)"
   ]
  },
  {
   "cell_type": "code",
   "execution_count": 112,
   "id": "3170038b-51dd-4c26-9350-f8ea68d0fe3d",
   "metadata": {},
   "outputs": [
    {
     "data": {
      "text/plain": [
       "9263575662"
      ]
     },
     "execution_count": 112,
     "metadata": {},
     "output_type": "execute_result"
    }
   ],
   "source": [
    "combine(df, :fnlwgt => sum)[1,1]"
   ]
  },
  {
   "cell_type": "code",
   "execution_count": 113,
   "id": "211972b7-7e9c-4f19-b864-f028aa9a0089",
   "metadata": {},
   "outputs": [
    {
     "data": {
      "text/html": [
       "<div><div style = \"float: left;\"><span>1×1 DataFrame</span></div><div style = \"clear: both;\"></div></div><div class = \"data-frame\" style = \"overflow-x: scroll;\"><table class = \"data-frame\" style = \"margin-bottom: 6px;\"><thead><tr class = \"header\"><th class = \"rowNumber\" style = \"font-weight: bold; text-align: right;\">Row</th><th style = \"text-align: left;\">fnlwgt_total</th></tr><tr class = \"subheader headerLastRow\"><th class = \"rowNumber\" style = \"font-weight: bold; text-align: right;\"></th><th title = \"Int64\" style = \"text-align: left;\">Int64</th></tr></thead><tbody><tr><td class = \"rowNumber\" style = \"font-weight: bold; text-align: right;\">1</td><td style = \"text-align: right;\">9263575662</td></tr></tbody></table></div>"
      ],
      "text/latex": [
       "\\begin{tabular}{r|c}\n",
       "\t& fnlwgt\\_total\\\\\n",
       "\t\\hline\n",
       "\t& Int64\\\\\n",
       "\t\\hline\n",
       "\t1 & 9263575662 \\\\\n",
       "\\end{tabular}\n"
      ],
      "text/plain": [
       "\u001b[1m1×1 DataFrame\u001b[0m\n",
       "\u001b[1m Row \u001b[0m│\u001b[1m fnlwgt_total \u001b[0m\n",
       "     │\u001b[90m Int64        \u001b[0m\n",
       "─────┼──────────────\n",
       "   1 │   9263575662"
      ]
     },
     "execution_count": 113,
     "metadata": {},
     "output_type": "execute_result"
    }
   ],
   "source": [
    "combine(df, :fnlwgt => sum => :fnlwgt_total)"
   ]
  },
  {
   "cell_type": "code",
   "execution_count": 117,
   "id": "6c274aff-1de6-4ae1-9196-dd09818a911f",
   "metadata": {},
   "outputs": [
    {
     "data": {
      "text/html": [
       "<div><div style = \"float: left;\"><span>1×1 DataFrame</span></div><div style = \"clear: both;\"></div></div><div class = \"data-frame\" style = \"overflow-x: scroll;\"><table class = \"data-frame\" style = \"margin-bottom: 6px;\"><thead><tr class = \"header\"><th class = \"rowNumber\" style = \"font-weight: bold; text-align: right;\">Row</th><th style = \"text-align: left;\">age_function</th></tr><tr class = \"subheader headerLastRow\"><th class = \"rowNumber\" style = \"font-weight: bold; text-align: right;\"></th><th title = \"Float64\" style = \"text-align: left;\">Float64</th></tr></thead><tbody><tr><td class = \"rowNumber\" style = \"font-weight: bold; text-align: right;\">1</td><td style = \"text-align: right;\">38.6436</td></tr></tbody></table></div>"
      ],
      "text/latex": [
       "\\begin{tabular}{r|c}\n",
       "\t& age\\_function\\\\\n",
       "\t\\hline\n",
       "\t& Float64\\\\\n",
       "\t\\hline\n",
       "\t1 & 38.6436 \\\\\n",
       "\\end{tabular}\n"
      ],
      "text/plain": [
       "\u001b[1m1×1 DataFrame\u001b[0m\n",
       "\u001b[1m Row \u001b[0m│\u001b[1m age_function \u001b[0m\n",
       "     │\u001b[90m Float64      \u001b[0m\n",
       "─────┼──────────────\n",
       "   1 │      38.6436"
      ]
     },
     "execution_count": 117,
     "metadata": {},
     "output_type": "execute_result"
    }
   ],
   "source": [
    "combine(df, :age => (x -> mean(skipmissing(x))))"
   ]
  },
  {
   "cell_type": "code",
   "execution_count": 119,
   "id": "68e968c3-31cc-426d-a712-752f78e557ac",
   "metadata": {},
   "outputs": [
    {
     "data": {
      "text/html": [
       "<div><div style = \"float: left;\"><span>1×2 DataFrame</span></div><div style = \"clear: both;\"></div></div><div class = \"data-frame\" style = \"overflow-x: scroll;\"><table class = \"data-frame\" style = \"margin-bottom: 6px;\"><thead><tr class = \"header\"><th class = \"rowNumber\" style = \"font-weight: bold; text-align: right;\">Row</th><th style = \"text-align: left;\">capital_gain_maximum</th><th style = \"text-align: left;\">capital_loss_maximum</th></tr><tr class = \"subheader headerLastRow\"><th class = \"rowNumber\" style = \"font-weight: bold; text-align: right;\"></th><th title = \"Int64\" style = \"text-align: left;\">Int64</th><th title = \"Int64\" style = \"text-align: left;\">Int64</th></tr></thead><tbody><tr><td class = \"rowNumber\" style = \"font-weight: bold; text-align: right;\">1</td><td style = \"text-align: right;\">99999</td><td style = \"text-align: right;\">4356</td></tr></tbody></table></div>"
      ],
      "text/latex": [
       "\\begin{tabular}{r|cc}\n",
       "\t& capital\\_gain\\_maximum & capital\\_loss\\_maximum\\\\\n",
       "\t\\hline\n",
       "\t& Int64 & Int64\\\\\n",
       "\t\\hline\n",
       "\t1 & 99999 & 4356 \\\\\n",
       "\\end{tabular}\n"
      ],
      "text/plain": [
       "\u001b[1m1×2 DataFrame\u001b[0m\n",
       "\u001b[1m Row \u001b[0m│\u001b[1m capital_gain_maximum \u001b[0m\u001b[1m capital_loss_maximum \u001b[0m\n",
       "     │\u001b[90m Int64                \u001b[0m\u001b[90m Int64                \u001b[0m\n",
       "─────┼────────────────────────────────────────────\n",
       "   1 │                99999                  4356"
      ]
     },
     "execution_count": 119,
     "metadata": {},
     "output_type": "execute_result"
    }
   ],
   "source": [
    "combine(df, [:capital_gain, :capital_loss] .=> maximum)"
   ]
  },
  {
   "cell_type": "code",
   "execution_count": 125,
   "id": "75f02006-35fb-46b2-b7e9-b4a6c5cb2968",
   "metadata": {},
   "outputs": [
    {
     "data": {
      "text/html": [
       "<div><div style = \"float: left;\"><span>48842×16 DataFrame</span></div><div style = \"float: right;\"><span style = \"font-style: italic;\">48817 rows omitted</span></div><div style = \"clear: both;\"></div></div><div class = \"data-frame\" style = \"overflow-x: scroll;\"><table class = \"data-frame\" style = \"margin-bottom: 6px;\"><thead><tr class = \"header\"><th class = \"rowNumber\" style = \"font-weight: bold; text-align: right;\">Row</th><th style = \"text-align: left;\">age</th><th style = \"text-align: left;\">workclass</th><th style = \"text-align: left;\">fnlwgt</th><th style = \"text-align: left;\">education</th><th style = \"text-align: left;\">education_num</th><th style = \"text-align: left;\">marital_status</th><th style = \"text-align: left;\">occupation</th><th style = \"text-align: left;\">relationship</th><th style = \"text-align: left;\">race</th><th style = \"text-align: left;\">sex</th><th style = \"text-align: left;\">capital_gain</th><th style = \"text-align: left;\">capital_loss</th><th style = \"text-align: left;\">hours_per_week</th><th style = \"text-align: left;\">native_country</th><th style = \"text-align: left;\">class</th><th style = \"text-align: left;\">total_fnlwgt</th></tr><tr class = \"subheader headerLastRow\"><th class = \"rowNumber\" style = \"font-weight: bold; text-align: right;\"></th><th title = \"Int64\" style = \"text-align: left;\">Int64</th><th title = \"Union{Missing, String31}\" style = \"text-align: left;\">String31?</th><th title = \"Int64\" style = \"text-align: left;\">Int64</th><th title = \"String15\" style = \"text-align: left;\">String15</th><th title = \"Int64\" style = \"text-align: left;\">Int64</th><th title = \"String31\" style = \"text-align: left;\">String31</th><th title = \"Union{Missing, String31}\" style = \"text-align: left;\">String31?</th><th title = \"String15\" style = \"text-align: left;\">String15</th><th title = \"String31\" style = \"text-align: left;\">String31</th><th title = \"String7\" style = \"text-align: left;\">String7</th><th title = \"Int64\" style = \"text-align: left;\">Int64</th><th title = \"Int64\" style = \"text-align: left;\">Int64</th><th title = \"Int64\" style = \"text-align: left;\">Int64</th><th title = \"Union{Missing, String31}\" style = \"text-align: left;\">String31?</th><th title = \"String7\" style = \"text-align: left;\">String7</th><th title = \"Int64\" style = \"text-align: left;\">Int64</th></tr></thead><tbody><tr><td class = \"rowNumber\" style = \"font-weight: bold; text-align: right;\">1</td><td style = \"text-align: right;\">25</td><td style = \"text-align: left;\">Private</td><td style = \"text-align: right;\">226802</td><td style = \"text-align: left;\">11th</td><td style = \"text-align: right;\">7</td><td style = \"text-align: left;\">Never-married</td><td style = \"text-align: left;\">Machine-op-inspct</td><td style = \"text-align: left;\">Own-child</td><td style = \"text-align: left;\">Black</td><td style = \"text-align: left;\">Male</td><td style = \"text-align: right;\">0</td><td style = \"text-align: right;\">0</td><td style = \"text-align: right;\">40</td><td style = \"text-align: left;\">United-States</td><td style = \"text-align: left;\">&lt;=50K</td><td style = \"text-align: right;\">9263575662</td></tr><tr><td class = \"rowNumber\" style = \"font-weight: bold; text-align: right;\">2</td><td style = \"text-align: right;\">38</td><td style = \"text-align: left;\">Private</td><td style = \"text-align: right;\">89814</td><td style = \"text-align: left;\">HS-grad</td><td style = \"text-align: right;\">9</td><td style = \"text-align: left;\">Married-civ-spouse</td><td style = \"text-align: left;\">Farming-fishing</td><td style = \"text-align: left;\">Husband</td><td style = \"text-align: left;\">White</td><td style = \"text-align: left;\">Male</td><td style = \"text-align: right;\">0</td><td style = \"text-align: right;\">0</td><td style = \"text-align: right;\">50</td><td style = \"text-align: left;\">United-States</td><td style = \"text-align: left;\">&lt;=50K</td><td style = \"text-align: right;\">9263575662</td></tr><tr><td class = \"rowNumber\" style = \"font-weight: bold; text-align: right;\">3</td><td style = \"text-align: right;\">28</td><td style = \"text-align: left;\">Local-gov</td><td style = \"text-align: right;\">336951</td><td style = \"text-align: left;\">Assoc-acdm</td><td style = \"text-align: right;\">12</td><td style = \"text-align: left;\">Married-civ-spouse</td><td style = \"text-align: left;\">Protective-serv</td><td style = \"text-align: left;\">Husband</td><td style = \"text-align: left;\">White</td><td style = \"text-align: left;\">Male</td><td style = \"text-align: right;\">0</td><td style = \"text-align: right;\">0</td><td style = \"text-align: right;\">40</td><td style = \"text-align: left;\">United-States</td><td style = \"text-align: left;\">&gt;50K</td><td style = \"text-align: right;\">9263575662</td></tr><tr><td class = \"rowNumber\" style = \"font-weight: bold; text-align: right;\">4</td><td style = \"text-align: right;\">44</td><td style = \"text-align: left;\">Private</td><td style = \"text-align: right;\">160323</td><td style = \"text-align: left;\">Some-college</td><td style = \"text-align: right;\">10</td><td style = \"text-align: left;\">Married-civ-spouse</td><td style = \"text-align: left;\">Machine-op-inspct</td><td style = \"text-align: left;\">Husband</td><td style = \"text-align: left;\">Black</td><td style = \"text-align: left;\">Male</td><td style = \"text-align: right;\">7688</td><td style = \"text-align: right;\">0</td><td style = \"text-align: right;\">40</td><td style = \"text-align: left;\">United-States</td><td style = \"text-align: left;\">&gt;50K</td><td style = \"text-align: right;\">9263575662</td></tr><tr><td class = \"rowNumber\" style = \"font-weight: bold; text-align: right;\">5</td><td style = \"text-align: right;\">18</td><td style = \"font-style: italic; text-align: left;\">missing</td><td style = \"text-align: right;\">103497</td><td style = \"text-align: left;\">Some-college</td><td style = \"text-align: right;\">10</td><td style = \"text-align: left;\">Never-married</td><td style = \"font-style: italic; text-align: left;\">missing</td><td style = \"text-align: left;\">Own-child</td><td style = \"text-align: left;\">White</td><td style = \"text-align: left;\">Female</td><td style = \"text-align: right;\">0</td><td style = \"text-align: right;\">0</td><td style = \"text-align: right;\">30</td><td style = \"text-align: left;\">United-States</td><td style = \"text-align: left;\">&lt;=50K</td><td style = \"text-align: right;\">9263575662</td></tr><tr><td class = \"rowNumber\" style = \"font-weight: bold; text-align: right;\">6</td><td style = \"text-align: right;\">34</td><td style = \"text-align: left;\">Private</td><td style = \"text-align: right;\">198693</td><td style = \"text-align: left;\">10th</td><td style = \"text-align: right;\">6</td><td style = \"text-align: left;\">Never-married</td><td style = \"text-align: left;\">Other-service</td><td style = \"text-align: left;\">Not-in-family</td><td style = \"text-align: left;\">White</td><td style = \"text-align: left;\">Male</td><td style = \"text-align: right;\">0</td><td style = \"text-align: right;\">0</td><td style = \"text-align: right;\">30</td><td style = \"text-align: left;\">United-States</td><td style = \"text-align: left;\">&lt;=50K</td><td style = \"text-align: right;\">9263575662</td></tr><tr><td class = \"rowNumber\" style = \"font-weight: bold; text-align: right;\">7</td><td style = \"text-align: right;\">29</td><td style = \"font-style: italic; text-align: left;\">missing</td><td style = \"text-align: right;\">227026</td><td style = \"text-align: left;\">HS-grad</td><td style = \"text-align: right;\">9</td><td style = \"text-align: left;\">Never-married</td><td style = \"font-style: italic; text-align: left;\">missing</td><td style = \"text-align: left;\">Unmarried</td><td style = \"text-align: left;\">Black</td><td style = \"text-align: left;\">Male</td><td style = \"text-align: right;\">0</td><td style = \"text-align: right;\">0</td><td style = \"text-align: right;\">40</td><td style = \"text-align: left;\">United-States</td><td style = \"text-align: left;\">&lt;=50K</td><td style = \"text-align: right;\">9263575662</td></tr><tr><td class = \"rowNumber\" style = \"font-weight: bold; text-align: right;\">8</td><td style = \"text-align: right;\">63</td><td style = \"text-align: left;\">Self-emp-not-inc</td><td style = \"text-align: right;\">104626</td><td style = \"text-align: left;\">Prof-school</td><td style = \"text-align: right;\">15</td><td style = \"text-align: left;\">Married-civ-spouse</td><td style = \"text-align: left;\">Prof-specialty</td><td style = \"text-align: left;\">Husband</td><td style = \"text-align: left;\">White</td><td style = \"text-align: left;\">Male</td><td style = \"text-align: right;\">3103</td><td style = \"text-align: right;\">0</td><td style = \"text-align: right;\">32</td><td style = \"text-align: left;\">United-States</td><td style = \"text-align: left;\">&gt;50K</td><td style = \"text-align: right;\">9263575662</td></tr><tr><td class = \"rowNumber\" style = \"font-weight: bold; text-align: right;\">9</td><td style = \"text-align: right;\">24</td><td style = \"text-align: left;\">Private</td><td style = \"text-align: right;\">369667</td><td style = \"text-align: left;\">Some-college</td><td style = \"text-align: right;\">10</td><td style = \"text-align: left;\">Never-married</td><td style = \"text-align: left;\">Other-service</td><td style = \"text-align: left;\">Unmarried</td><td style = \"text-align: left;\">White</td><td style = \"text-align: left;\">Female</td><td style = \"text-align: right;\">0</td><td style = \"text-align: right;\">0</td><td style = \"text-align: right;\">40</td><td style = \"text-align: left;\">United-States</td><td style = \"text-align: left;\">&lt;=50K</td><td style = \"text-align: right;\">9263575662</td></tr><tr><td class = \"rowNumber\" style = \"font-weight: bold; text-align: right;\">10</td><td style = \"text-align: right;\">55</td><td style = \"text-align: left;\">Private</td><td style = \"text-align: right;\">104996</td><td style = \"text-align: left;\">7th-8th</td><td style = \"text-align: right;\">4</td><td style = \"text-align: left;\">Married-civ-spouse</td><td style = \"text-align: left;\">Craft-repair</td><td style = \"text-align: left;\">Husband</td><td style = \"text-align: left;\">White</td><td style = \"text-align: left;\">Male</td><td style = \"text-align: right;\">0</td><td style = \"text-align: right;\">0</td><td style = \"text-align: right;\">10</td><td style = \"text-align: left;\">United-States</td><td style = \"text-align: left;\">&lt;=50K</td><td style = \"text-align: right;\">9263575662</td></tr><tr><td class = \"rowNumber\" style = \"font-weight: bold; text-align: right;\">11</td><td style = \"text-align: right;\">65</td><td style = \"text-align: left;\">Private</td><td style = \"text-align: right;\">184454</td><td style = \"text-align: left;\">HS-grad</td><td style = \"text-align: right;\">9</td><td style = \"text-align: left;\">Married-civ-spouse</td><td style = \"text-align: left;\">Machine-op-inspct</td><td style = \"text-align: left;\">Husband</td><td style = \"text-align: left;\">White</td><td style = \"text-align: left;\">Male</td><td style = \"text-align: right;\">6418</td><td style = \"text-align: right;\">0</td><td style = \"text-align: right;\">40</td><td style = \"text-align: left;\">United-States</td><td style = \"text-align: left;\">&gt;50K</td><td style = \"text-align: right;\">9263575662</td></tr><tr><td class = \"rowNumber\" style = \"font-weight: bold; text-align: right;\">12</td><td style = \"text-align: right;\">36</td><td style = \"text-align: left;\">Federal-gov</td><td style = \"text-align: right;\">212465</td><td style = \"text-align: left;\">Bachelors</td><td style = \"text-align: right;\">13</td><td style = \"text-align: left;\">Married-civ-spouse</td><td style = \"text-align: left;\">Adm-clerical</td><td style = \"text-align: left;\">Husband</td><td style = \"text-align: left;\">White</td><td style = \"text-align: left;\">Male</td><td style = \"text-align: right;\">0</td><td style = \"text-align: right;\">0</td><td style = \"text-align: right;\">40</td><td style = \"text-align: left;\">United-States</td><td style = \"text-align: left;\">&lt;=50K</td><td style = \"text-align: right;\">9263575662</td></tr><tr><td class = \"rowNumber\" style = \"font-weight: bold; text-align: right;\">13</td><td style = \"text-align: right;\">26</td><td style = \"text-align: left;\">Private</td><td style = \"text-align: right;\">82091</td><td style = \"text-align: left;\">HS-grad</td><td style = \"text-align: right;\">9</td><td style = \"text-align: left;\">Never-married</td><td style = \"text-align: left;\">Adm-clerical</td><td style = \"text-align: left;\">Not-in-family</td><td style = \"text-align: left;\">White</td><td style = \"text-align: left;\">Female</td><td style = \"text-align: right;\">0</td><td style = \"text-align: right;\">0</td><td style = \"text-align: right;\">39</td><td style = \"text-align: left;\">United-States</td><td style = \"text-align: left;\">&lt;=50K</td><td style = \"text-align: right;\">9263575662</td></tr><tr><td style = \"text-align: right;\">&vellip;</td><td style = \"text-align: right;\">&vellip;</td><td style = \"text-align: right;\">&vellip;</td><td style = \"text-align: right;\">&vellip;</td><td style = \"text-align: right;\">&vellip;</td><td style = \"text-align: right;\">&vellip;</td><td style = \"text-align: right;\">&vellip;</td><td style = \"text-align: right;\">&vellip;</td><td style = \"text-align: right;\">&vellip;</td><td style = \"text-align: right;\">&vellip;</td><td style = \"text-align: right;\">&vellip;</td><td style = \"text-align: right;\">&vellip;</td><td style = \"text-align: right;\">&vellip;</td><td style = \"text-align: right;\">&vellip;</td><td style = \"text-align: right;\">&vellip;</td><td style = \"text-align: right;\">&vellip;</td><td style = \"text-align: right;\">&vellip;</td></tr><tr><td class = \"rowNumber\" style = \"font-weight: bold; text-align: right;\">48831</td><td style = \"text-align: right;\">43</td><td style = \"text-align: left;\">State-gov</td><td style = \"text-align: right;\">255835</td><td style = \"text-align: left;\">Some-college</td><td style = \"text-align: right;\">10</td><td style = \"text-align: left;\">Divorced</td><td style = \"text-align: left;\">Adm-clerical</td><td style = \"text-align: left;\">Other-relative</td><td style = \"text-align: left;\">White</td><td style = \"text-align: left;\">Female</td><td style = \"text-align: right;\">0</td><td style = \"text-align: right;\">0</td><td style = \"text-align: right;\">40</td><td style = \"text-align: left;\">United-States</td><td style = \"text-align: left;\">&lt;=50K</td><td style = \"text-align: right;\">9263575662</td></tr><tr><td class = \"rowNumber\" style = \"font-weight: bold; text-align: right;\">48832</td><td style = \"text-align: right;\">43</td><td style = \"text-align: left;\">Self-emp-not-inc</td><td style = \"text-align: right;\">27242</td><td style = \"text-align: left;\">Some-college</td><td style = \"text-align: right;\">10</td><td style = \"text-align: left;\">Married-civ-spouse</td><td style = \"text-align: left;\">Craft-repair</td><td style = \"text-align: left;\">Husband</td><td style = \"text-align: left;\">White</td><td style = \"text-align: left;\">Male</td><td style = \"text-align: right;\">0</td><td style = \"text-align: right;\">0</td><td style = \"text-align: right;\">50</td><td style = \"text-align: left;\">United-States</td><td style = \"text-align: left;\">&lt;=50K</td><td style = \"text-align: right;\">9263575662</td></tr><tr><td class = \"rowNumber\" style = \"font-weight: bold; text-align: right;\">48833</td><td style = \"text-align: right;\">32</td><td style = \"text-align: left;\">Private</td><td style = \"text-align: right;\">34066</td><td style = \"text-align: left;\">10th</td><td style = \"text-align: right;\">6</td><td style = \"text-align: left;\">Married-civ-spouse</td><td style = \"text-align: left;\">Handlers-cleaners</td><td style = \"text-align: left;\">Husband</td><td style = \"text-align: left;\">Amer-Indian-Eskimo</td><td style = \"text-align: left;\">Male</td><td style = \"text-align: right;\">0</td><td style = \"text-align: right;\">0</td><td style = \"text-align: right;\">40</td><td style = \"text-align: left;\">United-States</td><td style = \"text-align: left;\">&lt;=50K</td><td style = \"text-align: right;\">9263575662</td></tr><tr><td class = \"rowNumber\" style = \"font-weight: bold; text-align: right;\">48834</td><td style = \"text-align: right;\">43</td><td style = \"text-align: left;\">Private</td><td style = \"text-align: right;\">84661</td><td style = \"text-align: left;\">Assoc-voc</td><td style = \"text-align: right;\">11</td><td style = \"text-align: left;\">Married-civ-spouse</td><td style = \"text-align: left;\">Sales</td><td style = \"text-align: left;\">Husband</td><td style = \"text-align: left;\">White</td><td style = \"text-align: left;\">Male</td><td style = \"text-align: right;\">0</td><td style = \"text-align: right;\">0</td><td style = \"text-align: right;\">45</td><td style = \"text-align: left;\">United-States</td><td style = \"text-align: left;\">&lt;=50K</td><td style = \"text-align: right;\">9263575662</td></tr><tr><td class = \"rowNumber\" style = \"font-weight: bold; text-align: right;\">48835</td><td style = \"text-align: right;\">32</td><td style = \"text-align: left;\">Private</td><td style = \"text-align: right;\">116138</td><td style = \"text-align: left;\">Masters</td><td style = \"text-align: right;\">14</td><td style = \"text-align: left;\">Never-married</td><td style = \"text-align: left;\">Tech-support</td><td style = \"text-align: left;\">Not-in-family</td><td style = \"text-align: left;\">Asian-Pac-Islander</td><td style = \"text-align: left;\">Male</td><td style = \"text-align: right;\">0</td><td style = \"text-align: right;\">0</td><td style = \"text-align: right;\">11</td><td style = \"text-align: left;\">Taiwan</td><td style = \"text-align: left;\">&lt;=50K</td><td style = \"text-align: right;\">9263575662</td></tr><tr><td class = \"rowNumber\" style = \"font-weight: bold; text-align: right;\">48836</td><td style = \"text-align: right;\">53</td><td style = \"text-align: left;\">Private</td><td style = \"text-align: right;\">321865</td><td style = \"text-align: left;\">Masters</td><td style = \"text-align: right;\">14</td><td style = \"text-align: left;\">Married-civ-spouse</td><td style = \"text-align: left;\">Exec-managerial</td><td style = \"text-align: left;\">Husband</td><td style = \"text-align: left;\">White</td><td style = \"text-align: left;\">Male</td><td style = \"text-align: right;\">0</td><td style = \"text-align: right;\">0</td><td style = \"text-align: right;\">40</td><td style = \"text-align: left;\">United-States</td><td style = \"text-align: left;\">&gt;50K</td><td style = \"text-align: right;\">9263575662</td></tr><tr><td class = \"rowNumber\" style = \"font-weight: bold; text-align: right;\">48837</td><td style = \"text-align: right;\">22</td><td style = \"text-align: left;\">Private</td><td style = \"text-align: right;\">310152</td><td style = \"text-align: left;\">Some-college</td><td style = \"text-align: right;\">10</td><td style = \"text-align: left;\">Never-married</td><td style = \"text-align: left;\">Protective-serv</td><td style = \"text-align: left;\">Not-in-family</td><td style = \"text-align: left;\">White</td><td style = \"text-align: left;\">Male</td><td style = \"text-align: right;\">0</td><td style = \"text-align: right;\">0</td><td style = \"text-align: right;\">40</td><td style = \"text-align: left;\">United-States</td><td style = \"text-align: left;\">&lt;=50K</td><td style = \"text-align: right;\">9263575662</td></tr><tr><td class = \"rowNumber\" style = \"font-weight: bold; text-align: right;\">48838</td><td style = \"text-align: right;\">27</td><td style = \"text-align: left;\">Private</td><td style = \"text-align: right;\">257302</td><td style = \"text-align: left;\">Assoc-acdm</td><td style = \"text-align: right;\">12</td><td style = \"text-align: left;\">Married-civ-spouse</td><td style = \"text-align: left;\">Tech-support</td><td style = \"text-align: left;\">Wife</td><td style = \"text-align: left;\">White</td><td style = \"text-align: left;\">Female</td><td style = \"text-align: right;\">0</td><td style = \"text-align: right;\">0</td><td style = \"text-align: right;\">38</td><td style = \"text-align: left;\">United-States</td><td style = \"text-align: left;\">&lt;=50K</td><td style = \"text-align: right;\">9263575662</td></tr><tr><td class = \"rowNumber\" style = \"font-weight: bold; text-align: right;\">48839</td><td style = \"text-align: right;\">40</td><td style = \"text-align: left;\">Private</td><td style = \"text-align: right;\">154374</td><td style = \"text-align: left;\">HS-grad</td><td style = \"text-align: right;\">9</td><td style = \"text-align: left;\">Married-civ-spouse</td><td style = \"text-align: left;\">Machine-op-inspct</td><td style = \"text-align: left;\">Husband</td><td style = \"text-align: left;\">White</td><td style = \"text-align: left;\">Male</td><td style = \"text-align: right;\">0</td><td style = \"text-align: right;\">0</td><td style = \"text-align: right;\">40</td><td style = \"text-align: left;\">United-States</td><td style = \"text-align: left;\">&gt;50K</td><td style = \"text-align: right;\">9263575662</td></tr><tr><td class = \"rowNumber\" style = \"font-weight: bold; text-align: right;\">48840</td><td style = \"text-align: right;\">58</td><td style = \"text-align: left;\">Private</td><td style = \"text-align: right;\">151910</td><td style = \"text-align: left;\">HS-grad</td><td style = \"text-align: right;\">9</td><td style = \"text-align: left;\">Widowed</td><td style = \"text-align: left;\">Adm-clerical</td><td style = \"text-align: left;\">Unmarried</td><td style = \"text-align: left;\">White</td><td style = \"text-align: left;\">Female</td><td style = \"text-align: right;\">0</td><td style = \"text-align: right;\">0</td><td style = \"text-align: right;\">40</td><td style = \"text-align: left;\">United-States</td><td style = \"text-align: left;\">&lt;=50K</td><td style = \"text-align: right;\">9263575662</td></tr><tr><td class = \"rowNumber\" style = \"font-weight: bold; text-align: right;\">48841</td><td style = \"text-align: right;\">22</td><td style = \"text-align: left;\">Private</td><td style = \"text-align: right;\">201490</td><td style = \"text-align: left;\">HS-grad</td><td style = \"text-align: right;\">9</td><td style = \"text-align: left;\">Never-married</td><td style = \"text-align: left;\">Adm-clerical</td><td style = \"text-align: left;\">Own-child</td><td style = \"text-align: left;\">White</td><td style = \"text-align: left;\">Male</td><td style = \"text-align: right;\">0</td><td style = \"text-align: right;\">0</td><td style = \"text-align: right;\">20</td><td style = \"text-align: left;\">United-States</td><td style = \"text-align: left;\">&lt;=50K</td><td style = \"text-align: right;\">9263575662</td></tr><tr><td class = \"rowNumber\" style = \"font-weight: bold; text-align: right;\">48842</td><td style = \"text-align: right;\">52</td><td style = \"text-align: left;\">Self-emp-inc</td><td style = \"text-align: right;\">287927</td><td style = \"text-align: left;\">HS-grad</td><td style = \"text-align: right;\">9</td><td style = \"text-align: left;\">Married-civ-spouse</td><td style = \"text-align: left;\">Exec-managerial</td><td style = \"text-align: left;\">Wife</td><td style = \"text-align: left;\">White</td><td style = \"text-align: left;\">Female</td><td style = \"text-align: right;\">15024</td><td style = \"text-align: right;\">0</td><td style = \"text-align: right;\">40</td><td style = \"text-align: left;\">United-States</td><td style = \"text-align: left;\">&gt;50K</td><td style = \"text-align: right;\">9263575662</td></tr></tbody></table></div>"
      ],
      "text/latex": [
       "\\begin{tabular}{r|ccccccc}\n",
       "\t& age & workclass & fnlwgt & education & education\\_num & marital\\_status & \\\\\n",
       "\t\\hline\n",
       "\t& Int64 & String31? & Int64 & String15 & Int64 & String31 & \\\\\n",
       "\t\\hline\n",
       "\t1 & 25 & Private & 226802 & 11th & 7 & Never-married & $\\dots$ \\\\\n",
       "\t2 & 38 & Private & 89814 & HS-grad & 9 & Married-civ-spouse & $\\dots$ \\\\\n",
       "\t3 & 28 & Local-gov & 336951 & Assoc-acdm & 12 & Married-civ-spouse & $\\dots$ \\\\\n",
       "\t4 & 44 & Private & 160323 & Some-college & 10 & Married-civ-spouse & $\\dots$ \\\\\n",
       "\t5 & 18 & \\emph{missing} & 103497 & Some-college & 10 & Never-married & $\\dots$ \\\\\n",
       "\t6 & 34 & Private & 198693 & 10th & 6 & Never-married & $\\dots$ \\\\\n",
       "\t7 & 29 & \\emph{missing} & 227026 & HS-grad & 9 & Never-married & $\\dots$ \\\\\n",
       "\t8 & 63 & Self-emp-not-inc & 104626 & Prof-school & 15 & Married-civ-spouse & $\\dots$ \\\\\n",
       "\t9 & 24 & Private & 369667 & Some-college & 10 & Never-married & $\\dots$ \\\\\n",
       "\t10 & 55 & Private & 104996 & 7th-8th & 4 & Married-civ-spouse & $\\dots$ \\\\\n",
       "\t11 & 65 & Private & 184454 & HS-grad & 9 & Married-civ-spouse & $\\dots$ \\\\\n",
       "\t12 & 36 & Federal-gov & 212465 & Bachelors & 13 & Married-civ-spouse & $\\dots$ \\\\\n",
       "\t13 & 26 & Private & 82091 & HS-grad & 9 & Never-married & $\\dots$ \\\\\n",
       "\t14 & 58 & \\emph{missing} & 299831 & HS-grad & 9 & Married-civ-spouse & $\\dots$ \\\\\n",
       "\t15 & 48 & Private & 279724 & HS-grad & 9 & Married-civ-spouse & $\\dots$ \\\\\n",
       "\t16 & 43 & Private & 346189 & Masters & 14 & Married-civ-spouse & $\\dots$ \\\\\n",
       "\t17 & 20 & State-gov & 444554 & Some-college & 10 & Never-married & $\\dots$ \\\\\n",
       "\t18 & 43 & Private & 128354 & HS-grad & 9 & Married-civ-spouse & $\\dots$ \\\\\n",
       "\t19 & 37 & Private & 60548 & HS-grad & 9 & Widowed & $\\dots$ \\\\\n",
       "\t20 & 40 & Private & 85019 & Doctorate & 16 & Married-civ-spouse & $\\dots$ \\\\\n",
       "\t21 & 34 & Private & 107914 & Bachelors & 13 & Married-civ-spouse & $\\dots$ \\\\\n",
       "\t22 & 34 & Private & 238588 & Some-college & 10 & Never-married & $\\dots$ \\\\\n",
       "\t23 & 72 & \\emph{missing} & 132015 & 7th-8th & 4 & Divorced & $\\dots$ \\\\\n",
       "\t24 & 25 & Private & 220931 & Bachelors & 13 & Never-married & $\\dots$ \\\\\n",
       "\t25 & 25 & Private & 205947 & Bachelors & 13 & Married-civ-spouse & $\\dots$ \\\\\n",
       "\t26 & 45 & Self-emp-not-inc & 432824 & HS-grad & 9 & Married-civ-spouse & $\\dots$ \\\\\n",
       "\t27 & 22 & Private & 236427 & HS-grad & 9 & Never-married & $\\dots$ \\\\\n",
       "\t28 & 23 & Private & 134446 & HS-grad & 9 & Separated & $\\dots$ \\\\\n",
       "\t29 & 54 & Private & 99516 & HS-grad & 9 & Married-civ-spouse & $\\dots$ \\\\\n",
       "\t30 & 32 & Self-emp-not-inc & 109282 & Some-college & 10 & Never-married & $\\dots$ \\\\\n",
       "\t$\\dots$ & $\\dots$ & $\\dots$ & $\\dots$ & $\\dots$ & $\\dots$ & $\\dots$ &  \\\\\n",
       "\\end{tabular}\n"
      ],
      "text/plain": [
       "\u001b[1m48842×16 DataFrame\u001b[0m\n",
       "\u001b[1m   Row \u001b[0m│\u001b[1m age   \u001b[0m\u001b[1m workclass        \u001b[0m\u001b[1m fnlwgt \u001b[0m\u001b[1m education    \u001b[0m\u001b[1m education_num \u001b[0m\u001b[1m marital\u001b[0m ⋯\n",
       "       │\u001b[90m Int64 \u001b[0m\u001b[90m String31?        \u001b[0m\u001b[90m Int64  \u001b[0m\u001b[90m String15     \u001b[0m\u001b[90m Int64         \u001b[0m\u001b[90m String3\u001b[0m ⋯\n",
       "───────┼────────────────────────────────────────────────────────────────────────\n",
       "     1 │    25  Private           226802  11th                      7  Never-m ⋯\n",
       "     2 │    38  Private            89814  HS-grad                   9  Married\n",
       "     3 │    28  Local-gov         336951  Assoc-acdm               12  Married\n",
       "     4 │    44  Private           160323  Some-college             10  Married\n",
       "     5 │    18 \u001b[90m missing          \u001b[0m 103497  Some-college             10  Never-m ⋯\n",
       "     6 │    34  Private           198693  10th                      6  Never-m\n",
       "     7 │    29 \u001b[90m missing          \u001b[0m 227026  HS-grad                   9  Never-m\n",
       "     8 │    63  Self-emp-not-inc  104626  Prof-school              15  Married\n",
       "     9 │    24  Private           369667  Some-college             10  Never-m ⋯\n",
       "    10 │    55  Private           104996  7th-8th                   4  Married\n",
       "    11 │    65  Private           184454  HS-grad                   9  Married\n",
       "   ⋮   │   ⋮           ⋮            ⋮          ⋮              ⋮                ⋱\n",
       " 48833 │    32  Private            34066  10th                      6  Married\n",
       " 48834 │    43  Private            84661  Assoc-voc                11  Married ⋯\n",
       " 48835 │    32  Private           116138  Masters                  14  Never-m\n",
       " 48836 │    53  Private           321865  Masters                  14  Married\n",
       " 48837 │    22  Private           310152  Some-college             10  Never-m\n",
       " 48838 │    27  Private           257302  Assoc-acdm               12  Married ⋯\n",
       " 48839 │    40  Private           154374  HS-grad                   9  Married\n",
       " 48840 │    58  Private           151910  HS-grad                   9  Widowed\n",
       " 48841 │    22  Private           201490  HS-grad                   9  Never-m\n",
       " 48842 │    52  Self-emp-inc      287927  HS-grad                   9  Married ⋯\n",
       "\u001b[36m                                               11 columns and 48821 rows omitted\u001b[0m"
      ]
     },
     "execution_count": 125,
     "metadata": {},
     "output_type": "execute_result"
    }
   ],
   "source": [
    "transform(df, :fnlwgt => sum => :total_fnlwgt)"
   ]
  },
  {
   "cell_type": "code",
   "execution_count": 134,
   "id": "bcd566b3-d810-421c-8474-2ff7bfe08608",
   "metadata": {},
   "outputs": [
    {
     "data": {
      "text/html": [
       "<div><div style = \"float: left;\"><span>48842×16 DataFrame</span></div><div style = \"float: right;\"><span style = \"font-style: italic;\">48817 rows omitted</span></div><div style = \"clear: both;\"></div></div><div class = \"data-frame\" style = \"overflow-x: scroll;\"><table class = \"data-frame\" style = \"margin-bottom: 6px;\"><thead><tr class = \"header\"><th class = \"rowNumber\" style = \"font-weight: bold; text-align: right;\">Row</th><th style = \"text-align: left;\">age</th><th style = \"text-align: left;\">workclass</th><th style = \"text-align: left;\">fnlwgt</th><th style = \"text-align: left;\">education</th><th style = \"text-align: left;\">education_num</th><th style = \"text-align: left;\">marital_status</th><th style = \"text-align: left;\">occupation</th><th style = \"text-align: left;\">relationship</th><th style = \"text-align: left;\">race</th><th style = \"text-align: left;\">sex</th><th style = \"text-align: left;\">capital_gain</th><th style = \"text-align: left;\">capital_loss</th><th style = \"text-align: left;\">hours_per_week</th><th style = \"text-align: left;\">native_country</th><th style = \"text-align: left;\">class</th><th style = \"text-align: left;\">total_fnlwgt_function</th></tr><tr class = \"subheader headerLastRow\"><th class = \"rowNumber\" style = \"font-weight: bold; text-align: right;\"></th><th title = \"Int64\" style = \"text-align: left;\">Int64</th><th title = \"Union{Missing, String31}\" style = \"text-align: left;\">String31?</th><th title = \"Int64\" style = \"text-align: left;\">Int64</th><th title = \"String15\" style = \"text-align: left;\">String15</th><th title = \"Int64\" style = \"text-align: left;\">Int64</th><th title = \"String31\" style = \"text-align: left;\">String31</th><th title = \"Union{Missing, String31}\" style = \"text-align: left;\">String31?</th><th title = \"String15\" style = \"text-align: left;\">String15</th><th title = \"String31\" style = \"text-align: left;\">String31</th><th title = \"String7\" style = \"text-align: left;\">String7</th><th title = \"Int64\" style = \"text-align: left;\">Int64</th><th title = \"Int64\" style = \"text-align: left;\">Int64</th><th title = \"Int64\" style = \"text-align: left;\">Int64</th><th title = \"Union{Missing, String31}\" style = \"text-align: left;\">String31?</th><th title = \"String7\" style = \"text-align: left;\">String7</th><th title = \"Float64\" style = \"text-align: left;\">Float64</th></tr></thead><tbody><tr><td class = \"rowNumber\" style = \"font-weight: bold; text-align: right;\">1</td><td style = \"text-align: right;\">25</td><td style = \"text-align: left;\">Private</td><td style = \"text-align: right;\">226802</td><td style = \"text-align: left;\">11th</td><td style = \"text-align: right;\">7</td><td style = \"text-align: left;\">Never-married</td><td style = \"text-align: left;\">Machine-op-inspct</td><td style = \"text-align: left;\">Own-child</td><td style = \"text-align: left;\">Black</td><td style = \"text-align: left;\">Male</td><td style = \"text-align: right;\">0</td><td style = \"text-align: right;\">0</td><td style = \"text-align: right;\">40</td><td style = \"text-align: left;\">United-States</td><td style = \"text-align: left;\">&lt;=50K</td><td style = \"text-align: right;\">0.0281465</td></tr><tr><td class = \"rowNumber\" style = \"font-weight: bold; text-align: right;\">2</td><td style = \"text-align: right;\">38</td><td style = \"text-align: left;\">Private</td><td style = \"text-align: right;\">89814</td><td style = \"text-align: left;\">HS-grad</td><td style = \"text-align: right;\">9</td><td style = \"text-align: left;\">Married-civ-spouse</td><td style = \"text-align: left;\">Farming-fishing</td><td style = \"text-align: left;\">Husband</td><td style = \"text-align: left;\">White</td><td style = \"text-align: left;\">Male</td><td style = \"text-align: right;\">0</td><td style = \"text-align: right;\">0</td><td style = \"text-align: right;\">50</td><td style = \"text-align: left;\">United-States</td><td style = \"text-align: left;\">&lt;=50K</td><td style = \"text-align: right;\">0.0281465</td></tr><tr><td class = \"rowNumber\" style = \"font-weight: bold; text-align: right;\">3</td><td style = \"text-align: right;\">28</td><td style = \"text-align: left;\">Local-gov</td><td style = \"text-align: right;\">336951</td><td style = \"text-align: left;\">Assoc-acdm</td><td style = \"text-align: right;\">12</td><td style = \"text-align: left;\">Married-civ-spouse</td><td style = \"text-align: left;\">Protective-serv</td><td style = \"text-align: left;\">Husband</td><td style = \"text-align: left;\">White</td><td style = \"text-align: left;\">Male</td><td style = \"text-align: right;\">0</td><td style = \"text-align: right;\">0</td><td style = \"text-align: right;\">40</td><td style = \"text-align: left;\">United-States</td><td style = \"text-align: left;\">&gt;50K</td><td style = \"text-align: right;\">0.0281465</td></tr><tr><td class = \"rowNumber\" style = \"font-weight: bold; text-align: right;\">4</td><td style = \"text-align: right;\">44</td><td style = \"text-align: left;\">Private</td><td style = \"text-align: right;\">160323</td><td style = \"text-align: left;\">Some-college</td><td style = \"text-align: right;\">10</td><td style = \"text-align: left;\">Married-civ-spouse</td><td style = \"text-align: left;\">Machine-op-inspct</td><td style = \"text-align: left;\">Husband</td><td style = \"text-align: left;\">Black</td><td style = \"text-align: left;\">Male</td><td style = \"text-align: right;\">7688</td><td style = \"text-align: right;\">0</td><td style = \"text-align: right;\">40</td><td style = \"text-align: left;\">United-States</td><td style = \"text-align: left;\">&gt;50K</td><td style = \"text-align: right;\">0.0281465</td></tr><tr><td class = \"rowNumber\" style = \"font-weight: bold; text-align: right;\">5</td><td style = \"text-align: right;\">18</td><td style = \"font-style: italic; text-align: left;\">missing</td><td style = \"text-align: right;\">103497</td><td style = \"text-align: left;\">Some-college</td><td style = \"text-align: right;\">10</td><td style = \"text-align: left;\">Never-married</td><td style = \"font-style: italic; text-align: left;\">missing</td><td style = \"text-align: left;\">Own-child</td><td style = \"text-align: left;\">White</td><td style = \"text-align: left;\">Female</td><td style = \"text-align: right;\">0</td><td style = \"text-align: right;\">0</td><td style = \"text-align: right;\">30</td><td style = \"text-align: left;\">United-States</td><td style = \"text-align: left;\">&lt;=50K</td><td style = \"text-align: right;\">0.0281465</td></tr><tr><td class = \"rowNumber\" style = \"font-weight: bold; text-align: right;\">6</td><td style = \"text-align: right;\">34</td><td style = \"text-align: left;\">Private</td><td style = \"text-align: right;\">198693</td><td style = \"text-align: left;\">10th</td><td style = \"text-align: right;\">6</td><td style = \"text-align: left;\">Never-married</td><td style = \"text-align: left;\">Other-service</td><td style = \"text-align: left;\">Not-in-family</td><td style = \"text-align: left;\">White</td><td style = \"text-align: left;\">Male</td><td style = \"text-align: right;\">0</td><td style = \"text-align: right;\">0</td><td style = \"text-align: right;\">30</td><td style = \"text-align: left;\">United-States</td><td style = \"text-align: left;\">&lt;=50K</td><td style = \"text-align: right;\">0.0281465</td></tr><tr><td class = \"rowNumber\" style = \"font-weight: bold; text-align: right;\">7</td><td style = \"text-align: right;\">29</td><td style = \"font-style: italic; text-align: left;\">missing</td><td style = \"text-align: right;\">227026</td><td style = \"text-align: left;\">HS-grad</td><td style = \"text-align: right;\">9</td><td style = \"text-align: left;\">Never-married</td><td style = \"font-style: italic; text-align: left;\">missing</td><td style = \"text-align: left;\">Unmarried</td><td style = \"text-align: left;\">Black</td><td style = \"text-align: left;\">Male</td><td style = \"text-align: right;\">0</td><td style = \"text-align: right;\">0</td><td style = \"text-align: right;\">40</td><td style = \"text-align: left;\">United-States</td><td style = \"text-align: left;\">&lt;=50K</td><td style = \"text-align: right;\">0.0281465</td></tr><tr><td class = \"rowNumber\" style = \"font-weight: bold; text-align: right;\">8</td><td style = \"text-align: right;\">63</td><td style = \"text-align: left;\">Self-emp-not-inc</td><td style = \"text-align: right;\">104626</td><td style = \"text-align: left;\">Prof-school</td><td style = \"text-align: right;\">15</td><td style = \"text-align: left;\">Married-civ-spouse</td><td style = \"text-align: left;\">Prof-specialty</td><td style = \"text-align: left;\">Husband</td><td style = \"text-align: left;\">White</td><td style = \"text-align: left;\">Male</td><td style = \"text-align: right;\">3103</td><td style = \"text-align: right;\">0</td><td style = \"text-align: right;\">32</td><td style = \"text-align: left;\">United-States</td><td style = \"text-align: left;\">&gt;50K</td><td style = \"text-align: right;\">0.0281465</td></tr><tr><td class = \"rowNumber\" style = \"font-weight: bold; text-align: right;\">9</td><td style = \"text-align: right;\">24</td><td style = \"text-align: left;\">Private</td><td style = \"text-align: right;\">369667</td><td style = \"text-align: left;\">Some-college</td><td style = \"text-align: right;\">10</td><td style = \"text-align: left;\">Never-married</td><td style = \"text-align: left;\">Other-service</td><td style = \"text-align: left;\">Unmarried</td><td style = \"text-align: left;\">White</td><td style = \"text-align: left;\">Female</td><td style = \"text-align: right;\">0</td><td style = \"text-align: right;\">0</td><td style = \"text-align: right;\">40</td><td style = \"text-align: left;\">United-States</td><td style = \"text-align: left;\">&lt;=50K</td><td style = \"text-align: right;\">0.0281465</td></tr><tr><td class = \"rowNumber\" style = \"font-weight: bold; text-align: right;\">10</td><td style = \"text-align: right;\">55</td><td style = \"text-align: left;\">Private</td><td style = \"text-align: right;\">104996</td><td style = \"text-align: left;\">7th-8th</td><td style = \"text-align: right;\">4</td><td style = \"text-align: left;\">Married-civ-spouse</td><td style = \"text-align: left;\">Craft-repair</td><td style = \"text-align: left;\">Husband</td><td style = \"text-align: left;\">White</td><td style = \"text-align: left;\">Male</td><td style = \"text-align: right;\">0</td><td style = \"text-align: right;\">0</td><td style = \"text-align: right;\">10</td><td style = \"text-align: left;\">United-States</td><td style = \"text-align: left;\">&lt;=50K</td><td style = \"text-align: right;\">0.0281465</td></tr><tr><td class = \"rowNumber\" style = \"font-weight: bold; text-align: right;\">11</td><td style = \"text-align: right;\">65</td><td style = \"text-align: left;\">Private</td><td style = \"text-align: right;\">184454</td><td style = \"text-align: left;\">HS-grad</td><td style = \"text-align: right;\">9</td><td style = \"text-align: left;\">Married-civ-spouse</td><td style = \"text-align: left;\">Machine-op-inspct</td><td style = \"text-align: left;\">Husband</td><td style = \"text-align: left;\">White</td><td style = \"text-align: left;\">Male</td><td style = \"text-align: right;\">6418</td><td style = \"text-align: right;\">0</td><td style = \"text-align: right;\">40</td><td style = \"text-align: left;\">United-States</td><td style = \"text-align: left;\">&gt;50K</td><td style = \"text-align: right;\">0.0281465</td></tr><tr><td class = \"rowNumber\" style = \"font-weight: bold; text-align: right;\">12</td><td style = \"text-align: right;\">36</td><td style = \"text-align: left;\">Federal-gov</td><td style = \"text-align: right;\">212465</td><td style = \"text-align: left;\">Bachelors</td><td style = \"text-align: right;\">13</td><td style = \"text-align: left;\">Married-civ-spouse</td><td style = \"text-align: left;\">Adm-clerical</td><td style = \"text-align: left;\">Husband</td><td style = \"text-align: left;\">White</td><td style = \"text-align: left;\">Male</td><td style = \"text-align: right;\">0</td><td style = \"text-align: right;\">0</td><td style = \"text-align: right;\">40</td><td style = \"text-align: left;\">United-States</td><td style = \"text-align: left;\">&lt;=50K</td><td style = \"text-align: right;\">0.0281465</td></tr><tr><td class = \"rowNumber\" style = \"font-weight: bold; text-align: right;\">13</td><td style = \"text-align: right;\">26</td><td style = \"text-align: left;\">Private</td><td style = \"text-align: right;\">82091</td><td style = \"text-align: left;\">HS-grad</td><td style = \"text-align: right;\">9</td><td style = \"text-align: left;\">Never-married</td><td style = \"text-align: left;\">Adm-clerical</td><td style = \"text-align: left;\">Not-in-family</td><td style = \"text-align: left;\">White</td><td style = \"text-align: left;\">Female</td><td style = \"text-align: right;\">0</td><td style = \"text-align: right;\">0</td><td style = \"text-align: right;\">39</td><td style = \"text-align: left;\">United-States</td><td style = \"text-align: left;\">&lt;=50K</td><td style = \"text-align: right;\">0.0281465</td></tr><tr><td style = \"text-align: right;\">&vellip;</td><td style = \"text-align: right;\">&vellip;</td><td style = \"text-align: right;\">&vellip;</td><td style = \"text-align: right;\">&vellip;</td><td style = \"text-align: right;\">&vellip;</td><td style = \"text-align: right;\">&vellip;</td><td style = \"text-align: right;\">&vellip;</td><td style = \"text-align: right;\">&vellip;</td><td style = \"text-align: right;\">&vellip;</td><td style = \"text-align: right;\">&vellip;</td><td style = \"text-align: right;\">&vellip;</td><td style = \"text-align: right;\">&vellip;</td><td style = \"text-align: right;\">&vellip;</td><td style = \"text-align: right;\">&vellip;</td><td style = \"text-align: right;\">&vellip;</td><td style = \"text-align: right;\">&vellip;</td><td style = \"text-align: right;\">&vellip;</td></tr><tr><td class = \"rowNumber\" style = \"font-weight: bold; text-align: right;\">48831</td><td style = \"text-align: right;\">43</td><td style = \"text-align: left;\">State-gov</td><td style = \"text-align: right;\">255835</td><td style = \"text-align: left;\">Some-college</td><td style = \"text-align: right;\">10</td><td style = \"text-align: left;\">Divorced</td><td style = \"text-align: left;\">Adm-clerical</td><td style = \"text-align: left;\">Other-relative</td><td style = \"text-align: left;\">White</td><td style = \"text-align: left;\">Female</td><td style = \"text-align: right;\">0</td><td style = \"text-align: right;\">0</td><td style = \"text-align: right;\">40</td><td style = \"text-align: left;\">United-States</td><td style = \"text-align: left;\">&lt;=50K</td><td style = \"text-align: right;\">0.0281465</td></tr><tr><td class = \"rowNumber\" style = \"font-weight: bold; text-align: right;\">48832</td><td style = \"text-align: right;\">43</td><td style = \"text-align: left;\">Self-emp-not-inc</td><td style = \"text-align: right;\">27242</td><td style = \"text-align: left;\">Some-college</td><td style = \"text-align: right;\">10</td><td style = \"text-align: left;\">Married-civ-spouse</td><td style = \"text-align: left;\">Craft-repair</td><td style = \"text-align: left;\">Husband</td><td style = \"text-align: left;\">White</td><td style = \"text-align: left;\">Male</td><td style = \"text-align: right;\">0</td><td style = \"text-align: right;\">0</td><td style = \"text-align: right;\">50</td><td style = \"text-align: left;\">United-States</td><td style = \"text-align: left;\">&lt;=50K</td><td style = \"text-align: right;\">0.0281465</td></tr><tr><td class = \"rowNumber\" style = \"font-weight: bold; text-align: right;\">48833</td><td style = \"text-align: right;\">32</td><td style = \"text-align: left;\">Private</td><td style = \"text-align: right;\">34066</td><td style = \"text-align: left;\">10th</td><td style = \"text-align: right;\">6</td><td style = \"text-align: left;\">Married-civ-spouse</td><td style = \"text-align: left;\">Handlers-cleaners</td><td style = \"text-align: left;\">Husband</td><td style = \"text-align: left;\">Amer-Indian-Eskimo</td><td style = \"text-align: left;\">Male</td><td style = \"text-align: right;\">0</td><td style = \"text-align: right;\">0</td><td style = \"text-align: right;\">40</td><td style = \"text-align: left;\">United-States</td><td style = \"text-align: left;\">&lt;=50K</td><td style = \"text-align: right;\">0.0281465</td></tr><tr><td class = \"rowNumber\" style = \"font-weight: bold; text-align: right;\">48834</td><td style = \"text-align: right;\">43</td><td style = \"text-align: left;\">Private</td><td style = \"text-align: right;\">84661</td><td style = \"text-align: left;\">Assoc-voc</td><td style = \"text-align: right;\">11</td><td style = \"text-align: left;\">Married-civ-spouse</td><td style = \"text-align: left;\">Sales</td><td style = \"text-align: left;\">Husband</td><td style = \"text-align: left;\">White</td><td style = \"text-align: left;\">Male</td><td style = \"text-align: right;\">0</td><td style = \"text-align: right;\">0</td><td style = \"text-align: right;\">45</td><td style = \"text-align: left;\">United-States</td><td style = \"text-align: left;\">&lt;=50K</td><td style = \"text-align: right;\">0.0281465</td></tr><tr><td class = \"rowNumber\" style = \"font-weight: bold; text-align: right;\">48835</td><td style = \"text-align: right;\">32</td><td style = \"text-align: left;\">Private</td><td style = \"text-align: right;\">116138</td><td style = \"text-align: left;\">Masters</td><td style = \"text-align: right;\">14</td><td style = \"text-align: left;\">Never-married</td><td style = \"text-align: left;\">Tech-support</td><td style = \"text-align: left;\">Not-in-family</td><td style = \"text-align: left;\">Asian-Pac-Islander</td><td style = \"text-align: left;\">Male</td><td style = \"text-align: right;\">0</td><td style = \"text-align: right;\">0</td><td style = \"text-align: right;\">11</td><td style = \"text-align: left;\">Taiwan</td><td style = \"text-align: left;\">&lt;=50K</td><td style = \"text-align: right;\">0.0281465</td></tr><tr><td class = \"rowNumber\" style = \"font-weight: bold; text-align: right;\">48836</td><td style = \"text-align: right;\">53</td><td style = \"text-align: left;\">Private</td><td style = \"text-align: right;\">321865</td><td style = \"text-align: left;\">Masters</td><td style = \"text-align: right;\">14</td><td style = \"text-align: left;\">Married-civ-spouse</td><td style = \"text-align: left;\">Exec-managerial</td><td style = \"text-align: left;\">Husband</td><td style = \"text-align: left;\">White</td><td style = \"text-align: left;\">Male</td><td style = \"text-align: right;\">0</td><td style = \"text-align: right;\">0</td><td style = \"text-align: right;\">40</td><td style = \"text-align: left;\">United-States</td><td style = \"text-align: left;\">&gt;50K</td><td style = \"text-align: right;\">0.0281465</td></tr><tr><td class = \"rowNumber\" style = \"font-weight: bold; text-align: right;\">48837</td><td style = \"text-align: right;\">22</td><td style = \"text-align: left;\">Private</td><td style = \"text-align: right;\">310152</td><td style = \"text-align: left;\">Some-college</td><td style = \"text-align: right;\">10</td><td style = \"text-align: left;\">Never-married</td><td style = \"text-align: left;\">Protective-serv</td><td style = \"text-align: left;\">Not-in-family</td><td style = \"text-align: left;\">White</td><td style = \"text-align: left;\">Male</td><td style = \"text-align: right;\">0</td><td style = \"text-align: right;\">0</td><td style = \"text-align: right;\">40</td><td style = \"text-align: left;\">United-States</td><td style = \"text-align: left;\">&lt;=50K</td><td style = \"text-align: right;\">0.0281465</td></tr><tr><td class = \"rowNumber\" style = \"font-weight: bold; text-align: right;\">48838</td><td style = \"text-align: right;\">27</td><td style = \"text-align: left;\">Private</td><td style = \"text-align: right;\">257302</td><td style = \"text-align: left;\">Assoc-acdm</td><td style = \"text-align: right;\">12</td><td style = \"text-align: left;\">Married-civ-spouse</td><td style = \"text-align: left;\">Tech-support</td><td style = \"text-align: left;\">Wife</td><td style = \"text-align: left;\">White</td><td style = \"text-align: left;\">Female</td><td style = \"text-align: right;\">0</td><td style = \"text-align: right;\">0</td><td style = \"text-align: right;\">38</td><td style = \"text-align: left;\">United-States</td><td style = \"text-align: left;\">&lt;=50K</td><td style = \"text-align: right;\">0.0281465</td></tr><tr><td class = \"rowNumber\" style = \"font-weight: bold; text-align: right;\">48839</td><td style = \"text-align: right;\">40</td><td style = \"text-align: left;\">Private</td><td style = \"text-align: right;\">154374</td><td style = \"text-align: left;\">HS-grad</td><td style = \"text-align: right;\">9</td><td style = \"text-align: left;\">Married-civ-spouse</td><td style = \"text-align: left;\">Machine-op-inspct</td><td style = \"text-align: left;\">Husband</td><td style = \"text-align: left;\">White</td><td style = \"text-align: left;\">Male</td><td style = \"text-align: right;\">0</td><td style = \"text-align: right;\">0</td><td style = \"text-align: right;\">40</td><td style = \"text-align: left;\">United-States</td><td style = \"text-align: left;\">&gt;50K</td><td style = \"text-align: right;\">0.0281465</td></tr><tr><td class = \"rowNumber\" style = \"font-weight: bold; text-align: right;\">48840</td><td style = \"text-align: right;\">58</td><td style = \"text-align: left;\">Private</td><td style = \"text-align: right;\">151910</td><td style = \"text-align: left;\">HS-grad</td><td style = \"text-align: right;\">9</td><td style = \"text-align: left;\">Widowed</td><td style = \"text-align: left;\">Adm-clerical</td><td style = \"text-align: left;\">Unmarried</td><td style = \"text-align: left;\">White</td><td style = \"text-align: left;\">Female</td><td style = \"text-align: right;\">0</td><td style = \"text-align: right;\">0</td><td style = \"text-align: right;\">40</td><td style = \"text-align: left;\">United-States</td><td style = \"text-align: left;\">&lt;=50K</td><td style = \"text-align: right;\">0.0281465</td></tr><tr><td class = \"rowNumber\" style = \"font-weight: bold; text-align: right;\">48841</td><td style = \"text-align: right;\">22</td><td style = \"text-align: left;\">Private</td><td style = \"text-align: right;\">201490</td><td style = \"text-align: left;\">HS-grad</td><td style = \"text-align: right;\">9</td><td style = \"text-align: left;\">Never-married</td><td style = \"text-align: left;\">Adm-clerical</td><td style = \"text-align: left;\">Own-child</td><td style = \"text-align: left;\">White</td><td style = \"text-align: left;\">Male</td><td style = \"text-align: right;\">0</td><td style = \"text-align: right;\">0</td><td style = \"text-align: right;\">20</td><td style = \"text-align: left;\">United-States</td><td style = \"text-align: left;\">&lt;=50K</td><td style = \"text-align: right;\">0.0281465</td></tr><tr><td class = \"rowNumber\" style = \"font-weight: bold; text-align: right;\">48842</td><td style = \"text-align: right;\">52</td><td style = \"text-align: left;\">Self-emp-inc</td><td style = \"text-align: right;\">287927</td><td style = \"text-align: left;\">HS-grad</td><td style = \"text-align: right;\">9</td><td style = \"text-align: left;\">Married-civ-spouse</td><td style = \"text-align: left;\">Exec-managerial</td><td style = \"text-align: left;\">Wife</td><td style = \"text-align: left;\">White</td><td style = \"text-align: left;\">Female</td><td style = \"text-align: right;\">15024</td><td style = \"text-align: right;\">0</td><td style = \"text-align: right;\">40</td><td style = \"text-align: left;\">United-States</td><td style = \"text-align: left;\">&gt;50K</td><td style = \"text-align: right;\">0.0281465</td></tr></tbody></table></div>"
      ],
      "text/latex": [
       "\\begin{tabular}{r|ccccccc}\n",
       "\t& age & workclass & fnlwgt & education & education\\_num & marital\\_status & \\\\\n",
       "\t\\hline\n",
       "\t& Int64 & String31? & Int64 & String15 & Int64 & String31 & \\\\\n",
       "\t\\hline\n",
       "\t1 & 25 & Private & 226802 & 11th & 7 & Never-married & $\\dots$ \\\\\n",
       "\t2 & 38 & Private & 89814 & HS-grad & 9 & Married-civ-spouse & $\\dots$ \\\\\n",
       "\t3 & 28 & Local-gov & 336951 & Assoc-acdm & 12 & Married-civ-spouse & $\\dots$ \\\\\n",
       "\t4 & 44 & Private & 160323 & Some-college & 10 & Married-civ-spouse & $\\dots$ \\\\\n",
       "\t5 & 18 & \\emph{missing} & 103497 & Some-college & 10 & Never-married & $\\dots$ \\\\\n",
       "\t6 & 34 & Private & 198693 & 10th & 6 & Never-married & $\\dots$ \\\\\n",
       "\t7 & 29 & \\emph{missing} & 227026 & HS-grad & 9 & Never-married & $\\dots$ \\\\\n",
       "\t8 & 63 & Self-emp-not-inc & 104626 & Prof-school & 15 & Married-civ-spouse & $\\dots$ \\\\\n",
       "\t9 & 24 & Private & 369667 & Some-college & 10 & Never-married & $\\dots$ \\\\\n",
       "\t10 & 55 & Private & 104996 & 7th-8th & 4 & Married-civ-spouse & $\\dots$ \\\\\n",
       "\t11 & 65 & Private & 184454 & HS-grad & 9 & Married-civ-spouse & $\\dots$ \\\\\n",
       "\t12 & 36 & Federal-gov & 212465 & Bachelors & 13 & Married-civ-spouse & $\\dots$ \\\\\n",
       "\t13 & 26 & Private & 82091 & HS-grad & 9 & Never-married & $\\dots$ \\\\\n",
       "\t14 & 58 & \\emph{missing} & 299831 & HS-grad & 9 & Married-civ-spouse & $\\dots$ \\\\\n",
       "\t15 & 48 & Private & 279724 & HS-grad & 9 & Married-civ-spouse & $\\dots$ \\\\\n",
       "\t16 & 43 & Private & 346189 & Masters & 14 & Married-civ-spouse & $\\dots$ \\\\\n",
       "\t17 & 20 & State-gov & 444554 & Some-college & 10 & Never-married & $\\dots$ \\\\\n",
       "\t18 & 43 & Private & 128354 & HS-grad & 9 & Married-civ-spouse & $\\dots$ \\\\\n",
       "\t19 & 37 & Private & 60548 & HS-grad & 9 & Widowed & $\\dots$ \\\\\n",
       "\t20 & 40 & Private & 85019 & Doctorate & 16 & Married-civ-spouse & $\\dots$ \\\\\n",
       "\t21 & 34 & Private & 107914 & Bachelors & 13 & Married-civ-spouse & $\\dots$ \\\\\n",
       "\t22 & 34 & Private & 238588 & Some-college & 10 & Never-married & $\\dots$ \\\\\n",
       "\t23 & 72 & \\emph{missing} & 132015 & 7th-8th & 4 & Divorced & $\\dots$ \\\\\n",
       "\t24 & 25 & Private & 220931 & Bachelors & 13 & Never-married & $\\dots$ \\\\\n",
       "\t25 & 25 & Private & 205947 & Bachelors & 13 & Married-civ-spouse & $\\dots$ \\\\\n",
       "\t26 & 45 & Self-emp-not-inc & 432824 & HS-grad & 9 & Married-civ-spouse & $\\dots$ \\\\\n",
       "\t27 & 22 & Private & 236427 & HS-grad & 9 & Never-married & $\\dots$ \\\\\n",
       "\t28 & 23 & Private & 134446 & HS-grad & 9 & Separated & $\\dots$ \\\\\n",
       "\t29 & 54 & Private & 99516 & HS-grad & 9 & Married-civ-spouse & $\\dots$ \\\\\n",
       "\t30 & 32 & Self-emp-not-inc & 109282 & Some-college & 10 & Never-married & $\\dots$ \\\\\n",
       "\t$\\dots$ & $\\dots$ & $\\dots$ & $\\dots$ & $\\dots$ & $\\dots$ & $\\dots$ &  \\\\\n",
       "\\end{tabular}\n"
      ],
      "text/plain": [
       "\u001b[1m48842×16 DataFrame\u001b[0m\n",
       "\u001b[1m   Row \u001b[0m│\u001b[1m age   \u001b[0m\u001b[1m workclass        \u001b[0m\u001b[1m fnlwgt \u001b[0m\u001b[1m education    \u001b[0m\u001b[1m education_num \u001b[0m\u001b[1m marital\u001b[0m ⋯\n",
       "       │\u001b[90m Int64 \u001b[0m\u001b[90m String31?        \u001b[0m\u001b[90m Int64  \u001b[0m\u001b[90m String15     \u001b[0m\u001b[90m Int64         \u001b[0m\u001b[90m String3\u001b[0m ⋯\n",
       "───────┼────────────────────────────────────────────────────────────────────────\n",
       "     1 │    25  Private           226802  11th                      7  Never-m ⋯\n",
       "     2 │    38  Private            89814  HS-grad                   9  Married\n",
       "     3 │    28  Local-gov         336951  Assoc-acdm               12  Married\n",
       "     4 │    44  Private           160323  Some-college             10  Married\n",
       "     5 │    18 \u001b[90m missing          \u001b[0m 103497  Some-college             10  Never-m ⋯\n",
       "     6 │    34  Private           198693  10th                      6  Never-m\n",
       "     7 │    29 \u001b[90m missing          \u001b[0m 227026  HS-grad                   9  Never-m\n",
       "     8 │    63  Self-emp-not-inc  104626  Prof-school              15  Married\n",
       "     9 │    24  Private           369667  Some-college             10  Never-m ⋯\n",
       "    10 │    55  Private           104996  7th-8th                   4  Married\n",
       "    11 │    65  Private           184454  HS-grad                   9  Married\n",
       "   ⋮   │   ⋮           ⋮            ⋮          ⋮              ⋮                ⋱\n",
       " 48833 │    32  Private            34066  10th                      6  Married\n",
       " 48834 │    43  Private            84661  Assoc-voc                11  Married ⋯\n",
       " 48835 │    32  Private           116138  Masters                  14  Never-m\n",
       " 48836 │    53  Private           321865  Masters                  14  Married\n",
       " 48837 │    22  Private           310152  Some-college             10  Never-m\n",
       " 48838 │    27  Private           257302  Assoc-acdm               12  Married ⋯\n",
       " 48839 │    40  Private           154374  HS-grad                   9  Married\n",
       " 48840 │    58  Private           151910  HS-grad                   9  Widowed\n",
       " 48841 │    22  Private           201490  HS-grad                   9  Never-m\n",
       " 48842 │    52  Self-emp-inc      287927  HS-grad                   9  Married ⋯\n",
       "\u001b[36m                                               11 columns and 48821 rows omitted\u001b[0m"
      ]
     },
     "execution_count": 134,
     "metadata": {},
     "output_type": "execute_result"
    }
   ],
   "source": [
    "hcat(df, select(transform(df, :fnlwgt => sum => :total_fnlwgt), :total_fnlwgt => x -> 260_737_000 ./ x))"
   ]
  },
  {
   "cell_type": "code",
   "execution_count": 135,
   "id": "062ac8d1-b163-4f05-b672-b110e4d01b37",
   "metadata": {},
   "outputs": [
    {
     "data": {
      "text/html": [
       "<p><b>GroupedDataFrame with 15 groups based on key: occupation</b></p><div><div style = \"float: left;\"><span>First Group (3022 rows): occupation = &quot;Machine-op-inspct&quot;</span></div><div style = \"float: right;\"><span style = \"font-style: italic;\">2997 rows omitted</span></div><div style = \"clear: both;\"></div></div><div class = \"data-frame\" style = \"overflow-x: scroll;\"><table class = \"data-frame\" style = \"margin-bottom: 6px;\"><thead><tr class = \"header\"><th class = \"rowNumber\" style = \"font-weight: bold; text-align: right;\">Row</th><th style = \"text-align: left;\">age</th><th style = \"text-align: left;\">workclass</th><th style = \"text-align: left;\">fnlwgt</th><th style = \"text-align: left;\">education</th><th style = \"text-align: left;\">education_num</th><th style = \"text-align: left;\">marital_status</th><th style = \"text-align: left;\">occupation</th><th style = \"text-align: left;\">relationship</th><th style = \"text-align: left;\">race</th><th style = \"text-align: left;\">sex</th><th style = \"text-align: left;\">capital_gain</th><th style = \"text-align: left;\">capital_loss</th><th style = \"text-align: left;\">hours_per_week</th><th style = \"text-align: left;\">native_country</th><th style = \"text-align: left;\">class</th></tr><tr class = \"subheader headerLastRow\"><th class = \"rowNumber\" style = \"font-weight: bold; text-align: right;\"></th><th title = \"Int64\" style = \"text-align: left;\">Int64</th><th title = \"Union{Missing, String31}\" style = \"text-align: left;\">String31?</th><th title = \"Int64\" style = \"text-align: left;\">Int64</th><th title = \"String15\" style = \"text-align: left;\">String15</th><th title = \"Int64\" style = \"text-align: left;\">Int64</th><th title = \"String31\" style = \"text-align: left;\">String31</th><th title = \"Union{Missing, String31}\" style = \"text-align: left;\">String31?</th><th title = \"String15\" style = \"text-align: left;\">String15</th><th title = \"String31\" style = \"text-align: left;\">String31</th><th title = \"String7\" style = \"text-align: left;\">String7</th><th title = \"Int64\" style = \"text-align: left;\">Int64</th><th title = \"Int64\" style = \"text-align: left;\">Int64</th><th title = \"Int64\" style = \"text-align: left;\">Int64</th><th title = \"Union{Missing, String31}\" style = \"text-align: left;\">String31?</th><th title = \"String7\" style = \"text-align: left;\">String7</th></tr></thead><tbody><tr><td class = \"rowNumber\" style = \"font-weight: bold; text-align: right;\">1</td><td style = \"text-align: right;\">25</td><td style = \"text-align: left;\">Private</td><td style = \"text-align: right;\">226802</td><td style = \"text-align: left;\">11th</td><td style = \"text-align: right;\">7</td><td style = \"text-align: left;\">Never-married</td><td style = \"text-align: left;\">Machine-op-inspct</td><td style = \"text-align: left;\">Own-child</td><td style = \"text-align: left;\">Black</td><td style = \"text-align: left;\">Male</td><td style = \"text-align: right;\">0</td><td style = \"text-align: right;\">0</td><td style = \"text-align: right;\">40</td><td style = \"text-align: left;\">United-States</td><td style = \"text-align: left;\">&lt;=50K</td></tr><tr><td class = \"rowNumber\" style = \"font-weight: bold; text-align: right;\">2</td><td style = \"text-align: right;\">44</td><td style = \"text-align: left;\">Private</td><td style = \"text-align: right;\">160323</td><td style = \"text-align: left;\">Some-college</td><td style = \"text-align: right;\">10</td><td style = \"text-align: left;\">Married-civ-spouse</td><td style = \"text-align: left;\">Machine-op-inspct</td><td style = \"text-align: left;\">Husband</td><td style = \"text-align: left;\">Black</td><td style = \"text-align: left;\">Male</td><td style = \"text-align: right;\">7688</td><td style = \"text-align: right;\">0</td><td style = \"text-align: right;\">40</td><td style = \"text-align: left;\">United-States</td><td style = \"text-align: left;\">&gt;50K</td></tr><tr><td class = \"rowNumber\" style = \"font-weight: bold; text-align: right;\">3</td><td style = \"text-align: right;\">65</td><td style = \"text-align: left;\">Private</td><td style = \"text-align: right;\">184454</td><td style = \"text-align: left;\">HS-grad</td><td style = \"text-align: right;\">9</td><td style = \"text-align: left;\">Married-civ-spouse</td><td style = \"text-align: left;\">Machine-op-inspct</td><td style = \"text-align: left;\">Husband</td><td style = \"text-align: left;\">White</td><td style = \"text-align: left;\">Male</td><td style = \"text-align: right;\">6418</td><td style = \"text-align: right;\">0</td><td style = \"text-align: right;\">40</td><td style = \"text-align: left;\">United-States</td><td style = \"text-align: left;\">&gt;50K</td></tr><tr><td class = \"rowNumber\" style = \"font-weight: bold; text-align: right;\">4</td><td style = \"text-align: right;\">48</td><td style = \"text-align: left;\">Private</td><td style = \"text-align: right;\">279724</td><td style = \"text-align: left;\">HS-grad</td><td style = \"text-align: right;\">9</td><td style = \"text-align: left;\">Married-civ-spouse</td><td style = \"text-align: left;\">Machine-op-inspct</td><td style = \"text-align: left;\">Husband</td><td style = \"text-align: left;\">White</td><td style = \"text-align: left;\">Male</td><td style = \"text-align: right;\">3103</td><td style = \"text-align: right;\">0</td><td style = \"text-align: right;\">48</td><td style = \"text-align: left;\">United-States</td><td style = \"text-align: left;\">&gt;50K</td></tr><tr><td class = \"rowNumber\" style = \"font-weight: bold; text-align: right;\">5</td><td style = \"text-align: right;\">37</td><td style = \"text-align: left;\">Private</td><td style = \"text-align: right;\">60548</td><td style = \"text-align: left;\">HS-grad</td><td style = \"text-align: right;\">9</td><td style = \"text-align: left;\">Widowed</td><td style = \"text-align: left;\">Machine-op-inspct</td><td style = \"text-align: left;\">Unmarried</td><td style = \"text-align: left;\">White</td><td style = \"text-align: left;\">Female</td><td style = \"text-align: right;\">0</td><td style = \"text-align: right;\">0</td><td style = \"text-align: right;\">20</td><td style = \"text-align: left;\">United-States</td><td style = \"text-align: left;\">&lt;=50K</td></tr><tr><td class = \"rowNumber\" style = \"font-weight: bold; text-align: right;\">6</td><td style = \"text-align: right;\">23</td><td style = \"text-align: left;\">Private</td><td style = \"text-align: right;\">134446</td><td style = \"text-align: left;\">HS-grad</td><td style = \"text-align: right;\">9</td><td style = \"text-align: left;\">Separated</td><td style = \"text-align: left;\">Machine-op-inspct</td><td style = \"text-align: left;\">Unmarried</td><td style = \"text-align: left;\">Black</td><td style = \"text-align: left;\">Male</td><td style = \"text-align: right;\">0</td><td style = \"text-align: right;\">0</td><td style = \"text-align: right;\">54</td><td style = \"text-align: left;\">United-States</td><td style = \"text-align: left;\">&lt;=50K</td></tr><tr><td class = \"rowNumber\" style = \"font-weight: bold; text-align: right;\">7</td><td style = \"text-align: right;\">17</td><td style = \"text-align: left;\">Private</td><td style = \"text-align: right;\">269430</td><td style = \"text-align: left;\">10th</td><td style = \"text-align: right;\">6</td><td style = \"text-align: left;\">Never-married</td><td style = \"text-align: left;\">Machine-op-inspct</td><td style = \"text-align: left;\">Not-in-family</td><td style = \"text-align: left;\">White</td><td style = \"text-align: left;\">Male</td><td style = \"text-align: right;\">0</td><td style = \"text-align: right;\">0</td><td style = \"text-align: right;\">40</td><td style = \"text-align: left;\">United-States</td><td style = \"text-align: left;\">&lt;=50K</td></tr><tr><td class = \"rowNumber\" style = \"font-weight: bold; text-align: right;\">8</td><td style = \"text-align: right;\">33</td><td style = \"text-align: left;\">Private</td><td style = \"text-align: right;\">281384</td><td style = \"text-align: left;\">HS-grad</td><td style = \"text-align: right;\">9</td><td style = \"text-align: left;\">Never-married</td><td style = \"text-align: left;\">Machine-op-inspct</td><td style = \"text-align: left;\">Own-child</td><td style = \"text-align: left;\">White</td><td style = \"text-align: left;\">Female</td><td style = \"text-align: right;\">0</td><td style = \"text-align: right;\">0</td><td style = \"text-align: right;\">40</td><td style = \"text-align: left;\">United-States</td><td style = \"text-align: left;\">&lt;=50K</td></tr><tr><td class = \"rowNumber\" style = \"font-weight: bold; text-align: right;\">9</td><td style = \"text-align: right;\">30</td><td style = \"text-align: left;\">Private</td><td style = \"text-align: right;\">229636</td><td style = \"text-align: left;\">HS-grad</td><td style = \"text-align: right;\">9</td><td style = \"text-align: left;\">Married-civ-spouse</td><td style = \"text-align: left;\">Machine-op-inspct</td><td style = \"text-align: left;\">Husband</td><td style = \"text-align: left;\">White</td><td style = \"text-align: left;\">Male</td><td style = \"text-align: right;\">0</td><td style = \"text-align: right;\">0</td><td style = \"text-align: right;\">40</td><td style = \"text-align: left;\">Mexico</td><td style = \"text-align: left;\">&lt;=50K</td></tr><tr><td class = \"rowNumber\" style = \"font-weight: bold; text-align: right;\">10</td><td style = \"text-align: right;\">41</td><td style = \"text-align: left;\">Private</td><td style = \"text-align: right;\">75012</td><td style = \"text-align: left;\">HS-grad</td><td style = \"text-align: right;\">9</td><td style = \"text-align: left;\">Married-civ-spouse</td><td style = \"text-align: left;\">Machine-op-inspct</td><td style = \"text-align: left;\">Husband</td><td style = \"text-align: left;\">White</td><td style = \"text-align: left;\">Male</td><td style = \"text-align: right;\">0</td><td style = \"text-align: right;\">0</td><td style = \"text-align: right;\">50</td><td style = \"text-align: left;\">United-States</td><td style = \"text-align: left;\">&lt;=50K</td></tr><tr><td class = \"rowNumber\" style = \"font-weight: bold; text-align: right;\">11</td><td style = \"text-align: right;\">45</td><td style = \"text-align: left;\">Self-emp-inc</td><td style = \"text-align: right;\">67001</td><td style = \"text-align: left;\">Some-college</td><td style = \"text-align: right;\">10</td><td style = \"text-align: left;\">Married-civ-spouse</td><td style = \"text-align: left;\">Machine-op-inspct</td><td style = \"text-align: left;\">Husband</td><td style = \"text-align: left;\">White</td><td style = \"text-align: left;\">Male</td><td style = \"text-align: right;\">0</td><td style = \"text-align: right;\">0</td><td style = \"text-align: right;\">50</td><td style = \"text-align: left;\">United-States</td><td style = \"text-align: left;\">&lt;=50K</td></tr><tr><td class = \"rowNumber\" style = \"font-weight: bold; text-align: right;\">12</td><td style = \"text-align: right;\">43</td><td style = \"text-align: left;\">Private</td><td style = \"text-align: right;\">170482</td><td style = \"text-align: left;\">HS-grad</td><td style = \"text-align: right;\">9</td><td style = \"text-align: left;\">Separated</td><td style = \"text-align: left;\">Machine-op-inspct</td><td style = \"text-align: left;\">Not-in-family</td><td style = \"text-align: left;\">White</td><td style = \"text-align: left;\">Female</td><td style = \"text-align: right;\">0</td><td style = \"text-align: right;\">0</td><td style = \"text-align: right;\">44</td><td style = \"text-align: left;\">United-States</td><td style = \"text-align: left;\">&lt;=50K</td></tr><tr><td class = \"rowNumber\" style = \"font-weight: bold; text-align: right;\">13</td><td style = \"text-align: right;\">36</td><td style = \"text-align: left;\">Private</td><td style = \"text-align: right;\">75826</td><td style = \"text-align: left;\">10th</td><td style = \"text-align: right;\">6</td><td style = \"text-align: left;\">Separated</td><td style = \"text-align: left;\">Machine-op-inspct</td><td style = \"text-align: left;\">Not-in-family</td><td style = \"text-align: left;\">White</td><td style = \"text-align: left;\">Female</td><td style = \"text-align: right;\">0</td><td style = \"text-align: right;\">0</td><td style = \"text-align: right;\">40</td><td style = \"text-align: left;\">United-States</td><td style = \"text-align: left;\">&lt;=50K</td></tr><tr><td style = \"text-align: right;\">&vellip;</td><td style = \"text-align: right;\">&vellip;</td><td style = \"text-align: right;\">&vellip;</td><td style = \"text-align: right;\">&vellip;</td><td style = \"text-align: right;\">&vellip;</td><td style = \"text-align: right;\">&vellip;</td><td style = \"text-align: right;\">&vellip;</td><td style = \"text-align: right;\">&vellip;</td><td style = \"text-align: right;\">&vellip;</td><td style = \"text-align: right;\">&vellip;</td><td style = \"text-align: right;\">&vellip;</td><td style = \"text-align: right;\">&vellip;</td><td style = \"text-align: right;\">&vellip;</td><td style = \"text-align: right;\">&vellip;</td><td style = \"text-align: right;\">&vellip;</td><td style = \"text-align: right;\">&vellip;</td></tr><tr><td class = \"rowNumber\" style = \"font-weight: bold; text-align: right;\">3011</td><td style = \"text-align: right;\">45</td><td style = \"text-align: left;\">Private</td><td style = \"text-align: right;\">199590</td><td style = \"text-align: left;\">5th-6th</td><td style = \"text-align: right;\">3</td><td style = \"text-align: left;\">Married-civ-spouse</td><td style = \"text-align: left;\">Machine-op-inspct</td><td style = \"text-align: left;\">Husband</td><td style = \"text-align: left;\">White</td><td style = \"text-align: left;\">Male</td><td style = \"text-align: right;\">0</td><td style = \"text-align: right;\">0</td><td style = \"text-align: right;\">40</td><td style = \"font-style: italic; text-align: left;\">missing</td><td style = \"text-align: left;\">&lt;=50K</td></tr><tr><td class = \"rowNumber\" style = \"font-weight: bold; text-align: right;\">3012</td><td style = \"text-align: right;\">23</td><td style = \"text-align: left;\">Private</td><td style = \"text-align: right;\">180771</td><td style = \"text-align: left;\">1st-4th</td><td style = \"text-align: right;\">2</td><td style = \"text-align: left;\">Married-civ-spouse</td><td style = \"text-align: left;\">Machine-op-inspct</td><td style = \"text-align: left;\">Wife</td><td style = \"text-align: left;\">Amer-Indian-Eskimo</td><td style = \"text-align: left;\">Female</td><td style = \"text-align: right;\">0</td><td style = \"text-align: right;\">0</td><td style = \"text-align: right;\">35</td><td style = \"text-align: left;\">Mexico</td><td style = \"text-align: left;\">&lt;=50K</td></tr><tr><td class = \"rowNumber\" style = \"font-weight: bold; text-align: right;\">3013</td><td style = \"text-align: right;\">51</td><td style = \"text-align: left;\">Private</td><td style = \"text-align: right;\">274502</td><td style = \"text-align: left;\">7th-8th</td><td style = \"text-align: right;\">4</td><td style = \"text-align: left;\">Divorced</td><td style = \"text-align: left;\">Machine-op-inspct</td><td style = \"text-align: left;\">Not-in-family</td><td style = \"text-align: left;\">White</td><td style = \"text-align: left;\">Female</td><td style = \"text-align: right;\">0</td><td style = \"text-align: right;\">0</td><td style = \"text-align: right;\">48</td><td style = \"text-align: left;\">United-States</td><td style = \"text-align: left;\">&lt;=50K</td></tr><tr><td class = \"rowNumber\" style = \"font-weight: bold; text-align: right;\">3014</td><td style = \"text-align: right;\">53</td><td style = \"text-align: left;\">Private</td><td style = \"text-align: right;\">158993</td><td style = \"text-align: left;\">HS-grad</td><td style = \"text-align: right;\">9</td><td style = \"text-align: left;\">Widowed</td><td style = \"text-align: left;\">Machine-op-inspct</td><td style = \"text-align: left;\">Unmarried</td><td style = \"text-align: left;\">Black</td><td style = \"text-align: left;\">Female</td><td style = \"text-align: right;\">0</td><td style = \"text-align: right;\">0</td><td style = \"text-align: right;\">38</td><td style = \"text-align: left;\">United-States</td><td style = \"text-align: left;\">&lt;=50K</td></tr><tr><td class = \"rowNumber\" style = \"font-weight: bold; text-align: right;\">3015</td><td style = \"text-align: right;\">24</td><td style = \"text-align: left;\">Private</td><td style = \"text-align: right;\">284317</td><td style = \"text-align: left;\">Bachelors</td><td style = \"text-align: right;\">13</td><td style = \"text-align: left;\">Never-married</td><td style = \"text-align: left;\">Machine-op-inspct</td><td style = \"text-align: left;\">Not-in-family</td><td style = \"text-align: left;\">White</td><td style = \"text-align: left;\">Female</td><td style = \"text-align: right;\">0</td><td style = \"text-align: right;\">0</td><td style = \"text-align: right;\">32</td><td style = \"text-align: left;\">United-States</td><td style = \"text-align: left;\">&lt;=50K</td></tr><tr><td class = \"rowNumber\" style = \"font-weight: bold; text-align: right;\">3016</td><td style = \"text-align: right;\">28</td><td style = \"text-align: left;\">Private</td><td style = \"text-align: right;\">113987</td><td style = \"text-align: left;\">HS-grad</td><td style = \"text-align: right;\">9</td><td style = \"text-align: left;\">Married-civ-spouse</td><td style = \"text-align: left;\">Machine-op-inspct</td><td style = \"text-align: left;\">Wife</td><td style = \"text-align: left;\">White</td><td style = \"text-align: left;\">Female</td><td style = \"text-align: right;\">0</td><td style = \"text-align: right;\">0</td><td style = \"text-align: right;\">40</td><td style = \"text-align: left;\">United-States</td><td style = \"text-align: left;\">&lt;=50K</td></tr><tr><td class = \"rowNumber\" style = \"font-weight: bold; text-align: right;\">3017</td><td style = \"text-align: right;\">24</td><td style = \"text-align: left;\">Private</td><td style = \"text-align: right;\">381895</td><td style = \"text-align: left;\">11th</td><td style = \"text-align: right;\">7</td><td style = \"text-align: left;\">Divorced</td><td style = \"text-align: left;\">Machine-op-inspct</td><td style = \"text-align: left;\">Unmarried</td><td style = \"text-align: left;\">White</td><td style = \"text-align: left;\">Female</td><td style = \"text-align: right;\">0</td><td style = \"text-align: right;\">0</td><td style = \"text-align: right;\">40</td><td style = \"text-align: left;\">United-States</td><td style = \"text-align: left;\">&lt;=50K</td></tr><tr><td class = \"rowNumber\" style = \"font-weight: bold; text-align: right;\">3018</td><td style = \"text-align: right;\">20</td><td style = \"text-align: left;\">Private</td><td style = \"text-align: right;\">270436</td><td style = \"text-align: left;\">HS-grad</td><td style = \"text-align: right;\">9</td><td style = \"text-align: left;\">Never-married</td><td style = \"text-align: left;\">Machine-op-inspct</td><td style = \"text-align: left;\">Own-child</td><td style = \"text-align: left;\">White</td><td style = \"text-align: left;\">Male</td><td style = \"text-align: right;\">0</td><td style = \"text-align: right;\">0</td><td style = \"text-align: right;\">40</td><td style = \"text-align: left;\">United-States</td><td style = \"text-align: left;\">&lt;=50K</td></tr><tr><td class = \"rowNumber\" style = \"font-weight: bold; text-align: right;\">3019</td><td style = \"text-align: right;\">26</td><td style = \"text-align: left;\">Private</td><td style = \"text-align: right;\">191648</td><td style = \"text-align: left;\">Assoc-acdm</td><td style = \"text-align: right;\">12</td><td style = \"text-align: left;\">Never-married</td><td style = \"text-align: left;\">Machine-op-inspct</td><td style = \"text-align: left;\">Other-relative</td><td style = \"text-align: left;\">White</td><td style = \"text-align: left;\">Female</td><td style = \"text-align: right;\">0</td><td style = \"text-align: right;\">0</td><td style = \"text-align: right;\">15</td><td style = \"text-align: left;\">United-States</td><td style = \"text-align: left;\">&lt;=50K</td></tr><tr><td class = \"rowNumber\" style = \"font-weight: bold; text-align: right;\">3020</td><td style = \"text-align: right;\">31</td><td style = \"text-align: left;\">Private</td><td style = \"text-align: right;\">292592</td><td style = \"text-align: left;\">HS-grad</td><td style = \"text-align: right;\">9</td><td style = \"text-align: left;\">Married-civ-spouse</td><td style = \"text-align: left;\">Machine-op-inspct</td><td style = \"text-align: left;\">Wife</td><td style = \"text-align: left;\">White</td><td style = \"text-align: left;\">Female</td><td style = \"text-align: right;\">0</td><td style = \"text-align: right;\">0</td><td style = \"text-align: right;\">40</td><td style = \"text-align: left;\">United-States</td><td style = \"text-align: left;\">&lt;=50K</td></tr><tr><td class = \"rowNumber\" style = \"font-weight: bold; text-align: right;\">3021</td><td style = \"text-align: right;\">43</td><td style = \"text-align: left;\">Private</td><td style = \"text-align: right;\">260761</td><td style = \"text-align: left;\">HS-grad</td><td style = \"text-align: right;\">9</td><td style = \"text-align: left;\">Married-civ-spouse</td><td style = \"text-align: left;\">Machine-op-inspct</td><td style = \"text-align: left;\">Husband</td><td style = \"text-align: left;\">White</td><td style = \"text-align: left;\">Male</td><td style = \"text-align: right;\">0</td><td style = \"text-align: right;\">0</td><td style = \"text-align: right;\">40</td><td style = \"text-align: left;\">Mexico</td><td style = \"text-align: left;\">&lt;=50K</td></tr><tr><td class = \"rowNumber\" style = \"font-weight: bold; text-align: right;\">3022</td><td style = \"text-align: right;\">40</td><td style = \"text-align: left;\">Private</td><td style = \"text-align: right;\">154374</td><td style = \"text-align: left;\">HS-grad</td><td style = \"text-align: right;\">9</td><td style = \"text-align: left;\">Married-civ-spouse</td><td style = \"text-align: left;\">Machine-op-inspct</td><td style = \"text-align: left;\">Husband</td><td style = \"text-align: left;\">White</td><td style = \"text-align: left;\">Male</td><td style = \"text-align: right;\">0</td><td style = \"text-align: right;\">0</td><td style = \"text-align: right;\">40</td><td style = \"text-align: left;\">United-States</td><td style = \"text-align: left;\">&gt;50K</td></tr></tbody></table></div><p>&vellip;</p><div><div style = \"float: left;\"><span>Last Group (15 rows): occupation = &quot;Armed-Forces&quot;</span></div><div style = \"clear: both;\"></div></div><div class = \"data-frame\" style = \"overflow-x: scroll;\"><table class = \"data-frame\" style = \"margin-bottom: 6px;\"><thead><tr class = \"header\"><th class = \"rowNumber\" style = \"font-weight: bold; text-align: right;\">Row</th><th style = \"text-align: left;\">age</th><th style = \"text-align: left;\">workclass</th><th style = \"text-align: left;\">fnlwgt</th><th style = \"text-align: left;\">education</th><th style = \"text-align: left;\">education_num</th><th style = \"text-align: left;\">marital_status</th><th style = \"text-align: left;\">occupation</th><th style = \"text-align: left;\">relationship</th><th style = \"text-align: left;\">race</th><th style = \"text-align: left;\">sex</th><th style = \"text-align: left;\">capital_gain</th><th style = \"text-align: left;\">capital_loss</th><th style = \"text-align: left;\">hours_per_week</th><th style = \"text-align: left;\">native_country</th><th style = \"text-align: left;\">class</th></tr><tr class = \"subheader headerLastRow\"><th class = \"rowNumber\" style = \"font-weight: bold; text-align: right;\"></th><th title = \"Int64\" style = \"text-align: left;\">Int64</th><th title = \"Union{Missing, String31}\" style = \"text-align: left;\">String31?</th><th title = \"Int64\" style = \"text-align: left;\">Int64</th><th title = \"String15\" style = \"text-align: left;\">String15</th><th title = \"Int64\" style = \"text-align: left;\">Int64</th><th title = \"String31\" style = \"text-align: left;\">String31</th><th title = \"Union{Missing, String31}\" style = \"text-align: left;\">String31?</th><th title = \"String15\" style = \"text-align: left;\">String15</th><th title = \"String31\" style = \"text-align: left;\">String31</th><th title = \"String7\" style = \"text-align: left;\">String7</th><th title = \"Int64\" style = \"text-align: left;\">Int64</th><th title = \"Int64\" style = \"text-align: left;\">Int64</th><th title = \"Int64\" style = \"text-align: left;\">Int64</th><th title = \"Union{Missing, String31}\" style = \"text-align: left;\">String31?</th><th title = \"String7\" style = \"text-align: left;\">String7</th></tr></thead><tbody><tr><td class = \"rowNumber\" style = \"font-weight: bold; text-align: right;\">1</td><td style = \"text-align: right;\">24</td><td style = \"text-align: left;\">Federal-gov</td><td style = \"text-align: right;\">228724</td><td style = \"text-align: left;\">Some-college</td><td style = \"text-align: right;\">10</td><td style = \"text-align: left;\">Never-married</td><td style = \"text-align: left;\">Armed-Forces</td><td style = \"text-align: left;\">Not-in-family</td><td style = \"text-align: left;\">White</td><td style = \"text-align: left;\">Male</td><td style = \"text-align: right;\">0</td><td style = \"text-align: right;\">0</td><td style = \"text-align: right;\">40</td><td style = \"text-align: left;\">United-States</td><td style = \"text-align: left;\">&lt;=50K</td></tr><tr><td class = \"rowNumber\" style = \"font-weight: bold; text-align: right;\">2</td><td style = \"text-align: right;\">30</td><td style = \"text-align: left;\">Federal-gov</td><td style = \"text-align: right;\">243233</td><td style = \"text-align: left;\">Some-college</td><td style = \"text-align: right;\">10</td><td style = \"text-align: left;\">Married-civ-spouse</td><td style = \"text-align: left;\">Armed-Forces</td><td style = \"text-align: left;\">Husband</td><td style = \"text-align: left;\">White</td><td style = \"text-align: left;\">Male</td><td style = \"text-align: right;\">0</td><td style = \"text-align: right;\">0</td><td style = \"text-align: right;\">48</td><td style = \"text-align: left;\">United-States</td><td style = \"text-align: left;\">&gt;50K</td></tr><tr><td class = \"rowNumber\" style = \"font-weight: bold; text-align: right;\">3</td><td style = \"text-align: right;\">52</td><td style = \"text-align: left;\">Federal-gov</td><td style = \"text-align: right;\">165998</td><td style = \"text-align: left;\">Prof-school</td><td style = \"text-align: right;\">15</td><td style = \"text-align: left;\">Married-civ-spouse</td><td style = \"text-align: left;\">Armed-Forces</td><td style = \"text-align: left;\">Husband</td><td style = \"text-align: left;\">White</td><td style = \"text-align: left;\">Male</td><td style = \"text-align: right;\">7298</td><td style = \"text-align: right;\">0</td><td style = \"text-align: right;\">50</td><td style = \"text-align: left;\">United-States</td><td style = \"text-align: left;\">&gt;50K</td></tr><tr><td class = \"rowNumber\" style = \"font-weight: bold; text-align: right;\">4</td><td style = \"text-align: right;\">27</td><td style = \"text-align: left;\">Federal-gov</td><td style = \"text-align: right;\">190653</td><td style = \"text-align: left;\">Assoc-voc</td><td style = \"text-align: right;\">11</td><td style = \"text-align: left;\">Married-civ-spouse</td><td style = \"text-align: left;\">Armed-Forces</td><td style = \"text-align: left;\">Husband</td><td style = \"text-align: left;\">White</td><td style = \"text-align: left;\">Male</td><td style = \"text-align: right;\">0</td><td style = \"text-align: right;\">0</td><td style = \"text-align: right;\">40</td><td style = \"font-style: italic; text-align: left;\">missing</td><td style = \"text-align: left;\">&gt;50K</td></tr><tr><td class = \"rowNumber\" style = \"font-weight: bold; text-align: right;\">5</td><td style = \"text-align: right;\">44</td><td style = \"text-align: left;\">Federal-gov</td><td style = \"text-align: right;\">296858</td><td style = \"text-align: left;\">Masters</td><td style = \"text-align: right;\">14</td><td style = \"text-align: left;\">Married-civ-spouse</td><td style = \"text-align: left;\">Armed-Forces</td><td style = \"text-align: left;\">Husband</td><td style = \"text-align: left;\">White</td><td style = \"text-align: left;\">Male</td><td style = \"text-align: right;\">0</td><td style = \"text-align: right;\">0</td><td style = \"text-align: right;\">40</td><td style = \"text-align: left;\">United-States</td><td style = \"text-align: left;\">&gt;50K</td></tr><tr><td class = \"rowNumber\" style = \"font-weight: bold; text-align: right;\">6</td><td style = \"text-align: right;\">23</td><td style = \"text-align: left;\">Federal-gov</td><td style = \"text-align: right;\">190290</td><td style = \"text-align: left;\">HS-grad</td><td style = \"text-align: right;\">9</td><td style = \"text-align: left;\">Never-married</td><td style = \"text-align: left;\">Armed-Forces</td><td style = \"text-align: left;\">Own-child</td><td style = \"text-align: left;\">White</td><td style = \"text-align: left;\">Male</td><td style = \"text-align: right;\">0</td><td style = \"text-align: right;\">0</td><td style = \"text-align: right;\">40</td><td style = \"text-align: left;\">United-States</td><td style = \"text-align: left;\">&lt;=50K</td></tr><tr><td class = \"rowNumber\" style = \"font-weight: bold; text-align: right;\">7</td><td style = \"text-align: right;\">24</td><td style = \"text-align: left;\">Federal-gov</td><td style = \"text-align: right;\">191073</td><td style = \"text-align: left;\">HS-grad</td><td style = \"text-align: right;\">9</td><td style = \"text-align: left;\">Never-married</td><td style = \"text-align: left;\">Armed-Forces</td><td style = \"text-align: left;\">Own-child</td><td style = \"text-align: left;\">White</td><td style = \"text-align: left;\">Male</td><td style = \"text-align: right;\">0</td><td style = \"text-align: right;\">0</td><td style = \"text-align: right;\">40</td><td style = \"text-align: left;\">United-States</td><td style = \"text-align: left;\">&lt;=50K</td></tr><tr><td class = \"rowNumber\" style = \"font-weight: bold; text-align: right;\">8</td><td style = \"text-align: right;\">29</td><td style = \"text-align: left;\">Federal-gov</td><td style = \"text-align: right;\">301010</td><td style = \"text-align: left;\">Some-college</td><td style = \"text-align: right;\">10</td><td style = \"text-align: left;\">Never-married</td><td style = \"text-align: left;\">Armed-Forces</td><td style = \"text-align: left;\">Not-in-family</td><td style = \"text-align: left;\">Black</td><td style = \"text-align: left;\">Male</td><td style = \"text-align: right;\">0</td><td style = \"text-align: right;\">0</td><td style = \"text-align: right;\">60</td><td style = \"text-align: left;\">United-States</td><td style = \"text-align: left;\">&lt;=50K</td></tr><tr><td class = \"rowNumber\" style = \"font-weight: bold; text-align: right;\">9</td><td style = \"text-align: right;\">39</td><td style = \"text-align: left;\">Federal-gov</td><td style = \"text-align: right;\">227597</td><td style = \"text-align: left;\">HS-grad</td><td style = \"text-align: right;\">9</td><td style = \"text-align: left;\">Never-married</td><td style = \"text-align: left;\">Armed-Forces</td><td style = \"text-align: left;\">Not-in-family</td><td style = \"text-align: left;\">White</td><td style = \"text-align: left;\">Male</td><td style = \"text-align: right;\">0</td><td style = \"text-align: right;\">0</td><td style = \"text-align: right;\">50</td><td style = \"text-align: left;\">United-States</td><td style = \"text-align: left;\">&lt;=50K</td></tr><tr><td class = \"rowNumber\" style = \"font-weight: bold; text-align: right;\">10</td><td style = \"text-align: right;\">24</td><td style = \"text-align: left;\">Federal-gov</td><td style = \"text-align: right;\">287988</td><td style = \"text-align: left;\">Bachelors</td><td style = \"text-align: right;\">13</td><td style = \"text-align: left;\">Never-married</td><td style = \"text-align: left;\">Armed-Forces</td><td style = \"text-align: left;\">Not-in-family</td><td style = \"text-align: left;\">White</td><td style = \"text-align: left;\">Male</td><td style = \"text-align: right;\">0</td><td style = \"text-align: right;\">0</td><td style = \"text-align: right;\">40</td><td style = \"text-align: left;\">United-States</td><td style = \"text-align: left;\">&lt;=50K</td></tr><tr><td class = \"rowNumber\" style = \"font-weight: bold; text-align: right;\">11</td><td style = \"text-align: right;\">34</td><td style = \"text-align: left;\">Federal-gov</td><td style = \"text-align: right;\">172716</td><td style = \"text-align: left;\">12th</td><td style = \"text-align: right;\">8</td><td style = \"text-align: left;\">Married-civ-spouse</td><td style = \"text-align: left;\">Armed-Forces</td><td style = \"text-align: left;\">Husband</td><td style = \"text-align: left;\">White</td><td style = \"text-align: left;\">Male</td><td style = \"text-align: right;\">0</td><td style = \"text-align: right;\">0</td><td style = \"text-align: right;\">40</td><td style = \"text-align: left;\">United-States</td><td style = \"text-align: left;\">&lt;=50K</td></tr><tr><td class = \"rowNumber\" style = \"font-weight: bold; text-align: right;\">12</td><td style = \"text-align: right;\">23</td><td style = \"text-align: left;\">Federal-gov</td><td style = \"text-align: right;\">163870</td><td style = \"text-align: left;\">Some-college</td><td style = \"text-align: right;\">10</td><td style = \"text-align: left;\">Never-married</td><td style = \"text-align: left;\">Armed-Forces</td><td style = \"text-align: left;\">Other-relative</td><td style = \"text-align: left;\">White</td><td style = \"text-align: left;\">Male</td><td style = \"text-align: right;\">0</td><td style = \"text-align: right;\">0</td><td style = \"text-align: right;\">40</td><td style = \"text-align: left;\">United-States</td><td style = \"text-align: left;\">&lt;=50K</td></tr><tr><td class = \"rowNumber\" style = \"font-weight: bold; text-align: right;\">13</td><td style = \"text-align: right;\">30</td><td style = \"text-align: left;\">Federal-gov</td><td style = \"text-align: right;\">76313</td><td style = \"text-align: left;\">HS-grad</td><td style = \"text-align: right;\">9</td><td style = \"text-align: left;\">Married-civ-spouse</td><td style = \"text-align: left;\">Armed-Forces</td><td style = \"text-align: left;\">Other-relative</td><td style = \"text-align: left;\">Amer-Indian-Eskimo</td><td style = \"text-align: left;\">Male</td><td style = \"text-align: right;\">0</td><td style = \"text-align: right;\">0</td><td style = \"text-align: right;\">48</td><td style = \"text-align: left;\">United-States</td><td style = \"text-align: left;\">&lt;=50K</td></tr><tr><td class = \"rowNumber\" style = \"font-weight: bold; text-align: right;\">14</td><td style = \"text-align: right;\">46</td><td style = \"text-align: left;\">Federal-gov</td><td style = \"text-align: right;\">344415</td><td style = \"text-align: left;\">Masters</td><td style = \"text-align: right;\">14</td><td style = \"text-align: left;\">Married-civ-spouse</td><td style = \"text-align: left;\">Armed-Forces</td><td style = \"text-align: left;\">Husband</td><td style = \"text-align: left;\">White</td><td style = \"text-align: left;\">Male</td><td style = \"text-align: right;\">0</td><td style = \"text-align: right;\">1887</td><td style = \"text-align: right;\">40</td><td style = \"text-align: left;\">United-States</td><td style = \"text-align: left;\">&gt;50K</td></tr><tr><td class = \"rowNumber\" style = \"font-weight: bold; text-align: right;\">15</td><td style = \"text-align: right;\">23</td><td style = \"text-align: left;\">Federal-gov</td><td style = \"text-align: right;\">173851</td><td style = \"text-align: left;\">HS-grad</td><td style = \"text-align: right;\">9</td><td style = \"text-align: left;\">Never-married</td><td style = \"text-align: left;\">Armed-Forces</td><td style = \"text-align: left;\">Not-in-family</td><td style = \"text-align: left;\">White</td><td style = \"text-align: left;\">Male</td><td style = \"text-align: right;\">0</td><td style = \"text-align: right;\">0</td><td style = \"text-align: right;\">8</td><td style = \"text-align: left;\">United-States</td><td style = \"text-align: left;\">&lt;=50K</td></tr></tbody></table></div>"
      ],
      "text/latex": [
       "GroupedDataFrame with 15 groups based on key: occupation\n",
       "\n",
       "First Group (3022 rows): occupation = \"Machine-op-inspct\"\n",
       "\n",
       "\\begin{tabular}{r|cccccccc}\n",
       "\t& age & workclass & fnlwgt & education & education\\_num & marital\\_status & occupation & \\\\\n",
       "\t\\hline\n",
       "\t& Int64 & String31? & Int64 & String15 & Int64 & String31 & String31? & \\\\\n",
       "\t\\hline\n",
       "\t1 & 25 & Private & 226802 & 11th & 7 & Never-married & Machine-op-inspct & $\\dots$ \\\\\n",
       "\t2 & 44 & Private & 160323 & Some-college & 10 & Married-civ-spouse & Machine-op-inspct & $\\dots$ \\\\\n",
       "\t3 & 65 & Private & 184454 & HS-grad & 9 & Married-civ-spouse & Machine-op-inspct & $\\dots$ \\\\\n",
       "\t4 & 48 & Private & 279724 & HS-grad & 9 & Married-civ-spouse & Machine-op-inspct & $\\dots$ \\\\\n",
       "\t5 & 37 & Private & 60548 & HS-grad & 9 & Widowed & Machine-op-inspct & $\\dots$ \\\\\n",
       "\t6 & 23 & Private & 134446 & HS-grad & 9 & Separated & Machine-op-inspct & $\\dots$ \\\\\n",
       "\t7 & 17 & Private & 269430 & 10th & 6 & Never-married & Machine-op-inspct & $\\dots$ \\\\\n",
       "\t8 & 33 & Private & 281384 & HS-grad & 9 & Never-married & Machine-op-inspct & $\\dots$ \\\\\n",
       "\t9 & 30 & Private & 229636 & HS-grad & 9 & Married-civ-spouse & Machine-op-inspct & $\\dots$ \\\\\n",
       "\t10 & 41 & Private & 75012 & HS-grad & 9 & Married-civ-spouse & Machine-op-inspct & $\\dots$ \\\\\n",
       "\t11 & 45 & Self-emp-inc & 67001 & Some-college & 10 & Married-civ-spouse & Machine-op-inspct & $\\dots$ \\\\\n",
       "\t12 & 43 & Private & 170482 & HS-grad & 9 & Separated & Machine-op-inspct & $\\dots$ \\\\\n",
       "\t13 & 36 & Private & 75826 & 10th & 6 & Separated & Machine-op-inspct & $\\dots$ \\\\\n",
       "\t14 & 18 & Private & 179020 & HS-grad & 9 & Never-married & Machine-op-inspct & $\\dots$ \\\\\n",
       "\t15 & 49 & Private & 171128 & 7th-8th & 4 & Married-civ-spouse & Machine-op-inspct & $\\dots$ \\\\\n",
       "\t16 & 33 & Private & 145402 & HS-grad & 9 & Married-civ-spouse & Machine-op-inspct & $\\dots$ \\\\\n",
       "\t17 & 50 & Private & 114564 & 7th-8th & 4 & Married-civ-spouse & Machine-op-inspct & $\\dots$ \\\\\n",
       "\t18 & 24 & Private & 325596 & Assoc-voc & 11 & Married-civ-spouse & Machine-op-inspct & $\\dots$ \\\\\n",
       "\t19 & 40 & Private & 83411 & Some-college & 10 & Married-civ-spouse & Machine-op-inspct & $\\dots$ \\\\\n",
       "\t20 & 37 & Private & 248010 & Some-college & 10 & Married-civ-spouse & Machine-op-inspct & $\\dots$ \\\\\n",
       "\t21 & 23 & Private & 52753 & HS-grad & 9 & Never-married & Machine-op-inspct & $\\dots$ \\\\\n",
       "\t22 & 19 & Private & 355313 & HS-grad & 9 & Never-married & Machine-op-inspct & $\\dots$ \\\\\n",
       "\t23 & 49 & Private & 37306 & HS-grad & 9 & Married-civ-spouse & Machine-op-inspct & $\\dots$ \\\\\n",
       "\t24 & 21 & Private & 447488 & 5th-6th & 3 & Never-married & Machine-op-inspct & $\\dots$ \\\\\n",
       "\t25 & 25 & Private & 77698 & HS-grad & 9 & Never-married & Machine-op-inspct & $\\dots$ \\\\\n",
       "\t26 & 44 & State-gov & 138634 & HS-grad & 9 & Married-civ-spouse & Machine-op-inspct & $\\dots$ \\\\\n",
       "\t27 & 21 & Private & 250939 & Some-college & 10 & Never-married & Machine-op-inspct & $\\dots$ \\\\\n",
       "\t28 & 41 & Private & 171234 & Some-college & 10 & Never-married & Machine-op-inspct & $\\dots$ \\\\\n",
       "\t29 & 22 & Private & 178452 & HS-grad & 9 & Never-married & Machine-op-inspct & $\\dots$ \\\\\n",
       "\t30 & 25 & Private & 236267 & HS-grad & 9 & Never-married & Machine-op-inspct & $\\dots$ \\\\\n",
       "\t$\\dots$ & $\\dots$ & $\\dots$ & $\\dots$ & $\\dots$ & $\\dots$ & $\\dots$ & $\\dots$ &  \\\\\n",
       "\\end{tabular}\n",
       "\n",
       "$\\dots$\n",
       "\n",
       "Last Group (15 rows): occupation = \"Armed-Forces\"\n",
       "\n",
       "\\begin{tabular}{r|cccccccc}\n",
       "\t& age & workclass & fnlwgt & education & education\\_num & marital\\_status & occupation & \\\\\n",
       "\t\\hline\n",
       "\t& Int64 & String31? & Int64 & String15 & Int64 & String31 & String31? & \\\\\n",
       "\t\\hline\n",
       "\t1 & 24 & Federal-gov & 228724 & Some-college & 10 & Never-married & Armed-Forces & $\\dots$ \\\\\n",
       "\t2 & 30 & Federal-gov & 243233 & Some-college & 10 & Married-civ-spouse & Armed-Forces & $\\dots$ \\\\\n",
       "\t3 & 52 & Federal-gov & 165998 & Prof-school & 15 & Married-civ-spouse & Armed-Forces & $\\dots$ \\\\\n",
       "\t4 & 27 & Federal-gov & 190653 & Assoc-voc & 11 & Married-civ-spouse & Armed-Forces & $\\dots$ \\\\\n",
       "\t5 & 44 & Federal-gov & 296858 & Masters & 14 & Married-civ-spouse & Armed-Forces & $\\dots$ \\\\\n",
       "\t6 & 23 & Federal-gov & 190290 & HS-grad & 9 & Never-married & Armed-Forces & $\\dots$ \\\\\n",
       "\t7 & 24 & Federal-gov & 191073 & HS-grad & 9 & Never-married & Armed-Forces & $\\dots$ \\\\\n",
       "\t8 & 29 & Federal-gov & 301010 & Some-college & 10 & Never-married & Armed-Forces & $\\dots$ \\\\\n",
       "\t9 & 39 & Federal-gov & 227597 & HS-grad & 9 & Never-married & Armed-Forces & $\\dots$ \\\\\n",
       "\t10 & 24 & Federal-gov & 287988 & Bachelors & 13 & Never-married & Armed-Forces & $\\dots$ \\\\\n",
       "\t11 & 34 & Federal-gov & 172716 & 12th & 8 & Married-civ-spouse & Armed-Forces & $\\dots$ \\\\\n",
       "\t12 & 23 & Federal-gov & 163870 & Some-college & 10 & Never-married & Armed-Forces & $\\dots$ \\\\\n",
       "\t13 & 30 & Federal-gov & 76313 & HS-grad & 9 & Married-civ-spouse & Armed-Forces & $\\dots$ \\\\\n",
       "\t14 & 46 & Federal-gov & 344415 & Masters & 14 & Married-civ-spouse & Armed-Forces & $\\dots$ \\\\\n",
       "\t15 & 23 & Federal-gov & 173851 & HS-grad & 9 & Never-married & Armed-Forces & $\\dots$ \\\\\n",
       "\\end{tabular}\n"
      ],
      "text/plain": [
       "GroupedDataFrame with 15 groups based on key: occupation\n",
       "First Group (3022 rows): occupation = \"Machine-op-inspct\"\n",
       "\u001b[1m  Row \u001b[0m│\u001b[1m age   \u001b[0m\u001b[1m workclass \u001b[0m\u001b[1m fnlwgt \u001b[0m\u001b[1m education    \u001b[0m\u001b[1m education_num \u001b[0m\u001b[1m marital_status \u001b[0m ⋯\n",
       "      │\u001b[90m Int64 \u001b[0m\u001b[90m String31? \u001b[0m\u001b[90m Int64  \u001b[0m\u001b[90m String15     \u001b[0m\u001b[90m Int64         \u001b[0m\u001b[90m String31       \u001b[0m ⋯\n",
       "──────┼─────────────────────────────────────────────────────────────────────────\n",
       "    1 │    25  Private    226802  11th                      7  Never-married   ⋯\n",
       "    2 │    44  Private    160323  Some-college             10  Married-civ-spo\n",
       "    3 │    65  Private    184454  HS-grad                   9  Married-civ-spo\n",
       "    4 │    48  Private    279724  HS-grad                   9  Married-civ-spo\n",
       "  ⋮   │   ⋮        ⋮        ⋮          ⋮              ⋮                ⋮       ⋱\n",
       " 3020 │    31  Private    292592  HS-grad                   9  Married-civ-spo ⋯\n",
       " 3021 │    43  Private    260761  HS-grad                   9  Married-civ-spo\n",
       " 3022 │    40  Private    154374  HS-grad                   9  Married-civ-spo\n",
       "\u001b[36m                                                10 columns and 3015 rows omitted\u001b[0m\n",
       "⋮\n",
       "Last Group (15 rows): occupation = \"Armed-Forces\"\n",
       "\u001b[1m Row \u001b[0m│\u001b[1m age   \u001b[0m\u001b[1m workclass   \u001b[0m\u001b[1m fnlwgt \u001b[0m\u001b[1m education    \u001b[0m\u001b[1m education_num \u001b[0m\u001b[1m marital_status\u001b[0m ⋯\n",
       "     │\u001b[90m Int64 \u001b[0m\u001b[90m String31?   \u001b[0m\u001b[90m Int64  \u001b[0m\u001b[90m String15     \u001b[0m\u001b[90m Int64         \u001b[0m\u001b[90m String31      \u001b[0m ⋯\n",
       "─────┼──────────────────────────────────────────────────────────────────────────\n",
       "   1 │    24  Federal-gov  228724  Some-college             10  Never-married  ⋯\n",
       "   2 │    30  Federal-gov  243233  Some-college             10  Married-civ-sp\n",
       "   3 │    52  Federal-gov  165998  Prof-school              15  Married-civ-sp\n",
       "  ⋮  │   ⋮         ⋮         ⋮          ⋮              ⋮                ⋮      ⋱\n",
       "  13 │    30  Federal-gov   76313  HS-grad                   9  Married-civ-sp\n",
       "  14 │    46  Federal-gov  344415  Masters                  14  Married-civ-sp ⋯\n",
       "  15 │    23  Federal-gov  173851  HS-grad                   9  Never-married\n",
       "\u001b[36m                                                   10 columns and 9 rows omitted\u001b[0m"
      ]
     },
     "execution_count": 135,
     "metadata": {},
     "output_type": "execute_result"
    }
   ],
   "source": [
    "groupby(df, :occupation)"
   ]
  },
  {
   "cell_type": "code",
   "execution_count": 137,
   "id": "dbd03831-f3ee-49fc-96f1-1595924f758a",
   "metadata": {},
   "outputs": [
    {
     "data": {
      "text/html": [
       "<p><b>GroupedDataFrame with 30 groups based on keys: occupation, class</b></p><div><div style = \"float: left;\"><span>First Group (2650 rows): occupation = &quot;Machine-op-inspct&quot;, class = &quot;&lt;=50K&quot;</span></div><div style = \"float: right;\"><span style = \"font-style: italic;\">2625 rows omitted</span></div><div style = \"clear: both;\"></div></div><div class = \"data-frame\" style = \"overflow-x: scroll;\"><table class = \"data-frame\" style = \"margin-bottom: 6px;\"><thead><tr class = \"header\"><th class = \"rowNumber\" style = \"font-weight: bold; text-align: right;\">Row</th><th style = \"text-align: left;\">age</th><th style = \"text-align: left;\">workclass</th><th style = \"text-align: left;\">fnlwgt</th><th style = \"text-align: left;\">education</th><th style = \"text-align: left;\">education_num</th><th style = \"text-align: left;\">marital_status</th><th style = \"text-align: left;\">occupation</th><th style = \"text-align: left;\">relationship</th><th style = \"text-align: left;\">race</th><th style = \"text-align: left;\">sex</th><th style = \"text-align: left;\">capital_gain</th><th style = \"text-align: left;\">capital_loss</th><th style = \"text-align: left;\">hours_per_week</th><th style = \"text-align: left;\">native_country</th><th style = \"text-align: left;\">class</th></tr><tr class = \"subheader headerLastRow\"><th class = \"rowNumber\" style = \"font-weight: bold; text-align: right;\"></th><th title = \"Int64\" style = \"text-align: left;\">Int64</th><th title = \"Union{Missing, String31}\" style = \"text-align: left;\">String31?</th><th title = \"Int64\" style = \"text-align: left;\">Int64</th><th title = \"String15\" style = \"text-align: left;\">String15</th><th title = \"Int64\" style = \"text-align: left;\">Int64</th><th title = \"String31\" style = \"text-align: left;\">String31</th><th title = \"Union{Missing, String31}\" style = \"text-align: left;\">String31?</th><th title = \"String15\" style = \"text-align: left;\">String15</th><th title = \"String31\" style = \"text-align: left;\">String31</th><th title = \"String7\" style = \"text-align: left;\">String7</th><th title = \"Int64\" style = \"text-align: left;\">Int64</th><th title = \"Int64\" style = \"text-align: left;\">Int64</th><th title = \"Int64\" style = \"text-align: left;\">Int64</th><th title = \"Union{Missing, String31}\" style = \"text-align: left;\">String31?</th><th title = \"String7\" style = \"text-align: left;\">String7</th></tr></thead><tbody><tr><td class = \"rowNumber\" style = \"font-weight: bold; text-align: right;\">1</td><td style = \"text-align: right;\">25</td><td style = \"text-align: left;\">Private</td><td style = \"text-align: right;\">226802</td><td style = \"text-align: left;\">11th</td><td style = \"text-align: right;\">7</td><td style = \"text-align: left;\">Never-married</td><td style = \"text-align: left;\">Machine-op-inspct</td><td style = \"text-align: left;\">Own-child</td><td style = \"text-align: left;\">Black</td><td style = \"text-align: left;\">Male</td><td style = \"text-align: right;\">0</td><td style = \"text-align: right;\">0</td><td style = \"text-align: right;\">40</td><td style = \"text-align: left;\">United-States</td><td style = \"text-align: left;\">&lt;=50K</td></tr><tr><td class = \"rowNumber\" style = \"font-weight: bold; text-align: right;\">2</td><td style = \"text-align: right;\">37</td><td style = \"text-align: left;\">Private</td><td style = \"text-align: right;\">60548</td><td style = \"text-align: left;\">HS-grad</td><td style = \"text-align: right;\">9</td><td style = \"text-align: left;\">Widowed</td><td style = \"text-align: left;\">Machine-op-inspct</td><td style = \"text-align: left;\">Unmarried</td><td style = \"text-align: left;\">White</td><td style = \"text-align: left;\">Female</td><td style = \"text-align: right;\">0</td><td style = \"text-align: right;\">0</td><td style = \"text-align: right;\">20</td><td style = \"text-align: left;\">United-States</td><td style = \"text-align: left;\">&lt;=50K</td></tr><tr><td class = \"rowNumber\" style = \"font-weight: bold; text-align: right;\">3</td><td style = \"text-align: right;\">23</td><td style = \"text-align: left;\">Private</td><td style = \"text-align: right;\">134446</td><td style = \"text-align: left;\">HS-grad</td><td style = \"text-align: right;\">9</td><td style = \"text-align: left;\">Separated</td><td style = \"text-align: left;\">Machine-op-inspct</td><td style = \"text-align: left;\">Unmarried</td><td style = \"text-align: left;\">Black</td><td style = \"text-align: left;\">Male</td><td style = \"text-align: right;\">0</td><td style = \"text-align: right;\">0</td><td style = \"text-align: right;\">54</td><td style = \"text-align: left;\">United-States</td><td style = \"text-align: left;\">&lt;=50K</td></tr><tr><td class = \"rowNumber\" style = \"font-weight: bold; text-align: right;\">4</td><td style = \"text-align: right;\">17</td><td style = \"text-align: left;\">Private</td><td style = \"text-align: right;\">269430</td><td style = \"text-align: left;\">10th</td><td style = \"text-align: right;\">6</td><td style = \"text-align: left;\">Never-married</td><td style = \"text-align: left;\">Machine-op-inspct</td><td style = \"text-align: left;\">Not-in-family</td><td style = \"text-align: left;\">White</td><td style = \"text-align: left;\">Male</td><td style = \"text-align: right;\">0</td><td style = \"text-align: right;\">0</td><td style = \"text-align: right;\">40</td><td style = \"text-align: left;\">United-States</td><td style = \"text-align: left;\">&lt;=50K</td></tr><tr><td class = \"rowNumber\" style = \"font-weight: bold; text-align: right;\">5</td><td style = \"text-align: right;\">33</td><td style = \"text-align: left;\">Private</td><td style = \"text-align: right;\">281384</td><td style = \"text-align: left;\">HS-grad</td><td style = \"text-align: right;\">9</td><td style = \"text-align: left;\">Never-married</td><td style = \"text-align: left;\">Machine-op-inspct</td><td style = \"text-align: left;\">Own-child</td><td style = \"text-align: left;\">White</td><td style = \"text-align: left;\">Female</td><td style = \"text-align: right;\">0</td><td style = \"text-align: right;\">0</td><td style = \"text-align: right;\">40</td><td style = \"text-align: left;\">United-States</td><td style = \"text-align: left;\">&lt;=50K</td></tr><tr><td class = \"rowNumber\" style = \"font-weight: bold; text-align: right;\">6</td><td style = \"text-align: right;\">30</td><td style = \"text-align: left;\">Private</td><td style = \"text-align: right;\">229636</td><td style = \"text-align: left;\">HS-grad</td><td style = \"text-align: right;\">9</td><td style = \"text-align: left;\">Married-civ-spouse</td><td style = \"text-align: left;\">Machine-op-inspct</td><td style = \"text-align: left;\">Husband</td><td style = \"text-align: left;\">White</td><td style = \"text-align: left;\">Male</td><td style = \"text-align: right;\">0</td><td style = \"text-align: right;\">0</td><td style = \"text-align: right;\">40</td><td style = \"text-align: left;\">Mexico</td><td style = \"text-align: left;\">&lt;=50K</td></tr><tr><td class = \"rowNumber\" style = \"font-weight: bold; text-align: right;\">7</td><td style = \"text-align: right;\">41</td><td style = \"text-align: left;\">Private</td><td style = \"text-align: right;\">75012</td><td style = \"text-align: left;\">HS-grad</td><td style = \"text-align: right;\">9</td><td style = \"text-align: left;\">Married-civ-spouse</td><td style = \"text-align: left;\">Machine-op-inspct</td><td style = \"text-align: left;\">Husband</td><td style = \"text-align: left;\">White</td><td style = \"text-align: left;\">Male</td><td style = \"text-align: right;\">0</td><td style = \"text-align: right;\">0</td><td style = \"text-align: right;\">50</td><td style = \"text-align: left;\">United-States</td><td style = \"text-align: left;\">&lt;=50K</td></tr><tr><td class = \"rowNumber\" style = \"font-weight: bold; text-align: right;\">8</td><td style = \"text-align: right;\">45</td><td style = \"text-align: left;\">Self-emp-inc</td><td style = \"text-align: right;\">67001</td><td style = \"text-align: left;\">Some-college</td><td style = \"text-align: right;\">10</td><td style = \"text-align: left;\">Married-civ-spouse</td><td style = \"text-align: left;\">Machine-op-inspct</td><td style = \"text-align: left;\">Husband</td><td style = \"text-align: left;\">White</td><td style = \"text-align: left;\">Male</td><td style = \"text-align: right;\">0</td><td style = \"text-align: right;\">0</td><td style = \"text-align: right;\">50</td><td style = \"text-align: left;\">United-States</td><td style = \"text-align: left;\">&lt;=50K</td></tr><tr><td class = \"rowNumber\" style = \"font-weight: bold; text-align: right;\">9</td><td style = \"text-align: right;\">43</td><td style = \"text-align: left;\">Private</td><td style = \"text-align: right;\">170482</td><td style = \"text-align: left;\">HS-grad</td><td style = \"text-align: right;\">9</td><td style = \"text-align: left;\">Separated</td><td style = \"text-align: left;\">Machine-op-inspct</td><td style = \"text-align: left;\">Not-in-family</td><td style = \"text-align: left;\">White</td><td style = \"text-align: left;\">Female</td><td style = \"text-align: right;\">0</td><td style = \"text-align: right;\">0</td><td style = \"text-align: right;\">44</td><td style = \"text-align: left;\">United-States</td><td style = \"text-align: left;\">&lt;=50K</td></tr><tr><td class = \"rowNumber\" style = \"font-weight: bold; text-align: right;\">10</td><td style = \"text-align: right;\">36</td><td style = \"text-align: left;\">Private</td><td style = \"text-align: right;\">75826</td><td style = \"text-align: left;\">10th</td><td style = \"text-align: right;\">6</td><td style = \"text-align: left;\">Separated</td><td style = \"text-align: left;\">Machine-op-inspct</td><td style = \"text-align: left;\">Not-in-family</td><td style = \"text-align: left;\">White</td><td style = \"text-align: left;\">Female</td><td style = \"text-align: right;\">0</td><td style = \"text-align: right;\">0</td><td style = \"text-align: right;\">40</td><td style = \"text-align: left;\">United-States</td><td style = \"text-align: left;\">&lt;=50K</td></tr><tr><td class = \"rowNumber\" style = \"font-weight: bold; text-align: right;\">11</td><td style = \"text-align: right;\">18</td><td style = \"text-align: left;\">Private</td><td style = \"text-align: right;\">179020</td><td style = \"text-align: left;\">HS-grad</td><td style = \"text-align: right;\">9</td><td style = \"text-align: left;\">Never-married</td><td style = \"text-align: left;\">Machine-op-inspct</td><td style = \"text-align: left;\">Own-child</td><td style = \"text-align: left;\">White</td><td style = \"text-align: left;\">Female</td><td style = \"text-align: right;\">0</td><td style = \"text-align: right;\">0</td><td style = \"text-align: right;\">48</td><td style = \"text-align: left;\">United-States</td><td style = \"text-align: left;\">&lt;=50K</td></tr><tr><td class = \"rowNumber\" style = \"font-weight: bold; text-align: right;\">12</td><td style = \"text-align: right;\">49</td><td style = \"text-align: left;\">Private</td><td style = \"text-align: right;\">171128</td><td style = \"text-align: left;\">7th-8th</td><td style = \"text-align: right;\">4</td><td style = \"text-align: left;\">Married-civ-spouse</td><td style = \"text-align: left;\">Machine-op-inspct</td><td style = \"text-align: left;\">Husband</td><td style = \"text-align: left;\">Black</td><td style = \"text-align: left;\">Male</td><td style = \"text-align: right;\">0</td><td style = \"text-align: right;\">0</td><td style = \"text-align: right;\">40</td><td style = \"text-align: left;\">United-States</td><td style = \"text-align: left;\">&lt;=50K</td></tr><tr><td class = \"rowNumber\" style = \"font-weight: bold; text-align: right;\">13</td><td style = \"text-align: right;\">33</td><td style = \"text-align: left;\">Private</td><td style = \"text-align: right;\">145402</td><td style = \"text-align: left;\">HS-grad</td><td style = \"text-align: right;\">9</td><td style = \"text-align: left;\">Married-civ-spouse</td><td style = \"text-align: left;\">Machine-op-inspct</td><td style = \"text-align: left;\">Wife</td><td style = \"text-align: left;\">White</td><td style = \"text-align: left;\">Female</td><td style = \"text-align: right;\">0</td><td style = \"text-align: right;\">0</td><td style = \"text-align: right;\">35</td><td style = \"text-align: left;\">United-States</td><td style = \"text-align: left;\">&lt;=50K</td></tr><tr><td style = \"text-align: right;\">&vellip;</td><td style = \"text-align: right;\">&vellip;</td><td style = \"text-align: right;\">&vellip;</td><td style = \"text-align: right;\">&vellip;</td><td style = \"text-align: right;\">&vellip;</td><td style = \"text-align: right;\">&vellip;</td><td style = \"text-align: right;\">&vellip;</td><td style = \"text-align: right;\">&vellip;</td><td style = \"text-align: right;\">&vellip;</td><td style = \"text-align: right;\">&vellip;</td><td style = \"text-align: right;\">&vellip;</td><td style = \"text-align: right;\">&vellip;</td><td style = \"text-align: right;\">&vellip;</td><td style = \"text-align: right;\">&vellip;</td><td style = \"text-align: right;\">&vellip;</td><td style = \"text-align: right;\">&vellip;</td></tr><tr><td class = \"rowNumber\" style = \"font-weight: bold; text-align: right;\">2639</td><td style = \"text-align: right;\">48</td><td style = \"text-align: left;\">Private</td><td style = \"text-align: right;\">325372</td><td style = \"text-align: left;\">1st-4th</td><td style = \"text-align: right;\">2</td><td style = \"text-align: left;\">Married-civ-spouse</td><td style = \"text-align: left;\">Machine-op-inspct</td><td style = \"text-align: left;\">Husband</td><td style = \"text-align: left;\">White</td><td style = \"text-align: left;\">Male</td><td style = \"text-align: right;\">0</td><td style = \"text-align: right;\">0</td><td style = \"text-align: right;\">40</td><td style = \"text-align: left;\">Portugal</td><td style = \"text-align: left;\">&lt;=50K</td></tr><tr><td class = \"rowNumber\" style = \"font-weight: bold; text-align: right;\">2640</td><td style = \"text-align: right;\">45</td><td style = \"text-align: left;\">Private</td><td style = \"text-align: right;\">199590</td><td style = \"text-align: left;\">5th-6th</td><td style = \"text-align: right;\">3</td><td style = \"text-align: left;\">Married-civ-spouse</td><td style = \"text-align: left;\">Machine-op-inspct</td><td style = \"text-align: left;\">Husband</td><td style = \"text-align: left;\">White</td><td style = \"text-align: left;\">Male</td><td style = \"text-align: right;\">0</td><td style = \"text-align: right;\">0</td><td style = \"text-align: right;\">40</td><td style = \"font-style: italic; text-align: left;\">missing</td><td style = \"text-align: left;\">&lt;=50K</td></tr><tr><td class = \"rowNumber\" style = \"font-weight: bold; text-align: right;\">2641</td><td style = \"text-align: right;\">23</td><td style = \"text-align: left;\">Private</td><td style = \"text-align: right;\">180771</td><td style = \"text-align: left;\">1st-4th</td><td style = \"text-align: right;\">2</td><td style = \"text-align: left;\">Married-civ-spouse</td><td style = \"text-align: left;\">Machine-op-inspct</td><td style = \"text-align: left;\">Wife</td><td style = \"text-align: left;\">Amer-Indian-Eskimo</td><td style = \"text-align: left;\">Female</td><td style = \"text-align: right;\">0</td><td style = \"text-align: right;\">0</td><td style = \"text-align: right;\">35</td><td style = \"text-align: left;\">Mexico</td><td style = \"text-align: left;\">&lt;=50K</td></tr><tr><td class = \"rowNumber\" style = \"font-weight: bold; text-align: right;\">2642</td><td style = \"text-align: right;\">51</td><td style = \"text-align: left;\">Private</td><td style = \"text-align: right;\">274502</td><td style = \"text-align: left;\">7th-8th</td><td style = \"text-align: right;\">4</td><td style = \"text-align: left;\">Divorced</td><td style = \"text-align: left;\">Machine-op-inspct</td><td style = \"text-align: left;\">Not-in-family</td><td style = \"text-align: left;\">White</td><td style = \"text-align: left;\">Female</td><td style = \"text-align: right;\">0</td><td style = \"text-align: right;\">0</td><td style = \"text-align: right;\">48</td><td style = \"text-align: left;\">United-States</td><td style = \"text-align: left;\">&lt;=50K</td></tr><tr><td class = \"rowNumber\" style = \"font-weight: bold; text-align: right;\">2643</td><td style = \"text-align: right;\">53</td><td style = \"text-align: left;\">Private</td><td style = \"text-align: right;\">158993</td><td style = \"text-align: left;\">HS-grad</td><td style = \"text-align: right;\">9</td><td style = \"text-align: left;\">Widowed</td><td style = \"text-align: left;\">Machine-op-inspct</td><td style = \"text-align: left;\">Unmarried</td><td style = \"text-align: left;\">Black</td><td style = \"text-align: left;\">Female</td><td style = \"text-align: right;\">0</td><td style = \"text-align: right;\">0</td><td style = \"text-align: right;\">38</td><td style = \"text-align: left;\">United-States</td><td style = \"text-align: left;\">&lt;=50K</td></tr><tr><td class = \"rowNumber\" style = \"font-weight: bold; text-align: right;\">2644</td><td style = \"text-align: right;\">24</td><td style = \"text-align: left;\">Private</td><td style = \"text-align: right;\">284317</td><td style = \"text-align: left;\">Bachelors</td><td style = \"text-align: right;\">13</td><td style = \"text-align: left;\">Never-married</td><td style = \"text-align: left;\">Machine-op-inspct</td><td style = \"text-align: left;\">Not-in-family</td><td style = \"text-align: left;\">White</td><td style = \"text-align: left;\">Female</td><td style = \"text-align: right;\">0</td><td style = \"text-align: right;\">0</td><td style = \"text-align: right;\">32</td><td style = \"text-align: left;\">United-States</td><td style = \"text-align: left;\">&lt;=50K</td></tr><tr><td class = \"rowNumber\" style = \"font-weight: bold; text-align: right;\">2645</td><td style = \"text-align: right;\">28</td><td style = \"text-align: left;\">Private</td><td style = \"text-align: right;\">113987</td><td style = \"text-align: left;\">HS-grad</td><td style = \"text-align: right;\">9</td><td style = \"text-align: left;\">Married-civ-spouse</td><td style = \"text-align: left;\">Machine-op-inspct</td><td style = \"text-align: left;\">Wife</td><td style = \"text-align: left;\">White</td><td style = \"text-align: left;\">Female</td><td style = \"text-align: right;\">0</td><td style = \"text-align: right;\">0</td><td style = \"text-align: right;\">40</td><td style = \"text-align: left;\">United-States</td><td style = \"text-align: left;\">&lt;=50K</td></tr><tr><td class = \"rowNumber\" style = \"font-weight: bold; text-align: right;\">2646</td><td style = \"text-align: right;\">24</td><td style = \"text-align: left;\">Private</td><td style = \"text-align: right;\">381895</td><td style = \"text-align: left;\">11th</td><td style = \"text-align: right;\">7</td><td style = \"text-align: left;\">Divorced</td><td style = \"text-align: left;\">Machine-op-inspct</td><td style = \"text-align: left;\">Unmarried</td><td style = \"text-align: left;\">White</td><td style = \"text-align: left;\">Female</td><td style = \"text-align: right;\">0</td><td style = \"text-align: right;\">0</td><td style = \"text-align: right;\">40</td><td style = \"text-align: left;\">United-States</td><td style = \"text-align: left;\">&lt;=50K</td></tr><tr><td class = \"rowNumber\" style = \"font-weight: bold; text-align: right;\">2647</td><td style = \"text-align: right;\">20</td><td style = \"text-align: left;\">Private</td><td style = \"text-align: right;\">270436</td><td style = \"text-align: left;\">HS-grad</td><td style = \"text-align: right;\">9</td><td style = \"text-align: left;\">Never-married</td><td style = \"text-align: left;\">Machine-op-inspct</td><td style = \"text-align: left;\">Own-child</td><td style = \"text-align: left;\">White</td><td style = \"text-align: left;\">Male</td><td style = \"text-align: right;\">0</td><td style = \"text-align: right;\">0</td><td style = \"text-align: right;\">40</td><td style = \"text-align: left;\">United-States</td><td style = \"text-align: left;\">&lt;=50K</td></tr><tr><td class = \"rowNumber\" style = \"font-weight: bold; text-align: right;\">2648</td><td style = \"text-align: right;\">26</td><td style = \"text-align: left;\">Private</td><td style = \"text-align: right;\">191648</td><td style = \"text-align: left;\">Assoc-acdm</td><td style = \"text-align: right;\">12</td><td style = \"text-align: left;\">Never-married</td><td style = \"text-align: left;\">Machine-op-inspct</td><td style = \"text-align: left;\">Other-relative</td><td style = \"text-align: left;\">White</td><td style = \"text-align: left;\">Female</td><td style = \"text-align: right;\">0</td><td style = \"text-align: right;\">0</td><td style = \"text-align: right;\">15</td><td style = \"text-align: left;\">United-States</td><td style = \"text-align: left;\">&lt;=50K</td></tr><tr><td class = \"rowNumber\" style = \"font-weight: bold; text-align: right;\">2649</td><td style = \"text-align: right;\">31</td><td style = \"text-align: left;\">Private</td><td style = \"text-align: right;\">292592</td><td style = \"text-align: left;\">HS-grad</td><td style = \"text-align: right;\">9</td><td style = \"text-align: left;\">Married-civ-spouse</td><td style = \"text-align: left;\">Machine-op-inspct</td><td style = \"text-align: left;\">Wife</td><td style = \"text-align: left;\">White</td><td style = \"text-align: left;\">Female</td><td style = \"text-align: right;\">0</td><td style = \"text-align: right;\">0</td><td style = \"text-align: right;\">40</td><td style = \"text-align: left;\">United-States</td><td style = \"text-align: left;\">&lt;=50K</td></tr><tr><td class = \"rowNumber\" style = \"font-weight: bold; text-align: right;\">2650</td><td style = \"text-align: right;\">43</td><td style = \"text-align: left;\">Private</td><td style = \"text-align: right;\">260761</td><td style = \"text-align: left;\">HS-grad</td><td style = \"text-align: right;\">9</td><td style = \"text-align: left;\">Married-civ-spouse</td><td style = \"text-align: left;\">Machine-op-inspct</td><td style = \"text-align: left;\">Husband</td><td style = \"text-align: left;\">White</td><td style = \"text-align: left;\">Male</td><td style = \"text-align: right;\">0</td><td style = \"text-align: right;\">0</td><td style = \"text-align: right;\">40</td><td style = \"text-align: left;\">Mexico</td><td style = \"text-align: left;\">&lt;=50K</td></tr></tbody></table></div><p>&vellip;</p><div><div style = \"float: left;\"><span>Last Group (5 rows): occupation = &quot;Armed-Forces&quot;, class = &quot;&gt;50K&quot;</span></div><div style = \"clear: both;\"></div></div><div class = \"data-frame\" style = \"overflow-x: scroll;\"><table class = \"data-frame\" style = \"margin-bottom: 6px;\"><thead><tr class = \"header\"><th class = \"rowNumber\" style = \"font-weight: bold; text-align: right;\">Row</th><th style = \"text-align: left;\">age</th><th style = \"text-align: left;\">workclass</th><th style = \"text-align: left;\">fnlwgt</th><th style = \"text-align: left;\">education</th><th style = \"text-align: left;\">education_num</th><th style = \"text-align: left;\">marital_status</th><th style = \"text-align: left;\">occupation</th><th style = \"text-align: left;\">relationship</th><th style = \"text-align: left;\">race</th><th style = \"text-align: left;\">sex</th><th style = \"text-align: left;\">capital_gain</th><th style = \"text-align: left;\">capital_loss</th><th style = \"text-align: left;\">hours_per_week</th><th style = \"text-align: left;\">native_country</th><th style = \"text-align: left;\">class</th></tr><tr class = \"subheader headerLastRow\"><th class = \"rowNumber\" style = \"font-weight: bold; text-align: right;\"></th><th title = \"Int64\" style = \"text-align: left;\">Int64</th><th title = \"Union{Missing, String31}\" style = \"text-align: left;\">String31?</th><th title = \"Int64\" style = \"text-align: left;\">Int64</th><th title = \"String15\" style = \"text-align: left;\">String15</th><th title = \"Int64\" style = \"text-align: left;\">Int64</th><th title = \"String31\" style = \"text-align: left;\">String31</th><th title = \"Union{Missing, String31}\" style = \"text-align: left;\">String31?</th><th title = \"String15\" style = \"text-align: left;\">String15</th><th title = \"String31\" style = \"text-align: left;\">String31</th><th title = \"String7\" style = \"text-align: left;\">String7</th><th title = \"Int64\" style = \"text-align: left;\">Int64</th><th title = \"Int64\" style = \"text-align: left;\">Int64</th><th title = \"Int64\" style = \"text-align: left;\">Int64</th><th title = \"Union{Missing, String31}\" style = \"text-align: left;\">String31?</th><th title = \"String7\" style = \"text-align: left;\">String7</th></tr></thead><tbody><tr><td class = \"rowNumber\" style = \"font-weight: bold; text-align: right;\">1</td><td style = \"text-align: right;\">30</td><td style = \"text-align: left;\">Federal-gov</td><td style = \"text-align: right;\">243233</td><td style = \"text-align: left;\">Some-college</td><td style = \"text-align: right;\">10</td><td style = \"text-align: left;\">Married-civ-spouse</td><td style = \"text-align: left;\">Armed-Forces</td><td style = \"text-align: left;\">Husband</td><td style = \"text-align: left;\">White</td><td style = \"text-align: left;\">Male</td><td style = \"text-align: right;\">0</td><td style = \"text-align: right;\">0</td><td style = \"text-align: right;\">48</td><td style = \"text-align: left;\">United-States</td><td style = \"text-align: left;\">&gt;50K</td></tr><tr><td class = \"rowNumber\" style = \"font-weight: bold; text-align: right;\">2</td><td style = \"text-align: right;\">52</td><td style = \"text-align: left;\">Federal-gov</td><td style = \"text-align: right;\">165998</td><td style = \"text-align: left;\">Prof-school</td><td style = \"text-align: right;\">15</td><td style = \"text-align: left;\">Married-civ-spouse</td><td style = \"text-align: left;\">Armed-Forces</td><td style = \"text-align: left;\">Husband</td><td style = \"text-align: left;\">White</td><td style = \"text-align: left;\">Male</td><td style = \"text-align: right;\">7298</td><td style = \"text-align: right;\">0</td><td style = \"text-align: right;\">50</td><td style = \"text-align: left;\">United-States</td><td style = \"text-align: left;\">&gt;50K</td></tr><tr><td class = \"rowNumber\" style = \"font-weight: bold; text-align: right;\">3</td><td style = \"text-align: right;\">27</td><td style = \"text-align: left;\">Federal-gov</td><td style = \"text-align: right;\">190653</td><td style = \"text-align: left;\">Assoc-voc</td><td style = \"text-align: right;\">11</td><td style = \"text-align: left;\">Married-civ-spouse</td><td style = \"text-align: left;\">Armed-Forces</td><td style = \"text-align: left;\">Husband</td><td style = \"text-align: left;\">White</td><td style = \"text-align: left;\">Male</td><td style = \"text-align: right;\">0</td><td style = \"text-align: right;\">0</td><td style = \"text-align: right;\">40</td><td style = \"font-style: italic; text-align: left;\">missing</td><td style = \"text-align: left;\">&gt;50K</td></tr><tr><td class = \"rowNumber\" style = \"font-weight: bold; text-align: right;\">4</td><td style = \"text-align: right;\">44</td><td style = \"text-align: left;\">Federal-gov</td><td style = \"text-align: right;\">296858</td><td style = \"text-align: left;\">Masters</td><td style = \"text-align: right;\">14</td><td style = \"text-align: left;\">Married-civ-spouse</td><td style = \"text-align: left;\">Armed-Forces</td><td style = \"text-align: left;\">Husband</td><td style = \"text-align: left;\">White</td><td style = \"text-align: left;\">Male</td><td style = \"text-align: right;\">0</td><td style = \"text-align: right;\">0</td><td style = \"text-align: right;\">40</td><td style = \"text-align: left;\">United-States</td><td style = \"text-align: left;\">&gt;50K</td></tr><tr><td class = \"rowNumber\" style = \"font-weight: bold; text-align: right;\">5</td><td style = \"text-align: right;\">46</td><td style = \"text-align: left;\">Federal-gov</td><td style = \"text-align: right;\">344415</td><td style = \"text-align: left;\">Masters</td><td style = \"text-align: right;\">14</td><td style = \"text-align: left;\">Married-civ-spouse</td><td style = \"text-align: left;\">Armed-Forces</td><td style = \"text-align: left;\">Husband</td><td style = \"text-align: left;\">White</td><td style = \"text-align: left;\">Male</td><td style = \"text-align: right;\">0</td><td style = \"text-align: right;\">1887</td><td style = \"text-align: right;\">40</td><td style = \"text-align: left;\">United-States</td><td style = \"text-align: left;\">&gt;50K</td></tr></tbody></table></div>"
      ],
      "text/latex": [
       "GroupedDataFrame with 30 groups based on keys: occupation, class\n",
       "\n",
       "First Group (2650 rows): occupation = \"Machine-op-inspct\", class = \"<=50K\"\n",
       "\n",
       "\\begin{tabular}{r|cccccccc}\n",
       "\t& age & workclass & fnlwgt & education & education\\_num & marital\\_status & occupation & \\\\\n",
       "\t\\hline\n",
       "\t& Int64 & String31? & Int64 & String15 & Int64 & String31 & String31? & \\\\\n",
       "\t\\hline\n",
       "\t1 & 25 & Private & 226802 & 11th & 7 & Never-married & Machine-op-inspct & $\\dots$ \\\\\n",
       "\t2 & 37 & Private & 60548 & HS-grad & 9 & Widowed & Machine-op-inspct & $\\dots$ \\\\\n",
       "\t3 & 23 & Private & 134446 & HS-grad & 9 & Separated & Machine-op-inspct & $\\dots$ \\\\\n",
       "\t4 & 17 & Private & 269430 & 10th & 6 & Never-married & Machine-op-inspct & $\\dots$ \\\\\n",
       "\t5 & 33 & Private & 281384 & HS-grad & 9 & Never-married & Machine-op-inspct & $\\dots$ \\\\\n",
       "\t6 & 30 & Private & 229636 & HS-grad & 9 & Married-civ-spouse & Machine-op-inspct & $\\dots$ \\\\\n",
       "\t7 & 41 & Private & 75012 & HS-grad & 9 & Married-civ-spouse & Machine-op-inspct & $\\dots$ \\\\\n",
       "\t8 & 45 & Self-emp-inc & 67001 & Some-college & 10 & Married-civ-spouse & Machine-op-inspct & $\\dots$ \\\\\n",
       "\t9 & 43 & Private & 170482 & HS-grad & 9 & Separated & Machine-op-inspct & $\\dots$ \\\\\n",
       "\t10 & 36 & Private & 75826 & 10th & 6 & Separated & Machine-op-inspct & $\\dots$ \\\\\n",
       "\t11 & 18 & Private & 179020 & HS-grad & 9 & Never-married & Machine-op-inspct & $\\dots$ \\\\\n",
       "\t12 & 49 & Private & 171128 & 7th-8th & 4 & Married-civ-spouse & Machine-op-inspct & $\\dots$ \\\\\n",
       "\t13 & 33 & Private & 145402 & HS-grad & 9 & Married-civ-spouse & Machine-op-inspct & $\\dots$ \\\\\n",
       "\t14 & 50 & Private & 114564 & 7th-8th & 4 & Married-civ-spouse & Machine-op-inspct & $\\dots$ \\\\\n",
       "\t15 & 24 & Private & 325596 & Assoc-voc & 11 & Married-civ-spouse & Machine-op-inspct & $\\dots$ \\\\\n",
       "\t16 & 40 & Private & 83411 & Some-college & 10 & Married-civ-spouse & Machine-op-inspct & $\\dots$ \\\\\n",
       "\t17 & 23 & Private & 52753 & HS-grad & 9 & Never-married & Machine-op-inspct & $\\dots$ \\\\\n",
       "\t18 & 19 & Private & 355313 & HS-grad & 9 & Never-married & Machine-op-inspct & $\\dots$ \\\\\n",
       "\t19 & 49 & Private & 37306 & HS-grad & 9 & Married-civ-spouse & Machine-op-inspct & $\\dots$ \\\\\n",
       "\t20 & 21 & Private & 447488 & 5th-6th & 3 & Never-married & Machine-op-inspct & $\\dots$ \\\\\n",
       "\t21 & 25 & Private & 77698 & HS-grad & 9 & Never-married & Machine-op-inspct & $\\dots$ \\\\\n",
       "\t22 & 44 & State-gov & 138634 & HS-grad & 9 & Married-civ-spouse & Machine-op-inspct & $\\dots$ \\\\\n",
       "\t23 & 21 & Private & 250939 & Some-college & 10 & Never-married & Machine-op-inspct & $\\dots$ \\\\\n",
       "\t24 & 41 & Private & 171234 & Some-college & 10 & Never-married & Machine-op-inspct & $\\dots$ \\\\\n",
       "\t25 & 22 & Private & 178452 & HS-grad & 9 & Never-married & Machine-op-inspct & $\\dots$ \\\\\n",
       "\t26 & 25 & Private & 236267 & HS-grad & 9 & Never-married & Machine-op-inspct & $\\dots$ \\\\\n",
       "\t27 & 30 & Private & 238186 & HS-grad & 9 & Married-civ-spouse & Machine-op-inspct & $\\dots$ \\\\\n",
       "\t28 & 52 & Private & 55608 & 1st-4th & 2 & Married-civ-spouse & Machine-op-inspct & $\\dots$ \\\\\n",
       "\t29 & 37 & Private & 79586 & HS-grad & 9 & Separated & Machine-op-inspct & $\\dots$ \\\\\n",
       "\t30 & 43 & Private & 51494 & HS-grad & 9 & Married-civ-spouse & Machine-op-inspct & $\\dots$ \\\\\n",
       "\t$\\dots$ & $\\dots$ & $\\dots$ & $\\dots$ & $\\dots$ & $\\dots$ & $\\dots$ & $\\dots$ &  \\\\\n",
       "\\end{tabular}\n",
       "\n",
       "$\\dots$\n",
       "\n",
       "Last Group (5 rows): occupation = \"Armed-Forces\", class = \">50K\"\n",
       "\n",
       "\\begin{tabular}{r|cccccccc}\n",
       "\t& age & workclass & fnlwgt & education & education\\_num & marital\\_status & occupation & \\\\\n",
       "\t\\hline\n",
       "\t& Int64 & String31? & Int64 & String15 & Int64 & String31 & String31? & \\\\\n",
       "\t\\hline\n",
       "\t1 & 30 & Federal-gov & 243233 & Some-college & 10 & Married-civ-spouse & Armed-Forces & $\\dots$ \\\\\n",
       "\t2 & 52 & Federal-gov & 165998 & Prof-school & 15 & Married-civ-spouse & Armed-Forces & $\\dots$ \\\\\n",
       "\t3 & 27 & Federal-gov & 190653 & Assoc-voc & 11 & Married-civ-spouse & Armed-Forces & $\\dots$ \\\\\n",
       "\t4 & 44 & Federal-gov & 296858 & Masters & 14 & Married-civ-spouse & Armed-Forces & $\\dots$ \\\\\n",
       "\t5 & 46 & Federal-gov & 344415 & Masters & 14 & Married-civ-spouse & Armed-Forces & $\\dots$ \\\\\n",
       "\\end{tabular}\n"
      ],
      "text/plain": [
       "GroupedDataFrame with 30 groups based on keys: occupation, class\n",
       "First Group (2650 rows): occupation = \"Machine-op-inspct\", class = \"<=50K\"\n",
       "\u001b[1m  Row \u001b[0m│\u001b[1m age   \u001b[0m\u001b[1m workclass    \u001b[0m\u001b[1m fnlwgt \u001b[0m\u001b[1m education    \u001b[0m\u001b[1m education_num \u001b[0m\u001b[1m marital_stat\u001b[0m ⋯\n",
       "      │\u001b[90m Int64 \u001b[0m\u001b[90m String31?    \u001b[0m\u001b[90m Int64  \u001b[0m\u001b[90m String15     \u001b[0m\u001b[90m Int64         \u001b[0m\u001b[90m String31    \u001b[0m ⋯\n",
       "──────┼─────────────────────────────────────────────────────────────────────────\n",
       "    1 │    25  Private       226802  11th                      7  Never-marrie ⋯\n",
       "    2 │    37  Private        60548  HS-grad                   9  Widowed\n",
       "    3 │    23  Private       134446  HS-grad                   9  Separated\n",
       "    4 │    17  Private       269430  10th                      6  Never-marrie\n",
       "    5 │    33  Private       281384  HS-grad                   9  Never-marrie ⋯\n",
       "  ⋮   │   ⋮         ⋮          ⋮          ⋮              ⋮                ⋮    ⋱\n",
       " 2646 │    24  Private       381895  11th                      7  Divorced\n",
       " 2647 │    20  Private       270436  HS-grad                   9  Never-marrie\n",
       " 2648 │    26  Private       191648  Assoc-acdm               12  Never-marrie\n",
       " 2649 │    31  Private       292592  HS-grad                   9  Married-civ- ⋯\n",
       " 2650 │    43  Private       260761  HS-grad                   9  Married-civ-\n",
       "\u001b[36m                                                10 columns and 2640 rows omitted\u001b[0m\n",
       "⋮\n",
       "Last Group (5 rows): occupation = \"Armed-Forces\", class = \">50K\"\n",
       "\u001b[1m Row \u001b[0m│\u001b[1m age   \u001b[0m\u001b[1m workclass   \u001b[0m\u001b[1m fnlwgt \u001b[0m\u001b[1m education    \u001b[0m\u001b[1m education_num \u001b[0m\u001b[1m marital_status\u001b[0m ⋯\n",
       "     │\u001b[90m Int64 \u001b[0m\u001b[90m String31?   \u001b[0m\u001b[90m Int64  \u001b[0m\u001b[90m String15     \u001b[0m\u001b[90m Int64         \u001b[0m\u001b[90m String31      \u001b[0m ⋯\n",
       "─────┼──────────────────────────────────────────────────────────────────────────\n",
       "   1 │    30  Federal-gov  243233  Some-college             10  Married-civ-sp ⋯\n",
       "   2 │    52  Federal-gov  165998  Prof-school              15  Married-civ-sp\n",
       "  ⋮  │   ⋮         ⋮         ⋮          ⋮              ⋮                ⋮      ⋱\n",
       "   5 │    46  Federal-gov  344415  Masters                  14  Married-civ-sp\n",
       "\u001b[36m                                                   10 columns and 2 rows omitted\u001b[0m"
      ]
     },
     "execution_count": 137,
     "metadata": {},
     "output_type": "execute_result"
    }
   ],
   "source": [
    "gdf = groupby(df, [:occupation, :class])"
   ]
  },
  {
   "cell_type": "code",
   "execution_count": 139,
   "id": "14c94936-ab29-494d-8112-fc4dae057c55",
   "metadata": {},
   "outputs": [
    {
     "data": {
      "text/plain": [
       "Base.Iterators.Filter{Base.var\"#639#640\"{Base.SkipMissing{GroupedDataFrame{DataFrame}}}, DataFrames.GroupKeys{GroupedDataFrame{DataFrame}}}(Base.var\"#639#640\"{Base.SkipMissing{GroupedDataFrame{DataFrame}}}(skipmissing(GroupedDataFrame with 30 groups based on keys: occupation, class\n",
       "First Group (2650 rows): occupation = \"Machine-op-inspct\", class = \"<=50K\"\n",
       "\u001b[1m  Row \u001b[0m│\u001b[1m age   \u001b[0m\u001b[1m workclass    \u001b[0m\u001b[1m fnlwgt \u001b[0m\u001b[1m education    \u001b[0m\u001b[1m education_num \u001b[0m\u001b[1m marital_stat\u001b[0m ⋯\n",
       "      │\u001b[90m Int64 \u001b[0m\u001b[90m String31?    \u001b[0m\u001b[90m Int64  \u001b[0m\u001b[90m String15     \u001b[0m\u001b[90m Int64         \u001b[0m\u001b[90m String31    \u001b[0m ⋯\n",
       "──────┼─────────────────────────────────────────────────────────────────────────\n",
       "    1 │    25  Private       226802  11th                      7  Never-marrie ⋯\n",
       "    2 │    37  Private        60548  HS-grad                   9  Widowed\n",
       "    3 │    23  Private       134446  HS-grad                   9  Separated\n",
       "    4 │    17  Private       269430  10th                      6  Never-marrie\n",
       "    5 │    33  Private       281384  HS-grad                   9  Never-marrie ⋯\n",
       "  ⋮   │   ⋮         ⋮          ⋮          ⋮              ⋮                ⋮    ⋱\n",
       " 2646 │    24  Private       381895  11th                      7  Divorced\n",
       " 2647 │    20  Private       270436  HS-grad                   9  Never-marrie\n",
       " 2648 │    26  Private       191648  Assoc-acdm               12  Never-marrie\n",
       " 2649 │    31  Private       292592  HS-grad                   9  Married-civ- ⋯\n",
       " 2650 │    43  Private       260761  HS-grad                   9  Married-civ-\n",
       "\u001b[36m                                                10 columns and 2640 rows omitted\u001b[0m\n",
       "⋮\n",
       "Last Group (5 rows): occupation = \"Armed-Forces\", class = \">50K\"\n",
       "\u001b[1m Row \u001b[0m│\u001b[1m age   \u001b[0m\u001b[1m workclass   \u001b[0m\u001b[1m fnlwgt \u001b[0m\u001b[1m education    \u001b[0m\u001b[1m education_num \u001b[0m\u001b[1m marital_status\u001b[0m ⋯\n",
       "     │\u001b[90m Int64 \u001b[0m\u001b[90m String31?   \u001b[0m\u001b[90m Int64  \u001b[0m\u001b[90m String15     \u001b[0m\u001b[90m Int64         \u001b[0m\u001b[90m String31      \u001b[0m ⋯\n",
       "─────┼──────────────────────────────────────────────────────────────────────────\n",
       "   1 │    30  Federal-gov  243233  Some-college             10  Married-civ-sp ⋯\n",
       "   2 │    52  Federal-gov  165998  Prof-school              15  Married-civ-sp\n",
       "  ⋮  │   ⋮         ⋮         ⋮          ⋮              ⋮                ⋮      ⋱\n",
       "   5 │    46  Federal-gov  344415  Masters                  14  Married-civ-sp\n",
       "\u001b[36m                                                   10 columns and 2 rows omitted\u001b[0m)), DataFrames.GroupKey{GroupedDataFrame{DataFrame}}[GroupKey: (occupation = String31(\"Machine-op-inspct\"), class = String7(\"<=50K\")), GroupKey: (occupation = String31(\"Machine-op-inspct\"), class = String7(\">50K\")), GroupKey: (occupation = String31(\"Farming-fishing\"), class = String7(\"<=50K\")), GroupKey: (occupation = String31(\"Farming-fishing\"), class = String7(\">50K\")), GroupKey: (occupation = String31(\"Protective-serv\"), class = String7(\"<=50K\")), GroupKey: (occupation = String31(\"Protective-serv\"), class = String7(\">50K\")), GroupKey: (occupation = missing, class = String7(\"<=50K\")), GroupKey: (occupation = missing, class = String7(\">50K\")), GroupKey: (occupation = String31(\"Other-service\"), class = String7(\"<=50K\")), GroupKey: (occupation = String31(\"Other-service\"), class = String7(\">50K\"))  …  GroupKey: (occupation = String31(\"Sales\"), class = String7(\"<=50K\")), GroupKey: (occupation = String31(\"Sales\"), class = String7(\">50K\")), GroupKey: (occupation = String31(\"Priv-house-serv\"), class = String7(\"<=50K\")), GroupKey: (occupation = String31(\"Priv-house-serv\"), class = String7(\">50K\")), GroupKey: (occupation = String31(\"Transport-moving\"), class = String7(\"<=50K\")), GroupKey: (occupation = String31(\"Transport-moving\"), class = String7(\">50K\")), GroupKey: (occupation = String31(\"Handlers-cleaners\"), class = String7(\"<=50K\")), GroupKey: (occupation = String31(\"Handlers-cleaners\"), class = String7(\">50K\")), GroupKey: (occupation = String31(\"Armed-Forces\"), class = String7(\"<=50K\")), GroupKey: (occupation = String31(\"Armed-Forces\"), class = String7(\">50K\"))])"
      ]
     },
     "execution_count": 139,
     "metadata": {},
     "output_type": "execute_result"
    }
   ],
   "source": [
    "keys(gdf)"
   ]
  },
  {
   "cell_type": "code",
   "execution_count": 140,
   "id": "0206be77-e0d3-49db-8717-ba8cb1f22b09",
   "metadata": {},
   "outputs": [
    {
     "data": {
      "text/html": [
       "<div><div style = \"float: left;\"><span>30×3 DataFrame</span></div><div style = \"float: right;\"><span style = \"font-style: italic;\">5 rows omitted</span></div><div style = \"clear: both;\"></div></div><div class = \"data-frame\" style = \"overflow-x: scroll;\"><table class = \"data-frame\" style = \"margin-bottom: 6px;\"><thead><tr class = \"header\"><th class = \"rowNumber\" style = \"font-weight: bold; text-align: right;\">Row</th><th style = \"text-align: left;\">occupation</th><th style = \"text-align: left;\">class</th><th style = \"text-align: left;\">capital_gain_mean</th></tr><tr class = \"subheader headerLastRow\"><th class = \"rowNumber\" style = \"font-weight: bold; text-align: right;\"></th><th title = \"Union{Missing, String31}\" style = \"text-align: left;\">String31?</th><th title = \"String7\" style = \"text-align: left;\">String7</th><th title = \"Float64\" style = \"text-align: left;\">Float64</th></tr></thead><tbody><tr><td class = \"rowNumber\" style = \"font-weight: bold; text-align: right;\">1</td><td style = \"text-align: left;\">Machine-op-inspct</td><td style = \"text-align: left;\">&lt;=50K</td><td style = \"text-align: right;\">145.704</td></tr><tr><td class = \"rowNumber\" style = \"font-weight: bold; text-align: right;\">2</td><td style = \"text-align: left;\">Machine-op-inspct</td><td style = \"text-align: left;\">&gt;50K</td><td style = \"text-align: right;\">1522.85</td></tr><tr><td class = \"rowNumber\" style = \"font-weight: bold; text-align: right;\">3</td><td style = \"text-align: left;\">Farming-fishing</td><td style = \"text-align: left;\">&lt;=50K</td><td style = \"text-align: right;\">214.17</td></tr><tr><td class = \"rowNumber\" style = \"font-weight: bold; text-align: right;\">4</td><td style = \"text-align: left;\">Farming-fishing</td><td style = \"text-align: left;\">&gt;50K</td><td style = \"text-align: right;\">4535.75</td></tr><tr><td class = \"rowNumber\" style = \"font-weight: bold; text-align: right;\">5</td><td style = \"text-align: left;\">Protective-serv</td><td style = \"text-align: left;\">&lt;=50K</td><td style = \"text-align: right;\">209.824</td></tr><tr><td class = \"rowNumber\" style = \"font-weight: bold; text-align: right;\">6</td><td style = \"text-align: left;\">Protective-serv</td><td style = \"text-align: left;\">&gt;50K</td><td style = \"text-align: right;\">1828.72</td></tr><tr><td class = \"rowNumber\" style = \"font-weight: bold; text-align: right;\">7</td><td style = \"font-style: italic; text-align: left;\">missing</td><td style = \"text-align: left;\">&lt;=50K</td><td style = \"text-align: right;\">133.646</td></tr><tr><td class = \"rowNumber\" style = \"font-weight: bold; text-align: right;\">8</td><td style = \"font-style: italic; text-align: left;\">missing</td><td style = \"text-align: left;\">&gt;50K</td><td style = \"text-align: right;\">4029.25</td></tr><tr><td class = \"rowNumber\" style = \"font-weight: bold; text-align: right;\">9</td><td style = \"text-align: left;\">Other-service</td><td style = \"text-align: left;\">&lt;=50K</td><td style = \"text-align: right;\">93.1875</td></tr><tr><td class = \"rowNumber\" style = \"font-weight: bold; text-align: right;\">10</td><td style = \"text-align: left;\">Other-service</td><td style = \"text-align: left;\">&gt;50K</td><td style = \"text-align: right;\">3084.15</td></tr><tr><td class = \"rowNumber\" style = \"font-weight: bold; text-align: right;\">11</td><td style = \"text-align: left;\">Prof-specialty</td><td style = \"text-align: left;\">&lt;=50K</td><td style = \"text-align: right;\">196.352</td></tr><tr><td class = \"rowNumber\" style = \"font-weight: bold; text-align: right;\">12</td><td style = \"text-align: left;\">Prof-specialty</td><td style = \"text-align: left;\">&gt;50K</td><td style = \"text-align: right;\">5848.62</td></tr><tr><td class = \"rowNumber\" style = \"font-weight: bold; text-align: right;\">13</td><td style = \"text-align: left;\">Craft-repair</td><td style = \"text-align: left;\">&lt;=50K</td><td style = \"text-align: right;\">159.051</td></tr><tr><td style = \"text-align: right;\">&vellip;</td><td style = \"text-align: right;\">&vellip;</td><td style = \"text-align: right;\">&vellip;</td><td style = \"text-align: right;\">&vellip;</td></tr><tr><td class = \"rowNumber\" style = \"font-weight: bold; text-align: right;\">19</td><td style = \"text-align: left;\">Tech-support</td><td style = \"text-align: left;\">&lt;=50K</td><td style = \"text-align: right;\">192.378</td></tr><tr><td class = \"rowNumber\" style = \"font-weight: bold; text-align: right;\">20</td><td style = \"text-align: left;\">Tech-support</td><td style = \"text-align: left;\">&gt;50K</td><td style = \"text-align: right;\">1838.66</td></tr><tr><td class = \"rowNumber\" style = \"font-weight: bold; text-align: right;\">21</td><td style = \"text-align: left;\">Sales</td><td style = \"text-align: left;\">&lt;=50K</td><td style = \"text-align: right;\">124.786</td></tr><tr><td class = \"rowNumber\" style = \"font-weight: bold; text-align: right;\">22</td><td style = \"text-align: left;\">Sales</td><td style = \"text-align: left;\">&gt;50K</td><td style = \"text-align: right;\">4386.61</td></tr><tr><td class = \"rowNumber\" style = \"font-weight: bold; text-align: right;\">23</td><td style = \"text-align: left;\">Priv-house-serv</td><td style = \"text-align: left;\">&lt;=50K</td><td style = \"text-align: right;\">81.8996</td></tr><tr><td class = \"rowNumber\" style = \"font-weight: bold; text-align: right;\">24</td><td style = \"text-align: left;\">Priv-house-serv</td><td style = \"text-align: left;\">&gt;50K</td><td style = \"text-align: right;\">8412.0</td></tr><tr><td class = \"rowNumber\" style = \"font-weight: bold; text-align: right;\">25</td><td style = \"text-align: left;\">Transport-moving</td><td style = \"text-align: left;\">&lt;=50K</td><td style = \"text-align: right;\">146.368</td></tr><tr><td class = \"rowNumber\" style = \"font-weight: bold; text-align: right;\">26</td><td style = \"text-align: left;\">Transport-moving</td><td style = \"text-align: left;\">&gt;50K</td><td style = \"text-align: right;\">1591.57</td></tr><tr><td class = \"rowNumber\" style = \"font-weight: bold; text-align: right;\">27</td><td style = \"text-align: left;\">Handlers-cleaners</td><td style = \"text-align: left;\">&lt;=50K</td><td style = \"text-align: right;\">105.507</td></tr><tr><td class = \"rowNumber\" style = \"font-weight: bold; text-align: right;\">28</td><td style = \"text-align: left;\">Handlers-cleaners</td><td style = \"text-align: left;\">&gt;50K</td><td style = \"text-align: right;\">2776.67</td></tr><tr><td class = \"rowNumber\" style = \"font-weight: bold; text-align: right;\">29</td><td style = \"text-align: left;\">Armed-Forces</td><td style = \"text-align: left;\">&lt;=50K</td><td style = \"text-align: right;\">0.0</td></tr><tr><td class = \"rowNumber\" style = \"font-weight: bold; text-align: right;\">30</td><td style = \"text-align: left;\">Armed-Forces</td><td style = \"text-align: left;\">&gt;50K</td><td style = \"text-align: right;\">1459.6</td></tr></tbody></table></div>"
      ],
      "text/latex": [
       "\\begin{tabular}{r|ccc}\n",
       "\t& occupation & class & capital\\_gain\\_mean\\\\\n",
       "\t\\hline\n",
       "\t& String31? & String7 & Float64\\\\\n",
       "\t\\hline\n",
       "\t1 & Machine-op-inspct & <=50K & 145.704 \\\\\n",
       "\t2 & Machine-op-inspct & >50K & 1522.85 \\\\\n",
       "\t3 & Farming-fishing & <=50K & 214.17 \\\\\n",
       "\t4 & Farming-fishing & >50K & 4535.75 \\\\\n",
       "\t5 & Protective-serv & <=50K & 209.824 \\\\\n",
       "\t6 & Protective-serv & >50K & 1828.72 \\\\\n",
       "\t7 & \\emph{missing} & <=50K & 133.646 \\\\\n",
       "\t8 & \\emph{missing} & >50K & 4029.25 \\\\\n",
       "\t9 & Other-service & <=50K & 93.1875 \\\\\n",
       "\t10 & Other-service & >50K & 3084.15 \\\\\n",
       "\t11 & Prof-specialty & <=50K & 196.352 \\\\\n",
       "\t12 & Prof-specialty & >50K & 5848.62 \\\\\n",
       "\t13 & Craft-repair & <=50K & 159.051 \\\\\n",
       "\t14 & Craft-repair & >50K & 2633.47 \\\\\n",
       "\t15 & Adm-clerical & <=50K & 136.465 \\\\\n",
       "\t16 & Adm-clerical & >50K & 2624.68 \\\\\n",
       "\t17 & Exec-managerial & <=50K & 187.621 \\\\\n",
       "\t18 & Exec-managerial & >50K & 4561.95 \\\\\n",
       "\t19 & Tech-support & <=50K & 192.378 \\\\\n",
       "\t20 & Tech-support & >50K & 1838.66 \\\\\n",
       "\t21 & Sales & <=50K & 124.786 \\\\\n",
       "\t22 & Sales & >50K & 4386.61 \\\\\n",
       "\t23 & Priv-house-serv & <=50K & 81.8996 \\\\\n",
       "\t24 & Priv-house-serv & >50K & 8412.0 \\\\\n",
       "\t25 & Transport-moving & <=50K & 146.368 \\\\\n",
       "\t26 & Transport-moving & >50K & 1591.57 \\\\\n",
       "\t27 & Handlers-cleaners & <=50K & 105.507 \\\\\n",
       "\t28 & Handlers-cleaners & >50K & 2776.67 \\\\\n",
       "\t29 & Armed-Forces & <=50K & 0.0 \\\\\n",
       "\t30 & Armed-Forces & >50K & 1459.6 \\\\\n",
       "\\end{tabular}\n"
      ],
      "text/plain": [
       "\u001b[1m30×3 DataFrame\u001b[0m\n",
       "\u001b[1m Row \u001b[0m│\u001b[1m occupation        \u001b[0m\u001b[1m class   \u001b[0m\u001b[1m capital_gain_mean \u001b[0m\n",
       "     │\u001b[90m String31?         \u001b[0m\u001b[90m String7 \u001b[0m\u001b[90m Float64           \u001b[0m\n",
       "─────┼───────────────────────────────────────────────\n",
       "   1 │ Machine-op-inspct  <=50K             145.704\n",
       "   2 │ Machine-op-inspct  >50K             1522.85\n",
       "   3 │ Farming-fishing    <=50K             214.17\n",
       "   4 │ Farming-fishing    >50K             4535.75\n",
       "   5 │ Protective-serv    <=50K             209.824\n",
       "   6 │ Protective-serv    >50K             1828.72\n",
       "   7 │\u001b[90m missing           \u001b[0m <=50K             133.646\n",
       "   8 │\u001b[90m missing           \u001b[0m >50K             4029.25\n",
       "   9 │ Other-service      <=50K              93.1875\n",
       "  10 │ Other-service      >50K             3084.15\n",
       "  11 │ Prof-specialty     <=50K             196.352\n",
       "  ⋮  │         ⋮             ⋮             ⋮\n",
       "  21 │ Sales              <=50K             124.786\n",
       "  22 │ Sales              >50K             4386.61\n",
       "  23 │ Priv-house-serv    <=50K              81.8996\n",
       "  24 │ Priv-house-serv    >50K             8412.0\n",
       "  25 │ Transport-moving   <=50K             146.368\n",
       "  26 │ Transport-moving   >50K             1591.57\n",
       "  27 │ Handlers-cleaners  <=50K             105.507\n",
       "  28 │ Handlers-cleaners  >50K             2776.67\n",
       "  29 │ Armed-Forces       <=50K               0.0\n",
       "  30 │ Armed-Forces       >50K             1459.6\n",
       "\u001b[36m                                       9 rows omitted\u001b[0m"
      ]
     },
     "execution_count": 140,
     "metadata": {},
     "output_type": "execute_result"
    }
   ],
   "source": [
    "combine(gdf, :capital_gain => mean)"
   ]
  },
  {
   "cell_type": "code",
   "execution_count": 144,
   "id": "5bdc652f-faea-4e0d-bb9f-acf37f51a3e6",
   "metadata": {},
   "outputs": [
    {
     "data": {
      "text/html": [
       "<div><div style = \"float: left;\"><span>30×3 DataFrame</span></div><div style = \"float: right;\"><span style = \"font-style: italic;\">5 rows omitted</span></div><div style = \"clear: both;\"></div></div><div class = \"data-frame\" style = \"overflow-x: scroll;\"><table class = \"data-frame\" style = \"margin-bottom: 6px;\"><thead><tr class = \"header\"><th class = \"rowNumber\" style = \"font-weight: bold; text-align: right;\">Row</th><th style = \"text-align: left;\">occupation</th><th style = \"text-align: left;\">class</th><th style = \"text-align: left;\">capital_gain</th></tr><tr class = \"subheader headerLastRow\"><th class = \"rowNumber\" style = \"font-weight: bold; text-align: right;\"></th><th title = \"Union{Missing, String31}\" style = \"text-align: left;\">String31?</th><th title = \"String7\" style = \"text-align: left;\">String7</th><th title = \"Int64\" style = \"text-align: left;\">Int64</th></tr></thead><tbody><tr><td class = \"rowNumber\" style = \"font-weight: bold; text-align: right;\">1</td><td style = \"text-align: left;\">Machine-op-inspct</td><td style = \"text-align: left;\">&lt;=50K</td><td style = \"text-align: right;\">386116</td></tr><tr><td class = \"rowNumber\" style = \"font-weight: bold; text-align: right;\">2</td><td style = \"text-align: left;\">Machine-op-inspct</td><td style = \"text-align: left;\">&gt;50K</td><td style = \"text-align: right;\">566502</td></tr><tr><td class = \"rowNumber\" style = \"font-weight: bold; text-align: right;\">3</td><td style = \"text-align: left;\">Farming-fishing</td><td style = \"text-align: left;\">&lt;=50K</td><td style = \"text-align: right;\">282062</td></tr><tr><td class = \"rowNumber\" style = \"font-weight: bold; text-align: right;\">4</td><td style = \"text-align: left;\">Farming-fishing</td><td style = \"text-align: left;\">&gt;50K</td><td style = \"text-align: right;\">784685</td></tr><tr><td class = \"rowNumber\" style = \"font-weight: bold; text-align: right;\">5</td><td style = \"text-align: left;\">Protective-serv</td><td style = \"text-align: left;\">&lt;=50K</td><td style = \"text-align: right;\">141631</td></tr><tr><td class = \"rowNumber\" style = \"font-weight: bold; text-align: right;\">6</td><td style = \"text-align: left;\">Protective-serv</td><td style = \"text-align: left;\">&gt;50K</td><td style = \"text-align: right;\">563245</td></tr><tr><td class = \"rowNumber\" style = \"font-weight: bold; text-align: right;\">7</td><td style = \"font-style: italic; text-align: left;\">missing</td><td style = \"text-align: left;\">&lt;=50K</td><td style = \"text-align: right;\">339996</td></tr><tr><td class = \"rowNumber\" style = \"font-weight: bold; text-align: right;\">8</td><td style = \"font-style: italic; text-align: left;\">missing</td><td style = \"text-align: left;\">&gt;50K</td><td style = \"text-align: right;\">1067750</td></tr><tr><td class = \"rowNumber\" style = \"font-weight: bold; text-align: right;\">9</td><td style = \"text-align: left;\">Other-service</td><td style = \"text-align: left;\">&lt;=50K</td><td style = \"text-align: right;\">439752</td></tr><tr><td class = \"rowNumber\" style = \"font-weight: bold; text-align: right;\">10</td><td style = \"text-align: left;\">Other-service</td><td style = \"text-align: left;\">&gt;50K</td><td style = \"text-align: right;\">629167</td></tr><tr><td class = \"rowNumber\" style = \"font-weight: bold; text-align: right;\">11</td><td style = \"text-align: left;\">Prof-specialty</td><td style = \"text-align: left;\">&lt;=50K</td><td style = \"text-align: right;\">665242</td></tr><tr><td class = \"rowNumber\" style = \"font-weight: bold; text-align: right;\">12</td><td style = \"text-align: left;\">Prof-specialty</td><td style = \"text-align: left;\">&gt;50K</td><td style = \"text-align: right;\">16282564</td></tr><tr><td class = \"rowNumber\" style = \"font-weight: bold; text-align: right;\">13</td><td style = \"text-align: left;\">Craft-repair</td><td style = \"text-align: left;\">&lt;=50K</td><td style = \"text-align: right;\">752150</td></tr><tr><td style = \"text-align: right;\">&vellip;</td><td style = \"text-align: right;\">&vellip;</td><td style = \"text-align: right;\">&vellip;</td><td style = \"text-align: right;\">&vellip;</td></tr><tr><td class = \"rowNumber\" style = \"font-weight: bold; text-align: right;\">19</td><td style = \"text-align: left;\">Tech-support</td><td style = \"text-align: left;\">&lt;=50K</td><td style = \"text-align: right;\">197380</td></tr><tr><td class = \"rowNumber\" style = \"font-weight: bold; text-align: right;\">20</td><td style = \"text-align: left;\">Tech-support</td><td style = \"text-align: left;\">&gt;50K</td><td style = \"text-align: right;\">772237</td></tr><tr><td class = \"rowNumber\" style = \"font-weight: bold; text-align: right;\">21</td><td style = \"text-align: left;\">Sales</td><td style = \"text-align: left;\">&lt;=50K</td><td style = \"text-align: right;\">502761</td></tr><tr><td class = \"rowNumber\" style = \"font-weight: bold; text-align: right;\">22</td><td style = \"text-align: left;\">Sales</td><td style = \"text-align: left;\">&gt;50K</td><td style = \"text-align: right;\">6470247</td></tr><tr><td class = \"rowNumber\" style = \"font-weight: bold; text-align: right;\">23</td><td style = \"text-align: left;\">Priv-house-serv</td><td style = \"text-align: left;\">&lt;=50K</td><td style = \"text-align: right;\">19574</td></tr><tr><td class = \"rowNumber\" style = \"font-weight: bold; text-align: right;\">24</td><td style = \"text-align: left;\">Priv-house-serv</td><td style = \"text-align: left;\">&gt;50K</td><td style = \"text-align: right;\">25236</td></tr><tr><td class = \"rowNumber\" style = \"font-weight: bold; text-align: right;\">25</td><td style = \"text-align: left;\">Transport-moving</td><td style = \"text-align: left;\">&lt;=50K</td><td style = \"text-align: right;\">274293</td></tr><tr><td class = \"rowNumber\" style = \"font-weight: bold; text-align: right;\">26</td><td style = \"text-align: left;\">Transport-moving</td><td style = \"text-align: left;\">&gt;50K</td><td style = \"text-align: right;\">765543</td></tr><tr><td class = \"rowNumber\" style = \"font-weight: bold; text-align: right;\">27</td><td style = \"text-align: left;\">Handlers-cleaners</td><td style = \"text-align: left;\">&lt;=50K</td><td style = \"text-align: right;\">204051</td></tr><tr><td class = \"rowNumber\" style = \"font-weight: bold; text-align: right;\">28</td><td style = \"text-align: left;\">Handlers-cleaners</td><td style = \"text-align: left;\">&gt;50K</td><td style = \"text-align: right;\">383180</td></tr><tr><td class = \"rowNumber\" style = \"font-weight: bold; text-align: right;\">29</td><td style = \"text-align: left;\">Armed-Forces</td><td style = \"text-align: left;\">&lt;=50K</td><td style = \"text-align: right;\">0</td></tr><tr><td class = \"rowNumber\" style = \"font-weight: bold; text-align: right;\">30</td><td style = \"text-align: left;\">Armed-Forces</td><td style = \"text-align: left;\">&gt;50K</td><td style = \"text-align: right;\">7298</td></tr></tbody></table></div>"
      ],
      "text/latex": [
       "\\begin{tabular}{r|ccc}\n",
       "\t& occupation & class & capital\\_gain\\\\\n",
       "\t\\hline\n",
       "\t& String31? & String7 & Int64\\\\\n",
       "\t\\hline\n",
       "\t1 & Machine-op-inspct & <=50K & 386116 \\\\\n",
       "\t2 & Machine-op-inspct & >50K & 566502 \\\\\n",
       "\t3 & Farming-fishing & <=50K & 282062 \\\\\n",
       "\t4 & Farming-fishing & >50K & 784685 \\\\\n",
       "\t5 & Protective-serv & <=50K & 141631 \\\\\n",
       "\t6 & Protective-serv & >50K & 563245 \\\\\n",
       "\t7 & \\emph{missing} & <=50K & 339996 \\\\\n",
       "\t8 & \\emph{missing} & >50K & 1067750 \\\\\n",
       "\t9 & Other-service & <=50K & 439752 \\\\\n",
       "\t10 & Other-service & >50K & 629167 \\\\\n",
       "\t11 & Prof-specialty & <=50K & 665242 \\\\\n",
       "\t12 & Prof-specialty & >50K & 16282564 \\\\\n",
       "\t13 & Craft-repair & <=50K & 752150 \\\\\n",
       "\t14 & Craft-repair & >50K & 3642085 \\\\\n",
       "\t15 & Adm-clerical & <=50K & 660899 \\\\\n",
       "\t16 & Adm-clerical & >50K & 2015755 \\\\\n",
       "\t17 & Exec-managerial & <=50K & 596261 \\\\\n",
       "\t18 & Exec-managerial & >50K & 13266159 \\\\\n",
       "\t19 & Tech-support & <=50K & 197380 \\\\\n",
       "\t20 & Tech-support & >50K & 772237 \\\\\n",
       "\t21 & Sales & <=50K & 502761 \\\\\n",
       "\t22 & Sales & >50K & 6470247 \\\\\n",
       "\t23 & Priv-house-serv & <=50K & 19574 \\\\\n",
       "\t24 & Priv-house-serv & >50K & 25236 \\\\\n",
       "\t25 & Transport-moving & <=50K & 274293 \\\\\n",
       "\t26 & Transport-moving & >50K & 765543 \\\\\n",
       "\t27 & Handlers-cleaners & <=50K & 204051 \\\\\n",
       "\t28 & Handlers-cleaners & >50K & 383180 \\\\\n",
       "\t29 & Armed-Forces & <=50K & 0 \\\\\n",
       "\t30 & Armed-Forces & >50K & 7298 \\\\\n",
       "\\end{tabular}\n"
      ],
      "text/plain": [
       "\u001b[1m30×3 DataFrame\u001b[0m\n",
       "\u001b[1m Row \u001b[0m│\u001b[1m occupation        \u001b[0m\u001b[1m class   \u001b[0m\u001b[1m capital_gain \u001b[0m\n",
       "     │\u001b[90m String31?         \u001b[0m\u001b[90m String7 \u001b[0m\u001b[90m Int64        \u001b[0m\n",
       "─────┼──────────────────────────────────────────\n",
       "   1 │ Machine-op-inspct  <=50K          386116\n",
       "   2 │ Machine-op-inspct  >50K           566502\n",
       "   3 │ Farming-fishing    <=50K          282062\n",
       "   4 │ Farming-fishing    >50K           784685\n",
       "   5 │ Protective-serv    <=50K          141631\n",
       "   6 │ Protective-serv    >50K           563245\n",
       "   7 │\u001b[90m missing           \u001b[0m <=50K          339996\n",
       "   8 │\u001b[90m missing           \u001b[0m >50K          1067750\n",
       "   9 │ Other-service      <=50K          439752\n",
       "  10 │ Other-service      >50K           629167\n",
       "  11 │ Prof-specialty     <=50K          665242\n",
       "  ⋮  │         ⋮             ⋮          ⋮\n",
       "  21 │ Sales              <=50K          502761\n",
       "  22 │ Sales              >50K          6470247\n",
       "  23 │ Priv-house-serv    <=50K           19574\n",
       "  24 │ Priv-house-serv    >50K            25236\n",
       "  25 │ Transport-moving   <=50K          274293\n",
       "  26 │ Transport-moving   >50K           765543\n",
       "  27 │ Handlers-cleaners  <=50K          204051\n",
       "  28 │ Handlers-cleaners  >50K           383180\n",
       "  29 │ Armed-Forces       <=50K               0\n",
       "  30 │ Armed-Forces       >50K             7298\n",
       "\u001b[36m                                  9 rows omitted\u001b[0m"
      ]
     },
     "execution_count": 144,
     "metadata": {},
     "output_type": "execute_result"
    }
   ],
   "source": [
    "combine(gdf) do sdf\n",
    "    DataFrame(capital_gain = sum(sdf.capital_gain))\n",
    "end"
   ]
  },
  {
   "cell_type": "code",
   "execution_count": 148,
   "id": "155c6016-f67b-47d3-8ae9-9d004e2ce0a5",
   "metadata": {},
   "outputs": [
    {
     "data": {
      "text/html": [
       "<div><div style = \"float: left;\"><span>30×3 DataFrame</span></div><div style = \"float: right;\"><span style = \"font-style: italic;\">5 rows omitted</span></div><div style = \"clear: both;\"></div></div><div class = \"data-frame\" style = \"overflow-x: scroll;\"><table class = \"data-frame\" style = \"margin-bottom: 6px;\"><thead><tr class = \"header\"><th class = \"rowNumber\" style = \"font-weight: bold; text-align: right;\">Row</th><th style = \"text-align: left;\">occupation</th><th style = \"text-align: left;\">class</th><th style = \"text-align: left;\">age_workclass_etc_function</th></tr><tr class = \"subheader headerLastRow\"><th class = \"rowNumber\" style = \"font-weight: bold; text-align: right;\"></th><th title = \"Union{Missing, String31}\" style = \"text-align: left;\">String31?</th><th title = \"String7\" style = \"text-align: left;\">String7</th><th title = \"Int64\" style = \"text-align: left;\">Int64</th></tr></thead><tbody><tr><td class = \"rowNumber\" style = \"font-weight: bold; text-align: right;\">1</td><td style = \"text-align: left;\">Machine-op-inspct</td><td style = \"text-align: left;\">&lt;=50K</td><td style = \"text-align: right;\">523250</td></tr><tr><td class = \"rowNumber\" style = \"font-weight: bold; text-align: right;\">2</td><td style = \"text-align: left;\">Machine-op-inspct</td><td style = \"text-align: left;\">&gt;50K</td><td style = \"text-align: right;\">624237</td></tr><tr><td class = \"rowNumber\" style = \"font-weight: bold; text-align: right;\">3</td><td style = \"text-align: left;\">Farming-fishing</td><td style = \"text-align: left;\">&lt;=50K</td><td style = \"text-align: right;\">340051</td></tr><tr><td class = \"rowNumber\" style = \"font-weight: bold; text-align: right;\">4</td><td style = \"text-align: left;\">Farming-fishing</td><td style = \"text-align: left;\">&gt;50K</td><td style = \"text-align: right;\">815115</td></tr><tr><td class = \"rowNumber\" style = \"font-weight: bold; text-align: right;\">5</td><td style = \"text-align: left;\">Protective-serv</td><td style = \"text-align: left;\">&lt;=50K</td><td style = \"text-align: right;\">177421</td></tr><tr><td class = \"rowNumber\" style = \"font-weight: bold; text-align: right;\">6</td><td style = \"text-align: left;\">Protective-serv</td><td style = \"text-align: left;\">&gt;50K</td><td style = \"text-align: right;\">611016</td></tr><tr><td class = \"rowNumber\" style = \"font-weight: bold; text-align: right;\">7</td><td style = \"font-style: italic; text-align: left;\">missing</td><td style = \"text-align: left;\">&lt;=50K</td><td style = \"text-align: right;\">485020</td></tr><tr><td class = \"rowNumber\" style = \"font-weight: bold; text-align: right;\">8</td><td style = \"font-style: italic; text-align: left;\">missing</td><td style = \"text-align: left;\">&gt;50K</td><td style = \"text-align: right;\">1112036</td></tr><tr><td class = \"rowNumber\" style = \"font-weight: bold; text-align: right;\">9</td><td style = \"text-align: left;\">Other-service</td><td style = \"text-align: left;\">&lt;=50K</td><td style = \"text-align: right;\">611363</td></tr><tr><td class = \"rowNumber\" style = \"font-weight: bold; text-align: right;\">10</td><td style = \"text-align: left;\">Other-service</td><td style = \"text-align: left;\">&gt;50K</td><td style = \"text-align: right;\">662978</td></tr><tr><td class = \"rowNumber\" style = \"font-weight: bold; text-align: right;\">11</td><td style = \"text-align: left;\">Prof-specialty</td><td style = \"text-align: left;\">&lt;=50K</td><td style = \"text-align: right;\">906348</td></tr><tr><td class = \"rowNumber\" style = \"font-weight: bold; text-align: right;\">12</td><td style = \"text-align: left;\">Prof-specialty</td><td style = \"text-align: left;\">&gt;50K</td><td style = \"text-align: right;\">16876106</td></tr><tr><td class = \"rowNumber\" style = \"font-weight: bold; text-align: right;\">13</td><td style = \"text-align: left;\">Craft-repair</td><td style = \"text-align: left;\">&lt;=50K</td><td style = \"text-align: right;\">1044088</td></tr><tr><td style = \"text-align: right;\">&vellip;</td><td style = \"text-align: right;\">&vellip;</td><td style = \"text-align: right;\">&vellip;</td><td style = \"text-align: right;\">&vellip;</td></tr><tr><td class = \"rowNumber\" style = \"font-weight: bold; text-align: right;\">19</td><td style = \"text-align: left;\">Tech-support</td><td style = \"text-align: left;\">&lt;=50K</td><td style = \"text-align: right;\">253293</td></tr><tr><td class = \"rowNumber\" style = \"font-weight: bold; text-align: right;\">20</td><td style = \"text-align: left;\">Tech-support</td><td style = \"text-align: left;\">&gt;50K</td><td style = \"text-align: right;\">857249</td></tr><tr><td class = \"rowNumber\" style = \"font-weight: bold; text-align: right;\">21</td><td style = \"text-align: left;\">Sales</td><td style = \"text-align: left;\">&lt;=50K</td><td style = \"text-align: right;\">730048</td></tr><tr><td class = \"rowNumber\" style = \"font-weight: bold; text-align: right;\">22</td><td style = \"text-align: left;\">Sales</td><td style = \"text-align: left;\">&gt;50K</td><td style = \"text-align: right;\">6777016</td></tr><tr><td class = \"rowNumber\" style = \"font-weight: bold; text-align: right;\">23</td><td style = \"text-align: left;\">Priv-house-serv</td><td style = \"text-align: left;\">&lt;=50K</td><td style = \"text-align: right;\">29332</td></tr><tr><td class = \"rowNumber\" style = \"font-weight: bold; text-align: right;\">24</td><td style = \"text-align: left;\">Priv-house-serv</td><td style = \"text-align: left;\">&gt;50K</td><td style = \"text-align: right;\">25236</td></tr><tr><td class = \"rowNumber\" style = \"font-weight: bold; text-align: right;\">25</td><td style = \"text-align: left;\">Transport-moving</td><td style = \"text-align: left;\">&lt;=50K</td><td style = \"text-align: right;\">383319</td></tr><tr><td class = \"rowNumber\" style = \"font-weight: bold; text-align: right;\">26</td><td style = \"text-align: left;\">Transport-moving</td><td style = \"text-align: left;\">&gt;50K</td><td style = \"text-align: right;\">845392</td></tr><tr><td class = \"rowNumber\" style = \"font-weight: bold; text-align: right;\">27</td><td style = \"text-align: left;\">Handlers-cleaners</td><td style = \"text-align: left;\">&lt;=50K</td><td style = \"text-align: right;\">282773</td></tr><tr><td class = \"rowNumber\" style = \"font-weight: bold; text-align: right;\">28</td><td style = \"text-align: left;\">Handlers-cleaners</td><td style = \"text-align: left;\">&gt;50K</td><td style = \"text-align: right;\">404900</td></tr><tr><td class = \"rowNumber\" style = \"font-weight: bold; text-align: right;\">29</td><td style = \"text-align: left;\">Armed-Forces</td><td style = \"text-align: left;\">&lt;=50K</td><td style = \"text-align: right;\">0</td></tr><tr><td class = \"rowNumber\" style = \"font-weight: bold; text-align: right;\">30</td><td style = \"text-align: left;\">Armed-Forces</td><td style = \"text-align: left;\">&gt;50K</td><td style = \"text-align: right;\">9185</td></tr></tbody></table></div>"
      ],
      "text/latex": [
       "\\begin{tabular}{r|ccc}\n",
       "\t& occupation & class & age\\_workclass\\_etc\\_function\\\\\n",
       "\t\\hline\n",
       "\t& String31? & String7 & Int64\\\\\n",
       "\t\\hline\n",
       "\t1 & Machine-op-inspct & <=50K & 523250 \\\\\n",
       "\t2 & Machine-op-inspct & >50K & 624237 \\\\\n",
       "\t3 & Farming-fishing & <=50K & 340051 \\\\\n",
       "\t4 & Farming-fishing & >50K & 815115 \\\\\n",
       "\t5 & Protective-serv & <=50K & 177421 \\\\\n",
       "\t6 & Protective-serv & >50K & 611016 \\\\\n",
       "\t7 & \\emph{missing} & <=50K & 485020 \\\\\n",
       "\t8 & \\emph{missing} & >50K & 1112036 \\\\\n",
       "\t9 & Other-service & <=50K & 611363 \\\\\n",
       "\t10 & Other-service & >50K & 662978 \\\\\n",
       "\t11 & Prof-specialty & <=50K & 906348 \\\\\n",
       "\t12 & Prof-specialty & >50K & 16876106 \\\\\n",
       "\t13 & Craft-repair & <=50K & 1044088 \\\\\n",
       "\t14 & Craft-repair & >50K & 3839842 \\\\\n",
       "\t15 & Adm-clerical & <=50K & 914243 \\\\\n",
       "\t16 & Adm-clerical & >50K & 2118710 \\\\\n",
       "\t17 & Exec-managerial & <=50K & 793634 \\\\\n",
       "\t18 & Exec-managerial & >50K & 13924408 \\\\\n",
       "\t19 & Tech-support & <=50K & 253293 \\\\\n",
       "\t20 & Tech-support & >50K & 857249 \\\\\n",
       "\t21 & Sales & <=50K & 730048 \\\\\n",
       "\t22 & Sales & >50K & 6777016 \\\\\n",
       "\t23 & Priv-house-serv & <=50K & 29332 \\\\\n",
       "\t24 & Priv-house-serv & >50K & 25236 \\\\\n",
       "\t25 & Transport-moving & <=50K & 383319 \\\\\n",
       "\t26 & Transport-moving & >50K & 845392 \\\\\n",
       "\t27 & Handlers-cleaners & <=50K & 282773 \\\\\n",
       "\t28 & Handlers-cleaners & >50K & 404900 \\\\\n",
       "\t29 & Armed-Forces & <=50K & 0 \\\\\n",
       "\t30 & Armed-Forces & >50K & 9185 \\\\\n",
       "\\end{tabular}\n"
      ],
      "text/plain": [
       "\u001b[1m30×3 DataFrame\u001b[0m\n",
       "\u001b[1m Row \u001b[0m│\u001b[1m occupation        \u001b[0m\u001b[1m class   \u001b[0m\u001b[1m age_workclass_etc_function \u001b[0m\n",
       "     │\u001b[90m String31?         \u001b[0m\u001b[90m String7 \u001b[0m\u001b[90m Int64                      \u001b[0m\n",
       "─────┼────────────────────────────────────────────────────────\n",
       "   1 │ Machine-op-inspct  <=50K                        523250\n",
       "   2 │ Machine-op-inspct  >50K                         624237\n",
       "   3 │ Farming-fishing    <=50K                        340051\n",
       "   4 │ Farming-fishing    >50K                         815115\n",
       "   5 │ Protective-serv    <=50K                        177421\n",
       "   6 │ Protective-serv    >50K                         611016\n",
       "   7 │\u001b[90m missing           \u001b[0m <=50K                        485020\n",
       "   8 │\u001b[90m missing           \u001b[0m >50K                        1112036\n",
       "   9 │ Other-service      <=50K                        611363\n",
       "  10 │ Other-service      >50K                         662978\n",
       "  11 │ Prof-specialty     <=50K                        906348\n",
       "  ⋮  │         ⋮             ⋮                 ⋮\n",
       "  21 │ Sales              <=50K                        730048\n",
       "  22 │ Sales              >50K                        6777016\n",
       "  23 │ Priv-house-serv    <=50K                         29332\n",
       "  24 │ Priv-house-serv    >50K                          25236\n",
       "  25 │ Transport-moving   <=50K                        383319\n",
       "  26 │ Transport-moving   >50K                         845392\n",
       "  27 │ Handlers-cleaners  <=50K                        282773\n",
       "  28 │ Handlers-cleaners  >50K                         404900\n",
       "  29 │ Armed-Forces       <=50K                             0\n",
       "  30 │ Armed-Forces       >50K                           9185\n",
       "\u001b[36m                                                9 rows omitted\u001b[0m"
      ]
     },
     "execution_count": 148,
     "metadata": {},
     "output_type": "execute_result"
    }
   ],
   "source": [
    "combine(gdf, AsTable(:) => t -> sum(t.capital_loss .+ t.capital_gain))"
   ]
  },
  {
   "cell_type": "code",
   "execution_count": 152,
   "id": "d60134ff-a52e-44ac-9b5e-7d792488092c",
   "metadata": {},
   "outputs": [
    {
     "data": {
      "text/html": [
       "<div><div style = \"float: left;\"><span>48842×16 DataFrame</span></div><div style = \"float: right;\"><span style = \"font-style: italic;\">48817 rows omitted</span></div><div style = \"clear: both;\"></div></div><div class = \"data-frame\" style = \"overflow-x: scroll;\"><table class = \"data-frame\" style = \"margin-bottom: 6px;\"><thead><tr class = \"header\"><th class = \"rowNumber\" style = \"font-weight: bold; text-align: right;\">Row</th><th style = \"text-align: left;\">age</th><th style = \"text-align: left;\">workclass</th><th style = \"text-align: left;\">fnlwgt</th><th style = \"text-align: left;\">education</th><th style = \"text-align: left;\">education_num</th><th style = \"text-align: left;\">marital_status</th><th style = \"text-align: left;\">occupation</th><th style = \"text-align: left;\">relationship</th><th style = \"text-align: left;\">race</th><th style = \"text-align: left;\">sex</th><th style = \"text-align: left;\">capital_gain</th><th style = \"text-align: left;\">capital_loss</th><th style = \"text-align: left;\">hours_per_week</th><th style = \"text-align: left;\">native_country</th><th style = \"text-align: left;\">class</th><th style = \"text-align: left;\">what_three</th></tr><tr class = \"subheader headerLastRow\"><th class = \"rowNumber\" style = \"font-weight: bold; text-align: right;\"></th><th title = \"Int64\" style = \"text-align: left;\">Int64</th><th title = \"Union{Missing, String31}\" style = \"text-align: left;\">String31?</th><th title = \"Int64\" style = \"text-align: left;\">Int64</th><th title = \"String15\" style = \"text-align: left;\">String15</th><th title = \"Int64\" style = \"text-align: left;\">Int64</th><th title = \"String31\" style = \"text-align: left;\">String31</th><th title = \"Union{Missing, String31}\" style = \"text-align: left;\">String31?</th><th title = \"String15\" style = \"text-align: left;\">String15</th><th title = \"String31\" style = \"text-align: left;\">String31</th><th title = \"String7\" style = \"text-align: left;\">String7</th><th title = \"Int64\" style = \"text-align: left;\">Int64</th><th title = \"Int64\" style = \"text-align: left;\">Int64</th><th title = \"Int64\" style = \"text-align: left;\">Int64</th><th title = \"Union{Missing, String31}\" style = \"text-align: left;\">String31?</th><th title = \"String7\" style = \"text-align: left;\">String7</th><th title = \"Int64\" style = \"text-align: left;\">Int64</th></tr></thead><tbody><tr><td class = \"rowNumber\" style = \"font-weight: bold; text-align: right;\">1</td><td style = \"text-align: right;\">25</td><td style = \"text-align: left;\">Private</td><td style = \"text-align: right;\">226802</td><td style = \"text-align: left;\">11th</td><td style = \"text-align: right;\">7</td><td style = \"text-align: left;\">Never-married</td><td style = \"text-align: left;\">Machine-op-inspct</td><td style = \"text-align: left;\">Own-child</td><td style = \"text-align: left;\">Black</td><td style = \"text-align: left;\">Male</td><td style = \"text-align: right;\">0</td><td style = \"text-align: right;\">0</td><td style = \"text-align: right;\">40</td><td style = \"text-align: left;\">United-States</td><td style = \"text-align: left;\">&lt;=50K</td><td style = \"text-align: right;\">0</td></tr><tr><td class = \"rowNumber\" style = \"font-weight: bold; text-align: right;\">2</td><td style = \"text-align: right;\">38</td><td style = \"text-align: left;\">Private</td><td style = \"text-align: right;\">89814</td><td style = \"text-align: left;\">HS-grad</td><td style = \"text-align: right;\">9</td><td style = \"text-align: left;\">Married-civ-spouse</td><td style = \"text-align: left;\">Farming-fishing</td><td style = \"text-align: left;\">Husband</td><td style = \"text-align: left;\">White</td><td style = \"text-align: left;\">Male</td><td style = \"text-align: right;\">0</td><td style = \"text-align: right;\">0</td><td style = \"text-align: right;\">50</td><td style = \"text-align: left;\">United-States</td><td style = \"text-align: left;\">&lt;=50K</td><td style = \"text-align: right;\">0</td></tr><tr><td class = \"rowNumber\" style = \"font-weight: bold; text-align: right;\">3</td><td style = \"text-align: right;\">28</td><td style = \"text-align: left;\">Local-gov</td><td style = \"text-align: right;\">336951</td><td style = \"text-align: left;\">Assoc-acdm</td><td style = \"text-align: right;\">12</td><td style = \"text-align: left;\">Married-civ-spouse</td><td style = \"text-align: left;\">Protective-serv</td><td style = \"text-align: left;\">Husband</td><td style = \"text-align: left;\">White</td><td style = \"text-align: left;\">Male</td><td style = \"text-align: right;\">0</td><td style = \"text-align: right;\">0</td><td style = \"text-align: right;\">40</td><td style = \"text-align: left;\">United-States</td><td style = \"text-align: left;\">&gt;50K</td><td style = \"text-align: right;\">0</td></tr><tr><td class = \"rowNumber\" style = \"font-weight: bold; text-align: right;\">4</td><td style = \"text-align: right;\">44</td><td style = \"text-align: left;\">Private</td><td style = \"text-align: right;\">160323</td><td style = \"text-align: left;\">Some-college</td><td style = \"text-align: right;\">10</td><td style = \"text-align: left;\">Married-civ-spouse</td><td style = \"text-align: left;\">Machine-op-inspct</td><td style = \"text-align: left;\">Husband</td><td style = \"text-align: left;\">Black</td><td style = \"text-align: left;\">Male</td><td style = \"text-align: right;\">7688</td><td style = \"text-align: right;\">0</td><td style = \"text-align: right;\">40</td><td style = \"text-align: left;\">United-States</td><td style = \"text-align: left;\">&gt;50K</td><td style = \"text-align: right;\">7688</td></tr><tr><td class = \"rowNumber\" style = \"font-weight: bold; text-align: right;\">5</td><td style = \"text-align: right;\">18</td><td style = \"font-style: italic; text-align: left;\">missing</td><td style = \"text-align: right;\">103497</td><td style = \"text-align: left;\">Some-college</td><td style = \"text-align: right;\">10</td><td style = \"text-align: left;\">Never-married</td><td style = \"font-style: italic; text-align: left;\">missing</td><td style = \"text-align: left;\">Own-child</td><td style = \"text-align: left;\">White</td><td style = \"text-align: left;\">Female</td><td style = \"text-align: right;\">0</td><td style = \"text-align: right;\">0</td><td style = \"text-align: right;\">30</td><td style = \"text-align: left;\">United-States</td><td style = \"text-align: left;\">&lt;=50K</td><td style = \"text-align: right;\">0</td></tr><tr><td class = \"rowNumber\" style = \"font-weight: bold; text-align: right;\">6</td><td style = \"text-align: right;\">34</td><td style = \"text-align: left;\">Private</td><td style = \"text-align: right;\">198693</td><td style = \"text-align: left;\">10th</td><td style = \"text-align: right;\">6</td><td style = \"text-align: left;\">Never-married</td><td style = \"text-align: left;\">Other-service</td><td style = \"text-align: left;\">Not-in-family</td><td style = \"text-align: left;\">White</td><td style = \"text-align: left;\">Male</td><td style = \"text-align: right;\">0</td><td style = \"text-align: right;\">0</td><td style = \"text-align: right;\">30</td><td style = \"text-align: left;\">United-States</td><td style = \"text-align: left;\">&lt;=50K</td><td style = \"text-align: right;\">0</td></tr><tr><td class = \"rowNumber\" style = \"font-weight: bold; text-align: right;\">7</td><td style = \"text-align: right;\">29</td><td style = \"font-style: italic; text-align: left;\">missing</td><td style = \"text-align: right;\">227026</td><td style = \"text-align: left;\">HS-grad</td><td style = \"text-align: right;\">9</td><td style = \"text-align: left;\">Never-married</td><td style = \"font-style: italic; text-align: left;\">missing</td><td style = \"text-align: left;\">Unmarried</td><td style = \"text-align: left;\">Black</td><td style = \"text-align: left;\">Male</td><td style = \"text-align: right;\">0</td><td style = \"text-align: right;\">0</td><td style = \"text-align: right;\">40</td><td style = \"text-align: left;\">United-States</td><td style = \"text-align: left;\">&lt;=50K</td><td style = \"text-align: right;\">0</td></tr><tr><td class = \"rowNumber\" style = \"font-weight: bold; text-align: right;\">8</td><td style = \"text-align: right;\">63</td><td style = \"text-align: left;\">Self-emp-not-inc</td><td style = \"text-align: right;\">104626</td><td style = \"text-align: left;\">Prof-school</td><td style = \"text-align: right;\">15</td><td style = \"text-align: left;\">Married-civ-spouse</td><td style = \"text-align: left;\">Prof-specialty</td><td style = \"text-align: left;\">Husband</td><td style = \"text-align: left;\">White</td><td style = \"text-align: left;\">Male</td><td style = \"text-align: right;\">3103</td><td style = \"text-align: right;\">0</td><td style = \"text-align: right;\">32</td><td style = \"text-align: left;\">United-States</td><td style = \"text-align: left;\">&gt;50K</td><td style = \"text-align: right;\">3103</td></tr><tr><td class = \"rowNumber\" style = \"font-weight: bold; text-align: right;\">9</td><td style = \"text-align: right;\">24</td><td style = \"text-align: left;\">Private</td><td style = \"text-align: right;\">369667</td><td style = \"text-align: left;\">Some-college</td><td style = \"text-align: right;\">10</td><td style = \"text-align: left;\">Never-married</td><td style = \"text-align: left;\">Other-service</td><td style = \"text-align: left;\">Unmarried</td><td style = \"text-align: left;\">White</td><td style = \"text-align: left;\">Female</td><td style = \"text-align: right;\">0</td><td style = \"text-align: right;\">0</td><td style = \"text-align: right;\">40</td><td style = \"text-align: left;\">United-States</td><td style = \"text-align: left;\">&lt;=50K</td><td style = \"text-align: right;\">0</td></tr><tr><td class = \"rowNumber\" style = \"font-weight: bold; text-align: right;\">10</td><td style = \"text-align: right;\">55</td><td style = \"text-align: left;\">Private</td><td style = \"text-align: right;\">104996</td><td style = \"text-align: left;\">7th-8th</td><td style = \"text-align: right;\">4</td><td style = \"text-align: left;\">Married-civ-spouse</td><td style = \"text-align: left;\">Craft-repair</td><td style = \"text-align: left;\">Husband</td><td style = \"text-align: left;\">White</td><td style = \"text-align: left;\">Male</td><td style = \"text-align: right;\">0</td><td style = \"text-align: right;\">0</td><td style = \"text-align: right;\">10</td><td style = \"text-align: left;\">United-States</td><td style = \"text-align: left;\">&lt;=50K</td><td style = \"text-align: right;\">0</td></tr><tr><td class = \"rowNumber\" style = \"font-weight: bold; text-align: right;\">11</td><td style = \"text-align: right;\">65</td><td style = \"text-align: left;\">Private</td><td style = \"text-align: right;\">184454</td><td style = \"text-align: left;\">HS-grad</td><td style = \"text-align: right;\">9</td><td style = \"text-align: left;\">Married-civ-spouse</td><td style = \"text-align: left;\">Machine-op-inspct</td><td style = \"text-align: left;\">Husband</td><td style = \"text-align: left;\">White</td><td style = \"text-align: left;\">Male</td><td style = \"text-align: right;\">6418</td><td style = \"text-align: right;\">0</td><td style = \"text-align: right;\">40</td><td style = \"text-align: left;\">United-States</td><td style = \"text-align: left;\">&gt;50K</td><td style = \"text-align: right;\">6418</td></tr><tr><td class = \"rowNumber\" style = \"font-weight: bold; text-align: right;\">12</td><td style = \"text-align: right;\">36</td><td style = \"text-align: left;\">Federal-gov</td><td style = \"text-align: right;\">212465</td><td style = \"text-align: left;\">Bachelors</td><td style = \"text-align: right;\">13</td><td style = \"text-align: left;\">Married-civ-spouse</td><td style = \"text-align: left;\">Adm-clerical</td><td style = \"text-align: left;\">Husband</td><td style = \"text-align: left;\">White</td><td style = \"text-align: left;\">Male</td><td style = \"text-align: right;\">0</td><td style = \"text-align: right;\">0</td><td style = \"text-align: right;\">40</td><td style = \"text-align: left;\">United-States</td><td style = \"text-align: left;\">&lt;=50K</td><td style = \"text-align: right;\">0</td></tr><tr><td class = \"rowNumber\" style = \"font-weight: bold; text-align: right;\">13</td><td style = \"text-align: right;\">26</td><td style = \"text-align: left;\">Private</td><td style = \"text-align: right;\">82091</td><td style = \"text-align: left;\">HS-grad</td><td style = \"text-align: right;\">9</td><td style = \"text-align: left;\">Never-married</td><td style = \"text-align: left;\">Adm-clerical</td><td style = \"text-align: left;\">Not-in-family</td><td style = \"text-align: left;\">White</td><td style = \"text-align: left;\">Female</td><td style = \"text-align: right;\">0</td><td style = \"text-align: right;\">0</td><td style = \"text-align: right;\">39</td><td style = \"text-align: left;\">United-States</td><td style = \"text-align: left;\">&lt;=50K</td><td style = \"text-align: right;\">0</td></tr><tr><td style = \"text-align: right;\">&vellip;</td><td style = \"text-align: right;\">&vellip;</td><td style = \"text-align: right;\">&vellip;</td><td style = \"text-align: right;\">&vellip;</td><td style = \"text-align: right;\">&vellip;</td><td style = \"text-align: right;\">&vellip;</td><td style = \"text-align: right;\">&vellip;</td><td style = \"text-align: right;\">&vellip;</td><td style = \"text-align: right;\">&vellip;</td><td style = \"text-align: right;\">&vellip;</td><td style = \"text-align: right;\">&vellip;</td><td style = \"text-align: right;\">&vellip;</td><td style = \"text-align: right;\">&vellip;</td><td style = \"text-align: right;\">&vellip;</td><td style = \"text-align: right;\">&vellip;</td><td style = \"text-align: right;\">&vellip;</td><td style = \"text-align: right;\">&vellip;</td></tr><tr><td class = \"rowNumber\" style = \"font-weight: bold; text-align: right;\">48831</td><td style = \"text-align: right;\">43</td><td style = \"text-align: left;\">State-gov</td><td style = \"text-align: right;\">255835</td><td style = \"text-align: left;\">Some-college</td><td style = \"text-align: right;\">10</td><td style = \"text-align: left;\">Divorced</td><td style = \"text-align: left;\">Adm-clerical</td><td style = \"text-align: left;\">Other-relative</td><td style = \"text-align: left;\">White</td><td style = \"text-align: left;\">Female</td><td style = \"text-align: right;\">0</td><td style = \"text-align: right;\">0</td><td style = \"text-align: right;\">40</td><td style = \"text-align: left;\">United-States</td><td style = \"text-align: left;\">&lt;=50K</td><td style = \"text-align: right;\">0</td></tr><tr><td class = \"rowNumber\" style = \"font-weight: bold; text-align: right;\">48832</td><td style = \"text-align: right;\">43</td><td style = \"text-align: left;\">Self-emp-not-inc</td><td style = \"text-align: right;\">27242</td><td style = \"text-align: left;\">Some-college</td><td style = \"text-align: right;\">10</td><td style = \"text-align: left;\">Married-civ-spouse</td><td style = \"text-align: left;\">Craft-repair</td><td style = \"text-align: left;\">Husband</td><td style = \"text-align: left;\">White</td><td style = \"text-align: left;\">Male</td><td style = \"text-align: right;\">0</td><td style = \"text-align: right;\">0</td><td style = \"text-align: right;\">50</td><td style = \"text-align: left;\">United-States</td><td style = \"text-align: left;\">&lt;=50K</td><td style = \"text-align: right;\">0</td></tr><tr><td class = \"rowNumber\" style = \"font-weight: bold; text-align: right;\">48833</td><td style = \"text-align: right;\">32</td><td style = \"text-align: left;\">Private</td><td style = \"text-align: right;\">34066</td><td style = \"text-align: left;\">10th</td><td style = \"text-align: right;\">6</td><td style = \"text-align: left;\">Married-civ-spouse</td><td style = \"text-align: left;\">Handlers-cleaners</td><td style = \"text-align: left;\">Husband</td><td style = \"text-align: left;\">Amer-Indian-Eskimo</td><td style = \"text-align: left;\">Male</td><td style = \"text-align: right;\">0</td><td style = \"text-align: right;\">0</td><td style = \"text-align: right;\">40</td><td style = \"text-align: left;\">United-States</td><td style = \"text-align: left;\">&lt;=50K</td><td style = \"text-align: right;\">0</td></tr><tr><td class = \"rowNumber\" style = \"font-weight: bold; text-align: right;\">48834</td><td style = \"text-align: right;\">43</td><td style = \"text-align: left;\">Private</td><td style = \"text-align: right;\">84661</td><td style = \"text-align: left;\">Assoc-voc</td><td style = \"text-align: right;\">11</td><td style = \"text-align: left;\">Married-civ-spouse</td><td style = \"text-align: left;\">Sales</td><td style = \"text-align: left;\">Husband</td><td style = \"text-align: left;\">White</td><td style = \"text-align: left;\">Male</td><td style = \"text-align: right;\">0</td><td style = \"text-align: right;\">0</td><td style = \"text-align: right;\">45</td><td style = \"text-align: left;\">United-States</td><td style = \"text-align: left;\">&lt;=50K</td><td style = \"text-align: right;\">0</td></tr><tr><td class = \"rowNumber\" style = \"font-weight: bold; text-align: right;\">48835</td><td style = \"text-align: right;\">32</td><td style = \"text-align: left;\">Private</td><td style = \"text-align: right;\">116138</td><td style = \"text-align: left;\">Masters</td><td style = \"text-align: right;\">14</td><td style = \"text-align: left;\">Never-married</td><td style = \"text-align: left;\">Tech-support</td><td style = \"text-align: left;\">Not-in-family</td><td style = \"text-align: left;\">Asian-Pac-Islander</td><td style = \"text-align: left;\">Male</td><td style = \"text-align: right;\">0</td><td style = \"text-align: right;\">0</td><td style = \"text-align: right;\">11</td><td style = \"text-align: left;\">Taiwan</td><td style = \"text-align: left;\">&lt;=50K</td><td style = \"text-align: right;\">0</td></tr><tr><td class = \"rowNumber\" style = \"font-weight: bold; text-align: right;\">48836</td><td style = \"text-align: right;\">53</td><td style = \"text-align: left;\">Private</td><td style = \"text-align: right;\">321865</td><td style = \"text-align: left;\">Masters</td><td style = \"text-align: right;\">14</td><td style = \"text-align: left;\">Married-civ-spouse</td><td style = \"text-align: left;\">Exec-managerial</td><td style = \"text-align: left;\">Husband</td><td style = \"text-align: left;\">White</td><td style = \"text-align: left;\">Male</td><td style = \"text-align: right;\">0</td><td style = \"text-align: right;\">0</td><td style = \"text-align: right;\">40</td><td style = \"text-align: left;\">United-States</td><td style = \"text-align: left;\">&gt;50K</td><td style = \"text-align: right;\">0</td></tr><tr><td class = \"rowNumber\" style = \"font-weight: bold; text-align: right;\">48837</td><td style = \"text-align: right;\">22</td><td style = \"text-align: left;\">Private</td><td style = \"text-align: right;\">310152</td><td style = \"text-align: left;\">Some-college</td><td style = \"text-align: right;\">10</td><td style = \"text-align: left;\">Never-married</td><td style = \"text-align: left;\">Protective-serv</td><td style = \"text-align: left;\">Not-in-family</td><td style = \"text-align: left;\">White</td><td style = \"text-align: left;\">Male</td><td style = \"text-align: right;\">0</td><td style = \"text-align: right;\">0</td><td style = \"text-align: right;\">40</td><td style = \"text-align: left;\">United-States</td><td style = \"text-align: left;\">&lt;=50K</td><td style = \"text-align: right;\">0</td></tr><tr><td class = \"rowNumber\" style = \"font-weight: bold; text-align: right;\">48838</td><td style = \"text-align: right;\">27</td><td style = \"text-align: left;\">Private</td><td style = \"text-align: right;\">257302</td><td style = \"text-align: left;\">Assoc-acdm</td><td style = \"text-align: right;\">12</td><td style = \"text-align: left;\">Married-civ-spouse</td><td style = \"text-align: left;\">Tech-support</td><td style = \"text-align: left;\">Wife</td><td style = \"text-align: left;\">White</td><td style = \"text-align: left;\">Female</td><td style = \"text-align: right;\">0</td><td style = \"text-align: right;\">0</td><td style = \"text-align: right;\">38</td><td style = \"text-align: left;\">United-States</td><td style = \"text-align: left;\">&lt;=50K</td><td style = \"text-align: right;\">0</td></tr><tr><td class = \"rowNumber\" style = \"font-weight: bold; text-align: right;\">48839</td><td style = \"text-align: right;\">40</td><td style = \"text-align: left;\">Private</td><td style = \"text-align: right;\">154374</td><td style = \"text-align: left;\">HS-grad</td><td style = \"text-align: right;\">9</td><td style = \"text-align: left;\">Married-civ-spouse</td><td style = \"text-align: left;\">Machine-op-inspct</td><td style = \"text-align: left;\">Husband</td><td style = \"text-align: left;\">White</td><td style = \"text-align: left;\">Male</td><td style = \"text-align: right;\">0</td><td style = \"text-align: right;\">0</td><td style = \"text-align: right;\">40</td><td style = \"text-align: left;\">United-States</td><td style = \"text-align: left;\">&gt;50K</td><td style = \"text-align: right;\">0</td></tr><tr><td class = \"rowNumber\" style = \"font-weight: bold; text-align: right;\">48840</td><td style = \"text-align: right;\">58</td><td style = \"text-align: left;\">Private</td><td style = \"text-align: right;\">151910</td><td style = \"text-align: left;\">HS-grad</td><td style = \"text-align: right;\">9</td><td style = \"text-align: left;\">Widowed</td><td style = \"text-align: left;\">Adm-clerical</td><td style = \"text-align: left;\">Unmarried</td><td style = \"text-align: left;\">White</td><td style = \"text-align: left;\">Female</td><td style = \"text-align: right;\">0</td><td style = \"text-align: right;\">0</td><td style = \"text-align: right;\">40</td><td style = \"text-align: left;\">United-States</td><td style = \"text-align: left;\">&lt;=50K</td><td style = \"text-align: right;\">0</td></tr><tr><td class = \"rowNumber\" style = \"font-weight: bold; text-align: right;\">48841</td><td style = \"text-align: right;\">22</td><td style = \"text-align: left;\">Private</td><td style = \"text-align: right;\">201490</td><td style = \"text-align: left;\">HS-grad</td><td style = \"text-align: right;\">9</td><td style = \"text-align: left;\">Never-married</td><td style = \"text-align: left;\">Adm-clerical</td><td style = \"text-align: left;\">Own-child</td><td style = \"text-align: left;\">White</td><td style = \"text-align: left;\">Male</td><td style = \"text-align: right;\">0</td><td style = \"text-align: right;\">0</td><td style = \"text-align: right;\">20</td><td style = \"text-align: left;\">United-States</td><td style = \"text-align: left;\">&lt;=50K</td><td style = \"text-align: right;\">0</td></tr><tr><td class = \"rowNumber\" style = \"font-weight: bold; text-align: right;\">48842</td><td style = \"text-align: right;\">52</td><td style = \"text-align: left;\">Self-emp-inc</td><td style = \"text-align: right;\">287927</td><td style = \"text-align: left;\">HS-grad</td><td style = \"text-align: right;\">9</td><td style = \"text-align: left;\">Married-civ-spouse</td><td style = \"text-align: left;\">Exec-managerial</td><td style = \"text-align: left;\">Wife</td><td style = \"text-align: left;\">White</td><td style = \"text-align: left;\">Female</td><td style = \"text-align: right;\">15024</td><td style = \"text-align: right;\">0</td><td style = \"text-align: right;\">40</td><td style = \"text-align: left;\">United-States</td><td style = \"text-align: left;\">&gt;50K</td><td style = \"text-align: right;\">15024</td></tr></tbody></table></div>"
      ],
      "text/latex": [
       "\\begin{tabular}{r|ccccccc}\n",
       "\t& age & workclass & fnlwgt & education & education\\_num & marital\\_status & \\\\\n",
       "\t\\hline\n",
       "\t& Int64 & String31? & Int64 & String15 & Int64 & String31 & \\\\\n",
       "\t\\hline\n",
       "\t1 & 25 & Private & 226802 & 11th & 7 & Never-married & $\\dots$ \\\\\n",
       "\t2 & 38 & Private & 89814 & HS-grad & 9 & Married-civ-spouse & $\\dots$ \\\\\n",
       "\t3 & 28 & Local-gov & 336951 & Assoc-acdm & 12 & Married-civ-spouse & $\\dots$ \\\\\n",
       "\t4 & 44 & Private & 160323 & Some-college & 10 & Married-civ-spouse & $\\dots$ \\\\\n",
       "\t5 & 18 & \\emph{missing} & 103497 & Some-college & 10 & Never-married & $\\dots$ \\\\\n",
       "\t6 & 34 & Private & 198693 & 10th & 6 & Never-married & $\\dots$ \\\\\n",
       "\t7 & 29 & \\emph{missing} & 227026 & HS-grad & 9 & Never-married & $\\dots$ \\\\\n",
       "\t8 & 63 & Self-emp-not-inc & 104626 & Prof-school & 15 & Married-civ-spouse & $\\dots$ \\\\\n",
       "\t9 & 24 & Private & 369667 & Some-college & 10 & Never-married & $\\dots$ \\\\\n",
       "\t10 & 55 & Private & 104996 & 7th-8th & 4 & Married-civ-spouse & $\\dots$ \\\\\n",
       "\t11 & 65 & Private & 184454 & HS-grad & 9 & Married-civ-spouse & $\\dots$ \\\\\n",
       "\t12 & 36 & Federal-gov & 212465 & Bachelors & 13 & Married-civ-spouse & $\\dots$ \\\\\n",
       "\t13 & 26 & Private & 82091 & HS-grad & 9 & Never-married & $\\dots$ \\\\\n",
       "\t14 & 58 & \\emph{missing} & 299831 & HS-grad & 9 & Married-civ-spouse & $\\dots$ \\\\\n",
       "\t15 & 48 & Private & 279724 & HS-grad & 9 & Married-civ-spouse & $\\dots$ \\\\\n",
       "\t16 & 43 & Private & 346189 & Masters & 14 & Married-civ-spouse & $\\dots$ \\\\\n",
       "\t17 & 20 & State-gov & 444554 & Some-college & 10 & Never-married & $\\dots$ \\\\\n",
       "\t18 & 43 & Private & 128354 & HS-grad & 9 & Married-civ-spouse & $\\dots$ \\\\\n",
       "\t19 & 37 & Private & 60548 & HS-grad & 9 & Widowed & $\\dots$ \\\\\n",
       "\t20 & 40 & Private & 85019 & Doctorate & 16 & Married-civ-spouse & $\\dots$ \\\\\n",
       "\t21 & 34 & Private & 107914 & Bachelors & 13 & Married-civ-spouse & $\\dots$ \\\\\n",
       "\t22 & 34 & Private & 238588 & Some-college & 10 & Never-married & $\\dots$ \\\\\n",
       "\t23 & 72 & \\emph{missing} & 132015 & 7th-8th & 4 & Divorced & $\\dots$ \\\\\n",
       "\t24 & 25 & Private & 220931 & Bachelors & 13 & Never-married & $\\dots$ \\\\\n",
       "\t25 & 25 & Private & 205947 & Bachelors & 13 & Married-civ-spouse & $\\dots$ \\\\\n",
       "\t26 & 45 & Self-emp-not-inc & 432824 & HS-grad & 9 & Married-civ-spouse & $\\dots$ \\\\\n",
       "\t27 & 22 & Private & 236427 & HS-grad & 9 & Never-married & $\\dots$ \\\\\n",
       "\t28 & 23 & Private & 134446 & HS-grad & 9 & Separated & $\\dots$ \\\\\n",
       "\t29 & 54 & Private & 99516 & HS-grad & 9 & Married-civ-spouse & $\\dots$ \\\\\n",
       "\t30 & 32 & Self-emp-not-inc & 109282 & Some-college & 10 & Never-married & $\\dots$ \\\\\n",
       "\t$\\dots$ & $\\dots$ & $\\dots$ & $\\dots$ & $\\dots$ & $\\dots$ & $\\dots$ &  \\\\\n",
       "\\end{tabular}\n"
      ],
      "text/plain": [
       "\u001b[1m48842×16 DataFrame\u001b[0m\n",
       "\u001b[1m   Row \u001b[0m│\u001b[1m age   \u001b[0m\u001b[1m workclass        \u001b[0m\u001b[1m fnlwgt \u001b[0m\u001b[1m education    \u001b[0m\u001b[1m education_num \u001b[0m\u001b[1m marital\u001b[0m ⋯\n",
       "       │\u001b[90m Int64 \u001b[0m\u001b[90m String31?        \u001b[0m\u001b[90m Int64  \u001b[0m\u001b[90m String15     \u001b[0m\u001b[90m Int64         \u001b[0m\u001b[90m String3\u001b[0m ⋯\n",
       "───────┼────────────────────────────────────────────────────────────────────────\n",
       "     1 │    25  Private           226802  11th                      7  Never-m ⋯\n",
       "     2 │    38  Private            89814  HS-grad                   9  Married\n",
       "     3 │    28  Local-gov         336951  Assoc-acdm               12  Married\n",
       "     4 │    44  Private           160323  Some-college             10  Married\n",
       "     5 │    18 \u001b[90m missing          \u001b[0m 103497  Some-college             10  Never-m ⋯\n",
       "     6 │    34  Private           198693  10th                      6  Never-m\n",
       "     7 │    29 \u001b[90m missing          \u001b[0m 227026  HS-grad                   9  Never-m\n",
       "     8 │    63  Self-emp-not-inc  104626  Prof-school              15  Married\n",
       "     9 │    24  Private           369667  Some-college             10  Never-m ⋯\n",
       "    10 │    55  Private           104996  7th-8th                   4  Married\n",
       "    11 │    65  Private           184454  HS-grad                   9  Married\n",
       "   ⋮   │   ⋮           ⋮            ⋮          ⋮              ⋮                ⋱\n",
       " 48833 │    32  Private            34066  10th                      6  Married\n",
       " 48834 │    43  Private            84661  Assoc-voc                11  Married ⋯\n",
       " 48835 │    32  Private           116138  Masters                  14  Never-m\n",
       " 48836 │    53  Private           321865  Masters                  14  Married\n",
       " 48837 │    22  Private           310152  Some-college             10  Never-m\n",
       " 48838 │    27  Private           257302  Assoc-acdm               12  Married ⋯\n",
       " 48839 │    40  Private           154374  HS-grad                   9  Married\n",
       " 48840 │    58  Private           151910  HS-grad                   9  Widowed\n",
       " 48841 │    22  Private           201490  HS-grad                   9  Never-m\n",
       " 48842 │    52  Self-emp-inc      287927  HS-grad                   9  Married ⋯\n",
       "\u001b[36m                                               11 columns and 48821 rows omitted\u001b[0m"
      ]
     },
     "execution_count": 152,
     "metadata": {},
     "output_type": "execute_result"
    }
   ],
   "source": [
    "transform(df, [:capital_gain, :capital_loss] => ByRow(+) => :what_three)"
   ]
  },
  {
   "cell_type": "code",
   "execution_count": 163,
   "id": "5be0278e-897a-45bd-971a-cf47578089af",
   "metadata": {},
   "outputs": [
    {
     "data": {
      "text/html": [
       "<div><div style = \"float: left;\"><span>48842×16 DataFrame</span></div><div style = \"float: right;\"><span style = \"font-style: italic;\">48817 rows omitted</span></div><div style = \"clear: both;\"></div></div><div class = \"data-frame\" style = \"overflow-x: scroll;\"><table class = \"data-frame\" style = \"margin-bottom: 6px;\"><thead><tr class = \"header\"><th class = \"rowNumber\" style = \"font-weight: bold; text-align: right;\">Row</th><th style = \"text-align: left;\">age</th><th style = \"text-align: left;\">workclass</th><th style = \"text-align: left;\">fnlwgt</th><th style = \"text-align: left;\">education</th><th style = \"text-align: left;\">education_num</th><th style = \"text-align: left;\">marital_status</th><th style = \"text-align: left;\">occupation</th><th style = \"text-align: left;\">relationship</th><th style = \"text-align: left;\">race</th><th style = \"text-align: left;\">sex</th><th style = \"text-align: left;\">capital_gain</th><th style = \"text-align: left;\">capital_loss</th><th style = \"text-align: left;\">hours_per_week</th><th style = \"text-align: left;\">native_country</th><th style = \"text-align: left;\">class</th><th style = \"text-align: left;\">ans</th></tr><tr class = \"subheader headerLastRow\"><th class = \"rowNumber\" style = \"font-weight: bold; text-align: right;\"></th><th title = \"Int64\" style = \"text-align: left;\">Int64</th><th title = \"Union{Missing, String31}\" style = \"text-align: left;\">String31?</th><th title = \"Int64\" style = \"text-align: left;\">Int64</th><th title = \"String15\" style = \"text-align: left;\">String15</th><th title = \"Int64\" style = \"text-align: left;\">Int64</th><th title = \"String31\" style = \"text-align: left;\">String31</th><th title = \"Union{Missing, String31}\" style = \"text-align: left;\">String31?</th><th title = \"String15\" style = \"text-align: left;\">String15</th><th title = \"String31\" style = \"text-align: left;\">String31</th><th title = \"String7\" style = \"text-align: left;\">String7</th><th title = \"Int64\" style = \"text-align: left;\">Int64</th><th title = \"Int64\" style = \"text-align: left;\">Int64</th><th title = \"Int64\" style = \"text-align: left;\">Int64</th><th title = \"Union{Missing, String31}\" style = \"text-align: left;\">String31?</th><th title = \"String7\" style = \"text-align: left;\">String7</th><th title = \"Int64\" style = \"text-align: left;\">Int64</th></tr></thead><tbody><tr><td class = \"rowNumber\" style = \"font-weight: bold; text-align: right;\">1</td><td style = \"text-align: right;\">25</td><td style = \"text-align: left;\">Private</td><td style = \"text-align: right;\">226802</td><td style = \"text-align: left;\">11th</td><td style = \"text-align: right;\">7</td><td style = \"text-align: left;\">Never-married</td><td style = \"text-align: left;\">Machine-op-inspct</td><td style = \"text-align: left;\">Own-child</td><td style = \"text-align: left;\">Black</td><td style = \"text-align: left;\">Male</td><td style = \"text-align: right;\">0</td><td style = \"text-align: right;\">0</td><td style = \"text-align: right;\">40</td><td style = \"text-align: left;\">United-States</td><td style = \"text-align: left;\">&lt;=50K</td><td style = \"text-align: right;\">0</td></tr><tr><td class = \"rowNumber\" style = \"font-weight: bold; text-align: right;\">2</td><td style = \"text-align: right;\">38</td><td style = \"text-align: left;\">Private</td><td style = \"text-align: right;\">89814</td><td style = \"text-align: left;\">HS-grad</td><td style = \"text-align: right;\">9</td><td style = \"text-align: left;\">Married-civ-spouse</td><td style = \"text-align: left;\">Farming-fishing</td><td style = \"text-align: left;\">Husband</td><td style = \"text-align: left;\">White</td><td style = \"text-align: left;\">Male</td><td style = \"text-align: right;\">0</td><td style = \"text-align: right;\">0</td><td style = \"text-align: right;\">50</td><td style = \"text-align: left;\">United-States</td><td style = \"text-align: left;\">&lt;=50K</td><td style = \"text-align: right;\">0</td></tr><tr><td class = \"rowNumber\" style = \"font-weight: bold; text-align: right;\">3</td><td style = \"text-align: right;\">28</td><td style = \"text-align: left;\">Local-gov</td><td style = \"text-align: right;\">336951</td><td style = \"text-align: left;\">Assoc-acdm</td><td style = \"text-align: right;\">12</td><td style = \"text-align: left;\">Married-civ-spouse</td><td style = \"text-align: left;\">Protective-serv</td><td style = \"text-align: left;\">Husband</td><td style = \"text-align: left;\">White</td><td style = \"text-align: left;\">Male</td><td style = \"text-align: right;\">0</td><td style = \"text-align: right;\">0</td><td style = \"text-align: right;\">40</td><td style = \"text-align: left;\">United-States</td><td style = \"text-align: left;\">&gt;50K</td><td style = \"text-align: right;\">0</td></tr><tr><td class = \"rowNumber\" style = \"font-weight: bold; text-align: right;\">4</td><td style = \"text-align: right;\">44</td><td style = \"text-align: left;\">Private</td><td style = \"text-align: right;\">160323</td><td style = \"text-align: left;\">Some-college</td><td style = \"text-align: right;\">10</td><td style = \"text-align: left;\">Married-civ-spouse</td><td style = \"text-align: left;\">Machine-op-inspct</td><td style = \"text-align: left;\">Husband</td><td style = \"text-align: left;\">Black</td><td style = \"text-align: left;\">Male</td><td style = \"text-align: right;\">7688</td><td style = \"text-align: right;\">0</td><td style = \"text-align: right;\">40</td><td style = \"text-align: left;\">United-States</td><td style = \"text-align: left;\">&gt;50K</td><td style = \"text-align: right;\">76880</td></tr><tr><td class = \"rowNumber\" style = \"font-weight: bold; text-align: right;\">5</td><td style = \"text-align: right;\">18</td><td style = \"font-style: italic; text-align: left;\">missing</td><td style = \"text-align: right;\">103497</td><td style = \"text-align: left;\">Some-college</td><td style = \"text-align: right;\">10</td><td style = \"text-align: left;\">Never-married</td><td style = \"font-style: italic; text-align: left;\">missing</td><td style = \"text-align: left;\">Own-child</td><td style = \"text-align: left;\">White</td><td style = \"text-align: left;\">Female</td><td style = \"text-align: right;\">0</td><td style = \"text-align: right;\">0</td><td style = \"text-align: right;\">30</td><td style = \"text-align: left;\">United-States</td><td style = \"text-align: left;\">&lt;=50K</td><td style = \"text-align: right;\">0</td></tr><tr><td class = \"rowNumber\" style = \"font-weight: bold; text-align: right;\">6</td><td style = \"text-align: right;\">34</td><td style = \"text-align: left;\">Private</td><td style = \"text-align: right;\">198693</td><td style = \"text-align: left;\">10th</td><td style = \"text-align: right;\">6</td><td style = \"text-align: left;\">Never-married</td><td style = \"text-align: left;\">Other-service</td><td style = \"text-align: left;\">Not-in-family</td><td style = \"text-align: left;\">White</td><td style = \"text-align: left;\">Male</td><td style = \"text-align: right;\">0</td><td style = \"text-align: right;\">0</td><td style = \"text-align: right;\">30</td><td style = \"text-align: left;\">United-States</td><td style = \"text-align: left;\">&lt;=50K</td><td style = \"text-align: right;\">0</td></tr><tr><td class = \"rowNumber\" style = \"font-weight: bold; text-align: right;\">7</td><td style = \"text-align: right;\">29</td><td style = \"font-style: italic; text-align: left;\">missing</td><td style = \"text-align: right;\">227026</td><td style = \"text-align: left;\">HS-grad</td><td style = \"text-align: right;\">9</td><td style = \"text-align: left;\">Never-married</td><td style = \"font-style: italic; text-align: left;\">missing</td><td style = \"text-align: left;\">Unmarried</td><td style = \"text-align: left;\">Black</td><td style = \"text-align: left;\">Male</td><td style = \"text-align: right;\">0</td><td style = \"text-align: right;\">0</td><td style = \"text-align: right;\">40</td><td style = \"text-align: left;\">United-States</td><td style = \"text-align: left;\">&lt;=50K</td><td style = \"text-align: right;\">0</td></tr><tr><td class = \"rowNumber\" style = \"font-weight: bold; text-align: right;\">8</td><td style = \"text-align: right;\">63</td><td style = \"text-align: left;\">Self-emp-not-inc</td><td style = \"text-align: right;\">104626</td><td style = \"text-align: left;\">Prof-school</td><td style = \"text-align: right;\">15</td><td style = \"text-align: left;\">Married-civ-spouse</td><td style = \"text-align: left;\">Prof-specialty</td><td style = \"text-align: left;\">Husband</td><td style = \"text-align: left;\">White</td><td style = \"text-align: left;\">Male</td><td style = \"text-align: right;\">3103</td><td style = \"text-align: right;\">0</td><td style = \"text-align: right;\">32</td><td style = \"text-align: left;\">United-States</td><td style = \"text-align: left;\">&gt;50K</td><td style = \"text-align: right;\">31030</td></tr><tr><td class = \"rowNumber\" style = \"font-weight: bold; text-align: right;\">9</td><td style = \"text-align: right;\">24</td><td style = \"text-align: left;\">Private</td><td style = \"text-align: right;\">369667</td><td style = \"text-align: left;\">Some-college</td><td style = \"text-align: right;\">10</td><td style = \"text-align: left;\">Never-married</td><td style = \"text-align: left;\">Other-service</td><td style = \"text-align: left;\">Unmarried</td><td style = \"text-align: left;\">White</td><td style = \"text-align: left;\">Female</td><td style = \"text-align: right;\">0</td><td style = \"text-align: right;\">0</td><td style = \"text-align: right;\">40</td><td style = \"text-align: left;\">United-States</td><td style = \"text-align: left;\">&lt;=50K</td><td style = \"text-align: right;\">0</td></tr><tr><td class = \"rowNumber\" style = \"font-weight: bold; text-align: right;\">10</td><td style = \"text-align: right;\">55</td><td style = \"text-align: left;\">Private</td><td style = \"text-align: right;\">104996</td><td style = \"text-align: left;\">7th-8th</td><td style = \"text-align: right;\">4</td><td style = \"text-align: left;\">Married-civ-spouse</td><td style = \"text-align: left;\">Craft-repair</td><td style = \"text-align: left;\">Husband</td><td style = \"text-align: left;\">White</td><td style = \"text-align: left;\">Male</td><td style = \"text-align: right;\">0</td><td style = \"text-align: right;\">0</td><td style = \"text-align: right;\">10</td><td style = \"text-align: left;\">United-States</td><td style = \"text-align: left;\">&lt;=50K</td><td style = \"text-align: right;\">0</td></tr><tr><td class = \"rowNumber\" style = \"font-weight: bold; text-align: right;\">11</td><td style = \"text-align: right;\">65</td><td style = \"text-align: left;\">Private</td><td style = \"text-align: right;\">184454</td><td style = \"text-align: left;\">HS-grad</td><td style = \"text-align: right;\">9</td><td style = \"text-align: left;\">Married-civ-spouse</td><td style = \"text-align: left;\">Machine-op-inspct</td><td style = \"text-align: left;\">Husband</td><td style = \"text-align: left;\">White</td><td style = \"text-align: left;\">Male</td><td style = \"text-align: right;\">6418</td><td style = \"text-align: right;\">0</td><td style = \"text-align: right;\">40</td><td style = \"text-align: left;\">United-States</td><td style = \"text-align: left;\">&gt;50K</td><td style = \"text-align: right;\">64180</td></tr><tr><td class = \"rowNumber\" style = \"font-weight: bold; text-align: right;\">12</td><td style = \"text-align: right;\">36</td><td style = \"text-align: left;\">Federal-gov</td><td style = \"text-align: right;\">212465</td><td style = \"text-align: left;\">Bachelors</td><td style = \"text-align: right;\">13</td><td style = \"text-align: left;\">Married-civ-spouse</td><td style = \"text-align: left;\">Adm-clerical</td><td style = \"text-align: left;\">Husband</td><td style = \"text-align: left;\">White</td><td style = \"text-align: left;\">Male</td><td style = \"text-align: right;\">0</td><td style = \"text-align: right;\">0</td><td style = \"text-align: right;\">40</td><td style = \"text-align: left;\">United-States</td><td style = \"text-align: left;\">&lt;=50K</td><td style = \"text-align: right;\">0</td></tr><tr><td class = \"rowNumber\" style = \"font-weight: bold; text-align: right;\">13</td><td style = \"text-align: right;\">26</td><td style = \"text-align: left;\">Private</td><td style = \"text-align: right;\">82091</td><td style = \"text-align: left;\">HS-grad</td><td style = \"text-align: right;\">9</td><td style = \"text-align: left;\">Never-married</td><td style = \"text-align: left;\">Adm-clerical</td><td style = \"text-align: left;\">Not-in-family</td><td style = \"text-align: left;\">White</td><td style = \"text-align: left;\">Female</td><td style = \"text-align: right;\">0</td><td style = \"text-align: right;\">0</td><td style = \"text-align: right;\">39</td><td style = \"text-align: left;\">United-States</td><td style = \"text-align: left;\">&lt;=50K</td><td style = \"text-align: right;\">0</td></tr><tr><td style = \"text-align: right;\">&vellip;</td><td style = \"text-align: right;\">&vellip;</td><td style = \"text-align: right;\">&vellip;</td><td style = \"text-align: right;\">&vellip;</td><td style = \"text-align: right;\">&vellip;</td><td style = \"text-align: right;\">&vellip;</td><td style = \"text-align: right;\">&vellip;</td><td style = \"text-align: right;\">&vellip;</td><td style = \"text-align: right;\">&vellip;</td><td style = \"text-align: right;\">&vellip;</td><td style = \"text-align: right;\">&vellip;</td><td style = \"text-align: right;\">&vellip;</td><td style = \"text-align: right;\">&vellip;</td><td style = \"text-align: right;\">&vellip;</td><td style = \"text-align: right;\">&vellip;</td><td style = \"text-align: right;\">&vellip;</td><td style = \"text-align: right;\">&vellip;</td></tr><tr><td class = \"rowNumber\" style = \"font-weight: bold; text-align: right;\">48831</td><td style = \"text-align: right;\">43</td><td style = \"text-align: left;\">State-gov</td><td style = \"text-align: right;\">255835</td><td style = \"text-align: left;\">Some-college</td><td style = \"text-align: right;\">10</td><td style = \"text-align: left;\">Divorced</td><td style = \"text-align: left;\">Adm-clerical</td><td style = \"text-align: left;\">Other-relative</td><td style = \"text-align: left;\">White</td><td style = \"text-align: left;\">Female</td><td style = \"text-align: right;\">0</td><td style = \"text-align: right;\">0</td><td style = \"text-align: right;\">40</td><td style = \"text-align: left;\">United-States</td><td style = \"text-align: left;\">&lt;=50K</td><td style = \"text-align: right;\">0</td></tr><tr><td class = \"rowNumber\" style = \"font-weight: bold; text-align: right;\">48832</td><td style = \"text-align: right;\">43</td><td style = \"text-align: left;\">Self-emp-not-inc</td><td style = \"text-align: right;\">27242</td><td style = \"text-align: left;\">Some-college</td><td style = \"text-align: right;\">10</td><td style = \"text-align: left;\">Married-civ-spouse</td><td style = \"text-align: left;\">Craft-repair</td><td style = \"text-align: left;\">Husband</td><td style = \"text-align: left;\">White</td><td style = \"text-align: left;\">Male</td><td style = \"text-align: right;\">0</td><td style = \"text-align: right;\">0</td><td style = \"text-align: right;\">50</td><td style = \"text-align: left;\">United-States</td><td style = \"text-align: left;\">&lt;=50K</td><td style = \"text-align: right;\">0</td></tr><tr><td class = \"rowNumber\" style = \"font-weight: bold; text-align: right;\">48833</td><td style = \"text-align: right;\">32</td><td style = \"text-align: left;\">Private</td><td style = \"text-align: right;\">34066</td><td style = \"text-align: left;\">10th</td><td style = \"text-align: right;\">6</td><td style = \"text-align: left;\">Married-civ-spouse</td><td style = \"text-align: left;\">Handlers-cleaners</td><td style = \"text-align: left;\">Husband</td><td style = \"text-align: left;\">Amer-Indian-Eskimo</td><td style = \"text-align: left;\">Male</td><td style = \"text-align: right;\">0</td><td style = \"text-align: right;\">0</td><td style = \"text-align: right;\">40</td><td style = \"text-align: left;\">United-States</td><td style = \"text-align: left;\">&lt;=50K</td><td style = \"text-align: right;\">0</td></tr><tr><td class = \"rowNumber\" style = \"font-weight: bold; text-align: right;\">48834</td><td style = \"text-align: right;\">43</td><td style = \"text-align: left;\">Private</td><td style = \"text-align: right;\">84661</td><td style = \"text-align: left;\">Assoc-voc</td><td style = \"text-align: right;\">11</td><td style = \"text-align: left;\">Married-civ-spouse</td><td style = \"text-align: left;\">Sales</td><td style = \"text-align: left;\">Husband</td><td style = \"text-align: left;\">White</td><td style = \"text-align: left;\">Male</td><td style = \"text-align: right;\">0</td><td style = \"text-align: right;\">0</td><td style = \"text-align: right;\">45</td><td style = \"text-align: left;\">United-States</td><td style = \"text-align: left;\">&lt;=50K</td><td style = \"text-align: right;\">0</td></tr><tr><td class = \"rowNumber\" style = \"font-weight: bold; text-align: right;\">48835</td><td style = \"text-align: right;\">32</td><td style = \"text-align: left;\">Private</td><td style = \"text-align: right;\">116138</td><td style = \"text-align: left;\">Masters</td><td style = \"text-align: right;\">14</td><td style = \"text-align: left;\">Never-married</td><td style = \"text-align: left;\">Tech-support</td><td style = \"text-align: left;\">Not-in-family</td><td style = \"text-align: left;\">Asian-Pac-Islander</td><td style = \"text-align: left;\">Male</td><td style = \"text-align: right;\">0</td><td style = \"text-align: right;\">0</td><td style = \"text-align: right;\">11</td><td style = \"text-align: left;\">Taiwan</td><td style = \"text-align: left;\">&lt;=50K</td><td style = \"text-align: right;\">0</td></tr><tr><td class = \"rowNumber\" style = \"font-weight: bold; text-align: right;\">48836</td><td style = \"text-align: right;\">53</td><td style = \"text-align: left;\">Private</td><td style = \"text-align: right;\">321865</td><td style = \"text-align: left;\">Masters</td><td style = \"text-align: right;\">14</td><td style = \"text-align: left;\">Married-civ-spouse</td><td style = \"text-align: left;\">Exec-managerial</td><td style = \"text-align: left;\">Husband</td><td style = \"text-align: left;\">White</td><td style = \"text-align: left;\">Male</td><td style = \"text-align: right;\">0</td><td style = \"text-align: right;\">0</td><td style = \"text-align: right;\">40</td><td style = \"text-align: left;\">United-States</td><td style = \"text-align: left;\">&gt;50K</td><td style = \"text-align: right;\">0</td></tr><tr><td class = \"rowNumber\" style = \"font-weight: bold; text-align: right;\">48837</td><td style = \"text-align: right;\">22</td><td style = \"text-align: left;\">Private</td><td style = \"text-align: right;\">310152</td><td style = \"text-align: left;\">Some-college</td><td style = \"text-align: right;\">10</td><td style = \"text-align: left;\">Never-married</td><td style = \"text-align: left;\">Protective-serv</td><td style = \"text-align: left;\">Not-in-family</td><td style = \"text-align: left;\">White</td><td style = \"text-align: left;\">Male</td><td style = \"text-align: right;\">0</td><td style = \"text-align: right;\">0</td><td style = \"text-align: right;\">40</td><td style = \"text-align: left;\">United-States</td><td style = \"text-align: left;\">&lt;=50K</td><td style = \"text-align: right;\">0</td></tr><tr><td class = \"rowNumber\" style = \"font-weight: bold; text-align: right;\">48838</td><td style = \"text-align: right;\">27</td><td style = \"text-align: left;\">Private</td><td style = \"text-align: right;\">257302</td><td style = \"text-align: left;\">Assoc-acdm</td><td style = \"text-align: right;\">12</td><td style = \"text-align: left;\">Married-civ-spouse</td><td style = \"text-align: left;\">Tech-support</td><td style = \"text-align: left;\">Wife</td><td style = \"text-align: left;\">White</td><td style = \"text-align: left;\">Female</td><td style = \"text-align: right;\">0</td><td style = \"text-align: right;\">0</td><td style = \"text-align: right;\">38</td><td style = \"text-align: left;\">United-States</td><td style = \"text-align: left;\">&lt;=50K</td><td style = \"text-align: right;\">0</td></tr><tr><td class = \"rowNumber\" style = \"font-weight: bold; text-align: right;\">48839</td><td style = \"text-align: right;\">40</td><td style = \"text-align: left;\">Private</td><td style = \"text-align: right;\">154374</td><td style = \"text-align: left;\">HS-grad</td><td style = \"text-align: right;\">9</td><td style = \"text-align: left;\">Married-civ-spouse</td><td style = \"text-align: left;\">Machine-op-inspct</td><td style = \"text-align: left;\">Husband</td><td style = \"text-align: left;\">White</td><td style = \"text-align: left;\">Male</td><td style = \"text-align: right;\">0</td><td style = \"text-align: right;\">0</td><td style = \"text-align: right;\">40</td><td style = \"text-align: left;\">United-States</td><td style = \"text-align: left;\">&gt;50K</td><td style = \"text-align: right;\">0</td></tr><tr><td class = \"rowNumber\" style = \"font-weight: bold; text-align: right;\">48840</td><td style = \"text-align: right;\">58</td><td style = \"text-align: left;\">Private</td><td style = \"text-align: right;\">151910</td><td style = \"text-align: left;\">HS-grad</td><td style = \"text-align: right;\">9</td><td style = \"text-align: left;\">Widowed</td><td style = \"text-align: left;\">Adm-clerical</td><td style = \"text-align: left;\">Unmarried</td><td style = \"text-align: left;\">White</td><td style = \"text-align: left;\">Female</td><td style = \"text-align: right;\">0</td><td style = \"text-align: right;\">0</td><td style = \"text-align: right;\">40</td><td style = \"text-align: left;\">United-States</td><td style = \"text-align: left;\">&lt;=50K</td><td style = \"text-align: right;\">0</td></tr><tr><td class = \"rowNumber\" style = \"font-weight: bold; text-align: right;\">48841</td><td style = \"text-align: right;\">22</td><td style = \"text-align: left;\">Private</td><td style = \"text-align: right;\">201490</td><td style = \"text-align: left;\">HS-grad</td><td style = \"text-align: right;\">9</td><td style = \"text-align: left;\">Never-married</td><td style = \"text-align: left;\">Adm-clerical</td><td style = \"text-align: left;\">Own-child</td><td style = \"text-align: left;\">White</td><td style = \"text-align: left;\">Male</td><td style = \"text-align: right;\">0</td><td style = \"text-align: right;\">0</td><td style = \"text-align: right;\">20</td><td style = \"text-align: left;\">United-States</td><td style = \"text-align: left;\">&lt;=50K</td><td style = \"text-align: right;\">0</td></tr><tr><td class = \"rowNumber\" style = \"font-weight: bold; text-align: right;\">48842</td><td style = \"text-align: right;\">52</td><td style = \"text-align: left;\">Self-emp-inc</td><td style = \"text-align: right;\">287927</td><td style = \"text-align: left;\">HS-grad</td><td style = \"text-align: right;\">9</td><td style = \"text-align: left;\">Married-civ-spouse</td><td style = \"text-align: left;\">Exec-managerial</td><td style = \"text-align: left;\">Wife</td><td style = \"text-align: left;\">White</td><td style = \"text-align: left;\">Female</td><td style = \"text-align: right;\">15024</td><td style = \"text-align: right;\">0</td><td style = \"text-align: right;\">40</td><td style = \"text-align: left;\">United-States</td><td style = \"text-align: left;\">&gt;50K</td><td style = \"text-align: right;\">150240</td></tr></tbody></table></div>"
      ],
      "text/latex": [
       "\\begin{tabular}{r|ccccccc}\n",
       "\t& age & workclass & fnlwgt & education & education\\_num & marital\\_status & \\\\\n",
       "\t\\hline\n",
       "\t& Int64 & String31? & Int64 & String15 & Int64 & String31 & \\\\\n",
       "\t\\hline\n",
       "\t1 & 25 & Private & 226802 & 11th & 7 & Never-married & $\\dots$ \\\\\n",
       "\t2 & 38 & Private & 89814 & HS-grad & 9 & Married-civ-spouse & $\\dots$ \\\\\n",
       "\t3 & 28 & Local-gov & 336951 & Assoc-acdm & 12 & Married-civ-spouse & $\\dots$ \\\\\n",
       "\t4 & 44 & Private & 160323 & Some-college & 10 & Married-civ-spouse & $\\dots$ \\\\\n",
       "\t5 & 18 & \\emph{missing} & 103497 & Some-college & 10 & Never-married & $\\dots$ \\\\\n",
       "\t6 & 34 & Private & 198693 & 10th & 6 & Never-married & $\\dots$ \\\\\n",
       "\t7 & 29 & \\emph{missing} & 227026 & HS-grad & 9 & Never-married & $\\dots$ \\\\\n",
       "\t8 & 63 & Self-emp-not-inc & 104626 & Prof-school & 15 & Married-civ-spouse & $\\dots$ \\\\\n",
       "\t9 & 24 & Private & 369667 & Some-college & 10 & Never-married & $\\dots$ \\\\\n",
       "\t10 & 55 & Private & 104996 & 7th-8th & 4 & Married-civ-spouse & $\\dots$ \\\\\n",
       "\t11 & 65 & Private & 184454 & HS-grad & 9 & Married-civ-spouse & $\\dots$ \\\\\n",
       "\t12 & 36 & Federal-gov & 212465 & Bachelors & 13 & Married-civ-spouse & $\\dots$ \\\\\n",
       "\t13 & 26 & Private & 82091 & HS-grad & 9 & Never-married & $\\dots$ \\\\\n",
       "\t14 & 58 & \\emph{missing} & 299831 & HS-grad & 9 & Married-civ-spouse & $\\dots$ \\\\\n",
       "\t15 & 48 & Private & 279724 & HS-grad & 9 & Married-civ-spouse & $\\dots$ \\\\\n",
       "\t16 & 43 & Private & 346189 & Masters & 14 & Married-civ-spouse & $\\dots$ \\\\\n",
       "\t17 & 20 & State-gov & 444554 & Some-college & 10 & Never-married & $\\dots$ \\\\\n",
       "\t18 & 43 & Private & 128354 & HS-grad & 9 & Married-civ-spouse & $\\dots$ \\\\\n",
       "\t19 & 37 & Private & 60548 & HS-grad & 9 & Widowed & $\\dots$ \\\\\n",
       "\t20 & 40 & Private & 85019 & Doctorate & 16 & Married-civ-spouse & $\\dots$ \\\\\n",
       "\t21 & 34 & Private & 107914 & Bachelors & 13 & Married-civ-spouse & $\\dots$ \\\\\n",
       "\t22 & 34 & Private & 238588 & Some-college & 10 & Never-married & $\\dots$ \\\\\n",
       "\t23 & 72 & \\emph{missing} & 132015 & 7th-8th & 4 & Divorced & $\\dots$ \\\\\n",
       "\t24 & 25 & Private & 220931 & Bachelors & 13 & Never-married & $\\dots$ \\\\\n",
       "\t25 & 25 & Private & 205947 & Bachelors & 13 & Married-civ-spouse & $\\dots$ \\\\\n",
       "\t26 & 45 & Self-emp-not-inc & 432824 & HS-grad & 9 & Married-civ-spouse & $\\dots$ \\\\\n",
       "\t27 & 22 & Private & 236427 & HS-grad & 9 & Never-married & $\\dots$ \\\\\n",
       "\t28 & 23 & Private & 134446 & HS-grad & 9 & Separated & $\\dots$ \\\\\n",
       "\t29 & 54 & Private & 99516 & HS-grad & 9 & Married-civ-spouse & $\\dots$ \\\\\n",
       "\t30 & 32 & Self-emp-not-inc & 109282 & Some-college & 10 & Never-married & $\\dots$ \\\\\n",
       "\t$\\dots$ & $\\dots$ & $\\dots$ & $\\dots$ & $\\dots$ & $\\dots$ & $\\dots$ &  \\\\\n",
       "\\end{tabular}\n"
      ],
      "text/plain": [
       "\u001b[1m48842×16 DataFrame\u001b[0m\n",
       "\u001b[1m   Row \u001b[0m│\u001b[1m age   \u001b[0m\u001b[1m workclass        \u001b[0m\u001b[1m fnlwgt \u001b[0m\u001b[1m education    \u001b[0m\u001b[1m education_num \u001b[0m\u001b[1m marital\u001b[0m ⋯\n",
       "       │\u001b[90m Int64 \u001b[0m\u001b[90m String31?        \u001b[0m\u001b[90m Int64  \u001b[0m\u001b[90m String15     \u001b[0m\u001b[90m Int64         \u001b[0m\u001b[90m String3\u001b[0m ⋯\n",
       "───────┼────────────────────────────────────────────────────────────────────────\n",
       "     1 │    25  Private           226802  11th                      7  Never-m ⋯\n",
       "     2 │    38  Private            89814  HS-grad                   9  Married\n",
       "     3 │    28  Local-gov         336951  Assoc-acdm               12  Married\n",
       "     4 │    44  Private           160323  Some-college             10  Married\n",
       "     5 │    18 \u001b[90m missing          \u001b[0m 103497  Some-college             10  Never-m ⋯\n",
       "     6 │    34  Private           198693  10th                      6  Never-m\n",
       "     7 │    29 \u001b[90m missing          \u001b[0m 227026  HS-grad                   9  Never-m\n",
       "     8 │    63  Self-emp-not-inc  104626  Prof-school              15  Married\n",
       "     9 │    24  Private           369667  Some-college             10  Never-m ⋯\n",
       "    10 │    55  Private           104996  7th-8th                   4  Married\n",
       "    11 │    65  Private           184454  HS-grad                   9  Married\n",
       "   ⋮   │   ⋮           ⋮            ⋮          ⋮              ⋮                ⋱\n",
       " 48833 │    32  Private            34066  10th                      6  Married\n",
       " 48834 │    43  Private            84661  Assoc-voc                11  Married ⋯\n",
       " 48835 │    32  Private           116138  Masters                  14  Never-m\n",
       " 48836 │    53  Private           321865  Masters                  14  Married\n",
       " 48837 │    22  Private           310152  Some-college             10  Never-m\n",
       " 48838 │    27  Private           257302  Assoc-acdm               12  Married ⋯\n",
       " 48839 │    40  Private           154374  HS-grad                   9  Married\n",
       " 48840 │    58  Private           151910  HS-grad                   9  Widowed\n",
       " 48841 │    22  Private           201490  HS-grad                   9  Never-m\n",
       " 48842 │    52  Self-emp-inc      287927  HS-grad                   9  Married ⋯\n",
       "\u001b[36m                                               11 columns and 48821 rows omitted\u001b[0m"
      ]
     },
     "execution_count": 163,
     "metadata": {},
     "output_type": "execute_result"
    }
   ],
   "source": [
    "transform(df, :capital_gain => ByRow(x -> x * 10) => [:ans])"
   ]
  },
  {
   "cell_type": "code",
   "execution_count": 166,
   "id": "fe3ca017-261f-4301-8ca9-bc2d08e2cd25",
   "metadata": {},
   "outputs": [
    {
     "data": {
      "text/html": [
       "<div><div style = \"float: left;\"><span>69×3 DataFrame</span></div><div style = \"float: right;\"><span style = \"font-style: italic;\">44 rows omitted</span></div><div style = \"clear: both;\"></div></div><div class = \"data-frame\" style = \"overflow-x: scroll;\"><table class = \"data-frame\" style = \"margin-bottom: 6px;\"><thead><tr class = \"header\"><th class = \"rowNumber\" style = \"font-weight: bold; text-align: right;\">Row</th><th style = \"text-align: left;\">total</th><th style = \"text-align: left;\">age</th><th style = \"text-align: left;\">marital_status</th></tr><tr class = \"subheader headerLastRow\"><th class = \"rowNumber\" style = \"font-weight: bold; text-align: right;\"></th><th title = \"Int64\" style = \"text-align: left;\">Int64</th><th title = \"GroupColumnArrayView…\" style = \"text-align: left;\">GroupCol…</th><th title = \"GroupColumnArrayView…\" style = \"text-align: left;\">GroupCol…</th></tr></thead><tbody><tr><td class = \"rowNumber\" style = \"font-weight: bold; text-align: right;\">1</td><td style = \"text-align: right;\">1027607</td><td style = \"text-align: left;\">[90, 90, 90, 90, 90, 90, 90]</td><td style = \"text-align: left;\">String31[&quot;Widowed&quot;, &quot;Widowed&quot;, &quot;Widowed&quot;, &quot;Widowed&quot;, &quot;Widowed&quot;, &quot;Widowed&quot;, &quot;Widowed&quot;]</td></tr><tr><td class = \"rowNumber\" style = \"font-weight: bold; text-align: right;\">2</td><td style = \"text-align: right;\">141646</td><td style = \"text-align: left;\">[88]</td><td style = \"text-align: left;\">String31[&quot;Widowed&quot;]</td></tr><tr><td class = \"rowNumber\" style = \"font-weight: bold; text-align: right;\">3</td><td style = \"text-align: right;\">187633</td><td style = \"text-align: left;\">[87, 87]</td><td style = \"text-align: left;\">String31[&quot;Widowed&quot;, &quot;Widowed&quot;]</td></tr><tr><td class = \"rowNumber\" style = \"font-weight: bold; text-align: right;\">4</td><td style = \"text-align: right;\">625700</td><td style = \"text-align: left;\">[85, 85, 85, 85]</td><td style = \"text-align: left;\">String31[&quot;Widowed&quot;, &quot;Widowed&quot;, &quot;Widowed&quot;, &quot;Widowed&quot;]</td></tr><tr><td class = \"rowNumber\" style = \"font-weight: bold; text-align: right;\">5</td><td style = \"text-align: right;\">1376282</td><td style = \"text-align: left;\">[84, 84, 84, 84, 84, 84, 84, 84]</td><td style = \"text-align: left;\">String31[&quot;Widowed&quot;, &quot;Widowed&quot;, &quot;Widowed&quot;, &quot;Widowed&quot;, &quot;Widowed&quot;, &quot;Widowed&quot;, &quot;Widowed&quot;, &quot;Widowed&quot;]</td></tr><tr><td class = \"rowNumber\" style = \"font-weight: bold; text-align: right;\">6</td><td style = \"text-align: right;\">768662</td><td style = \"text-align: left;\">[83, 83, 83, 83]</td><td style = \"text-align: left;\">String31[&quot;Widowed&quot;, &quot;Widowed&quot;, &quot;Widowed&quot;, &quot;Widowed&quot;]</td></tr><tr><td class = \"rowNumber\" style = \"font-weight: bold; text-align: right;\">7</td><td style = \"text-align: right;\">941061</td><td style = \"text-align: left;\">[82, 82, 82, 82, 82, 82, 82, 82]</td><td style = \"text-align: left;\">String31[&quot;Widowed&quot;, &quot;Widowed&quot;, &quot;Widowed&quot;, &quot;Widowed&quot;, &quot;Widowed&quot;, &quot;Widowed&quot;, &quot;Widowed&quot;, &quot;Widowed&quot;]</td></tr><tr><td class = \"rowNumber\" style = \"font-weight: bold; text-align: right;\">8</td><td style = \"text-align: right;\">2250453</td><td style = \"text-align: left;\">[81, 81, 81, 81, 81, 81, 81, 81, 81, 81, 81, 81, 81, 81, 81, 81]</td><td style = \"text-align: left;\">String31[&quot;Widowed&quot;, &quot;Widowed&quot;, &quot;Widowed&quot;, &quot;Widowed&quot;, &quot;Widowed&quot;, &quot;Widowed&quot;, &quot;Widowed&quot;, &quot;Widowed&quot;, &quot;Widowed&quot;, &quot;Widowed&quot;, &quot;Widowed&quot;, &quot;Widowed&quot;, &quot;Widowed&quot;, &quot;Widowed&quot;, &quot;Widowed&quot;, &quot;Widowed&quot;]</td></tr><tr><td class = \"rowNumber\" style = \"font-weight: bold; text-align: right;\">9</td><td style = \"text-align: right;\">1487433</td><td style = \"text-align: left;\">[80, 80, 80, 80, 80, 80, 80, 80, 80, 80]</td><td style = \"text-align: left;\">String31[&quot;Widowed&quot;, &quot;Widowed&quot;, &quot;Widowed&quot;, &quot;Widowed&quot;, &quot;Widowed&quot;, &quot;Widowed&quot;, &quot;Widowed&quot;, &quot;Widowed&quot;, &quot;Widowed&quot;, &quot;Widowed&quot;]</td></tr><tr><td class = \"rowNumber\" style = \"font-weight: bold; text-align: right;\">10</td><td style = \"text-align: right;\">950700</td><td style = \"text-align: left;\">[79, 79, 79, 79, 79, 79, 79, 79]</td><td style = \"text-align: left;\">String31[&quot;Widowed&quot;, &quot;Widowed&quot;, &quot;Widowed&quot;, &quot;Widowed&quot;, &quot;Widowed&quot;, &quot;Widowed&quot;, &quot;Widowed&quot;, &quot;Widowed&quot;]</td></tr><tr><td class = \"rowNumber\" style = \"font-weight: bold; text-align: right;\">11</td><td style = \"text-align: right;\">2963570</td><td style = \"text-align: left;\">[78, 78, 78, 78, 78, 78, 78, 78, 78, 78, 78, 78, 78, 78, 78]</td><td style = \"text-align: left;\">String31[&quot;Widowed&quot;, &quot;Widowed&quot;, &quot;Widowed&quot;, &quot;Widowed&quot;, &quot;Widowed&quot;, &quot;Widowed&quot;, &quot;Widowed&quot;, &quot;Widowed&quot;, &quot;Widowed&quot;, &quot;Widowed&quot;, &quot;Widowed&quot;, &quot;Widowed&quot;, &quot;Widowed&quot;, &quot;Widowed&quot;, &quot;Widowed&quot;]</td></tr><tr><td class = \"rowNumber\" style = \"font-weight: bold; text-align: right;\">12</td><td style = \"text-align: right;\">2289260</td><td style = \"text-align: left;\">[77, 77, 77, 77, 77, 77, 77, 77, 77, 77, 77, 77, 77, 77]</td><td style = \"text-align: left;\">String31[&quot;Widowed&quot;, &quot;Widowed&quot;, &quot;Widowed&quot;, &quot;Widowed&quot;, &quot;Widowed&quot;, &quot;Widowed&quot;, &quot;Widowed&quot;, &quot;Widowed&quot;, &quot;Widowed&quot;, &quot;Widowed&quot;, &quot;Widowed&quot;, &quot;Widowed&quot;, &quot;Widowed&quot;, &quot;Widowed&quot;]</td></tr><tr><td class = \"rowNumber\" style = \"font-weight: bold; text-align: right;\">13</td><td style = \"text-align: right;\">4719896</td><td style = \"text-align: left;\">[76, 76, 76, 76, 76, 76, 76, 76, 76, 76  …  76, 76, 76, 76, 76, 76, 76, 76, 76, 76]</td><td style = \"text-align: left;\">String31[&quot;Widowed&quot;, &quot;Widowed&quot;, &quot;Widowed&quot;, &quot;Widowed&quot;, &quot;Widowed&quot;, &quot;Widowed&quot;, &quot;Widowed&quot;, &quot;Widowed&quot;, &quot;Widowed&quot;, &quot;Widowed&quot;  …  &quot;Widowed&quot;, &quot;Widowed&quot;, &quot;Widowed&quot;, &quot;Widowed&quot;, &quot;Widowed&quot;, &quot;Widowed&quot;, &quot;Widowed&quot;, &quot;Widowed&quot;, &quot;Widowed&quot;, &quot;Widowed&quot;]</td></tr><tr><td style = \"text-align: right;\">&vellip;</td><td style = \"text-align: right;\">&vellip;</td><td style = \"text-align: right;\">&vellip;</td><td style = \"text-align: right;\">&vellip;</td></tr><tr><td class = \"rowNumber\" style = \"font-weight: bold; text-align: right;\">58</td><td style = \"text-align: right;\">1713165</td><td style = \"text-align: left;\">[31, 31, 31, 31, 31, 31, 31, 31, 31, 31]</td><td style = \"text-align: left;\">String31[&quot;Widowed&quot;, &quot;Widowed&quot;, &quot;Widowed&quot;, &quot;Widowed&quot;, &quot;Widowed&quot;, &quot;Widowed&quot;, &quot;Widowed&quot;, &quot;Widowed&quot;, &quot;Widowed&quot;, &quot;Widowed&quot;]</td></tr><tr><td class = \"rowNumber\" style = \"font-weight: bold; text-align: right;\">59</td><td style = \"text-align: right;\">506511</td><td style = \"text-align: left;\">[30, 30, 30, 30]</td><td style = \"text-align: left;\">String31[&quot;Widowed&quot;, &quot;Widowed&quot;, &quot;Widowed&quot;, &quot;Widowed&quot;]</td></tr><tr><td class = \"rowNumber\" style = \"font-weight: bold; text-align: right;\">60</td><td style = \"text-align: right;\">228884</td><td style = \"text-align: left;\">[29, 29]</td><td style = \"text-align: left;\">String31[&quot;Widowed&quot;, &quot;Widowed&quot;]</td></tr><tr><td class = \"rowNumber\" style = \"font-weight: bold; text-align: right;\">61</td><td style = \"text-align: right;\">662638</td><td style = \"text-align: left;\">[28, 28, 28, 28]</td><td style = \"text-align: left;\">String31[&quot;Widowed&quot;, &quot;Widowed&quot;, &quot;Widowed&quot;, &quot;Widowed&quot;]</td></tr><tr><td class = \"rowNumber\" style = \"font-weight: bold; text-align: right;\">62</td><td style = \"text-align: right;\">276855</td><td style = \"text-align: left;\">[27, 27]</td><td style = \"text-align: left;\">String31[&quot;Widowed&quot;, &quot;Widowed&quot;]</td></tr><tr><td class = \"rowNumber\" style = \"font-weight: bold; text-align: right;\">63</td><td style = \"text-align: right;\">350373</td><td style = \"text-align: left;\">[26, 26, 26]</td><td style = \"text-align: left;\">String31[&quot;Widowed&quot;, &quot;Widowed&quot;, &quot;Widowed&quot;]</td></tr><tr><td class = \"rowNumber\" style = \"font-weight: bold; text-align: right;\">64</td><td style = \"text-align: right;\">149875</td><td style = \"text-align: left;\">[25]</td><td style = \"text-align: left;\">String31[&quot;Widowed&quot;]</td></tr><tr><td class = \"rowNumber\" style = \"font-weight: bold; text-align: right;\">65</td><td style = \"text-align: right;\">170302</td><td style = \"text-align: left;\">[23]</td><td style = \"text-align: left;\">String31[&quot;Widowed&quot;]</td></tr><tr><td class = \"rowNumber\" style = \"font-weight: bold; text-align: right;\">66</td><td style = \"text-align: right;\">432282</td><td style = \"text-align: left;\">[22, 22]</td><td style = \"text-align: left;\">String31[&quot;Widowed&quot;, &quot;Widowed&quot;]</td></tr><tr><td class = \"rowNumber\" style = \"font-weight: bold; text-align: right;\">67</td><td style = \"text-align: right;\">57827</td><td style = \"text-align: left;\">[21]</td><td style = \"text-align: left;\">String31[&quot;Widowed&quot;]</td></tr><tr><td class = \"rowNumber\" style = \"font-weight: bold; text-align: right;\">68</td><td style = \"text-align: right;\">195981</td><td style = \"text-align: left;\">[18]</td><td style = \"text-align: left;\">String31[&quot;Widowed&quot;]</td></tr><tr><td class = \"rowNumber\" style = \"font-weight: bold; text-align: right;\">69</td><td style = \"text-align: right;\">27251</td><td style = \"text-align: left;\">[17]</td><td style = \"text-align: left;\">String31[&quot;Widowed&quot;]</td></tr></tbody></table></div>"
      ],
      "text/latex": [
       "\\begin{tabular}{r|ccc}\n",
       "\t& total & age & \\\\\n",
       "\t\\hline\n",
       "\t& Int64 & GroupCol… & \\\\\n",
       "\t\\hline\n",
       "\t1 & 1027607 & [90, 90, 90, 90, 90, 90, 90] & $\\dots$ \\\\\n",
       "\t2 & 141646 & [88] & $\\dots$ \\\\\n",
       "\t3 & 187633 & [87, 87] & $\\dots$ \\\\\n",
       "\t4 & 625700 & [85, 85, 85, 85] & $\\dots$ \\\\\n",
       "\t5 & 1376282 & [84, 84, 84, 84, 84, 84, 84, 84] & $\\dots$ \\\\\n",
       "\t6 & 768662 & [83, 83, 83, 83] & $\\dots$ \\\\\n",
       "\t7 & 941061 & [82, 82, 82, 82, 82, 82, 82, 82] & $\\dots$ \\\\\n",
       "\t8 & 2250453 & [81, 81, 81, 81, 81, 81, 81, 81, 81, 81, 81, 81, 81, 81, 81, 81] & $\\dots$ \\\\\n",
       "\t9 & 1487433 & [80, 80, 80, 80, 80, 80, 80, 80, 80, 80] & $\\dots$ \\\\\n",
       "\t10 & 950700 & [79, 79, 79, 79, 79, 79, 79, 79] & $\\dots$ \\\\\n",
       "\t11 & 2963570 & [78, 78, 78, 78, 78, 78, 78, 78, 78, 78, 78, 78, 78, 78, 78] & $\\dots$ \\\\\n",
       "\t12 & 2289260 & [77, 77, 77, 77, 77, 77, 77, 77, 77, 77, 77, 77, 77, 77] & $\\dots$ \\\\\n",
       "\t13 & 4719896 & [76, 76, 76, 76, 76, 76, 76, 76, 76, 76  …  76, 76, 76, 76, 76, 76, 76, 76, 76, 76] & $\\dots$ \\\\\n",
       "\t14 & 4204429 & [75, 75, 75, 75, 75, 75, 75, 75, 75, 75  …  75, 75, 75, 75, 75, 75, 75, 75, 75, 75] & $\\dots$ \\\\\n",
       "\t15 & 4576751 & [74, 74, 74, 74, 74, 74, 74, 74, 74, 74  …  74, 74, 74, 74, 74, 74, 74, 74, 74, 74] & $\\dots$ \\\\\n",
       "\t16 & 4126939 & [73, 73, 73, 73, 73, 73, 73, 73, 73, 73  …  73, 73, 73, 73, 73, 73, 73, 73, 73, 73] & $\\dots$ \\\\\n",
       "\t17 & 5794232 & [72, 72, 72, 72, 72, 72, 72, 72, 72, 72  …  72, 72, 72, 72, 72, 72, 72, 72, 72, 72] & $\\dots$ \\\\\n",
       "\t18 & 5675303 & [71, 71, 71, 71, 71, 71, 71, 71, 71, 71  …  71, 71, 71, 71, 71, 71, 71, 71, 71, 71] & $\\dots$ \\\\\n",
       "\t19 & 6002187 & [70, 70, 70, 70, 70, 70, 70, 70, 70, 70  …  70, 70, 70, 70, 70, 70, 70, 70, 70, 70] & $\\dots$ \\\\\n",
       "\t20 & 6339824 & [69, 69, 69, 69, 69, 69, 69, 69, 69, 69  …  69, 69, 69, 69, 69, 69, 69, 69, 69, 69] & $\\dots$ \\\\\n",
       "\t21 & 7958720 & [68, 68, 68, 68, 68, 68, 68, 68, 68, 68  …  68, 68, 68, 68, 68, 68, 68, 68, 68, 68] & $\\dots$ \\\\\n",
       "\t22 & 8394766 & [67, 67, 67, 67, 67, 67, 67, 67, 67, 67  …  67, 67, 67, 67, 67, 67, 67, 67, 67, 67] & $\\dots$ \\\\\n",
       "\t23 & 9230995 & [66, 66, 66, 66, 66, 66, 66, 66, 66, 66  …  66, 66, 66, 66, 66, 66, 66, 66, 66, 66] & $\\dots$ \\\\\n",
       "\t24 & 11149025 & [65, 65, 65, 65, 65, 65, 65, 65, 65, 65  …  65, 65, 65, 65, 65, 65, 65, 65, 65, 65] & $\\dots$ \\\\\n",
       "\t25 & 10588063 & [64, 64, 64, 64, 64, 64, 64, 64, 64, 64  …  64, 64, 64, 64, 64, 64, 64, 64, 64, 64] & $\\dots$ \\\\\n",
       "\t26 & 7425796 & [63, 63, 63, 63, 63, 63, 63, 63, 63, 63  …  63, 63, 63, 63, 63, 63, 63, 63, 63, 63] & $\\dots$ \\\\\n",
       "\t27 & 9108820 & [62, 62, 62, 62, 62, 62, 62, 62, 62, 62  …  62, 62, 62, 62, 62, 62, 62, 62, 62, 62] & $\\dots$ \\\\\n",
       "\t28 & 9123585 & [61, 61, 61, 61, 61, 61, 61, 61, 61, 61  …  61, 61, 61, 61, 61, 61, 61, 61, 61, 61] & $\\dots$ \\\\\n",
       "\t29 & 7574046 & [60, 60, 60, 60, 60, 60, 60, 60, 60, 60  …  60, 60, 60, 60, 60, 60, 60, 60, 60, 60] & $\\dots$ \\\\\n",
       "\t30 & 9287167 & [59, 59, 59, 59, 59, 59, 59, 59, 59, 59  …  59, 59, 59, 59, 59, 59, 59, 59, 59, 59] & $\\dots$ \\\\\n",
       "\t$\\dots$ & $\\dots$ & $\\dots$ &  \\\\\n",
       "\\end{tabular}\n"
      ],
      "text/plain": [
       "\u001b[1m69×3 DataFrame\u001b[0m\n",
       "\u001b[1m Row \u001b[0m│\u001b[1m total   \u001b[0m\u001b[1m age                               \u001b[0m\u001b[1m marital_status             \u001b[0m ⋯\n",
       "     │\u001b[90m Int64   \u001b[0m\u001b[90m GroupCol…                         \u001b[0m\u001b[90m GroupColumnAr…             \u001b[0m ⋯\n",
       "─────┼──────────────────────────────────────────────────────────────────────────\n",
       "   1 │ 1027607  [90, 90, 90, 90, 90, 90, 90]       String31[\"Widowed\", \"Widowe ⋯\n",
       "   2 │  141646  [88]                               String31[\"Widowed\"]\n",
       "   3 │  187633  [87, 87]                           String31[\"Widowed\", \"Widowe\n",
       "   4 │  625700  [85, 85, 85, 85]                   String31[\"Widowed\", \"Widowe\n",
       "   5 │ 1376282  [84, 84, 84, 84, 84, 84, 84, 84]   String31[\"Widowed\", \"Widowe ⋯\n",
       "   6 │  768662  [83, 83, 83, 83]                   String31[\"Widowed\", \"Widowe\n",
       "   7 │  941061  [82, 82, 82, 82, 82, 82, 82, 82]   String31[\"Widowed\", \"Widowe\n",
       "   8 │ 2250453  [81, 81, 81, 81, 81, 81, 81, 81,…  String31[\"Widowed\", \"Widowe\n",
       "   9 │ 1487433  [80, 80, 80, 80, 80, 80, 80, 80,…  String31[\"Widowed\", \"Widowe ⋯\n",
       "  10 │  950700  [79, 79, 79, 79, 79, 79, 79, 79]   String31[\"Widowed\", \"Widowe\n",
       "  11 │ 2963570  [78, 78, 78, 78, 78, 78, 78, 78,…  String31[\"Widowed\", \"Widowe\n",
       "  ⋮  │    ⋮                     ⋮                                  ⋮           ⋱\n",
       "  60 │  228884  [29, 29]                           String31[\"Widowed\", \"Widowe\n",
       "  61 │  662638  [28, 28, 28, 28]                   String31[\"Widowed\", \"Widowe ⋯\n",
       "  62 │  276855  [27, 27]                           String31[\"Widowed\", \"Widowe\n",
       "  63 │  350373  [26, 26, 26]                       String31[\"Widowed\", \"Widowe\n",
       "  64 │  149875  [25]                               String31[\"Widowed\"]\n",
       "  65 │  170302  [23]                               String31[\"Widowed\"]         ⋯\n",
       "  66 │  432282  [22, 22]                           String31[\"Widowed\", \"Widowe\n",
       "  67 │   57827  [21]                               String31[\"Widowed\"]\n",
       "  68 │  195981  [18]                               String31[\"Widowed\"]\n",
       "  69 │   27251  [17]                               String31[\"Widowed\"]         ⋯\n",
       "\u001b[36m                                                    1 column and 48 rows omitted\u001b[0m"
      ]
     },
     "execution_count": 166,
     "metadata": {},
     "output_type": "execute_result"
    }
   ],
   "source": [
    "wd = df |> @filter(strip(_.marital_status,[' ']) == \"Widowed\") |> DataFrame\n",
    "\n",
    "df2 = wd |>\n",
    "    @groupby(_.age) |>\n",
    "    @map({total=sum(_.fnlwgt), age=_.age, marital_status = _.marital_status}) |>\n",
    "    @orderby_descending(_.age) |>\n",
    "    DataFrame"
   ]
  },
  {
   "cell_type": "code",
   "execution_count": 167,
   "id": "d99bd33f-e9a1-40d0-b0a7-c2bf4d02e573",
   "metadata": {},
   "outputs": [
    {
     "data": {
      "text/plain": [
       "69-element Vector{Int64}:\n",
       " 90\n",
       " 88\n",
       " 87\n",
       " 85\n",
       " 84\n",
       " 83\n",
       " 82\n",
       " 81\n",
       " 80\n",
       " 79\n",
       " 78\n",
       " 77\n",
       " 76\n",
       "  ⋮\n",
       " 31\n",
       " 30\n",
       " 29\n",
       " 28\n",
       " 27\n",
       " 26\n",
       " 25\n",
       " 23\n",
       " 22\n",
       " 21\n",
       " 18\n",
       " 17"
      ]
     },
     "execution_count": 167,
     "metadata": {},
     "output_type": "execute_result"
    }
   ],
   "source": [
    "q = [df2[i,:total] for i in 1:size(df2,1)]\n",
    "p = getindex.([df2[i,:age] |> @unique() |> collect for i in 1:size(df2,1)],1)"
   ]
  },
  {
   "cell_type": "code",
   "execution_count": 168,
   "id": "5257c9ad-7f91-4e2a-a82e-524e857d3015",
   "metadata": {},
   "outputs": [
    {
     "data": {
      "image/png": "[encoded data removed]",
      "text/html": [
       "<img width=600 height=450 style='object-fit: contain; height: auto;' src=\"data:image/png;base64, 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\"/>"
      ]
     },
     "execution_count": 168,
     "metadata": {},
     "output_type": "execute_result"
    }
   ],
   "source": [
    "CairoMakie.barplot(p,q)"
   ]
  },
  {
   "cell_type": "code",
   "execution_count": null,
   "id": "beb49e8d-c802-4c3c-9172-03ccf1083c20",
   "metadata": {},
   "outputs": [],
   "source": []
  }
 ],
 "metadata": {
  "kernelspec": {
   "display_name": "Julia 1.10.4",
   "language": "julia",
   "name": "julia-1.10"
  },
  "language_info": {
   "file_extension": ".jl",
   "mimetype": "application/julia",
   "name": "julia",
   "version": "1.10.4"
  }
 },
 "nbformat": 4,
 "nbformat_minor": 5
}
