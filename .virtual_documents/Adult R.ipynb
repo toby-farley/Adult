data <- read.csv("adult_spread.csv")
print(data)


df = data[, c("age", "education_num", "capital_gain","capital_loss","hours_per_week","Federal_gov","State_gov","Local_gov","Private")]


pairs(df, labels = colnames(df), main = "Pairs matrix", pch = 21, 
    bg = c("red", "green3", "blue", "yellow")[unclass(df$Day.Calls)], upper.panel = NULL)




