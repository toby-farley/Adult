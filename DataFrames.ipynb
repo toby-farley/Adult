{
 "cells": [
  {
   "cell_type": "code",
   "execution_count": 2,
   "id": "e74628f8-7253-4182-bb61-4f9679529dec",
   "metadata": {},
   "outputs": [],
   "source": [
    "using CSV\n",
    "using DataFrames"
   ]
  },
  {
   "cell_type": "code",
   "execution_count": 4,
   "id": "86bec10c-d3da-4ab1-9826-eecf565cd0fe",
   "metadata": {},
   "outputs": [
    {
     "data": {
      "text/html": [
       "<div><div style = \"float: left;\"><span>15×7 DataFrame</span></div><div style = \"clear: both;\"></div></div><div class = \"data-frame\" style = \"overflow-x: scroll;\"><table class = \"data-frame\" style = \"margin-bottom: 6px;\"><thead><tr class = \"header\"><th class = \"rowNumber\" style = \"font-weight: bold; text-align: right;\">Row</th><th style = \"text-align: left;\">variable</th><th style = \"text-align: left;\">mean</th><th style = \"text-align: left;\">min</th><th style = \"text-align: left;\">median</th><th style = \"text-align: left;\">max</th><th style = \"text-align: left;\">nmissing</th><th style = \"text-align: left;\">eltype</th></tr><tr class = \"subheader headerLastRow\"><th class = \"rowNumber\" style = \"font-weight: bold; text-align: right;\"></th><th title = \"Symbol\" style = \"text-align: left;\">Symbol</th><th title = \"Union{Nothing, Float64}\" style = \"text-align: left;\">Union…</th><th title = \"Any\" style = \"text-align: left;\">Any</th><th title = \"Union{Nothing, Float64}\" style = \"text-align: left;\">Union…</th><th title = \"Any\" style = \"text-align: left;\">Any</th><th title = \"Int64\" style = \"text-align: left;\">Int64</th><th title = \"DataType\" style = \"text-align: left;\">DataType</th></tr></thead><tbody><tr><td class = \"rowNumber\" style = \"font-weight: bold; text-align: right;\">1</td><td style = \"text-align: left;\">age</td><td style = \"text-align: left;\">38.6436</td><td style = \"text-align: left;\">17</td><td style = \"text-align: left;\">37.0</td><td style = \"text-align: left;\">90</td><td style = \"text-align: right;\">0</td><td style = \"text-align: left;\">Int64</td></tr><tr><td class = \"rowNumber\" style = \"font-weight: bold; text-align: right;\">2</td><td style = \"text-align: left;\">workclass</td><td style = \"font-style: italic; text-align: left;\"></td><td style = \"text-align: left;\">?</td><td style = \"font-style: italic; text-align: left;\"></td><td style = \"text-align: left;\">Without-pay</td><td style = \"text-align: right;\">0</td><td style = \"text-align: left;\">String31</td></tr><tr><td class = \"rowNumber\" style = \"font-weight: bold; text-align: right;\">3</td><td style = \"text-align: left;\">fnlwgt</td><td style = \"text-align: left;\">1.89664e5</td><td style = \"text-align: left;\">12285</td><td style = \"text-align: left;\">1.78144e5</td><td style = \"text-align: left;\">1490400</td><td style = \"text-align: right;\">0</td><td style = \"text-align: left;\">Int64</td></tr><tr><td class = \"rowNumber\" style = \"font-weight: bold; text-align: right;\">4</td><td style = \"text-align: left;\">education</td><td style = \"font-style: italic; text-align: left;\"></td><td style = \"text-align: left;\">10th</td><td style = \"font-style: italic; text-align: left;\"></td><td style = \"text-align: left;\">Some-college</td><td style = \"text-align: right;\">0</td><td style = \"text-align: left;\">String15</td></tr><tr><td class = \"rowNumber\" style = \"font-weight: bold; text-align: right;\">5</td><td style = \"text-align: left;\">education_num</td><td style = \"text-align: left;\">10.0781</td><td style = \"text-align: left;\">1</td><td style = \"text-align: left;\">10.0</td><td style = \"text-align: left;\">16</td><td style = \"text-align: right;\">0</td><td style = \"text-align: left;\">Int64</td></tr><tr><td class = \"rowNumber\" style = \"font-weight: bold; text-align: right;\">6</td><td style = \"text-align: left;\">marital_status</td><td style = \"font-style: italic; text-align: left;\"></td><td style = \"text-align: left;\">Divorced</td><td style = \"font-style: italic; text-align: left;\"></td><td style = \"text-align: left;\">Widowed</td><td style = \"text-align: right;\">0</td><td style = \"text-align: left;\">String31</td></tr><tr><td class = \"rowNumber\" style = \"font-weight: bold; text-align: right;\">7</td><td style = \"text-align: left;\">occupation</td><td style = \"font-style: italic; text-align: left;\"></td><td style = \"text-align: left;\">?</td><td style = \"font-style: italic; text-align: left;\"></td><td style = \"text-align: left;\">Transport-moving</td><td style = \"text-align: right;\">0</td><td style = \"text-align: left;\">String31</td></tr><tr><td class = \"rowNumber\" style = \"font-weight: bold; text-align: right;\">8</td><td style = \"text-align: left;\">relationship</td><td style = \"font-style: italic; text-align: left;\"></td><td style = \"text-align: left;\">Husband</td><td style = \"font-style: italic; text-align: left;\"></td><td style = \"text-align: left;\">Wife</td><td style = \"text-align: right;\">0</td><td style = \"text-align: left;\">String15</td></tr><tr><td class = \"rowNumber\" style = \"font-weight: bold; text-align: right;\">9</td><td style = \"text-align: left;\">race</td><td style = \"font-style: italic; text-align: left;\"></td><td style = \"text-align: left;\">Amer-Indian-Eskimo</td><td style = \"font-style: italic; text-align: left;\"></td><td style = \"text-align: left;\">White</td><td style = \"text-align: right;\">0</td><td style = \"text-align: left;\">String31</td></tr><tr><td class = \"rowNumber\" style = \"font-weight: bold; text-align: right;\">10</td><td style = \"text-align: left;\">sex</td><td style = \"font-style: italic; text-align: left;\"></td><td style = \"text-align: left;\">Female</td><td style = \"font-style: italic; text-align: left;\"></td><td style = \"text-align: left;\">Male</td><td style = \"text-align: right;\">0</td><td style = \"text-align: left;\">String7</td></tr><tr><td class = \"rowNumber\" style = \"font-weight: bold; text-align: right;\">11</td><td style = \"text-align: left;\">capital_gain</td><td style = \"text-align: left;\">1079.07</td><td style = \"text-align: left;\">0</td><td style = \"text-align: left;\">0.0</td><td style = \"text-align: left;\">99999</td><td style = \"text-align: right;\">0</td><td style = \"text-align: left;\">Int64</td></tr><tr><td class = \"rowNumber\" style = \"font-weight: bold; text-align: right;\">12</td><td style = \"text-align: left;\">capital_loss</td><td style = \"text-align: left;\">87.5023</td><td style = \"text-align: left;\">0</td><td style = \"text-align: left;\">0.0</td><td style = \"text-align: left;\">4356</td><td style = \"text-align: right;\">0</td><td style = \"text-align: left;\">Int64</td></tr><tr><td class = \"rowNumber\" style = \"font-weight: bold; text-align: right;\">13</td><td style = \"text-align: left;\">hours_per_week</td><td style = \"text-align: left;\">40.4224</td><td style = \"text-align: left;\">1</td><td style = \"text-align: left;\">40.0</td><td style = \"text-align: left;\">99</td><td style = \"text-align: right;\">0</td><td style = \"text-align: left;\">Int64</td></tr><tr><td class = \"rowNumber\" style = \"font-weight: bold; text-align: right;\">14</td><td style = \"text-align: left;\">native_country</td><td style = \"font-style: italic; text-align: left;\"></td><td style = \"text-align: left;\">?</td><td style = \"font-style: italic; text-align: left;\"></td><td style = \"text-align: left;\">Yugoslavia</td><td style = \"text-align: right;\">0</td><td style = \"text-align: left;\">String31</td></tr><tr><td class = \"rowNumber\" style = \"font-weight: bold; text-align: right;\">15</td><td style = \"text-align: left;\">class</td><td style = \"font-style: italic; text-align: left;\"></td><td style = \"text-align: left;\">&lt;=50K</td><td style = \"font-style: italic; text-align: left;\"></td><td style = \"text-align: left;\">&gt;50K</td><td style = \"text-align: right;\">0</td><td style = \"text-align: left;\">String7</td></tr></tbody></table></div>"
      ],
      "text/latex": [
       "\\begin{tabular}{r|ccccccc}\n",
       "\t& variable & mean & min & median & max & nmissing & \\\\\n",
       "\t\\hline\n",
       "\t& Symbol & Union… & Any & Union… & Any & Int64 & \\\\\n",
       "\t\\hline\n",
       "\t1 & age & 38.6436 & 17 & 37.0 & 90 & 0 & $\\dots$ \\\\\n",
       "\t2 & workclass &  & ? &  & Without-pay & 0 & $\\dots$ \\\\\n",
       "\t3 & fnlwgt & 1.89664e5 & 12285 & 1.78144e5 & 1490400 & 0 & $\\dots$ \\\\\n",
       "\t4 & education &  & 10th &  & Some-college & 0 & $\\dots$ \\\\\n",
       "\t5 & education\\_num & 10.0781 & 1 & 10.0 & 16 & 0 & $\\dots$ \\\\\n",
       "\t6 & marital\\_status &  & Divorced &  & Widowed & 0 & $\\dots$ \\\\\n",
       "\t7 & occupation &  & ? &  & Transport-moving & 0 & $\\dots$ \\\\\n",
       "\t8 & relationship &  & Husband &  & Wife & 0 & $\\dots$ \\\\\n",
       "\t9 & race &  & Amer-Indian-Eskimo &  & White & 0 & $\\dots$ \\\\\n",
       "\t10 & sex &  & Female &  & Male & 0 & $\\dots$ \\\\\n",
       "\t11 & capital\\_gain & 1079.07 & 0 & 0.0 & 99999 & 0 & $\\dots$ \\\\\n",
       "\t12 & capital\\_loss & 87.5023 & 0 & 0.0 & 4356 & 0 & $\\dots$ \\\\\n",
       "\t13 & hours\\_per\\_week & 40.4224 & 1 & 40.0 & 99 & 0 & $\\dots$ \\\\\n",
       "\t14 & native\\_country &  & ? &  & Yugoslavia & 0 & $\\dots$ \\\\\n",
       "\t15 & class &  & <=50K &  & >50K & 0 & $\\dots$ \\\\\n",
       "\\end{tabular}\n"
      ],
      "text/plain": [
       "\u001b[1m15×7 DataFrame\u001b[0m\n",
       "\u001b[1m Row \u001b[0m│\u001b[1m variable       \u001b[0m\u001b[1m mean      \u001b[0m\u001b[1m min                \u001b[0m\u001b[1m median    \u001b[0m\u001b[1m max          \u001b[0m ⋯\n",
       "     │\u001b[90m Symbol         \u001b[0m\u001b[90m Union…    \u001b[0m\u001b[90m Any                \u001b[0m\u001b[90m Union…    \u001b[0m\u001b[90m Any          \u001b[0m ⋯\n",
       "─────┼──────────────────────────────────────────────────────────────────────────\n",
       "   1 │ age             38.6436    17                  37.0       90            ⋯\n",
       "   2 │ workclass      \u001b[90m           \u001b[0m ?                  \u001b[90m           \u001b[0m Without-pay\n",
       "   3 │ fnlwgt          1.89664e5  12285               1.78144e5  1490400\n",
       "   4 │ education      \u001b[90m           \u001b[0m 10th               \u001b[90m           \u001b[0m Some-college\n",
       "   5 │ education_num   10.0781    1                   10.0       16            ⋯\n",
       "   6 │ marital_status \u001b[90m           \u001b[0m Divorced           \u001b[90m           \u001b[0m Widowed\n",
       "   7 │ occupation     \u001b[90m           \u001b[0m ?                  \u001b[90m           \u001b[0m Transport-mov\n",
       "   8 │ relationship   \u001b[90m           \u001b[0m Husband            \u001b[90m           \u001b[0m Wife\n",
       "   9 │ race           \u001b[90m           \u001b[0m Amer-Indian-Eskimo \u001b[90m           \u001b[0m White         ⋯\n",
       "  10 │ sex            \u001b[90m           \u001b[0m Female             \u001b[90m           \u001b[0m Male\n",
       "  11 │ capital_gain    1079.07    0                   0.0        99999\n",
       "  12 │ capital_loss    87.5023    0                   0.0        4356\n",
       "  13 │ hours_per_week  40.4224    1                   40.0       99            ⋯\n",
       "  14 │ native_country \u001b[90m           \u001b[0m ?                  \u001b[90m           \u001b[0m Yugoslavia\n",
       "  15 │ class          \u001b[90m           \u001b[0m <=50K              \u001b[90m           \u001b[0m >50K\n",
       "\u001b[36m                                                               3 columns omitted\u001b[0m"
      ]
     },
     "execution_count": 4,
     "metadata": {},
     "output_type": "execute_result"
    }
   ],
   "source": [
    "df = DataFrame(CSV.File(\"Adult.csv\"))\n",
    "describe(df)"
   ]
  },
  {
   "cell_type": "code",
   "execution_count": 5,
   "id": "e2c0a562-7127-4773-9b07-59d6cd176740",
   "metadata": {},
   "outputs": [
    {
     "data": {
      "text/html": [
       "<div><div style = \"float: left;\"><span>15×2 DataFrame</span></div><div style = \"clear: both;\"></div></div><div class = \"data-frame\" style = \"overflow-x: scroll;\"><table class = \"data-frame\" style = \"margin-bottom: 6px;\"><thead><tr class = \"header\"><th class = \"rowNumber\" style = \"font-weight: bold; text-align: right;\">Row</th><th style = \"text-align: left;\">variable</th><th style = \"text-align: left;\">extrema</th></tr><tr class = \"subheader headerLastRow\"><th class = \"rowNumber\" style = \"font-weight: bold; text-align: right;\"></th><th title = \"Symbol\" style = \"text-align: left;\">Symbol</th><th title = \"Tuple{Any, Any}\" style = \"text-align: left;\">Tuple…</th></tr></thead><tbody><tr><td class = \"rowNumber\" style = \"font-weight: bold; text-align: right;\">1</td><td style = \"text-align: left;\">age</td><td style = \"text-align: left;\">(17, 90)</td></tr><tr><td class = \"rowNumber\" style = \"font-weight: bold; text-align: right;\">2</td><td style = \"text-align: left;\">workclass</td><td style = \"text-align: left;\">(String31(&quot;?&quot;), String31(&quot;Without-pay&quot;))</td></tr><tr><td class = \"rowNumber\" style = \"font-weight: bold; text-align: right;\">3</td><td style = \"text-align: left;\">fnlwgt</td><td style = \"text-align: left;\">(12285, 1490400)</td></tr><tr><td class = \"rowNumber\" style = \"font-weight: bold; text-align: right;\">4</td><td style = \"text-align: left;\">education</td><td style = \"text-align: left;\">(String15(&quot;10th&quot;), String15(&quot;Some-college&quot;))</td></tr><tr><td class = \"rowNumber\" style = \"font-weight: bold; text-align: right;\">5</td><td style = \"text-align: left;\">education_num</td><td style = \"text-align: left;\">(1, 16)</td></tr><tr><td class = \"rowNumber\" style = \"font-weight: bold; text-align: right;\">6</td><td style = \"text-align: left;\">marital_status</td><td style = \"text-align: left;\">(String31(&quot;Divorced&quot;), String31(&quot;Widowed&quot;))</td></tr><tr><td class = \"rowNumber\" style = \"font-weight: bold; text-align: right;\">7</td><td style = \"text-align: left;\">occupation</td><td style = \"text-align: left;\">(String31(&quot;?&quot;), String31(&quot;Transport-moving&quot;))</td></tr><tr><td class = \"rowNumber\" style = \"font-weight: bold; text-align: right;\">8</td><td style = \"text-align: left;\">relationship</td><td style = \"text-align: left;\">(String15(&quot;Husband&quot;), String15(&quot;Wife&quot;))</td></tr><tr><td class = \"rowNumber\" style = \"font-weight: bold; text-align: right;\">9</td><td style = \"text-align: left;\">race</td><td style = \"text-align: left;\">(String31(&quot;Amer-Indian-Eskimo&quot;), String31(&quot;White&quot;))</td></tr><tr><td class = \"rowNumber\" style = \"font-weight: bold; text-align: right;\">10</td><td style = \"text-align: left;\">sex</td><td style = \"text-align: left;\">(String7(&quot;Female&quot;), String7(&quot;Male&quot;))</td></tr><tr><td class = \"rowNumber\" style = \"font-weight: bold; text-align: right;\">11</td><td style = \"text-align: left;\">capital_gain</td><td style = \"text-align: left;\">(0, 99999)</td></tr><tr><td class = \"rowNumber\" style = \"font-weight: bold; text-align: right;\">12</td><td style = \"text-align: left;\">capital_loss</td><td style = \"text-align: left;\">(0, 4356)</td></tr><tr><td class = \"rowNumber\" style = \"font-weight: bold; text-align: right;\">13</td><td style = \"text-align: left;\">hours_per_week</td><td style = \"text-align: left;\">(1, 99)</td></tr><tr><td class = \"rowNumber\" style = \"font-weight: bold; text-align: right;\">14</td><td style = \"text-align: left;\">native_country</td><td style = \"text-align: left;\">(String31(&quot;?&quot;), String31(&quot;Yugoslavia&quot;))</td></tr><tr><td class = \"rowNumber\" style = \"font-weight: bold; text-align: right;\">15</td><td style = \"text-align: left;\">class</td><td style = \"text-align: left;\">(String7(&quot;&lt;=50K&quot;), String7(&quot;&gt;50K&quot;))</td></tr></tbody></table></div>"
      ],
      "text/latex": [
       "\\begin{tabular}{r|cc}\n",
       "\t& variable & extrema\\\\\n",
       "\t\\hline\n",
       "\t& Symbol & Tuple…\\\\\n",
       "\t\\hline\n",
       "\t1 & age & (17, 90) \\\\\n",
       "\t2 & workclass & (\"?\", \"Without-pay\") \\\\\n",
       "\t3 & fnlwgt & (12285, 1490400) \\\\\n",
       "\t4 & education & (\"10th\", \"Some-college\") \\\\\n",
       "\t5 & education\\_num & (1, 16) \\\\\n",
       "\t6 & marital\\_status & (\"Divorced\", \"Widowed\") \\\\\n",
       "\t7 & occupation & (\"?\", \"Transport-moving\") \\\\\n",
       "\t8 & relationship & (\"Husband\", \"Wife\") \\\\\n",
       "\t9 & race & (\"Amer-Indian-Eskimo\", \"White\") \\\\\n",
       "\t10 & sex & (\"Female\", \"Male\") \\\\\n",
       "\t11 & capital\\_gain & (0, 99999) \\\\\n",
       "\t12 & capital\\_loss & (0, 4356) \\\\\n",
       "\t13 & hours\\_per\\_week & (1, 99) \\\\\n",
       "\t14 & native\\_country & (\"?\", \"Yugoslavia\") \\\\\n",
       "\t15 & class & (\"<=50K\", \">50K\") \\\\\n",
       "\\end{tabular}\n"
      ],
      "text/plain": [
       "\u001b[1m15×2 DataFrame\u001b[0m\n",
       "\u001b[1m Row \u001b[0m│\u001b[1m variable       \u001b[0m\u001b[1m extrema                           \u001b[0m\n",
       "     │\u001b[90m Symbol         \u001b[0m\u001b[90m Tuple…                            \u001b[0m\n",
       "─────┼───────────────────────────────────────────────────\n",
       "   1 │ age             (17, 90)\n",
       "   2 │ workclass       (String31(\"?\"), String31(\"Withou…\n",
       "   3 │ fnlwgt          (12285, 1490400)\n",
       "   4 │ education       (String15(\"10th\"), String15(\"Som…\n",
       "   5 │ education_num   (1, 16)\n",
       "   6 │ marital_status  (String31(\"Divorced\"), String31(…\n",
       "   7 │ occupation      (String31(\"?\"), String31(\"Transp…\n",
       "   8 │ relationship    (String15(\"Husband\"), String15(\"…\n",
       "   9 │ race            (String31(\"Amer-Indian-Eskimo\"),…\n",
       "  10 │ sex             (String7(\"Female\"), String7(\"Mal…\n",
       "  11 │ capital_gain    (0, 99999)\n",
       "  12 │ capital_loss    (0, 4356)\n",
       "  13 │ hours_per_week  (1, 99)\n",
       "  14 │ native_country  (String31(\"?\"), String31(\"Yugosl…\n",
       "  15 │ class           (String7(\"<=50K\"), String7(\">50K…"
      ]
     },
     "execution_count": 5,
     "metadata": {},
     "output_type": "execute_result"
    }
   ],
   "source": [
    "describe(df, extrema => :extrema)"
   ]
  },
  {
   "cell_type": "code",
   "execution_count": null,
   "id": "989d312a-7da0-4149-9e69-e8298b86698b",
   "metadata": {},
   "outputs": [],
   "source": []
  }
 ],
 "metadata": {
  "kernelspec": {
   "display_name": "Julia 1.10.4",
   "language": "julia",
   "name": "julia-1.10"
  },
  "language_info": {
   "file_extension": ".jl",
   "mimetype": "application/julia",
   "name": "julia",
   "version": "1.10.4"
  }
 },
 "nbformat": 4,
 "nbformat_minor": 5
}
